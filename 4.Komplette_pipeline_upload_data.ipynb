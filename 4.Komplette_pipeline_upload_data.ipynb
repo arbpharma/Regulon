{
 "cells": [
  {
   "cell_type": "code",
   "execution_count": 21,
   "id": "9bf09e43",
   "metadata": {},
   "outputs": [
    {
     "data": {
      "text/html": [
       "<style>.container { width:80% !important; }</style>"
      ],
      "text/plain": [
       "<IPython.core.display.HTML object>"
      ]
     },
     "metadata": {},
     "output_type": "display_data"
    }
   ],
   "source": [
    "from IPython.display import display, HTML\n",
    "display(HTML(\"<style>.container { width:80% !important; }</style>\"))\n",
    "import pandas as pd\n",
    "import requests as re\n",
    "from wikidata_client import WikidataClient\n",
    "from get_regulon_request import get_triplet_description, get_regulon_data \n",
    "import json\n",
    "import pickle"
   ]
  },
  {
   "cell_type": "code",
   "execution_count": 5,
   "id": "cdf8df0c",
   "metadata": {},
   "outputs": [],
   "source": [
    "with open(\"regulon_links.json\", \"r\") as file: \n",
    "    regulon_links = json.load(file)"
   ]
  },
  {
   "cell_type": "code",
   "execution_count": 6,
   "id": "f88a2c1a",
   "metadata": {},
   "outputs": [
    {
     "data": {
      "text/plain": [
       "{'DicF': 'https://regulondb.ccg.unam.mx/regulon/RDBECOLIPDC00328',\n",
       " 'DsrA': 'https://regulondb.ccg.unam.mx/regulon/RDBECOLIPDC00358',\n",
       " 'GcvB': 'https://regulondb.ccg.unam.mx/regulon/RDBECOLIPDC03275',\n",
       " 'McaS': 'https://regulondb.ccg.unam.mx/regulon/RDBECOLIPDC03411',\n",
       " 'GadY': 'https://regulondb.ccg.unam.mx/regulon/RDBECOLIPDC03413',\n",
       " 'MicF': 'https://regulondb.ccg.unam.mx/regulon/RDBECOLIPDC03508',\n",
       " 'OxyS': 'https://regulondb.ccg.unam.mx/regulon/RDBECOLIPDC03909',\n",
       " 'ChiX': 'https://regulondb.ccg.unam.mx/regulon/RDBECOLIPDC04122',\n",
       " 'SgrS': 'https://regulondb.ccg.unam.mx/regulon/RDBECOLIPDC04132',\n",
       " 'IstR-1': 'https://regulondb.ccg.unam.mx/regulon/RDBECOLIPDC04134',\n",
       " 'RseX': 'https://regulondb.ccg.unam.mx/regulon/RDBECOLIPDC04142',\n",
       " 'RydC': 'https://regulondb.ccg.unam.mx/regulon/RDBECOLIPDC04143',\n",
       " 'OhsC': 'https://regulondb.ccg.unam.mx/regulon/RDBECOLIPDC04144',\n",
       " 'SymR': 'https://regulondb.ccg.unam.mx/regulon/RDBECOLIPDC04148',\n",
       " 'MgrR': 'https://regulondb.ccg.unam.mx/regulon/RDBECOLIPDC04149',\n",
       " 'FnrS': 'https://regulondb.ccg.unam.mx/regulon/RDBECOLIPDC04150',\n",
       " 'ArrS': 'https://regulondb.ccg.unam.mx/regulon/RDBECOLIPDC04151',\n",
       " 'SdsN': 'https://regulondb.ccg.unam.mx/regulon/RDBECOLIPDC04154',\n",
       " 'AgrB': 'https://regulondb.ccg.unam.mx/regulon/RDBECOLIPDC04160',\n",
       " 'RalA': 'https://regulondb.ccg.unam.mx/regulon/RDBECOLIPDC04161',\n",
       " 'MicL-S': 'https://regulondb.ccg.unam.mx/regulon/RDBECOLIPDC04162',\n",
       " 'CpxQ': 'https://regulondb.ccg.unam.mx/regulon/RDBECOLIPDC04165',\n",
       " 'SdhX': 'https://regulondb.ccg.unam.mx/regulon/RDBECOLIPDC04176',\n",
       " 'C0293': 'https://regulondb.ccg.unam.mx/regulon/RDBECOLIPDC04182',\n",
       " 'MalH': 'https://regulondb.ccg.unam.mx/regulon/RDBECOLIPDC04183',\n",
       " 'RprA': 'https://regulondb.ccg.unam.mx/regulon/RDBECOLIPDC04198',\n",
       " 'RybB': 'https://regulondb.ccg.unam.mx/regulon/RDBECOLIPDC04224',\n",
       " 'SdsR': 'https://regulondb.ccg.unam.mx/regulon/RDBECOLIPDC04227',\n",
       " 'CyaR': 'https://regulondb.ccg.unam.mx/regulon/RDBECOLIPDC04230',\n",
       " 'OmrB': 'https://regulondb.ccg.unam.mx/regulon/RDBECOLIPDC04232',\n",
       " 'SibC': 'https://regulondb.ccg.unam.mx/regulon/RDBECOLIPDC04233',\n",
       " 'Spf': 'https://regulondb.ccg.unam.mx/regulon/RDBECOLIPDC04273',\n",
       " 'MicA': 'https://regulondb.ccg.unam.mx/regulon/RDBECOLIPDC04277',\n",
       " 'OmrA': 'https://regulondb.ccg.unam.mx/regulon/RDBECOLIPDC04278',\n",
       " 'SraG': 'https://regulondb.ccg.unam.mx/regulon/RDBECOLIPDC04279',\n",
       " 'ArcZ': 'https://regulondb.ccg.unam.mx/regulon/RDBECOLIPDC04280',\n",
       " 'RyhB': 'https://regulondb.ccg.unam.mx/regulon/RDBECOLIPDC04281',\n",
       " 'GlmZ': 'https://regulondb.ccg.unam.mx/regulon/RDBECOLIPDC04282',\n",
       " 'MicC': 'https://regulondb.ccg.unam.mx/regulon/RDBECOLIPDC04329',\n",
       " 'AzuR': 'https://regulondb.ccg.unam.mx/regulon/RDBECOLIPDC04654',\n",
       " 'FimR2': 'https://regulondb.ccg.unam.mx/regulon/RDBECOLIPDC04657',\n",
       " 'GlnZ': 'https://regulondb.ccg.unam.mx/regulon/RDBECOLIPDC04658',\n",
       " 'AsflhD': 'https://regulondb.ccg.unam.mx/regulon/RDBECOLIPDC04659',\n",
       " 'StfZ': 'https://regulondb.ccg.unam.mx/regulon/RDBECOLIPDC04660',\n",
       " 'AmeF': 'https://regulondb.ccg.unam.mx/regulon/RDBECOLIPDC04664',\n",
       " 'YrdG': 'https://regulondb.ccg.unam.mx/regulon/RDBECOLIPDC04665',\n",
       " 'ExuR': 'https://regulondb.ccg.unam.mx/regulon/RDBECOLITFC00001',\n",
       " 'AsnC': 'https://regulondb.ccg.unam.mx/regulon/RDBECOLITFC00002',\n",
       " 'Dan': 'https://regulondb.ccg.unam.mx/regulon/RDBECOLITFC00003',\n",
       " 'EbgR': 'https://regulondb.ccg.unam.mx/regulon/RDBECOLITFC00004',\n",
       " 'AgaR': 'https://regulondb.ccg.unam.mx/regulon/RDBECOLITFC00005',\n",
       " 'AtoC': 'https://regulondb.ccg.unam.mx/regulon/RDBECOLITFC00006',\n",
       " 'DgoR': 'https://regulondb.ccg.unam.mx/regulon/RDBECOLITFC00007',\n",
       " 'TdcA': 'https://regulondb.ccg.unam.mx/regulon/RDBECOLITFC00008',\n",
       " 'NarL': 'https://regulondb.ccg.unam.mx/regulon/RDBECOLITFC00009',\n",
       " 'UhpA': 'https://regulondb.ccg.unam.mx/regulon/RDBECOLITFC00010',\n",
       " 'ZntR': 'https://regulondb.ccg.unam.mx/regulon/RDBECOLITFC00011',\n",
       " 'TdcR': 'https://regulondb.ccg.unam.mx/regulon/RDBECOLITFC00012',\n",
       " 'FliZ': 'https://regulondb.ccg.unam.mx/regulon/RDBECOLITFC00013',\n",
       " 'Lrp': 'https://regulondb.ccg.unam.mx/regulon/RDBECOLITFC00014',\n",
       " 'CynR': 'https://regulondb.ccg.unam.mx/regulon/RDBECOLITFC00015',\n",
       " 'MqsA': 'https://regulondb.ccg.unam.mx/regulon/RDBECOLITFC00016',\n",
       " 'DnaA': 'https://regulondb.ccg.unam.mx/regulon/RDBECOLITFC00017',\n",
       " 'CsgD': 'https://regulondb.ccg.unam.mx/regulon/RDBECOLITFC00018',\n",
       " 'HU': 'https://regulondb.ccg.unam.mx/regulon/RDBECOLITFC00019',\n",
       " 'H-NS': 'https://regulondb.ccg.unam.mx/regulon/RDBECOLITFC00020',\n",
       " 'SdiA': 'https://regulondb.ccg.unam.mx/regulon/RDBECOLITFC00021',\n",
       " 'AraC': 'https://regulondb.ccg.unam.mx/regulon/RDBECOLITFC00022',\n",
       " 'GadW': 'https://regulondb.ccg.unam.mx/regulon/RDBECOLITFC00023',\n",
       " 'FucR': 'https://regulondb.ccg.unam.mx/regulon/RDBECOLITFC00024',\n",
       " 'DcuR': 'https://regulondb.ccg.unam.mx/regulon/RDBECOLITFC00025',\n",
       " 'TreR': 'https://regulondb.ccg.unam.mx/regulon/RDBECOLITFC00026',\n",
       " 'NagC': 'https://regulondb.ccg.unam.mx/regulon/RDBECOLITFC00027',\n",
       " 'FabR': 'https://regulondb.ccg.unam.mx/regulon/RDBECOLITFC00028',\n",
       " 'MlrA': 'https://regulondb.ccg.unam.mx/regulon/RDBECOLITFC00029',\n",
       " 'MprA': 'https://regulondb.ccg.unam.mx/regulon/RDBECOLITFC00030',\n",
       " 'KdgR': 'https://regulondb.ccg.unam.mx/regulon/RDBECOLITFC00031',\n",
       " 'TrpR': 'https://regulondb.ccg.unam.mx/regulon/RDBECOLITFC00032',\n",
       " 'GalS': 'https://regulondb.ccg.unam.mx/regulon/RDBECOLITFC00033',\n",
       " 'ModE': 'https://regulondb.ccg.unam.mx/regulon/RDBECOLITFC00034',\n",
       " 'Zur': 'https://regulondb.ccg.unam.mx/regulon/RDBECOLITFC00035',\n",
       " 'YdcI': 'https://regulondb.ccg.unam.mx/regulon/RDBECOLITFC00036',\n",
       " 'LldR': 'https://regulondb.ccg.unam.mx/regulon/RDBECOLITFC00037',\n",
       " 'NsrR': 'https://regulondb.ccg.unam.mx/regulon/RDBECOLITFC00038',\n",
       " 'DksA': 'https://regulondb.ccg.unam.mx/regulon/RDBECOLITFC00039',\n",
       " 'OmpR': 'https://regulondb.ccg.unam.mx/regulon/RDBECOLITFC00040',\n",
       " 'ChbR': 'https://regulondb.ccg.unam.mx/regulon/RDBECOLITFC00041',\n",
       " 'RcsB': 'https://regulondb.ccg.unam.mx/regulon/RDBECOLITFC00042',\n",
       " 'YeiL': 'https://regulondb.ccg.unam.mx/regulon/RDBECOLITFC00043',\n",
       " 'HypT': 'https://regulondb.ccg.unam.mx/regulon/RDBECOLITFC00044',\n",
       " 'AccB': 'https://regulondb.ccg.unam.mx/regulon/RDBECOLITFC00045',\n",
       " 'CspA': 'https://regulondb.ccg.unam.mx/regulon/RDBECOLITFC00046',\n",
       " 'DecR': 'https://regulondb.ccg.unam.mx/regulon/RDBECOLITFC00047',\n",
       " 'RcdA': 'https://regulondb.ccg.unam.mx/regulon/RDBECOLITFC00048',\n",
       " 'Ada': 'https://regulondb.ccg.unam.mx/regulon/RDBECOLITFC00049',\n",
       " 'GutM': 'https://regulondb.ccg.unam.mx/regulon/RDBECOLITFC00050',\n",
       " 'Rob': 'https://regulondb.ccg.unam.mx/regulon/RDBECOLITFC00051',\n",
       " 'FlhDC': 'https://regulondb.ccg.unam.mx/regulon/RDBECOLITFC00052',\n",
       " 'Fis': 'https://regulondb.ccg.unam.mx/regulon/RDBECOLITFC00053',\n",
       " 'PgrR': 'https://regulondb.ccg.unam.mx/regulon/RDBECOLITFC00054',\n",
       " 'IscR': 'https://regulondb.ccg.unam.mx/regulon/RDBECOLITFC00055',\n",
       " 'BetI': 'https://regulondb.ccg.unam.mx/regulon/RDBECOLITFC00056',\n",
       " 'Cra': 'https://regulondb.ccg.unam.mx/regulon/RDBECOLITFC00057',\n",
       " 'RbsR': 'https://regulondb.ccg.unam.mx/regulon/RDBECOLITFC00058',\n",
       " 'EnvR': 'https://regulondb.ccg.unam.mx/regulon/RDBECOLITFC00059',\n",
       " 'MngR': 'https://regulondb.ccg.unam.mx/regulon/RDBECOLITFC00060',\n",
       " 'PyrR': 'https://regulondb.ccg.unam.mx/regulon/RDBECOLITFC00061',\n",
       " 'AidB': 'https://regulondb.ccg.unam.mx/regulon/RDBECOLITFC00062',\n",
       " 'TorR': 'https://regulondb.ccg.unam.mx/regulon/RDBECOLITFC00063',\n",
       " 'PrpR': 'https://regulondb.ccg.unam.mx/regulon/RDBECOLITFC00064',\n",
       " 'AcrR': 'https://regulondb.ccg.unam.mx/regulon/RDBECOLITFC00065',\n",
       " 'StpA': 'https://regulondb.ccg.unam.mx/regulon/RDBECOLITFC00066',\n",
       " 'RelB': 'https://regulondb.ccg.unam.mx/regulon/RDBECOLITFC00067',\n",
       " 'IdnR': 'https://regulondb.ccg.unam.mx/regulon/RDBECOLITFC00068',\n",
       " 'XapR': 'https://regulondb.ccg.unam.mx/regulon/RDBECOLITFC00069',\n",
       " 'Cbl': 'https://regulondb.ccg.unam.mx/regulon/RDBECOLITFC00070',\n",
       " 'SoxR': 'https://regulondb.ccg.unam.mx/regulon/RDBECOLITFC00071',\n",
       " 'FhlA': 'https://regulondb.ccg.unam.mx/regulon/RDBECOLITFC00072',\n",
       " 'HprR': 'https://regulondb.ccg.unam.mx/regulon/RDBECOLITFC00073',\n",
       " 'MarA': 'https://regulondb.ccg.unam.mx/regulon/RDBECOLITFC00074',\n",
       " 'ZraR': 'https://regulondb.ccg.unam.mx/regulon/RDBECOLITFC00075',\n",
       " 'ArgP': 'https://regulondb.ccg.unam.mx/regulon/RDBECOLITFC00076',\n",
       " 'GadE': 'https://regulondb.ccg.unam.mx/regulon/RDBECOLITFC00077',\n",
       " 'TyrR': 'https://regulondb.ccg.unam.mx/regulon/RDBECOLITFC00078',\n",
       " 'CecR': 'https://regulondb.ccg.unam.mx/regulon/RDBECOLITFC00079',\n",
       " 'GlaR': 'https://regulondb.ccg.unam.mx/regulon/RDBECOLITFC00080',\n",
       " 'ComR': 'https://regulondb.ccg.unam.mx/regulon/RDBECOLITFC00081',\n",
       " 'PlaR': 'https://regulondb.ccg.unam.mx/regulon/RDBECOLITFC00082',\n",
       " 'NimR': 'https://regulondb.ccg.unam.mx/regulon/RDBECOLITFC00083',\n",
       " 'NhaR': 'https://regulondb.ccg.unam.mx/regulon/RDBECOLITFC00084',\n",
       " 'NarP': 'https://regulondb.ccg.unam.mx/regulon/RDBECOLITFC00085',\n",
       " 'FrmR': 'https://regulondb.ccg.unam.mx/regulon/RDBECOLITFC00086',\n",
       " 'MelR': 'https://regulondb.ccg.unam.mx/regulon/RDBECOLITFC00087',\n",
       " 'GalR': 'https://regulondb.ccg.unam.mx/regulon/RDBECOLITFC00088',\n",
       " 'McbR': 'https://regulondb.ccg.unam.mx/regulon/RDBECOLITFC00089',\n",
       " 'XylR': 'https://regulondb.ccg.unam.mx/regulon/RDBECOLITFC00090',\n",
       " 'HdfR': 'https://regulondb.ccg.unam.mx/regulon/RDBECOLITFC00091',\n",
       " 'HcaR': 'https://regulondb.ccg.unam.mx/regulon/RDBECOLITFC00092',\n",
       " 'Fur': 'https://regulondb.ccg.unam.mx/regulon/RDBECOLITFC00093',\n",
       " 'QseB': 'https://regulondb.ccg.unam.mx/regulon/RDBECOLITFC00094',\n",
       " 'RcsB-BglJ': 'https://regulondb.ccg.unam.mx/regulon/RDBECOLITFC00095',\n",
       " 'AppY': 'https://regulondb.ccg.unam.mx/regulon/RDBECOLITFC00096',\n",
       " 'RtcR': 'https://regulondb.ccg.unam.mx/regulon/RDBECOLITFC00097',\n",
       " 'ArcA': 'https://regulondb.ccg.unam.mx/regulon/RDBECOLITFC00098',\n",
       " 'NfeR': 'https://regulondb.ccg.unam.mx/regulon/RDBECOLITFC00099',\n",
       " 'UvrY': 'https://regulondb.ccg.unam.mx/regulon/RDBECOLITFC00100',\n",
       " 'YjjQ': 'https://regulondb.ccg.unam.mx/regulon/RDBECOLITFC00101',\n",
       " 'GlpR': 'https://regulondb.ccg.unam.mx/regulon/RDBECOLITFC00102',\n",
       " 'SutR': 'https://regulondb.ccg.unam.mx/regulon/RDBECOLITFC00103',\n",
       " 'RhaR': 'https://regulondb.ccg.unam.mx/regulon/RDBECOLITFC00104',\n",
       " 'CueR': 'https://regulondb.ccg.unam.mx/regulon/RDBECOLITFC00105',\n",
       " 'KdpE': 'https://regulondb.ccg.unam.mx/regulon/RDBECOLITFC00106',\n",
       " 'SgrR': 'https://regulondb.ccg.unam.mx/regulon/RDBECOLITFC00107',\n",
       " 'MetR': 'https://regulondb.ccg.unam.mx/regulon/RDBECOLITFC00108',\n",
       " 'ArgR': 'https://regulondb.ccg.unam.mx/regulon/RDBECOLITFC00109',\n",
       " 'PspF': 'https://regulondb.ccg.unam.mx/regulon/RDBECOLITFC00110',\n",
       " 'NorR': 'https://regulondb.ccg.unam.mx/regulon/RDBECOLITFC00111',\n",
       " 'CreB': 'https://regulondb.ccg.unam.mx/regulon/RDBECOLITFC00112',\n",
       " 'PaaX': 'https://regulondb.ccg.unam.mx/regulon/RDBECOLITFC00113',\n",
       " 'CytR': 'https://regulondb.ccg.unam.mx/regulon/RDBECOLITFC00114',\n",
       " 'MatA': 'https://regulondb.ccg.unam.mx/regulon/RDBECOLITFC00115',\n",
       " 'BolA': 'https://regulondb.ccg.unam.mx/regulon/RDBECOLITFC00116',\n",
       " 'RcsAB': 'https://regulondb.ccg.unam.mx/regulon/RDBECOLITFC00117',\n",
       " 'YgiV': 'https://regulondb.ccg.unam.mx/regulon/RDBECOLITFC00118',\n",
       " 'CaiF': 'https://regulondb.ccg.unam.mx/regulon/RDBECOLITFC00119',\n",
       " 'CusR': 'https://regulondb.ccg.unam.mx/regulon/RDBECOLITFC00120',\n",
       " 'PurR': 'https://regulondb.ccg.unam.mx/regulon/RDBECOLITFC00121',\n",
       " 'HigBA': 'https://regulondb.ccg.unam.mx/regulon/RDBECOLITFC00122',\n",
       " 'GadRcs': 'https://regulondb.ccg.unam.mx/regulon/RDBECOLITFC00123',\n",
       " 'RcnR': 'https://regulondb.ccg.unam.mx/regulon/RDBECOLITFC00124',\n",
       " 'MarR': 'https://regulondb.ccg.unam.mx/regulon/RDBECOLITFC00125',\n",
       " 'FadR': 'https://regulondb.ccg.unam.mx/regulon/RDBECOLITFC00126',\n",
       " 'FeaR': 'https://regulondb.ccg.unam.mx/regulon/RDBECOLITFC00127',\n",
       " 'FNR': 'https://regulondb.ccg.unam.mx/regulon/RDBECOLITFC00128',\n",
       " 'YefM': 'https://regulondb.ccg.unam.mx/regulon/RDBECOLITFC00129',\n",
       " 'NadR': 'https://regulondb.ccg.unam.mx/regulon/RDBECOLITFC00130',\n",
       " 'YdfH': 'https://regulondb.ccg.unam.mx/regulon/RDBECOLITFC00131',\n",
       " 'AlpA': 'https://regulondb.ccg.unam.mx/regulon/RDBECOLITFC00132',\n",
       " 'CdaR': 'https://regulondb.ccg.unam.mx/regulon/RDBECOLITFC00133',\n",
       " 'IlvY': 'https://regulondb.ccg.unam.mx/regulon/RDBECOLITFC00134',\n",
       " 'Nac': 'https://regulondb.ccg.unam.mx/regulon/RDBECOLITFC00135',\n",
       " 'SlyA': 'https://regulondb.ccg.unam.mx/regulon/RDBECOLITFC00136',\n",
       " 'HipAB': 'https://regulondb.ccg.unam.mx/regulon/RDBECOLITFC00137',\n",
       " 'CsqR': 'https://regulondb.ccg.unam.mx/regulon/RDBECOLITFC00138',\n",
       " 'YcjW': 'https://regulondb.ccg.unam.mx/regulon/RDBECOLITFC00139',\n",
       " 'HicB': 'https://regulondb.ccg.unam.mx/regulon/RDBECOLITFC00140',\n",
       " 'YdeO': 'https://regulondb.ccg.unam.mx/regulon/RDBECOLITFC00141',\n",
       " 'UxuR': 'https://regulondb.ccg.unam.mx/regulon/RDBECOLITFC00142',\n",
       " 'MntR': 'https://regulondb.ccg.unam.mx/regulon/RDBECOLITFC00143',\n",
       " 'FrlR': 'https://regulondb.ccg.unam.mx/regulon/RDBECOLITFC00144',\n",
       " 'BirA': 'https://regulondb.ccg.unam.mx/regulon/RDBECOLITFC00145',\n",
       " 'GcvA': 'https://regulondb.ccg.unam.mx/regulon/RDBECOLITFC00146',\n",
       " 'DeoR': 'https://regulondb.ccg.unam.mx/regulon/RDBECOLITFC00147',\n",
       " 'NrdR': 'https://regulondb.ccg.unam.mx/regulon/RDBECOLITFC00148',\n",
       " 'SrlR': 'https://regulondb.ccg.unam.mx/regulon/RDBECOLITFC00149',\n",
       " 'GatR': 'https://regulondb.ccg.unam.mx/regulon/RDBECOLITFC00150',\n",
       " 'DinJ-YafQ': 'https://regulondb.ccg.unam.mx/regulon/RDBECOLITFC00151',\n",
       " 'CysB': 'https://regulondb.ccg.unam.mx/regulon/RDBECOLITFC00152',\n",
       " 'NtrC': 'https://regulondb.ccg.unam.mx/regulon/RDBECOLITFC00153',\n",
       " 'NanR': 'https://regulondb.ccg.unam.mx/regulon/RDBECOLITFC00154',\n",
       " 'AlaS': 'https://regulondb.ccg.unam.mx/regulon/RDBECOLITFC00155',\n",
       " 'MhpR': 'https://regulondb.ccg.unam.mx/regulon/RDBECOLITFC00156',\n",
       " 'BluR': 'https://regulondb.ccg.unam.mx/regulon/RDBECOLITFC00157',\n",
       " 'PdhR': 'https://regulondb.ccg.unam.mx/regulon/RDBECOLITFC00158',\n",
       " 'MurR': 'https://regulondb.ccg.unam.mx/regulon/RDBECOLITFC00159',\n",
       " 'RhaS': 'https://regulondb.ccg.unam.mx/regulon/RDBECOLITFC00160',\n",
       " 'RutR': 'https://regulondb.ccg.unam.mx/regulon/RDBECOLITFC00161',\n",
       " 'GlrR': 'https://regulondb.ccg.unam.mx/regulon/RDBECOLITFC00162',\n",
       " 'MalT': 'https://regulondb.ccg.unam.mx/regulon/RDBECOLITFC00163',\n",
       " 'ArsR': 'https://regulondb.ccg.unam.mx/regulon/RDBECOLITFC00164',\n",
       " 'LsrR': 'https://regulondb.ccg.unam.mx/regulon/RDBECOLITFC00165',\n",
       " 'PhoP': 'https://regulondb.ccg.unam.mx/regulon/RDBECOLITFC00166',\n",
       " 'RstA': 'https://regulondb.ccg.unam.mx/regulon/RDBECOLITFC00167',\n",
       " 'YefMB': 'https://regulondb.ccg.unam.mx/regulon/RDBECOLITFC00168',\n",
       " 'BtsR': 'https://regulondb.ccg.unam.mx/regulon/RDBECOLITFC00169',\n",
       " 'CpxR': 'https://regulondb.ccg.unam.mx/regulon/RDBECOLITFC00170',\n",
       " 'YqhC': 'https://regulondb.ccg.unam.mx/regulon/RDBECOLITFC00171',\n",
       " 'PepA': 'https://regulondb.ccg.unam.mx/regulon/RDBECOLITFC00172',\n",
       " 'DpiA': 'https://regulondb.ccg.unam.mx/regulon/RDBECOLITFC00173',\n",
       " 'NemR': 'https://regulondb.ccg.unam.mx/regulon/RDBECOLITFC00174',\n",
       " 'MraZ': 'https://regulondb.ccg.unam.mx/regulon/RDBECOLITFC00175',\n",
       " 'AdiY': 'https://regulondb.ccg.unam.mx/regulon/RDBECOLITFC00176',\n",
       " 'GntR': 'https://regulondb.ccg.unam.mx/regulon/RDBECOLITFC00177',\n",
       " 'MazEF': 'https://regulondb.ccg.unam.mx/regulon/RDBECOLITFC00178',\n",
       " 'PdeL': 'https://regulondb.ccg.unam.mx/regulon/RDBECOLITFC00179',\n",
       " 'AscG': 'https://regulondb.ccg.unam.mx/regulon/RDBECOLITFC00180',\n",
       " 'EvgA': 'https://regulondb.ccg.unam.mx/regulon/RDBECOLITFC00181',\n",
       " 'BaeR': 'https://regulondb.ccg.unam.mx/regulon/RDBECOLITFC00182',\n",
       " 'MalI': 'https://regulondb.ccg.unam.mx/regulon/RDBECOLITFC00183',\n",
       " 'AllR': 'https://regulondb.ccg.unam.mx/regulon/RDBECOLITFC00184',\n",
       " 'YhaJ': 'https://regulondb.ccg.unam.mx/regulon/RDBECOLITFC00185',\n",
       " 'AlsR': 'https://regulondb.ccg.unam.mx/regulon/RDBECOLITFC00186',\n",
       " 'GadX': 'https://regulondb.ccg.unam.mx/regulon/RDBECOLITFC00187',\n",
       " 'UlaR': 'https://regulondb.ccg.unam.mx/regulon/RDBECOLITFC00188',\n",
       " 'CRP': 'https://regulondb.ccg.unam.mx/regulon/RDBECOLITFC00189',\n",
       " 'LrhA': 'https://regulondb.ccg.unam.mx/regulon/RDBECOLITFC00190',\n",
       " 'IclR': 'https://regulondb.ccg.unam.mx/regulon/RDBECOLITFC00191',\n",
       " 'YebK': 'https://regulondb.ccg.unam.mx/regulon/RDBECOLITFC00192',\n",
       " 'RclR': 'https://regulondb.ccg.unam.mx/regulon/RDBECOLITFC00193',\n",
       " 'HigA': 'https://regulondb.ccg.unam.mx/regulon/RDBECOLITFC00194',\n",
       " 'PutA': 'https://regulondb.ccg.unam.mx/regulon/RDBECOLITFC00195',\n",
       " 'BasR': 'https://regulondb.ccg.unam.mx/regulon/RDBECOLITFC00196',\n",
       " 'CRP-Sxy': 'https://regulondb.ccg.unam.mx/regulon/RDBECOLITFC00197',\n",
       " 'DhaR': 'https://regulondb.ccg.unam.mx/regulon/RDBECOLITFC00198',\n",
       " 'UidR': 'https://regulondb.ccg.unam.mx/regulon/RDBECOLITFC00199',\n",
       " 'GlcC': 'https://regulondb.ccg.unam.mx/regulon/RDBECOLITFC00200',\n",
       " 'SoxS': 'https://regulondb.ccg.unam.mx/regulon/RDBECOLITFC00201',\n",
       " 'PhoB': 'https://regulondb.ccg.unam.mx/regulon/RDBECOLITFC00202',\n",
       " 'XynR': 'https://regulondb.ccg.unam.mx/regulon/RDBECOLITFC00203',\n",
       " 'CadC': 'https://regulondb.ccg.unam.mx/regulon/RDBECOLITFC00204',\n",
       " 'AllS': 'https://regulondb.ccg.unam.mx/regulon/RDBECOLITFC00205',\n",
       " 'PuuR': 'https://regulondb.ccg.unam.mx/regulon/RDBECOLITFC00206',\n",
       " 'RelBE': 'https://regulondb.ccg.unam.mx/regulon/RDBECOLITFC00207',\n",
       " 'RacR': 'https://regulondb.ccg.unam.mx/regulon/RDBECOLITFC00208',\n",
       " 'HyfR': 'https://regulondb.ccg.unam.mx/regulon/RDBECOLITFC00209',\n",
       " 'LacI': 'https://regulondb.ccg.unam.mx/regulon/RDBECOLITFC00210',\n",
       " 'IHF': 'https://regulondb.ccg.unam.mx/regulon/RDBECOLITFC00211',\n",
       " 'LeuO': 'https://regulondb.ccg.unam.mx/regulon/RDBECOLITFC00212',\n",
       " 'NikR': 'https://regulondb.ccg.unam.mx/regulon/RDBECOLITFC00213',\n",
       " 'LexA': 'https://regulondb.ccg.unam.mx/regulon/RDBECOLITFC00214',\n",
       " 'MazE': 'https://regulondb.ccg.unam.mx/regulon/RDBECOLITFC00215',\n",
       " 'OxyR': 'https://regulondb.ccg.unam.mx/regulon/RDBECOLITFC00216',\n",
       " 'DicA': 'https://regulondb.ccg.unam.mx/regulon/RDBECOLITFC00217',\n",
       " 'MetJ': 'https://regulondb.ccg.unam.mx/regulon/RDBECOLITFC00218',\n",
       " 'Mlc': 'https://regulondb.ccg.unam.mx/regulon/RDBECOLITFC00219',\n",
       " 'HipB': 'https://regulondb.ccg.unam.mx/regulon/RDBECOLITFC00220',\n",
       " 'LysR': 'https://regulondb.ccg.unam.mx/regulon/RDBECOLITFC00221',\n",
       " 'DsdC': 'https://regulondb.ccg.unam.mx/regulon/RDBECOLITFC00222',\n",
       " 'EnvY': 'https://regulondb.ccg.unam.mx/regulon/RDBECOLITFC00223',\n",
       " 'PunR': 'https://regulondb.ccg.unam.mx/regulon/RDBECOLITFC00224',\n",
       " 'RpoN': 'https://regulondb.ccg.unam.mx/regulon/RDBECOLITFC00225',\n",
       " 'YidZ': 'https://regulondb.ccg.unam.mx/regulon/RDBECOLITFC00226',\n",
       " 'YciT': 'https://regulondb.ccg.unam.mx/regulon/RDBECOLITFC00227',\n",
       " 'AaeR': 'https://regulondb.ccg.unam.mx/regulon/RDBECOLITFC00228',\n",
       " 'YfeC': 'https://regulondb.ccg.unam.mx/regulon/RDBECOLITFC00229',\n",
       " 'YgbI': 'https://regulondb.ccg.unam.mx/regulon/RDBECOLITFC00230',\n",
       " 'YieP': 'https://regulondb.ccg.unam.mx/regulon/RDBECOLITFC00231',\n",
       " 'YeiE': 'https://regulondb.ccg.unam.mx/regulon/RDBECOLITFC00232',\n",
       " 'YafC': 'https://regulondb.ccg.unam.mx/regulon/RDBECOLITFC00233',\n",
       " 'SrsR': 'https://regulondb.ccg.unam.mx/regulon/RDBECOLITFC00234',\n",
       " 'YiaU': 'https://regulondb.ccg.unam.mx/regulon/RDBECOLITFC00235',\n",
       " 'CitR': 'https://regulondb.ccg.unam.mx/regulon/RDBECOLITFC00236',\n",
       " 'PtrR': 'https://regulondb.ccg.unam.mx/regulon/RDBECOLITFC00237',\n",
       " 'FimZ': 'https://regulondb.ccg.unam.mx/regulon/RDBECOLITFC00238',\n",
       " 'DicD': 'https://regulondb.ccg.unam.mx/regulon/RDBECOLITFC00239',\n",
       " 'YdiP': 'https://regulondb.ccg.unam.mx/regulon/RDBECOLITFC00240'}"
      ]
     },
     "execution_count": 6,
     "metadata": {},
     "output_type": "execute_result"
    }
   ],
   "source": [
    "regulon_links"
   ]
  },
  {
   "cell_type": "markdown",
   "id": "e1755c0c",
   "metadata": {},
   "source": [
    "# 1. get all triplet data for each regulon\n",
    "### Unique Functions:\n",
    "* (antisense inhibitor of)\n",
    "* (activator of)\n",
    "* (dual to)\n",
    "* (None)"
   ]
  },
  {
   "cell_type": "code",
   "execution_count": 8,
   "id": "33cc7c0d",
   "metadata": {},
   "outputs": [
    {
     "name": "stdout",
     "output_type": "stream",
     "text": [
      "0 286\n"
     ]
    },
    {
     "name": "stderr",
     "output_type": "stream",
     "text": [
      "C:\\Anaconda\\lib\\site-packages\\urllib3\\connectionpool.py:1061: InsecureRequestWarning: Unverified HTTPS request is being made to host 'regulondb.ccg.unam.mx'. Adding certificate verification is strongly advised. See: https://urllib3.readthedocs.io/en/1.26.x/advanced-usage.html#ssl-warnings\n",
      "  warnings.warn(\n"
     ]
    },
    {
     "name": "stdout",
     "output_type": "stream",
     "text": [
      "success:\n",
      "[{'subjekt': 'DicF', 'predikat': 'repressor', 'objekt': 'ftsZ'}, {'subjekt': 'DicF', 'predikat': 'repressor', 'objekt': 'xylR'}, {'subjekt': 'DicF', 'predikat': 'repressor', 'objekt': 'pykA'}, {'subjekt': 'DicF', 'predikat': 'repressor', 'objekt': 'manX'}]\n",
      "---------------------------\n",
      "1 286\n"
     ]
    },
    {
     "name": "stderr",
     "output_type": "stream",
     "text": [
      "C:\\Anaconda\\lib\\site-packages\\urllib3\\connectionpool.py:1061: InsecureRequestWarning: Unverified HTTPS request is being made to host 'regulondb.ccg.unam.mx'. Adding certificate verification is strongly advised. See: https://urllib3.readthedocs.io/en/1.26.x/advanced-usage.html#ssl-warnings\n",
      "  warnings.warn(\n"
     ]
    },
    {
     "name": "stdout",
     "output_type": "stream",
     "text": [
      "success:\n",
      "[{'subjekt': 'DsrA', 'predikat': 'repressor', 'objekt': 'hns'}, {'subjekt': 'DsrA', 'predikat': 'repressor', 'objekt': 'lrp'}, {'subjekt': 'DsrA', 'predikat': 'repressor', 'objekt': 'rbsZ'}, {'subjekt': 'DsrA', 'predikat': 'repressor', 'objekt': 'rbsB'}, {'subjekt': 'DsrA', 'predikat': 'repressor', 'objekt': 'rbsK'}, {'subjekt': 'DsrA', 'predikat': 'repressor', 'objekt': 'rbsD'}, {'subjekt': 'DsrA', 'predikat': 'repressor', 'objekt': 'rbsC'}, {'subjekt': 'DsrA', 'predikat': 'repressor', 'objekt': 'rbsR'}, {'subjekt': 'DsrA', 'predikat': 'repressor', 'objekt': 'rbsA'}, {'subjekt': 'DsrA', 'predikat': 'activator', 'objekt': 'rpoS'}]\n",
      "---------------------------\n",
      "2 286\n"
     ]
    },
    {
     "name": "stderr",
     "output_type": "stream",
     "text": [
      "C:\\Anaconda\\lib\\site-packages\\urllib3\\connectionpool.py:1061: InsecureRequestWarning: Unverified HTTPS request is being made to host 'regulondb.ccg.unam.mx'. Adding certificate verification is strongly advised. See: https://urllib3.readthedocs.io/en/1.26.x/advanced-usage.html#ssl-warnings\n",
      "  warnings.warn(\n"
     ]
    },
    {
     "name": "stdout",
     "output_type": "stream",
     "text": [
      "success:\n",
      "[{'subjekt': 'GcvB', 'predikat': 'repressor', 'objekt': 'cycA'}, {'subjekt': 'GcvB', 'predikat': 'repressor', 'objekt': 'lrp'}, {'subjekt': 'GcvB', 'predikat': 'repressor', 'objekt': 'csgG'}, {'subjekt': 'GcvB', 'predikat': 'repressor', 'objekt': 'csgF'}, {'subjekt': 'GcvB', 'predikat': 'repressor', 'objekt': 'csgD'}, {'subjekt': 'GcvB', 'predikat': 'repressor', 'objekt': 'csgE'}, {'subjekt': 'GcvB', 'predikat': 'repressor', 'objekt': 'phoQ'}, {'subjekt': 'GcvB', 'predikat': 'repressor', 'objekt': 'phoP'}, {'subjekt': 'GcvB', 'predikat': 'repressor', 'objekt': 'asnB'}, {'subjekt': 'GcvB', 'predikat': 'repressor', 'objekt': 'ysgA'}, {'subjekt': 'GcvB', 'predikat': 'repressor', 'objekt': 'tcyJ'}, {'subjekt': 'GcvB', 'predikat': 'repressor', 'objekt': 'asnA'}, {'subjekt': 'GcvB', 'predikat': 'repressor', 'objekt': 'panD'}, {'subjekt': 'GcvB', 'predikat': 'repressor', 'objekt': 'nlpA'}, {'subjekt': 'GcvB', 'predikat': 'repressor', 'objekt': 'inaA'}, {'subjekt': 'GcvB', 'predikat': 'repressor', 'objekt': 'acs'}, {'subjekt': 'GcvB', 'predikat': 'repressor', 'objekt': 'asd'}, {'subjekt': 'GcvB', 'predikat': 'repressor', 'objekt': 'gltP'}, {'subjekt': 'GcvB', 'predikat': 'repressor', 'objekt': 'hisQ'}, {'subjekt': 'GcvB', 'predikat': 'repressor', 'objekt': 'icd'}, {'subjekt': 'GcvB', 'predikat': 'repressor', 'objekt': 'aroP'}, {'subjekt': 'GcvB', 'predikat': 'repressor', 'objekt': 'kgtP'}, {'subjekt': 'GcvB', 'predikat': 'repressor', 'objekt': 'purU'}, {'subjekt': 'GcvB', 'predikat': 'repressor', 'objekt': 'trpB'}, {'subjekt': 'GcvB', 'predikat': 'repressor', 'objekt': 'trpE'}, {'subjekt': 'GcvB', 'predikat': 'repressor', 'objekt': 'trpC'}, {'subjekt': 'GcvB', 'predikat': 'repressor', 'objekt': 'trpL'}, {'subjekt': 'GcvB', 'predikat': 'repressor', 'objekt': 'trpD'}, {'subjekt': 'GcvB', 'predikat': 'repressor', 'objekt': 'trpA'}, {'subjekt': 'GcvB', 'predikat': 'repressor', 'objekt': 'mltC'}, {'subjekt': 'GcvB', 'predikat': 'repressor', 'objekt': 'rbsZ'}, {'subjekt': 'GcvB', 'predikat': 'repressor', 'objekt': 'rbsB'}, {'subjekt': 'GcvB', 'predikat': 'repressor', 'objekt': 'rbsK'}, {'subjekt': 'GcvB', 'predikat': 'repressor', 'objekt': 'rbsD'}, {'subjekt': 'GcvB', 'predikat': 'repressor', 'objekt': 'rbsC'}, {'subjekt': 'GcvB', 'predikat': 'repressor', 'objekt': 'rbsR'}, {'subjekt': 'GcvB', 'predikat': 'repressor', 'objekt': 'rbsA'}, {'subjekt': 'GcvB', 'predikat': 'repressor', 'objekt': 'aroC'}, {'subjekt': 'GcvB', 'predikat': 'repressor', 'objekt': 'gdhA'}, {'subjekt': 'GcvB', 'predikat': 'repressor', 'objekt': 'cstA'}, {'subjekt': 'GcvB', 'predikat': 'repressor', 'objekt': 'map'}, {'subjekt': 'GcvB', 'predikat': 'repressor', 'objekt': 'ydeE'}, {'subjekt': 'GcvB', 'predikat': 'repressor', 'objekt': 'ilvL'}, {'subjekt': 'GcvB', 'predikat': 'repressor', 'objekt': 'ilvM'}, {'subjekt': 'GcvB', 'predikat': 'repressor', 'objekt': 'ilvD'}, {'subjekt': 'GcvB', 'predikat': 'repressor', 'objekt': 'ivbL'}, {'subjekt': 'GcvB', 'predikat': 'repressor', 'objekt': 'ilvB'}, {'subjekt': 'GcvB', 'predikat': 'activator', 'objekt': 'oxyR'}, {'subjekt': 'GcvB', 'predikat': 'activator', 'objekt': 'rbn'}, {'subjekt': 'GcvB', 'predikat': 'repressor', 'objekt': 'oppF'}, {'subjekt': 'GcvB', 'predikat': 'repressor', 'objekt': 'oppC'}, {'subjekt': 'GcvB', 'predikat': 'repressor', 'objekt': 'oppA'}, {'subjekt': 'GcvB', 'predikat': 'repressor', 'objekt': 'oppD'}, {'subjekt': 'GcvB', 'predikat': 'repressor', 'objekt': 'oppB'}, {'subjekt': 'GcvB', 'predikat': 'repressor', 'objekt': 'dppD'}, {'subjekt': 'GcvB', 'predikat': 'repressor', 'objekt': 'dppA'}, {'subjekt': 'GcvB', 'predikat': 'repressor', 'objekt': 'dppF'}, {'subjekt': 'GcvB', 'predikat': 'repressor', 'objekt': 'dppC'}, {'subjekt': 'GcvB', 'predikat': 'repressor', 'objekt': 'dppB'}, {'subjekt': 'GcvB', 'predikat': 'repressor', 'objekt': 'sstT'}]\n",
      "---------------------------\n",
      "3 286\n"
     ]
    },
    {
     "name": "stderr",
     "output_type": "stream",
     "text": [
      "C:\\Anaconda\\lib\\site-packages\\urllib3\\connectionpool.py:1061: InsecureRequestWarning: Unverified HTTPS request is being made to host 'regulondb.ccg.unam.mx'. Adding certificate verification is strongly advised. See: https://urllib3.readthedocs.io/en/1.26.x/advanced-usage.html#ssl-warnings\n",
      "  warnings.warn(\n"
     ]
    },
    {
     "name": "stdout",
     "output_type": "stream",
     "text": [
      "success:\n",
      "[{'subjekt': 'McaS', 'predikat': 'repressor', 'objekt': 'csgG'}, {'subjekt': 'McaS', 'predikat': 'repressor', 'objekt': 'csgF'}, {'subjekt': 'McaS', 'predikat': 'repressor', 'objekt': 'csgD'}, {'subjekt': 'McaS', 'predikat': 'repressor', 'objekt': 'csgE'}, {'subjekt': 'McaS', 'predikat': 'activator', 'objekt': 'flhD'}, {'subjekt': 'McaS', 'predikat': 'activator', 'objekt': 'flhC'}]\n",
      "---------------------------\n",
      "4 286\n"
     ]
    },
    {
     "name": "stderr",
     "output_type": "stream",
     "text": [
      "C:\\Anaconda\\lib\\site-packages\\urllib3\\connectionpool.py:1061: InsecureRequestWarning: Unverified HTTPS request is being made to host 'regulondb.ccg.unam.mx'. Adding certificate verification is strongly advised. See: https://urllib3.readthedocs.io/en/1.26.x/advanced-usage.html#ssl-warnings\n",
      "  warnings.warn(\n"
     ]
    },
    {
     "name": "stdout",
     "output_type": "stream",
     "text": [
      "success:\n",
      "[{'subjekt': 'GadY', 'predikat': 'activator', 'objekt': 'gadW'}, {'subjekt': 'GadY', 'predikat': 'activator', 'objekt': 'gadX'}]\n",
      "---------------------------\n",
      "5 286\n"
     ]
    },
    {
     "name": "stderr",
     "output_type": "stream",
     "text": [
      "C:\\Anaconda\\lib\\site-packages\\urllib3\\connectionpool.py:1061: InsecureRequestWarning: Unverified HTTPS request is being made to host 'regulondb.ccg.unam.mx'. Adding certificate verification is strongly advised. See: https://urllib3.readthedocs.io/en/1.26.x/advanced-usage.html#ssl-warnings\n",
      "  warnings.warn(\n"
     ]
    },
    {
     "name": "stdout",
     "output_type": "stream",
     "text": [
      "success:\n",
      "[{'subjekt': 'MicF', 'predikat': 'repressor', 'objekt': 'ompF'}, {'subjekt': 'MicF', 'predikat': 'repressor', 'objekt': 'lrp'}, {'subjekt': 'MicF', 'predikat': 'repressor', 'objekt': 'cpxR'}, {'subjekt': 'MicF', 'predikat': 'repressor', 'objekt': 'cpxA'}, {'subjekt': 'MicF', 'predikat': 'repressor', 'objekt': 'phoE'}, {'subjekt': 'MicF', 'predikat': 'activator', 'objekt': 'oppA'}, {'subjekt': 'MicF', 'predikat': 'repressor', 'objekt': 'tcyJ'}]\n",
      "---------------------------\n",
      "6 286\n"
     ]
    },
    {
     "name": "stderr",
     "output_type": "stream",
     "text": [
      "C:\\Anaconda\\lib\\site-packages\\urllib3\\connectionpool.py:1061: InsecureRequestWarning: Unverified HTTPS request is being made to host 'regulondb.ccg.unam.mx'. Adding certificate verification is strongly advised. See: https://urllib3.readthedocs.io/en/1.26.x/advanced-usage.html#ssl-warnings\n",
      "  warnings.warn(\n"
     ]
    },
    {
     "name": "stdout",
     "output_type": "stream",
     "text": [
      "success:\n",
      "[{'subjekt': 'OxyS', 'predikat': 'repressor', 'objekt': 'rpoS'}, {'subjekt': 'OxyS', 'predikat': 'repressor', 'objekt': 'fhlA'}, {'subjekt': 'OxyS', 'predikat': 'repressor', 'objekt': 'flhD'}, {'subjekt': 'OxyS', 'predikat': 'repressor', 'objekt': 'flhC'}, {'subjekt': 'OxyS', 'predikat': 'repressor', 'objekt': 'nusG'}]\n",
      "---------------------------\n",
      "7 286\n"
     ]
    },
    {
     "name": "stderr",
     "output_type": "stream",
     "text": [
      "C:\\Anaconda\\lib\\site-packages\\urllib3\\connectionpool.py:1061: InsecureRequestWarning: Unverified HTTPS request is being made to host 'regulondb.ccg.unam.mx'. Adding certificate verification is strongly advised. See: https://urllib3.readthedocs.io/en/1.26.x/advanced-usage.html#ssl-warnings\n",
      "  warnings.warn(\n"
     ]
    },
    {
     "name": "stdout",
     "output_type": "stream",
     "text": [
      "success:\n",
      "[{'subjekt': 'ChiX', 'predikat': 'repressor', 'objekt': 'dpiB'}, {'subjekt': 'ChiX', 'predikat': 'repressor', 'objekt': 'dpiA'}, {'subjekt': 'ChiX', 'predikat': 'repressor', 'objekt': 'chiZ'}, {'subjekt': 'ChiX', 'predikat': 'repressor', 'objekt': 'chiQ'}, {'subjekt': 'ChiX', 'predikat': 'repressor', 'objekt': 'chiP'}, {'subjekt': 'ChiX', 'predikat': 'repressor', 'objekt': 'chbC'}]\n",
      "---------------------------\n",
      "8 286\n"
     ]
    },
    {
     "name": "stderr",
     "output_type": "stream",
     "text": [
      "C:\\Anaconda\\lib\\site-packages\\urllib3\\connectionpool.py:1061: InsecureRequestWarning: Unverified HTTPS request is being made to host 'regulondb.ccg.unam.mx'. Adding certificate verification is strongly advised. See: https://urllib3.readthedocs.io/en/1.26.x/advanced-usage.html#ssl-warnings\n",
      "  warnings.warn(\n"
     ]
    },
    {
     "name": "stdout",
     "output_type": "stream",
     "text": [
      "success:\n",
      "[{'subjekt': 'SgrS', 'predikat': 'repressor', 'objekt': 'manX'}, {'subjekt': 'SgrS', 'predikat': 'repressor', 'objekt': 'manZ'}, {'subjekt': 'SgrS', 'predikat': 'repressor', 'objekt': 'manY'}, {'subjekt': 'SgrS', 'predikat': 'activator', 'objekt': 'yigL'}, {'subjekt': 'SgrS', 'predikat': 'repressor', 'objekt': 'asd'}, {'subjekt': 'SgrS', 'predikat': 'repressor', 'objekt': 'adiY'}, {'subjekt': 'SgrS', 'predikat': 'repressor', 'objekt': 'folE'}, {'subjekt': 'SgrS', 'predikat': 'repressor', 'objekt': 'yeiB'}, {'subjekt': 'SgrS', 'predikat': 'repressor', 'objekt': 'purR'}, {'subjekt': 'SgrS', 'predikat': 'repressor', 'objekt': 'ptsG'}]\n",
      "---------------------------\n",
      "9 286\n"
     ]
    },
    {
     "name": "stderr",
     "output_type": "stream",
     "text": [
      "C:\\Anaconda\\lib\\site-packages\\urllib3\\connectionpool.py:1061: InsecureRequestWarning: Unverified HTTPS request is being made to host 'regulondb.ccg.unam.mx'. Adding certificate verification is strongly advised. See: https://urllib3.readthedocs.io/en/1.26.x/advanced-usage.html#ssl-warnings\n",
      "  warnings.warn(\n"
     ]
    },
    {
     "name": "stdout",
     "output_type": "stream",
     "text": [
      "success:\n",
      "[{'subjekt': 'IstR-1', 'predikat': 'repressor', 'objekt': 'tisB'}]\n",
      "---------------------------\n",
      "10 286\n"
     ]
    },
    {
     "name": "stderr",
     "output_type": "stream",
     "text": [
      "C:\\Anaconda\\lib\\site-packages\\urllib3\\connectionpool.py:1061: InsecureRequestWarning: Unverified HTTPS request is being made to host 'regulondb.ccg.unam.mx'. Adding certificate verification is strongly advised. See: https://urllib3.readthedocs.io/en/1.26.x/advanced-usage.html#ssl-warnings\n",
      "  warnings.warn(\n"
     ]
    },
    {
     "name": "stdout",
     "output_type": "stream",
     "text": [
      "success:\n",
      "[{'subjekt': 'RseX', 'predikat': 'repressor', 'objekt': 'ompA'}, {'subjekt': 'RseX', 'predikat': 'repressor', 'objekt': 'ompC'}, {'subjekt': 'RseX', 'predikat': 'repressor', 'objekt': 'fimB'}, {'subjekt': 'RseX', 'predikat': 'repressor', 'objekt': 'ihfB'}]\n",
      "---------------------------\n",
      "11 286\n"
     ]
    },
    {
     "name": "stderr",
     "output_type": "stream",
     "text": [
      "C:\\Anaconda\\lib\\site-packages\\urllib3\\connectionpool.py:1061: InsecureRequestWarning: Unverified HTTPS request is being made to host 'regulondb.ccg.unam.mx'. Adding certificate verification is strongly advised. See: https://urllib3.readthedocs.io/en/1.26.x/advanced-usage.html#ssl-warnings\n",
      "  warnings.warn(\n"
     ]
    },
    {
     "name": "stdout",
     "output_type": "stream",
     "text": [
      "success:\n",
      "[{'subjekt': 'RydC', 'predikat': 'repressor', 'objekt': 'csgG'}, {'subjekt': 'RydC', 'predikat': 'repressor', 'objekt': 'csgF'}, {'subjekt': 'RydC', 'predikat': 'repressor', 'objekt': 'csgD'}, {'subjekt': 'RydC', 'predikat': 'repressor', 'objekt': 'csgE'}, {'subjekt': 'RydC', 'predikat': 'activator', 'objekt': 'cfa'}, {'subjekt': 'RydC', 'predikat': 'repressor', 'objekt': 'pheA'}, {'subjekt': 'RydC', 'predikat': 'activator', 'objekt': 'trpB'}, {'subjekt': 'RydC', 'predikat': 'activator', 'objekt': 'trpE'}, {'subjekt': 'RydC', 'predikat': 'activator', 'objekt': 'trpC'}, {'subjekt': 'RydC', 'predikat': 'activator', 'objekt': 'trpL'}, {'subjekt': 'RydC', 'predikat': 'activator', 'objekt': 'trpD'}, {'subjekt': 'RydC', 'predikat': 'activator', 'objekt': 'trpA'}]\n",
      "---------------------------\n",
      "12 286\n"
     ]
    },
    {
     "name": "stderr",
     "output_type": "stream",
     "text": [
      "C:\\Anaconda\\lib\\site-packages\\urllib3\\connectionpool.py:1061: InsecureRequestWarning: Unverified HTTPS request is being made to host 'regulondb.ccg.unam.mx'. Adding certificate verification is strongly advised. See: https://urllib3.readthedocs.io/en/1.26.x/advanced-usage.html#ssl-warnings\n",
      "  warnings.warn(\n"
     ]
    },
    {
     "name": "stdout",
     "output_type": "stream",
     "text": [
      "success:\n",
      "[{'subjekt': 'OhsC', 'predikat': 'repressor', 'objekt': 'shoB'}]\n",
      "---------------------------\n",
      "13 286\n"
     ]
    },
    {
     "name": "stderr",
     "output_type": "stream",
     "text": [
      "C:\\Anaconda\\lib\\site-packages\\urllib3\\connectionpool.py:1061: InsecureRequestWarning: Unverified HTTPS request is being made to host 'regulondb.ccg.unam.mx'. Adding certificate verification is strongly advised. See: https://urllib3.readthedocs.io/en/1.26.x/advanced-usage.html#ssl-warnings\n",
      "  warnings.warn(\n"
     ]
    },
    {
     "name": "stdout",
     "output_type": "stream",
     "text": [
      "success:\n",
      "[{'subjekt': 'SymR', 'predikat': 'repressor', 'objekt': 'symE'}]\n",
      "---------------------------\n",
      "14 286\n"
     ]
    },
    {
     "name": "stderr",
     "output_type": "stream",
     "text": [
      "C:\\Anaconda\\lib\\site-packages\\urllib3\\connectionpool.py:1061: InsecureRequestWarning: Unverified HTTPS request is being made to host 'regulondb.ccg.unam.mx'. Adding certificate verification is strongly advised. See: https://urllib3.readthedocs.io/en/1.26.x/advanced-usage.html#ssl-warnings\n",
      "  warnings.warn(\n"
     ]
    },
    {
     "name": "stdout",
     "output_type": "stream",
     "text": [
      "success:\n",
      "[{'subjekt': 'MgrR', 'predikat': 'repressor', 'objekt': 'ygdQ'}, {'subjekt': 'MgrR', 'predikat': 'repressor', 'objekt': 'eptB'}, {'subjekt': 'MgrR', 'predikat': 'repressor', 'objekt': 'soxS'}, {'subjekt': 'MgrR', 'predikat': 'repressor', 'objekt': 'pitA'}]\n",
      "---------------------------\n",
      "15 286\n"
     ]
    },
    {
     "name": "stderr",
     "output_type": "stream",
     "text": [
      "C:\\Anaconda\\lib\\site-packages\\urllib3\\connectionpool.py:1061: InsecureRequestWarning: Unverified HTTPS request is being made to host 'regulondb.ccg.unam.mx'. Adding certificate verification is strongly advised. See: https://urllib3.readthedocs.io/en/1.26.x/advanced-usage.html#ssl-warnings\n",
      "  warnings.warn(\n"
     ]
    },
    {
     "name": "stdout",
     "output_type": "stream",
     "text": [
      "success:\n",
      "[{'subjekt': 'FnrS', 'predikat': 'repressor', 'objekt': 'sodB'}, {'subjekt': 'FnrS', 'predikat': 'repressor', 'objekt': 'cydD'}, {'subjekt': 'FnrS', 'predikat': 'repressor', 'objekt': 'cydC'}, {'subjekt': 'FnrS', 'predikat': 'repressor', 'objekt': 'yobA'}, {'subjekt': 'FnrS', 'predikat': 'repressor', 'objekt': 'yebZ'}, {'subjekt': 'FnrS', 'predikat': 'repressor', 'objekt': 'yebY'}, {'subjekt': 'FnrS', 'predikat': 'repressor', 'objekt': 'sodA'}, {'subjekt': 'FnrS', 'predikat': 'repressor', 'objekt': 'metE'}, {'subjekt': 'FnrS', 'predikat': 'repressor', 'objekt': 'maeA'}, {'subjekt': 'FnrS', 'predikat': 'repressor', 'objekt': 'gpmA'}, {'subjekt': 'FnrS', 'predikat': 'repressor', 'objekt': 'folE'}, {'subjekt': 'FnrS', 'predikat': 'repressor', 'objekt': 'yeiB'}, {'subjekt': 'FnrS', 'predikat': 'repressor', 'objekt': 'folX'}, {'subjekt': 'FnrS', 'predikat': 'repressor', 'objekt': 'yfcH'}, {'subjekt': 'FnrS', 'predikat': 'repressor', 'objekt': 'iscR'}, {'subjekt': 'FnrS', 'predikat': 'repressor', 'objekt': 'marA'}, {'subjekt': 'FnrS', 'predikat': 'repressor', 'objekt': 'azuC'}, {'subjekt': 'FnrS', 'predikat': 'repressor', 'objekt': 'azuR'}, {'subjekt': 'FnrS', 'predikat': 'repressor', 'objekt': 'glpD'}]\n",
      "---------------------------\n",
      "16 286\n"
     ]
    },
    {
     "name": "stderr",
     "output_type": "stream",
     "text": [
      "C:\\Anaconda\\lib\\site-packages\\urllib3\\connectionpool.py:1061: InsecureRequestWarning: Unverified HTTPS request is being made to host 'regulondb.ccg.unam.mx'. Adding certificate verification is strongly advised. See: https://urllib3.readthedocs.io/en/1.26.x/advanced-usage.html#ssl-warnings\n",
      "  warnings.warn(\n"
     ]
    },
    {
     "name": "stdout",
     "output_type": "stream",
     "text": [
      "success:\n",
      "[{'subjekt': 'ArrS', 'predikat': 'activator', 'objekt': 'gadE'}, {'subjekt': 'ArrS', 'predikat': 'activator', 'objekt': 'gadF'}, {'subjekt': 'ArrS', 'predikat': 'activator', 'objekt': 'cfa'}]\n",
      "---------------------------\n",
      "17 286\n"
     ]
    },
    {
     "name": "stderr",
     "output_type": "stream",
     "text": [
      "C:\\Anaconda\\lib\\site-packages\\urllib3\\connectionpool.py:1061: InsecureRequestWarning: Unverified HTTPS request is being made to host 'regulondb.ccg.unam.mx'. Adding certificate verification is strongly advised. See: https://urllib3.readthedocs.io/en/1.26.x/advanced-usage.html#ssl-warnings\n",
      "  warnings.warn(\n"
     ]
    },
    {
     "name": "stdout",
     "output_type": "stream",
     "text": [
      "success:\n",
      "[{'subjekt': 'SdsN', 'predikat': 'repressor', 'objekt': 'nfsA'}, {'subjekt': 'SdsN', 'predikat': 'repressor', 'objekt': 'hmp'}, {'subjekt': 'SdsN', 'predikat': 'repressor', 'objekt': 'narP'}]\n",
      "---------------------------\n",
      "18 286\n"
     ]
    },
    {
     "name": "stderr",
     "output_type": "stream",
     "text": [
      "C:\\Anaconda\\lib\\site-packages\\urllib3\\connectionpool.py:1061: InsecureRequestWarning: Unverified HTTPS request is being made to host 'regulondb.ccg.unam.mx'. Adding certificate verification is strongly advised. See: https://urllib3.readthedocs.io/en/1.26.x/advanced-usage.html#ssl-warnings\n",
      "  warnings.warn(\n"
     ]
    },
    {
     "name": "stdout",
     "output_type": "stream",
     "text": [
      "success:\n",
      "[{'subjekt': 'AgrB', 'predikat': 'repressor', 'objekt': 'dinQ'}]\n",
      "---------------------------\n",
      "19 286\n"
     ]
    },
    {
     "name": "stderr",
     "output_type": "stream",
     "text": [
      "C:\\Anaconda\\lib\\site-packages\\urllib3\\connectionpool.py:1061: InsecureRequestWarning: Unverified HTTPS request is being made to host 'regulondb.ccg.unam.mx'. Adding certificate verification is strongly advised. See: https://urllib3.readthedocs.io/en/1.26.x/advanced-usage.html#ssl-warnings\n",
      "  warnings.warn(\n"
     ]
    },
    {
     "name": "stdout",
     "output_type": "stream",
     "text": [
      "success:\n",
      "[{'subjekt': 'RalA', 'predikat': 'repressor', 'objekt': 'ralR'}]\n",
      "---------------------------\n",
      "20 286\n"
     ]
    },
    {
     "name": "stderr",
     "output_type": "stream",
     "text": [
      "C:\\Anaconda\\lib\\site-packages\\urllib3\\connectionpool.py:1061: InsecureRequestWarning: Unverified HTTPS request is being made to host 'regulondb.ccg.unam.mx'. Adding certificate verification is strongly advised. See: https://urllib3.readthedocs.io/en/1.26.x/advanced-usage.html#ssl-warnings\n",
      "  warnings.warn(\n"
     ]
    },
    {
     "name": "stdout",
     "output_type": "stream",
     "text": [
      "success:\n",
      "[{'subjekt': 'MicL-S', 'predikat': 'repressor', 'objekt': 'lpp'}]\n",
      "---------------------------\n",
      "21 286\n"
     ]
    },
    {
     "name": "stderr",
     "output_type": "stream",
     "text": [
      "C:\\Anaconda\\lib\\site-packages\\urllib3\\connectionpool.py:1061: InsecureRequestWarning: Unverified HTTPS request is being made to host 'regulondb.ccg.unam.mx'. Adding certificate verification is strongly advised. See: https://urllib3.readthedocs.io/en/1.26.x/advanced-usage.html#ssl-warnings\n",
      "  warnings.warn(\n"
     ]
    },
    {
     "name": "stdout",
     "output_type": "stream",
     "text": [
      "success:\n",
      "[{'subjekt': 'CpxQ', 'predikat': 'repressor', 'objekt': 'cpxP'}, {'subjekt': 'CpxQ', 'predikat': 'repressor', 'objekt': 'skp'}, {'subjekt': 'CpxQ', 'predikat': 'repressor', 'objekt': 'cfa'}]\n",
      "---------------------------\n",
      "22 286\n"
     ]
    },
    {
     "name": "stderr",
     "output_type": "stream",
     "text": [
      "C:\\Anaconda\\lib\\site-packages\\urllib3\\connectionpool.py:1061: InsecureRequestWarning: Unverified HTTPS request is being made to host 'regulondb.ccg.unam.mx'. Adding certificate verification is strongly advised. See: https://urllib3.readthedocs.io/en/1.26.x/advanced-usage.html#ssl-warnings\n",
      "  warnings.warn(\n"
     ]
    },
    {
     "name": "stdout",
     "output_type": "stream",
     "text": [
      "success:\n",
      "[{'subjekt': 'SdhX', 'predikat': 'repressor', 'objekt': 'fdoG'}, {'subjekt': 'SdhX', 'predikat': 'repressor', 'objekt': 'fdoI'}, {'subjekt': 'SdhX', 'predikat': 'repressor', 'objekt': 'fdhE'}, {'subjekt': 'SdhX', 'predikat': 'repressor', 'objekt': 'fdoH'}, {'subjekt': 'SdhX', 'predikat': 'repressor', 'objekt': 'katG'}, {'subjekt': 'SdhX', 'predikat': 'repressor', 'objekt': 'ackA'}]\n",
      "---------------------------\n",
      "23 286\n"
     ]
    },
    {
     "name": "stderr",
     "output_type": "stream",
     "text": [
      "C:\\Anaconda\\lib\\site-packages\\urllib3\\connectionpool.py:1061: InsecureRequestWarning: Unverified HTTPS request is being made to host 'regulondb.ccg.unam.mx'. Adding certificate verification is strongly advised. See: https://urllib3.readthedocs.io/en/1.26.x/advanced-usage.html#ssl-warnings\n",
      "  warnings.warn(\n"
     ]
    },
    {
     "name": "stdout",
     "output_type": "stream",
     "text": [
      "success:\n",
      "[{'subjekt': 'C0293', 'predikat': 'repressor', 'objekt': 'hcaR'}, {'subjekt': 'C0293', 'predikat': 'repressor', 'objekt': 'iroK'}, {'subjekt': 'C0293', 'predikat': 'repressor', 'objekt': 'fadR'}]\n",
      "---------------------------\n",
      "24 286\n"
     ]
    },
    {
     "name": "stderr",
     "output_type": "stream",
     "text": [
      "C:\\Anaconda\\lib\\site-packages\\urllib3\\connectionpool.py:1061: InsecureRequestWarning: Unverified HTTPS request is being made to host 'regulondb.ccg.unam.mx'. Adding certificate verification is strongly advised. See: https://urllib3.readthedocs.io/en/1.26.x/advanced-usage.html#ssl-warnings\n",
      "  warnings.warn(\n"
     ]
    },
    {
     "name": "stdout",
     "output_type": "stream",
     "text": [
      "success:\n",
      "[{'subjekt': 'MalH', 'predikat': 'repressor', 'objekt': 'ompC'}]\n",
      "---------------------------\n",
      "25 286\n"
     ]
    },
    {
     "name": "stderr",
     "output_type": "stream",
     "text": [
      "C:\\Anaconda\\lib\\site-packages\\urllib3\\connectionpool.py:1061: InsecureRequestWarning: Unverified HTTPS request is being made to host 'regulondb.ccg.unam.mx'. Adding certificate verification is strongly advised. See: https://urllib3.readthedocs.io/en/1.26.x/advanced-usage.html#ssl-warnings\n",
      "  warnings.warn(\n"
     ]
    },
    {
     "name": "stdout",
     "output_type": "stream",
     "text": [
      "success:\n",
      "[{'subjekt': 'RprA', 'predikat': 'repressor', 'objekt': 'csgG'}, {'subjekt': 'RprA', 'predikat': 'repressor', 'objekt': 'csgF'}, {'subjekt': 'RprA', 'predikat': 'repressor', 'objekt': 'csgD'}, {'subjekt': 'RprA', 'predikat': 'repressor', 'objekt': 'csgE'}, {'subjekt': 'RprA', 'predikat': 'repressor', 'objekt': 'dgcM'}, {'subjekt': 'RprA', 'predikat': 'repressor', 'objekt': 'hdeD'}, {'subjekt': 'RprA', 'predikat': 'repressor', 'objekt': 'narP'}, {'subjekt': 'RprA', 'predikat': 'repressor', 'objekt': 'lrhA'}, {'subjekt': 'RprA', 'predikat': 'activator', 'objekt': 'rpoS'}]\n",
      "---------------------------\n",
      "26 286\n"
     ]
    },
    {
     "name": "stderr",
     "output_type": "stream",
     "text": [
      "C:\\Anaconda\\lib\\site-packages\\urllib3\\connectionpool.py:1061: InsecureRequestWarning: Unverified HTTPS request is being made to host 'regulondb.ccg.unam.mx'. Adding certificate verification is strongly advised. See: https://urllib3.readthedocs.io/en/1.26.x/advanced-usage.html#ssl-warnings\n",
      "  warnings.warn(\n"
     ]
    },
    {
     "name": "stdout",
     "output_type": "stream",
     "text": [
      "success:\n",
      "[{'subjekt': 'RybB', 'predikat': 'repressor', 'objekt': 'ompC'}, {'subjekt': 'RybB', 'predikat': 'repressor', 'objekt': 'ompW'}, {'subjekt': 'RybB', 'predikat': 'repressor', 'objekt': 'tsx'}, {'subjekt': 'RybB', 'predikat': 'repressor', 'objekt': 'sdhC'}, {'subjekt': 'RybB', 'predikat': 'activator', 'objekt': 'maoP'}, {'subjekt': 'RybB', 'predikat': 'repressor', 'objekt': 'ompF'}, {'subjekt': 'RybB', 'predikat': 'repressor', 'objekt': 'nmpC'}, {'subjekt': 'RybB', 'predikat': 'repressor', 'objekt': 'fiu'}, {'subjekt': 'RybB', 'predikat': 'repressor', 'objekt': 'rluD'}, {'subjekt': 'RybB', 'predikat': 'repressor', 'objekt': 'fadL'}, {'subjekt': 'RybB', 'predikat': 'repressor', 'objekt': 'rbsB'}, {'subjekt': 'RybB', 'predikat': 'repressor', 'objekt': 'csgG'}, {'subjekt': 'RybB', 'predikat': 'repressor', 'objekt': 'csgF'}, {'subjekt': 'RybB', 'predikat': 'repressor', 'objekt': 'csgD'}, {'subjekt': 'RybB', 'predikat': 'repressor', 'objekt': 'csgE'}]\n",
      "---------------------------\n",
      "27 286\n"
     ]
    },
    {
     "name": "stderr",
     "output_type": "stream",
     "text": [
      "C:\\Anaconda\\lib\\site-packages\\urllib3\\connectionpool.py:1061: InsecureRequestWarning: Unverified HTTPS request is being made to host 'regulondb.ccg.unam.mx'. Adding certificate verification is strongly advised. See: https://urllib3.readthedocs.io/en/1.26.x/advanced-usage.html#ssl-warnings\n",
      "  warnings.warn(\n"
     ]
    },
    {
     "name": "stdout",
     "output_type": "stream",
     "text": [
      "success:\n",
      "[{'subjekt': 'SdsR', 'predikat': 'repressor', 'objekt': 'mutS'}, {'subjekt': 'SdsR', 'predikat': 'repressor', 'objekt': 'tolC'}, {'subjekt': 'SdsR', 'predikat': 'repressor', 'objekt': 'zapG'}]\n",
      "---------------------------\n",
      "28 286\n"
     ]
    },
    {
     "name": "stderr",
     "output_type": "stream",
     "text": [
      "C:\\Anaconda\\lib\\site-packages\\urllib3\\connectionpool.py:1061: InsecureRequestWarning: Unverified HTTPS request is being made to host 'regulondb.ccg.unam.mx'. Adding certificate verification is strongly advised. See: https://urllib3.readthedocs.io/en/1.26.x/advanced-usage.html#ssl-warnings\n",
      "  warnings.warn(\n"
     ]
    },
    {
     "name": "stdout",
     "output_type": "stream",
     "text": [
      "success:\n",
      "[{'subjekt': 'CyaR', 'predikat': 'repressor', 'objekt': 'nadE'}, {'subjekt': 'CyaR', 'predikat': 'repressor', 'objekt': 'yqaE'}, {'subjekt': 'CyaR', 'predikat': 'repressor', 'objekt': 'luxS'}, {'subjekt': 'CyaR', 'predikat': 'repressor', 'objekt': 'yobF'}, {'subjekt': 'CyaR', 'predikat': 'repressor', 'objekt': 'hdeD'}, {'subjekt': 'CyaR', 'predikat': 'repressor', 'objekt': 'yacL'}, {'subjekt': 'CyaR', 'predikat': 'repressor', 'objekt': 'rpoS'}, {'subjekt': 'CyaR', 'predikat': 'repressor', 'objekt': 'ompX'}, {'subjekt': 'CyaR', 'predikat': 'repressor', 'objekt': 'yliM'}]\n",
      "---------------------------\n",
      "29 286\n"
     ]
    },
    {
     "name": "stderr",
     "output_type": "stream",
     "text": [
      "C:\\Anaconda\\lib\\site-packages\\urllib3\\connectionpool.py:1061: InsecureRequestWarning: Unverified HTTPS request is being made to host 'regulondb.ccg.unam.mx'. Adding certificate verification is strongly advised. See: https://urllib3.readthedocs.io/en/1.26.x/advanced-usage.html#ssl-warnings\n",
      "  warnings.warn(\n",
      "C:\\Anaconda\\lib\\site-packages\\urllib3\\connectionpool.py:1061: InsecureRequestWarning: Unverified HTTPS request is being made to host 'regulondb.ccg.unam.mx'. Adding certificate verification is strongly advised. See: https://urllib3.readthedocs.io/en/1.26.x/advanced-usage.html#ssl-warnings\n",
      "  warnings.warn(\n"
     ]
    },
    {
     "name": "stdout",
     "output_type": "stream",
     "text": [
      "success:\n",
      "[{'subjekt': 'OmrB', 'predikat': 'repressor', 'objekt': 'csgG'}, {'subjekt': 'OmrB', 'predikat': 'repressor', 'objekt': 'csgF'}, {'subjekt': 'OmrB', 'predikat': 'repressor', 'objekt': 'csgD'}, {'subjekt': 'OmrB', 'predikat': 'repressor', 'objekt': 'csgE'}, {'subjekt': 'OmrB', 'predikat': 'repressor', 'objekt': 'flhD'}, {'subjekt': 'OmrB', 'predikat': 'repressor', 'objekt': 'flhC'}, {'subjekt': 'OmrB', 'predikat': 'repressor', 'objekt': 'ompR'}, {'subjekt': 'OmrB', 'predikat': 'repressor', 'objekt': 'fepA'}, {'subjekt': 'OmrB', 'predikat': 'repressor', 'objekt': 'dgcM'}, {'subjekt': 'OmrB', 'predikat': 'repressor', 'objekt': 'flgM'}, {'subjekt': 'OmrB', 'predikat': 'repressor', 'objekt': 'cirA'}, {'subjekt': 'OmrB', 'predikat': 'repressor', 'objekt': 'ompT'}]\n",
      "---------------------------\n",
      "30 286\n"
     ]
    },
    {
     "name": "stderr",
     "output_type": "stream",
     "text": [
      "C:\\Anaconda\\lib\\site-packages\\urllib3\\connectionpool.py:1061: InsecureRequestWarning: Unverified HTTPS request is being made to host 'regulondb.ccg.unam.mx'. Adding certificate verification is strongly advised. See: https://urllib3.readthedocs.io/en/1.26.x/advanced-usage.html#ssl-warnings\n",
      "  warnings.warn(\n"
     ]
    },
    {
     "name": "stdout",
     "output_type": "stream",
     "text": [
      "success:\n",
      "[{'subjekt': 'SibC', 'predikat': 'repressor', 'objekt': 'ibsC'}]\n",
      "---------------------------\n",
      "31 286\n"
     ]
    },
    {
     "name": "stderr",
     "output_type": "stream",
     "text": [
      "C:\\Anaconda\\lib\\site-packages\\urllib3\\connectionpool.py:1061: InsecureRequestWarning: Unverified HTTPS request is being made to host 'regulondb.ccg.unam.mx'. Adding certificate verification is strongly advised. See: https://urllib3.readthedocs.io/en/1.26.x/advanced-usage.html#ssl-warnings\n",
      "  warnings.warn(\n"
     ]
    },
    {
     "name": "stdout",
     "output_type": "stream",
     "text": [
      "success:\n",
      "[{'subjekt': 'Spf', 'predikat': 'repressor', 'objekt': 'galK'}, {'subjekt': 'Spf', 'predikat': 'repressor', 'objekt': 'gltA'}, {'subjekt': 'Spf', 'predikat': 'repressor', 'objekt': 'maeA'}, {'subjekt': 'Spf', 'predikat': 'repressor', 'objekt': 'sthA'}, {'subjekt': 'Spf', 'predikat': 'repressor', 'objekt': 'srlA'}, {'subjekt': 'Spf', 'predikat': 'repressor', 'objekt': 'fucI'}, {'subjekt': 'Spf', 'predikat': 'repressor', 'objekt': 'fucK'}, {'subjekt': 'Spf', 'predikat': 'repressor', 'objekt': 'xylF'}, {'subjekt': 'Spf', 'predikat': 'repressor', 'objekt': 'nanC'}, {'subjekt': 'Spf', 'predikat': 'repressor', 'objekt': 'nanT'}, {'subjekt': 'Spf', 'predikat': 'repressor', 'objekt': 'lldP'}, {'subjekt': 'Spf', 'predikat': 'repressor', 'objekt': 'ebgC'}, {'subjekt': 'Spf', 'predikat': 'repressor', 'objekt': 'yjiA'}, {'subjekt': 'Spf', 'predikat': 'repressor', 'objekt': 'ytfJ'}, {'subjekt': 'Spf', 'predikat': 'activator', 'objekt': 'dppB'}, {'subjekt': 'Spf', 'predikat': 'activator', 'objekt': 'gss'}, {'subjekt': 'Spf', 'predikat': 'repressor', 'objekt': 'puuE'}, {'subjekt': 'Spf', 'predikat': 'repressor', 'objekt': 'ascF'}, {'subjekt': 'Spf', 'predikat': 'repressor', 'objekt': 'fucP'}, {'subjekt': 'Spf', 'predikat': 'repressor', 'objekt': 'glpF'}, {'subjekt': 'Spf', 'predikat': 'repressor', 'objekt': 'paaK'}, {'subjekt': 'Spf', 'predikat': 'repressor', 'objekt': 'atoD'}, {'subjekt': 'Spf', 'predikat': 'repressor', 'objekt': 'caiA'}, {'subjekt': 'Spf', 'predikat': 'repressor', 'objekt': 'sdhC'}, {'subjekt': 'Spf', 'predikat': 'repressor', 'objekt': 'gdhA'}, {'subjekt': 'Spf', 'predikat': 'repressor', 'objekt': 'sucC'}, {'subjekt': 'Spf', 'predikat': 'repressor', 'objekt': 'araF'}]\n",
      "---------------------------\n",
      "32 286\n"
     ]
    },
    {
     "name": "stderr",
     "output_type": "stream",
     "text": [
      "C:\\Anaconda\\lib\\site-packages\\urllib3\\connectionpool.py:1061: InsecureRequestWarning: Unverified HTTPS request is being made to host 'regulondb.ccg.unam.mx'. Adding certificate verification is strongly advised. See: https://urllib3.readthedocs.io/en/1.26.x/advanced-usage.html#ssl-warnings\n",
      "  warnings.warn(\n"
     ]
    },
    {
     "name": "stdout",
     "output_type": "stream",
     "text": [
      "success:\n",
      "[{'subjekt': 'MicA', 'predikat': 'repressor', 'objekt': 'ompA'}, {'subjekt': 'MicA', 'predikat': 'repressor', 'objekt': 'ompX'}, {'subjekt': 'MicA', 'predikat': 'repressor', 'objekt': 'yliM'}, {'subjekt': 'MicA', 'predikat': 'repressor', 'objekt': 'phoQ'}, {'subjekt': 'MicA', 'predikat': 'repressor', 'objekt': 'phoP'}, {'subjekt': 'MicA', 'predikat': 'repressor', 'objekt': 'lamB'}, {'subjekt': 'MicA', 'predikat': 'repressor', 'objekt': 'ompW'}, {'subjekt': 'MicA', 'predikat': 'repressor', 'objekt': 'tsx'}, {'subjekt': 'MicA', 'predikat': 'repressor', 'objekt': 'ygiM'}, {'subjekt': 'MicA', 'predikat': 'repressor', 'objekt': 'yfeK'}, {'subjekt': 'MicA', 'predikat': 'repressor', 'objekt': 'ecnB'}, {'subjekt': 'MicA', 'predikat': 'repressor', 'objekt': 'fimB'}, {'subjekt': 'MicA', 'predikat': 'repressor', 'objekt': 'lpxT'}, {'subjekt': 'MicA', 'predikat': 'repressor', 'objekt': 'ldtC'}, {'subjekt': 'MicA', 'predikat': 'repressor', 'objekt': 'tolB'}, {'subjekt': 'MicA', 'predikat': 'repressor', 'objekt': 'pal'}, {'subjekt': 'MicA', 'predikat': 'repressor', 'objekt': 'cpoB'}, {'subjekt': 'MicA', 'predikat': 'repressor', 'objekt': 'gloA'}]\n",
      "---------------------------\n",
      "33 286\n"
     ]
    },
    {
     "name": "stderr",
     "output_type": "stream",
     "text": [
      "C:\\Anaconda\\lib\\site-packages\\urllib3\\connectionpool.py:1061: InsecureRequestWarning: Unverified HTTPS request is being made to host 'regulondb.ccg.unam.mx'. Adding certificate verification is strongly advised. See: https://urllib3.readthedocs.io/en/1.26.x/advanced-usage.html#ssl-warnings\n",
      "  warnings.warn(\n"
     ]
    },
    {
     "name": "stdout",
     "output_type": "stream",
     "text": [
      "success:\n",
      "[{'subjekt': 'OmrA', 'predikat': 'repressor', 'objekt': 'csgG'}, {'subjekt': 'OmrA', 'predikat': 'repressor', 'objekt': 'csgF'}, {'subjekt': 'OmrA', 'predikat': 'repressor', 'objekt': 'csgD'}, {'subjekt': 'OmrA', 'predikat': 'repressor', 'objekt': 'csgE'}, {'subjekt': 'OmrA', 'predikat': 'repressor', 'objekt': 'flhD'}, {'subjekt': 'OmrA', 'predikat': 'repressor', 'objekt': 'flhC'}, {'subjekt': 'OmrA', 'predikat': 'repressor', 'objekt': 'ompR'}, {'subjekt': 'OmrA', 'predikat': 'repressor', 'objekt': 'fepA'}, {'subjekt': 'OmrA', 'predikat': 'repressor', 'objekt': 'dgcM'}, {'subjekt': 'OmrA', 'predikat': 'repressor', 'objekt': 'flgM'}, {'subjekt': 'OmrA', 'predikat': 'repressor', 'objekt': 'ompT'}, {'subjekt': 'OmrA', 'predikat': 'repressor', 'objekt': 'cirA'}]\n",
      "---------------------------\n",
      "34 286\n"
     ]
    },
    {
     "name": "stderr",
     "output_type": "stream",
     "text": [
      "C:\\Anaconda\\lib\\site-packages\\urllib3\\connectionpool.py:1061: InsecureRequestWarning: Unverified HTTPS request is being made to host 'regulondb.ccg.unam.mx'. Adding certificate verification is strongly advised. See: https://urllib3.readthedocs.io/en/1.26.x/advanced-usage.html#ssl-warnings\n",
      "  warnings.warn(\n"
     ]
    },
    {
     "name": "stdout",
     "output_type": "stream",
     "text": [
      "success:\n",
      "[{'subjekt': 'SraG', 'predikat': 'repressor', 'objekt': 'pnp'}]\n",
      "---------------------------\n",
      "35 286\n"
     ]
    },
    {
     "name": "stderr",
     "output_type": "stream",
     "text": [
      "C:\\Anaconda\\lib\\site-packages\\urllib3\\connectionpool.py:1061: InsecureRequestWarning: Unverified HTTPS request is being made to host 'regulondb.ccg.unam.mx'. Adding certificate verification is strongly advised. See: https://urllib3.readthedocs.io/en/1.26.x/advanced-usage.html#ssl-warnings\n",
      "  warnings.warn(\n"
     ]
    },
    {
     "name": "stdout",
     "output_type": "stream",
     "text": [
      "success:\n",
      "[{'subjekt': 'ArcZ', 'predikat': 'activator', 'objekt': 'rpoS'}, {'subjekt': 'ArcZ', 'predikat': 'repressor', 'objekt': 'flhD'}, {'subjekt': 'ArcZ', 'predikat': 'repressor', 'objekt': 'flhC'}, {'subjekt': 'ArcZ', 'predikat': 'repressor', 'objekt': 'eptB'}, {'subjekt': 'ArcZ', 'predikat': 'repressor', 'objekt': 'mutS'}, {'subjekt': 'ArcZ', 'predikat': 'repressor', 'objekt': 'lrhA'}]\n",
      "---------------------------\n",
      "36 286\n"
     ]
    },
    {
     "name": "stderr",
     "output_type": "stream",
     "text": [
      "C:\\Anaconda\\lib\\site-packages\\urllib3\\connectionpool.py:1061: InsecureRequestWarning: Unverified HTTPS request is being made to host 'regulondb.ccg.unam.mx'. Adding certificate verification is strongly advised. See: https://urllib3.readthedocs.io/en/1.26.x/advanced-usage.html#ssl-warnings\n",
      "  warnings.warn(\n"
     ]
    },
    {
     "name": "stdout",
     "output_type": "stream",
     "text": [
      "success:\n",
      "[{'subjekt': 'RyhB', 'predikat': 'repressor', 'objekt': 'sodB'}, {'subjekt': 'RyhB', 'predikat': 'repressor', 'objekt': 'sdhA'}, {'subjekt': 'RyhB', 'predikat': 'repressor', 'objekt': 'sdhX'}, {'subjekt': 'RyhB', 'predikat': 'repressor', 'objekt': 'sucB'}, {'subjekt': 'RyhB', 'predikat': 'repressor', 'objekt': 'sucA'}, {'subjekt': 'RyhB', 'predikat': 'repressor', 'objekt': 'sdhB'}, {'subjekt': 'RyhB', 'predikat': 'repressor', 'objekt': 'sdhD'}, {'subjekt': 'RyhB', 'predikat': 'repressor', 'objekt': 'sucD'}, {'subjekt': 'RyhB', 'predikat': 'repressor', 'objekt': 'sdhC'}, {'subjekt': 'RyhB', 'predikat': 'repressor', 'objekt': 'sucC'}, {'subjekt': 'RyhB', 'predikat': 'repressor', 'objekt': 'uof'}, {'subjekt': 'RyhB', 'predikat': 'repressor', 'objekt': 'fur'}, {'subjekt': 'RyhB', 'predikat': 'repressor', 'objekt': 'iscR'}, {'subjekt': 'RyhB', 'predikat': 'repressor', 'objekt': 'iscU'}, {'subjekt': 'RyhB', 'predikat': 'repressor', 'objekt': 'iscA'}, {'subjekt': 'RyhB', 'predikat': 'repressor', 'objekt': 'iscS'}, {'subjekt': 'RyhB', 'predikat': 'repressor', 'objekt': 'cysE'}, {'subjekt': 'RyhB', 'predikat': 'activator', 'objekt': 'shiA'}, {'subjekt': 'RyhB', 'predikat': 'repressor', 'objekt': 'fumA'}, {'subjekt': 'RyhB', 'predikat': 'repressor', 'objekt': 'sodA'}, {'subjekt': 'RyhB', 'predikat': 'repressor', 'objekt': 'msrB'}, {'subjekt': 'RyhB', 'predikat': 'repressor', 'objekt': 'nirB'}, {'subjekt': 'RyhB', 'predikat': 'repressor', 'objekt': 'erpA'}, {'subjekt': 'RyhB', 'predikat': 'repressor', 'objekt': 'marA'}, {'subjekt': 'RyhB', 'predikat': 'repressor', 'objekt': 'hemB'}, {'subjekt': 'RyhB', 'predikat': 'repressor', 'objekt': 'hemH'}, {'subjekt': 'RyhB', 'predikat': 'activator', 'objekt': 'cirA'}, {'subjekt': 'RyhB', 'predikat': 'repressor', 'objekt': 'acnB'}, {'subjekt': 'RyhB', 'predikat': 'repressor', 'objekt': 'grxD'}, {'subjekt': 'RyhB', 'predikat': 'repressor', 'objekt': 'bfr'}, {'subjekt': 'RyhB', 'predikat': 'repressor', 'objekt': 'nuoN'}, {'subjekt': 'RyhB', 'predikat': 'repressor', 'objekt': 'nuoF'}, {'subjekt': 'RyhB', 'predikat': 'repressor', 'objekt': 'nuoA'}, {'subjekt': 'RyhB', 'predikat': 'repressor', 'objekt': 'nuoG'}, {'subjekt': 'RyhB', 'predikat': 'repressor', 'objekt': 'nuoI'}, {'subjekt': 'RyhB', 'predikat': 'repressor', 'objekt': 'nuoE'}, {'subjekt': 'RyhB', 'predikat': 'repressor', 'objekt': 'nuoB'}, {'subjekt': 'RyhB', 'predikat': 'repressor', 'objekt': 'nuoC'}, {'subjekt': 'RyhB', 'predikat': 'repressor', 'objekt': 'nuoK'}, {'subjekt': 'RyhB', 'predikat': 'repressor', 'objekt': 'nuoL'}, {'subjekt': 'RyhB', 'predikat': 'repressor', 'objekt': 'nuoH'}, {'subjekt': 'RyhB', 'predikat': 'repressor', 'objekt': 'nuoJ'}, {'subjekt': 'RyhB', 'predikat': 'repressor', 'objekt': 'nuoM'}]\n",
      "---------------------------\n",
      "37 286\n"
     ]
    },
    {
     "name": "stderr",
     "output_type": "stream",
     "text": [
      "C:\\Anaconda\\lib\\site-packages\\urllib3\\connectionpool.py:1061: InsecureRequestWarning: Unverified HTTPS request is being made to host 'regulondb.ccg.unam.mx'. Adding certificate verification is strongly advised. See: https://urllib3.readthedocs.io/en/1.26.x/advanced-usage.html#ssl-warnings\n",
      "  warnings.warn(\n"
     ]
    },
    {
     "name": "stdout",
     "output_type": "stream",
     "text": [
      "success:\n",
      "[{'subjekt': 'GlmZ', 'predikat': 'activator', 'objekt': 'glmS'}, {'subjekt': 'GlmZ', 'predikat': 'activator', 'objekt': 'glmU'}]\n",
      "---------------------------\n",
      "38 286\n"
     ]
    },
    {
     "name": "stderr",
     "output_type": "stream",
     "text": [
      "C:\\Anaconda\\lib\\site-packages\\urllib3\\connectionpool.py:1061: InsecureRequestWarning: Unverified HTTPS request is being made to host 'regulondb.ccg.unam.mx'. Adding certificate verification is strongly advised. See: https://urllib3.readthedocs.io/en/1.26.x/advanced-usage.html#ssl-warnings\n",
      "  warnings.warn(\n"
     ]
    },
    {
     "name": "stdout",
     "output_type": "stream",
     "text": [
      "success:\n",
      "[{'subjekt': 'MicC', 'predikat': 'repressor', 'objekt': 'ompC'}]\n",
      "---------------------------\n",
      "39 286\n"
     ]
    },
    {
     "name": "stderr",
     "output_type": "stream",
     "text": [
      "C:\\Anaconda\\lib\\site-packages\\urllib3\\connectionpool.py:1061: InsecureRequestWarning: Unverified HTTPS request is being made to host 'regulondb.ccg.unam.mx'. Adding certificate verification is strongly advised. See: https://urllib3.readthedocs.io/en/1.26.x/advanced-usage.html#ssl-warnings\n",
      "  warnings.warn(\n"
     ]
    },
    {
     "name": "stdout",
     "output_type": "stream",
     "text": [
      "success:\n",
      "[{'subjekt': 'AzuR', 'predikat': 'repressor', 'objekt': 'cadA'}, {'subjekt': 'AzuR', 'predikat': 'repressor', 'objekt': 'galE'}]\n",
      "---------------------------\n",
      "40 286\n"
     ]
    },
    {
     "name": "stderr",
     "output_type": "stream",
     "text": [
      "C:\\Anaconda\\lib\\site-packages\\urllib3\\connectionpool.py:1061: InsecureRequestWarning: Unverified HTTPS request is being made to host 'regulondb.ccg.unam.mx'. Adding certificate verification is strongly advised. See: https://urllib3.readthedocs.io/en/1.26.x/advanced-usage.html#ssl-warnings\n",
      "  warnings.warn(\n"
     ]
    },
    {
     "name": "stdout",
     "output_type": "stream",
     "text": [
      "success:\n",
      "[{'subjekt': 'FimR2', 'predikat': 'repressor', 'objekt': 'fliR'}, {'subjekt': 'FimR2', 'predikat': 'repressor', 'objekt': 'fliG'}, {'subjekt': 'FimR2', 'predikat': 'repressor', 'objekt': 'fliI'}, {'subjekt': 'FimR2', 'predikat': 'repressor', 'objekt': 'fliJ'}, {'subjekt': 'FimR2', 'predikat': 'activator', 'objekt': 'hofQ'}]\n",
      "---------------------------\n",
      "41 286\n"
     ]
    },
    {
     "name": "stderr",
     "output_type": "stream",
     "text": [
      "C:\\Anaconda\\lib\\site-packages\\urllib3\\connectionpool.py:1061: InsecureRequestWarning: Unverified HTTPS request is being made to host 'regulondb.ccg.unam.mx'. Adding certificate verification is strongly advised. See: https://urllib3.readthedocs.io/en/1.26.x/advanced-usage.html#ssl-warnings\n",
      "  warnings.warn(\n"
     ]
    },
    {
     "name": "stdout",
     "output_type": "stream",
     "text": [
      "success:\n",
      "[{'subjekt': 'GlnZ', 'predikat': 'repressor', 'objekt': 'glnP'}, {'subjekt': 'GlnZ', 'predikat': 'repressor', 'objekt': 'sucA'}]\n",
      "---------------------------\n",
      "42 286\n"
     ]
    },
    {
     "name": "stderr",
     "output_type": "stream",
     "text": [
      "C:\\Anaconda\\lib\\site-packages\\urllib3\\connectionpool.py:1061: InsecureRequestWarning: Unverified HTTPS request is being made to host 'regulondb.ccg.unam.mx'. Adding certificate verification is strongly advised. See: https://urllib3.readthedocs.io/en/1.26.x/advanced-usage.html#ssl-warnings\n",
      "  warnings.warn(\n"
     ]
    },
    {
     "name": "stdout",
     "output_type": "stream",
     "text": [
      "success:\n",
      "[{'subjekt': 'AsflhD', 'predikat': 'repressor', 'objekt': 'flhD'}]\n",
      "---------------------------\n",
      "43 286\n"
     ]
    },
    {
     "name": "stderr",
     "output_type": "stream",
     "text": [
      "C:\\Anaconda\\lib\\site-packages\\urllib3\\connectionpool.py:1061: InsecureRequestWarning: Unverified HTTPS request is being made to host 'regulondb.ccg.unam.mx'. Adding certificate verification is strongly advised. See: https://urllib3.readthedocs.io/en/1.26.x/advanced-usage.html#ssl-warnings\n",
      "  warnings.warn(\n"
     ]
    },
    {
     "name": "stdout",
     "output_type": "stream",
     "text": [
      "success:\n",
      "[{'subjekt': 'StfZ', 'predikat': 'repressor', 'objekt': 'ftsZ'}]\n",
      "---------------------------\n",
      "44 286\n"
     ]
    },
    {
     "name": "stderr",
     "output_type": "stream",
     "text": [
      "C:\\Anaconda\\lib\\site-packages\\urllib3\\connectionpool.py:1061: InsecureRequestWarning: Unverified HTTPS request is being made to host 'regulondb.ccg.unam.mx'. Adding certificate verification is strongly advised. See: https://urllib3.readthedocs.io/en/1.26.x/advanced-usage.html#ssl-warnings\n",
      "  warnings.warn(\n"
     ]
    },
    {
     "name": "stdout",
     "output_type": "stream",
     "text": [
      "success:\n",
      "[{'subjekt': 'AmeF', 'predikat': 'activator', 'objekt': 'mazE'}, {'subjekt': 'AmeF', 'predikat': 'activator', 'objekt': 'mazF'}]\n",
      "---------------------------\n",
      "45 286\n"
     ]
    },
    {
     "name": "stderr",
     "output_type": "stream",
     "text": [
      "C:\\Anaconda\\lib\\site-packages\\urllib3\\connectionpool.py:1061: InsecureRequestWarning: Unverified HTTPS request is being made to host 'regulondb.ccg.unam.mx'. Adding certificate verification is strongly advised. See: https://urllib3.readthedocs.io/en/1.26.x/advanced-usage.html#ssl-warnings\n",
      "  warnings.warn(\n"
     ]
    },
    {
     "name": "stdout",
     "output_type": "stream",
     "text": [
      "success:\n",
      "[{'subjekt': 'YrdG', 'predikat': 'repressor', 'objekt': 'mscL'}]\n",
      "---------------------------\n",
      "46 286\n"
     ]
    },
    {
     "name": "stderr",
     "output_type": "stream",
     "text": [
      "C:\\Anaconda\\lib\\site-packages\\urllib3\\connectionpool.py:1061: InsecureRequestWarning: Unverified HTTPS request is being made to host 'regulondb.ccg.unam.mx'. Adding certificate verification is strongly advised. See: https://urllib3.readthedocs.io/en/1.26.x/advanced-usage.html#ssl-warnings\n",
      "  warnings.warn(\n"
     ]
    },
    {
     "name": "stdout",
     "output_type": "stream",
     "text": [
      "success:\n",
      "[{'subjekt': 'ExuR', 'predikat': 'repressor', 'objekt': 'lgoR'}, {'subjekt': 'ExuR', 'predikat': 'repressor', 'objekt': 'lgoD'}, {'subjekt': 'ExuR', 'predikat': 'repressor', 'objekt': 'exuT'}, {'subjekt': 'ExuR', 'predikat': 'repressor', 'objekt': 'uxaB'}, {'subjekt': 'ExuR', 'predikat': 'repressor', 'objekt': 'uxaA'}, {'subjekt': 'ExuR', 'predikat': 'repressor', 'objekt': 'uxaC'}, {'subjekt': 'ExuR', 'predikat': 'repressor', 'objekt': 'exuR'}, {'subjekt': 'ExuR', 'predikat': 'repressor', 'objekt': 'uxuA'}, {'subjekt': 'ExuR', 'predikat': 'repressor', 'objekt': 'uxuB'}, {'subjekt': 'ExuR', 'predikat': 'repressor', 'objekt': 'uxuR'}]\n",
      "---------------------------\n",
      "47 286\n"
     ]
    },
    {
     "name": "stderr",
     "output_type": "stream",
     "text": [
      "C:\\Anaconda\\lib\\site-packages\\urllib3\\connectionpool.py:1061: InsecureRequestWarning: Unverified HTTPS request is being made to host 'regulondb.ccg.unam.mx'. Adding certificate verification is strongly advised. See: https://urllib3.readthedocs.io/en/1.26.x/advanced-usage.html#ssl-warnings\n",
      "  warnings.warn(\n"
     ]
    },
    {
     "name": "stdout",
     "output_type": "stream",
     "text": [
      "success:\n",
      "[{'subjekt': 'AsnC', 'predikat': 'repressor', 'objekt': 'asnC'}, {'subjekt': 'AsnC', 'predikat': 'repressor', 'objekt': 'mnmG'}, {'subjekt': 'AsnC', 'predikat': 'repressor', 'objekt': 'mioC'}, {'subjekt': 'AsnC', 'predikat': 'activator', 'objekt': 'asnA'}]\n",
      "---------------------------\n",
      "48 286\n"
     ]
    },
    {
     "name": "stderr",
     "output_type": "stream",
     "text": [
      "C:\\Anaconda\\lib\\site-packages\\urllib3\\connectionpool.py:1061: InsecureRequestWarning: Unverified HTTPS request is being made to host 'regulondb.ccg.unam.mx'. Adding certificate verification is strongly advised. See: https://urllib3.readthedocs.io/en/1.26.x/advanced-usage.html#ssl-warnings\n",
      "  warnings.warn(\n"
     ]
    },
    {
     "name": "stdout",
     "output_type": "stream",
     "text": [
      "success:\n",
      "[{'subjekt': 'Dan', 'predikat': 'activator', 'objekt': 'ttdR'}, {'subjekt': 'Dan', 'predikat': 'activator', 'objekt': 'ttdB'}, {'subjekt': 'Dan', 'predikat': 'activator', 'objekt': 'ttdT'}, {'subjekt': 'Dan', 'predikat': 'activator', 'objekt': 'ttdA'}]\n",
      "---------------------------\n",
      "49 286\n"
     ]
    },
    {
     "name": "stderr",
     "output_type": "stream",
     "text": [
      "C:\\Anaconda\\lib\\site-packages\\urllib3\\connectionpool.py:1061: InsecureRequestWarning: Unverified HTTPS request is being made to host 'regulondb.ccg.unam.mx'. Adding certificate verification is strongly advised. See: https://urllib3.readthedocs.io/en/1.26.x/advanced-usage.html#ssl-warnings\n",
      "  warnings.warn(\n"
     ]
    },
    {
     "name": "stdout",
     "output_type": "stream",
     "text": [
      "success:\n",
      "[{'subjekt': 'EbgR', 'predikat': 'repressor', 'objekt': 'ebgA'}, {'subjekt': 'EbgR', 'predikat': 'repressor', 'objekt': 'ebgC'}]\n",
      "---------------------------\n",
      "50 286\n"
     ]
    },
    {
     "name": "stderr",
     "output_type": "stream",
     "text": [
      "C:\\Anaconda\\lib\\site-packages\\urllib3\\connectionpool.py:1061: InsecureRequestWarning: Unverified HTTPS request is being made to host 'regulondb.ccg.unam.mx'. Adding certificate verification is strongly advised. See: https://urllib3.readthedocs.io/en/1.26.x/advanced-usage.html#ssl-warnings\n",
      "  warnings.warn(\n"
     ]
    },
    {
     "name": "stdout",
     "output_type": "stream",
     "text": [
      "success:\n",
      "[{'subjekt': 'AgaR', 'predikat': 'repressor', 'objekt': 'agaA'}, {'subjekt': 'AgaR', 'predikat': 'repressor', 'objekt': 'kbaZ'}, {'subjekt': 'AgaR', 'predikat': 'repressor', 'objekt': 'agaW'}, {'subjekt': 'AgaR', 'predikat': 'repressor', 'objekt': 'agaV'}, {'subjekt': 'AgaR', 'predikat': 'repressor', 'objekt': 'agaR'}, {'subjekt': 'AgaR', 'predikat': 'repressor', 'objekt': 'kbaY'}, {'subjekt': 'AgaR', 'predikat': 'repressor', 'objekt': 'agaC'}, {'subjekt': 'AgaR', 'predikat': 'repressor', 'objekt': 'agaD'}, {'subjekt': 'AgaR', 'predikat': 'repressor', 'objekt': 'agaS'}, {'subjekt': 'AgaR', 'predikat': 'repressor', 'objekt': 'agaB'}, {'subjekt': 'AgaR', 'predikat': 'repressor', 'objekt': 'agaI'}]\n",
      "---------------------------\n",
      "51 286\n"
     ]
    },
    {
     "name": "stderr",
     "output_type": "stream",
     "text": [
      "C:\\Anaconda\\lib\\site-packages\\urllib3\\connectionpool.py:1061: InsecureRequestWarning: Unverified HTTPS request is being made to host 'regulondb.ccg.unam.mx'. Adding certificate verification is strongly advised. See: https://urllib3.readthedocs.io/en/1.26.x/advanced-usage.html#ssl-warnings\n",
      "  warnings.warn(\n"
     ]
    },
    {
     "name": "stdout",
     "output_type": "stream",
     "text": [
      "success:\n",
      "[{'subjekt': 'AtoC', 'predikat': 'activator', 'objekt': 'atoD'}, {'subjekt': 'AtoC', 'predikat': 'activator', 'objekt': 'atoB'}, {'subjekt': 'AtoC', 'predikat': 'activator', 'objekt': 'atoE'}, {'subjekt': 'AtoC', 'predikat': 'activator', 'objekt': 'atoA'}]\n",
      "---------------------------\n",
      "52 286\n"
     ]
    },
    {
     "name": "stderr",
     "output_type": "stream",
     "text": [
      "C:\\Anaconda\\lib\\site-packages\\urllib3\\connectionpool.py:1061: InsecureRequestWarning: Unverified HTTPS request is being made to host 'regulondb.ccg.unam.mx'. Adding certificate verification is strongly advised. See: https://urllib3.readthedocs.io/en/1.26.x/advanced-usage.html#ssl-warnings\n",
      "  warnings.warn(\n"
     ]
    },
    {
     "name": "stdout",
     "output_type": "stream",
     "text": [
      "success:\n",
      "[{'subjekt': 'DgoR', 'predikat': 'repressor', 'objekt': 'dgoK'}, {'subjekt': 'DgoR', 'predikat': 'repressor', 'objekt': 'dgoR'}, {'subjekt': 'DgoR', 'predikat': 'repressor', 'objekt': 'dgoT'}, {'subjekt': 'DgoR', 'predikat': 'repressor', 'objekt': 'dgoD'}, {'subjekt': 'DgoR', 'predikat': 'repressor', 'objekt': 'dgoA'}]\n",
      "---------------------------\n",
      "53 286\n"
     ]
    },
    {
     "name": "stderr",
     "output_type": "stream",
     "text": [
      "C:\\Anaconda\\lib\\site-packages\\urllib3\\connectionpool.py:1061: InsecureRequestWarning: Unverified HTTPS request is being made to host 'regulondb.ccg.unam.mx'. Adding certificate verification is strongly advised. See: https://urllib3.readthedocs.io/en/1.26.x/advanced-usage.html#ssl-warnings\n",
      "  warnings.warn(\n"
     ]
    },
    {
     "name": "stdout",
     "output_type": "stream",
     "text": [
      "success:\n",
      "[{'subjekt': 'TdcA', 'predikat': 'activator', 'objekt': 'tdcC'}, {'subjekt': 'TdcA', 'predikat': 'activator', 'objekt': 'tdcE'}, {'subjekt': 'TdcA', 'predikat': 'activator', 'objekt': 'tdcF'}, {'subjekt': 'TdcA', 'predikat': 'activator', 'objekt': 'tdcA'}, {'subjekt': 'TdcA', 'predikat': 'activator', 'objekt': 'tdcD'}, {'subjekt': 'TdcA', 'predikat': 'activator', 'objekt': 'tdcG'}, {'subjekt': 'TdcA', 'predikat': 'activator', 'objekt': 'tdcB'}]\n",
      "---------------------------\n",
      "54 286\n"
     ]
    },
    {
     "name": "stderr",
     "output_type": "stream",
     "text": [
      "C:\\Anaconda\\lib\\site-packages\\urllib3\\connectionpool.py:1061: InsecureRequestWarning: Unverified HTTPS request is being made to host 'regulondb.ccg.unam.mx'. Adding certificate verification is strongly advised. See: https://urllib3.readthedocs.io/en/1.26.x/advanced-usage.html#ssl-warnings\n",
      "  warnings.warn(\n"
     ]
    },
    {
     "name": "stdout",
     "output_type": "stream",
     "text": [
      "success:\n",
      "[{'subjekt': 'NarL', 'predikat': 'activator', 'objekt': 'ogt'}, {'subjekt': 'NarL', 'predikat': 'repressor', 'objekt': 'ynfE'}, {'subjekt': 'NarL', 'predikat': 'repressor', 'objekt': 'ynfG'}, {'subjekt': 'NarL', 'predikat': 'repressor', 'objekt': 'dmsD'}, {'subjekt': 'NarL', 'predikat': 'repressor', 'objekt': 'ynfF'}, {'subjekt': 'NarL', 'predikat': 'repressor', 'objekt': 'ynfH'}, {'subjekt': 'NarL', 'predikat': 'repressor', 'objekt': 'dpiB'}, {'subjekt': 'NarL', 'predikat': 'repressor', 'objekt': 'dpiA'}, {'subjekt': 'NarL', 'predikat': 'repressor', 'objekt': 'citC'}, {'subjekt': 'NarL', 'predikat': 'repressor', 'objekt': 'citE'}, {'subjekt': 'NarL', 'predikat': 'repressor', 'objekt': 'citF'}, {'subjekt': 'NarL', 'predikat': 'repressor', 'objekt': 'citD'}, {'subjekt': 'NarL', 'predikat': 'repressor', 'objekt': 'citG'}, {'subjekt': 'NarL', 'predikat': 'repressor', 'objekt': 'citX'}, {'subjekt': 'NarL', 'predikat': 'activator', 'objekt': 'ydeP'}, {'subjekt': 'NarL', 'predikat': 'repressor', 'objekt': 'ompW'}, {'subjekt': 'NarL', 'predikat': 'repressor', 'objekt': 'hyaD'}, {'subjekt': 'NarL', 'predikat': 'repressor', 'objekt': 'hyaA'}, {'subjekt': 'NarL', 'predikat': 'repressor', 'objekt': 'hyaC'}, {'subjekt': 'NarL', 'predikat': 'repressor', 'objekt': 'hyaB'}, {'subjekt': 'NarL', 'predikat': 'repressor', 'objekt': 'hyaF'}, {'subjekt': 'NarL', 'predikat': 'repressor', 'objekt': 'hyaE'}, {'subjekt': 'NarL', 'predikat': 'repressor', 'objekt': 'adhE'}, {'subjekt': 'NarL', 'predikat': 'repressor', 'objekt': 'frdD'}, {'subjekt': 'NarL', 'predikat': 'repressor', 'objekt': 'frdC'}, {'subjekt': 'NarL', 'predikat': 'repressor', 'objekt': 'frdA'}, {'subjekt': 'NarL', 'predikat': 'repressor', 'objekt': 'frdB'}, {'subjekt': 'NarL', 'predikat': 'activator', 'objekt': 'narI'}, {'subjekt': 'NarL', 'predikat': 'activator', 'objekt': 'narH'}, {'subjekt': 'NarL', 'predikat': 'activator', 'objekt': 'narJ'}, {'subjekt': 'NarL', 'predikat': 'activator', 'objekt': 'narG'}, {'subjekt': 'NarL', 'predikat': 'activator', 'objekt': 'narK'}, {'subjekt': 'NarL', 'predikat': 'activator', 'objekt': 'narS'}, {'subjekt': 'NarL', 'predikat': 'activator', 'objekt': 'nirC'}, {'subjekt': 'NarL', 'predikat': 'activator', 'objekt': 'nirB'}, {'subjekt': 'NarL', 'predikat': 'activator', 'objekt': 'nirD'}, {'subjekt': 'NarL', 'predikat': 'activator', 'objekt': 'cysG'}, {'subjekt': 'NarL', 'predikat': 'repressor', 'objekt': 'dmsB'}, {'subjekt': 'NarL', 'predikat': 'repressor', 'objekt': 'dmsC'}, {'subjekt': 'NarL', 'predikat': 'repressor', 'objekt': 'dmsA'}, {'subjekt': 'NarL', 'predikat': 'repressor', 'objekt': 'nikD'}, {'subjekt': 'NarL', 'predikat': 'repressor', 'objekt': 'nikB'}, {'subjekt': 'NarL', 'predikat': 'repressor', 'objekt': 'nikR'}, {'subjekt': 'NarL', 'predikat': 'repressor', 'objekt': 'nikA'}, {'subjekt': 'NarL', 'predikat': 'repressor', 'objekt': 'nikC'}, {'subjekt': 'NarL', 'predikat': 'repressor', 'objekt': 'nikE'}, {'subjekt': 'NarL', 'predikat': 'repressor', 'objekt': 'ccmG'}, {'subjekt': 'NarL', 'predikat': 'repressor', 'objekt': 'napH'}, {'subjekt': 'NarL', 'predikat': 'repressor', 'objekt': 'napA'}, {'subjekt': 'NarL', 'predikat': 'repressor', 'objekt': 'napB'}, {'subjekt': 'NarL', 'predikat': 'repressor', 'objekt': 'ccmH'}, {'subjekt': 'NarL', 'predikat': 'repressor', 'objekt': 'napF'}, {'subjekt': 'NarL', 'predikat': 'repressor', 'objekt': 'ccmA'}, {'subjekt': 'NarL', 'predikat': 'repressor', 'objekt': 'napC'}, {'subjekt': 'NarL', 'predikat': 'repressor', 'objekt': 'napG'}, {'subjekt': 'NarL', 'predikat': 'repressor', 'objekt': 'ccmF'}, {'subjekt': 'NarL', 'predikat': 'repressor', 'objekt': 'ccmC'}, {'subjekt': 'NarL', 'predikat': 'repressor', 'objekt': 'ccmD'}, {'subjekt': 'NarL', 'predikat': 'repressor', 'objekt': 'ccmE'}, {'subjekt': 'NarL', 'predikat': 'repressor', 'objekt': 'napD'}, {'subjekt': 'NarL', 'predikat': 'repressor', 'objekt': 'ccmB'}, {'subjekt': 'NarL', 'predikat': 'repressor', 'objekt': 'dcuB'}, {'subjekt': 'NarL', 'predikat': 'repressor', 'objekt': 'fumB'}, {'subjekt': 'NarL', 'predikat': 'repressor', 'objekt': 'hybD'}, {'subjekt': 'NarL', 'predikat': 'repressor', 'objekt': 'hybB'}, {'subjekt': 'NarL', 'predikat': 'repressor', 'objekt': 'hybA'}, {'subjekt': 'NarL', 'predikat': 'repressor', 'objekt': 'hybF'}, {'subjekt': 'NarL', 'predikat': 'repressor', 'objekt': 'hybC'}, {'subjekt': 'NarL', 'predikat': 'repressor', 'objekt': 'hybO'}, {'subjekt': 'NarL', 'predikat': 'repressor', 'objekt': 'hybE'}, {'subjekt': 'NarL', 'predikat': 'repressor', 'objekt': 'hybG'}, {'subjekt': 'NarL', 'predikat': 'repressor', 'objekt': 'caiF'}, {'subjekt': 'NarL', 'predikat': 'repressor', 'objekt': 'pflB'}, {'subjekt': 'NarL', 'predikat': 'repressor', 'objekt': 'focA'}, {'subjekt': 'NarL', 'predikat': 'activator', 'objekt': 'moeB'}, {'subjekt': 'NarL', 'predikat': 'activator', 'objekt': 'moeA'}, {'subjekt': 'NarL', 'predikat': 'activator', 'objekt': 'nuoN'}, {'subjekt': 'NarL', 'predikat': 'activator', 'objekt': 'nuoF'}, {'subjekt': 'NarL', 'predikat': 'activator', 'objekt': 'nuoA'}, {'subjekt': 'NarL', 'predikat': 'activator', 'objekt': 'nuoG'}, {'subjekt': 'NarL', 'predikat': 'activator', 'objekt': 'nuoI'}, {'subjekt': 'NarL', 'predikat': 'activator', 'objekt': 'nuoE'}, {'subjekt': 'NarL', 'predikat': 'activator', 'objekt': 'nuoB'}, {'subjekt': 'NarL', 'predikat': 'activator', 'objekt': 'nuoC'}, {'subjekt': 'NarL', 'predikat': 'activator', 'objekt': 'nuoK'}, {'subjekt': 'NarL', 'predikat': 'activator', 'objekt': 'nuoL'}, {'subjekt': 'NarL', 'predikat': 'activator', 'objekt': 'nuoH'}, {'subjekt': 'NarL', 'predikat': 'activator', 'objekt': 'nuoJ'}, {'subjekt': 'NarL', 'predikat': 'activator', 'objekt': 'nuoM'}, {'subjekt': 'NarL', 'predikat': 'repressor', 'objekt': 'fdhF'}, {'subjekt': 'NarL', 'predikat': 'activator', 'objekt': 'fdnG'}, {'subjekt': 'NarL', 'predikat': 'activator', 'objekt': 'fdnH'}, {'subjekt': 'NarL', 'predikat': 'activator', 'objekt': 'fdnI'}, {'subjekt': 'NarL', 'predikat': 'repressor', 'objekt': 'dcuA'}, {'subjekt': 'NarL', 'predikat': 'repressor', 'objekt': 'aspA'}, {'subjekt': 'NarL', 'predikat': 'dual', 'objekt': 'nrfA'}, {'subjekt': 'NarL', 'predikat': 'dual', 'objekt': 'nrfD'}, {'subjekt': 'NarL', 'predikat': 'dual', 'objekt': 'nrfC'}, {'subjekt': 'NarL', 'predikat': 'dual', 'objekt': 'nrfG'}, {'subjekt': 'NarL', 'predikat': 'dual', 'objekt': 'nrfE'}, {'subjekt': 'NarL', 'predikat': 'dual', 'objekt': 'nrfB'}, {'subjekt': 'NarL', 'predikat': 'dual', 'objekt': 'nrfF'}, {'subjekt': 'NarL', 'predikat': 'repressor', 'objekt': 'torA'}, {'subjekt': 'NarL', 'predikat': 'repressor', 'objekt': 'torC'}, {'subjekt': 'NarL', 'predikat': 'repressor', 'objekt': 'torD'}, {'subjekt': 'NarL', 'predikat': 'activator', 'objekt': 'cydD'}, {'subjekt': 'NarL', 'predikat': 'activator', 'objekt': 'cydC'}, {'subjekt': 'NarL', 'predikat': 'activator', 'objekt': 'poxB'}, {'subjekt': 'NarL', 'predikat': 'activator', 'objekt': 'hcp'}, {'subjekt': 'NarL', 'predikat': 'activator', 'objekt': 'hcr'}, {'subjekt': 'NarL', 'predikat': 'repressor', 'objekt': 'ubiC'}, {'subjekt': 'NarL', 'predikat': 'repressor', 'objekt': 'ubiA'}, {'subjekt': 'NarL', 'predikat': 'repressor', 'objekt': 'norV'}, {'subjekt': 'NarL', 'predikat': 'repressor', 'objekt': 'norW'}, {'subjekt': 'NarL', 'predikat': 'repressor', 'objekt': 'dcuS'}, {'subjekt': 'NarL', 'predikat': 'repressor', 'objekt': 'dcuR'}, {'subjekt': 'NarL', 'predikat': 'activator', 'objekt': 'yeaR'}, {'subjekt': 'NarL', 'predikat': 'activator', 'objekt': 'yoaG'}, {'subjekt': 'NarL', 'predikat': 'activator', 'objekt': 'ytfE'}, {'subjekt': 'NarL', 'predikat': 'repressor', 'objekt': 'ydhY'}, {'subjekt': 'NarL', 'predikat': 'repressor', 'objekt': 'ydhU'}, {'subjekt': 'NarL', 'predikat': 'repressor', 'objekt': 'ydhW'}, {'subjekt': 'NarL', 'predikat': 'repressor', 'objekt': 'ydhT'}, {'subjekt': 'NarL', 'predikat': 'repressor', 'objekt': 'ydhV'}, {'subjekt': 'NarL', 'predikat': 'repressor', 'objekt': 'ydhX'}]\n",
      "---------------------------\n",
      "55 286\n"
     ]
    },
    {
     "name": "stderr",
     "output_type": "stream",
     "text": [
      "C:\\Anaconda\\lib\\site-packages\\urllib3\\connectionpool.py:1061: InsecureRequestWarning: Unverified HTTPS request is being made to host 'regulondb.ccg.unam.mx'. Adding certificate verification is strongly advised. See: https://urllib3.readthedocs.io/en/1.26.x/advanced-usage.html#ssl-warnings\n",
      "  warnings.warn(\n"
     ]
    },
    {
     "name": "stdout",
     "output_type": "stream",
     "text": [
      "success:\n",
      "[{'subjekt': 'UhpA', 'predikat': 'activator', 'objekt': 'uhpU'}, {'subjekt': 'UhpA', 'predikat': 'activator', 'objekt': 'uhpT'}]\n",
      "---------------------------\n",
      "56 286\n"
     ]
    },
    {
     "name": "stderr",
     "output_type": "stream",
     "text": [
      "C:\\Anaconda\\lib\\site-packages\\urllib3\\connectionpool.py:1061: InsecureRequestWarning: Unverified HTTPS request is being made to host 'regulondb.ccg.unam.mx'. Adding certificate verification is strongly advised. See: https://urllib3.readthedocs.io/en/1.26.x/advanced-usage.html#ssl-warnings\n",
      "  warnings.warn(\n"
     ]
    },
    {
     "name": "stdout",
     "output_type": "stream",
     "text": [
      "success:\n",
      "[{'subjekt': 'ZntR', 'predikat': 'dual', 'objekt': 'zntA'}, {'subjekt': 'ZntR', 'predikat': 'repressor', 'objekt': 'rsd'}, {'subjekt': 'ZntR', 'predikat': 'repressor', 'objekt': 'rmf'}]\n",
      "---------------------------\n",
      "57 286\n"
     ]
    },
    {
     "name": "stderr",
     "output_type": "stream",
     "text": [
      "C:\\Anaconda\\lib\\site-packages\\urllib3\\connectionpool.py:1061: InsecureRequestWarning: Unverified HTTPS request is being made to host 'regulondb.ccg.unam.mx'. Adding certificate verification is strongly advised. See: https://urllib3.readthedocs.io/en/1.26.x/advanced-usage.html#ssl-warnings\n",
      "  warnings.warn(\n"
     ]
    },
    {
     "name": "stdout",
     "output_type": "stream",
     "text": [
      "success:\n",
      "[{'subjekt': 'TdcR', 'predikat': 'activator', 'objekt': 'tdcC'}, {'subjekt': 'TdcR', 'predikat': 'activator', 'objekt': 'tdcE'}, {'subjekt': 'TdcR', 'predikat': 'activator', 'objekt': 'tdcF'}, {'subjekt': 'TdcR', 'predikat': 'activator', 'objekt': 'tdcA'}, {'subjekt': 'TdcR', 'predikat': 'activator', 'objekt': 'tdcD'}, {'subjekt': 'TdcR', 'predikat': 'activator', 'objekt': 'tdcG'}, {'subjekt': 'TdcR', 'predikat': 'activator', 'objekt': 'tdcB'}]\n",
      "---------------------------\n",
      "58 286\n"
     ]
    },
    {
     "name": "stderr",
     "output_type": "stream",
     "text": [
      "C:\\Anaconda\\lib\\site-packages\\urllib3\\connectionpool.py:1061: InsecureRequestWarning: Unverified HTTPS request is being made to host 'regulondb.ccg.unam.mx'. Adding certificate verification is strongly advised. See: https://urllib3.readthedocs.io/en/1.26.x/advanced-usage.html#ssl-warnings\n",
      "  warnings.warn(\n"
     ]
    },
    {
     "name": "stdout",
     "output_type": "stream",
     "text": [
      "success:\n",
      "[{'subjekt': 'FliZ', 'predikat': 'repressor', 'objekt': 'mlrA'}, {'subjekt': 'FliZ', 'predikat': 'repressor', 'objekt': 'pdeR'}, {'subjekt': 'FliZ', 'predikat': 'repressor', 'objekt': 'gadE'}, {'subjekt': 'FliZ', 'predikat': 'repressor', 'objekt': 'mdtE'}, {'subjekt': 'FliZ', 'predikat': 'repressor', 'objekt': 'gadF'}, {'subjekt': 'FliZ', 'predikat': 'repressor', 'objekt': 'mdtF'}, {'subjekt': 'FliZ', 'predikat': 'repressor', 'objekt': 'yhiD'}, {'subjekt': 'FliZ', 'predikat': 'repressor', 'objekt': 'hdeA'}, {'subjekt': 'FliZ', 'predikat': 'repressor', 'objekt': 'hdeB'}, {'subjekt': 'FliZ', 'predikat': 'repressor', 'objekt': 'flhD'}, {'subjekt': 'FliZ', 'predikat': 'repressor', 'objekt': 'flhC'}, {'subjekt': 'FliZ', 'predikat': 'repressor', 'objekt': 'gadC'}, {'subjekt': 'FliZ', 'predikat': 'repressor', 'objekt': 'gadB'}, {'subjekt': 'FliZ', 'predikat': 'repressor', 'objekt': 'yjbJ'}, {'subjekt': 'FliZ', 'predikat': 'repressor', 'objekt': 'csgG'}, {'subjekt': 'FliZ', 'predikat': 'repressor', 'objekt': 'csgF'}, {'subjekt': 'FliZ', 'predikat': 'repressor', 'objekt': 'csgD'}, {'subjekt': 'FliZ', 'predikat': 'repressor', 'objekt': 'csgE'}, {'subjekt': 'FliZ', 'predikat': 'repressor', 'objekt': 'csgA'}, {'subjekt': 'FliZ', 'predikat': 'repressor', 'objekt': 'csgB'}, {'subjekt': 'FliZ', 'predikat': 'repressor', 'objekt': 'csgC'}, {'subjekt': 'FliZ', 'predikat': 'repressor', 'objekt': 'osmY'}]\n",
      "---------------------------\n",
      "59 286\n"
     ]
    },
    {
     "name": "stderr",
     "output_type": "stream",
     "text": [
      "C:\\Anaconda\\lib\\site-packages\\urllib3\\connectionpool.py:1061: InsecureRequestWarning: Unverified HTTPS request is being made to host 'regulondb.ccg.unam.mx'. Adding certificate verification is strongly advised. See: https://urllib3.readthedocs.io/en/1.26.x/advanced-usage.html#ssl-warnings\n",
      "  warnings.warn(\n"
     ]
    },
    {
     "name": "stdout",
     "output_type": "stream",
     "text": [
      "success:\n",
      "[{'subjekt': 'Lrp', 'predikat': 'activator', 'objekt': 'yojI'}, {'subjekt': 'Lrp', 'predikat': 'activator', 'objekt': 'argO'}, {'subjekt': 'Lrp', 'predikat': 'dual', 'objekt': 'alaA'}, {'subjekt': 'Lrp', 'predikat': 'dual', 'objekt': 'avtA'}, {'subjekt': 'Lrp', 'predikat': 'repressor', 'objekt': 'rrsB'}, {'subjekt': 'Lrp', 'predikat': 'repressor', 'objekt': 'rrlB'}, {'subjekt': 'Lrp', 'predikat': 'repressor', 'objekt': 'gltT'}, {'subjekt': 'Lrp', 'predikat': 'repressor', 'objekt': 'rrfB'}, {'subjekt': 'Lrp', 'predikat': 'repressor', 'objekt': 'rrsA'}, {'subjekt': 'Lrp', 'predikat': 'repressor', 'objekt': 'rrfA'}, {'subjekt': 'Lrp', 'predikat': 'repressor', 'objekt': 'rrlA'}, {'subjekt': 'Lrp', 'predikat': 'repressor', 'objekt': 'alaT'}, {'subjekt': 'Lrp', 'predikat': 'repressor', 'objekt': 'ileT'}, {'subjekt': 'Lrp', 'predikat': 'repressor', 'objekt': 'leuE'}, {'subjekt': 'Lrp', 'predikat': 'dual', 'objekt': 'alaE'}, {'subjekt': 'Lrp', 'predikat': 'repressor', 'objekt': 'micF'}, {'subjekt': 'Lrp', 'predikat': 'activator', 'objekt': 'gltB'}, {'subjekt': 'Lrp', 'predikat': 'activator', 'objekt': 'gltD'}, {'subjekt': 'Lrp', 'predikat': 'activator', 'objekt': 'gltF'}, {'subjekt': 'Lrp', 'predikat': 'dual', 'objekt': 'rrfG'}, {'subjekt': 'Lrp', 'predikat': 'dual', 'objekt': 'rrsG'}, {'subjekt': 'Lrp', 'predikat': 'dual', 'objekt': 'gltW'}, {'subjekt': 'Lrp', 'predikat': 'dual', 'objekt': 'rrlG'}, {'subjekt': 'Lrp', 'predikat': 'repressor', 'objekt': 'gltU'}, {'subjekt': 'Lrp', 'predikat': 'repressor', 'objekt': 'rrsC'}, {'subjekt': 'Lrp', 'predikat': 'repressor', 'objekt': 'rrfC'}, {'subjekt': 'Lrp', 'predikat': 'repressor', 'objekt': 'rrlC'}, {'subjekt': 'Lrp', 'predikat': 'dual', 'objekt': 'rrfF'}, {'subjekt': 'Lrp', 'predikat': 'dual', 'objekt': 'ileU'}, {'subjekt': 'Lrp', 'predikat': 'dual', 'objekt': 'rrsD'}, {'subjekt': 'Lrp', 'predikat': 'dual', 'objekt': 'rrlD'}, {'subjekt': 'Lrp', 'predikat': 'dual', 'objekt': 'thrV'}, {'subjekt': 'Lrp', 'predikat': 'dual', 'objekt': 'alaU'}, {'subjekt': 'Lrp', 'predikat': 'dual', 'objekt': 'rrfD'}, {'subjekt': 'Lrp', 'predikat': 'repressor', 'objekt': 'yhiD'}, {'subjekt': 'Lrp', 'predikat': 'repressor', 'objekt': 'hdeA'}, {'subjekt': 'Lrp', 'predikat': 'repressor', 'objekt': 'hdeB'}, {'subjekt': 'Lrp', 'predikat': 'dual', 'objekt': 'rrlH'}, {'subjekt': 'Lrp', 'predikat': 'dual', 'objekt': 'ileV'}, {'subjekt': 'Lrp', 'predikat': 'dual', 'objekt': 'rrsH'}, {'subjekt': 'Lrp', 'predikat': 'dual', 'objekt': 'rrfH'}, {'subjekt': 'Lrp', 'predikat': 'dual', 'objekt': 'alaV'}, {'subjekt': 'Lrp', 'predikat': 'dual', 'objekt': 'rrsE'}, {'subjekt': 'Lrp', 'predikat': 'dual', 'objekt': 'rrlE'}, {'subjekt': 'Lrp', 'predikat': 'dual', 'objekt': 'rrfE'}, {'subjekt': 'Lrp', 'predikat': 'dual', 'objekt': 'gltV'}, {'subjekt': 'Lrp', 'predikat': 'repressor', 'objekt': 'ompC'}, {'subjekt': 'Lrp', 'predikat': 'repressor', 'objekt': 'ilvX'}, {'subjekt': 'Lrp', 'predikat': 'dual', 'objekt': 'ilvL'}, {'subjekt': 'Lrp', 'predikat': 'repressor', 'objekt': 'ilvA'}, {'subjekt': 'Lrp', 'predikat': 'repressor', 'objekt': 'ilvG'}, {'subjekt': 'Lrp', 'predikat': 'repressor', 'objekt': 'ilvD'}, {'subjekt': 'Lrp', 'predikat': 'repressor', 'objekt': 'ilvE'}, {'subjekt': 'Lrp', 'predikat': 'repressor', 'objekt': 'ilvM'}, {'subjekt': 'Lrp', 'predikat': 'dual', 'objekt': 'livJ'}, {'subjekt': 'Lrp', 'predikat': 'activator', 'objekt': 'yeiL'}, {'subjekt': 'Lrp', 'predikat': 'activator', 'objekt': 'gabP'}, {'subjekt': 'Lrp', 'predikat': 'activator', 'objekt': 'gabT'}, {'subjekt': 'Lrp', 'predikat': 'activator', 'objekt': 'glaH'}, {'subjekt': 'Lrp', 'predikat': 'activator', 'objekt': 'lhgD'}, {'subjekt': 'Lrp', 'predikat': 'activator', 'objekt': 'gabD'}, {'subjekt': 'Lrp', 'predikat': 'dual', 'objekt': 'serA'}, {'subjekt': 'Lrp', 'predikat': 'dual', 'objekt': 'lysP'}, {'subjekt': 'Lrp', 'predikat': 'activator', 'objekt': 'cadA'}, {'subjekt': 'Lrp', 'predikat': 'activator', 'objekt': 'cadB'}, {'subjekt': 'Lrp', 'predikat': 'dual', 'objekt': 'ilvI'}, {'subjekt': 'Lrp', 'predikat': 'dual', 'objekt': 'ilvH'}, {'subjekt': 'Lrp', 'predikat': 'dual', 'objekt': 'dadA'}, {'subjekt': 'Lrp', 'predikat': 'repressor', 'objekt': 'dadX'}, {'subjekt': 'Lrp', 'predikat': 'repressor', 'objekt': 'fau'}, {'subjekt': 'Lrp', 'predikat': 'repressor', 'objekt': 'ssrS'}, {'subjekt': 'Lrp', 'predikat': 'dual', 'objekt': 'ridA'}, {'subjekt': 'Lrp', 'predikat': 'activator', 'objekt': 'aceB'}, {'subjekt': 'Lrp', 'predikat': 'dual', 'objekt': 'ansB'}, {'subjekt': 'Lrp', 'predikat': 'dual', 'objekt': 'aspA'}, {'subjekt': 'Lrp', 'predikat': 'repressor', 'objekt': 'brnQ'}, {'subjekt': 'Lrp', 'predikat': 'dual', 'objekt': 'csiE'}, {'subjekt': 'Lrp', 'predikat': 'repressor', 'objekt': 'cycA'}, {'subjekt': 'Lrp', 'predikat': 'repressor', 'objekt': 'eco'}, {'subjekt': 'Lrp', 'predikat': 'activator', 'objekt': 'fimA'}, {'subjekt': 'Lrp', 'predikat': 'repressor', 'objekt': 'ftsQ'}, {'subjekt': 'Lrp', 'predikat': 'activator', 'objekt': 'lolC'}, {'subjekt': 'Lrp', 'predikat': 'activator', 'objekt': 'lrhA'}, {'subjekt': 'Lrp', 'predikat': 'repressor', 'objekt': 'lysU'}, {'subjekt': 'Lrp', 'predikat': 'repressor', 'objekt': 'metK'}, {'subjekt': 'Lrp', 'predikat': 'repressor', 'objekt': 'mqo'}, {'subjekt': 'Lrp', 'predikat': 'repressor', 'objekt': 'mtr'}, {'subjekt': 'Lrp', 'predikat': 'repressor', 'objekt': 'osmY'}, {'subjekt': 'Lrp', 'predikat': 'repressor', 'objekt': 'pepD'}, {'subjekt': 'Lrp', 'predikat': 'dual', 'objekt': 'potF'}, {'subjekt': 'Lrp', 'predikat': 'dual', 'objekt': 'ppx'}, {'subjekt': 'Lrp', 'predikat': 'repressor', 'objekt': 'sdaA'}, {'subjekt': 'Lrp', 'predikat': 'repressor', 'objekt': 'sdaC'}, {'subjekt': 'Lrp', 'predikat': 'activator', 'objekt': 'serB'}, {'subjekt': 'Lrp', 'predikat': 'activator', 'objekt': 'stpA'}, {'subjekt': 'Lrp', 'predikat': 'repressor', 'objekt': 'thrL'}, {'subjekt': 'Lrp', 'predikat': 'repressor', 'objekt': 'dtpA'}, {'subjekt': 'Lrp', 'predikat': 'dual', 'objekt': 'tyrP'}, {'subjekt': 'Lrp', 'predikat': 'dual', 'objekt': 'tyrR'}, {'subjekt': 'Lrp', 'predikat': 'repressor', 'objekt': 'uspE'}, {'subjekt': 'Lrp', 'predikat': 'dual', 'objekt': 'ybgS'}, {'subjekt': 'Lrp', 'predikat': 'repressor', 'objekt': 'ybiJ'}, {'subjekt': 'Lrp', 'predikat': 'repressor', 'objekt': 'ybjS'}, {'subjekt': 'Lrp', 'predikat': 'repressor', 'objekt': 'ycaM'}, {'subjekt': 'Lrp', 'predikat': 'repressor', 'objekt': 'yciN'}, {'subjekt': 'Lrp', 'predikat': 'repressor', 'objekt': 'yehL'}, {'subjekt': 'Lrp', 'predikat': 'repressor', 'objekt': 'yfcC'}, {'subjekt': 'Lrp', 'predikat': 'repressor', 'objekt': 'yfcZ'}, {'subjekt': 'Lrp', 'predikat': 'dual', 'objekt': 'patA'}, {'subjekt': 'Lrp', 'predikat': 'dual', 'objekt': 'yhhW'}, {'subjekt': 'Lrp', 'predikat': 'activator', 'objekt': 'yhjE'}, {'subjekt': 'Lrp', 'predikat': 'repressor', 'objekt': 'yjbJ'}, {'subjekt': 'Lrp', 'predikat': 'repressor', 'objekt': 'yjbQ'}, {'subjekt': 'Lrp', 'predikat': 'repressor', 'objekt': 'yjeM'}, {'subjekt': 'Lrp', 'predikat': 'repressor', 'objekt': 'yjiC'}, {'subjekt': 'Lrp', 'predikat': 'activator', 'objekt': 'yqeF'}, {'subjekt': 'Lrp', 'predikat': 'repressor', 'objekt': 'ytfK'}, {'subjekt': 'Lrp', 'predikat': 'activator', 'objekt': 'yzgL'}, {'subjekt': 'Lrp', 'predikat': 'dual', 'objekt': 'adhE'}, {'subjekt': 'Lrp', 'predikat': 'repressor', 'objekt': 'aidB'}, {'subjekt': 'Lrp', 'predikat': 'dual', 'objekt': 'acrZ'}, {'subjekt': 'Lrp', 'predikat': 'repressor', 'objekt': 'aer'}, {'subjekt': 'Lrp', 'predikat': 'repressor', 'objekt': 'alaS'}, {'subjekt': 'Lrp', 'predikat': 'repressor', 'objekt': 'amiC'}, {'subjekt': 'Lrp', 'predikat': 'repressor', 'objekt': 'aphA'}, {'subjekt': 'Lrp', 'predikat': 'repressor', 'objekt': 'arcB'}, {'subjekt': 'Lrp', 'predikat': 'repressor', 'objekt': 'argA'}, {'subjekt': 'Lrp', 'predikat': 'dual', 'objekt': 'argR'}, {'subjekt': 'Lrp', 'predikat': 'repressor', 'objekt': 'argS'}, {'subjekt': 'Lrp', 'predikat': 'activator', 'objekt': 'argT'}, {'subjekt': 'Lrp', 'predikat': 'dual', 'objekt': 'aroA'}, {'subjekt': 'Lrp', 'predikat': 'dual', 'objekt': 'aroG'}, {'subjekt': 'Lrp', 'predikat': 'dual', 'objekt': 'artI'}, {'subjekt': 'Lrp', 'predikat': 'dual', 'objekt': 'artP'}, {'subjekt': 'Lrp', 'predikat': 'activator', 'objekt': 'asnA'}, {'subjekt': 'Lrp', 'predikat': 'activator', 'objekt': 'asnB'}, {'subjekt': 'Lrp', 'predikat': 'activator', 'objekt': 'aspC'}, {'subjekt': 'Lrp', 'predikat': 'repressor', 'objekt': 'aspS'}, {'subjekt': 'Lrp', 'predikat': 'dual', 'objekt': 'astC'}, {'subjekt': 'Lrp', 'predikat': 'repressor', 'objekt': 'atpA'}, {'subjekt': 'Lrp', 'predikat': 'repressor', 'objekt': 'atpH'}, {'subjekt': 'Lrp', 'predikat': 'activator', 'objekt': 'borD'}, {'subjekt': 'Lrp', 'predikat': 'activator', 'objekt': 'bssS'}, {'subjekt': 'Lrp', 'predikat': 'repressor', 'objekt': 'btuE'}, {'subjekt': 'Lrp', 'predikat': 'activator', 'objekt': 'can'}, {'subjekt': 'Lrp', 'predikat': 'activator', 'objekt': 'cbl'}, {'subjekt': 'Lrp', 'predikat': 'activator', 'objekt': 'chbG'}, {'subjekt': 'Lrp', 'predikat': 'activator', 'objekt': 'clpP'}, {'subjekt': 'Lrp', 'predikat': 'activator', 'objekt': 'clpS'}, {'subjekt': 'Lrp', 'predikat': 'repressor', 'objekt': 'cpoB'}, {'subjekt': 'Lrp', 'predikat': 'repressor', 'objekt': 'creA'}, {'subjekt': 'Lrp', 'predikat': 'activator', 'objekt': 'rdcA'}, {'subjekt': 'Lrp', 'predikat': 'repressor', 'objekt': 'cydC'}, {'subjekt': 'Lrp', 'predikat': 'repressor', 'objekt': 'cysB'}, {'subjekt': 'Lrp', 'predikat': 'repressor', 'objekt': 'deaD'}, {'subjekt': 'Lrp', 'predikat': 'repressor', 'objekt': 'dedA'}, {'subjekt': 'Lrp', 'predikat': 'repressor', 'objekt': 'deoB'}, {'subjekt': 'Lrp', 'predikat': 'repressor', 'objekt': 'dgcJ'}, {'subjekt': 'Lrp', 'predikat': 'dual', 'objekt': 'dgcM'}, {'subjekt': 'Lrp', 'predikat': 'repressor', 'objekt': 'dgcQ'}, {'subjekt': 'Lrp', 'predikat': 'activator', 'objekt': 'dgcZ'}, {'subjekt': 'Lrp', 'predikat': 'repressor', 'objekt': 'dhaK'}, {'subjekt': 'Lrp', 'predikat': 'dual', 'objekt': 'dppA'}, {'subjekt': 'Lrp', 'predikat': 'repressor', 'objekt': 'dtpB'}, {'subjekt': 'Lrp', 'predikat': 'repressor', 'objekt': 'emrD'}, {'subjekt': 'Lrp', 'predikat': 'activator', 'objekt': 'eno'}, {'subjekt': 'Lrp', 'predikat': 'activator', 'objekt': 'eptB'}, {'subjekt': 'Lrp', 'predikat': 'activator', 'objekt': 'exbB'}, {'subjekt': 'Lrp', 'predikat': 'dual', 'objekt': 'fadI'}, {'subjekt': 'Lrp', 'predikat': 'activator', 'objekt': 'fadL'}, {'subjekt': 'Lrp', 'predikat': 'dual', 'objekt': 'fliA'}, {'subjekt': 'Lrp', 'predikat': 'repressor', 'objekt': 'frdA'}, {'subjekt': 'Lrp', 'predikat': 'repressor', 'objekt': 'frdB'}, {'subjekt': 'Lrp', 'predikat': 'activator', 'objekt': 'fumA'}, {'subjekt': 'Lrp', 'predikat': 'dual', 'objekt': 'fxsA'}, {'subjekt': 'Lrp', 'predikat': 'repressor', 'objekt': 'gadB'}, {'subjekt': 'Lrp', 'predikat': 'dual', 'objekt': 'gadW'}, {'subjekt': 'Lrp', 'predikat': 'activator', 'objekt': 'gadY'}, {'subjekt': 'Lrp', 'predikat': 'dual', 'objekt': 'gcvT'}, {'subjekt': 'Lrp', 'predikat': 'repressor', 'objekt': 'gdhA'}, {'subjekt': 'Lrp', 'predikat': 'dual', 'objekt': 'glcA'}, {'subjekt': 'Lrp', 'predikat': 'repressor', 'objekt': 'glgC'}, {'subjekt': 'Lrp', 'predikat': 'activator', 'objekt': 'glnA'}, {'subjekt': 'Lrp', 'predikat': 'activator', 'objekt': 'glnH'}, {'subjekt': 'Lrp', 'predikat': 'activator', 'objekt': 'glnK'}, {'subjekt': 'Lrp', 'predikat': 'activator', 'objekt': 'glnL'}, {'subjekt': 'Lrp', 'predikat': 'activator', 'objekt': 'glnQ'}, {'subjekt': 'Lrp', 'predikat': 'repressor', 'objekt': 'gltP'}, {'subjekt': 'Lrp', 'predikat': 'repressor', 'objekt': 'gpt'}, {'subjekt': 'Lrp', 'predikat': 'dual', 'objekt': 'groL'}, {'subjekt': 'Lrp', 'predikat': 'repressor', 'objekt': 'groS'}, {'subjekt': 'Lrp', 'predikat': 'repressor', 'objekt': 'hlyE'}, {'subjekt': 'Lrp', 'predikat': 'repressor', 'objekt': 'hpf'}, {'subjekt': 'Lrp', 'predikat': 'activator', 'objekt': 'hspQ'}, {'subjekt': 'Lrp', 'predikat': 'activator', 'objekt': 'htrE'}, {'subjekt': 'Lrp', 'predikat': 'activator', 'objekt': 'ibpA'}, {'subjekt': 'Lrp', 'predikat': 'activator', 'objekt': 'ibpB'}, {'subjekt': 'Lrp', 'predikat': 'activator', 'objekt': 'insC5'}, {'subjekt': 'Lrp', 'predikat': 'activator', 'objekt': 'insH3'}, {'subjekt': 'Lrp', 'predikat': 'repressor', 'objekt': 'intZ'}, {'subjekt': 'Lrp', 'predikat': 'repressor', 'objekt': 'iraD'}, {'subjekt': 'Lrp', 'predikat': 'activator', 'objekt': 'iraP'}, {'subjekt': 'Lrp', 'predikat': 'dual', 'objekt': 'katE'}, {'subjekt': 'Lrp', 'predikat': 'dual', 'objekt': 'kbl'}, {'subjekt': 'Lrp', 'predikat': 'activator', 'objekt': 'ldhA'}, {'subjekt': 'Lrp', 'predikat': 'dual', 'objekt': 'leuA'}, {'subjekt': 'Lrp', 'predikat': 'activator', 'objekt': 'leuL'}, {'subjekt': 'Lrp', 'predikat': 'dual', 'objekt': 'leuO'}, {'subjekt': 'Lrp', 'predikat': 'activator', 'objekt': 'lipA'}, {'subjekt': 'Lrp', 'predikat': 'dual', 'objekt': 'livK'}, {'subjekt': 'Lrp', 'predikat': 'repressor', 'objekt': 'lolA'}, {'subjekt': 'Lrp', 'predikat': 'repressor', 'objekt': 'lpxL'}, {'subjekt': 'Lrp', 'predikat': 'repressor', 'objekt': 'manA'}, {'subjekt': 'Lrp', 'predikat': 'activator', 'objekt': 'menA'}, {'subjekt': 'Lrp', 'predikat': 'repressor', 'objekt': 'metH'}, {'subjekt': 'Lrp', 'predikat': 'repressor', 'objekt': 'metT'}, {'subjekt': 'Lrp', 'predikat': 'repressor', 'objekt': 'mnmA'}, {'subjekt': 'Lrp', 'predikat': 'activator', 'objekt': 'modA'}, {'subjekt': 'Lrp', 'predikat': 'repressor', 'objekt': 'msbA'}, {'subjekt': 'Lrp', 'predikat': 'repressor', 'objekt': 'mscK'}, {'subjekt': 'Lrp', 'predikat': 'repressor', 'objekt': 'mscS'}, {'subjekt': 'Lrp', 'predikat': 'repressor', 'objekt': 'mutY'}, {'subjekt': 'Lrp', 'predikat': 'activator', 'objekt': 'nac'}, {'subjekt': 'Lrp', 'predikat': 'repressor', 'objekt': 'napF'}, {'subjekt': 'Lrp', 'predikat': 'repressor', 'objekt': 'nuoA'}, {'subjekt': 'Lrp', 'predikat': 'repressor', 'objekt': 'nusB'}, {'subjekt': 'Lrp', 'predikat': 'activator', 'objekt': 'ompT'}, {'subjekt': 'Lrp', 'predikat': 'repressor', 'objekt': 'pabB'}, {'subjekt': 'Lrp', 'predikat': 'repressor', 'objekt': 'pal'}, {'subjekt': 'Lrp', 'predikat': 'dual', 'objekt': 'panZ'}, {'subjekt': 'Lrp', 'predikat': 'repressor', 'objekt': 'pgl'}, {'subjekt': 'Lrp', 'predikat': 'activator', 'objekt': 'phoA'}, {'subjekt': 'Lrp', 'predikat': 'activator', 'objekt': 'phoH'}, {'subjekt': 'Lrp', 'predikat': 'repressor', 'objekt': 'pncB'}, {'subjekt': 'Lrp', 'predikat': 'activator', 'objekt': 'pntA'}, {'subjekt': 'Lrp', 'predikat': 'repressor', 'objekt': 'polA'}, {'subjekt': 'Lrp', 'predikat': 'repressor', 'objekt': 'ppk'}, {'subjekt': 'Lrp', 'predikat': 'repressor', 'objekt': 'ppsA'}, {'subjekt': 'Lrp', 'predikat': 'activator', 'objekt': 'prlF'}, {'subjekt': 'Lrp', 'predikat': 'activator', 'objekt': 'proP'}, {'subjekt': 'Lrp', 'predikat': 'activator', 'objekt': 'pspG'}, {'subjekt': 'Lrp', 'predikat': 'repressor', 'objekt': 'ptsN'}, {'subjekt': 'Lrp', 'predikat': 'dual', 'objekt': 'purM'}, {'subjekt': 'Lrp', 'predikat': 'activator', 'objekt': 'purT'}, {'subjekt': 'Lrp', 'predikat': 'activator', 'objekt': 'pyrI'}, {'subjekt': 'Lrp', 'predikat': 'repressor', 'objekt': 'qseB'}, {'subjekt': 'Lrp', 'predikat': 'repressor', 'objekt': 'radD'}, {'subjekt': 'Lrp', 'predikat': 'activator', 'objekt': 'relA'}, {'subjekt': 'Lrp', 'predikat': 'activator', 'objekt': 'rhtB'}, {'subjekt': 'Lrp', 'predikat': 'repressor', 'objekt': 'ribE'}, {'subjekt': 'Lrp', 'predikat': 'activator', 'objekt': 'rlmE'}, {'subjekt': 'Lrp', 'predikat': 'dual', 'objekt': 'rnr'}, {'subjekt': 'Lrp', 'predikat': 'repressor', 'objekt': 'rpiA'}, {'subjekt': 'Lrp', 'predikat': 'activator', 'objekt': 'rpiB'}, {'subjekt': 'Lrp', 'predikat': 'repressor', 'objekt': 'rplF'}, {'subjekt': 'Lrp', 'predikat': 'dual', 'objekt': 'rplR'}, {'subjekt': 'Lrp', 'predikat': 'repressor', 'objekt': 'rpoN'}, {'subjekt': 'Lrp', 'predikat': 'repressor', 'objekt': 'rpsH'}, {'subjekt': 'Lrp', 'predikat': 'activator', 'objekt': 'rsd'}, {'subjekt': 'Lrp', 'predikat': 'activator', 'objekt': 'rseA'}, {'subjekt': 'Lrp', 'predikat': 'activator', 'objekt': 'sad'}, {'subjekt': 'Lrp', 'predikat': 'dual', 'objekt': 'serC'}, {'subjekt': 'Lrp', 'predikat': 'repressor', 'objekt': 'serS'}, {'subjekt': 'Lrp', 'predikat': 'dual', 'objekt': 'slyA'}, {'subjekt': 'Lrp', 'predikat': 'activator', 'objekt': 'slyX'}, {'subjekt': 'Lrp', 'predikat': 'activator', 'objekt': 'soxS'}, {'subjekt': 'Lrp', 'predikat': 'repressor', 'objekt': 'sroH'}, {'subjekt': 'Lrp', 'predikat': 'repressor', 'objekt': 'sstT'}, {'subjekt': 'Lrp', 'predikat': 'repressor', 'objekt': 'sthA'}, {'subjekt': 'Lrp', 'predikat': 'activator', 'objekt': 'sulA'}, {'subjekt': 'Lrp', 'predikat': 'repressor', 'objekt': 'thiC'}, {'subjekt': 'Lrp', 'predikat': 'repressor', 'objekt': 'topA'}, {'subjekt': 'Lrp', 'predikat': 'repressor', 'objekt': 'treA'}, {'subjekt': 'Lrp', 'predikat': 'repressor', 'objekt': 'trxB'}, {'subjekt': 'Lrp', 'predikat': 'activator', 'objekt': 'ubiA'}, {'subjekt': 'Lrp', 'predikat': 'repressor', 'objekt': 'upp'}, {'subjekt': 'Lrp', 'predikat': 'repressor', 'objekt': 'wecB'}, {'subjekt': 'Lrp', 'predikat': 'activator', 'objekt': 'yaaX'}, {'subjekt': 'Lrp', 'predikat': 'activator', 'objekt': 'yabQ'}, {'subjekt': 'Lrp', 'predikat': 'activator', 'objekt': 'yacL'}, {'subjekt': 'Lrp', 'predikat': 'activator', 'objekt': 'yaeQ'}, {'subjekt': 'Lrp', 'predikat': 'activator', 'objekt': 'yagU'}, {'subjekt': 'Lrp', 'predikat': 'activator', 'objekt': 'yaiY'}, {'subjekt': 'Lrp', 'predikat': 'activator', 'objekt': 'ybdF'}, {'subjekt': 'Lrp', 'predikat': 'repressor', 'objekt': 'ybdG'}, {'subjekt': 'Lrp', 'predikat': 'repressor', 'objekt': 'ybdL'}, {'subjekt': 'Lrp', 'predikat': 'repressor', 'objekt': 'ybeX'}, {'subjekt': 'Lrp', 'predikat': 'repressor', 'objekt': 'ybgA'}, {'subjekt': 'Lrp', 'predikat': 'dual', 'objekt': 'ybhQ'}, {'subjekt': 'Lrp', 'predikat': 'activator', 'objekt': 'ybiI'}, {'subjekt': 'Lrp', 'predikat': 'repressor', 'objekt': 'ybiO'}, {'subjekt': 'Lrp', 'predikat': 'repressor', 'objekt': 'ybiT'}, {'subjekt': 'Lrp', 'predikat': 'repressor', 'objekt': 'ybjN'}, {'subjekt': 'Lrp', 'predikat': 'activator', 'objekt': 'ybjX'}, {'subjekt': 'Lrp', 'predikat': 'repressor', 'objekt': 'trhO'}, {'subjekt': 'Lrp', 'predikat': 'repressor', 'objekt': 'yceB'}, {'subjekt': 'Lrp', 'predikat': 'activator', 'objekt': 'ycfJ'}, {'subjekt': 'Lrp', 'predikat': 'dual', 'objekt': 'ycgB'}, {'subjekt': 'Lrp', 'predikat': 'repressor', 'objekt': 'ychE'}, {'subjekt': 'Lrp', 'predikat': 'activator', 'objekt': 'yciT'}, {'subjekt': 'Lrp', 'predikat': 'activator', 'objekt': 'yciZ'}, {'subjekt': 'Lrp', 'predikat': 'activator', 'objekt': 'ydcK'}, {'subjekt': 'Lrp', 'predikat': 'activator', 'objekt': 'ydcL'}, {'subjekt': 'Lrp', 'predikat': 'repressor', 'objekt': 'ydeE'}, {'subjekt': 'Lrp', 'predikat': 'activator', 'objekt': 'ydeN'}, {'subjekt': 'Lrp', 'predikat': 'activator', 'objekt': 'ydgH'}, {'subjekt': 'Lrp', 'predikat': 'activator', 'objekt': 'ydhQ'}, {'subjekt': 'Lrp', 'predikat': 'repressor', 'objekt': 'yeaE'}, {'subjekt': 'Lrp', 'predikat': 'activator', 'objekt': 'yeaG'}, {'subjekt': 'Lrp', 'predikat': 'repressor', 'objekt': 'yebF'}, {'subjekt': 'Lrp', 'predikat': 'dual', 'objekt': 'tsuA'}, {'subjekt': 'Lrp', 'predikat': 'activator', 'objekt': 'yfaP'}, {'subjekt': 'Lrp', 'predikat': 'repressor', 'objekt': 'yfiB'}, {'subjekt': 'Lrp', 'predikat': 'dual', 'objekt': 'ygiV'}, {'subjekt': 'Lrp', 'predikat': 'dual', 'objekt': 'ygiW'}, {'subjekt': 'Lrp', 'predikat': 'repressor', 'objekt': 'yhbY'}, {'subjekt': 'Lrp', 'predikat': 'repressor', 'objekt': 'yhcN'}, {'subjekt': 'Lrp', 'predikat': 'activator', 'objekt': 'yhdN'}, {'subjekt': 'Lrp', 'predikat': 'activator', 'objekt': 'yhdV'}, {'subjekt': 'Lrp', 'predikat': 'activator', 'objekt': 'yhdW'}, {'subjekt': 'Lrp', 'predikat': 'activator', 'objekt': 'yhhA'}, {'subjekt': 'Lrp', 'predikat': 'repressor', 'objekt': 'yhiM'}, {'subjekt': 'Lrp', 'predikat': 'activator', 'objekt': 'yhjJ'}, {'subjekt': 'Lrp', 'predikat': 'activator', 'objekt': 'yhjR'}, {'subjekt': 'Lrp', 'predikat': 'repressor', 'objekt': 'yiaG'}, {'subjekt': 'Lrp', 'predikat': 'activator', 'objekt': 'yibL'}, {'subjekt': 'Lrp', 'predikat': 'activator', 'objekt': 'yibT'}, {'subjekt': 'Lrp', 'predikat': 'activator', 'objekt': 'yicH'}, {'subjekt': 'Lrp', 'predikat': 'repressor', 'objekt': 'yiiM'}, {'subjekt': 'Lrp', 'predikat': 'activator', 'objekt': 'yjbR'}, {'subjekt': 'Lrp', 'predikat': 'activator', 'objekt': 'yjeH'}, {'subjekt': 'Lrp', 'predikat': 'activator', 'objekt': 'yjfP'}, {'subjekt': 'Lrp', 'predikat': 'dual', 'objekt': 'yjiL'}, {'subjekt': 'Lrp', 'predikat': 'activator', 'objekt': 'ykgE'}, {'subjekt': 'Lrp', 'predikat': 'activator', 'objekt': 'ynjH'}, {'subjekt': 'Lrp', 'predikat': 'activator', 'objekt': 'yoaH'}, {'subjekt': 'Lrp', 'predikat': 'repressor', 'objekt': 'yodC'}, {'subjekt': 'Lrp', 'predikat': 'activator', 'objekt': 'yoeG'}, {'subjekt': 'Lrp', 'predikat': 'repressor', 'objekt': 'yqeG'}, {'subjekt': 'Lrp', 'predikat': 'dual', 'objekt': 'ytfB'}, {'subjekt': 'Lrp', 'predikat': 'dual', 'objekt': 'ytfJ'}, {'subjekt': 'Lrp', 'predikat': 'activator', 'objekt': 'ytjB'}, {'subjekt': 'Lrp', 'predikat': 'activator', 'objekt': 'zipA'}, {'subjekt': 'Lrp', 'predikat': 'activator', 'objekt': 'zitB'}, {'subjekt': 'Lrp', 'predikat': 'activator', 'objekt': 'zntR'}, {'subjekt': 'Lrp', 'predikat': 'activator', 'objekt': 'fimD'}, {'subjekt': 'Lrp', 'predikat': 'activator', 'objekt': 'fimG'}, {'subjekt': 'Lrp', 'predikat': 'activator', 'objekt': 'fimC'}, {'subjekt': 'Lrp', 'predikat': 'activator', 'objekt': 'fimR2'}, {'subjekt': 'Lrp', 'predikat': 'activator', 'objekt': 'fimI'}, {'subjekt': 'Lrp', 'predikat': 'activator', 'objekt': 'fimF'}, {'subjekt': 'Lrp', 'predikat': 'activator', 'objekt': 'fimH'}, {'subjekt': 'Lrp', 'predikat': 'activator', 'objekt': 'fimE'}, {'subjekt': 'Lrp', 'predikat': 'repressor', 'objekt': 'lrp'}, {'subjekt': 'Lrp', 'predikat': 'repressor', 'objekt': 'livH'}, {'subjekt': 'Lrp', 'predikat': 'repressor', 'objekt': 'livM'}, {'subjekt': 'Lrp', 'predikat': 'repressor', 'objekt': 'livF'}, {'subjekt': 'Lrp', 'predikat': 'repressor', 'objekt': 'livG'}, {'subjekt': 'Lrp', 'predikat': 'activator', 'objekt': 'tdh'}, {'subjekt': 'Lrp', 'predikat': 'activator', 'objekt': 'malT'}, {'subjekt': 'Lrp', 'predikat': 'repressor', 'objekt': 'oppF'}, {'subjekt': 'Lrp', 'predikat': 'repressor', 'objekt': 'oppC'}, {'subjekt': 'Lrp', 'predikat': 'repressor', 'objekt': 'oppA'}, {'subjekt': 'Lrp', 'predikat': 'repressor', 'objekt': 'oppD'}, {'subjekt': 'Lrp', 'predikat': 'repressor', 'objekt': 'oppB'}, {'subjekt': 'Lrp', 'predikat': 'dual', 'objekt': 'osmC'}, {'subjekt': 'Lrp', 'predikat': 'activator', 'objekt': 'gcvH'}, {'subjekt': 'Lrp', 'predikat': 'activator', 'objekt': 'gcvP'}]\n",
      "---------------------------\n",
      "60 286\n"
     ]
    },
    {
     "name": "stderr",
     "output_type": "stream",
     "text": [
      "C:\\Anaconda\\lib\\site-packages\\urllib3\\connectionpool.py:1061: InsecureRequestWarning: Unverified HTTPS request is being made to host 'regulondb.ccg.unam.mx'. Adding certificate verification is strongly advised. See: https://urllib3.readthedocs.io/en/1.26.x/advanced-usage.html#ssl-warnings\n",
      "  warnings.warn(\n"
     ]
    },
    {
     "name": "stdout",
     "output_type": "stream",
     "text": [
      "success:\n",
      "[{'subjekt': 'CynR', 'predikat': 'activator', 'objekt': 'cynS'}, {'subjekt': 'CynR', 'predikat': 'activator', 'objekt': 'cynX'}, {'subjekt': 'CynR', 'predikat': 'activator', 'objekt': 'cynT'}, {'subjekt': 'CynR', 'predikat': 'repressor', 'objekt': 'cynR'}]\n",
      "---------------------------\n",
      "61 286\n"
     ]
    },
    {
     "name": "stderr",
     "output_type": "stream",
     "text": [
      "C:\\Anaconda\\lib\\site-packages\\urllib3\\connectionpool.py:1061: InsecureRequestWarning: Unverified HTTPS request is being made to host 'regulondb.ccg.unam.mx'. Adding certificate verification is strongly advised. See: https://urllib3.readthedocs.io/en/1.26.x/advanced-usage.html#ssl-warnings\n",
      "  warnings.warn(\n"
     ]
    },
    {
     "name": "stdout",
     "output_type": "stream",
     "text": [
      "success:\n",
      "[{'subjekt': 'MqsA', 'predikat': 'repressor', 'objekt': 'cspD'}, {'subjekt': 'MqsA', 'predikat': 'repressor', 'objekt': 'mqsR'}, {'subjekt': 'MqsA', 'predikat': 'repressor', 'objekt': 'mqsA'}, {'subjekt': 'MqsA', 'predikat': 'repressor', 'objekt': 'rpoS'}, {'subjekt': 'MqsA', 'predikat': 'repressor', 'objekt': 'csgG'}, {'subjekt': 'MqsA', 'predikat': 'repressor', 'objekt': 'csgF'}, {'subjekt': 'MqsA', 'predikat': 'repressor', 'objekt': 'csgD'}, {'subjekt': 'MqsA', 'predikat': 'repressor', 'objekt': 'csgE'}]\n",
      "---------------------------\n",
      "62 286\n"
     ]
    },
    {
     "name": "stderr",
     "output_type": "stream",
     "text": [
      "C:\\Anaconda\\lib\\site-packages\\urllib3\\connectionpool.py:1061: InsecureRequestWarning: Unverified HTTPS request is being made to host 'regulondb.ccg.unam.mx'. Adding certificate verification is strongly advised. See: https://urllib3.readthedocs.io/en/1.26.x/advanced-usage.html#ssl-warnings\n",
      "  warnings.warn(\n"
     ]
    },
    {
     "name": "stdout",
     "output_type": "stream",
     "text": [
      "success:\n",
      "[{'subjekt': 'DnaA', 'predikat': 'repressor', 'objekt': 'yjeV'}, {'subjekt': 'DnaA', 'predikat': 'dual', 'objekt': 'nrdA'}, {'subjekt': 'DnaA', 'predikat': 'dual', 'objekt': 'yfaE'}, {'subjekt': 'DnaA', 'predikat': 'dual', 'objekt': 'nrdB'}, {'subjekt': 'DnaA', 'predikat': 'dual', 'objekt': 'dnaN'}, {'subjekt': 'DnaA', 'predikat': 'dual', 'objekt': 'dnaA'}, {'subjekt': 'DnaA', 'predikat': 'dual', 'objekt': 'recF'}, {'subjekt': 'DnaA', 'predikat': 'repressor', 'objekt': 'uvrB'}, {'subjekt': 'DnaA', 'predikat': 'repressor', 'objekt': 'recN'}, {'subjekt': 'DnaA', 'predikat': 'repressor', 'objekt': 'idlP'}, {'subjekt': 'DnaA', 'predikat': 'repressor', 'objekt': 'ytiD'}, {'subjekt': 'DnaA', 'predikat': 'repressor', 'objekt': 'ytiC'}, {'subjekt': 'DnaA', 'predikat': 'repressor', 'objekt': 'iraD'}, {'subjekt': 'DnaA', 'predikat': 'activator', 'objekt': 'polA'}, {'subjekt': 'DnaA', 'predikat': 'repressor', 'objekt': 'rpoH'}, {'subjekt': 'DnaA', 'predikat': 'repressor', 'objekt': 'guaB'}, {'subjekt': 'DnaA', 'predikat': 'repressor', 'objekt': 'guaA'}, {'subjekt': 'DnaA', 'predikat': 'repressor', 'objekt': 'aldA'}]\n",
      "---------------------------\n",
      "63 286\n"
     ]
    },
    {
     "name": "stderr",
     "output_type": "stream",
     "text": [
      "C:\\Anaconda\\lib\\site-packages\\urllib3\\connectionpool.py:1061: InsecureRequestWarning: Unverified HTTPS request is being made to host 'regulondb.ccg.unam.mx'. Adding certificate verification is strongly advised. See: https://urllib3.readthedocs.io/en/1.26.x/advanced-usage.html#ssl-warnings\n",
      "  warnings.warn(\n"
     ]
    },
    {
     "name": "stdout",
     "output_type": "stream",
     "text": [
      "success:\n",
      "[{'subjekt': 'CsgD', 'predikat': 'repressor', 'objekt': 'yhbS'}, {'subjekt': 'CsgD', 'predikat': 'repressor', 'objekt': 'ubiT'}, {'subjekt': 'CsgD', 'predikat': 'repressor', 'objekt': 'fliI'}, {'subjekt': 'CsgD', 'predikat': 'repressor', 'objekt': 'fliF'}, {'subjekt': 'CsgD', 'predikat': 'repressor', 'objekt': 'fliK'}, {'subjekt': 'CsgD', 'predikat': 'repressor', 'objekt': 'fliH'}, {'subjekt': 'CsgD', 'predikat': 'repressor', 'objekt': 'fliJ'}, {'subjekt': 'CsgD', 'predikat': 'repressor', 'objekt': 'fliG'}, {'subjekt': 'CsgD', 'predikat': 'repressor', 'objekt': 'fliE'}, {'subjekt': 'CsgD', 'predikat': 'activator', 'objekt': 'csgI'}, {'subjekt': 'CsgD', 'predikat': 'activator', 'objekt': 'csgA'}, {'subjekt': 'CsgD', 'predikat': 'activator', 'objekt': 'csgB'}, {'subjekt': 'CsgD', 'predikat': 'activator', 'objekt': 'csgC'}, {'subjekt': 'CsgD', 'predikat': 'activator', 'objekt': 'csgG'}, {'subjekt': 'CsgD', 'predikat': 'activator', 'objekt': 'csgF'}, {'subjekt': 'CsgD', 'predikat': 'activator', 'objekt': 'csgD'}, {'subjekt': 'CsgD', 'predikat': 'activator', 'objekt': 'csgE'}, {'subjekt': 'CsgD', 'predikat': 'activator', 'objekt': 'nlpA'}, {'subjekt': 'CsgD', 'predikat': 'activator', 'objekt': 'wrbA'}, {'subjekt': 'CsgD', 'predikat': 'activator', 'objekt': 'yccJ'}, {'subjekt': 'CsgD', 'predikat': 'repressor', 'objekt': 'flgM'}, {'subjekt': 'CsgD', 'predikat': 'repressor', 'objekt': 'flgN'}, {'subjekt': 'CsgD', 'predikat': 'repressor', 'objekt': 'tcyJ'}, {'subjekt': 'CsgD', 'predikat': 'repressor', 'objekt': 'fliA'}, {'subjekt': 'CsgD', 'predikat': 'repressor', 'objekt': 'fliZ'}, {'subjekt': 'CsgD', 'predikat': 'repressor', 'objekt': 'pepD'}, {'subjekt': 'CsgD', 'predikat': 'activator', 'objekt': 'dgcC'}, {'subjekt': 'CsgD', 'predikat': 'activator', 'objekt': 'iraP'}]\n",
      "---------------------------\n",
      "64 286\n"
     ]
    },
    {
     "name": "stderr",
     "output_type": "stream",
     "text": [
      "C:\\Anaconda\\lib\\site-packages\\urllib3\\connectionpool.py:1061: InsecureRequestWarning: Unverified HTTPS request is being made to host 'regulondb.ccg.unam.mx'. Adding certificate verification is strongly advised. See: https://urllib3.readthedocs.io/en/1.26.x/advanced-usage.html#ssl-warnings\n",
      "  warnings.warn(\n"
     ]
    },
    {
     "name": "stdout",
     "output_type": "stream",
     "text": [
      "success:\n",
      "[{'subjekt': 'HU', 'predikat': 'activator', 'objekt': 'micF'}, {'subjekt': 'HU', 'predikat': 'repressor', 'objekt': 'galK'}, {'subjekt': 'HU', 'predikat': 'repressor', 'objekt': 'galE'}, {'subjekt': 'HU', 'predikat': 'repressor', 'objekt': 'galM'}, {'subjekt': 'HU', 'predikat': 'repressor', 'objekt': 'galT'}, {'subjekt': 'HU', 'predikat': 'repressor', 'objekt': 'tyrP'}, {'subjekt': 'HU', 'predikat': 'repressor', 'objekt': 'mtr'}, {'subjekt': 'HU', 'predikat': 'repressor', 'objekt': 'seqA'}, {'subjekt': 'HU', 'predikat': 'repressor', 'objekt': 'pgm'}]\n",
      "---------------------------\n",
      "65 286\n"
     ]
    },
    {
     "name": "stderr",
     "output_type": "stream",
     "text": [
      "C:\\Anaconda\\lib\\site-packages\\urllib3\\connectionpool.py:1061: InsecureRequestWarning: Unverified HTTPS request is being made to host 'regulondb.ccg.unam.mx'. Adding certificate verification is strongly advised. See: https://urllib3.readthedocs.io/en/1.26.x/advanced-usage.html#ssl-warnings\n",
      "  warnings.warn(\n"
     ]
    },
    {
     "name": "stdout",
     "output_type": "stream",
     "text": [
      "success:\n",
      "[{'subjekt': 'H-NS', 'predikat': 'repressor', 'objekt': 'ftnA'}, {'subjekt': 'H-NS', 'predikat': 'repressor', 'objekt': 'casD'}, {'subjekt': 'H-NS', 'predikat': 'repressor', 'objekt': 'casB'}, {'subjekt': 'H-NS', 'predikat': 'repressor', 'objekt': 'cas2'}, {'subjekt': 'H-NS', 'predikat': 'repressor', 'objekt': 'casC'}, {'subjekt': 'H-NS', 'predikat': 'repressor', 'objekt': 'casA'}, {'subjekt': 'H-NS', 'predikat': 'repressor', 'objekt': 'cas1'}, {'subjekt': 'H-NS', 'predikat': 'repressor', 'objekt': 'casE'}, {'subjekt': 'H-NS', 'predikat': 'repressor', 'objekt': 'yciE'}, {'subjekt': 'H-NS', 'predikat': 'repressor', 'objekt': 'yciG'}, {'subjekt': 'H-NS', 'predikat': 'repressor', 'objekt': 'yciF'}, {'subjekt': 'H-NS', 'predikat': 'repressor', 'objekt': 'dctR'}, {'subjekt': 'H-NS', 'predikat': 'repressor', 'objekt': 'slp'}, {'subjekt': 'H-NS', 'predikat': 'repressor', 'objekt': 'rcsD'}, {'subjekt': 'H-NS', 'predikat': 'repressor', 'objekt': 'rcsB'}, {'subjekt': 'H-NS', 'predikat': 'repressor', 'objekt': 'cadC'}, {'subjekt': 'H-NS', 'predikat': 'repressor', 'objekt': 'ydeP'}, {'subjekt': 'H-NS', 'predikat': 'repressor', 'objekt': 'gadE'}, {'subjekt': 'H-NS', 'predikat': 'repressor', 'objekt': 'mdtE'}, {'subjekt': 'H-NS', 'predikat': 'repressor', 'objekt': 'gadF'}, {'subjekt': 'H-NS', 'predikat': 'repressor', 'objekt': 'mdtF'}, {'subjekt': 'H-NS', 'predikat': 'repressor', 'objekt': 'ydeO'}, {'subjekt': 'H-NS', 'predikat': 'repressor', 'objekt': 'adiY'}, {'subjekt': 'H-NS', 'predikat': 'repressor', 'objekt': 'yhiM'}, {'subjekt': 'H-NS', 'predikat': 'repressor', 'objekt': 'gadW'}, {'subjekt': 'H-NS', 'predikat': 'repressor', 'objekt': 'hdfR'}, {'subjekt': 'H-NS', 'predikat': 'repressor', 'objekt': 'evgS'}, {'subjekt': 'H-NS', 'predikat': 'repressor', 'objekt': 'evgA'}, {'subjekt': 'H-NS', 'predikat': 'repressor', 'objekt': 'evgL'}, {'subjekt': 'H-NS', 'predikat': 'repressor', 'objekt': 'adeD'}, {'subjekt': 'H-NS', 'predikat': 'repressor', 'objekt': 'lrp'}, {'subjekt': 'H-NS', 'predikat': 'repressor', 'objekt': 'leuO'}, {'subjekt': 'H-NS', 'predikat': 'repressor', 'objekt': 'nrdA'}, {'subjekt': 'H-NS', 'predikat': 'repressor', 'objekt': 'yfaE'}, {'subjekt': 'H-NS', 'predikat': 'repressor', 'objekt': 'nrdB'}, {'subjekt': 'H-NS', 'predikat': 'repressor', 'objekt': 'nrdD'}, {'subjekt': 'H-NS', 'predikat': 'repressor', 'objekt': 'nrdG'}, {'subjekt': 'H-NS', 'predikat': 'repressor', 'objekt': 'fau'}, {'subjekt': 'H-NS', 'predikat': 'repressor', 'objekt': 'ssrS'}, {'subjekt': 'H-NS', 'predikat': 'repressor', 'objekt': 'cspA'}, {'subjekt': 'H-NS', 'predikat': 'repressor', 'objekt': 'mdtI'}, {'subjekt': 'H-NS', 'predikat': 'repressor', 'objekt': 'mdtJ'}, {'subjekt': 'H-NS', 'predikat': 'repressor', 'objekt': 'mdtU'}, {'subjekt': 'H-NS', 'predikat': 'repressor', 'objekt': 'csgG'}, {'subjekt': 'H-NS', 'predikat': 'repressor', 'objekt': 'csgF'}, {'subjekt': 'H-NS', 'predikat': 'repressor', 'objekt': 'csgD'}, {'subjekt': 'H-NS', 'predikat': 'repressor', 'objekt': 'csgE'}, {'subjekt': 'H-NS', 'predikat': 'activator', 'objekt': 'malH'}, {'subjekt': 'H-NS', 'predikat': 'activator', 'objekt': 'malG'}, {'subjekt': 'H-NS', 'predikat': 'activator', 'objekt': 'malE'}, {'subjekt': 'H-NS', 'predikat': 'activator', 'objekt': 'malF'}, {'subjekt': 'H-NS', 'predikat': 'repressor', 'objekt': 'micF'}, {'subjekt': 'H-NS', 'predikat': 'repressor', 'objekt': 'galK'}, {'subjekt': 'H-NS', 'predikat': 'repressor', 'objekt': 'galE'}, {'subjekt': 'H-NS', 'predikat': 'repressor', 'objekt': 'galM'}, {'subjekt': 'H-NS', 'predikat': 'repressor', 'objekt': 'galT'}, {'subjekt': 'H-NS', 'predikat': 'activator', 'objekt': 'csiE'}, {'subjekt': 'H-NS', 'predikat': 'dual', 'objekt': 'rrfG'}, {'subjekt': 'H-NS', 'predikat': 'dual', 'objekt': 'rrsG'}, {'subjekt': 'H-NS', 'predikat': 'dual', 'objekt': 'gltW'}, {'subjekt': 'H-NS', 'predikat': 'dual', 'objekt': 'rrlG'}, {'subjekt': 'H-NS', 'predikat': 'repressor', 'objekt': 'dps'}, {'subjekt': 'H-NS', 'predikat': 'repressor', 'objekt': 'proW'}, {'subjekt': 'H-NS', 'predikat': 'repressor', 'objekt': 'proX'}, {'subjekt': 'H-NS', 'predikat': 'repressor', 'objekt': 'proV'}, {'subjekt': 'H-NS', 'predikat': 'dual', 'objekt': 'gltU'}, {'subjekt': 'H-NS', 'predikat': 'dual', 'objekt': 'rrsC'}, {'subjekt': 'H-NS', 'predikat': 'dual', 'objekt': 'rrfC'}, {'subjekt': 'H-NS', 'predikat': 'dual', 'objekt': 'rrlC'}, {'subjekt': 'H-NS', 'predikat': 'dual', 'objekt': 'rrfF'}, {'subjekt': 'H-NS', 'predikat': 'dual', 'objekt': 'ileU'}, {'subjekt': 'H-NS', 'predikat': 'dual', 'objekt': 'rrsD'}, {'subjekt': 'H-NS', 'predikat': 'dual', 'objekt': 'rrlD'}, {'subjekt': 'H-NS', 'predikat': 'dual', 'objekt': 'thrV'}, {'subjekt': 'H-NS', 'predikat': 'dual', 'objekt': 'alaU'}, {'subjekt': 'H-NS', 'predikat': 'dual', 'objekt': 'rrfD'}, {'subjekt': 'H-NS', 'predikat': 'repressor', 'objekt': 'yhiD'}, {'subjekt': 'H-NS', 'predikat': 'repressor', 'objekt': 'hdeA'}, {'subjekt': 'H-NS', 'predikat': 'repressor', 'objekt': 'hdeB'}, {'subjekt': 'H-NS', 'predikat': 'repressor', 'objekt': 'gadA'}, {'subjekt': 'H-NS', 'predikat': 'repressor', 'objekt': 'gadX'}, {'subjekt': 'H-NS', 'predikat': 'dual', 'objekt': 'rrlH'}, {'subjekt': 'H-NS', 'predikat': 'dual', 'objekt': 'ileV'}, {'subjekt': 'H-NS', 'predikat': 'dual', 'objekt': 'rrsH'}, {'subjekt': 'H-NS', 'predikat': 'dual', 'objekt': 'rrfH'}, {'subjekt': 'H-NS', 'predikat': 'dual', 'objekt': 'alaV'}, {'subjekt': 'H-NS', 'predikat': 'repressor', 'objekt': 'rrsB'}, {'subjekt': 'H-NS', 'predikat': 'repressor', 'objekt': 'rrlB'}, {'subjekt': 'H-NS', 'predikat': 'repressor', 'objekt': 'gltT'}, {'subjekt': 'H-NS', 'predikat': 'repressor', 'objekt': 'rrfB'}, {'subjekt': 'H-NS', 'predikat': 'repressor', 'objekt': 'asr'}, {'subjekt': 'H-NS', 'predikat': 'repressor', 'objekt': 'hdeD'}, {'subjekt': 'H-NS', 'predikat': 'repressor', 'objekt': 'bolA'}, {'subjekt': 'H-NS', 'predikat': 'repressor', 'objekt': 'pdeL'}, {'subjekt': 'H-NS', 'predikat': 'repressor', 'objekt': 'ddlA'}, {'subjekt': 'H-NS', 'predikat': 'repressor', 'objekt': 'adiC'}, {'subjekt': 'H-NS', 'predikat': 'repressor', 'objekt': 'glvC'}, {'subjekt': 'H-NS', 'predikat': 'repressor', 'objekt': 'ascF'}, {'subjekt': 'H-NS', 'predikat': 'repressor', 'objekt': 'gadB'}, {'subjekt': 'H-NS', 'predikat': 'repressor', 'objekt': 'iraP'}, {'subjekt': 'H-NS', 'predikat': 'repressor', 'objekt': 'ascG'}, {'subjekt': 'H-NS', 'predikat': 'repressor', 'objekt': 'cbpA'}, {'subjekt': 'H-NS', 'predikat': 'repressor', 'objekt': 'gadC'}, {'subjekt': 'H-NS', 'predikat': 'repressor', 'objekt': 'pagP'}, {'subjekt': 'H-NS', 'predikat': 'activator', 'objekt': 'cycA'}, {'subjekt': 'H-NS', 'predikat': 'repressor', 'objekt': 'pdeG'}, {'subjekt': 'H-NS', 'predikat': 'repressor', 'objekt': 'pdeI'}, {'subjekt': 'H-NS', 'predikat': 'repressor', 'objekt': 'pdeC'}, {'subjekt': 'H-NS', 'predikat': 'repressor', 'objekt': 'rflP'}, {'subjekt': 'H-NS', 'predikat': 'repressor', 'objekt': 'bluF'}, {'subjekt': 'H-NS', 'predikat': 'repressor', 'objekt': 'dgcT'}, {'subjekt': 'H-NS', 'predikat': 'repressor', 'objekt': 'pdeF'}, {'subjekt': 'H-NS', 'predikat': 'repressor', 'objekt': 'dgcJ'}, {'subjekt': 'H-NS', 'predikat': 'repressor', 'objekt': 'dgcZ'}, {'subjekt': 'H-NS', 'predikat': 'repressor', 'objekt': 'ttdR'}, {'subjekt': 'H-NS', 'predikat': 'repressor', 'objekt': 'fucA'}, {'subjekt': 'H-NS', 'predikat': 'repressor', 'objekt': 'oxc'}, {'subjekt': 'H-NS', 'predikat': 'repressor', 'objekt': 'hprR'}, {'subjekt': 'H-NS', 'predikat': 'repressor', 'objekt': 'dosC'}, {'subjekt': 'H-NS', 'predikat': 'repressor', 'objekt': 'cdgI'}, {'subjekt': 'H-NS', 'predikat': 'repressor', 'objekt': 'ydcC'}, {'subjekt': 'H-NS', 'predikat': 'repressor', 'objekt': 'ilvI'}, {'subjekt': 'H-NS', 'predikat': 'repressor', 'objekt': 'ilvH'}, {'subjekt': 'H-NS', 'predikat': 'repressor', 'objekt': 'nirC'}, {'subjekt': 'H-NS', 'predikat': 'repressor', 'objekt': 'nirB'}, {'subjekt': 'H-NS', 'predikat': 'repressor', 'objekt': 'nirD'}, {'subjekt': 'H-NS', 'predikat': 'repressor', 'objekt': 'cysG'}, {'subjekt': 'H-NS', 'predikat': 'repressor', 'objekt': 'hchA'}, {'subjekt': 'H-NS', 'predikat': 'activator', 'objekt': 'mazE'}, {'subjekt': 'H-NS', 'predikat': 'activator', 'objekt': 'mazF'}, {'subjekt': 'H-NS', 'predikat': 'activator', 'objekt': 'relA'}, {'subjekt': 'H-NS', 'predikat': 'repressor', 'objekt': 'lacA'}, {'subjekt': 'H-NS', 'predikat': 'repressor', 'objekt': 'lacY'}, {'subjekt': 'H-NS', 'predikat': 'repressor', 'objekt': 'lacZ'}, {'subjekt': 'H-NS', 'predikat': 'repressor', 'objekt': 'degP'}, {'subjekt': 'H-NS', 'predikat': 'dual', 'objekt': 'hlyE'}, {'subjekt': 'H-NS', 'predikat': 'repressor', 'objekt': 'cydA'}, {'subjekt': 'H-NS', 'predikat': 'repressor', 'objekt': 'cydB'}, {'subjekt': 'H-NS', 'predikat': 'activator', 'objekt': 'mukF'}, {'subjekt': 'H-NS', 'predikat': 'activator', 'objekt': 'cmoM'}, {'subjekt': 'H-NS', 'predikat': 'activator', 'objekt': 'mukE'}, {'subjekt': 'H-NS', 'predikat': 'activator', 'objekt': 'mukB'}, {'subjekt': 'H-NS', 'predikat': 'repressor', 'objekt': 'fimB'}, {'subjekt': 'H-NS', 'predikat': 'activator', 'objekt': 'fimA'}, {'subjekt': 'H-NS', 'predikat': 'activator', 'objekt': 'fimD'}, {'subjekt': 'H-NS', 'predikat': 'activator', 'objekt': 'fimG'}, {'subjekt': 'H-NS', 'predikat': 'activator', 'objekt': 'fimC'}, {'subjekt': 'H-NS', 'predikat': 'activator', 'objekt': 'fimR2'}, {'subjekt': 'H-NS', 'predikat': 'activator', 'objekt': 'fimI'}, {'subjekt': 'H-NS', 'predikat': 'activator', 'objekt': 'fimF'}, {'subjekt': 'H-NS', 'predikat': 'activator', 'objekt': 'fimH'}, {'subjekt': 'H-NS', 'predikat': 'repressor', 'objekt': 'fimE'}, {'subjekt': 'H-NS', 'predikat': 'repressor', 'objekt': 'caiF'}, {'subjekt': 'H-NS', 'predikat': 'activator', 'objekt': 'tcyJ'}, {'subjekt': 'H-NS', 'predikat': 'activator', 'objekt': 'fliA'}, {'subjekt': 'H-NS', 'predikat': 'activator', 'objekt': 'fliZ'}, {'subjekt': 'H-NS', 'predikat': 'repressor', 'objekt': 'stpA'}, {'subjekt': 'H-NS', 'predikat': 'repressor', 'objekt': 'gspC'}, {'subjekt': 'H-NS', 'predikat': 'repressor', 'objekt': 'gspM'}, {'subjekt': 'H-NS', 'predikat': 'repressor', 'objekt': 'gspO'}, {'subjekt': 'H-NS', 'predikat': 'repressor', 'objekt': 'gspG'}, {'subjekt': 'H-NS', 'predikat': 'repressor', 'objekt': 'gspE'}, {'subjekt': 'H-NS', 'predikat': 'repressor', 'objekt': 'gspK'}, {'subjekt': 'H-NS', 'predikat': 'repressor', 'objekt': 'gspD'}, {'subjekt': 'H-NS', 'predikat': 'repressor', 'objekt': 'gspF'}, {'subjekt': 'H-NS', 'predikat': 'repressor', 'objekt': 'gspJ'}, {'subjekt': 'H-NS', 'predikat': 'repressor', 'objekt': 'gspL'}, {'subjekt': 'H-NS', 'predikat': 'repressor', 'objekt': 'gspI'}, {'subjekt': 'H-NS', 'predikat': 'repressor', 'objekt': 'gspH'}, {'subjekt': 'H-NS', 'predikat': 'repressor', 'objekt': 'gspA'}, {'subjekt': 'H-NS', 'predikat': 'repressor', 'objekt': 'gspB'}, {'subjekt': 'H-NS', 'predikat': 'repressor', 'objekt': 'adiA'}, {'subjekt': 'H-NS', 'predikat': 'activator', 'objekt': 'flhD'}, {'subjekt': 'H-NS', 'predikat': 'activator', 'objekt': 'flhC'}, {'subjekt': 'H-NS', 'predikat': 'repressor', 'objekt': 'osmC'}, {'subjekt': 'H-NS', 'predikat': 'activator', 'objekt': 'cspD'}, {'subjekt': 'H-NS', 'predikat': 'repressor', 'objekt': 'caiB'}, {'subjekt': 'H-NS', 'predikat': 'repressor', 'objekt': 'caiA'}, {'subjekt': 'H-NS', 'predikat': 'repressor', 'objekt': 'caiE'}, {'subjekt': 'H-NS', 'predikat': 'repressor', 'objekt': 'caiT'}, {'subjekt': 'H-NS', 'predikat': 'repressor', 'objekt': 'caiC'}, {'subjekt': 'H-NS', 'predikat': 'repressor', 'objekt': 'caiD'}, {'subjekt': 'H-NS', 'predikat': 'repressor', 'objekt': 'rcsA'}, {'subjekt': 'H-NS', 'predikat': 'repressor', 'objekt': 'hns'}, {'subjekt': 'H-NS', 'predikat': 'repressor', 'objekt': 'nhaA'}, {'subjekt': 'H-NS', 'predikat': 'repressor', 'objekt': 'nhaR'}, {'subjekt': 'H-NS', 'predikat': 'repressor', 'objekt': 'cadA'}, {'subjekt': 'H-NS', 'predikat': 'repressor', 'objekt': 'cadB'}, {'subjekt': 'H-NS', 'predikat': 'repressor', 'objekt': 'bglB'}, {'subjekt': 'H-NS', 'predikat': 'repressor', 'objekt': 'bglG'}, {'subjekt': 'H-NS', 'predikat': 'repressor', 'objekt': 'bglF'}, {'subjekt': 'H-NS', 'predikat': 'activator', 'objekt': 'gabP'}, {'subjekt': 'H-NS', 'predikat': 'activator', 'objekt': 'gabT'}, {'subjekt': 'H-NS', 'predikat': 'activator', 'objekt': 'glaH'}, {'subjekt': 'H-NS', 'predikat': 'activator', 'objekt': 'lhgD'}, {'subjekt': 'H-NS', 'predikat': 'activator', 'objekt': 'gabD'}, {'subjekt': 'H-NS', 'predikat': 'repressor', 'objekt': 'chiA'}, {'subjekt': 'H-NS', 'predikat': 'activator', 'objekt': 'fliC'}, {'subjekt': 'H-NS', 'predikat': 'activator', 'objekt': 'fliX'}, {'subjekt': 'H-NS', 'predikat': 'repressor', 'objekt': 'appY'}, {'subjekt': 'H-NS', 'predikat': 'activator', 'objekt': 'fes'}, {'subjekt': 'H-NS', 'predikat': 'activator', 'objekt': 'ybdZ'}, {'subjekt': 'H-NS', 'predikat': 'activator', 'objekt': 'fepE'}, {'subjekt': 'H-NS', 'predikat': 'activator', 'objekt': 'entF'}, {'subjekt': 'H-NS', 'predikat': 'activator', 'objekt': 'hisJ'}, {'subjekt': 'H-NS', 'predikat': 'activator', 'objekt': 'hisQ'}, {'subjekt': 'H-NS', 'predikat': 'activator', 'objekt': 'hisM'}, {'subjekt': 'H-NS', 'predikat': 'activator', 'objekt': 'hisP'}, {'subjekt': 'H-NS', 'predikat': 'repressor', 'objekt': 'cysA'}, {'subjekt': 'H-NS', 'predikat': 'repressor', 'objekt': 'cysU'}, {'subjekt': 'H-NS', 'predikat': 'repressor', 'objekt': 'cysW'}, {'subjekt': 'H-NS', 'predikat': 'repressor', 'objekt': 'cysP'}, {'subjekt': 'H-NS', 'predikat': 'repressor', 'objekt': 'cysM'}, {'subjekt': 'H-NS', 'predikat': 'repressor', 'objekt': 'garK'}, {'subjekt': 'H-NS', 'predikat': 'repressor', 'objekt': 'rnpB'}, {'subjekt': 'H-NS', 'predikat': 'repressor', 'objekt': 'garR'}, {'subjekt': 'H-NS', 'predikat': 'repressor', 'objekt': 'garP'}, {'subjekt': 'H-NS', 'predikat': 'repressor', 'objekt': 'garL'}, {'subjekt': 'H-NS', 'predikat': 'activator', 'objekt': 'gutM'}, {'subjekt': 'H-NS', 'predikat': 'activator', 'objekt': 'srlE'}, {'subjekt': 'H-NS', 'predikat': 'activator', 'objekt': 'srlB'}, {'subjekt': 'H-NS', 'predikat': 'activator', 'objekt': 'srlR'}, {'subjekt': 'H-NS', 'predikat': 'activator', 'objekt': 'srlD'}, {'subjekt': 'H-NS', 'predikat': 'activator', 'objekt': 'gutQ'}, {'subjekt': 'H-NS', 'predikat': 'activator', 'objekt': 'srlA'}, {'subjekt': 'H-NS', 'predikat': 'repressor', 'objekt': 'yjjQ'}, {'subjekt': 'H-NS', 'predikat': 'repressor', 'objekt': 'bglJ'}, {'subjekt': 'H-NS', 'predikat': 'repressor', 'objekt': 'yjjP'}, {'subjekt': 'H-NS', 'predikat': 'repressor', 'objekt': 'acrF'}, {'subjekt': 'H-NS', 'predikat': 'repressor', 'objekt': 'acrE'}]\n",
      "---------------------------\n",
      "66 286\n"
     ]
    },
    {
     "name": "stderr",
     "output_type": "stream",
     "text": [
      "C:\\Anaconda\\lib\\site-packages\\urllib3\\connectionpool.py:1061: InsecureRequestWarning: Unverified HTTPS request is being made to host 'regulondb.ccg.unam.mx'. Adding certificate verification is strongly advised. See: https://urllib3.readthedocs.io/en/1.26.x/advanced-usage.html#ssl-warnings\n",
      "  warnings.warn(\n"
     ]
    },
    {
     "name": "stdout",
     "output_type": "stream",
     "text": [
      "success:\n",
      "[{'subjekt': 'SdiA', 'predikat': 'activator', 'objekt': 'gadW'}, {'subjekt': 'SdiA', 'predikat': 'activator', 'objekt': 'rsd'}, {'subjekt': 'SdiA', 'predikat': 'activator', 'objekt': 'rmf'}, {'subjekt': 'SdiA', 'predikat': 'repressor', 'objekt': 'ftsA'}, {'subjekt': 'SdiA', 'predikat': 'dual', 'objekt': 'ftsQ'}, {'subjekt': 'SdiA', 'predikat': 'repressor', 'objekt': 'ftsZ'}, {'subjekt': 'SdiA', 'predikat': 'activator', 'objekt': 'gadY'}, {'subjekt': 'SdiA', 'predikat': 'activator', 'objekt': 'rflP'}]\n",
      "---------------------------\n",
      "67 286\n"
     ]
    },
    {
     "name": "stderr",
     "output_type": "stream",
     "text": [
      "C:\\Anaconda\\lib\\site-packages\\urllib3\\connectionpool.py:1061: InsecureRequestWarning: Unverified HTTPS request is being made to host 'regulondb.ccg.unam.mx'. Adding certificate verification is strongly advised. See: https://urllib3.readthedocs.io/en/1.26.x/advanced-usage.html#ssl-warnings\n",
      "  warnings.warn(\n"
     ]
    },
    {
     "name": "stdout",
     "output_type": "stream",
     "text": [
      "success:\n",
      "[{'subjekt': 'AraC', 'predikat': 'repressor', 'objekt': 'ytfT'}, {'subjekt': 'AraC', 'predikat': 'repressor', 'objekt': 'yjfF'}, {'subjekt': 'AraC', 'predikat': 'repressor', 'objekt': 'ytfR'}, {'subjekt': 'AraC', 'predikat': 'repressor', 'objekt': 'ytfQ'}, {'subjekt': 'AraC', 'predikat': 'dual', 'objekt': 'araA'}, {'subjekt': 'AraC', 'predikat': 'dual', 'objekt': 'araD'}, {'subjekt': 'AraC', 'predikat': 'dual', 'objekt': 'araB'}, {'subjekt': 'AraC', 'predikat': 'dual', 'objekt': 'araC'}, {'subjekt': 'AraC', 'predikat': 'repressor', 'objekt': 'xylA'}, {'subjekt': 'AraC', 'predikat': 'repressor', 'objekt': 'xylB'}, {'subjekt': 'AraC', 'predikat': 'repressor', 'objekt': 'ydeN'}, {'subjekt': 'AraC', 'predikat': 'repressor', 'objekt': 'ydeM'}, {'subjekt': 'AraC', 'predikat': 'activator', 'objekt': 'araF'}, {'subjekt': 'AraC', 'predikat': 'activator', 'objekt': 'araH'}, {'subjekt': 'AraC', 'predikat': 'activator', 'objekt': 'araG'}, {'subjekt': 'AraC', 'predikat': 'activator', 'objekt': 'araJ'}, {'subjekt': 'AraC', 'predikat': 'activator', 'objekt': 'araE'}, {'subjekt': 'AraC', 'predikat': 'activator', 'objekt': 'ygeA'}]\n",
      "---------------------------\n",
      "68 286\n"
     ]
    },
    {
     "name": "stderr",
     "output_type": "stream",
     "text": [
      "C:\\Anaconda\\lib\\site-packages\\urllib3\\connectionpool.py:1061: InsecureRequestWarning: Unverified HTTPS request is being made to host 'regulondb.ccg.unam.mx'. Adding certificate verification is strongly advised. See: https://urllib3.readthedocs.io/en/1.26.x/advanced-usage.html#ssl-warnings\n",
      "  warnings.warn(\n"
     ]
    },
    {
     "name": "stdout",
     "output_type": "stream",
     "text": [
      "success:\n",
      "[{'subjekt': 'GadW', 'predikat': 'repressor', 'objekt': 'dctR'}, {'subjekt': 'GadW', 'predikat': 'repressor', 'objekt': 'slp'}, {'subjekt': 'GadW', 'predikat': 'dual', 'objekt': 'yhiD'}, {'subjekt': 'GadW', 'predikat': 'dual', 'objekt': 'hdeA'}, {'subjekt': 'GadW', 'predikat': 'dual', 'objekt': 'hdeB'}, {'subjekt': 'GadW', 'predikat': 'dual', 'objekt': 'gadA'}, {'subjekt': 'GadW', 'predikat': 'dual', 'objekt': 'gadX'}, {'subjekt': 'GadW', 'predikat': 'dual', 'objekt': 'gadC'}, {'subjekt': 'GadW', 'predikat': 'dual', 'objekt': 'gadB'}, {'subjekt': 'GadW', 'predikat': 'repressor', 'objekt': 'gadY'}, {'subjekt': 'GadW', 'predikat': 'repressor', 'objekt': 'gadW'}, {'subjekt': 'GadW', 'predikat': 'activator', 'objekt': 'gadE'}, {'subjekt': 'GadW', 'predikat': 'activator', 'objekt': 'mdtE'}, {'subjekt': 'GadW', 'predikat': 'activator', 'objekt': 'gadF'}, {'subjekt': 'GadW', 'predikat': 'activator', 'objekt': 'mdtF'}]\n",
      "---------------------------\n",
      "69 286\n"
     ]
    },
    {
     "name": "stderr",
     "output_type": "stream",
     "text": [
      "C:\\Anaconda\\lib\\site-packages\\urllib3\\connectionpool.py:1061: InsecureRequestWarning: Unverified HTTPS request is being made to host 'regulondb.ccg.unam.mx'. Adding certificate verification is strongly advised. See: https://urllib3.readthedocs.io/en/1.26.x/advanced-usage.html#ssl-warnings\n",
      "  warnings.warn(\n"
     ]
    },
    {
     "name": "stdout",
     "output_type": "stream",
     "text": [
      "success:\n",
      "[{'subjekt': 'FucR', 'predikat': 'activator', 'objekt': 'fucO'}, {'subjekt': 'FucR', 'predikat': 'activator', 'objekt': 'fucA'}, {'subjekt': 'FucR', 'predikat': 'activator', 'objekt': 'fucR'}, {'subjekt': 'FucR', 'predikat': 'activator', 'objekt': 'fucK'}, {'subjekt': 'FucR', 'predikat': 'activator', 'objekt': 'fucI'}, {'subjekt': 'FucR', 'predikat': 'activator', 'objekt': 'fucU'}, {'subjekt': 'FucR', 'predikat': 'activator', 'objekt': 'fucP'}]\n",
      "---------------------------\n",
      "70 286\n"
     ]
    },
    {
     "name": "stderr",
     "output_type": "stream",
     "text": [
      "C:\\Anaconda\\lib\\site-packages\\urllib3\\connectionpool.py:1061: InsecureRequestWarning: Unverified HTTPS request is being made to host 'regulondb.ccg.unam.mx'. Adding certificate verification is strongly advised. See: https://urllib3.readthedocs.io/en/1.26.x/advanced-usage.html#ssl-warnings\n",
      "  warnings.warn(\n"
     ]
    },
    {
     "name": "stdout",
     "output_type": "stream",
     "text": [
      "success:\n",
      "[{'subjekt': 'DcuR', 'predikat': 'activator', 'objekt': 'dpiB'}, {'subjekt': 'DcuR', 'predikat': 'activator', 'objekt': 'dpiA'}, {'subjekt': 'DcuR', 'predikat': 'activator', 'objekt': 'dcuA'}, {'subjekt': 'DcuR', 'predikat': 'activator', 'objekt': 'aspA'}, {'subjekt': 'DcuR', 'predikat': 'activator', 'objekt': 'pck'}, {'subjekt': 'DcuR', 'predikat': 'activator', 'objekt': 'frdD'}, {'subjekt': 'DcuR', 'predikat': 'activator', 'objekt': 'frdC'}, {'subjekt': 'DcuR', 'predikat': 'activator', 'objekt': 'frdA'}, {'subjekt': 'DcuR', 'predikat': 'activator', 'objekt': 'frdB'}, {'subjekt': 'DcuR', 'predikat': 'activator', 'objekt': 'dctA'}, {'subjekt': 'DcuR', 'predikat': 'activator', 'objekt': 'dcuB'}, {'subjekt': 'DcuR', 'predikat': 'activator', 'objekt': 'fumB'}]\n",
      "---------------------------\n",
      "71 286\n"
     ]
    },
    {
     "name": "stderr",
     "output_type": "stream",
     "text": [
      "C:\\Anaconda\\lib\\site-packages\\urllib3\\connectionpool.py:1061: InsecureRequestWarning: Unverified HTTPS request is being made to host 'regulondb.ccg.unam.mx'. Adding certificate verification is strongly advised. See: https://urllib3.readthedocs.io/en/1.26.x/advanced-usage.html#ssl-warnings\n",
      "  warnings.warn(\n"
     ]
    },
    {
     "name": "stdout",
     "output_type": "stream",
     "text": [
      "success:\n",
      "[{'subjekt': 'TreR', 'predikat': 'repressor', 'objekt': 'treC'}, {'subjekt': 'TreR', 'predikat': 'repressor', 'objekt': 'treB'}]\n",
      "---------------------------\n",
      "72 286\n"
     ]
    },
    {
     "name": "stderr",
     "output_type": "stream",
     "text": [
      "C:\\Anaconda\\lib\\site-packages\\urllib3\\connectionpool.py:1061: InsecureRequestWarning: Unverified HTTPS request is being made to host 'regulondb.ccg.unam.mx'. Adding certificate verification is strongly advised. See: https://urllib3.readthedocs.io/en/1.26.x/advanced-usage.html#ssl-warnings\n",
      "  warnings.warn(\n"
     ]
    },
    {
     "name": "stdout",
     "output_type": "stream",
     "text": [
      "success:\n",
      "[{'subjekt': 'NagC', 'predikat': 'repressor', 'objekt': 'galP'}, {'subjekt': 'NagC', 'predikat': 'repressor', 'objekt': 'chiZ'}, {'subjekt': 'NagC', 'predikat': 'repressor', 'objekt': 'chiQ'}, {'subjekt': 'NagC', 'predikat': 'repressor', 'objekt': 'chiP'}, {'subjekt': 'NagC', 'predikat': 'repressor', 'objekt': 'crr'}, {'subjekt': 'NagC', 'predikat': 'repressor', 'objekt': 'ptsI'}, {'subjekt': 'NagC', 'predikat': 'repressor', 'objekt': 'ptsH'}, {'subjekt': 'NagC', 'predikat': 'repressor', 'objekt': 'creA'}, {'subjekt': 'NagC', 'predikat': 'repressor', 'objekt': 'creC'}, {'subjekt': 'NagC', 'predikat': 'repressor', 'objekt': 'creB'}, {'subjekt': 'NagC', 'predikat': 'repressor', 'objekt': 'creD'}, {'subjekt': 'NagC', 'predikat': 'repressor', 'objekt': 'dinI'}, {'subjekt': 'NagC', 'predikat': 'repressor', 'objekt': 'ydeP'}, {'subjekt': 'NagC', 'predikat': None, 'objekt': 'eutP'}, {'subjekt': 'NagC', 'predikat': None, 'objekt': 'eutQ'}, {'subjekt': 'NagC', 'predikat': None, 'objekt': 'eutT'}, {'subjekt': 'NagC', 'predikat': None, 'objekt': 'eutS'}, {'subjekt': 'NagC', 'predikat': None, 'objekt': 'eutM'}, {'subjekt': 'NagC', 'predikat': None, 'objekt': 'eutD'}, {'subjekt': 'NagC', 'predikat': None, 'objekt': 'feoA'}, {'subjekt': 'NagC', 'predikat': None, 'objekt': 'feoB'}, {'subjekt': 'NagC', 'predikat': None, 'objekt': 'feoC'}, {'subjekt': 'NagC', 'predikat': 'repressor', 'objekt': 'ydeN'}, {'subjekt': 'NagC', 'predikat': 'repressor', 'objekt': 'ydeM'}, {'subjekt': 'NagC', 'predikat': 'repressor', 'objekt': 'umpH'}, {'subjekt': 'NagC', 'predikat': 'repressor', 'objekt': 'nagC'}, {'subjekt': 'NagC', 'predikat': 'repressor', 'objekt': 'nagA'}, {'subjekt': 'NagC', 'predikat': 'repressor', 'objekt': 'nagB'}, {'subjekt': 'NagC', 'predikat': 'repressor', 'objekt': 'chbR'}, {'subjekt': 'NagC', 'predikat': 'repressor', 'objekt': 'chbG'}, {'subjekt': 'NagC', 'predikat': 'repressor', 'objekt': 'chbF'}, {'subjekt': 'NagC', 'predikat': 'repressor', 'objekt': 'chbB'}, {'subjekt': 'NagC', 'predikat': 'repressor', 'objekt': 'chbA'}, {'subjekt': 'NagC', 'predikat': 'repressor', 'objekt': 'chbC'}, {'subjekt': 'NagC', 'predikat': 'dual', 'objekt': 'glmS'}, {'subjekt': 'NagC', 'predikat': 'dual', 'objekt': 'glmU'}, {'subjekt': 'NagC', 'predikat': 'repressor', 'objekt': 'manZ'}, {'subjekt': 'NagC', 'predikat': 'repressor', 'objekt': 'manY'}, {'subjekt': 'NagC', 'predikat': 'repressor', 'objekt': 'manX'}, {'subjekt': 'NagC', 'predikat': 'repressor', 'objekt': 'nanS'}, {'subjekt': 'NagC', 'predikat': 'repressor', 'objekt': 'nanM'}, {'subjekt': 'NagC', 'predikat': 'repressor', 'objekt': 'nanC'}, {'subjekt': 'NagC', 'predikat': 'repressor', 'objekt': 'nagE'}, {'subjekt': 'NagC', 'predikat': 'activator', 'objekt': 'fimB'}]\n",
      "---------------------------\n",
      "73 286\n"
     ]
    },
    {
     "name": "stderr",
     "output_type": "stream",
     "text": [
      "C:\\Anaconda\\lib\\site-packages\\urllib3\\connectionpool.py:1061: InsecureRequestWarning: Unverified HTTPS request is being made to host 'regulondb.ccg.unam.mx'. Adding certificate verification is strongly advised. See: https://urllib3.readthedocs.io/en/1.26.x/advanced-usage.html#ssl-warnings\n",
      "  warnings.warn(\n"
     ]
    },
    {
     "name": "stdout",
     "output_type": "stream",
     "text": [
      "success:\n",
      "[{'subjekt': 'FabR', 'predikat': 'repressor', 'objekt': 'fabA'}, {'subjekt': 'FabR', 'predikat': 'repressor', 'objekt': 'fabB'}]\n",
      "---------------------------\n",
      "74 286\n"
     ]
    },
    {
     "name": "stderr",
     "output_type": "stream",
     "text": [
      "C:\\Anaconda\\lib\\site-packages\\urllib3\\connectionpool.py:1061: InsecureRequestWarning: Unverified HTTPS request is being made to host 'regulondb.ccg.unam.mx'. Adding certificate verification is strongly advised. See: https://urllib3.readthedocs.io/en/1.26.x/advanced-usage.html#ssl-warnings\n",
      "  warnings.warn(\n"
     ]
    },
    {
     "name": "stdout",
     "output_type": "stream",
     "text": [
      "success:\n",
      "[{'subjekt': 'MlrA', 'predikat': 'activator', 'objekt': 'csgG'}, {'subjekt': 'MlrA', 'predikat': 'activator', 'objekt': 'csgF'}, {'subjekt': 'MlrA', 'predikat': 'activator', 'objekt': 'csgD'}, {'subjekt': 'MlrA', 'predikat': 'activator', 'objekt': 'csgE'}, {'subjekt': 'MlrA', 'predikat': 'activator', 'objekt': 'cadC'}, {'subjekt': 'MlrA', 'predikat': 'activator', 'objekt': 'rplU'}, {'subjekt': 'MlrA', 'predikat': 'activator', 'objekt': 'obgE'}, {'subjekt': 'MlrA', 'predikat': 'activator', 'objekt': 'yhbE'}, {'subjekt': 'MlrA', 'predikat': 'activator', 'objekt': 'rpmA'}, {'subjekt': 'MlrA', 'predikat': 'activator', 'objekt': 'ibaG'}]\n",
      "---------------------------\n",
      "75 286\n"
     ]
    },
    {
     "name": "stderr",
     "output_type": "stream",
     "text": [
      "C:\\Anaconda\\lib\\site-packages\\urllib3\\connectionpool.py:1061: InsecureRequestWarning: Unverified HTTPS request is being made to host 'regulondb.ccg.unam.mx'. Adding certificate verification is strongly advised. See: https://urllib3.readthedocs.io/en/1.26.x/advanced-usage.html#ssl-warnings\n",
      "  warnings.warn(\n"
     ]
    },
    {
     "name": "stdout",
     "output_type": "stream",
     "text": [
      "success:\n",
      "[{'subjekt': 'MprA', 'predikat': 'repressor', 'objekt': 'mprA'}, {'subjekt': 'MprA', 'predikat': 'repressor', 'objekt': 'emrA'}, {'subjekt': 'MprA', 'predikat': 'repressor', 'objekt': 'emrB'}, {'subjekt': 'MprA', 'predikat': 'repressor', 'objekt': 'nmpC'}, {'subjekt': 'MprA', 'predikat': 'repressor', 'objekt': 'acrA'}, {'subjekt': 'MprA', 'predikat': 'repressor', 'objekt': 'acrB'}]\n",
      "---------------------------\n",
      "76 286\n"
     ]
    },
    {
     "name": "stderr",
     "output_type": "stream",
     "text": [
      "C:\\Anaconda\\lib\\site-packages\\urllib3\\connectionpool.py:1061: InsecureRequestWarning: Unverified HTTPS request is being made to host 'regulondb.ccg.unam.mx'. Adding certificate verification is strongly advised. See: https://urllib3.readthedocs.io/en/1.26.x/advanced-usage.html#ssl-warnings\n",
      "  warnings.warn(\n"
     ]
    },
    {
     "name": "stdout",
     "output_type": "stream",
     "text": [
      "success:\n",
      "[{'subjekt': 'KdgR', 'predikat': 'repressor', 'objekt': 'eda'}, {'subjekt': 'KdgR', 'predikat': 'repressor', 'objekt': 'edd'}]\n",
      "---------------------------\n",
      "77 286\n"
     ]
    },
    {
     "name": "stderr",
     "output_type": "stream",
     "text": [
      "C:\\Anaconda\\lib\\site-packages\\urllib3\\connectionpool.py:1061: InsecureRequestWarning: Unverified HTTPS request is being made to host 'regulondb.ccg.unam.mx'. Adding certificate verification is strongly advised. See: https://urllib3.readthedocs.io/en/1.26.x/advanced-usage.html#ssl-warnings\n",
      "  warnings.warn(\n"
     ]
    },
    {
     "name": "stdout",
     "output_type": "stream",
     "text": [
      "success:\n",
      "[{'subjekt': 'TrpR', 'predikat': 'repressor', 'objekt': 'aroH'}, {'subjekt': 'TrpR', 'predikat': 'repressor', 'objekt': 'yaiA'}, {'subjekt': 'TrpR', 'predikat': 'repressor', 'objekt': 'aroM'}, {'subjekt': 'TrpR', 'predikat': 'repressor', 'objekt': 'aroL'}, {'subjekt': 'TrpR', 'predikat': 'repressor', 'objekt': 'mtr'}, {'subjekt': 'TrpR', 'predikat': 'repressor', 'objekt': 'trpB'}, {'subjekt': 'TrpR', 'predikat': 'repressor', 'objekt': 'trpE'}, {'subjekt': 'TrpR', 'predikat': 'repressor', 'objekt': 'trpC'}, {'subjekt': 'TrpR', 'predikat': 'repressor', 'objekt': 'trpL'}, {'subjekt': 'TrpR', 'predikat': 'repressor', 'objekt': 'trpD'}, {'subjekt': 'TrpR', 'predikat': 'repressor', 'objekt': 'trpA'}, {'subjekt': 'TrpR', 'predikat': 'repressor', 'objekt': 'trpR'}]\n",
      "---------------------------\n",
      "78 286\n"
     ]
    },
    {
     "name": "stderr",
     "output_type": "stream",
     "text": [
      "C:\\Anaconda\\lib\\site-packages\\urllib3\\connectionpool.py:1061: InsecureRequestWarning: Unverified HTTPS request is being made to host 'regulondb.ccg.unam.mx'. Adding certificate verification is strongly advised. See: https://urllib3.readthedocs.io/en/1.26.x/advanced-usage.html#ssl-warnings\n",
      "  warnings.warn(\n"
     ]
    },
    {
     "name": "stdout",
     "output_type": "stream",
     "text": [
      "success:\n",
      "[{'subjekt': 'GalS', 'predikat': 'repressor', 'objekt': 'galP'}, {'subjekt': 'GalS', 'predikat': 'dual', 'objekt': 'galT'}, {'subjekt': 'GalS', 'predikat': 'dual', 'objekt': 'galM'}, {'subjekt': 'GalS', 'predikat': 'dual', 'objekt': 'galK'}, {'subjekt': 'GalS', 'predikat': 'dual', 'objekt': 'galE'}, {'subjekt': 'GalS', 'predikat': 'repressor', 'objekt': 'galR'}, {'subjekt': 'GalS', 'predikat': 'repressor', 'objekt': 'mglB'}, {'subjekt': 'GalS', 'predikat': 'repressor', 'objekt': 'mglA'}, {'subjekt': 'GalS', 'predikat': 'repressor', 'objekt': 'mglC'}, {'subjekt': 'GalS', 'predikat': 'repressor', 'objekt': 'galS'}]\n",
      "---------------------------\n",
      "79 286\n"
     ]
    },
    {
     "name": "stderr",
     "output_type": "stream",
     "text": [
      "C:\\Anaconda\\lib\\site-packages\\urllib3\\connectionpool.py:1061: InsecureRequestWarning: Unverified HTTPS request is being made to host 'regulondb.ccg.unam.mx'. Adding certificate verification is strongly advised. See: https://urllib3.readthedocs.io/en/1.26.x/advanced-usage.html#ssl-warnings\n",
      "  warnings.warn(\n"
     ]
    },
    {
     "name": "stdout",
     "output_type": "stream",
     "text": [
      "success:\n",
      "[{'subjekt': 'ModE', 'predikat': 'repressor', 'objekt': 'deoC'}, {'subjekt': 'ModE', 'predikat': 'repressor', 'objekt': 'deoD'}, {'subjekt': 'ModE', 'predikat': 'repressor', 'objekt': 'deoA'}, {'subjekt': 'ModE', 'predikat': 'repressor', 'objekt': 'deoB'}, {'subjekt': 'ModE', 'predikat': 'activator', 'objekt': 'ccmG'}, {'subjekt': 'ModE', 'predikat': 'activator', 'objekt': 'napH'}, {'subjekt': 'ModE', 'predikat': 'activator', 'objekt': 'napA'}, {'subjekt': 'ModE', 'predikat': 'activator', 'objekt': 'napB'}, {'subjekt': 'ModE', 'predikat': 'activator', 'objekt': 'ccmH'}, {'subjekt': 'ModE', 'predikat': 'activator', 'objekt': 'napF'}, {'subjekt': 'ModE', 'predikat': 'activator', 'objekt': 'ccmA'}, {'subjekt': 'ModE', 'predikat': 'activator', 'objekt': 'napC'}, {'subjekt': 'ModE', 'predikat': 'activator', 'objekt': 'napG'}, {'subjekt': 'ModE', 'predikat': 'activator', 'objekt': 'ccmF'}, {'subjekt': 'ModE', 'predikat': 'activator', 'objekt': 'ccmC'}, {'subjekt': 'ModE', 'predikat': 'activator', 'objekt': 'ccmD'}, {'subjekt': 'ModE', 'predikat': 'activator', 'objekt': 'ccmE'}, {'subjekt': 'ModE', 'predikat': 'activator', 'objekt': 'napD'}, {'subjekt': 'ModE', 'predikat': 'activator', 'objekt': 'ccmB'}, {'subjekt': 'ModE', 'predikat': 'repressor', 'objekt': 'modB'}, {'subjekt': 'ModE', 'predikat': 'repressor', 'objekt': 'modC'}, {'subjekt': 'ModE', 'predikat': 'repressor', 'objekt': 'modA'}, {'subjekt': 'ModE', 'predikat': 'activator', 'objekt': 'narL'}, {'subjekt': 'ModE', 'predikat': 'activator', 'objekt': 'narX'}, {'subjekt': 'ModE', 'predikat': 'repressor', 'objekt': 'oppF'}, {'subjekt': 'ModE', 'predikat': 'repressor', 'objekt': 'oppC'}, {'subjekt': 'ModE', 'predikat': 'repressor', 'objekt': 'oppA'}, {'subjekt': 'ModE', 'predikat': 'repressor', 'objekt': 'oppD'}, {'subjekt': 'ModE', 'predikat': 'repressor', 'objekt': 'oppB'}, {'subjekt': 'ModE', 'predikat': 'activator', 'objekt': 'hycE'}, {'subjekt': 'ModE', 'predikat': 'activator', 'objekt': 'hycG'}, {'subjekt': 'ModE', 'predikat': 'activator', 'objekt': 'hycF'}, {'subjekt': 'ModE', 'predikat': 'activator', 'objekt': 'hycB'}, {'subjekt': 'ModE', 'predikat': 'activator', 'objekt': 'hycD'}, {'subjekt': 'ModE', 'predikat': 'activator', 'objekt': 'hycA'}, {'subjekt': 'ModE', 'predikat': 'activator', 'objekt': 'hycC'}, {'subjekt': 'ModE', 'predikat': 'activator', 'objekt': 'hycI'}, {'subjekt': 'ModE', 'predikat': 'activator', 'objekt': 'hycH'}, {'subjekt': 'ModE', 'predikat': 'repressor', 'objekt': 'dmsB'}, {'subjekt': 'ModE', 'predikat': 'repressor', 'objekt': 'dmsC'}, {'subjekt': 'ModE', 'predikat': 'repressor', 'objekt': 'dmsA'}, {'subjekt': 'ModE', 'predikat': 'activator', 'objekt': 'moaE'}, {'subjekt': 'ModE', 'predikat': 'activator', 'objekt': 'moaB'}, {'subjekt': 'ModE', 'predikat': 'activator', 'objekt': 'moaD'}, {'subjekt': 'ModE', 'predikat': 'activator', 'objekt': 'moaC'}, {'subjekt': 'ModE', 'predikat': 'activator', 'objekt': 'moaA'}]\n",
      "---------------------------\n",
      "80 286\n"
     ]
    },
    {
     "name": "stderr",
     "output_type": "stream",
     "text": [
      "C:\\Anaconda\\lib\\site-packages\\urllib3\\connectionpool.py:1061: InsecureRequestWarning: Unverified HTTPS request is being made to host 'regulondb.ccg.unam.mx'. Adding certificate verification is strongly advised. See: https://urllib3.readthedocs.io/en/1.26.x/advanced-usage.html#ssl-warnings\n",
      "  warnings.warn(\n"
     ]
    },
    {
     "name": "stdout",
     "output_type": "stream",
     "text": [
      "success:\n",
      "[{'subjekt': 'Zur', 'predikat': 'repressor', 'objekt': 'pliG'}, {'subjekt': 'Zur', 'predikat': 'repressor', 'objekt': 'znuC'}, {'subjekt': 'Zur', 'predikat': 'repressor', 'objekt': 'znuB'}, {'subjekt': 'Zur', 'predikat': 'repressor', 'objekt': 'znuA'}, {'subjekt': 'Zur', 'predikat': 'repressor', 'objekt': 'zinT'}, {'subjekt': 'Zur', 'predikat': 'repressor', 'objekt': 'ykgM'}, {'subjekt': 'Zur', 'predikat': 'repressor', 'objekt': 'ykgO'}]\n",
      "---------------------------\n",
      "81 286\n"
     ]
    },
    {
     "name": "stderr",
     "output_type": "stream",
     "text": [
      "C:\\Anaconda\\lib\\site-packages\\urllib3\\connectionpool.py:1061: InsecureRequestWarning: Unverified HTTPS request is being made to host 'regulondb.ccg.unam.mx'. Adding certificate verification is strongly advised. See: https://urllib3.readthedocs.io/en/1.26.x/advanced-usage.html#ssl-warnings\n",
      "  warnings.warn(\n"
     ]
    },
    {
     "name": "stdout",
     "output_type": "stream",
     "text": [
      "success:\n",
      "[{'subjekt': 'YdcI', 'predikat': 'activator', 'objekt': 'isrC'}, {'subjekt': 'YdcI', 'predikat': 'activator', 'objekt': 'flu'}, {'subjekt': 'YdcI', 'predikat': 'activator', 'objekt': 'smrB'}, {'subjekt': 'YdcI', 'predikat': 'activator', 'objekt': 'iraP'}]\n",
      "---------------------------\n",
      "82 286\n"
     ]
    },
    {
     "name": "stderr",
     "output_type": "stream",
     "text": [
      "C:\\Anaconda\\lib\\site-packages\\urllib3\\connectionpool.py:1061: InsecureRequestWarning: Unverified HTTPS request is being made to host 'regulondb.ccg.unam.mx'. Adding certificate verification is strongly advised. See: https://urllib3.readthedocs.io/en/1.26.x/advanced-usage.html#ssl-warnings\n",
      "  warnings.warn(\n"
     ]
    },
    {
     "name": "stdout",
     "output_type": "stream",
     "text": [
      "success:\n",
      "[{'subjekt': 'LldR', 'predikat': 'activator', 'objekt': 'fadE'}, {'subjekt': 'LldR', 'predikat': 'activator', 'objekt': 'fadL'}, {'subjekt': 'LldR', 'predikat': 'activator', 'objekt': 'lpxP'}, {'subjekt': 'LldR', 'predikat': 'activator', 'objekt': 'yfdY'}, {'subjekt': 'LldR', 'predikat': 'activator', 'objekt': 'glcD'}, {'subjekt': 'LldR', 'predikat': 'activator', 'objekt': 'yhcO'}, {'subjekt': 'LldR', 'predikat': 'activator', 'objekt': 'gadY'}, {'subjekt': 'LldR', 'predikat': 'activator', 'objekt': 'gadW'}, {'subjekt': 'LldR', 'predikat': 'dual', 'objekt': 'lldR'}, {'subjekt': 'LldR', 'predikat': 'dual', 'objekt': 'lldP'}, {'subjekt': 'LldR', 'predikat': 'dual', 'objekt': 'lldD'}]\n",
      "---------------------------\n",
      "83 286\n"
     ]
    },
    {
     "name": "stderr",
     "output_type": "stream",
     "text": [
      "C:\\Anaconda\\lib\\site-packages\\urllib3\\connectionpool.py:1061: InsecureRequestWarning: Unverified HTTPS request is being made to host 'regulondb.ccg.unam.mx'. Adding certificate verification is strongly advised. See: https://urllib3.readthedocs.io/en/1.26.x/advanced-usage.html#ssl-warnings\n",
      "  warnings.warn(\n"
     ]
    },
    {
     "name": "stdout",
     "output_type": "stream",
     "text": [
      "success:\n",
      "[{'subjekt': 'NsrR', 'predikat': 'repressor', 'objekt': 'tcyJ'}, {'subjekt': 'NsrR', 'predikat': 'repressor', 'objekt': 'fliA'}, {'subjekt': 'NsrR', 'predikat': 'repressor', 'objekt': 'fliZ'}, {'subjekt': 'NsrR', 'predikat': 'repressor', 'objekt': 'hycE'}, {'subjekt': 'NsrR', 'predikat': 'repressor', 'objekt': 'hycG'}, {'subjekt': 'NsrR', 'predikat': 'repressor', 'objekt': 'hycF'}, {'subjekt': 'NsrR', 'predikat': 'repressor', 'objekt': 'hycB'}, {'subjekt': 'NsrR', 'predikat': 'repressor', 'objekt': 'hycD'}, {'subjekt': 'NsrR', 'predikat': 'repressor', 'objekt': 'hycA'}, {'subjekt': 'NsrR', 'predikat': 'repressor', 'objekt': 'hycC'}, {'subjekt': 'NsrR', 'predikat': 'repressor', 'objekt': 'hycI'}, {'subjekt': 'NsrR', 'predikat': 'repressor', 'objekt': 'hycH'}, {'subjekt': 'NsrR', 'predikat': 'repressor', 'objekt': 'feaR'}, {'subjekt': 'NsrR', 'predikat': 'repressor', 'objekt': 'hmp'}, {'subjekt': 'NsrR', 'predikat': 'repressor', 'objekt': 'nrfA'}, {'subjekt': 'NsrR', 'predikat': 'repressor', 'objekt': 'nrfD'}, {'subjekt': 'NsrR', 'predikat': 'repressor', 'objekt': 'nrfC'}, {'subjekt': 'NsrR', 'predikat': 'repressor', 'objekt': 'nrfG'}, {'subjekt': 'NsrR', 'predikat': 'repressor', 'objekt': 'nrfE'}, {'subjekt': 'NsrR', 'predikat': 'repressor', 'objekt': 'nrfB'}, {'subjekt': 'NsrR', 'predikat': 'repressor', 'objekt': 'nrfF'}, {'subjekt': 'NsrR', 'predikat': 'repressor', 'objekt': 'aceF'}, {'subjekt': 'NsrR', 'predikat': 'repressor', 'objekt': 'aceE'}, {'subjekt': 'NsrR', 'predikat': 'repressor', 'objekt': 'hypB'}, {'subjekt': 'NsrR', 'predikat': 'repressor', 'objekt': 'hypA'}, {'subjekt': 'NsrR', 'predikat': 'repressor', 'objekt': 'fhlA'}, {'subjekt': 'NsrR', 'predikat': 'repressor', 'objekt': 'hypC'}, {'subjekt': 'NsrR', 'predikat': 'repressor', 'objekt': 'hypE'}, {'subjekt': 'NsrR', 'predikat': 'repressor', 'objekt': 'hypD'}, {'subjekt': 'NsrR', 'predikat': 'repressor', 'objekt': 'cdd'}, {'subjekt': 'NsrR', 'predikat': 'repressor', 'objekt': 'norR'}, {'subjekt': 'NsrR', 'predikat': 'repressor', 'objekt': 'ndh'}, {'subjekt': 'NsrR', 'predikat': 'repressor', 'objekt': 'ygbA'}, {'subjekt': 'NsrR', 'predikat': 'repressor', 'objekt': 'sodB'}, {'subjekt': 'NsrR', 'predikat': 'repressor', 'objekt': 'tehB'}, {'subjekt': 'NsrR', 'predikat': 'repressor', 'objekt': 'tehA'}, {'subjekt': 'NsrR', 'predikat': 'repressor', 'objekt': 'sufB'}, {'subjekt': 'NsrR', 'predikat': 'repressor', 'objekt': 'sufE'}, {'subjekt': 'NsrR', 'predikat': 'repressor', 'objekt': 'sufS'}, {'subjekt': 'NsrR', 'predikat': 'repressor', 'objekt': 'sufD'}, {'subjekt': 'NsrR', 'predikat': 'repressor', 'objekt': 'sufA'}, {'subjekt': 'NsrR', 'predikat': 'repressor', 'objekt': 'sufC'}, {'subjekt': 'NsrR', 'predikat': 'repressor', 'objekt': 'waaH'}, {'subjekt': 'NsrR', 'predikat': 'repressor', 'objekt': 'dsdC'}, {'subjekt': 'NsrR', 'predikat': 'repressor', 'objekt': 'lrp'}, {'subjekt': 'NsrR', 'predikat': 'repressor', 'objekt': 'pheS'}, {'subjekt': 'NsrR', 'predikat': 'repressor', 'objekt': 'thrS'}, {'subjekt': 'NsrR', 'predikat': 'repressor', 'objekt': 'infC'}, {'subjekt': 'NsrR', 'predikat': 'repressor', 'objekt': 'pheT'}, {'subjekt': 'NsrR', 'predikat': 'repressor', 'objekt': 'ihfA'}, {'subjekt': 'NsrR', 'predikat': 'repressor', 'objekt': 'rpmI'}, {'subjekt': 'NsrR', 'predikat': 'repressor', 'objekt': 'rplT'}, {'subjekt': 'NsrR', 'predikat': 'repressor', 'objekt': 'pheM'}, {'subjekt': 'NsrR', 'predikat': 'repressor', 'objekt': 'tsgA'}, {'subjekt': 'NsrR', 'predikat': 'repressor', 'objekt': 'bamE'}, {'subjekt': 'NsrR', 'predikat': 'repressor', 'objekt': 'grxD'}, {'subjekt': 'NsrR', 'predikat': 'repressor', 'objekt': 'mepH'}, {'subjekt': 'NsrR', 'predikat': 'repressor', 'objekt': 'ydbD'}, {'subjekt': 'NsrR', 'predikat': 'repressor', 'objekt': 'bdcA'}, {'subjekt': 'NsrR', 'predikat': 'repressor', 'objekt': 'yeaE'}, {'subjekt': 'NsrR', 'predikat': 'repressor', 'objekt': 'pgpC'}, {'subjekt': 'NsrR', 'predikat': 'repressor', 'objekt': 'tadA'}, {'subjekt': 'NsrR', 'predikat': 'repressor', 'objekt': 'dkgB'}, {'subjekt': 'NsrR', 'predikat': 'repressor', 'objekt': 'rffG'}, {'subjekt': 'NsrR', 'predikat': 'repressor', 'objekt': 'wecC'}, {'subjekt': 'NsrR', 'predikat': 'repressor', 'objekt': 'wecE'}, {'subjekt': 'NsrR', 'predikat': 'repressor', 'objekt': 'rffC'}, {'subjekt': 'NsrR', 'predikat': 'repressor', 'objekt': 'wecB'}, {'subjekt': 'NsrR', 'predikat': 'repressor', 'objekt': 'wecF'}, {'subjekt': 'NsrR', 'predikat': 'repressor', 'objekt': 'rffH'}, {'subjekt': 'NsrR', 'predikat': 'repressor', 'objekt': 'wzyE'}, {'subjekt': 'NsrR', 'predikat': 'repressor', 'objekt': 'wzzE'}, {'subjekt': 'NsrR', 'predikat': 'repressor', 'objekt': 'rfe'}, {'subjekt': 'NsrR', 'predikat': 'repressor', 'objekt': 'rffM'}, {'subjekt': 'NsrR', 'predikat': 'repressor', 'objekt': 'wzxE'}, {'subjekt': 'NsrR', 'predikat': 'repressor', 'objekt': 'mhpT'}, {'subjekt': 'NsrR', 'predikat': 'activator', 'objekt': 'moeB'}, {'subjekt': 'NsrR', 'predikat': 'activator', 'objekt': 'moeA'}, {'subjekt': 'NsrR', 'predikat': 'repressor', 'objekt': 'ytfE'}, {'subjekt': 'NsrR', 'predikat': 'repressor', 'objekt': 'poxB'}, {'subjekt': 'NsrR', 'predikat': 'repressor', 'objekt': 'hcp'}, {'subjekt': 'NsrR', 'predikat': 'repressor', 'objekt': 'hcr'}, {'subjekt': 'NsrR', 'predikat': 'repressor', 'objekt': 'yeaR'}, {'subjekt': 'NsrR', 'predikat': 'repressor', 'objekt': 'yoaG'}, {'subjekt': 'NsrR', 'predikat': 'repressor', 'objekt': 'rybB'}, {'subjekt': 'NsrR', 'predikat': 'repressor', 'objekt': 'feaB'}]\n",
      "---------------------------\n",
      "84 286\n"
     ]
    },
    {
     "name": "stderr",
     "output_type": "stream",
     "text": [
      "C:\\Anaconda\\lib\\site-packages\\urllib3\\connectionpool.py:1061: InsecureRequestWarning: Unverified HTTPS request is being made to host 'regulondb.ccg.unam.mx'. Adding certificate verification is strongly advised. See: https://urllib3.readthedocs.io/en/1.26.x/advanced-usage.html#ssl-warnings\n",
      "  warnings.warn(\n"
     ]
    },
    {
     "name": "stdout",
     "output_type": "stream",
     "text": [
      "success:\n",
      "[{'subjekt': 'DksA', 'predikat': 'activator', 'objekt': 'argI'}, {'subjekt': 'DksA', 'predikat': 'activator', 'objekt': 'livJ'}, {'subjekt': 'DksA', 'predikat': 'repressor', 'objekt': 'rplO'}, {'subjekt': 'DksA', 'predikat': 'repressor', 'objekt': 'rplE'}, {'subjekt': 'DksA', 'predikat': 'repressor', 'objekt': 'rplR'}, {'subjekt': 'DksA', 'predikat': 'repressor', 'objekt': 'rpmD'}, {'subjekt': 'DksA', 'predikat': 'repressor', 'objekt': 'rpmJ'}, {'subjekt': 'DksA', 'predikat': 'repressor', 'objekt': 'rpsH'}, {'subjekt': 'DksA', 'predikat': 'repressor', 'objekt': 'rplN'}, {'subjekt': 'DksA', 'predikat': 'repressor', 'objekt': 'secY'}, {'subjekt': 'DksA', 'predikat': 'repressor', 'objekt': 'rpsE'}, {'subjekt': 'DksA', 'predikat': 'repressor', 'objekt': 'rplF'}, {'subjekt': 'DksA', 'predikat': 'repressor', 'objekt': 'rpsN'}, {'subjekt': 'DksA', 'predikat': 'repressor', 'objekt': 'rplX'}, {'subjekt': 'DksA', 'predikat': 'repressor', 'objekt': 'rrsA'}, {'subjekt': 'DksA', 'predikat': 'repressor', 'objekt': 'rrfA'}, {'subjekt': 'DksA', 'predikat': 'repressor', 'objekt': 'rrlA'}, {'subjekt': 'DksA', 'predikat': 'repressor', 'objekt': 'alaT'}, {'subjekt': 'DksA', 'predikat': 'repressor', 'objekt': 'ileT'}, {'subjekt': 'DksA', 'predikat': 'repressor', 'objekt': 'fis'}, {'subjekt': 'DksA', 'predikat': 'repressor', 'objekt': 'dusB'}, {'subjekt': 'DksA', 'predikat': 'repressor', 'objekt': 'pcnB'}, {'subjekt': 'DksA', 'predikat': 'repressor', 'objekt': 'folK'}, {'subjekt': 'DksA', 'predikat': 'repressor', 'objekt': 'gluQ'}, {'subjekt': 'DksA', 'predikat': 'repressor', 'objekt': 'dksA'}, {'subjekt': 'DksA', 'predikat': 'repressor', 'objekt': 'rpsJ'}, {'subjekt': 'DksA', 'predikat': 'repressor', 'objekt': 'rplW'}, {'subjekt': 'DksA', 'predikat': 'repressor', 'objekt': 'rplP'}, {'subjekt': 'DksA', 'predikat': 'repressor', 'objekt': 'rplD'}, {'subjekt': 'DksA', 'predikat': 'repressor', 'objekt': 'rpsC'}, {'subjekt': 'DksA', 'predikat': 'repressor', 'objekt': 'rpsS'}, {'subjekt': 'DksA', 'predikat': 'repressor', 'objekt': 'rplC'}, {'subjekt': 'DksA', 'predikat': 'repressor', 'objekt': 'rplV'}, {'subjekt': 'DksA', 'predikat': 'repressor', 'objekt': 'rpsQ'}, {'subjekt': 'DksA', 'predikat': 'repressor', 'objekt': 'rplB'}, {'subjekt': 'DksA', 'predikat': 'repressor', 'objekt': 'rpmC'}, {'subjekt': 'DksA', 'predikat': 'repressor', 'objekt': 'rpoB'}, {'subjekt': 'DksA', 'predikat': 'repressor', 'objekt': 'rplL'}, {'subjekt': 'DksA', 'predikat': 'repressor', 'objekt': 'rplJ'}, {'subjekt': 'DksA', 'predikat': 'repressor', 'objekt': 'rplK'}, {'subjekt': 'DksA', 'predikat': 'repressor', 'objekt': 'rpoC'}, {'subjekt': 'DksA', 'predikat': 'repressor', 'objekt': 'rplA'}, {'subjekt': 'DksA', 'predikat': 'repressor', 'objekt': 'rpsM'}, {'subjekt': 'DksA', 'predikat': 'repressor', 'objekt': 'rpoA'}, {'subjekt': 'DksA', 'predikat': 'repressor', 'objekt': 'rplQ'}, {'subjekt': 'DksA', 'predikat': 'repressor', 'objekt': 'rpsD'}, {'subjekt': 'DksA', 'predikat': 'repressor', 'objekt': 'rpsK'}, {'subjekt': 'DksA', 'predikat': 'repressor', 'objekt': 'rpsL'}, {'subjekt': 'DksA', 'predikat': 'repressor', 'objekt': 'tufA'}, {'subjekt': 'DksA', 'predikat': 'repressor', 'objekt': 'fusA'}, {'subjekt': 'DksA', 'predikat': 'repressor', 'objekt': 'rpsG'}, {'subjekt': 'DksA', 'predikat': 'repressor', 'objekt': 'ihfB'}, {'subjekt': 'DksA', 'predikat': 'repressor', 'objekt': 'rpsA'}, {'subjekt': 'DksA', 'predikat': 'repressor', 'objekt': 'rimM'}, {'subjekt': 'DksA', 'predikat': 'repressor', 'objekt': 'rplS'}, {'subjekt': 'DksA', 'predikat': 'repressor', 'objekt': 'rpsP'}, {'subjekt': 'DksA', 'predikat': 'repressor', 'objekt': 'trmD'}, {'subjekt': 'DksA', 'predikat': 'repressor', 'objekt': 'rpsT'}, {'subjekt': 'DksA', 'predikat': 'repressor', 'objekt': 'pheS'}, {'subjekt': 'DksA', 'predikat': 'repressor', 'objekt': 'thrS'}, {'subjekt': 'DksA', 'predikat': 'repressor', 'objekt': 'infC'}, {'subjekt': 'DksA', 'predikat': 'repressor', 'objekt': 'pheT'}, {'subjekt': 'DksA', 'predikat': 'repressor', 'objekt': 'ihfA'}, {'subjekt': 'DksA', 'predikat': 'repressor', 'objekt': 'rpmI'}, {'subjekt': 'DksA', 'predikat': 'repressor', 'objekt': 'rplT'}, {'subjekt': 'DksA', 'predikat': 'repressor', 'objekt': 'pheM'}, {'subjekt': 'DksA', 'predikat': 'repressor', 'objekt': 'rpoZ'}, {'subjekt': 'DksA', 'predikat': 'repressor', 'objekt': 'recG'}, {'subjekt': 'DksA', 'predikat': 'repressor', 'objekt': 'spoT'}, {'subjekt': 'DksA', 'predikat': 'repressor', 'objekt': 'trmH'}, {'subjekt': 'DksA', 'predikat': 'repressor', 'objekt': 'rpsU'}, {'subjekt': 'DksA', 'predikat': 'repressor', 'objekt': 'rpoD'}, {'subjekt': 'DksA', 'predikat': 'repressor', 'objekt': 'dnaG'}, {'subjekt': 'DksA', 'predikat': 'repressor', 'objekt': 'gltU'}, {'subjekt': 'DksA', 'predikat': 'repressor', 'objekt': 'rrsC'}, {'subjekt': 'DksA', 'predikat': 'repressor', 'objekt': 'rrfC'}, {'subjekt': 'DksA', 'predikat': 'repressor', 'objekt': 'rrlC'}, {'subjekt': 'DksA', 'predikat': 'repressor', 'objekt': 'rrfF'}, {'subjekt': 'DksA', 'predikat': 'repressor', 'objekt': 'ileU'}, {'subjekt': 'DksA', 'predikat': 'repressor', 'objekt': 'rrsD'}, {'subjekt': 'DksA', 'predikat': 'repressor', 'objekt': 'rrlD'}, {'subjekt': 'DksA', 'predikat': 'repressor', 'objekt': 'thrV'}, {'subjekt': 'DksA', 'predikat': 'repressor', 'objekt': 'alaU'}, {'subjekt': 'DksA', 'predikat': 'repressor', 'objekt': 'rrfD'}, {'subjekt': 'DksA', 'predikat': 'repressor', 'objekt': 'rrsE'}, {'subjekt': 'DksA', 'predikat': 'repressor', 'objekt': 'rrlE'}, {'subjekt': 'DksA', 'predikat': 'repressor', 'objekt': 'rrfE'}, {'subjekt': 'DksA', 'predikat': 'repressor', 'objekt': 'gltV'}, {'subjekt': 'DksA', 'predikat': 'repressor', 'objekt': 'rrfG'}, {'subjekt': 'DksA', 'predikat': 'repressor', 'objekt': 'rrsG'}, {'subjekt': 'DksA', 'predikat': 'repressor', 'objekt': 'gltW'}, {'subjekt': 'DksA', 'predikat': 'repressor', 'objekt': 'rrlG'}, {'subjekt': 'DksA', 'predikat': 'repressor', 'objekt': 'rrlH'}, {'subjekt': 'DksA', 'predikat': 'repressor', 'objekt': 'ileV'}, {'subjekt': 'DksA', 'predikat': 'repressor', 'objekt': 'rrsH'}, {'subjekt': 'DksA', 'predikat': 'repressor', 'objekt': 'rrfH'}, {'subjekt': 'DksA', 'predikat': 'repressor', 'objekt': 'alaV'}, {'subjekt': 'DksA', 'predikat': 'repressor', 'objekt': 'rrsB'}, {'subjekt': 'DksA', 'predikat': 'repressor', 'objekt': 'rrlB'}, {'subjekt': 'DksA', 'predikat': 'repressor', 'objekt': 'gltT'}, {'subjekt': 'DksA', 'predikat': 'repressor', 'objekt': 'rrfB'}, {'subjekt': 'DksA', 'predikat': 'activator', 'objekt': 'thrA'}, {'subjekt': 'DksA', 'predikat': 'activator', 'objekt': 'thrB'}, {'subjekt': 'DksA', 'predikat': 'activator', 'objekt': 'thrL'}, {'subjekt': 'DksA', 'predikat': 'activator', 'objekt': 'thrC'}, {'subjekt': 'DksA', 'predikat': 'activator', 'objekt': 'hisB'}, {'subjekt': 'DksA', 'predikat': 'activator', 'objekt': 'hisH'}, {'subjekt': 'DksA', 'predikat': 'activator', 'objekt': 'hisI'}, {'subjekt': 'DksA', 'predikat': 'activator', 'objekt': 'hisD'}, {'subjekt': 'DksA', 'predikat': 'activator', 'objekt': 'hisA'}, {'subjekt': 'DksA', 'predikat': 'activator', 'objekt': 'hisF'}, {'subjekt': 'DksA', 'predikat': 'activator', 'objekt': 'hisG'}, {'subjekt': 'DksA', 'predikat': 'activator', 'objekt': 'hisC'}, {'subjekt': 'DksA', 'predikat': 'activator', 'objekt': 'hisL'}, {'subjekt': 'DksA', 'predikat': 'repressor', 'objekt': 'fabH'}, {'subjekt': 'DksA', 'predikat': 'repressor', 'objekt': 'fabG'}, {'subjekt': 'DksA', 'predikat': 'repressor', 'objekt': 'fabD'}, {'subjekt': 'DksA', 'predikat': 'repressor', 'objekt': 'fadR'}, {'subjekt': 'DksA', 'predikat': 'repressor', 'objekt': 'rplY'}, {'subjekt': 'DksA', 'predikat': 'repressor', 'objekt': 'rpsI'}, {'subjekt': 'DksA', 'predikat': 'repressor', 'objekt': 'rplM'}, {'subjekt': 'DksA', 'predikat': 'repressor', 'objekt': 'rpmG'}, {'subjekt': 'DksA', 'predikat': 'repressor', 'objekt': 'rpmB'}, {'subjekt': 'DksA', 'predikat': 'repressor', 'objekt': 'mutM'}, {'subjekt': 'DksA', 'predikat': 'repressor', 'objekt': 'rplU'}, {'subjekt': 'DksA', 'predikat': 'repressor', 'objekt': 'obgE'}, {'subjekt': 'DksA', 'predikat': 'repressor', 'objekt': 'yhbE'}, {'subjekt': 'DksA', 'predikat': 'repressor', 'objekt': 'rpmA'}, {'subjekt': 'DksA', 'predikat': 'activator', 'objekt': 'fimB'}, {'subjekt': 'DksA', 'predikat': 'activator', 'objekt': 'csrB'}, {'subjekt': 'DksA', 'predikat': 'activator', 'objekt': 'csrC'}, {'subjekt': 'DksA', 'predikat': 'activator', 'objekt': 'rseB'}, {'subjekt': 'DksA', 'predikat': 'activator', 'objekt': 'rseC'}, {'subjekt': 'DksA', 'predikat': 'activator', 'objekt': 'rseA'}, {'subjekt': 'DksA', 'predikat': 'activator', 'objekt': 'rybB'}, {'subjekt': 'DksA', 'predikat': 'dual', 'objekt': 'leuT'}, {'subjekt': 'DksA', 'predikat': 'dual', 'objekt': 'proM'}, {'subjekt': 'DksA', 'predikat': 'dual', 'objekt': 'argX'}, {'subjekt': 'DksA', 'predikat': 'dual', 'objekt': 'hisR'}, {'subjekt': 'DksA', 'predikat': 'activator', 'objekt': 'iraP'}, {'subjekt': 'DksA', 'predikat': 'activator', 'objekt': 'dsrA'}, {'subjekt': 'DksA', 'predikat': 'activator', 'objekt': 'rpoS'}, {'subjekt': 'DksA', 'predikat': 'activator', 'objekt': 'rpoE'}, {'subjekt': 'DksA', 'predikat': 'activator', 'objekt': 'hlyE'}, {'subjekt': 'DksA', 'predikat': 'repressor', 'objekt': 'idlP'}, {'subjekt': 'DksA', 'predikat': 'repressor', 'objekt': 'ytiD'}, {'subjekt': 'DksA', 'predikat': 'repressor', 'objekt': 'ytiC'}, {'subjekt': 'DksA', 'predikat': 'repressor', 'objekt': 'iraD'}, {'subjekt': 'DksA', 'predikat': 'activator', 'objekt': 'talA'}, {'subjekt': 'DksA', 'predikat': 'activator', 'objekt': 'tktB'}, {'subjekt': 'DksA', 'predikat': 'activator', 'objekt': 'csrA'}, {'subjekt': 'DksA', 'predikat': 'activator', 'objekt': 'sroA'}, {'subjekt': 'DksA', 'predikat': 'activator', 'objekt': 'sgrR'}, {'subjekt': 'DksA', 'predikat': 'activator', 'objekt': 'thiB'}, {'subjekt': 'DksA', 'predikat': 'activator', 'objekt': 'thiQ'}, {'subjekt': 'DksA', 'predikat': 'activator', 'objekt': 'thiP'}, {'subjekt': 'DksA', 'predikat': 'activator', 'objekt': 'hmp'}, {'subjekt': 'DksA', 'predikat': 'activator', 'objekt': 'setA'}, {'subjekt': 'DksA', 'predikat': 'activator', 'objekt': 'sgrT'}, {'subjekt': 'DksA', 'predikat': 'activator', 'objekt': 'sgrS'}, {'subjekt': 'DksA', 'predikat': 'activator', 'objekt': 'isrC'}, {'subjekt': 'DksA', 'predikat': 'activator', 'objekt': 'flu'}]\n",
      "---------------------------\n",
      "85 286\n"
     ]
    },
    {
     "name": "stderr",
     "output_type": "stream",
     "text": [
      "C:\\Anaconda\\lib\\site-packages\\urllib3\\connectionpool.py:1061: InsecureRequestWarning: Unverified HTTPS request is being made to host 'regulondb.ccg.unam.mx'. Adding certificate verification is strongly advised. See: https://urllib3.readthedocs.io/en/1.26.x/advanced-usage.html#ssl-warnings\n",
      "  warnings.warn(\n"
     ]
    },
    {
     "name": "stdout",
     "output_type": "stream",
     "text": [
      "success:\n",
      "[{'subjekt': 'OmpR', 'predikat': 'repressor', 'objekt': 'cadA'}, {'subjekt': 'OmpR', 'predikat': 'repressor', 'objekt': 'cadB'}, {'subjekt': 'OmpR', 'predikat': 'repressor', 'objekt': 'cadC'}, {'subjekt': 'OmpR', 'predikat': 'repressor', 'objekt': 'speF'}, {'subjekt': 'OmpR', 'predikat': 'repressor', 'objekt': 'speFL'}, {'subjekt': 'OmpR', 'predikat': 'repressor', 'objekt': 'potE'}, {'subjekt': 'OmpR', 'predikat': 'repressor', 'objekt': 'pgaD'}, {'subjekt': 'OmpR', 'predikat': 'repressor', 'objekt': 'pgaB'}, {'subjekt': 'OmpR', 'predikat': 'repressor', 'objekt': 'pgaC'}, {'subjekt': 'OmpR', 'predikat': 'repressor', 'objekt': 'pgaA'}, {'subjekt': 'OmpR', 'predikat': 'activator', 'objekt': 'acrR'}, {'subjekt': 'OmpR', 'predikat': 'activator', 'objekt': 'fadE'}, {'subjekt': 'OmpR', 'predikat': 'activator', 'objekt': 'gmhA'}, {'subjekt': 'OmpR', 'predikat': 'repressor', 'objekt': 'lpp'}, {'subjekt': 'OmpR', 'predikat': 'activator', 'objekt': 'ompX'}, {'subjekt': 'OmpR', 'predikat': 'activator', 'objekt': 'pdhR'}, {'subjekt': 'OmpR', 'predikat': 'activator', 'objekt': 'rhtA'}, {'subjekt': 'OmpR', 'predikat': 'activator', 'objekt': 'rob'}, {'subjekt': 'OmpR', 'predikat': 'activator', 'objekt': 'sstT'}, {'subjekt': 'OmpR', 'predikat': 'activator', 'objekt': 'tolC'}, {'subjekt': 'OmpR', 'predikat': 'activator', 'objekt': 'tsgA'}, {'subjekt': 'OmpR', 'predikat': 'activator', 'objekt': 'micF'}, {'subjekt': 'OmpR', 'predikat': 'dual', 'objekt': 'ompF'}, {'subjekt': 'OmpR', 'predikat': 'activator', 'objekt': 'csgG'}, {'subjekt': 'OmpR', 'predikat': 'activator', 'objekt': 'csgF'}, {'subjekt': 'OmpR', 'predikat': 'activator', 'objekt': 'csgD'}, {'subjekt': 'OmpR', 'predikat': 'activator', 'objekt': 'csgE'}, {'subjekt': 'OmpR', 'predikat': 'repressor', 'objekt': 'bolA'}, {'subjekt': 'OmpR', 'predikat': 'activator', 'objekt': 'feoA'}, {'subjekt': 'OmpR', 'predikat': 'activator', 'objekt': 'feoB'}, {'subjekt': 'OmpR', 'predikat': 'activator', 'objekt': 'feoC'}, {'subjekt': 'OmpR', 'predikat': 'repressor', 'objekt': 'csgI'}, {'subjekt': 'OmpR', 'predikat': 'repressor', 'objekt': 'htpX'}, {'subjekt': 'OmpR', 'predikat': 'repressor', 'objekt': 'nuoN'}, {'subjekt': 'OmpR', 'predikat': 'activator', 'objekt': 'queE'}, {'subjekt': 'OmpR', 'predikat': 'repressor', 'objekt': 'galP'}, {'subjekt': 'OmpR', 'predikat': 'repressor', 'objekt': 'alx'}, {'subjekt': 'OmpR', 'predikat': 'activator', 'objekt': 'znuA'}, {'subjekt': 'OmpR', 'predikat': 'activator', 'objekt': 'narZ'}, {'subjekt': 'OmpR', 'predikat': 'activator', 'objekt': 'narW'}, {'subjekt': 'OmpR', 'predikat': 'activator', 'objekt': 'narU'}, {'subjekt': 'OmpR', 'predikat': 'activator', 'objekt': 'narY'}, {'subjekt': 'OmpR', 'predikat': 'activator', 'objekt': 'narV'}, {'subjekt': 'OmpR', 'predikat': 'repressor', 'objekt': 'malE'}, {'subjekt': 'OmpR', 'predikat': 'repressor', 'objekt': 'copA'}, {'subjekt': 'OmpR', 'predikat': 'repressor', 'objekt': 'exoX'}, {'subjekt': 'OmpR', 'predikat': 'repressor', 'objekt': 'yobB'}, {'subjekt': 'OmpR', 'predikat': 'repressor', 'objekt': 'fadL'}, {'subjekt': 'OmpR', 'predikat': 'activator', 'objekt': 'ompC'}, {'subjekt': 'OmpR', 'predikat': 'repressor', 'objekt': 'nmpC'}, {'subjekt': 'OmpR', 'predikat': 'repressor', 'objekt': 'flhD'}, {'subjekt': 'OmpR', 'predikat': 'repressor', 'objekt': 'flhC'}, {'subjekt': 'OmpR', 'predikat': 'repressor', 'objekt': 'sra'}, {'subjekt': 'OmpR', 'predikat': 'activator', 'objekt': 'dtpA'}, {'subjekt': 'OmpR', 'predikat': 'activator', 'objekt': 'omrA'}, {'subjekt': 'OmpR', 'predikat': 'activator', 'objekt': 'omrB'}, {'subjekt': 'OmpR', 'predikat': 'repressor', 'objekt': 'ecnB'}]\n",
      "---------------------------\n",
      "86 286\n"
     ]
    },
    {
     "name": "stderr",
     "output_type": "stream",
     "text": [
      "C:\\Anaconda\\lib\\site-packages\\urllib3\\connectionpool.py:1061: InsecureRequestWarning: Unverified HTTPS request is being made to host 'regulondb.ccg.unam.mx'. Adding certificate verification is strongly advised. See: https://urllib3.readthedocs.io/en/1.26.x/advanced-usage.html#ssl-warnings\n",
      "  warnings.warn(\n"
     ]
    },
    {
     "name": "stdout",
     "output_type": "stream",
     "text": [
      "success:\n",
      "[{'subjekt': 'ChbR', 'predikat': 'dual', 'objekt': 'chbR'}, {'subjekt': 'ChbR', 'predikat': 'dual', 'objekt': 'chbG'}, {'subjekt': 'ChbR', 'predikat': 'dual', 'objekt': 'chbF'}, {'subjekt': 'ChbR', 'predikat': 'dual', 'objekt': 'chbB'}, {'subjekt': 'ChbR', 'predikat': 'dual', 'objekt': 'chbA'}, {'subjekt': 'ChbR', 'predikat': 'dual', 'objekt': 'chbC'}]\n",
      "---------------------------\n",
      "87 286\n"
     ]
    },
    {
     "name": "stderr",
     "output_type": "stream",
     "text": [
      "C:\\Anaconda\\lib\\site-packages\\urllib3\\connectionpool.py:1061: InsecureRequestWarning: Unverified HTTPS request is being made to host 'regulondb.ccg.unam.mx'. Adding certificate verification is strongly advised. See: https://urllib3.readthedocs.io/en/1.26.x/advanced-usage.html#ssl-warnings\n",
      "  warnings.warn(\n"
     ]
    },
    {
     "name": "stdout",
     "output_type": "stream",
     "text": [
      "success:\n",
      "[{'subjekt': 'RcsB', 'predikat': 'activator', 'objekt': 'gadC'}, {'subjekt': 'RcsB', 'predikat': 'activator', 'objekt': 'gadB'}, {'subjekt': 'RcsB', 'predikat': 'repressor', 'objekt': 'gadA'}, {'subjekt': 'RcsB', 'predikat': 'repressor', 'objekt': 'gadX'}, {'subjekt': 'RcsB', 'predikat': 'activator', 'objekt': 'yhiD'}, {'subjekt': 'RcsB', 'predikat': 'activator', 'objekt': 'hdeA'}, {'subjekt': 'RcsB', 'predikat': 'activator', 'objekt': 'hdeB'}, {'subjekt': 'RcsB', 'predikat': 'activator', 'objekt': 'hdeD'}, {'subjekt': 'RcsB', 'predikat': 'activator', 'objekt': 'gadY'}, {'subjekt': 'RcsB', 'predikat': 'activator', 'objekt': 'safA'}, {'subjekt': 'RcsB', 'predikat': 'activator', 'objekt': 'ydeO'}, {'subjekt': 'RcsB', 'predikat': 'activator', 'objekt': 'ydeP'}, {'subjekt': 'RcsB', 'predikat': 'activator', 'objekt': 'rarA'}, {'subjekt': 'RcsB', 'predikat': 'activator', 'objekt': 'lolA'}, {'subjekt': 'RcsB', 'predikat': 'activator', 'objekt': 'rseB'}, {'subjekt': 'RcsB', 'predikat': 'activator', 'objekt': 'rseA'}, {'subjekt': 'RcsB', 'predikat': 'activator', 'objekt': 'rseC'}, {'subjekt': 'RcsB', 'predikat': 'activator', 'objekt': 'rseD'}, {'subjekt': 'RcsB', 'predikat': 'activator', 'objekt': 'rpoE'}, {'subjekt': 'RcsB', 'predikat': 'activator', 'objekt': 'osmB'}, {'subjekt': 'RcsB', 'predikat': 'activator', 'objekt': 'osmC'}, {'subjekt': 'RcsB', 'predikat': 'activator', 'objekt': 'sra'}, {'subjekt': 'RcsB', 'predikat': 'activator', 'objekt': 'bdm'}, {'subjekt': 'RcsB', 'predikat': 'activator', 'objekt': 'ftsA'}, {'subjekt': 'RcsB', 'predikat': 'activator', 'objekt': 'ftsZ'}, {'subjekt': 'RcsB', 'predikat': 'activator', 'objekt': 'rprA'}]\n",
      "---------------------------\n",
      "88 286\n"
     ]
    },
    {
     "name": "stderr",
     "output_type": "stream",
     "text": [
      "C:\\Anaconda\\lib\\site-packages\\urllib3\\connectionpool.py:1061: InsecureRequestWarning: Unverified HTTPS request is being made to host 'regulondb.ccg.unam.mx'. Adding certificate verification is strongly advised. See: https://urllib3.readthedocs.io/en/1.26.x/advanced-usage.html#ssl-warnings\n",
      "  warnings.warn(\n"
     ]
    },
    {
     "name": "stdout",
     "output_type": "stream",
     "text": [
      "success:\n",
      "[{'subjekt': 'YeiL', 'predikat': 'activator', 'objekt': 'yeiL'}]\n",
      "---------------------------\n",
      "89 286\n"
     ]
    },
    {
     "name": "stderr",
     "output_type": "stream",
     "text": [
      "C:\\Anaconda\\lib\\site-packages\\urllib3\\connectionpool.py:1061: InsecureRequestWarning: Unverified HTTPS request is being made to host 'regulondb.ccg.unam.mx'. Adding certificate verification is strongly advised. See: https://urllib3.readthedocs.io/en/1.26.x/advanced-usage.html#ssl-warnings\n",
      "  warnings.warn(\n"
     ]
    },
    {
     "name": "stdout",
     "output_type": "stream",
     "text": [
      "success:\n",
      "[{'subjekt': 'HypT', 'predikat': 'activator', 'objekt': 'cydA'}, {'subjekt': 'HypT', 'predikat': 'activator', 'objekt': 'cydB'}, {'subjekt': 'HypT', 'predikat': 'activator', 'objekt': 'metI'}, {'subjekt': 'HypT', 'predikat': 'activator', 'objekt': 'metN'}, {'subjekt': 'HypT', 'predikat': 'activator', 'objekt': 'metQ'}, {'subjekt': 'HypT', 'predikat': 'activator', 'objekt': 'cysH'}, {'subjekt': 'HypT', 'predikat': 'activator', 'objekt': 'metL'}, {'subjekt': 'HypT', 'predikat': 'activator', 'objekt': 'metB'}, {'subjekt': 'HypT', 'predikat': 'repressor', 'objekt': 'fecA'}, {'subjekt': 'HypT', 'predikat': 'repressor', 'objekt': 'fecB'}, {'subjekt': 'HypT', 'predikat': 'repressor', 'objekt': 'fecD'}, {'subjekt': 'HypT', 'predikat': 'repressor', 'objekt': 'fecC'}, {'subjekt': 'HypT', 'predikat': 'repressor', 'objekt': 'fecE'}]\n",
      "---------------------------\n",
      "90 286\n"
     ]
    },
    {
     "name": "stderr",
     "output_type": "stream",
     "text": [
      "C:\\Anaconda\\lib\\site-packages\\urllib3\\connectionpool.py:1061: InsecureRequestWarning: Unverified HTTPS request is being made to host 'regulondb.ccg.unam.mx'. Adding certificate verification is strongly advised. See: https://urllib3.readthedocs.io/en/1.26.x/advanced-usage.html#ssl-warnings\n",
      "  warnings.warn(\n"
     ]
    },
    {
     "name": "stdout",
     "output_type": "stream",
     "text": [
      "success:\n",
      "[{'subjekt': 'AccB', 'predikat': 'repressor', 'objekt': 'accC'}, {'subjekt': 'AccB', 'predikat': 'repressor', 'objekt': 'accB'}]\n",
      "---------------------------\n",
      "91 286\n"
     ]
    },
    {
     "name": "stderr",
     "output_type": "stream",
     "text": [
      "C:\\Anaconda\\lib\\site-packages\\urllib3\\connectionpool.py:1061: InsecureRequestWarning: Unverified HTTPS request is being made to host 'regulondb.ccg.unam.mx'. Adding certificate verification is strongly advised. See: https://urllib3.readthedocs.io/en/1.26.x/advanced-usage.html#ssl-warnings\n",
      "  warnings.warn(\n"
     ]
    },
    {
     "name": "stdout",
     "output_type": "stream",
     "text": [
      "success:\n",
      "[{'subjekt': 'CspA', 'predikat': 'activator', 'objekt': 'hns'}, {'subjekt': 'CspA', 'predikat': 'activator', 'objekt': 'gyrA'}]\n",
      "---------------------------\n",
      "92 286\n"
     ]
    },
    {
     "name": "stderr",
     "output_type": "stream",
     "text": [
      "C:\\Anaconda\\lib\\site-packages\\urllib3\\connectionpool.py:1061: InsecureRequestWarning: Unverified HTTPS request is being made to host 'regulondb.ccg.unam.mx'. Adding certificate verification is strongly advised. See: https://urllib3.readthedocs.io/en/1.26.x/advanced-usage.html#ssl-warnings\n",
      "  warnings.warn(\n"
     ]
    },
    {
     "name": "stdout",
     "output_type": "stream",
     "text": [
      "success:\n",
      "[{'subjekt': 'DecR', 'predikat': 'activator', 'objekt': 'cyuP'}, {'subjekt': 'DecR', 'predikat': 'activator', 'objekt': 'cyuA'}]\n",
      "---------------------------\n",
      "93 286\n"
     ]
    },
    {
     "name": "stderr",
     "output_type": "stream",
     "text": [
      "C:\\Anaconda\\lib\\site-packages\\urllib3\\connectionpool.py:1061: InsecureRequestWarning: Unverified HTTPS request is being made to host 'regulondb.ccg.unam.mx'. Adding certificate verification is strongly advised. See: https://urllib3.readthedocs.io/en/1.26.x/advanced-usage.html#ssl-warnings\n",
      "  warnings.warn(\n"
     ]
    },
    {
     "name": "stdout",
     "output_type": "stream",
     "text": [
      "success:\n",
      "[{'subjekt': 'RcdA', 'predikat': 'activator', 'objekt': 'rcdA'}, {'subjekt': 'RcdA', 'predikat': 'repressor', 'objekt': 'ybjI'}, {'subjekt': 'RcdA', 'predikat': 'repressor', 'objekt': 'ybjJ'}, {'subjekt': 'RcdA', 'predikat': 'repressor', 'objekt': 'sulA'}, {'subjekt': 'RcdA', 'predikat': 'activator', 'objekt': 'bluF'}, {'subjekt': 'RcdA', 'predikat': 'activator', 'objekt': 'asr'}, {'subjekt': 'RcdA', 'predikat': 'activator', 'objekt': 'csgG'}, {'subjekt': 'RcdA', 'predikat': 'activator', 'objekt': 'csgF'}, {'subjekt': 'RcdA', 'predikat': 'activator', 'objekt': 'csgD'}, {'subjekt': 'RcdA', 'predikat': 'activator', 'objekt': 'csgE'}, {'subjekt': 'RcdA', 'predikat': 'activator', 'objekt': 'ydeI'}, {'subjekt': 'RcdA', 'predikat': 'repressor', 'objekt': 'yagK'}, {'subjekt': 'RcdA', 'predikat': 'activator', 'objekt': 'rsd'}, {'subjekt': 'RcdA', 'predikat': 'activator', 'objekt': 'rmf'}]\n",
      "---------------------------\n",
      "94 286\n"
     ]
    },
    {
     "name": "stderr",
     "output_type": "stream",
     "text": [
      "C:\\Anaconda\\lib\\site-packages\\urllib3\\connectionpool.py:1061: InsecureRequestWarning: Unverified HTTPS request is being made to host 'regulondb.ccg.unam.mx'. Adding certificate verification is strongly advised. See: https://urllib3.readthedocs.io/en/1.26.x/advanced-usage.html#ssl-warnings\n",
      "  warnings.warn(\n"
     ]
    },
    {
     "name": "stdout",
     "output_type": "stream",
     "text": [
      "success:\n",
      "[{'subjekt': 'Ada', 'predikat': 'activator', 'objekt': 'aidB'}, {'subjekt': 'Ada', 'predikat': 'activator', 'objekt': 'alkA'}, {'subjekt': 'Ada', 'predikat': 'dual', 'objekt': 'alkB'}, {'subjekt': 'Ada', 'predikat': 'dual', 'objekt': 'ada'}]\n",
      "---------------------------\n",
      "95 286\n"
     ]
    },
    {
     "name": "stderr",
     "output_type": "stream",
     "text": [
      "C:\\Anaconda\\lib\\site-packages\\urllib3\\connectionpool.py:1061: InsecureRequestWarning: Unverified HTTPS request is being made to host 'regulondb.ccg.unam.mx'. Adding certificate verification is strongly advised. See: https://urllib3.readthedocs.io/en/1.26.x/advanced-usage.html#ssl-warnings\n",
      "  warnings.warn(\n"
     ]
    },
    {
     "name": "stdout",
     "output_type": "stream",
     "text": [
      "success:\n",
      "[{'subjekt': 'GutM', 'predikat': 'activator', 'objekt': 'gutM'}, {'subjekt': 'GutM', 'predikat': 'activator', 'objekt': 'srlE'}, {'subjekt': 'GutM', 'predikat': 'activator', 'objekt': 'srlB'}, {'subjekt': 'GutM', 'predikat': 'activator', 'objekt': 'srlR'}, {'subjekt': 'GutM', 'predikat': 'activator', 'objekt': 'srlD'}, {'subjekt': 'GutM', 'predikat': 'activator', 'objekt': 'gutQ'}, {'subjekt': 'GutM', 'predikat': 'activator', 'objekt': 'srlA'}]\n",
      "---------------------------\n",
      "96 286\n"
     ]
    },
    {
     "name": "stderr",
     "output_type": "stream",
     "text": [
      "C:\\Anaconda\\lib\\site-packages\\urllib3\\connectionpool.py:1061: InsecureRequestWarning: Unverified HTTPS request is being made to host 'regulondb.ccg.unam.mx'. Adding certificate verification is strongly advised. See: https://urllib3.readthedocs.io/en/1.26.x/advanced-usage.html#ssl-warnings\n",
      "  warnings.warn(\n"
     ]
    },
    {
     "name": "stdout",
     "output_type": "stream",
     "text": [
      "success:\n",
      "[{'subjekt': 'Rob', 'predikat': 'activator', 'objekt': 'rimK'}, {'subjekt': 'Rob', 'predikat': 'activator', 'objekt': 'ybjC'}, {'subjekt': 'Rob', 'predikat': 'activator', 'objekt': 'ybjN'}, {'subjekt': 'Rob', 'predikat': 'activator', 'objekt': 'nfsA'}, {'subjekt': 'Rob', 'predikat': 'activator', 'objekt': 'acnA'}, {'subjekt': 'Rob', 'predikat': 'activator', 'objekt': 'nfsB'}, {'subjekt': 'Rob', 'predikat': 'activator', 'objekt': 'fumC'}, {'subjekt': 'Rob', 'predikat': 'repressor', 'objekt': 'rob'}, {'subjekt': 'Rob', 'predikat': 'activator', 'objekt': 'acrZ'}, {'subjekt': 'Rob', 'predikat': 'activator', 'objekt': 'dapD'}, {'subjekt': 'Rob', 'predikat': 'activator', 'objekt': 'map'}, {'subjekt': 'Rob', 'predikat': 'activator', 'objekt': 'glnD'}, {'subjekt': 'Rob', 'predikat': 'activator', 'objekt': 'mdaB'}, {'subjekt': 'Rob', 'predikat': 'activator', 'objekt': 'yhbW'}, {'subjekt': 'Rob', 'predikat': 'activator', 'objekt': 'aldA'}, {'subjekt': 'Rob', 'predikat': 'activator', 'objekt': 'micF'}, {'subjekt': 'Rob', 'predikat': 'repressor', 'objekt': 'acs'}, {'subjekt': 'Rob', 'predikat': 'repressor', 'objekt': 'actP'}, {'subjekt': 'Rob', 'predikat': 'repressor', 'objekt': 'astC'}, {'subjekt': 'Rob', 'predikat': 'repressor', 'objekt': 'elaB'}, {'subjekt': 'Rob', 'predikat': 'repressor', 'objekt': 'fadA'}, {'subjekt': 'Rob', 'predikat': 'repressor', 'objekt': 'fadB'}, {'subjekt': 'Rob', 'predikat': 'repressor', 'objekt': 'fadD'}, {'subjekt': 'Rob', 'predikat': 'repressor', 'objekt': 'fadL'}, {'subjekt': 'Rob', 'predikat': 'repressor', 'objekt': 'yiaG'}, {'subjekt': 'Rob', 'predikat': 'repressor', 'objekt': 'yhbO'}, {'subjekt': 'Rob', 'predikat': 'repressor', 'objekt': 'yjcH'}, {'subjekt': 'Rob', 'predikat': 'activator', 'objekt': 'chaC'}, {'subjekt': 'Rob', 'predikat': 'activator', 'objekt': 'glgS'}, {'subjekt': 'Rob', 'predikat': 'activator', 'objekt': 'narG'}, {'subjekt': 'Rob', 'predikat': 'activator', 'objekt': 'mdtD'}, {'subjekt': 'Rob', 'predikat': 'activator', 'objekt': 'ybiT'}, {'subjekt': 'Rob', 'predikat': 'activator', 'objekt': 'ydcL'}, {'subjekt': 'Rob', 'predikat': 'activator', 'objekt': 'yacH'}, {'subjekt': 'Rob', 'predikat': 'activator', 'objekt': 'acrA'}, {'subjekt': 'Rob', 'predikat': 'activator', 'objekt': 'acrB'}, {'subjekt': 'Rob', 'predikat': 'activator', 'objekt': 'nfo'}, {'subjekt': 'Rob', 'predikat': 'activator', 'objekt': 'sodA'}, {'subjekt': 'Rob', 'predikat': 'activator', 'objekt': 'marR'}, {'subjekt': 'Rob', 'predikat': 'activator', 'objekt': 'marA'}, {'subjekt': 'Rob', 'predikat': 'activator', 'objekt': 'marB'}, {'subjekt': 'Rob', 'predikat': 'activator', 'objekt': 'zwf'}, {'subjekt': 'Rob', 'predikat': 'activator', 'objekt': 'inaA'}, {'subjekt': 'Rob', 'predikat': 'activator', 'objekt': 'ldtB'}, {'subjekt': 'Rob', 'predikat': 'activator', 'objekt': 'mltF'}, {'subjekt': 'Rob', 'predikat': 'activator', 'objekt': 'aslB'}, {'subjekt': 'Rob', 'predikat': 'activator', 'objekt': 'ygiC'}, {'subjekt': 'Rob', 'predikat': 'activator', 'objekt': 'tolC'}, {'subjekt': 'Rob', 'predikat': 'activator', 'objekt': 'ygiB'}]\n",
      "---------------------------\n",
      "97 286\n"
     ]
    },
    {
     "name": "stderr",
     "output_type": "stream",
     "text": [
      "C:\\Anaconda\\lib\\site-packages\\urllib3\\connectionpool.py:1061: InsecureRequestWarning: Unverified HTTPS request is being made to host 'regulondb.ccg.unam.mx'. Adding certificate verification is strongly advised. See: https://urllib3.readthedocs.io/en/1.26.x/advanced-usage.html#ssl-warnings\n",
      "  warnings.warn(\n"
     ]
    },
    {
     "name": "stdout",
     "output_type": "stream",
     "text": [
      "success:\n",
      "[{'subjekt': 'FlhDC', 'predikat': 'repressor', 'objekt': 'mglB'}, {'subjekt': 'FlhDC', 'predikat': 'repressor', 'objekt': 'mglA'}, {'subjekt': 'FlhDC', 'predikat': 'repressor', 'objekt': 'mglC'}, {'subjekt': 'FlhDC', 'predikat': 'activator', 'objekt': 'nfrB'}, {'subjekt': 'FlhDC', 'predikat': 'activator', 'objekt': 'csgC'}, {'subjekt': 'FlhDC', 'predikat': 'activator', 'objekt': 'ymdB'}, {'subjekt': 'FlhDC', 'predikat': 'activator', 'objekt': 'clsC'}, {'subjekt': 'FlhDC', 'predikat': 'activator', 'objekt': 'ymdA'}, {'subjekt': 'FlhDC', 'predikat': 'activator', 'objekt': 'ptsH'}, {'subjekt': 'FlhDC', 'predikat': 'activator', 'objekt': 'fruB'}, {'subjekt': 'FlhDC', 'predikat': 'activator', 'objekt': 'setB'}, {'subjekt': 'FlhDC', 'predikat': 'activator', 'objekt': 'pfkA'}, {'subjekt': 'FlhDC', 'predikat': 'activator', 'objekt': 'epd'}, {'subjekt': 'FlhDC', 'predikat': 'activator', 'objekt': 'adhE'}, {'subjekt': 'FlhDC', 'predikat': 'activator', 'objekt': 'aceB'}, {'subjekt': 'FlhDC', 'predikat': 'activator', 'objekt': 'iclR'}, {'subjekt': 'FlhDC', 'predikat': 'activator', 'objekt': 'fliE'}, {'subjekt': 'FlhDC', 'predikat': 'activator', 'objekt': 'fliF'}, {'subjekt': 'FlhDC', 'predikat': 'activator', 'objekt': 'fliL'}, {'subjekt': 'FlhDC', 'predikat': 'activator', 'objekt': 'ygbK'}, {'subjekt': 'FlhDC', 'predikat': 'activator', 'objekt': 'recC'}, {'subjekt': 'FlhDC', 'predikat': 'activator', 'objekt': 'ppdC'}, {'subjekt': 'FlhDC', 'predikat': 'activator', 'objekt': 'ppdA'}, {'subjekt': 'FlhDC', 'predikat': 'activator', 'objekt': 'ppdB'}, {'subjekt': 'FlhDC', 'predikat': 'activator', 'objekt': 'ygdB'}, {'subjekt': 'FlhDC', 'predikat': 'activator', 'objekt': 'glpA'}, {'subjekt': 'FlhDC', 'predikat': 'activator', 'objekt': 'glpB'}, {'subjekt': 'FlhDC', 'predikat': 'activator', 'objekt': 'glpC'}, {'subjekt': 'FlhDC', 'predikat': 'activator', 'objekt': 'fliR'}, {'subjekt': 'FlhDC', 'predikat': 'activator', 'objekt': 'fliQ'}, {'subjekt': 'FlhDC', 'predikat': 'activator', 'objekt': 'fliN'}, {'subjekt': 'FlhDC', 'predikat': 'activator', 'objekt': 'fliM'}, {'subjekt': 'FlhDC', 'predikat': 'activator', 'objekt': 'fliO'}, {'subjekt': 'FlhDC', 'predikat': 'activator', 'objekt': 'fliP'}, {'subjekt': 'FlhDC', 'predikat': 'activator', 'objekt': 'ccmG'}, {'subjekt': 'FlhDC', 'predikat': 'activator', 'objekt': 'napH'}, {'subjekt': 'FlhDC', 'predikat': 'activator', 'objekt': 'napA'}, {'subjekt': 'FlhDC', 'predikat': 'activator', 'objekt': 'napB'}, {'subjekt': 'FlhDC', 'predikat': 'activator', 'objekt': 'ccmH'}, {'subjekt': 'FlhDC', 'predikat': 'activator', 'objekt': 'napF'}, {'subjekt': 'FlhDC', 'predikat': 'activator', 'objekt': 'ccmA'}, {'subjekt': 'FlhDC', 'predikat': 'activator', 'objekt': 'napC'}, {'subjekt': 'FlhDC', 'predikat': 'activator', 'objekt': 'napG'}, {'subjekt': 'FlhDC', 'predikat': 'activator', 'objekt': 'ccmF'}, {'subjekt': 'FlhDC', 'predikat': 'activator', 'objekt': 'ccmC'}, {'subjekt': 'FlhDC', 'predikat': 'activator', 'objekt': 'ccmD'}, {'subjekt': 'FlhDC', 'predikat': 'activator', 'objekt': 'ccmE'}, {'subjekt': 'FlhDC', 'predikat': 'activator', 'objekt': 'napD'}, {'subjekt': 'FlhDC', 'predikat': 'activator', 'objekt': 'ccmB'}, {'subjekt': 'FlhDC', 'predikat': 'activator', 'objekt': 'hydN'}, {'subjekt': 'FlhDC', 'predikat': 'activator', 'objekt': 'hypF'}, {'subjekt': 'FlhDC', 'predikat': 'activator', 'objekt': 'tcyJ'}, {'subjekt': 'FlhDC', 'predikat': 'activator', 'objekt': 'fliA'}, {'subjekt': 'FlhDC', 'predikat': 'activator', 'objekt': 'fliZ'}, {'subjekt': 'FlhDC', 'predikat': 'repressor', 'objekt': 'mdh'}, {'subjekt': 'FlhDC', 'predikat': 'activator', 'objekt': 'nrfA'}, {'subjekt': 'FlhDC', 'predikat': 'activator', 'objekt': 'nrfD'}, {'subjekt': 'FlhDC', 'predikat': 'activator', 'objekt': 'nrfC'}, {'subjekt': 'FlhDC', 'predikat': 'activator', 'objekt': 'nrfG'}, {'subjekt': 'FlhDC', 'predikat': 'activator', 'objekt': 'nrfE'}, {'subjekt': 'FlhDC', 'predikat': 'activator', 'objekt': 'nrfB'}, {'subjekt': 'FlhDC', 'predikat': 'activator', 'objekt': 'nrfF'}, {'subjekt': 'FlhDC', 'predikat': 'activator', 'objekt': 'ycgR'}, {'subjekt': 'FlhDC', 'predikat': 'activator', 'objekt': 'pdeH'}, {'subjekt': 'FlhDC', 'predikat': 'activator', 'objekt': 'fliD'}, {'subjekt': 'FlhDC', 'predikat': 'activator', 'objekt': 'fliT'}, {'subjekt': 'FlhDC', 'predikat': 'activator', 'objekt': 'fliS'}, {'subjekt': 'FlhDC', 'predikat': 'activator', 'objekt': 'fliI'}, {'subjekt': 'FlhDC', 'predikat': 'activator', 'objekt': 'fliK'}, {'subjekt': 'FlhDC', 'predikat': 'activator', 'objekt': 'fliH'}, {'subjekt': 'FlhDC', 'predikat': 'activator', 'objekt': 'fliJ'}, {'subjekt': 'FlhDC', 'predikat': 'activator', 'objekt': 'fliG'}, {'subjekt': 'FlhDC', 'predikat': 'activator', 'objekt': 'gltL'}, {'subjekt': 'FlhDC', 'predikat': 'activator', 'objekt': 'gltJ'}, {'subjekt': 'FlhDC', 'predikat': 'activator', 'objekt': 'gltI'}, {'subjekt': 'FlhDC', 'predikat': 'activator', 'objekt': 'sroC'}, {'subjekt': 'FlhDC', 'predikat': 'activator', 'objekt': 'gltK'}, {'subjekt': 'FlhDC', 'predikat': 'activator', 'objekt': 'flgM'}, {'subjekt': 'FlhDC', 'predikat': 'activator', 'objekt': 'flgN'}, {'subjekt': 'FlhDC', 'predikat': 'activator', 'objekt': 'flgA'}, {'subjekt': 'FlhDC', 'predikat': 'activator', 'objekt': 'flgD'}, {'subjekt': 'FlhDC', 'predikat': 'activator', 'objekt': 'flgI'}, {'subjekt': 'FlhDC', 'predikat': 'activator', 'objekt': 'flgJ'}, {'subjekt': 'FlhDC', 'predikat': 'activator', 'objekt': 'flgC'}, {'subjekt': 'FlhDC', 'predikat': 'activator', 'objekt': 'flgG'}, {'subjekt': 'FlhDC', 'predikat': 'activator', 'objekt': 'flgE'}, {'subjekt': 'FlhDC', 'predikat': 'activator', 'objekt': 'flgF'}, {'subjekt': 'FlhDC', 'predikat': 'activator', 'objekt': 'flgH'}, {'subjekt': 'FlhDC', 'predikat': 'activator', 'objekt': 'flgB'}, {'subjekt': 'FlhDC', 'predikat': 'activator', 'objekt': 'yecR'}, {'subjekt': 'FlhDC', 'predikat': 'activator', 'objekt': 'flhA'}, {'subjekt': 'FlhDC', 'predikat': 'activator', 'objekt': 'flhE'}, {'subjekt': 'FlhDC', 'predikat': 'activator', 'objekt': 'flhB'}]\n",
      "---------------------------\n",
      "98 286\n"
     ]
    },
    {
     "name": "stderr",
     "output_type": "stream",
     "text": [
      "C:\\Anaconda\\lib\\site-packages\\urllib3\\connectionpool.py:1061: InsecureRequestWarning: Unverified HTTPS request is being made to host 'regulondb.ccg.unam.mx'. Adding certificate verification is strongly advised. See: https://urllib3.readthedocs.io/en/1.26.x/advanced-usage.html#ssl-warnings\n",
      "  warnings.warn(\n"
     ]
    },
    {
     "name": "stdout",
     "output_type": "stream",
     "text": [
      "success:\n",
      "[{'subjekt': 'Fis', 'predikat': 'repressor', 'objekt': 'ogt'}, {'subjekt': 'Fis', 'predikat': 'repressor', 'objekt': 'yeaR'}, {'subjekt': 'Fis', 'predikat': 'repressor', 'objekt': 'yoaG'}, {'subjekt': 'Fis', 'predikat': 'repressor', 'objekt': 'gltX'}, {'subjekt': 'Fis', 'predikat': 'activator', 'objekt': 'lysV'}, {'subjekt': 'Fis', 'predikat': 'activator', 'objekt': 'valY'}, {'subjekt': 'Fis', 'predikat': 'activator', 'objekt': 'valU'}, {'subjekt': 'Fis', 'predikat': 'activator', 'objekt': 'valX'}, {'subjekt': 'Fis', 'predikat': 'activator', 'objekt': 'trg'}, {'subjekt': 'Fis', 'predikat': 'repressor', 'objekt': 'rpsI'}, {'subjekt': 'Fis', 'predikat': 'repressor', 'objekt': 'rplM'}, {'subjekt': 'Fis', 'predikat': 'repressor', 'objekt': 'cbpM'}, {'subjekt': 'Fis', 'predikat': 'repressor', 'objekt': 'cbpA'}, {'subjekt': 'Fis', 'predikat': 'dual', 'objekt': 'fau'}, {'subjekt': 'Fis', 'predikat': 'dual', 'objekt': 'ssrS'}, {'subjekt': 'Fis', 'predikat': 'activator', 'objekt': 'cyoB'}, {'subjekt': 'Fis', 'predikat': 'activator', 'objekt': 'cyoD'}, {'subjekt': 'Fis', 'predikat': 'activator', 'objekt': 'cyoC'}, {'subjekt': 'Fis', 'predikat': 'activator', 'objekt': 'cyoA'}, {'subjekt': 'Fis', 'predikat': 'activator', 'objekt': 'cyoE'}, {'subjekt': 'Fis', 'predikat': 'activator', 'objekt': 'cspA'}, {'subjekt': 'Fis', 'predikat': 'activator', 'objekt': 'rrsA'}, {'subjekt': 'Fis', 'predikat': 'activator', 'objekt': 'rrfA'}, {'subjekt': 'Fis', 'predikat': 'activator', 'objekt': 'rrlA'}, {'subjekt': 'Fis', 'predikat': 'activator', 'objekt': 'alaT'}, {'subjekt': 'Fis', 'predikat': 'activator', 'objekt': 'ileT'}, {'subjekt': 'Fis', 'predikat': 'repressor', 'objekt': 'hyaD'}, {'subjekt': 'Fis', 'predikat': 'repressor', 'objekt': 'hyaA'}, {'subjekt': 'Fis', 'predikat': 'repressor', 'objekt': 'hyaC'}, {'subjekt': 'Fis', 'predikat': 'repressor', 'objekt': 'hyaB'}, {'subjekt': 'Fis', 'predikat': 'repressor', 'objekt': 'hyaF'}, {'subjekt': 'Fis', 'predikat': 'repressor', 'objekt': 'hyaE'}, {'subjekt': 'Fis', 'predikat': 'activator', 'objekt': 'adhE'}, {'subjekt': 'Fis', 'predikat': 'activator', 'objekt': 'rrfG'}, {'subjekt': 'Fis', 'predikat': 'activator', 'objekt': 'rrsG'}, {'subjekt': 'Fis', 'predikat': 'activator', 'objekt': 'gltW'}, {'subjekt': 'Fis', 'predikat': 'activator', 'objekt': 'rrlG'}, {'subjekt': 'Fis', 'predikat': 'repressor', 'objekt': 'dps'}, {'subjekt': 'Fis', 'predikat': 'repressor', 'objekt': 'gyrB'}, {'subjekt': 'Fis', 'predikat': 'activator', 'objekt': 'gltU'}, {'subjekt': 'Fis', 'predikat': 'activator', 'objekt': 'rrsC'}, {'subjekt': 'Fis', 'predikat': 'activator', 'objekt': 'rrfC'}, {'subjekt': 'Fis', 'predikat': 'activator', 'objekt': 'rrlC'}, {'subjekt': 'Fis', 'predikat': 'activator', 'objekt': 'rrfF'}, {'subjekt': 'Fis', 'predikat': 'activator', 'objekt': 'ileU'}, {'subjekt': 'Fis', 'predikat': 'activator', 'objekt': 'rrsD'}, {'subjekt': 'Fis', 'predikat': 'activator', 'objekt': 'rrlD'}, {'subjekt': 'Fis', 'predikat': 'activator', 'objekt': 'thrV'}, {'subjekt': 'Fis', 'predikat': 'activator', 'objekt': 'alaU'}, {'subjekt': 'Fis', 'predikat': 'activator', 'objekt': 'rrfD'}, {'subjekt': 'Fis', 'predikat': 'repressor', 'objekt': 'gadC'}, {'subjekt': 'Fis', 'predikat': 'repressor', 'objekt': 'gadB'}, {'subjekt': 'Fis', 'predikat': 'repressor', 'objekt': 'osmY'}, {'subjekt': 'Fis', 'predikat': 'repressor', 'objekt': 'acs'}, {'subjekt': 'Fis', 'predikat': 'repressor', 'objekt': 'actP'}, {'subjekt': 'Fis', 'predikat': 'repressor', 'objekt': 'yjcH'}, {'subjekt': 'Fis', 'predikat': None, 'objekt': 'patA'}, {'subjekt': 'Fis', 'predikat': 'repressor', 'objekt': 'gadA'}, {'subjekt': 'Fis', 'predikat': 'repressor', 'objekt': 'gadX'}, {'subjekt': 'Fis', 'predikat': 'activator', 'objekt': 'rrlH'}, {'subjekt': 'Fis', 'predikat': 'activator', 'objekt': 'ileV'}, {'subjekt': 'Fis', 'predikat': 'activator', 'objekt': 'rrsH'}, {'subjekt': 'Fis', 'predikat': 'activator', 'objekt': 'rrfH'}, {'subjekt': 'Fis', 'predikat': 'activator', 'objekt': 'alaV'}, {'subjekt': 'Fis', 'predikat': 'activator', 'objekt': 'rrsB'}, {'subjekt': 'Fis', 'predikat': 'activator', 'objekt': 'rrlB'}, {'subjekt': 'Fis', 'predikat': 'activator', 'objekt': 'gltT'}, {'subjekt': 'Fis', 'predikat': 'activator', 'objekt': 'rrfB'}, {'subjekt': 'Fis', 'predikat': 'activator', 'objekt': 'rrsE'}, {'subjekt': 'Fis', 'predikat': 'activator', 'objekt': 'rrlE'}, {'subjekt': 'Fis', 'predikat': 'activator', 'objekt': 'rrfE'}, {'subjekt': 'Fis', 'predikat': 'activator', 'objekt': 'gltV'}, {'subjekt': 'Fis', 'predikat': 'repressor', 'objekt': 'osmE'}, {'subjekt': 'Fis', 'predikat': 'repressor', 'objekt': 'dnaN'}, {'subjekt': 'Fis', 'predikat': 'repressor', 'objekt': 'dnaA'}, {'subjekt': 'Fis', 'predikat': 'repressor', 'objekt': 'recF'}, {'subjekt': 'Fis', 'predikat': 'repressor', 'objekt': 'tolB'}, {'subjekt': 'Fis', 'predikat': 'activator', 'objekt': 'yodD'}, {'subjekt': 'Fis', 'predikat': 'activator', 'objekt': 'fimA'}, {'subjekt': 'Fis', 'predikat': 'activator', 'objekt': 'fimD'}, {'subjekt': 'Fis', 'predikat': 'activator', 'objekt': 'fimG'}, {'subjekt': 'Fis', 'predikat': 'activator', 'objekt': 'fimC'}, {'subjekt': 'Fis', 'predikat': 'activator', 'objekt': 'fimR2'}, {'subjekt': 'Fis', 'predikat': 'activator', 'objekt': 'fimI'}, {'subjekt': 'Fis', 'predikat': 'activator', 'objekt': 'fimF'}, {'subjekt': 'Fis', 'predikat': 'activator', 'objekt': 'fimH'}, {'subjekt': 'Fis', 'predikat': 'repressor', 'objekt': 'nirC'}, {'subjekt': 'Fis', 'predikat': 'repressor', 'objekt': 'nirB'}, {'subjekt': 'Fis', 'predikat': 'repressor', 'objekt': 'nirD'}, {'subjekt': 'Fis', 'predikat': 'repressor', 'objekt': 'cysG'}, {'subjekt': 'Fis', 'predikat': 'activator', 'objekt': 'nrdA'}, {'subjekt': 'Fis', 'predikat': 'activator', 'objekt': 'yfaE'}, {'subjekt': 'Fis', 'predikat': 'activator', 'objekt': 'nrdB'}, {'subjekt': 'Fis', 'predikat': 'repressor', 'objekt': 'fis'}, {'subjekt': 'Fis', 'predikat': 'repressor', 'objekt': 'dusB'}, {'subjekt': 'Fis', 'predikat': 'activator', 'objekt': 'deoC'}, {'subjekt': 'Fis', 'predikat': 'activator', 'objekt': 'deoD'}, {'subjekt': 'Fis', 'predikat': 'activator', 'objekt': 'deoA'}, {'subjekt': 'Fis', 'predikat': 'activator', 'objekt': 'deoB'}, {'subjekt': 'Fis', 'predikat': 'repressor', 'objekt': 'acnB'}, {'subjekt': 'Fis', 'predikat': 'activator', 'objekt': 'mazE'}, {'subjekt': 'Fis', 'predikat': 'activator', 'objekt': 'mazG'}, {'subjekt': 'Fis', 'predikat': 'activator', 'objekt': 'mazF'}, {'subjekt': 'Fis', 'predikat': 'dual', 'objekt': 'rnpB'}, {'subjekt': 'Fis', 'predikat': 'repressor', 'objekt': 'hupB'}, {'subjekt': 'Fis', 'predikat': 'activator', 'objekt': 'hupA'}, {'subjekt': 'Fis', 'predikat': 'repressor', 'objekt': 'xylF'}, {'subjekt': 'Fis', 'predikat': 'repressor', 'objekt': 'xylH'}, {'subjekt': 'Fis', 'predikat': 'repressor', 'objekt': 'xylG'}, {'subjekt': 'Fis', 'predikat': 'repressor', 'objekt': 'xylR'}, {'subjekt': 'Fis', 'predikat': 'dual', 'objekt': 'topA'}, {'subjekt': 'Fis', 'predikat': 'activator', 'objekt': 'nuoN'}, {'subjekt': 'Fis', 'predikat': 'activator', 'objekt': 'nuoF'}, {'subjekt': 'Fis', 'predikat': 'activator', 'objekt': 'nuoA'}, {'subjekt': 'Fis', 'predikat': 'activator', 'objekt': 'nuoG'}, {'subjekt': 'Fis', 'predikat': 'activator', 'objekt': 'nuoI'}, {'subjekt': 'Fis', 'predikat': 'activator', 'objekt': 'nuoE'}, {'subjekt': 'Fis', 'predikat': 'activator', 'objekt': 'nuoB'}, {'subjekt': 'Fis', 'predikat': 'activator', 'objekt': 'nuoC'}, {'subjekt': 'Fis', 'predikat': 'activator', 'objekt': 'nuoK'}, {'subjekt': 'Fis', 'predikat': 'activator', 'objekt': 'nuoL'}, {'subjekt': 'Fis', 'predikat': 'activator', 'objekt': 'nuoH'}, {'subjekt': 'Fis', 'predikat': 'activator', 'objekt': 'nuoJ'}, {'subjekt': 'Fis', 'predikat': 'activator', 'objekt': 'nuoM'}, {'subjekt': 'Fis', 'predikat': 'activator', 'objekt': 'pnp'}, {'subjekt': 'Fis', 'predikat': 'activator', 'objekt': 'infB'}, {'subjekt': 'Fis', 'predikat': 'activator', 'objekt': 'nusA'}, {'subjekt': 'Fis', 'predikat': 'activator', 'objekt': 'metY'}, {'subjekt': 'Fis', 'predikat': 'activator', 'objekt': 'rpsO'}, {'subjekt': 'Fis', 'predikat': 'activator', 'objekt': 'rimP'}, {'subjekt': 'Fis', 'predikat': 'activator', 'objekt': 'rbfA'}, {'subjekt': 'Fis', 'predikat': 'activator', 'objekt': 'truB'}, {'subjekt': 'Fis', 'predikat': 'activator', 'objekt': 'trmA'}, {'subjekt': 'Fis', 'predikat': 'activator', 'objekt': 'pheU'}, {'subjekt': 'Fis', 'predikat': 'activator', 'objekt': 'leuQ'}, {'subjekt': 'Fis', 'predikat': 'activator', 'objekt': 'leuV'}, {'subjekt': 'Fis', 'predikat': 'activator', 'objekt': 'leuP'}, {'subjekt': 'Fis', 'predikat': 'activator', 'objekt': 'glnX'}, {'subjekt': 'Fis', 'predikat': 'activator', 'objekt': 'glnV'}, {'subjekt': 'Fis', 'predikat': 'activator', 'objekt': 'glnU'}, {'subjekt': 'Fis', 'predikat': 'activator', 'objekt': 'leuW'}, {'subjekt': 'Fis', 'predikat': 'activator', 'objekt': 'metU'}, {'subjekt': 'Fis', 'predikat': 'activator', 'objekt': 'metT'}, {'subjekt': 'Fis', 'predikat': 'activator', 'objekt': 'glnW'}, {'subjekt': 'Fis', 'predikat': 'activator', 'objekt': 'serT'}, {'subjekt': 'Fis', 'predikat': 'activator', 'objekt': 'serX'}, {'subjekt': 'Fis', 'predikat': 'activator', 'objekt': 'proP'}, {'subjekt': 'Fis', 'predikat': 'activator', 'objekt': 'alaX'}, {'subjekt': 'Fis', 'predikat': 'activator', 'objekt': 'alaW'}, {'subjekt': 'Fis', 'predikat': 'activator', 'objekt': 'glyU'}, {'subjekt': 'Fis', 'predikat': 'activator', 'objekt': 'aspV'}, {'subjekt': 'Fis', 'predikat': 'activator', 'objekt': 'thrW'}, {'subjekt': 'Fis', 'predikat': 'activator', 'objekt': 'argU'}, {'subjekt': 'Fis', 'predikat': 'activator', 'objekt': 'leuT'}, {'subjekt': 'Fis', 'predikat': 'activator', 'objekt': 'proM'}, {'subjekt': 'Fis', 'predikat': 'activator', 'objekt': 'argX'}, {'subjekt': 'Fis', 'predikat': 'activator', 'objekt': 'hisR'}, {'subjekt': 'Fis', 'predikat': 'repressor', 'objekt': 'crp'}, {'subjekt': 'Fis', 'predikat': 'activator', 'objekt': 'tyrT'}, {'subjekt': 'Fis', 'predikat': 'activator', 'objekt': 'tyrV'}, {'subjekt': 'Fis', 'predikat': 'activator', 'objekt': 'tpr'}, {'subjekt': 'Fis', 'predikat': 'activator', 'objekt': 'glyT'}, {'subjekt': 'Fis', 'predikat': 'activator', 'objekt': 'thrT'}, {'subjekt': 'Fis', 'predikat': 'activator', 'objekt': 'tyrU'}, {'subjekt': 'Fis', 'predikat': 'activator', 'objekt': 'thrU'}, {'subjekt': 'Fis', 'predikat': 'activator', 'objekt': 'tufB'}, {'subjekt': 'Fis', 'predikat': 'activator', 'objekt': 'leuX'}, {'subjekt': 'Fis', 'predikat': 'activator', 'objekt': 'proK'}, {'subjekt': 'Fis', 'predikat': 'activator', 'objekt': 'hns'}, {'subjekt': 'Fis', 'predikat': 'repressor', 'objekt': 'gyrA'}, {'subjekt': 'Fis', 'predikat': 'repressor', 'objekt': 'mtlA'}, {'subjekt': 'Fis', 'predikat': 'repressor', 'objekt': 'mtlD'}, {'subjekt': 'Fis', 'predikat': 'repressor', 'objekt': 'mtlR'}, {'subjekt': 'Fis', 'predikat': 'dual', 'objekt': 'ndh'}, {'subjekt': 'Fis', 'predikat': 'repressor', 'objekt': 'fumB'}, {'subjekt': 'Fis', 'predikat': 'activator', 'objekt': 'argW'}, {'subjekt': 'Fis', 'predikat': 'activator', 'objekt': 'pheV'}, {'subjekt': 'Fis', 'predikat': 'activator', 'objekt': 'valT'}, {'subjekt': 'Fis', 'predikat': 'activator', 'objekt': 'lysW'}, {'subjekt': 'Fis', 'predikat': 'activator', 'objekt': 'lysT'}, {'subjekt': 'Fis', 'predikat': 'activator', 'objekt': 'proL'}, {'subjekt': 'Fis', 'predikat': 'repressor', 'objekt': 'mglA'}, {'subjekt': 'Fis', 'predikat': 'repressor', 'objekt': 'mglC'}, {'subjekt': 'Fis', 'predikat': 'repressor', 'objekt': 'aldB'}, {'subjekt': 'Fis', 'predikat': 'activator', 'objekt': 'lpd'}, {'subjekt': 'Fis', 'predikat': 'activator', 'objekt': 'marR'}, {'subjekt': 'Fis', 'predikat': 'activator', 'objekt': 'marA'}, {'subjekt': 'Fis', 'predikat': 'activator', 'objekt': 'marB'}, {'subjekt': 'Fis', 'predikat': 'activator', 'objekt': 'glnG'}, {'subjekt': 'Fis', 'predikat': 'activator', 'objekt': 'glnZ'}, {'subjekt': 'Fis', 'predikat': 'activator', 'objekt': 'glnL'}, {'subjekt': 'Fis', 'predikat': 'activator', 'objekt': 'glnA'}, {'subjekt': 'Fis', 'predikat': 'repressor', 'objekt': 'nrfA'}, {'subjekt': 'Fis', 'predikat': 'repressor', 'objekt': 'nrfD'}, {'subjekt': 'Fis', 'predikat': 'repressor', 'objekt': 'nrfC'}, {'subjekt': 'Fis', 'predikat': 'repressor', 'objekt': 'nrfG'}, {'subjekt': 'Fis', 'predikat': 'repressor', 'objekt': 'nrfE'}, {'subjekt': 'Fis', 'predikat': 'repressor', 'objekt': 'nrfB'}, {'subjekt': 'Fis', 'predikat': 'repressor', 'objekt': 'nrfF'}, {'subjekt': 'Fis', 'predikat': 'activator', 'objekt': 'queA'}, {'subjekt': 'Fis', 'predikat': 'repressor', 'objekt': 'glnQ'}, {'subjekt': 'Fis', 'predikat': 'activator', 'objekt': 'apaG'}, {'subjekt': 'Fis', 'predikat': 'activator', 'objekt': 'apaH'}, {'subjekt': 'Fis', 'predikat': 'activator', 'objekt': 'rsmA'}, {'subjekt': 'Fis', 'predikat': 'activator', 'objekt': 'pdxA'}, {'subjekt': 'Fis', 'predikat': 'repressor', 'objekt': 'bglB'}, {'subjekt': 'Fis', 'predikat': 'repressor', 'objekt': 'bglG'}, {'subjekt': 'Fis', 'predikat': 'repressor', 'objekt': 'bglF'}, {'subjekt': 'Fis', 'predikat': 'activator', 'objekt': 'sra'}, {'subjekt': 'Fis', 'predikat': 'dual', 'objekt': 'ptsG'}, {'subjekt': 'Fis', 'predikat': 'activator', 'objekt': 'carB'}, {'subjekt': 'Fis', 'predikat': 'activator', 'objekt': 'carA'}, {'subjekt': 'Fis', 'predikat': 'activator', 'objekt': 'fadA'}, {'subjekt': 'Fis', 'predikat': 'activator', 'objekt': 'fadB'}, {'subjekt': 'Fis', 'predikat': 'activator', 'objekt': 'flxA'}, {'subjekt': 'Fis', 'predikat': 'activator', 'objekt': 'glpA'}, {'subjekt': 'Fis', 'predikat': 'activator', 'objekt': 'glpB'}, {'subjekt': 'Fis', 'predikat': 'activator', 'objekt': 'glpC'}, {'subjekt': 'Fis', 'predikat': 'activator', 'objekt': 'glpQ'}, {'subjekt': 'Fis', 'predikat': 'activator', 'objekt': 'glpT'}, {'subjekt': 'Fis', 'predikat': 'activator', 'objekt': 'malH'}, {'subjekt': 'Fis', 'predikat': 'activator', 'objekt': 'malG'}, {'subjekt': 'Fis', 'predikat': 'activator', 'objekt': 'malE'}, {'subjekt': 'Fis', 'predikat': 'activator', 'objekt': 'malF'}, {'subjekt': 'Fis', 'predikat': 'activator', 'objekt': 'grcA'}, {'subjekt': 'Fis', 'predikat': 'repressor', 'objekt': 'ansB'}, {'subjekt': 'Fis', 'predikat': 'repressor', 'objekt': 'cspI'}, {'subjekt': 'Fis', 'predikat': 'repressor', 'objekt': 'dmsB'}, {'subjekt': 'Fis', 'predikat': 'repressor', 'objekt': 'dmsC'}, {'subjekt': 'Fis', 'predikat': 'repressor', 'objekt': 'dmsA'}, {'subjekt': 'Fis', 'predikat': 'repressor', 'objekt': 'glcC'}, {'subjekt': 'Fis', 'predikat': 'repressor', 'objekt': 'hlyE'}, {'subjekt': 'Fis', 'predikat': 'repressor', 'objekt': 'katE'}, {'subjekt': 'Fis', 'predikat': 'repressor', 'objekt': 'msrA'}, {'subjekt': 'Fis', 'predikat': 'repressor', 'objekt': 'nanK'}, {'subjekt': 'Fis', 'predikat': 'repressor', 'objekt': 'nanQ'}, {'subjekt': 'Fis', 'predikat': 'repressor', 'objekt': 'nanT'}, {'subjekt': 'Fis', 'predikat': 'repressor', 'objekt': 'nanA'}, {'subjekt': 'Fis', 'predikat': 'repressor', 'objekt': 'nanE'}, {'subjekt': 'Fis', 'predikat': 'repressor', 'objekt': 'narI'}, {'subjekt': 'Fis', 'predikat': 'repressor', 'objekt': 'narH'}, {'subjekt': 'Fis', 'predikat': 'repressor', 'objekt': 'narJ'}, {'subjekt': 'Fis', 'predikat': 'repressor', 'objekt': 'narG'}, {'subjekt': 'Fis', 'predikat': 'repressor', 'objekt': 'narK'}, {'subjekt': 'Fis', 'predikat': 'repressor', 'objekt': 'narS'}, {'subjekt': 'Fis', 'predikat': 'repressor', 'objekt': 'pflB'}, {'subjekt': 'Fis', 'predikat': 'repressor', 'objekt': 'pyrD'}, {'subjekt': 'Fis', 'predikat': 'repressor', 'objekt': 'guaB'}, {'subjekt': 'Fis', 'predikat': 'repressor', 'objekt': 'guaA'}]\n",
      "---------------------------\n",
      "99 286\n"
     ]
    },
    {
     "name": "stderr",
     "output_type": "stream",
     "text": [
      "C:\\Anaconda\\lib\\site-packages\\urllib3\\connectionpool.py:1061: InsecureRequestWarning: Unverified HTTPS request is being made to host 'regulondb.ccg.unam.mx'. Adding certificate verification is strongly advised. See: https://urllib3.readthedocs.io/en/1.26.x/advanced-usage.html#ssl-warnings\n",
      "  warnings.warn(\n"
     ]
    },
    {
     "name": "stdout",
     "output_type": "stream",
     "text": [
      "success:\n",
      "[{'subjekt': 'PgrR', 'predikat': 'repressor', 'objekt': 'mpaA'}, {'subjekt': 'PgrR', 'predikat': 'repressor', 'objekt': 'ycjY'}, {'subjekt': 'PgrR', 'predikat': 'repressor', 'objekt': 'ymjD'}, {'subjekt': 'PgrR', 'predikat': 'repressor', 'objekt': 'ymjC'}, {'subjekt': 'PgrR', 'predikat': 'repressor', 'objekt': 'ycjG'}, {'subjekt': 'PgrR', 'predikat': 'repressor', 'objekt': 'tyrR'}, {'subjekt': 'PgrR', 'predikat': 'repressor', 'objekt': 'ycjF'}, {'subjekt': 'PgrR', 'predikat': 'repressor', 'objekt': 'ycjX'}, {'subjekt': 'PgrR', 'predikat': 'repressor', 'objekt': 'mppA'}]\n",
      "---------------------------\n",
      "100 286\n"
     ]
    },
    {
     "name": "stderr",
     "output_type": "stream",
     "text": [
      "C:\\Anaconda\\lib\\site-packages\\urllib3\\connectionpool.py:1061: InsecureRequestWarning: Unverified HTTPS request is being made to host 'regulondb.ccg.unam.mx'. Adding certificate verification is strongly advised. See: https://urllib3.readthedocs.io/en/1.26.x/advanced-usage.html#ssl-warnings\n",
      "  warnings.warn(\n"
     ]
    },
    {
     "name": "stdout",
     "output_type": "stream",
     "text": [
      "success:\n",
      "[{'subjekt': 'IscR', 'predikat': 'repressor', 'objekt': 'torT'}, {'subjekt': 'IscR', 'predikat': 'repressor', 'objekt': 'iscR'}, {'subjekt': 'IscR', 'predikat': 'repressor', 'objekt': 'iscU'}, {'subjekt': 'IscR', 'predikat': 'repressor', 'objekt': 'iscA'}, {'subjekt': 'IscR', 'predikat': 'repressor', 'objekt': 'iscS'}, {'subjekt': 'IscR', 'predikat': 'repressor', 'objekt': 'rnlA'}, {'subjekt': 'IscR', 'predikat': 'repressor', 'objekt': 'rnlB'}, {'subjekt': 'IscR', 'predikat': 'activator', 'objekt': 'nrdH'}, {'subjekt': 'IscR', 'predikat': 'activator', 'objekt': 'nrdE'}, {'subjekt': 'IscR', 'predikat': 'activator', 'objekt': 'nrdI'}, {'subjekt': 'IscR', 'predikat': 'activator', 'objekt': 'nrdF'}, {'subjekt': 'IscR', 'predikat': 'repressor', 'objekt': 'hyaD'}, {'subjekt': 'IscR', 'predikat': 'repressor', 'objekt': 'hyaA'}, {'subjekt': 'IscR', 'predikat': 'repressor', 'objekt': 'hyaC'}, {'subjekt': 'IscR', 'predikat': 'repressor', 'objekt': 'hyaB'}, {'subjekt': 'IscR', 'predikat': 'repressor', 'objekt': 'hyaF'}, {'subjekt': 'IscR', 'predikat': 'repressor', 'objekt': 'hyaE'}, {'subjekt': 'IscR', 'predikat': 'activator', 'objekt': 'sufB'}, {'subjekt': 'IscR', 'predikat': 'activator', 'objekt': 'sufE'}, {'subjekt': 'IscR', 'predikat': 'activator', 'objekt': 'sufS'}, {'subjekt': 'IscR', 'predikat': 'activator', 'objekt': 'sufD'}, {'subjekt': 'IscR', 'predikat': 'activator', 'objekt': 'sufA'}, {'subjekt': 'IscR', 'predikat': 'activator', 'objekt': 'sufC'}, {'subjekt': 'IscR', 'predikat': 'repressor', 'objekt': 'napA'}, {'subjekt': 'IscR', 'predikat': 'repressor', 'objekt': 'napH'}, {'subjekt': 'IscR', 'predikat': 'repressor', 'objekt': 'napF'}, {'subjekt': 'IscR', 'predikat': 'repressor', 'objekt': 'napG'}, {'subjekt': 'IscR', 'predikat': 'repressor', 'objekt': 'napC'}, {'subjekt': 'IscR', 'predikat': 'repressor', 'objekt': 'napB'}, {'subjekt': 'IscR', 'predikat': 'repressor', 'objekt': 'napD'}, {'subjekt': 'IscR', 'predikat': 'activator', 'objekt': 'selO'}, {'subjekt': 'IscR', 'predikat': 'repressor', 'objekt': 'erpA'}, {'subjekt': 'IscR', 'predikat': 'repressor', 'objekt': 'nfuA'}]\n",
      "---------------------------\n",
      "101 286\n"
     ]
    },
    {
     "name": "stderr",
     "output_type": "stream",
     "text": [
      "C:\\Anaconda\\lib\\site-packages\\urllib3\\connectionpool.py:1061: InsecureRequestWarning: Unverified HTTPS request is being made to host 'regulondb.ccg.unam.mx'. Adding certificate verification is strongly advised. See: https://urllib3.readthedocs.io/en/1.26.x/advanced-usage.html#ssl-warnings\n",
      "  warnings.warn(\n"
     ]
    },
    {
     "name": "stdout",
     "output_type": "stream",
     "text": [
      "success:\n",
      "[{'subjekt': 'BetI', 'predikat': 'repressor', 'objekt': 'betI'}, {'subjekt': 'BetI', 'predikat': 'repressor', 'objekt': 'betB'}, {'subjekt': 'BetI', 'predikat': 'repressor', 'objekt': 'betA'}, {'subjekt': 'BetI', 'predikat': 'repressor', 'objekt': 'betT'}]\n",
      "---------------------------\n",
      "102 286\n"
     ]
    },
    {
     "name": "stderr",
     "output_type": "stream",
     "text": [
      "C:\\Anaconda\\lib\\site-packages\\urllib3\\connectionpool.py:1061: InsecureRequestWarning: Unverified HTTPS request is being made to host 'regulondb.ccg.unam.mx'. Adding certificate verification is strongly advised. See: https://urllib3.readthedocs.io/en/1.26.x/advanced-usage.html#ssl-warnings\n",
      "  warnings.warn(\n"
     ]
    },
    {
     "name": "stdout",
     "output_type": "stream",
     "text": [
      "success:\n",
      "[{'subjekt': 'Cra', 'predikat': 'activator', 'objekt': 'aroP'}, {'subjekt': 'Cra', 'predikat': 'repressor', 'objekt': 'manZ'}, {'subjekt': 'Cra', 'predikat': 'repressor', 'objekt': 'manY'}, {'subjekt': 'Cra', 'predikat': 'repressor', 'objekt': 'manX'}, {'subjekt': 'Cra', 'predikat': 'repressor', 'objekt': 'setA'}, {'subjekt': 'Cra', 'predikat': 'repressor', 'objekt': 'sgrT'}, {'subjekt': 'Cra', 'predikat': 'repressor', 'objekt': 'sgrS'}, {'subjekt': 'Cra', 'predikat': 'repressor', 'objekt': 'pdhR'}, {'subjekt': 'Cra', 'predikat': 'repressor', 'objekt': 'aceF'}, {'subjekt': 'Cra', 'predikat': 'repressor', 'objekt': 'aceE'}, {'subjekt': 'Cra', 'predikat': 'repressor', 'objekt': 'lpd'}, {'subjekt': 'Cra', 'predikat': 'repressor', 'objekt': 'prpB'}, {'subjekt': 'Cra', 'predikat': 'repressor', 'objekt': 'prpD'}, {'subjekt': 'Cra', 'predikat': 'repressor', 'objekt': 'prpC'}, {'subjekt': 'Cra', 'predikat': 'repressor', 'objekt': 'prpE'}, {'subjekt': 'Cra', 'predikat': 'repressor', 'objekt': 'cyoB'}, {'subjekt': 'Cra', 'predikat': 'repressor', 'objekt': 'cyoD'}, {'subjekt': 'Cra', 'predikat': 'repressor', 'objekt': 'cyoC'}, {'subjekt': 'Cra', 'predikat': 'repressor', 'objekt': 'cyoA'}, {'subjekt': 'Cra', 'predikat': 'repressor', 'objekt': 'cyoE'}, {'subjekt': 'Cra', 'predikat': 'repressor', 'objekt': 'marR'}, {'subjekt': 'Cra', 'predikat': 'repressor', 'objekt': 'marA'}, {'subjekt': 'Cra', 'predikat': 'repressor', 'objekt': 'marB'}, {'subjekt': 'Cra', 'predikat': 'repressor', 'objekt': 'zwf'}, {'subjekt': 'Cra', 'predikat': 'repressor', 'objekt': 'fbaB'}, {'subjekt': 'Cra', 'predikat': 'repressor', 'objekt': 'glcC'}, {'subjekt': 'Cra', 'predikat': 'repressor', 'objekt': 'envC'}, {'subjekt': 'Cra', 'predikat': 'repressor', 'objekt': 'yibQ'}, {'subjekt': 'Cra', 'predikat': 'repressor', 'objekt': 'gpmM'}, {'subjekt': 'Cra', 'predikat': 'repressor', 'objekt': 'ppc'}, {'subjekt': 'Cra', 'predikat': 'repressor', 'objekt': 'fruA'}, {'subjekt': 'Cra', 'predikat': 'repressor', 'objekt': 'fruB'}, {'subjekt': 'Cra', 'predikat': 'repressor', 'objekt': 'fruK'}, {'subjekt': 'Cra', 'predikat': 'repressor', 'objekt': 'tpiA'}, {'subjekt': 'Cra', 'predikat': 'repressor', 'objekt': 'mpl'}, {'subjekt': 'Cra', 'predikat': 'activator', 'objekt': 'poxB'}, {'subjekt': 'Cra', 'predikat': 'activator', 'objekt': 'betT'}, {'subjekt': 'Cra', 'predikat': 'activator', 'objekt': 'betI'}, {'subjekt': 'Cra', 'predikat': 'activator', 'objekt': 'betB'}, {'subjekt': 'Cra', 'predikat': 'activator', 'objekt': 'betA'}, {'subjekt': 'Cra', 'predikat': 'activator', 'objekt': 'csgG'}, {'subjekt': 'Cra', 'predikat': 'activator', 'objekt': 'csgF'}, {'subjekt': 'Cra', 'predikat': 'activator', 'objekt': 'csgD'}, {'subjekt': 'Cra', 'predikat': 'activator', 'objekt': 'csgE'}, {'subjekt': 'Cra', 'predikat': 'activator', 'objekt': 'cydA'}, {'subjekt': 'Cra', 'predikat': 'activator', 'objekt': 'cydB'}, {'subjekt': 'Cra', 'predikat': 'repressor', 'objekt': 'gapA'}, {'subjekt': 'Cra', 'predikat': 'repressor', 'objekt': 'yeaD'}, {'subjekt': 'Cra', 'predikat': 'repressor', 'objekt': 'pdeL'}, {'subjekt': 'Cra', 'predikat': 'repressor', 'objekt': 'hypF'}, {'subjekt': 'Cra', 'predikat': 'repressor', 'objekt': 'eno'}, {'subjekt': 'Cra', 'predikat': 'activator', 'objekt': 'crp'}, {'subjekt': 'Cra', 'predikat': 'repressor', 'objekt': 'glk'}, {'subjekt': 'Cra', 'predikat': 'repressor', 'objekt': 'adhE'}, {'subjekt': 'Cra', 'predikat': 'repressor', 'objekt': 'pfkA'}, {'subjekt': 'Cra', 'predikat': 'repressor', 'objekt': 'epd'}, {'subjekt': 'Cra', 'predikat': 'repressor', 'objekt': 'fbaA'}, {'subjekt': 'Cra', 'predikat': 'repressor', 'objekt': 'pgk'}, {'subjekt': 'Cra', 'predikat': 'repressor', 'objekt': 'nirC'}, {'subjekt': 'Cra', 'predikat': 'repressor', 'objekt': 'nirB'}, {'subjekt': 'Cra', 'predikat': 'repressor', 'objekt': 'nirD'}, {'subjekt': 'Cra', 'predikat': 'repressor', 'objekt': 'cysG'}, {'subjekt': 'Cra', 'predikat': 'activator', 'objekt': 'aceK'}, {'subjekt': 'Cra', 'predikat': 'activator', 'objekt': 'aceA'}, {'subjekt': 'Cra', 'predikat': 'activator', 'objekt': 'aceB'}, {'subjekt': 'Cra', 'predikat': 'activator', 'objekt': 'pck'}, {'subjekt': 'Cra', 'predikat': 'activator', 'objekt': 'acnA'}, {'subjekt': 'Cra', 'predikat': 'repressor', 'objekt': 'acnB'}, {'subjekt': 'Cra', 'predikat': 'dual', 'objekt': 'crr'}, {'subjekt': 'Cra', 'predikat': 'dual', 'objekt': 'ptsI'}, {'subjekt': 'Cra', 'predikat': 'dual', 'objekt': 'ptsH'}, {'subjekt': 'Cra', 'predikat': 'activator', 'objekt': 'icd'}, {'subjekt': 'Cra', 'predikat': 'repressor', 'objekt': 'pykF'}, {'subjekt': 'Cra', 'predikat': 'activator', 'objekt': 'ppsA'}, {'subjekt': 'Cra', 'predikat': 'repressor', 'objekt': 'mtlA'}, {'subjekt': 'Cra', 'predikat': 'repressor', 'objekt': 'mtlD'}, {'subjekt': 'Cra', 'predikat': 'repressor', 'objekt': 'mtlR'}, {'subjekt': 'Cra', 'predikat': 'repressor', 'objekt': 'eda'}, {'subjekt': 'Cra', 'predikat': 'repressor', 'objekt': 'edd'}]\n",
      "---------------------------\n",
      "103 286\n"
     ]
    },
    {
     "name": "stderr",
     "output_type": "stream",
     "text": [
      "C:\\Anaconda\\lib\\site-packages\\urllib3\\connectionpool.py:1061: InsecureRequestWarning: Unverified HTTPS request is being made to host 'regulondb.ccg.unam.mx'. Adding certificate verification is strongly advised. See: https://urllib3.readthedocs.io/en/1.26.x/advanced-usage.html#ssl-warnings\n",
      "  warnings.warn(\n"
     ]
    },
    {
     "name": "stdout",
     "output_type": "stream",
     "text": [
      "success:\n",
      "[{'subjekt': 'RbsR', 'predikat': 'activator', 'objekt': 'add'}, {'subjekt': 'RbsR', 'predikat': 'activator', 'objekt': 'dcd'}, {'subjekt': 'RbsR', 'predikat': 'activator', 'objekt': 'udk'}, {'subjekt': 'RbsR', 'predikat': 'repressor', 'objekt': 'purD'}, {'subjekt': 'RbsR', 'predikat': 'repressor', 'objekt': 'purH'}, {'subjekt': 'RbsR', 'predikat': 'repressor', 'objekt': 'rbsZ'}, {'subjekt': 'RbsR', 'predikat': 'repressor', 'objekt': 'rbsB'}, {'subjekt': 'RbsR', 'predikat': 'repressor', 'objekt': 'rbsK'}, {'subjekt': 'RbsR', 'predikat': 'repressor', 'objekt': 'rbsD'}, {'subjekt': 'RbsR', 'predikat': 'repressor', 'objekt': 'rbsC'}, {'subjekt': 'RbsR', 'predikat': 'repressor', 'objekt': 'rbsR'}, {'subjekt': 'RbsR', 'predikat': 'repressor', 'objekt': 'rbsA'}]\n",
      "---------------------------\n",
      "104 286\n"
     ]
    },
    {
     "name": "stderr",
     "output_type": "stream",
     "text": [
      "C:\\Anaconda\\lib\\site-packages\\urllib3\\connectionpool.py:1061: InsecureRequestWarning: Unverified HTTPS request is being made to host 'regulondb.ccg.unam.mx'. Adding certificate verification is strongly advised. See: https://urllib3.readthedocs.io/en/1.26.x/advanced-usage.html#ssl-warnings\n",
      "  warnings.warn(\n"
     ]
    },
    {
     "name": "stdout",
     "output_type": "stream",
     "text": [
      "success:\n",
      "[{'subjekt': 'EnvR', 'predikat': 'repressor', 'objekt': 'acrA'}, {'subjekt': 'EnvR', 'predikat': 'repressor', 'objekt': 'acrB'}]\n",
      "---------------------------\n",
      "105 286\n"
     ]
    },
    {
     "name": "stderr",
     "output_type": "stream",
     "text": [
      "C:\\Anaconda\\lib\\site-packages\\urllib3\\connectionpool.py:1061: InsecureRequestWarning: Unverified HTTPS request is being made to host 'regulondb.ccg.unam.mx'. Adding certificate verification is strongly advised. See: https://urllib3.readthedocs.io/en/1.26.x/advanced-usage.html#ssl-warnings\n",
      "  warnings.warn(\n"
     ]
    },
    {
     "name": "stdout",
     "output_type": "stream",
     "text": [
      "success:\n",
      "[{'subjekt': 'MngR', 'predikat': 'repressor', 'objekt': 'mngA'}, {'subjekt': 'MngR', 'predikat': 'repressor', 'objekt': 'mngB'}, {'subjekt': 'MngR', 'predikat': 'repressor', 'objekt': 'mngR'}]\n",
      "---------------------------\n",
      "106 286\n"
     ]
    },
    {
     "name": "stderr",
     "output_type": "stream",
     "text": [
      "C:\\Anaconda\\lib\\site-packages\\urllib3\\connectionpool.py:1061: InsecureRequestWarning: Unverified HTTPS request is being made to host 'regulondb.ccg.unam.mx'. Adding certificate verification is strongly advised. See: https://urllib3.readthedocs.io/en/1.26.x/advanced-usage.html#ssl-warnings\n",
      "  warnings.warn(\n"
     ]
    },
    {
     "name": "stdout",
     "output_type": "stream",
     "text": [
      "success:\n",
      "[{'subjekt': 'PyrR', 'predikat': 'activator', 'objekt': 'yhjX'}]\n",
      "---------------------------\n",
      "107 286\n"
     ]
    },
    {
     "name": "stderr",
     "output_type": "stream",
     "text": [
      "C:\\Anaconda\\lib\\site-packages\\urllib3\\connectionpool.py:1061: InsecureRequestWarning: Unverified HTTPS request is being made to host 'regulondb.ccg.unam.mx'. Adding certificate verification is strongly advised. See: https://urllib3.readthedocs.io/en/1.26.x/advanced-usage.html#ssl-warnings\n",
      "  warnings.warn(\n"
     ]
    },
    {
     "name": "stdout",
     "output_type": "stream",
     "text": [
      "success:\n",
      "[{'subjekt': 'AidB', 'predikat': 'repressor', 'objekt': 'aidB'}]\n",
      "---------------------------\n",
      "108 286\n"
     ]
    },
    {
     "name": "stderr",
     "output_type": "stream",
     "text": [
      "C:\\Anaconda\\lib\\site-packages\\urllib3\\connectionpool.py:1061: InsecureRequestWarning: Unverified HTTPS request is being made to host 'regulondb.ccg.unam.mx'. Adding certificate verification is strongly advised. See: https://urllib3.readthedocs.io/en/1.26.x/advanced-usage.html#ssl-warnings\n",
      "  warnings.warn(\n"
     ]
    },
    {
     "name": "stdout",
     "output_type": "stream",
     "text": [
      "success:\n",
      "[{'subjekt': 'TorR', 'predikat': 'repressor', 'objekt': 'torR'}, {'subjekt': 'TorR', 'predikat': 'dual', 'objekt': 'gadA'}, {'subjekt': 'TorR', 'predikat': 'dual', 'objekt': 'gadX'}, {'subjekt': 'TorR', 'predikat': 'activator', 'objekt': 'yhiD'}, {'subjekt': 'TorR', 'predikat': 'activator', 'objekt': 'hdeA'}, {'subjekt': 'TorR', 'predikat': 'activator', 'objekt': 'hdeB'}, {'subjekt': 'TorR', 'predikat': 'activator', 'objekt': 'rpoS'}, {'subjekt': 'TorR', 'predikat': 'activator', 'objekt': 'adiA'}, {'subjekt': 'TorR', 'predikat': 'activator', 'objekt': 'adiC'}, {'subjekt': 'TorR', 'predikat': 'activator', 'objekt': 'gadB'}, {'subjekt': 'TorR', 'predikat': 'activator', 'objekt': 'gadC'}, {'subjekt': 'TorR', 'predikat': 'activator', 'objekt': 'gadE'}, {'subjekt': 'TorR', 'predikat': 'activator', 'objekt': 'mdtE'}, {'subjekt': 'TorR', 'predikat': 'activator', 'objekt': 'mdtF'}, {'subjekt': 'TorR', 'predikat': 'activator', 'objekt': 'slp'}, {'subjekt': 'TorR', 'predikat': 'activator', 'objekt': 'tnaC'}, {'subjekt': 'TorR', 'predikat': 'activator', 'objekt': 'tnaA'}, {'subjekt': 'TorR', 'predikat': 'activator', 'objekt': 'tnaB'}, {'subjekt': 'TorR', 'predikat': 'activator', 'objekt': 'torA'}, {'subjekt': 'TorR', 'predikat': 'activator', 'objekt': 'torC'}, {'subjekt': 'TorR', 'predikat': 'activator', 'objekt': 'torD'}]\n",
      "---------------------------\n",
      "109 286\n"
     ]
    },
    {
     "name": "stderr",
     "output_type": "stream",
     "text": [
      "C:\\Anaconda\\lib\\site-packages\\urllib3\\connectionpool.py:1061: InsecureRequestWarning: Unverified HTTPS request is being made to host 'regulondb.ccg.unam.mx'. Adding certificate verification is strongly advised. See: https://urllib3.readthedocs.io/en/1.26.x/advanced-usage.html#ssl-warnings\n",
      "  warnings.warn(\n"
     ]
    },
    {
     "name": "stdout",
     "output_type": "stream",
     "text": [
      "success:\n",
      "[{'subjekt': 'PrpR', 'predikat': 'repressor', 'objekt': 'prpR'}, {'subjekt': 'PrpR', 'predikat': 'activator', 'objekt': 'prpB'}, {'subjekt': 'PrpR', 'predikat': 'activator', 'objekt': 'prpD'}, {'subjekt': 'PrpR', 'predikat': 'activator', 'objekt': 'prpC'}, {'subjekt': 'PrpR', 'predikat': 'activator', 'objekt': 'prpE'}]\n",
      "---------------------------\n",
      "110 286\n"
     ]
    },
    {
     "name": "stderr",
     "output_type": "stream",
     "text": [
      "C:\\Anaconda\\lib\\site-packages\\urllib3\\connectionpool.py:1061: InsecureRequestWarning: Unverified HTTPS request is being made to host 'regulondb.ccg.unam.mx'. Adding certificate verification is strongly advised. See: https://urllib3.readthedocs.io/en/1.26.x/advanced-usage.html#ssl-warnings\n",
      "  warnings.warn(\n"
     ]
    },
    {
     "name": "stdout",
     "output_type": "stream",
     "text": [
      "success:\n",
      "[{'subjekt': 'AcrR', 'predikat': 'repressor', 'objekt': 'puuA'}, {'subjekt': 'AcrR', 'predikat': 'repressor', 'objekt': 'mdtI'}, {'subjekt': 'AcrR', 'predikat': 'repressor', 'objekt': 'mdtJ'}, {'subjekt': 'AcrR', 'predikat': 'repressor', 'objekt': 'mdtU'}, {'subjekt': 'AcrR', 'predikat': 'repressor', 'objekt': 'marR'}, {'subjekt': 'AcrR', 'predikat': 'repressor', 'objekt': 'marA'}, {'subjekt': 'AcrR', 'predikat': 'repressor', 'objekt': 'marB'}, {'subjekt': 'AcrR', 'predikat': 'repressor', 'objekt': 'soxR'}, {'subjekt': 'AcrR', 'predikat': 'repressor', 'objekt': 'soxS'}, {'subjekt': 'AcrR', 'predikat': 'repressor', 'objekt': 'flhD'}, {'subjekt': 'AcrR', 'predikat': 'repressor', 'objekt': 'flhC'}, {'subjekt': 'AcrR', 'predikat': 'repressor', 'objekt': 'micF'}, {'subjekt': 'AcrR', 'predikat': 'repressor', 'objekt': 'acrA'}, {'subjekt': 'AcrR', 'predikat': 'repressor', 'objekt': 'acrB'}, {'subjekt': 'AcrR', 'predikat': 'repressor', 'objekt': 'acrR'}]\n",
      "---------------------------\n",
      "111 286\n"
     ]
    },
    {
     "name": "stderr",
     "output_type": "stream",
     "text": [
      "C:\\Anaconda\\lib\\site-packages\\urllib3\\connectionpool.py:1061: InsecureRequestWarning: Unverified HTTPS request is being made to host 'regulondb.ccg.unam.mx'. Adding certificate verification is strongly advised. See: https://urllib3.readthedocs.io/en/1.26.x/advanced-usage.html#ssl-warnings\n",
      "  warnings.warn(\n"
     ]
    },
    {
     "name": "stdout",
     "output_type": "stream",
     "text": [
      "success:\n",
      "[{'subjekt': 'StpA', 'predikat': 'repressor', 'objekt': 'leuO'}, {'subjekt': 'StpA', 'predikat': 'repressor', 'objekt': 'fau'}, {'subjekt': 'StpA', 'predikat': 'repressor', 'objekt': 'ssrS'}, {'subjekt': 'StpA', 'predikat': 'activator', 'objekt': 'casD'}, {'subjekt': 'StpA', 'predikat': 'activator', 'objekt': 'casB'}, {'subjekt': 'StpA', 'predikat': 'activator', 'objekt': 'cas2'}, {'subjekt': 'StpA', 'predikat': 'activator', 'objekt': 'casC'}, {'subjekt': 'StpA', 'predikat': 'activator', 'objekt': 'casA'}, {'subjekt': 'StpA', 'predikat': 'activator', 'objekt': 'cas1'}, {'subjekt': 'StpA', 'predikat': 'activator', 'objekt': 'casE'}, {'subjekt': 'StpA', 'predikat': 'activator', 'objekt': 'malH'}, {'subjekt': 'StpA', 'predikat': 'activator', 'objekt': 'malG'}, {'subjekt': 'StpA', 'predikat': 'activator', 'objekt': 'malE'}, {'subjekt': 'StpA', 'predikat': 'activator', 'objekt': 'malF'}, {'subjekt': 'StpA', 'predikat': 'repressor', 'objekt': 'stpA'}, {'subjekt': 'StpA', 'predikat': 'repressor', 'objekt': 'bglB'}, {'subjekt': 'StpA', 'predikat': 'repressor', 'objekt': 'bglG'}, {'subjekt': 'StpA', 'predikat': 'repressor', 'objekt': 'bglF'}]\n",
      "---------------------------\n",
      "112 286\n"
     ]
    },
    {
     "name": "stderr",
     "output_type": "stream",
     "text": [
      "C:\\Anaconda\\lib\\site-packages\\urllib3\\connectionpool.py:1061: InsecureRequestWarning: Unverified HTTPS request is being made to host 'regulondb.ccg.unam.mx'. Adding certificate verification is strongly advised. See: https://urllib3.readthedocs.io/en/1.26.x/advanced-usage.html#ssl-warnings\n",
      "  warnings.warn(\n"
     ]
    },
    {
     "name": "stdout",
     "output_type": "stream",
     "text": [
      "success:\n",
      "[{'subjekt': 'RelB', 'predikat': 'repressor', 'objekt': 'relE'}, {'subjekt': 'RelB', 'predikat': 'repressor', 'objekt': 'hokD'}, {'subjekt': 'RelB', 'predikat': 'repressor', 'objekt': 'relB'}]\n",
      "---------------------------\n",
      "113 286\n"
     ]
    },
    {
     "name": "stderr",
     "output_type": "stream",
     "text": [
      "C:\\Anaconda\\lib\\site-packages\\urllib3\\connectionpool.py:1061: InsecureRequestWarning: Unverified HTTPS request is being made to host 'regulondb.ccg.unam.mx'. Adding certificate verification is strongly advised. See: https://urllib3.readthedocs.io/en/1.26.x/advanced-usage.html#ssl-warnings\n",
      "  warnings.warn(\n"
     ]
    },
    {
     "name": "stdout",
     "output_type": "stream",
     "text": [
      "success:\n",
      "[{'subjekt': 'IdnR', 'predikat': 'repressor', 'objekt': 'gntU'}, {'subjekt': 'IdnR', 'predikat': 'repressor', 'objekt': 'gntK'}, {'subjekt': 'IdnR', 'predikat': 'activator', 'objekt': 'idnO'}, {'subjekt': 'IdnR', 'predikat': 'activator', 'objekt': 'idnD'}, {'subjekt': 'IdnR', 'predikat': 'activator', 'objekt': 'idnR'}, {'subjekt': 'IdnR', 'predikat': 'activator', 'objekt': 'idnT'}, {'subjekt': 'IdnR', 'predikat': 'activator', 'objekt': 'idnK'}]\n",
      "---------------------------\n",
      "114 286\n"
     ]
    },
    {
     "name": "stderr",
     "output_type": "stream",
     "text": [
      "C:\\Anaconda\\lib\\site-packages\\urllib3\\connectionpool.py:1061: InsecureRequestWarning: Unverified HTTPS request is being made to host 'regulondb.ccg.unam.mx'. Adding certificate verification is strongly advised. See: https://urllib3.readthedocs.io/en/1.26.x/advanced-usage.html#ssl-warnings\n",
      "  warnings.warn(\n"
     ]
    },
    {
     "name": "stdout",
     "output_type": "stream",
     "text": [
      "success:\n",
      "[{'subjekt': 'XapR', 'predikat': 'activator', 'objekt': 'xapA'}, {'subjekt': 'XapR', 'predikat': 'activator', 'objekt': 'xapB'}]\n",
      "---------------------------\n",
      "115 286\n"
     ]
    },
    {
     "name": "stderr",
     "output_type": "stream",
     "text": [
      "C:\\Anaconda\\lib\\site-packages\\urllib3\\connectionpool.py:1061: InsecureRequestWarning: Unverified HTTPS request is being made to host 'regulondb.ccg.unam.mx'. Adding certificate verification is strongly advised. See: https://urllib3.readthedocs.io/en/1.26.x/advanced-usage.html#ssl-warnings\n",
      "  warnings.warn(\n"
     ]
    },
    {
     "name": "stdout",
     "output_type": "stream",
     "text": [
      "success:\n",
      "[{'subjekt': 'Cbl', 'predikat': 'activator', 'objekt': 'tauD'}, {'subjekt': 'Cbl', 'predikat': 'activator', 'objekt': 'tauB'}, {'subjekt': 'Cbl', 'predikat': 'activator', 'objekt': 'tauC'}, {'subjekt': 'Cbl', 'predikat': 'activator', 'objekt': 'tauA'}, {'subjekt': 'Cbl', 'predikat': 'activator', 'objekt': 'ssuC'}, {'subjekt': 'Cbl', 'predikat': 'activator', 'objekt': 'ssuA'}, {'subjekt': 'Cbl', 'predikat': 'activator', 'objekt': 'ssuE'}, {'subjekt': 'Cbl', 'predikat': 'activator', 'objekt': 'ssuB'}, {'subjekt': 'Cbl', 'predikat': 'activator', 'objekt': 'ssuD'}]\n",
      "---------------------------\n",
      "116 286\n"
     ]
    },
    {
     "name": "stderr",
     "output_type": "stream",
     "text": [
      "C:\\Anaconda\\lib\\site-packages\\urllib3\\connectionpool.py:1061: InsecureRequestWarning: Unverified HTTPS request is being made to host 'regulondb.ccg.unam.mx'. Adding certificate verification is strongly advised. See: https://urllib3.readthedocs.io/en/1.26.x/advanced-usage.html#ssl-warnings\n",
      "  warnings.warn(\n"
     ]
    },
    {
     "name": "stdout",
     "output_type": "stream",
     "text": [
      "success:\n",
      "[{'subjekt': 'SoxR', 'predikat': 'activator', 'objekt': 'aroF'}, {'subjekt': 'SoxR', 'predikat': 'activator', 'objekt': 'tyrA'}, {'subjekt': 'SoxR', 'predikat': 'activator', 'objekt': 'yrbL'}, {'subjekt': 'SoxR', 'predikat': 'activator', 'objekt': 'sodA'}, {'subjekt': 'SoxR', 'predikat': 'activator', 'objekt': 'yjcB'}, {'subjekt': 'SoxR', 'predikat': 'activator', 'objekt': 'soxS'}, {'subjekt': 'SoxR', 'predikat': 'repressor', 'objekt': 'soxR'}, {'subjekt': 'SoxR', 'predikat': 'activator', 'objekt': 'fumC'}]\n",
      "---------------------------\n",
      "117 286\n"
     ]
    },
    {
     "name": "stderr",
     "output_type": "stream",
     "text": [
      "C:\\Anaconda\\lib\\site-packages\\urllib3\\connectionpool.py:1061: InsecureRequestWarning: Unverified HTTPS request is being made to host 'regulondb.ccg.unam.mx'. Adding certificate verification is strongly advised. See: https://urllib3.readthedocs.io/en/1.26.x/advanced-usage.html#ssl-warnings\n",
      "  warnings.warn(\n"
     ]
    },
    {
     "name": "stdout",
     "output_type": "stream",
     "text": [
      "success:\n",
      "[{'subjekt': 'FhlA', 'predikat': 'activator', 'objekt': 'hycE'}, {'subjekt': 'FhlA', 'predikat': 'activator', 'objekt': 'hycG'}, {'subjekt': 'FhlA', 'predikat': 'activator', 'objekt': 'hycF'}, {'subjekt': 'FhlA', 'predikat': 'activator', 'objekt': 'hycB'}, {'subjekt': 'FhlA', 'predikat': 'activator', 'objekt': 'hycD'}, {'subjekt': 'FhlA', 'predikat': 'activator', 'objekt': 'hycA'}, {'subjekt': 'FhlA', 'predikat': 'activator', 'objekt': 'hycC'}, {'subjekt': 'FhlA', 'predikat': 'activator', 'objekt': 'hycI'}, {'subjekt': 'FhlA', 'predikat': 'activator', 'objekt': 'hycH'}, {'subjekt': 'FhlA', 'predikat': 'activator', 'objekt': 'hypB'}, {'subjekt': 'FhlA', 'predikat': 'activator', 'objekt': 'hypA'}, {'subjekt': 'FhlA', 'predikat': 'activator', 'objekt': 'fhlA'}, {'subjekt': 'FhlA', 'predikat': 'activator', 'objekt': 'hypC'}, {'subjekt': 'FhlA', 'predikat': 'activator', 'objekt': 'hypE'}, {'subjekt': 'FhlA', 'predikat': 'activator', 'objekt': 'hypD'}, {'subjekt': 'FhlA', 'predikat': 'activator', 'objekt': 'fdhF'}, {'subjekt': 'FhlA', 'predikat': 'activator', 'objekt': 'hyfD'}, {'subjekt': 'FhlA', 'predikat': 'activator', 'objekt': 'hyfR'}, {'subjekt': 'FhlA', 'predikat': 'activator', 'objekt': 'hyfE'}, {'subjekt': 'FhlA', 'predikat': 'activator', 'objekt': 'focB'}, {'subjekt': 'FhlA', 'predikat': 'activator', 'objekt': 'hyfB'}, {'subjekt': 'FhlA', 'predikat': 'activator', 'objekt': 'hyfI'}, {'subjekt': 'FhlA', 'predikat': 'activator', 'objekt': 'hyfJ'}, {'subjekt': 'FhlA', 'predikat': 'activator', 'objekt': 'hyfC'}, {'subjekt': 'FhlA', 'predikat': 'activator', 'objekt': 'hyfF'}, {'subjekt': 'FhlA', 'predikat': 'activator', 'objekt': 'hyfH'}, {'subjekt': 'FhlA', 'predikat': 'activator', 'objekt': 'hyfG'}, {'subjekt': 'FhlA', 'predikat': 'activator', 'objekt': 'hyfA'}, {'subjekt': 'FhlA', 'predikat': 'activator', 'objekt': 'hydN'}, {'subjekt': 'FhlA', 'predikat': 'activator', 'objekt': 'hypF'}]\n",
      "---------------------------\n",
      "118 286\n"
     ]
    },
    {
     "name": "stderr",
     "output_type": "stream",
     "text": [
      "C:\\Anaconda\\lib\\site-packages\\urllib3\\connectionpool.py:1061: InsecureRequestWarning: Unverified HTTPS request is being made to host 'regulondb.ccg.unam.mx'. Adding certificate verification is strongly advised. See: https://urllib3.readthedocs.io/en/1.26.x/advanced-usage.html#ssl-warnings\n",
      "  warnings.warn(\n"
     ]
    },
    {
     "name": "stdout",
     "output_type": "stream",
     "text": [
      "success:\n",
      "[{'subjekt': 'HprR', 'predikat': 'activator', 'objekt': 'msrQ'}, {'subjekt': 'HprR', 'predikat': 'activator', 'objekt': 'msrP'}, {'subjekt': 'HprR', 'predikat': 'activator', 'objekt': 'hiuH'}, {'subjekt': 'HprR', 'predikat': 'repressor', 'objekt': 'cyoB'}, {'subjekt': 'HprR', 'predikat': 'repressor', 'objekt': 'cyoD'}, {'subjekt': 'HprR', 'predikat': 'repressor', 'objekt': 'cyoC'}, {'subjekt': 'HprR', 'predikat': 'repressor', 'objekt': 'cyoA'}, {'subjekt': 'HprR', 'predikat': 'repressor', 'objekt': 'cyoE'}, {'subjekt': 'HprR', 'predikat': 'activator', 'objekt': 'cusS'}, {'subjekt': 'HprR', 'predikat': 'activator', 'objekt': 'cusR'}, {'subjekt': 'HprR', 'predikat': 'activator', 'objekt': 'cusB'}, {'subjekt': 'HprR', 'predikat': 'activator', 'objekt': 'cusA'}, {'subjekt': 'HprR', 'predikat': 'activator', 'objekt': 'cusC'}, {'subjekt': 'HprR', 'predikat': 'activator', 'objekt': 'cusF'}]\n",
      "---------------------------\n",
      "119 286\n"
     ]
    },
    {
     "name": "stderr",
     "output_type": "stream",
     "text": [
      "C:\\Anaconda\\lib\\site-packages\\urllib3\\connectionpool.py:1061: InsecureRequestWarning: Unverified HTTPS request is being made to host 'regulondb.ccg.unam.mx'. Adding certificate verification is strongly advised. See: https://urllib3.readthedocs.io/en/1.26.x/advanced-usage.html#ssl-warnings\n",
      "  warnings.warn(\n"
     ]
    },
    {
     "name": "stdout",
     "output_type": "stream",
     "text": [
      "success:\n",
      "[{'subjekt': 'MarA', 'predikat': 'activator', 'objekt': 'waaY'}, {'subjekt': 'MarA', 'predikat': 'activator', 'objekt': 'waaZ'}, {'subjekt': 'MarA', 'predikat': 'activator', 'objekt': 'rimK'}, {'subjekt': 'MarA', 'predikat': 'activator', 'objekt': 'ybjC'}, {'subjekt': 'MarA', 'predikat': 'activator', 'objekt': 'ybjN'}, {'subjekt': 'MarA', 'predikat': 'activator', 'objekt': 'nfsA'}, {'subjekt': 'MarA', 'predikat': 'activator', 'objekt': 'acnA'}, {'subjekt': 'MarA', 'predikat': 'activator', 'objekt': 'yncE'}, {'subjekt': 'MarA', 'predikat': 'activator', 'objekt': 'acrZ'}, {'subjekt': 'MarA', 'predikat': 'activator', 'objekt': 'dapD'}, {'subjekt': 'MarA', 'predikat': 'activator', 'objekt': 'map'}, {'subjekt': 'MarA', 'predikat': 'activator', 'objekt': 'glnD'}, {'subjekt': 'MarA', 'predikat': 'activator', 'objekt': 'mdaB'}, {'subjekt': 'MarA', 'predikat': 'activator', 'objekt': 'yhbW'}, {'subjekt': 'MarA', 'predikat': 'activator', 'objekt': 'aldA'}, {'subjekt': 'MarA', 'predikat': 'activator', 'objekt': 'mlaF'}, {'subjekt': 'MarA', 'predikat': 'activator', 'objekt': 'mlaD'}, {'subjekt': 'MarA', 'predikat': 'activator', 'objekt': 'mlaB'}, {'subjekt': 'MarA', 'predikat': 'activator', 'objekt': 'mlaC'}, {'subjekt': 'MarA', 'predikat': 'activator', 'objekt': 'mlaE'}, {'subjekt': 'MarA', 'predikat': 'activator', 'objekt': 'xseA'}, {'subjekt': 'MarA', 'predikat': 'repressor', 'objekt': 'lacA'}, {'subjekt': 'MarA', 'predikat': 'repressor', 'objekt': 'lacY'}, {'subjekt': 'MarA', 'predikat': 'repressor', 'objekt': 'lacZ'}, {'subjekt': 'MarA', 'predikat': 'activator', 'objekt': 'ymgC'}, {'subjekt': 'MarA', 'predikat': 'activator', 'objekt': 'ariR'}, {'subjekt': 'MarA', 'predikat': 'activator', 'objekt': 'ymgA'}, {'subjekt': 'MarA', 'predikat': 'activator', 'objekt': 'ycgZ'}, {'subjekt': 'MarA', 'predikat': 'activator', 'objekt': 'micF'}, {'subjekt': 'MarA', 'predikat': 'activator', 'objekt': 'poxB'}, {'subjekt': 'MarA', 'predikat': 'repressor', 'objekt': 'yhiD'}, {'subjekt': 'MarA', 'predikat': 'repressor', 'objekt': 'hdeA'}, {'subjekt': 'MarA', 'predikat': 'repressor', 'objekt': 'hdeB'}, {'subjekt': 'MarA', 'predikat': 'activator', 'objekt': 'pqiC'}, {'subjekt': 'MarA', 'predikat': 'activator', 'objekt': 'pqiB'}, {'subjekt': 'MarA', 'predikat': 'activator', 'objekt': 'pqiA'}, {'subjekt': 'MarA', 'predikat': 'activator', 'objekt': 'acrA'}, {'subjekt': 'MarA', 'predikat': 'activator', 'objekt': 'acrB'}, {'subjekt': 'MarA', 'predikat': 'activator', 'objekt': 'putA'}, {'subjekt': 'MarA', 'predikat': 'activator', 'objekt': 'fpr'}, {'subjekt': 'MarA', 'predikat': 'activator', 'objekt': 'nfo'}, {'subjekt': 'MarA', 'predikat': 'repressor', 'objekt': 'dctR'}, {'subjekt': 'MarA', 'predikat': 'repressor', 'objekt': 'slp'}, {'subjekt': 'MarA', 'predikat': 'activator', 'objekt': 'sodA'}, {'subjekt': 'MarA', 'predikat': 'activator', 'objekt': 'fumC'}, {'subjekt': 'MarA', 'predikat': 'activator', 'objekt': 'marR'}, {'subjekt': 'MarA', 'predikat': 'activator', 'objekt': 'marA'}, {'subjekt': 'MarA', 'predikat': 'activator', 'objekt': 'marB'}, {'subjekt': 'MarA', 'predikat': 'activator', 'objekt': 'zwf'}, {'subjekt': 'MarA', 'predikat': 'repressor', 'objekt': 'rob'}, {'subjekt': 'MarA', 'predikat': 'repressor', 'objekt': 'purA'}, {'subjekt': 'MarA', 'predikat': 'activator', 'objekt': 'nfsB'}, {'subjekt': 'MarA', 'predikat': 'activator', 'objekt': 'inaA'}, {'subjekt': 'MarA', 'predikat': 'activator', 'objekt': 'ygiC'}, {'subjekt': 'MarA', 'predikat': 'activator', 'objekt': 'tolC'}, {'subjekt': 'MarA', 'predikat': 'activator', 'objekt': 'ygiB'}, {'subjekt': 'MarA', 'predikat': 'activator', 'objekt': 'decR'}]\n",
      "---------------------------\n",
      "120 286\n"
     ]
    },
    {
     "name": "stderr",
     "output_type": "stream",
     "text": [
      "C:\\Anaconda\\lib\\site-packages\\urllib3\\connectionpool.py:1061: InsecureRequestWarning: Unverified HTTPS request is being made to host 'regulondb.ccg.unam.mx'. Adding certificate verification is strongly advised. See: https://urllib3.readthedocs.io/en/1.26.x/advanced-usage.html#ssl-warnings\n",
      "  warnings.warn(\n"
     ]
    },
    {
     "name": "stdout",
     "output_type": "stream",
     "text": [
      "success:\n",
      "[{'subjekt': 'ZraR', 'predikat': 'activator', 'objekt': 'zraP'}, {'subjekt': 'ZraR', 'predikat': 'activator', 'objekt': 'zraS'}, {'subjekt': 'ZraR', 'predikat': 'activator', 'objekt': 'zraR'}, {'subjekt': 'ZraR', 'predikat': 'activator', 'objekt': 'cspB'}, {'subjekt': 'ZraR', 'predikat': 'activator', 'objekt': 'yjjY'}, {'subjekt': 'ZraR', 'predikat': 'activator', 'objekt': 'yrdD'}, {'subjekt': 'ZraR', 'predikat': 'activator', 'objekt': 'acrE'}, {'subjekt': 'ZraR', 'predikat': 'activator', 'objekt': 'cpxP'}, {'subjekt': 'ZraR', 'predikat': 'activator', 'objekt': 'exuR'}, {'subjekt': 'ZraR', 'predikat': 'activator', 'objekt': 'fliA'}, {'subjekt': 'ZraR', 'predikat': 'activator', 'objekt': 'glnA'}, {'subjekt': 'ZraR', 'predikat': 'activator', 'objekt': 'glnH'}, {'subjekt': 'ZraR', 'predikat': 'activator', 'objekt': 'rpoH'}, {'subjekt': 'ZraR', 'predikat': 'activator', 'objekt': 'ssrA'}, {'subjekt': 'ZraR', 'predikat': 'activator', 'objekt': 'raiA'}, {'subjekt': 'ZraR', 'predikat': 'activator', 'objekt': 'rfaD'}, {'subjekt': 'ZraR', 'predikat': 'activator', 'objekt': 'yhhY'}, {'subjekt': 'ZraR', 'predikat': 'activator', 'objekt': 'sspA'}, {'subjekt': 'ZraR', 'predikat': 'activator', 'objekt': 'gadW'}, {'subjekt': 'ZraR', 'predikat': 'activator', 'objekt': 'yhdW'}, {'subjekt': 'ZraR', 'predikat': 'activator', 'objekt': 'mdtL'}, {'subjekt': 'ZraR', 'predikat': 'activator', 'objekt': 'pnp'}, {'subjekt': 'ZraR', 'predikat': 'activator', 'objekt': 'tnaA'}, {'subjekt': 'ZraR', 'predikat': 'activator', 'objekt': 'tnaB'}, {'subjekt': 'ZraR', 'predikat': 'repressor', 'objekt': 'rmf'}]\n",
      "---------------------------\n",
      "121 286\n"
     ]
    },
    {
     "name": "stderr",
     "output_type": "stream",
     "text": [
      "C:\\Anaconda\\lib\\site-packages\\urllib3\\connectionpool.py:1061: InsecureRequestWarning: Unverified HTTPS request is being made to host 'regulondb.ccg.unam.mx'. Adding certificate verification is strongly advised. See: https://urllib3.readthedocs.io/en/1.26.x/advanced-usage.html#ssl-warnings\n",
      "  warnings.warn(\n"
     ]
    },
    {
     "name": "stdout",
     "output_type": "stream",
     "text": [
      "success:\n",
      "[{'subjekt': 'ArgP', 'predikat': 'activator', 'objekt': 'lysP'}, {'subjekt': 'ArgP', 'predikat': 'activator', 'objekt': 'gdhA'}, {'subjekt': 'ArgP', 'predikat': 'activator', 'objekt': 'lysC'}, {'subjekt': 'ArgP', 'predikat': 'activator', 'objekt': 'lysA'}, {'subjekt': 'ArgP', 'predikat': 'activator', 'objekt': 'dapD'}, {'subjekt': 'ArgP', 'predikat': 'activator', 'objekt': 'asd'}, {'subjekt': 'ArgP', 'predikat': 'activator', 'objekt': 'dnaN'}, {'subjekt': 'ArgP', 'predikat': 'activator', 'objekt': 'dnaA'}, {'subjekt': 'ArgP', 'predikat': 'activator', 'objekt': 'recF'}, {'subjekt': 'ArgP', 'predikat': 'activator', 'objekt': 'nrdA'}, {'subjekt': 'ArgP', 'predikat': 'activator', 'objekt': 'yfaE'}, {'subjekt': 'ArgP', 'predikat': 'activator', 'objekt': 'nrdB'}, {'subjekt': 'ArgP', 'predikat': 'activator', 'objekt': 'dapB'}, {'subjekt': 'ArgP', 'predikat': 'repressor', 'objekt': 'argP'}, {'subjekt': 'ArgP', 'predikat': 'activator', 'objekt': 'argO'}]\n",
      "---------------------------\n",
      "122 286\n"
     ]
    },
    {
     "name": "stderr",
     "output_type": "stream",
     "text": [
      "C:\\Anaconda\\lib\\site-packages\\urllib3\\connectionpool.py:1061: InsecureRequestWarning: Unverified HTTPS request is being made to host 'regulondb.ccg.unam.mx'. Adding certificate verification is strongly advised. See: https://urllib3.readthedocs.io/en/1.26.x/advanced-usage.html#ssl-warnings\n",
      "  warnings.warn(\n"
     ]
    },
    {
     "name": "stdout",
     "output_type": "stream",
     "text": [
      "success:\n",
      "[{'subjekt': 'GadE', 'predikat': 'activator', 'objekt': 'yhiD'}, {'subjekt': 'GadE', 'predikat': 'activator', 'objekt': 'hdeA'}, {'subjekt': 'GadE', 'predikat': 'activator', 'objekt': 'hdeB'}, {'subjekt': 'GadE', 'predikat': 'activator', 'objekt': 'gadE'}, {'subjekt': 'GadE', 'predikat': 'activator', 'objekt': 'gadF'}, {'subjekt': 'GadE', 'predikat': 'activator', 'objekt': 'yhiM'}, {'subjekt': 'GadE', 'predikat': 'activator', 'objekt': 'yjbR'}, {'subjekt': 'GadE', 'predikat': 'activator', 'objekt': 'yjbQ'}, {'subjekt': 'GadE', 'predikat': 'activator', 'objekt': 'gltB'}, {'subjekt': 'GadE', 'predikat': 'activator', 'objekt': 'gltD'}, {'subjekt': 'GadE', 'predikat': 'activator', 'objekt': 'gltF'}, {'subjekt': 'GadE', 'predikat': 'activator', 'objekt': 'gadC'}, {'subjekt': 'GadE', 'predikat': 'activator', 'objekt': 'gadB'}, {'subjekt': 'GadE', 'predikat': 'activator', 'objekt': 'hdeD'}, {'subjekt': 'GadE', 'predikat': 'activator', 'objekt': 'lrp'}, {'subjekt': 'GadE', 'predikat': 'activator', 'objekt': 'rcsA'}, {'subjekt': 'GadE', 'predikat': 'activator', 'objekt': 'cyoB'}, {'subjekt': 'GadE', 'predikat': 'activator', 'objekt': 'cyoD'}, {'subjekt': 'GadE', 'predikat': 'activator', 'objekt': 'cyoC'}, {'subjekt': 'GadE', 'predikat': 'activator', 'objekt': 'cyoA'}, {'subjekt': 'GadE', 'predikat': 'activator', 'objekt': 'cyoE'}, {'subjekt': 'GadE', 'predikat': 'activator', 'objekt': 'mdtE'}, {'subjekt': 'GadE', 'predikat': 'activator', 'objekt': 'mdtF'}, {'subjekt': 'GadE', 'predikat': 'activator', 'objekt': 'gndA'}, {'subjekt': 'GadE', 'predikat': 'activator', 'objekt': 'gnd'}, {'subjekt': 'GadE', 'predikat': 'activator', 'objekt': 'purA'}, {'subjekt': 'GadE', 'predikat': 'activator', 'objekt': 'lpxD'}, {'subjekt': 'GadE', 'predikat': 'activator', 'objekt': 'skp'}, {'subjekt': 'GadE', 'predikat': 'activator', 'objekt': 'lpxA'}, {'subjekt': 'GadE', 'predikat': 'activator', 'objekt': 'fabZ'}, {'subjekt': 'GadE', 'predikat': 'activator', 'objekt': 'gadW'}, {'subjekt': 'GadE', 'predikat': 'activator', 'objekt': 'gadX'}, {'subjekt': 'GadE', 'predikat': 'activator', 'objekt': 'fliC'}, {'subjekt': 'GadE', 'predikat': 'activator', 'objekt': 'fliX'}]\n",
      "---------------------------\n",
      "123 286\n"
     ]
    },
    {
     "name": "stderr",
     "output_type": "stream",
     "text": [
      "C:\\Anaconda\\lib\\site-packages\\urllib3\\connectionpool.py:1061: InsecureRequestWarning: Unverified HTTPS request is being made to host 'regulondb.ccg.unam.mx'. Adding certificate verification is strongly advised. See: https://urllib3.readthedocs.io/en/1.26.x/advanced-usage.html#ssl-warnings\n",
      "  warnings.warn(\n"
     ]
    },
    {
     "name": "stdout",
     "output_type": "stream",
     "text": [
      "success:\n",
      "[{'subjekt': 'TyrR', 'predikat': 'repressor', 'objekt': 'aroF'}, {'subjekt': 'TyrR', 'predikat': 'repressor', 'objekt': 'tyrA'}, {'subjekt': 'TyrR', 'predikat': 'repressor', 'objekt': 'yaiA'}, {'subjekt': 'TyrR', 'predikat': 'repressor', 'objekt': 'aroM'}, {'subjekt': 'TyrR', 'predikat': 'repressor', 'objekt': 'aroL'}, {'subjekt': 'TyrR', 'predikat': 'repressor', 'objekt': 'aroP'}, {'subjekt': 'TyrR', 'predikat': 'repressor', 'objekt': 'tyrB'}, {'subjekt': 'TyrR', 'predikat': 'dual', 'objekt': 'tyrP'}, {'subjekt': 'TyrR', 'predikat': 'activator', 'objekt': 'mtr'}, {'subjekt': 'TyrR', 'predikat': 'activator', 'objekt': 'folA'}, {'subjekt': 'TyrR', 'predikat': 'repressor', 'objekt': 'aroG'}, {'subjekt': 'TyrR', 'predikat': 'repressor', 'objekt': 'tyrR'}]\n",
      "---------------------------\n",
      "124 286\n"
     ]
    },
    {
     "name": "stderr",
     "output_type": "stream",
     "text": [
      "C:\\Anaconda\\lib\\site-packages\\urllib3\\connectionpool.py:1061: InsecureRequestWarning: Unverified HTTPS request is being made to host 'regulondb.ccg.unam.mx'. Adding certificate verification is strongly advised. See: https://urllib3.readthedocs.io/en/1.26.x/advanced-usage.html#ssl-warnings\n",
      "  warnings.warn(\n"
     ]
    },
    {
     "name": "stdout",
     "output_type": "stream",
     "text": [
      "success:\n",
      "[{'subjekt': 'CecR', 'predikat': 'repressor', 'objekt': 'cecR'}, {'subjekt': 'CecR', 'predikat': 'repressor', 'objekt': 'ybhS'}, {'subjekt': 'CecR', 'predikat': 'repressor', 'objekt': 'ybhR'}, {'subjekt': 'CecR', 'predikat': 'repressor', 'objekt': 'ybhF'}, {'subjekt': 'CecR', 'predikat': 'repressor', 'objekt': 'ybhG'}, {'subjekt': 'CecR', 'predikat': 'activator', 'objekt': 'rhlE'}]\n",
      "---------------------------\n",
      "125 286\n"
     ]
    },
    {
     "name": "stderr",
     "output_type": "stream",
     "text": [
      "C:\\Anaconda\\lib\\site-packages\\urllib3\\connectionpool.py:1061: InsecureRequestWarning: Unverified HTTPS request is being made to host 'regulondb.ccg.unam.mx'. Adding certificate verification is strongly advised. See: https://urllib3.readthedocs.io/en/1.26.x/advanced-usage.html#ssl-warnings\n",
      "  warnings.warn(\n"
     ]
    },
    {
     "name": "stdout",
     "output_type": "stream",
     "text": [
      "success:\n",
      "[{'subjekt': 'GlaR', 'predikat': 'repressor', 'objekt': 'gabP'}, {'subjekt': 'GlaR', 'predikat': 'repressor', 'objekt': 'gabT'}, {'subjekt': 'GlaR', 'predikat': 'repressor', 'objekt': 'glaH'}, {'subjekt': 'GlaR', 'predikat': 'repressor', 'objekt': 'lhgD'}, {'subjekt': 'GlaR', 'predikat': 'repressor', 'objekt': 'gabD'}, {'subjekt': 'GlaR', 'predikat': 'activator', 'objekt': 'yidB'}, {'subjekt': 'GlaR', 'predikat': 'activator', 'objekt': 'smg'}, {'subjekt': 'GlaR', 'predikat': 'repressor', 'objekt': 'chaA'}, {'subjekt': 'GlaR', 'predikat': 'repressor', 'objekt': 'kdgT'}, {'subjekt': 'GlaR', 'predikat': 'repressor', 'objekt': 'yehE'}, {'subjekt': 'GlaR', 'predikat': 'activator', 'objekt': 'yadN'}, {'subjekt': 'GlaR', 'predikat': 'repressor', 'objekt': 'yfdC'}, {'subjekt': 'GlaR', 'predikat': 'repressor', 'objekt': 'yfjD'}, {'subjekt': 'GlaR', 'predikat': 'repressor', 'objekt': 'rsgA'}, {'subjekt': 'GlaR', 'predikat': 'activator', 'objekt': 'orn'}, {'subjekt': 'GlaR', 'predikat': 'repressor', 'objekt': 'yjfY'}, {'subjekt': 'GlaR', 'predikat': 'repressor', 'objekt': 'bdcR'}, {'subjekt': 'GlaR', 'predikat': 'activator', 'objekt': 'ygjI'}, {'subjekt': 'GlaR', 'predikat': 'repressor', 'objekt': 'ybaN'}, {'subjekt': 'GlaR', 'predikat': 'repressor', 'objekt': 'yqhC'}, {'subjekt': 'GlaR', 'predikat': 'repressor', 'objekt': 'ygiV'}, {'subjekt': 'GlaR', 'predikat': 'repressor', 'objekt': 'ypjA'}, {'subjekt': 'GlaR', 'predikat': 'repressor', 'objekt': 'ynaE'}, {'subjekt': 'GlaR', 'predikat': 'repressor', 'objekt': 'yccU'}, {'subjekt': 'GlaR', 'predikat': 'repressor', 'objekt': 'ydcK'}, {'subjekt': 'GlaR', 'predikat': 'repressor', 'objekt': 'ydfI'}, {'subjekt': 'GlaR', 'predikat': 'repressor', 'objekt': 'pdeG'}, {'subjekt': 'GlaR', 'predikat': 'repressor', 'objekt': 'ycgV'}, {'subjekt': 'GlaR', 'predikat': 'repressor', 'objekt': 'ydhS'}, {'subjekt': 'GlaR', 'predikat': 'activator', 'objekt': 'yodB'}, {'subjekt': 'GlaR', 'predikat': 'repressor', 'objekt': 'chaB'}, {'subjekt': 'GlaR', 'predikat': 'repressor', 'objekt': 'chaC'}, {'subjekt': 'GlaR', 'predikat': 'activator', 'objekt': 'alaE'}, {'subjekt': 'GlaR', 'predikat': 'repressor', 'objekt': 'apt'}, {'subjekt': 'GlaR', 'predikat': 'repressor', 'objekt': 'aroB'}, {'subjekt': 'GlaR', 'predikat': 'repressor', 'objekt': 'aroP'}, {'subjekt': 'GlaR', 'predikat': 'repressor', 'objekt': 'baeS'}, {'subjekt': 'GlaR', 'predikat': 'activator', 'objekt': 'bdcA'}, {'subjekt': 'GlaR', 'predikat': 'activator', 'objekt': 'bssS'}, {'subjekt': 'GlaR', 'predikat': 'activator', 'objekt': 'cadC'}, {'subjekt': 'GlaR', 'predikat': 'repressor', 'objekt': 'casA'}, {'subjekt': 'GlaR', 'predikat': 'activator', 'objekt': 'cysN'}, {'subjekt': 'GlaR', 'predikat': 'repressor', 'objekt': 'cysS'}, {'subjekt': 'GlaR', 'predikat': 'activator', 'objekt': 'dctR'}, {'subjekt': 'GlaR', 'predikat': 'repressor', 'objekt': 'dinQ'}, {'subjekt': 'GlaR', 'predikat': 'repressor', 'objekt': 'elfC'}, {'subjekt': 'GlaR', 'predikat': 'repressor', 'objekt': 'fhuE'}, {'subjekt': 'GlaR', 'predikat': 'repressor', 'objekt': 'gadW'}, {'subjekt': 'GlaR', 'predikat': 'activator', 'objekt': 'gadX'}, {'subjekt': 'GlaR', 'predikat': 'repressor', 'objekt': 'gcvA'}, {'subjekt': 'GlaR', 'predikat': 'repressor', 'objekt': 'gdhA'}, {'subjekt': 'GlaR', 'predikat': 'activator', 'objekt': 'gltF'}, {'subjekt': 'GlaR', 'predikat': 'activator', 'objekt': 'hinT'}, {'subjekt': 'GlaR', 'predikat': 'activator', 'objekt': 'htrE'}, {'subjekt': 'GlaR', 'predikat': 'activator', 'objekt': 'idnD'}, {'subjekt': 'GlaR', 'predikat': 'repressor', 'objekt': 'idnK'}, {'subjekt': 'GlaR', 'predikat': 'repressor', 'objekt': 'inaA'}, {'subjekt': 'GlaR', 'predikat': 'activator', 'objekt': 'kdsA'}, {'subjekt': 'GlaR', 'predikat': 'repressor', 'objekt': 'ldcC'}, {'subjekt': 'GlaR', 'predikat': 'activator', 'objekt': 'lsrG'}, {'subjekt': 'GlaR', 'predikat': 'repressor', 'objekt': 'mglA'}, {'subjekt': 'GlaR', 'predikat': 'repressor', 'objekt': 'mrdA'}, {'subjekt': 'GlaR', 'predikat': 'activator', 'objekt': 'murD'}, {'subjekt': 'GlaR', 'predikat': 'repressor', 'objekt': 'nlpA'}, {'subjekt': 'GlaR', 'predikat': 'repressor', 'objekt': 'oxc'}, {'subjekt': 'GlaR', 'predikat': 'activator', 'objekt': 'pdhR'}, {'subjekt': 'GlaR', 'predikat': 'repressor', 'objekt': 'pdxA'}, {'subjekt': 'GlaR', 'predikat': 'repressor', 'objekt': 'phoH'}, {'subjekt': 'GlaR', 'predikat': 'activator', 'objekt': 'pliG'}, {'subjekt': 'GlaR', 'predikat': 'activator', 'objekt': 'ppiB'}, {'subjekt': 'GlaR', 'predikat': 'repressor', 'objekt': 'ppx'}, {'subjekt': 'GlaR', 'predikat': 'activator', 'objekt': 'priC'}, {'subjekt': 'GlaR', 'predikat': 'repressor', 'objekt': 'prmC'}, {'subjekt': 'GlaR', 'predikat': 'activator', 'objekt': 'rfbB'}, {'subjekt': 'GlaR', 'predikat': 'repressor', 'objekt': 'rhsD'}, {'subjekt': 'GlaR', 'predikat': 'activator', 'objekt': 'rpiB'}, {'subjekt': 'GlaR', 'predikat': 'activator', 'objekt': 'rpsF'}, {'subjekt': 'GlaR', 'predikat': 'repressor', 'objekt': 'rssB'}, {'subjekt': 'GlaR', 'predikat': 'activator', 'objekt': 'safA'}, {'subjekt': 'GlaR', 'predikat': 'repressor', 'objekt': 'sgcC'}, {'subjekt': 'GlaR', 'predikat': 'repressor', 'objekt': 'tam'}, {'subjekt': 'GlaR', 'predikat': 'repressor', 'objekt': 'tar'}, {'subjekt': 'GlaR', 'predikat': 'repressor', 'objekt': 'tehA'}, {'subjekt': 'GlaR', 'predikat': 'repressor', 'objekt': 'ttdA'}, {'subjekt': 'GlaR', 'predikat': 'repressor', 'objekt': 'ttdR'}, {'subjekt': 'GlaR', 'predikat': 'repressor', 'objekt': 'ycbU'}, {'subjekt': 'GlaR', 'predikat': 'repressor', 'objekt': 'ycbV'}, {'subjekt': 'GlaR', 'predikat': 'repressor', 'objekt': 'csgI'}, {'subjekt': 'GlaR', 'predikat': 'repressor', 'objekt': 'ycgJ'}, {'subjekt': 'GlaR', 'predikat': 'activator', 'objekt': 'ycgY'}, {'subjekt': 'GlaR', 'predikat': 'activator', 'objekt': 'ychQ'}, {'subjekt': 'GlaR', 'predikat': 'repressor', 'objekt': 'yciU'}, {'subjekt': 'GlaR', 'predikat': 'repressor', 'objekt': 'ycjP'}, {'subjekt': 'GlaR', 'predikat': 'activator', 'objekt': 'ydeO'}, {'subjekt': 'GlaR', 'predikat': 'activator', 'objekt': 'ydfK'}, {'subjekt': 'GlaR', 'predikat': 'repressor', 'objekt': 'yeaE'}, {'subjekt': 'GlaR', 'predikat': 'activator', 'objekt': 'yehD'}, {'subjekt': 'GlaR', 'predikat': 'activator', 'objekt': 'yehS'}, {'subjekt': 'GlaR', 'predikat': 'activator', 'objekt': 'yfbN'}, {'subjekt': 'GlaR', 'predikat': 'activator', 'objekt': 'yfbO'}, {'subjekt': 'GlaR', 'predikat': 'repressor', 'objekt': 'hxpA'}, {'subjekt': 'GlaR', 'predikat': 'activator', 'objekt': 'yfbU'}, {'subjekt': 'GlaR', 'predikat': 'repressor', 'objekt': 'yfcO'}, {'subjekt': 'GlaR', 'predikat': 'activator', 'objekt': 'yfcV'}, {'subjekt': 'GlaR', 'predikat': 'activator', 'objekt': 'yfdV'}, {'subjekt': 'GlaR', 'predikat': 'repressor', 'objekt': 'yfiL'}, {'subjekt': 'GlaR', 'predikat': 'repressor', 'objekt': 'dgcN'}, {'subjekt': 'GlaR', 'predikat': 'repressor', 'objekt': 'yfiR'}, {'subjekt': 'GlaR', 'predikat': 'activator', 'objekt': 'ygiW'}, {'subjekt': 'GlaR', 'predikat': 'repressor', 'objekt': 'yhcD'}, {'subjekt': 'GlaR', 'predikat': 'activator', 'objekt': 'yigG'}, {'subjekt': 'GlaR', 'predikat': 'activator', 'objekt': 'yihD'}, {'subjekt': 'GlaR', 'predikat': 'repressor', 'objekt': 'yihM'}, {'subjekt': 'GlaR', 'predikat': 'repressor', 'objekt': 'yjdP'}, {'subjekt': 'GlaR', 'predikat': 'activator', 'objekt': 'yjjP'}, {'subjekt': 'GlaR', 'predikat': 'repressor', 'objekt': 'yjjQ'}, {'subjekt': 'GlaR', 'predikat': 'repressor', 'objekt': 'ynjH'}, {'subjekt': 'GlaR', 'predikat': 'repressor', 'objekt': 'yobD'}, {'subjekt': 'GlaR', 'predikat': 'activator', 'objekt': 'ypdC'}, {'subjekt': 'GlaR', 'predikat': 'repressor', 'objekt': 'zraR'}]\n",
      "---------------------------\n",
      "126 286\n"
     ]
    },
    {
     "name": "stderr",
     "output_type": "stream",
     "text": [
      "C:\\Anaconda\\lib\\site-packages\\urllib3\\connectionpool.py:1061: InsecureRequestWarning: Unverified HTTPS request is being made to host 'regulondb.ccg.unam.mx'. Adding certificate verification is strongly advised. See: https://urllib3.readthedocs.io/en/1.26.x/advanced-usage.html#ssl-warnings\n",
      "  warnings.warn(\n"
     ]
    },
    {
     "name": "stdout",
     "output_type": "stream",
     "text": [
      "success:\n",
      "[{'subjekt': 'ComR', 'predikat': 'repressor', 'objekt': 'bhsA'}]\n",
      "---------------------------\n",
      "127 286\n"
     ]
    },
    {
     "name": "stderr",
     "output_type": "stream",
     "text": [
      "C:\\Anaconda\\lib\\site-packages\\urllib3\\connectionpool.py:1061: InsecureRequestWarning: Unverified HTTPS request is being made to host 'regulondb.ccg.unam.mx'. Adding certificate verification is strongly advised. See: https://urllib3.readthedocs.io/en/1.26.x/advanced-usage.html#ssl-warnings\n",
      "  warnings.warn(\n"
     ]
    },
    {
     "name": "stdout",
     "output_type": "stream",
     "text": [
      "success:\n",
      "[{'subjekt': 'PlaR', 'predikat': 'repressor', 'objekt': 'plaR'}, {'subjekt': 'PlaR', 'predikat': 'repressor', 'objekt': 'eda'}, {'subjekt': 'PlaR', 'predikat': 'repressor', 'objekt': 'glpA'}, {'subjekt': 'PlaR', 'predikat': 'repressor', 'objekt': 'glpT'}, {'subjekt': 'PlaR', 'predikat': 'repressor', 'objekt': 'ygjV'}, {'subjekt': 'PlaR', 'predikat': 'repressor', 'objekt': 'yiaO'}, {'subjekt': 'PlaR', 'predikat': 'repressor', 'objekt': 'yiaN'}, {'subjekt': 'PlaR', 'predikat': 'repressor', 'objekt': 'lyxK'}, {'subjekt': 'PlaR', 'predikat': 'repressor', 'objekt': 'yiaL'}, {'subjekt': 'PlaR', 'predikat': 'repressor', 'objekt': 'sgbH'}, {'subjekt': 'PlaR', 'predikat': 'repressor', 'objekt': 'yiaK'}, {'subjekt': 'PlaR', 'predikat': 'repressor', 'objekt': 'yiaM'}, {'subjekt': 'PlaR', 'predikat': 'repressor', 'objekt': 'sgbU'}, {'subjekt': 'PlaR', 'predikat': 'repressor', 'objekt': 'sgbE'}]\n",
      "---------------------------\n",
      "128 286\n"
     ]
    },
    {
     "name": "stderr",
     "output_type": "stream",
     "text": [
      "C:\\Anaconda\\lib\\site-packages\\urllib3\\connectionpool.py:1061: InsecureRequestWarning: Unverified HTTPS request is being made to host 'regulondb.ccg.unam.mx'. Adding certificate verification is strongly advised. See: https://urllib3.readthedocs.io/en/1.26.x/advanced-usage.html#ssl-warnings\n",
      "  warnings.warn(\n"
     ]
    },
    {
     "name": "stdout",
     "output_type": "stream",
     "text": [
      "success:\n",
      "[{'subjekt': 'NimR', 'predikat': 'repressor', 'objekt': 'nimT'}, {'subjekt': 'NimR', 'predikat': 'repressor', 'objekt': 'nimR'}]\n",
      "---------------------------\n",
      "129 286\n"
     ]
    },
    {
     "name": "stderr",
     "output_type": "stream",
     "text": [
      "C:\\Anaconda\\lib\\site-packages\\urllib3\\connectionpool.py:1061: InsecureRequestWarning: Unverified HTTPS request is being made to host 'regulondb.ccg.unam.mx'. Adding certificate verification is strongly advised. See: https://urllib3.readthedocs.io/en/1.26.x/advanced-usage.html#ssl-warnings\n",
      "  warnings.warn(\n",
      "C:\\Anaconda\\lib\\site-packages\\urllib3\\connectionpool.py:1061: InsecureRequestWarning: Unverified HTTPS request is being made to host 'regulondb.ccg.unam.mx'. Adding certificate verification is strongly advised. See: https://urllib3.readthedocs.io/en/1.26.x/advanced-usage.html#ssl-warnings\n",
      "  warnings.warn(\n"
     ]
    },
    {
     "name": "stdout",
     "output_type": "stream",
     "text": [
      "success:\n",
      "[{'subjekt': 'NhaR', 'predikat': 'activator', 'objekt': 'nhaA'}, {'subjekt': 'NhaR', 'predikat': 'activator', 'objekt': 'nhaR'}, {'subjekt': 'NhaR', 'predikat': 'dual', 'objekt': 'rrsA'}, {'subjekt': 'NhaR', 'predikat': 'dual', 'objekt': 'rrfA'}, {'subjekt': 'NhaR', 'predikat': 'dual', 'objekt': 'rrlA'}, {'subjekt': 'NhaR', 'predikat': 'dual', 'objekt': 'alaT'}, {'subjekt': 'NhaR', 'predikat': 'dual', 'objekt': 'ileT'}, {'subjekt': 'NhaR', 'predikat': 'activator', 'objekt': 'rrsB'}, {'subjekt': 'NhaR', 'predikat': 'activator', 'objekt': 'rrlB'}, {'subjekt': 'NhaR', 'predikat': 'activator', 'objekt': 'gltT'}, {'subjekt': 'NhaR', 'predikat': 'activator', 'objekt': 'rrfB'}, {'subjekt': 'NhaR', 'predikat': 'activator', 'objekt': 'rrfG'}, {'subjekt': 'NhaR', 'predikat': 'activator', 'objekt': 'rrsG'}, {'subjekt': 'NhaR', 'predikat': 'activator', 'objekt': 'gltW'}, {'subjekt': 'NhaR', 'predikat': 'activator', 'objekt': 'rrlG'}, {'subjekt': 'NhaR', 'predikat': 'activator', 'objekt': 'rrlH'}, {'subjekt': 'NhaR', 'predikat': 'activator', 'objekt': 'ileV'}, {'subjekt': 'NhaR', 'predikat': 'activator', 'objekt': 'rrsH'}, {'subjekt': 'NhaR', 'predikat': 'activator', 'objekt': 'rrfH'}, {'subjekt': 'NhaR', 'predikat': 'activator', 'objekt': 'alaV'}, {'subjekt': 'NhaR', 'predikat': 'repressor', 'objekt': 'gltU'}, {'subjekt': 'NhaR', 'predikat': 'repressor', 'objekt': 'rrsC'}, {'subjekt': 'NhaR', 'predikat': 'repressor', 'objekt': 'rrfC'}, {'subjekt': 'NhaR', 'predikat': 'repressor', 'objekt': 'rrlC'}, {'subjekt': 'NhaR', 'predikat': 'repressor', 'objekt': 'rrfF'}, {'subjekt': 'NhaR', 'predikat': 'repressor', 'objekt': 'ileU'}, {'subjekt': 'NhaR', 'predikat': 'repressor', 'objekt': 'rrsD'}, {'subjekt': 'NhaR', 'predikat': 'repressor', 'objekt': 'rrlD'}, {'subjekt': 'NhaR', 'predikat': 'repressor', 'objekt': 'thrV'}, {'subjekt': 'NhaR', 'predikat': 'repressor', 'objekt': 'alaU'}, {'subjekt': 'NhaR', 'predikat': 'repressor', 'objekt': 'rrfD'}, {'subjekt': 'NhaR', 'predikat': 'repressor', 'objekt': 'rrsE'}, {'subjekt': 'NhaR', 'predikat': 'repressor', 'objekt': 'rrlE'}, {'subjekt': 'NhaR', 'predikat': 'repressor', 'objekt': 'rrfE'}, {'subjekt': 'NhaR', 'predikat': 'repressor', 'objekt': 'gltV'}, {'subjekt': 'NhaR', 'predikat': 'repressor', 'objekt': 'rsd'}, {'subjekt': 'NhaR', 'predikat': 'repressor', 'objekt': 'rmf'}, {'subjekt': 'NhaR', 'predikat': 'activator', 'objekt': 'osmC'}, {'subjekt': 'NhaR', 'predikat': 'activator', 'objekt': 'pgaD'}, {'subjekt': 'NhaR', 'predikat': 'activator', 'objekt': 'pgaB'}, {'subjekt': 'NhaR', 'predikat': 'activator', 'objekt': 'pgaC'}, {'subjekt': 'NhaR', 'predikat': 'activator', 'objekt': 'pgaA'}]\n",
      "---------------------------\n",
      "130 286\n"
     ]
    },
    {
     "name": "stderr",
     "output_type": "stream",
     "text": [
      "C:\\Anaconda\\lib\\site-packages\\urllib3\\connectionpool.py:1061: InsecureRequestWarning: Unverified HTTPS request is being made to host 'regulondb.ccg.unam.mx'. Adding certificate verification is strongly advised. See: https://urllib3.readthedocs.io/en/1.26.x/advanced-usage.html#ssl-warnings\n",
      "  warnings.warn(\n"
     ]
    },
    {
     "name": "stdout",
     "output_type": "stream",
     "text": [
      "success:\n",
      "[{'subjekt': 'NarP', 'predikat': 'repressor', 'objekt': 'ydeP'}, {'subjekt': 'NarP', 'predikat': 'repressor', 'objekt': 'hyaD'}, {'subjekt': 'NarP', 'predikat': 'repressor', 'objekt': 'hyaA'}, {'subjekt': 'NarP', 'predikat': 'repressor', 'objekt': 'hyaC'}, {'subjekt': 'NarP', 'predikat': 'repressor', 'objekt': 'hyaB'}, {'subjekt': 'NarP', 'predikat': 'repressor', 'objekt': 'hyaF'}, {'subjekt': 'NarP', 'predikat': 'repressor', 'objekt': 'hyaE'}, {'subjekt': 'NarP', 'predikat': 'activator', 'objekt': 'nirC'}, {'subjekt': 'NarP', 'predikat': 'activator', 'objekt': 'nirB'}, {'subjekt': 'NarP', 'predikat': 'activator', 'objekt': 'nirD'}, {'subjekt': 'NarP', 'predikat': 'activator', 'objekt': 'cysG'}, {'subjekt': 'NarP', 'predikat': 'dual', 'objekt': 'ccmG'}, {'subjekt': 'NarP', 'predikat': 'dual', 'objekt': 'napH'}, {'subjekt': 'NarP', 'predikat': 'dual', 'objekt': 'napA'}, {'subjekt': 'NarP', 'predikat': 'dual', 'objekt': 'napB'}, {'subjekt': 'NarP', 'predikat': 'dual', 'objekt': 'ccmH'}, {'subjekt': 'NarP', 'predikat': 'dual', 'objekt': 'napF'}, {'subjekt': 'NarP', 'predikat': 'dual', 'objekt': 'ccmA'}, {'subjekt': 'NarP', 'predikat': 'dual', 'objekt': 'napC'}, {'subjekt': 'NarP', 'predikat': 'dual', 'objekt': 'napG'}, {'subjekt': 'NarP', 'predikat': 'dual', 'objekt': 'ccmF'}, {'subjekt': 'NarP', 'predikat': 'dual', 'objekt': 'ccmC'}, {'subjekt': 'NarP', 'predikat': 'dual', 'objekt': 'ccmD'}, {'subjekt': 'NarP', 'predikat': 'dual', 'objekt': 'ccmE'}, {'subjekt': 'NarP', 'predikat': 'dual', 'objekt': 'napD'}, {'subjekt': 'NarP', 'predikat': 'dual', 'objekt': 'ccmB'}, {'subjekt': 'NarP', 'predikat': 'activator', 'objekt': 'fdhF'}, {'subjekt': 'NarP', 'predikat': 'repressor', 'objekt': 'fdnG'}, {'subjekt': 'NarP', 'predikat': 'repressor', 'objekt': 'fdnH'}, {'subjekt': 'NarP', 'predikat': 'repressor', 'objekt': 'fdnI'}, {'subjekt': 'NarP', 'predikat': 'activator', 'objekt': 'nrfA'}, {'subjekt': 'NarP', 'predikat': 'activator', 'objekt': 'nrfD'}, {'subjekt': 'NarP', 'predikat': 'activator', 'objekt': 'nrfC'}, {'subjekt': 'NarP', 'predikat': 'activator', 'objekt': 'nrfG'}, {'subjekt': 'NarP', 'predikat': 'activator', 'objekt': 'nrfE'}, {'subjekt': 'NarP', 'predikat': 'activator', 'objekt': 'nrfB'}, {'subjekt': 'NarP', 'predikat': 'activator', 'objekt': 'nrfF'}, {'subjekt': 'NarP', 'predikat': 'activator', 'objekt': 'poxB'}, {'subjekt': 'NarP', 'predikat': 'activator', 'objekt': 'hcp'}, {'subjekt': 'NarP', 'predikat': 'activator', 'objekt': 'hcr'}, {'subjekt': 'NarP', 'predikat': 'repressor', 'objekt': 'norV'}, {'subjekt': 'NarP', 'predikat': 'repressor', 'objekt': 'norW'}, {'subjekt': 'NarP', 'predikat': 'activator', 'objekt': 'yeaR'}, {'subjekt': 'NarP', 'predikat': 'activator', 'objekt': 'yoaG'}, {'subjekt': 'NarP', 'predikat': 'activator', 'objekt': 'ytfE'}, {'subjekt': 'NarP', 'predikat': 'repressor', 'objekt': 'ydhY'}, {'subjekt': 'NarP', 'predikat': 'repressor', 'objekt': 'ydhU'}, {'subjekt': 'NarP', 'predikat': 'repressor', 'objekt': 'ydhW'}, {'subjekt': 'NarP', 'predikat': 'repressor', 'objekt': 'ydhT'}, {'subjekt': 'NarP', 'predikat': 'repressor', 'objekt': 'ydhV'}, {'subjekt': 'NarP', 'predikat': 'repressor', 'objekt': 'ydhX'}]\n",
      "---------------------------\n",
      "131 286\n"
     ]
    },
    {
     "name": "stderr",
     "output_type": "stream",
     "text": [
      "C:\\Anaconda\\lib\\site-packages\\urllib3\\connectionpool.py:1061: InsecureRequestWarning: Unverified HTTPS request is being made to host 'regulondb.ccg.unam.mx'. Adding certificate verification is strongly advised. See: https://urllib3.readthedocs.io/en/1.26.x/advanced-usage.html#ssl-warnings\n",
      "  warnings.warn(\n"
     ]
    },
    {
     "name": "stdout",
     "output_type": "stream",
     "text": [
      "success:\n",
      "[{'subjekt': 'FrmR', 'predikat': 'repressor', 'objekt': 'frmR'}, {'subjekt': 'FrmR', 'predikat': 'repressor', 'objekt': 'frmB'}, {'subjekt': 'FrmR', 'predikat': 'repressor', 'objekt': 'frmA'}]\n",
      "---------------------------\n",
      "132 286\n"
     ]
    },
    {
     "name": "stderr",
     "output_type": "stream",
     "text": [
      "C:\\Anaconda\\lib\\site-packages\\urllib3\\connectionpool.py:1061: InsecureRequestWarning: Unverified HTTPS request is being made to host 'regulondb.ccg.unam.mx'. Adding certificate verification is strongly advised. See: https://urllib3.readthedocs.io/en/1.26.x/advanced-usage.html#ssl-warnings\n",
      "  warnings.warn(\n"
     ]
    },
    {
     "name": "stdout",
     "output_type": "stream",
     "text": [
      "success:\n",
      "[{'subjekt': 'MelR', 'predikat': 'dual', 'objekt': 'melR'}, {'subjekt': 'MelR', 'predikat': 'dual', 'objekt': 'melA'}, {'subjekt': 'MelR', 'predikat': 'dual', 'objekt': 'melB'}]\n",
      "---------------------------\n",
      "133 286\n"
     ]
    },
    {
     "name": "stderr",
     "output_type": "stream",
     "text": [
      "C:\\Anaconda\\lib\\site-packages\\urllib3\\connectionpool.py:1061: InsecureRequestWarning: Unverified HTTPS request is being made to host 'regulondb.ccg.unam.mx'. Adding certificate verification is strongly advised. See: https://urllib3.readthedocs.io/en/1.26.x/advanced-usage.html#ssl-warnings\n",
      "  warnings.warn(\n"
     ]
    },
    {
     "name": "stdout",
     "output_type": "stream",
     "text": [
      "success:\n",
      "[{'subjekt': 'GalR', 'predikat': 'repressor', 'objekt': 'galP'}, {'subjekt': 'GalR', 'predikat': 'dual', 'objekt': 'galT'}, {'subjekt': 'GalR', 'predikat': 'dual', 'objekt': 'galM'}, {'subjekt': 'GalR', 'predikat': 'dual', 'objekt': 'galK'}, {'subjekt': 'GalR', 'predikat': 'dual', 'objekt': 'galE'}, {'subjekt': 'GalR', 'predikat': 'repressor', 'objekt': 'galR'}, {'subjekt': 'GalR', 'predikat': 'repressor', 'objekt': 'mglB'}, {'subjekt': 'GalR', 'predikat': 'repressor', 'objekt': 'mglA'}, {'subjekt': 'GalR', 'predikat': 'repressor', 'objekt': 'mglC'}, {'subjekt': 'GalR', 'predikat': 'repressor', 'objekt': 'galS'}]\n",
      "---------------------------\n",
      "134 286\n"
     ]
    },
    {
     "name": "stderr",
     "output_type": "stream",
     "text": [
      "C:\\Anaconda\\lib\\site-packages\\urllib3\\connectionpool.py:1061: InsecureRequestWarning: Unverified HTTPS request is being made to host 'regulondb.ccg.unam.mx'. Adding certificate verification is strongly advised. See: https://urllib3.readthedocs.io/en/1.26.x/advanced-usage.html#ssl-warnings\n",
      "  warnings.warn(\n"
     ]
    },
    {
     "name": "stdout",
     "output_type": "stream",
     "text": [
      "success:\n",
      "[{'subjekt': 'McbR', 'predikat': 'repressor', 'objekt': 'mcbA'}, {'subjekt': 'McbR', 'predikat': 'activator', 'objekt': 'yciE'}, {'subjekt': 'McbR', 'predikat': 'activator', 'objekt': 'yciG'}, {'subjekt': 'McbR', 'predikat': 'activator', 'objekt': 'yciF'}, {'subjekt': 'McbR', 'predikat': 'activator', 'objekt': 'rsd'}, {'subjekt': 'McbR', 'predikat': 'activator', 'objekt': 'rmf'}]\n",
      "---------------------------\n",
      "135 286\n"
     ]
    },
    {
     "name": "stderr",
     "output_type": "stream",
     "text": [
      "C:\\Anaconda\\lib\\site-packages\\urllib3\\connectionpool.py:1061: InsecureRequestWarning: Unverified HTTPS request is being made to host 'regulondb.ccg.unam.mx'. Adding certificate verification is strongly advised. See: https://urllib3.readthedocs.io/en/1.26.x/advanced-usage.html#ssl-warnings\n",
      "  warnings.warn(\n"
     ]
    },
    {
     "name": "stdout",
     "output_type": "stream",
     "text": [
      "success:\n",
      "[{'subjekt': 'XylR', 'predikat': 'repressor', 'objekt': 'araC'}, {'subjekt': 'XylR', 'predikat': 'activator', 'objekt': 'xylE'}, {'subjekt': 'XylR', 'predikat': 'activator', 'objekt': 'xylA'}, {'subjekt': 'XylR', 'predikat': 'activator', 'objekt': 'xylB'}, {'subjekt': 'XylR', 'predikat': 'activator', 'objekt': 'xylF'}, {'subjekt': 'XylR', 'predikat': 'activator', 'objekt': 'xylH'}, {'subjekt': 'XylR', 'predikat': 'activator', 'objekt': 'xylG'}, {'subjekt': 'XylR', 'predikat': 'activator', 'objekt': 'xylR'}]\n",
      "---------------------------\n",
      "136 286\n"
     ]
    },
    {
     "name": "stderr",
     "output_type": "stream",
     "text": [
      "C:\\Anaconda\\lib\\site-packages\\urllib3\\connectionpool.py:1061: InsecureRequestWarning: Unverified HTTPS request is being made to host 'regulondb.ccg.unam.mx'. Adding certificate verification is strongly advised. See: https://urllib3.readthedocs.io/en/1.26.x/advanced-usage.html#ssl-warnings\n",
      "  warnings.warn(\n"
     ]
    },
    {
     "name": "stdout",
     "output_type": "stream",
     "text": [
      "success:\n",
      "[{'subjekt': 'HdfR', 'predikat': 'activator', 'objekt': 'gltB'}, {'subjekt': 'HdfR', 'predikat': 'activator', 'objekt': 'gltD'}, {'subjekt': 'HdfR', 'predikat': 'activator', 'objekt': 'gltF'}, {'subjekt': 'HdfR', 'predikat': 'activator', 'objekt': 'maoP'}, {'subjekt': 'HdfR', 'predikat': 'repressor', 'objekt': 'flhD'}, {'subjekt': 'HdfR', 'predikat': 'repressor', 'objekt': 'flhC'}]\n",
      "---------------------------\n",
      "137 286\n"
     ]
    },
    {
     "name": "stderr",
     "output_type": "stream",
     "text": [
      "C:\\Anaconda\\lib\\site-packages\\urllib3\\connectionpool.py:1061: InsecureRequestWarning: Unverified HTTPS request is being made to host 'regulondb.ccg.unam.mx'. Adding certificate verification is strongly advised. See: https://urllib3.readthedocs.io/en/1.26.x/advanced-usage.html#ssl-warnings\n",
      "  warnings.warn(\n"
     ]
    },
    {
     "name": "stdout",
     "output_type": "stream",
     "text": [
      "success:\n",
      "[{'subjekt': 'HcaR', 'predikat': 'activator', 'objekt': 'hcaD'}, {'subjekt': 'HcaR', 'predikat': 'activator', 'objekt': 'hcaB'}, {'subjekt': 'HcaR', 'predikat': 'activator', 'objekt': 'hcaC'}, {'subjekt': 'HcaR', 'predikat': 'activator', 'objekt': 'hcaE'}, {'subjekt': 'HcaR', 'predikat': 'activator', 'objekt': 'hcaF'}, {'subjekt': 'HcaR', 'predikat': 'repressor', 'objekt': 'hcaR'}, {'subjekt': 'HcaR', 'predikat': 'repressor', 'objekt': 'iroK'}]\n",
      "---------------------------\n",
      "138 286\n"
     ]
    },
    {
     "name": "stderr",
     "output_type": "stream",
     "text": [
      "C:\\Anaconda\\lib\\site-packages\\urllib3\\connectionpool.py:1061: InsecureRequestWarning: Unverified HTTPS request is being made to host 'regulondb.ccg.unam.mx'. Adding certificate verification is strongly advised. See: https://urllib3.readthedocs.io/en/1.26.x/advanced-usage.html#ssl-warnings\n",
      "  warnings.warn(\n"
     ]
    },
    {
     "name": "stdout",
     "output_type": "stream",
     "text": [
      "success:\n",
      "[{'subjekt': 'Fur', 'predikat': 'activator', 'objekt': 'ftnA'}, {'subjekt': 'Fur', 'predikat': 'repressor', 'objekt': 'oppF'}, {'subjekt': 'Fur', 'predikat': 'repressor', 'objekt': 'oppC'}, {'subjekt': 'Fur', 'predikat': 'repressor', 'objekt': 'oppA'}, {'subjekt': 'Fur', 'predikat': 'repressor', 'objekt': 'oppD'}, {'subjekt': 'Fur', 'predikat': 'repressor', 'objekt': 'oppB'}, {'subjekt': 'Fur', 'predikat': 'repressor', 'objekt': 'garK'}, {'subjekt': 'Fur', 'predikat': 'repressor', 'objekt': 'rnpB'}, {'subjekt': 'Fur', 'predikat': 'repressor', 'objekt': 'garR'}, {'subjekt': 'Fur', 'predikat': 'repressor', 'objekt': 'garP'}, {'subjekt': 'Fur', 'predikat': 'repressor', 'objekt': 'garL'}, {'subjekt': 'Fur', 'predikat': 'repressor', 'objekt': 'gspC'}, {'subjekt': 'Fur', 'predikat': 'repressor', 'objekt': 'gspM'}, {'subjekt': 'Fur', 'predikat': 'repressor', 'objekt': 'gspO'}, {'subjekt': 'Fur', 'predikat': 'repressor', 'objekt': 'gspG'}, {'subjekt': 'Fur', 'predikat': 'repressor', 'objekt': 'gspE'}, {'subjekt': 'Fur', 'predikat': 'repressor', 'objekt': 'gspK'}, {'subjekt': 'Fur', 'predikat': 'repressor', 'objekt': 'gspD'}, {'subjekt': 'Fur', 'predikat': 'repressor', 'objekt': 'gspF'}, {'subjekt': 'Fur', 'predikat': 'repressor', 'objekt': 'gspJ'}, {'subjekt': 'Fur', 'predikat': 'repressor', 'objekt': 'gspL'}, {'subjekt': 'Fur', 'predikat': 'repressor', 'objekt': 'gspI'}, {'subjekt': 'Fur', 'predikat': 'repressor', 'objekt': 'gspH'}, {'subjekt': 'Fur', 'predikat': 'repressor', 'objekt': 'ryhB'}, {'subjekt': 'Fur', 'predikat': 'repressor', 'objekt': 'fhuF'}, {'subjekt': 'Fur', 'predikat': 'repressor', 'objekt': 'yjjZ'}, {'subjekt': 'Fur', 'predikat': 'repressor', 'objekt': 'sodA'}, {'subjekt': 'Fur', 'predikat': 'repressor', 'objekt': 'pyrC'}, {'subjekt': 'Fur', 'predikat': 'repressor', 'objekt': 'nfeF'}, {'subjekt': 'Fur', 'predikat': 'repressor', 'objekt': 'gltB'}, {'subjekt': 'Fur', 'predikat': 'repressor', 'objekt': 'gltD'}, {'subjekt': 'Fur', 'predikat': 'repressor', 'objekt': 'gltF'}, {'subjekt': 'Fur', 'predikat': 'repressor', 'objekt': 'gndA'}, {'subjekt': 'Fur', 'predikat': 'repressor', 'objekt': 'gnd'}, {'subjekt': 'Fur', 'predikat': 'repressor', 'objekt': 'fumC'}, {'subjekt': 'Fur', 'predikat': 'repressor', 'objekt': 'soxR'}, {'subjekt': 'Fur', 'predikat': 'repressor', 'objekt': 'soxS'}, {'subjekt': 'Fur', 'predikat': 'repressor', 'objekt': 'nac'}, {'subjekt': 'Fur', 'predikat': 'dual', 'objekt': 'glnK'}, {'subjekt': 'Fur', 'predikat': 'dual', 'objekt': 'amtB'}, {'subjekt': 'Fur', 'predikat': 'repressor', 'objekt': 'aspC'}, {'subjekt': 'Fur', 'predikat': 'repressor', 'objekt': 'glnD'}, {'subjekt': 'Fur', 'predikat': 'repressor', 'objekt': 'ndh'}, {'subjekt': 'Fur', 'predikat': 'repressor', 'objekt': 'zwf'}, {'subjekt': 'Fur', 'predikat': 'dual', 'objekt': 'gdhA'}, {'subjekt': 'Fur', 'predikat': 'repressor', 'objekt': 'fnr'}, {'subjekt': 'Fur', 'predikat': 'repressor', 'objekt': 'grcA'}, {'subjekt': 'Fur', 'predikat': 'dual', 'objekt': 'lpd'}, {'subjekt': 'Fur', 'predikat': 'activator', 'objekt': 'mntP'}, {'subjekt': 'Fur', 'predikat': 'repressor', 'objekt': 'rcnB'}, {'subjekt': 'Fur', 'predikat': 'repressor', 'objekt': 'rcnA'}, {'subjekt': 'Fur', 'predikat': 'activator', 'objekt': 'ompW'}, {'subjekt': 'Fur', 'predikat': 'activator', 'objekt': 'esrE'}, {'subjekt': 'Fur', 'predikat': 'activator', 'objekt': 'ompF'}, {'subjekt': 'Fur', 'predikat': 'repressor', 'objekt': 'gpmA'}, {'subjekt': 'Fur', 'predikat': 'activator', 'objekt': 'rmf'}, {'subjekt': 'Fur', 'predikat': 'repressor', 'objekt': 'rsd'}, {'subjekt': 'Fur', 'predikat': 'repressor', 'objekt': 'actP'}, {'subjekt': 'Fur', 'predikat': 'repressor', 'objekt': 'yjcH'}, {'subjekt': 'Fur', 'predikat': 'activator', 'objekt': 'araB'}, {'subjekt': 'Fur', 'predikat': 'activator', 'objekt': 'ansB'}, {'subjekt': 'Fur', 'predikat': 'activator', 'objekt': 'xynR'}, {'subjekt': 'Fur', 'predikat': 'activator', 'objekt': 'argF'}, {'subjekt': 'Fur', 'predikat': 'repressor', 'objekt': 'argG'}, {'subjekt': 'Fur', 'predikat': 'repressor', 'objekt': 'mocA'}, {'subjekt': 'Fur', 'predikat': 'repressor', 'objekt': 'bfd'}, {'subjekt': 'Fur', 'predikat': 'activator', 'objekt': 'narQ'}, {'subjekt': 'Fur', 'predikat': 'repressor', 'objekt': 'paaI'}, {'subjekt': 'Fur', 'predikat': 'repressor', 'objekt': 'paaB'}, {'subjekt': 'Fur', 'predikat': 'repressor', 'objekt': 'paaA'}, {'subjekt': 'Fur', 'predikat': 'repressor', 'objekt': 'paaK'}, {'subjekt': 'Fur', 'predikat': 'repressor', 'objekt': 'paaC'}, {'subjekt': 'Fur', 'predikat': 'repressor', 'objekt': 'paaH'}, {'subjekt': 'Fur', 'predikat': 'repressor', 'objekt': 'paaF'}, {'subjekt': 'Fur', 'predikat': 'repressor', 'objekt': 'paaG'}, {'subjekt': 'Fur', 'predikat': 'repressor', 'objekt': 'paaJ'}, {'subjekt': 'Fur', 'predikat': 'repressor', 'objekt': 'paaE'}, {'subjekt': 'Fur', 'predikat': 'repressor', 'objekt': 'paaD'}, {'subjekt': 'Fur', 'predikat': 'activator', 'objekt': 'bssR'}, {'subjekt': 'Fur', 'predikat': 'activator', 'objekt': 'cadC'}, {'subjekt': 'Fur', 'predikat': 'activator', 'objekt': 'cusC'}, {'subjekt': 'Fur', 'predikat': 'activator', 'objekt': 'dmsB'}, {'subjekt': 'Fur', 'predikat': 'activator', 'objekt': 'dmsC'}, {'subjekt': 'Fur', 'predikat': 'activator', 'objekt': 'dmsA'}, {'subjekt': 'Fur', 'predikat': 'repressor', 'objekt': 'eamA'}, {'subjekt': 'Fur', 'predikat': 'repressor', 'objekt': 'efeO'}, {'subjekt': 'Fur', 'predikat': 'repressor', 'objekt': 'efeB'}, {'subjekt': 'Fur', 'predikat': 'repressor', 'objekt': 'erpA'}, {'subjekt': 'Fur', 'predikat': 'activator', 'objekt': 'ftnB'}, {'subjekt': 'Fur', 'predikat': 'activator', 'objekt': 'glpK'}, {'subjekt': 'Fur', 'predikat': 'activator', 'objekt': 'glpF'}, {'subjekt': 'Fur', 'predikat': 'activator', 'objekt': 'pepE'}, {'subjekt': 'Fur', 'predikat': 'repressor', 'objekt': 'pstB'}, {'subjekt': 'Fur', 'predikat': 'repressor', 'objekt': 'purL'}, {'subjekt': 'Fur', 'predikat': 'activator', 'objekt': 'qorA'}, {'subjekt': 'Fur', 'predikat': 'repressor', 'objekt': 'recN'}, {'subjekt': 'Fur', 'predikat': 'repressor', 'objekt': 'rimO'}, {'subjekt': 'Fur', 'predikat': 'repressor', 'objekt': 'rsxG'}, {'subjekt': 'Fur', 'predikat': 'repressor', 'objekt': 'rsxE'}, {'subjekt': 'Fur', 'predikat': 'repressor', 'objekt': 'rsxD'}, {'subjekt': 'Fur', 'predikat': 'repressor', 'objekt': 'rsxC'}, {'subjekt': 'Fur', 'predikat': 'repressor', 'objekt': 'rsxB'}, {'subjekt': 'Fur', 'predikat': 'repressor', 'objekt': 'rsxA'}, {'subjekt': 'Fur', 'predikat': 'repressor', 'objekt': 'nth'}, {'subjekt': 'Fur', 'predikat': 'activator', 'objekt': 'gpr'}, {'subjekt': 'Fur', 'predikat': 'repressor', 'objekt': 'hcaR'}, {'subjekt': 'Fur', 'predikat': 'activator', 'objekt': 'hybO'}, {'subjekt': 'Fur', 'predikat': 'repressor', 'objekt': 'adhP'}, {'subjekt': 'Fur', 'predikat': 'repressor', 'objekt': 'maeB'}, {'subjekt': 'Fur', 'predikat': 'activator', 'objekt': 'yobD'}, {'subjekt': 'Fur', 'predikat': 'activator', 'objekt': 'manY'}, {'subjekt': 'Fur', 'predikat': 'activator', 'objekt': 'manZ'}, {'subjekt': 'Fur', 'predikat': 'activator', 'objekt': 'manX'}, {'subjekt': 'Fur', 'predikat': 'repressor', 'objekt': 'map'}, {'subjekt': 'Fur', 'predikat': 'repressor', 'objekt': 'mdtL'}, {'subjekt': 'Fur', 'predikat': 'repressor', 'objekt': 'tauC'}, {'subjekt': 'Fur', 'predikat': 'repressor', 'objekt': 'tauB'}, {'subjekt': 'Fur', 'predikat': 'repressor', 'objekt': 'tauA'}, {'subjekt': 'Fur', 'predikat': 'repressor', 'objekt': 'fecE'}, {'subjekt': 'Fur', 'predikat': 'repressor', 'objekt': 'fecR'}, {'subjekt': 'Fur', 'predikat': 'repressor', 'objekt': 'feoA'}, {'subjekt': 'Fur', 'predikat': 'activator', 'objekt': 'udp'}, {'subjekt': 'Fur', 'predikat': 'repressor', 'objekt': 'ugpB'}, {'subjekt': 'Fur', 'predikat': 'repressor', 'objekt': 'ugpA'}, {'subjekt': 'Fur', 'predikat': 'repressor', 'objekt': 'ugpE'}, {'subjekt': 'Fur', 'predikat': 'activator', 'objekt': 'uxaB'}, {'subjekt': 'Fur', 'predikat': 'repressor', 'objekt': 'fepA'}, {'subjekt': 'Fur', 'predikat': 'repressor', 'objekt': 'entD'}, {'subjekt': 'Fur', 'predikat': 'activator', 'objekt': 'uxaC'}, {'subjekt': 'Fur', 'predikat': 'repressor', 'objekt': 'fhuA'}, {'subjekt': 'Fur', 'predikat': 'repressor', 'objekt': 'fhuB'}, {'subjekt': 'Fur', 'predikat': 'repressor', 'objekt': 'fhuC'}, {'subjekt': 'Fur', 'predikat': 'repressor', 'objekt': 'fhuD'}, {'subjekt': 'Fur', 'predikat': 'activator', 'objekt': 'glnG'}, {'subjekt': 'Fur', 'predikat': 'activator', 'objekt': 'glnL'}, {'subjekt': 'Fur', 'predikat': 'repressor', 'objekt': 'waaL'}, {'subjekt': 'Fur', 'predikat': 'repressor', 'objekt': 'ybaN'}, {'subjekt': 'Fur', 'predikat': 'activator', 'objekt': 'dppF'}, {'subjekt': 'Fur', 'predikat': 'activator', 'objekt': 'dppB'}, {'subjekt': 'Fur', 'predikat': 'activator', 'objekt': 'dppC'}, {'subjekt': 'Fur', 'predikat': 'activator', 'objekt': 'dppD'}, {'subjekt': 'Fur', 'predikat': 'repressor', 'objekt': 'cirA'}, {'subjekt': 'Fur', 'predikat': 'repressor', 'objekt': 'ybiU'}, {'subjekt': 'Fur', 'predikat': 'repressor', 'objekt': 'ortT'}, {'subjekt': 'Fur', 'predikat': 'repressor', 'objekt': 'yddA'}, {'subjekt': 'Fur', 'predikat': 'repressor', 'objekt': 'yddB'}, {'subjekt': 'Fur', 'predikat': 'repressor', 'objekt': 'ydiE'}, {'subjekt': 'Fur', 'predikat': 'repressor', 'objekt': 'selO'}, {'subjekt': 'Fur', 'predikat': 'repressor', 'objekt': 'tcyN'}, {'subjekt': 'Fur', 'predikat': 'repressor', 'objekt': 'yejG'}, {'subjekt': 'Fur', 'predikat': 'activator', 'objekt': 'yfcV'}, {'subjekt': 'Fur', 'predikat': 'activator', 'objekt': 'pdeF'}, {'subjekt': 'Fur', 'predikat': 'activator', 'objekt': 'yhcC'}, {'subjekt': 'Fur', 'predikat': 'repressor', 'objekt': 'yhjE'}, {'subjekt': 'Fur', 'predikat': 'activator', 'objekt': 'yihN'}, {'subjekt': 'Fur', 'predikat': 'activator', 'objekt': 'yihX'}, {'subjekt': 'Fur', 'predikat': 'repressor', 'objekt': 'yjbJ'}, {'subjekt': 'Fur', 'predikat': 'repressor', 'objekt': 'yjiR'}, {'subjekt': 'Fur', 'predikat': 'repressor', 'objekt': 'pqqU'}, {'subjekt': 'Fur', 'predikat': 'repressor', 'objekt': 'yncE'}, {'subjekt': 'Fur', 'predikat': 'repressor', 'objekt': 'yojI'}, {'subjekt': 'Fur', 'predikat': 'activator', 'objekt': 'yqeC'}, {'subjekt': 'Fur', 'predikat': 'activator', 'objekt': 'yqeB'}, {'subjekt': 'Fur', 'predikat': 'activator', 'objekt': 'yqhD'}, {'subjekt': 'Fur', 'predikat': 'activator', 'objekt': 'dkgA'}, {'subjekt': 'Fur', 'predikat': 'activator', 'objekt': 'zapB'}, {'subjekt': 'Fur', 'predikat': 'repressor', 'objekt': 'metH'}, {'subjekt': 'Fur', 'predikat': 'repressor', 'objekt': 'fur'}, {'subjekt': 'Fur', 'predikat': 'repressor', 'objekt': 'fecA'}, {'subjekt': 'Fur', 'predikat': 'repressor', 'objekt': 'fecB'}, {'subjekt': 'Fur', 'predikat': 'repressor', 'objekt': 'fecD'}, {'subjekt': 'Fur', 'predikat': 'repressor', 'objekt': 'fecC'}, {'subjekt': 'Fur', 'predikat': 'repressor', 'objekt': 'fepB'}, {'subjekt': 'Fur', 'predikat': 'repressor', 'objekt': 'fepG'}, {'subjekt': 'Fur', 'predikat': 'repressor', 'objekt': 'fepD'}, {'subjekt': 'Fur', 'predikat': 'repressor', 'objekt': 'fepC'}, {'subjekt': 'Fur', 'predikat': 'repressor', 'objekt': 'entC'}, {'subjekt': 'Fur', 'predikat': 'repressor', 'objekt': 'entE'}, {'subjekt': 'Fur', 'predikat': 'repressor', 'objekt': 'entA'}, {'subjekt': 'Fur', 'predikat': 'repressor', 'objekt': 'entB'}, {'subjekt': 'Fur', 'predikat': 'repressor', 'objekt': 'entH'}, {'subjekt': 'Fur', 'predikat': 'repressor', 'objekt': 'flhD'}, {'subjekt': 'Fur', 'predikat': 'repressor', 'objekt': 'flhC'}, {'subjekt': 'Fur', 'predikat': 'repressor', 'objekt': 'purR'}, {'subjekt': 'Fur', 'predikat': 'dual', 'objekt': 'tonB'}, {'subjekt': 'Fur', 'predikat': 'repressor', 'objekt': 'fecI'}, {'subjekt': 'Fur', 'predikat': 'activator', 'objekt': 'fumB'}, {'subjekt': 'Fur', 'predikat': 'repressor', 'objekt': 'cyoB'}, {'subjekt': 'Fur', 'predikat': 'repressor', 'objekt': 'cyoD'}, {'subjekt': 'Fur', 'predikat': 'repressor', 'objekt': 'cyoC'}, {'subjekt': 'Fur', 'predikat': 'repressor', 'objekt': 'cyoA'}, {'subjekt': 'Fur', 'predikat': 'repressor', 'objekt': 'cyoE'}, {'subjekt': 'Fur', 'predikat': 'dual', 'objekt': 'sdhA'}, {'subjekt': 'Fur', 'predikat': 'activator', 'objekt': 'sdhX'}, {'subjekt': 'Fur', 'predikat': 'activator', 'objekt': 'sucB'}, {'subjekt': 'Fur', 'predikat': 'activator', 'objekt': 'sucA'}, {'subjekt': 'Fur', 'predikat': 'dual', 'objekt': 'sdhB'}, {'subjekt': 'Fur', 'predikat': 'dual', 'objekt': 'sdhD'}, {'subjekt': 'Fur', 'predikat': 'activator', 'objekt': 'sucD'}, {'subjekt': 'Fur', 'predikat': 'dual', 'objekt': 'sdhC'}, {'subjekt': 'Fur', 'predikat': 'activator', 'objekt': 'sucC'}, {'subjekt': 'Fur', 'predikat': 'activator', 'objekt': 'yhhY'}, {'subjekt': 'Fur', 'predikat': 'repressor', 'objekt': 'tfaQ'}, {'subjekt': 'Fur', 'predikat': 'repressor', 'objekt': 'nohA'}, {'subjekt': 'Fur', 'predikat': 'repressor', 'objekt': 'stfQ'}, {'subjekt': 'Fur', 'predikat': 'repressor', 'objekt': 'mntH'}, {'subjekt': 'Fur', 'predikat': 'dual', 'objekt': 'entS'}, {'subjekt': 'Fur', 'predikat': 'repressor', 'objekt': 'ygaC'}, {'subjekt': 'Fur', 'predikat': 'repressor', 'objekt': 'fhuE'}, {'subjekt': 'Fur', 'predikat': 'repressor', 'objekt': 'sufB'}, {'subjekt': 'Fur', 'predikat': 'repressor', 'objekt': 'sufE'}, {'subjekt': 'Fur', 'predikat': 'repressor', 'objekt': 'sufS'}, {'subjekt': 'Fur', 'predikat': 'repressor', 'objekt': 'sufD'}, {'subjekt': 'Fur', 'predikat': 'repressor', 'objekt': 'sufA'}, {'subjekt': 'Fur', 'predikat': 'repressor', 'objekt': 'sufC'}, {'subjekt': 'Fur', 'predikat': 'repressor', 'objekt': 'metJ'}, {'subjekt': 'Fur', 'predikat': 'repressor', 'objekt': 'fiu'}, {'subjekt': 'Fur', 'predikat': 'repressor', 'objekt': 'exbB'}, {'subjekt': 'Fur', 'predikat': 'repressor', 'objekt': 'exbD'}, {'subjekt': 'Fur', 'predikat': 'repressor', 'objekt': 'nrdH'}, {'subjekt': 'Fur', 'predikat': 'repressor', 'objekt': 'nrdE'}, {'subjekt': 'Fur', 'predikat': 'repressor', 'objekt': 'nrdI'}, {'subjekt': 'Fur', 'predikat': 'repressor', 'objekt': 'nrdF'}, {'subjekt': 'Fur', 'predikat': 'repressor', 'objekt': 'fes'}, {'subjekt': 'Fur', 'predikat': 'repressor', 'objekt': 'ybdZ'}, {'subjekt': 'Fur', 'predikat': 'repressor', 'objekt': 'fepE'}, {'subjekt': 'Fur', 'predikat': 'repressor', 'objekt': 'entF'}, {'subjekt': 'Fur', 'predikat': 'activator', 'objekt': 'zinT'}, {'subjekt': 'Fur', 'predikat': 'repressor', 'objekt': 'feoB'}, {'subjekt': 'Fur', 'predikat': 'repressor', 'objekt': 'feoC'}, {'subjekt': 'Fur', 'predikat': 'repressor', 'objekt': 'hmp'}, {'subjekt': 'Fur', 'predikat': 'activator', 'objekt': 'katG'}, {'subjekt': 'Fur', 'predikat': 'activator', 'objekt': 'katE'}, {'subjekt': 'Fur', 'predikat': 'repressor', 'objekt': 'rpoS'}, {'subjekt': 'Fur', 'predikat': 'activator', 'objekt': 'tqsA'}]\n",
      "---------------------------\n",
      "139 286\n"
     ]
    },
    {
     "name": "stderr",
     "output_type": "stream",
     "text": [
      "C:\\Anaconda\\lib\\site-packages\\urllib3\\connectionpool.py:1061: InsecureRequestWarning: Unverified HTTPS request is being made to host 'regulondb.ccg.unam.mx'. Adding certificate verification is strongly advised. See: https://urllib3.readthedocs.io/en/1.26.x/advanced-usage.html#ssl-warnings\n",
      "  warnings.warn(\n"
     ]
    },
    {
     "name": "stdout",
     "output_type": "stream",
     "text": [
      "success:\n",
      "[{'subjekt': 'QseB', 'predikat': 'dual', 'objekt': 'feaR'}, {'subjekt': 'QseB', 'predikat': 'activator', 'objekt': 'fimA'}, {'subjekt': 'QseB', 'predikat': 'activator', 'objekt': 'fimD'}, {'subjekt': 'QseB', 'predikat': 'activator', 'objekt': 'fimG'}, {'subjekt': 'QseB', 'predikat': 'activator', 'objekt': 'fimC'}, {'subjekt': 'QseB', 'predikat': 'activator', 'objekt': 'fimR2'}, {'subjekt': 'QseB', 'predikat': 'activator', 'objekt': 'fimI'}, {'subjekt': 'QseB', 'predikat': 'activator', 'objekt': 'fimF'}, {'subjekt': 'QseB', 'predikat': 'activator', 'objekt': 'fimH'}, {'subjekt': 'QseB', 'predikat': 'repressor', 'objekt': 'dnaA'}, {'subjekt': 'QseB', 'predikat': 'activator', 'objekt': 'flhD'}, {'subjekt': 'QseB', 'predikat': 'activator', 'objekt': 'flhC'}, {'subjekt': 'QseB', 'predikat': 'activator', 'objekt': 'qseB'}, {'subjekt': 'QseB', 'predikat': 'activator', 'objekt': 'qseC'}]\n",
      "---------------------------\n",
      "140 286\n"
     ]
    },
    {
     "name": "stderr",
     "output_type": "stream",
     "text": [
      "C:\\Anaconda\\lib\\site-packages\\urllib3\\connectionpool.py:1061: InsecureRequestWarning: Unverified HTTPS request is being made to host 'regulondb.ccg.unam.mx'. Adding certificate verification is strongly advised. See: https://urllib3.readthedocs.io/en/1.26.x/advanced-usage.html#ssl-warnings\n",
      "  warnings.warn(\n"
     ]
    },
    {
     "name": "stdout",
     "output_type": "stream",
     "text": [
      "success:\n",
      "[{'subjekt': 'RcsB-BglJ', 'predikat': 'activator', 'objekt': 'leuO'}, {'subjekt': 'RcsB-BglJ', 'predikat': 'activator', 'objekt': 'yehF'}, {'subjekt': 'RcsB-BglJ', 'predikat': 'activator', 'objekt': 'sfsB'}, {'subjekt': 'RcsB-BglJ', 'predikat': 'activator', 'objekt': 'yecT'}, {'subjekt': 'RcsB-BglJ', 'predikat': 'activator', 'objekt': 'yqhG'}, {'subjekt': 'RcsB-BglJ', 'predikat': 'activator', 'objekt': 'ygiZ'}, {'subjekt': 'RcsB-BglJ', 'predikat': 'activator', 'objekt': 'yidL'}, {'subjekt': 'RcsB-BglJ', 'predikat': 'activator', 'objekt': 'ykiA'}, {'subjekt': 'RcsB-BglJ', 'predikat': 'activator', 'objekt': 'ynbB'}, {'subjekt': 'RcsB-BglJ', 'predikat': 'activator', 'objekt': 'ynbD'}, {'subjekt': 'RcsB-BglJ', 'predikat': 'activator', 'objekt': 'ynbC'}, {'subjekt': 'RcsB-BglJ', 'predikat': 'activator', 'objekt': 'ynbA'}, {'subjekt': 'RcsB-BglJ', 'predikat': 'activator', 'objekt': 'ynjI'}, {'subjekt': 'RcsB-BglJ', 'predikat': 'activator', 'objekt': 'bglG'}, {'subjekt': 'RcsB-BglJ', 'predikat': 'activator', 'objekt': 'bglB'}, {'subjekt': 'RcsB-BglJ', 'predikat': 'activator', 'objekt': 'bglF'}]\n",
      "---------------------------\n",
      "141 286\n"
     ]
    },
    {
     "name": "stderr",
     "output_type": "stream",
     "text": [
      "C:\\Anaconda\\lib\\site-packages\\urllib3\\connectionpool.py:1061: InsecureRequestWarning: Unverified HTTPS request is being made to host 'regulondb.ccg.unam.mx'. Adding certificate verification is strongly advised. See: https://urllib3.readthedocs.io/en/1.26.x/advanced-usage.html#ssl-warnings\n",
      "  warnings.warn(\n"
     ]
    },
    {
     "name": "stdout",
     "output_type": "stream",
     "text": [
      "success:\n",
      "[{'subjekt': 'AppY', 'predikat': 'activator', 'objekt': 'hyaD'}, {'subjekt': 'AppY', 'predikat': 'activator', 'objekt': 'hyaA'}, {'subjekt': 'AppY', 'predikat': 'activator', 'objekt': 'hyaC'}, {'subjekt': 'AppY', 'predikat': 'activator', 'objekt': 'hyaB'}, {'subjekt': 'AppY', 'predikat': 'activator', 'objekt': 'hyaF'}, {'subjekt': 'AppY', 'predikat': 'activator', 'objekt': 'hyaE'}, {'subjekt': 'AppY', 'predikat': 'activator', 'objekt': 'appC'}, {'subjekt': 'AppY', 'predikat': 'activator', 'objekt': 'appX'}, {'subjekt': 'AppY', 'predikat': 'activator', 'objekt': 'appB'}, {'subjekt': 'AppY', 'predikat': 'activator', 'objekt': 'appA'}]\n",
      "---------------------------\n",
      "142 286\n"
     ]
    },
    {
     "name": "stderr",
     "output_type": "stream",
     "text": [
      "C:\\Anaconda\\lib\\site-packages\\urllib3\\connectionpool.py:1061: InsecureRequestWarning: Unverified HTTPS request is being made to host 'regulondb.ccg.unam.mx'. Adding certificate verification is strongly advised. See: https://urllib3.readthedocs.io/en/1.26.x/advanced-usage.html#ssl-warnings\n",
      "  warnings.warn(\n"
     ]
    },
    {
     "name": "stdout",
     "output_type": "stream",
     "text": [
      "success:\n",
      "[{'subjekt': 'RtcR', 'predikat': 'activator', 'objekt': 'rtcB'}, {'subjekt': 'RtcR', 'predikat': 'activator', 'objekt': 'rtcA'}]\n",
      "---------------------------\n",
      "143 286\n"
     ]
    },
    {
     "name": "stderr",
     "output_type": "stream",
     "text": [
      "C:\\Anaconda\\lib\\site-packages\\urllib3\\connectionpool.py:1061: InsecureRequestWarning: Unverified HTTPS request is being made to host 'regulondb.ccg.unam.mx'. Adding certificate verification is strongly advised. See: https://urllib3.readthedocs.io/en/1.26.x/advanced-usage.html#ssl-warnings\n",
      "  warnings.warn(\n"
     ]
    },
    {
     "name": "stdout",
     "output_type": "stream",
     "text": [
      "success:\n",
      "[{'subjekt': 'ArcA', 'predikat': 'repressor', 'objekt': 'puuP'}, {'subjekt': 'ArcA', 'predikat': 'repressor', 'objekt': 'ymjE'}, {'subjekt': 'ArcA', 'predikat': 'repressor', 'objekt': 'puuA'}, {'subjekt': 'ArcA', 'predikat': 'repressor', 'objekt': 'puuC'}, {'subjekt': 'ArcA', 'predikat': 'repressor', 'objekt': 'puuD'}, {'subjekt': 'ArcA', 'predikat': 'repressor', 'objekt': 'puuB'}, {'subjekt': 'ArcA', 'predikat': 'repressor', 'objekt': 'puuE'}, {'subjekt': 'ArcA', 'predikat': 'repressor', 'objekt': 'puuR'}, {'subjekt': 'ArcA', 'predikat': 'activator', 'objekt': 'ybdN'}, {'subjekt': 'ArcA', 'predikat': 'activator', 'objekt': 'iraM'}, {'subjekt': 'ArcA', 'predikat': 'repressor', 'objekt': 'fadH'}, {'subjekt': 'ArcA', 'predikat': 'repressor', 'objekt': 'arcZ'}, {'subjekt': 'ArcA', 'predikat': 'repressor', 'objekt': 'citC'}, {'subjekt': 'ArcA', 'predikat': 'repressor', 'objekt': 'citE'}, {'subjekt': 'ArcA', 'predikat': 'repressor', 'objekt': 'citF'}, {'subjekt': 'ArcA', 'predikat': 'repressor', 'objekt': 'citD'}, {'subjekt': 'ArcA', 'predikat': 'repressor', 'objekt': 'citG'}, {'subjekt': 'ArcA', 'predikat': 'repressor', 'objekt': 'citX'}, {'subjekt': 'ArcA', 'predikat': 'activator', 'objekt': 'dpiB'}, {'subjekt': 'ArcA', 'predikat': 'activator', 'objekt': 'dpiA'}, {'subjekt': 'ArcA', 'predikat': 'activator', 'objekt': 'hyaD'}, {'subjekt': 'ArcA', 'predikat': 'activator', 'objekt': 'hyaA'}, {'subjekt': 'ArcA', 'predikat': 'activator', 'objekt': 'hyaC'}, {'subjekt': 'ArcA', 'predikat': 'activator', 'objekt': 'hyaB'}, {'subjekt': 'ArcA', 'predikat': 'activator', 'objekt': 'hyaF'}, {'subjekt': 'ArcA', 'predikat': 'activator', 'objekt': 'hyaE'}, {'subjekt': 'ArcA', 'predikat': 'activator', 'objekt': 'gadE'}, {'subjekt': 'ArcA', 'predikat': 'activator', 'objekt': 'gadF'}, {'subjekt': 'ArcA', 'predikat': 'repressor', 'objekt': 'ompW'}, {'subjekt': 'ArcA', 'predikat': 'activator', 'objekt': 'appY'}, {'subjekt': 'ArcA', 'predikat': 'repressor', 'objekt': 'rsd'}, {'subjekt': 'ArcA', 'predikat': 'repressor', 'objekt': 'rmf'}, {'subjekt': 'ArcA', 'predikat': 'activator', 'objekt': 'dsbB'}, {'subjekt': 'ArcA', 'predikat': 'repressor', 'objekt': 'ynaJ'}, {'subjekt': 'ArcA', 'predikat': 'repressor', 'objekt': 'mqo'}, {'subjekt': 'ArcA', 'predikat': 'repressor', 'objekt': 'ndk'}, {'subjekt': 'ArcA', 'predikat': 'activator', 'objekt': 'yfiF'}, {'subjekt': 'ArcA', 'predikat': 'repressor', 'objekt': 'kgtP'}, {'subjekt': 'ArcA', 'predikat': 'activator', 'objekt': 'pncB'}, {'subjekt': 'ArcA', 'predikat': 'repressor', 'objekt': 'yhjE'}, {'subjekt': 'ArcA', 'predikat': 'activator', 'objekt': 'yhgE'}, {'subjekt': 'ArcA', 'predikat': 'activator', 'objekt': 'acpP'}, {'subjekt': 'ArcA', 'predikat': 'repressor', 'objekt': 'aldA'}, {'subjekt': 'ArcA', 'predikat': 'activator', 'objekt': 'arcA'}, {'subjekt': 'ArcA', 'predikat': 'activator', 'objekt': 'argR'}, {'subjekt': 'ArcA', 'predikat': 'repressor', 'objekt': 'argT'}, {'subjekt': 'ArcA', 'predikat': 'activator', 'objekt': 'carA'}, {'subjekt': 'ArcA', 'predikat': 'repressor', 'objekt': 'glaH'}, {'subjekt': 'ArcA', 'predikat': 'repressor', 'objekt': 'cycA'}, {'subjekt': 'ArcA', 'predikat': 'activator', 'objekt': 'cydA'}, {'subjekt': 'ArcA', 'predikat': 'repressor', 'objekt': 'cyoA'}, {'subjekt': 'ArcA', 'predikat': 'activator', 'objekt': 'dcuA'}, {'subjekt': 'ArcA', 'predikat': 'activator', 'objekt': 'dcuB'}, {'subjekt': 'ArcA', 'predikat': 'activator', 'objekt': 'dppA'}, {'subjekt': 'ArcA', 'predikat': 'repressor', 'objekt': 'fadE'}, {'subjekt': 'ArcA', 'predikat': 'repressor', 'objekt': 'feoA'}, {'subjekt': 'ArcA', 'predikat': 'dual', 'objekt': 'focA'}, {'subjekt': 'ArcA', 'predikat': 'repressor', 'objekt': 'folE'}, {'subjekt': 'ArcA', 'predikat': 'repressor', 'objekt': 'fumA'}, {'subjekt': 'ArcA', 'predikat': 'activator', 'objekt': 'gcvB'}, {'subjekt': 'ArcA', 'predikat': 'repressor', 'objekt': 'glcC'}, {'subjekt': 'ArcA', 'predikat': 'repressor', 'objekt': 'glpD'}, {'subjekt': 'ArcA', 'predikat': 'repressor', 'objekt': 'glpE'}, {'subjekt': 'ArcA', 'predikat': 'repressor', 'objekt': 'kdpA'}, {'subjekt': 'ArcA', 'predikat': 'activator', 'objekt': 'manA'}, {'subjekt': 'ArcA', 'predikat': 'repressor', 'objekt': 'mdh'}, {'subjekt': 'ArcA', 'predikat': 'activator', 'objekt': 'micF'}, {'subjekt': 'ArcA', 'predikat': 'repressor', 'objekt': 'msrB'}, {'subjekt': 'ArcA', 'predikat': 'repressor', 'objekt': 'nudE'}, {'subjekt': 'ArcA', 'predikat': 'activator', 'objekt': 'nupC'}, {'subjekt': 'ArcA', 'predikat': 'dual', 'objekt': 'oppA'}, {'subjekt': 'ArcA', 'predikat': 'repressor', 'objekt': 'osmY'}, {'subjekt': 'ArcA', 'predikat': 'repressor', 'objekt': 'pepN'}, {'subjekt': 'ArcA', 'predikat': 'repressor', 'objekt': 'phoH'}, {'subjekt': 'ArcA', 'predikat': 'activator', 'objekt': 'pldA'}, {'subjekt': 'ArcA', 'predikat': 'activator', 'objekt': 'pntA'}, {'subjekt': 'ArcA', 'predikat': 'repressor', 'objekt': 'potF'}, {'subjekt': 'ArcA', 'predikat': 'repressor', 'objekt': 'putA'}, {'subjekt': 'ArcA', 'predikat': 'repressor', 'objekt': 'putP'}, {'subjekt': 'ArcA', 'predikat': 'activator', 'objekt': 'rho'}, {'subjekt': 'ArcA', 'predikat': 'activator', 'objekt': 'rstA'}, {'subjekt': 'ArcA', 'predikat': 'activator', 'objekt': 'sstT'}, {'subjekt': 'ArcA', 'predikat': 'repressor', 'objekt': 'sthA'}, {'subjekt': 'ArcA', 'predikat': 'repressor', 'objekt': 'thiC'}, {'subjekt': 'ArcA', 'predikat': 'repressor', 'objekt': 'thrA'}, {'subjekt': 'ArcA', 'predikat': 'repressor', 'objekt': 'tpx'}, {'subjekt': 'ArcA', 'predikat': 'repressor', 'objekt': 'xthA'}, {'subjekt': 'ArcA', 'predikat': 'activator', 'objekt': 'ybfA'}, {'subjekt': 'ArcA', 'predikat': 'repressor', 'objekt': 'ybiU'}, {'subjekt': 'ArcA', 'predikat': 'repressor', 'objekt': 'ydgC'}, {'subjekt': 'ArcA', 'predikat': 'repressor', 'objekt': 'yeiQ'}, {'subjekt': 'ArcA', 'predikat': 'repressor', 'objekt': 'yejG'}, {'subjekt': 'ArcA', 'predikat': 'repressor', 'objekt': 'yieE'}, {'subjekt': 'ArcA', 'predikat': 'repressor', 'objekt': 'yigI'}, {'subjekt': 'ArcA', 'predikat': 'repressor', 'objekt': 'yjiR'}, {'subjekt': 'ArcA', 'predikat': 'repressor', 'objekt': 'pqqU'}, {'subjekt': 'ArcA', 'predikat': 'repressor', 'objekt': 'yncE'}, {'subjekt': 'ArcA', 'predikat': 'activator', 'objekt': 'pyrS'}, {'subjekt': 'ArcA', 'predikat': 'activator', 'objekt': 'igaA'}, {'subjekt': 'ArcA', 'predikat': 'repressor', 'objekt': 'aceF'}, {'subjekt': 'ArcA', 'predikat': 'repressor', 'objekt': 'aceE'}, {'subjekt': 'ArcA', 'predikat': 'activator', 'objekt': 'appC'}, {'subjekt': 'ArcA', 'predikat': 'activator', 'objekt': 'appX'}, {'subjekt': 'ArcA', 'predikat': 'activator', 'objekt': 'appB'}, {'subjekt': 'ArcA', 'predikat': 'activator', 'objekt': 'appA'}, {'subjekt': 'ArcA', 'predikat': 'activator', 'objekt': 'gadA'}, {'subjekt': 'ArcA', 'predikat': 'activator', 'objekt': 'gadX'}, {'subjekt': 'ArcA', 'predikat': 'repressor', 'objekt': 'fadA'}, {'subjekt': 'ArcA', 'predikat': 'repressor', 'objekt': 'fadB'}, {'subjekt': 'ArcA', 'predikat': 'repressor', 'objekt': 'fadL'}, {'subjekt': 'ArcA', 'predikat': 'repressor', 'objekt': 'fnr'}, {'subjekt': 'ArcA', 'predikat': 'repressor', 'objekt': 'glpA'}, {'subjekt': 'ArcA', 'predikat': 'repressor', 'objekt': 'glpB'}, {'subjekt': 'ArcA', 'predikat': 'repressor', 'objekt': 'glpC'}, {'subjekt': 'ArcA', 'predikat': 'repressor', 'objekt': 'aceK'}, {'subjekt': 'ArcA', 'predikat': 'repressor', 'objekt': 'aceA'}, {'subjekt': 'ArcA', 'predikat': 'repressor', 'objekt': 'aceB'}, {'subjekt': 'ArcA', 'predikat': 'repressor', 'objekt': 'acnA'}, {'subjekt': 'ArcA', 'predikat': 'repressor', 'objekt': 'acnB'}, {'subjekt': 'ArcA', 'predikat': 'activator', 'objekt': 'xylR'}, {'subjekt': 'ArcA', 'predikat': 'activator', 'objekt': 'cydB'}, {'subjekt': 'ArcA', 'predikat': 'repressor', 'objekt': 'hybD'}, {'subjekt': 'ArcA', 'predikat': 'repressor', 'objekt': 'hybB'}, {'subjekt': 'ArcA', 'predikat': 'repressor', 'objekt': 'hybA'}, {'subjekt': 'ArcA', 'predikat': 'repressor', 'objekt': 'hybF'}, {'subjekt': 'ArcA', 'predikat': 'repressor', 'objekt': 'hybC'}, {'subjekt': 'ArcA', 'predikat': 'repressor', 'objekt': 'hybO'}, {'subjekt': 'ArcA', 'predikat': 'repressor', 'objekt': 'hybE'}, {'subjekt': 'ArcA', 'predikat': 'repressor', 'objekt': 'hybG'}, {'subjekt': 'ArcA', 'predikat': 'repressor', 'objekt': 'lldR'}, {'subjekt': 'ArcA', 'predikat': 'repressor', 'objekt': 'lldP'}, {'subjekt': 'ArcA', 'predikat': 'repressor', 'objekt': 'lldD'}, {'subjekt': 'ArcA', 'predikat': 'activator', 'objekt': 'pflB'}, {'subjekt': 'ArcA', 'predikat': 'activator', 'objekt': 'moeB'}, {'subjekt': 'ArcA', 'predikat': 'activator', 'objekt': 'moeA'}, {'subjekt': 'ArcA', 'predikat': 'repressor', 'objekt': 'dctA'}, {'subjekt': 'ArcA', 'predikat': 'repressor', 'objekt': 'rhaT'}, {'subjekt': 'ArcA', 'predikat': 'repressor', 'objekt': 'betI'}, {'subjekt': 'ArcA', 'predikat': 'repressor', 'objekt': 'betB'}, {'subjekt': 'ArcA', 'predikat': 'repressor', 'objekt': 'betA'}, {'subjekt': 'ArcA', 'predikat': 'repressor', 'objekt': 'betT'}, {'subjekt': 'ArcA', 'predikat': 'repressor', 'objekt': 'sodA'}, {'subjekt': 'ArcA', 'predikat': 'repressor', 'objekt': 'ssb'}, {'subjekt': 'ArcA', 'predikat': 'repressor', 'objekt': 'uvrA'}, {'subjekt': 'ArcA', 'predikat': 'repressor', 'objekt': 'oppF'}, {'subjekt': 'ArcA', 'predikat': 'repressor', 'objekt': 'oppC'}, {'subjekt': 'ArcA', 'predikat': 'repressor', 'objekt': 'oppD'}, {'subjekt': 'ArcA', 'predikat': 'repressor', 'objekt': 'oppB'}, {'subjekt': 'ArcA', 'predikat': 'repressor', 'objekt': 'rpoS'}, {'subjekt': 'ArcA', 'predikat': 'repressor', 'objekt': 'nuoN'}, {'subjekt': 'ArcA', 'predikat': 'repressor', 'objekt': 'nuoF'}, {'subjekt': 'ArcA', 'predikat': 'repressor', 'objekt': 'nuoA'}, {'subjekt': 'ArcA', 'predikat': 'repressor', 'objekt': 'nuoG'}, {'subjekt': 'ArcA', 'predikat': 'repressor', 'objekt': 'nuoI'}, {'subjekt': 'ArcA', 'predikat': 'repressor', 'objekt': 'nuoE'}, {'subjekt': 'ArcA', 'predikat': 'repressor', 'objekt': 'nuoB'}, {'subjekt': 'ArcA', 'predikat': 'repressor', 'objekt': 'nuoC'}, {'subjekt': 'ArcA', 'predikat': 'repressor', 'objekt': 'nuoK'}, {'subjekt': 'ArcA', 'predikat': 'repressor', 'objekt': 'nuoL'}, {'subjekt': 'ArcA', 'predikat': 'repressor', 'objekt': 'nuoH'}, {'subjekt': 'ArcA', 'predikat': 'repressor', 'objekt': 'nuoJ'}, {'subjekt': 'ArcA', 'predikat': 'repressor', 'objekt': 'nuoM'}, {'subjekt': 'ArcA', 'predikat': 'activator', 'objekt': 'caiB'}, {'subjekt': 'ArcA', 'predikat': 'activator', 'objekt': 'caiA'}, {'subjekt': 'ArcA', 'predikat': 'activator', 'objekt': 'caiE'}, {'subjekt': 'ArcA', 'predikat': 'activator', 'objekt': 'caiT'}, {'subjekt': 'ArcA', 'predikat': 'activator', 'objekt': 'caiC'}, {'subjekt': 'ArcA', 'predikat': 'activator', 'objekt': 'caiD'}, {'subjekt': 'ArcA', 'predikat': 'repressor', 'objekt': 'gatB'}, {'subjekt': 'ArcA', 'predikat': 'repressor', 'objekt': 'gatA'}, {'subjekt': 'ArcA', 'predikat': 'repressor', 'objekt': 'gatY'}, {'subjekt': 'ArcA', 'predikat': 'repressor', 'objekt': 'gatZ'}, {'subjekt': 'ArcA', 'predikat': 'repressor', 'objekt': 'gatC'}, {'subjekt': 'ArcA', 'predikat': 'repressor', 'objekt': 'gatD'}, {'subjekt': 'ArcA', 'predikat': 'repressor', 'objekt': 'ndh'}, {'subjekt': 'ArcA', 'predikat': 'activator', 'objekt': 'fumB'}, {'subjekt': 'ArcA', 'predikat': 'activator', 'objekt': 'hemA'}, {'subjekt': 'ArcA', 'predikat': 'activator', 'objekt': 'prfA'}, {'subjekt': 'ArcA', 'predikat': 'activator', 'objekt': 'prmC'}, {'subjekt': 'ArcA', 'predikat': 'repressor', 'objekt': 'cyoB'}, {'subjekt': 'ArcA', 'predikat': 'repressor', 'objekt': 'cyoD'}, {'subjekt': 'ArcA', 'predikat': 'repressor', 'objekt': 'cyoC'}, {'subjekt': 'ArcA', 'predikat': 'repressor', 'objekt': 'cyoE'}, {'subjekt': 'ArcA', 'predikat': 'dual', 'objekt': 'sdhA'}, {'subjekt': 'ArcA', 'predikat': 'dual', 'objekt': 'sdhX'}, {'subjekt': 'ArcA', 'predikat': 'dual', 'objekt': 'sucB'}, {'subjekt': 'ArcA', 'predikat': 'dual', 'objekt': 'sucA'}, {'subjekt': 'ArcA', 'predikat': 'dual', 'objekt': 'sdhB'}, {'subjekt': 'ArcA', 'predikat': 'dual', 'objekt': 'sdhD'}, {'subjekt': 'ArcA', 'predikat': 'dual', 'objekt': 'sucD'}, {'subjekt': 'ArcA', 'predikat': 'dual', 'objekt': 'sdhC'}, {'subjekt': 'ArcA', 'predikat': 'dual', 'objekt': 'sucC'}, {'subjekt': 'ArcA', 'predikat': 'repressor', 'objekt': 'fumC'}, {'subjekt': 'ArcA', 'predikat': 'repressor', 'objekt': 'gltA'}, {'subjekt': 'ArcA', 'predikat': 'repressor', 'objekt': 'icd'}, {'subjekt': 'ArcA', 'predikat': 'repressor', 'objekt': 'fadD'}, {'subjekt': 'ArcA', 'predikat': 'repressor', 'objekt': 'sroD'}, {'subjekt': 'ArcA', 'predikat': 'repressor', 'objekt': 'lpd'}, {'subjekt': 'ArcA', 'predikat': 'activator', 'objekt': 'treC'}, {'subjekt': 'ArcA', 'predikat': 'activator', 'objekt': 'treB'}, {'subjekt': 'ArcA', 'predikat': 'activator', 'objekt': 'cydD'}, {'subjekt': 'ArcA', 'predikat': 'activator', 'objekt': 'cydC'}, {'subjekt': 'ArcA', 'predikat': 'repressor', 'objekt': 'glcG'}, {'subjekt': 'ArcA', 'predikat': 'repressor', 'objekt': 'glcF'}, {'subjekt': 'ArcA', 'predikat': 'repressor', 'objekt': 'glcD'}, {'subjekt': 'ArcA', 'predikat': 'repressor', 'objekt': 'glcB'}, {'subjekt': 'ArcA', 'predikat': 'repressor', 'objekt': 'glcE'}, {'subjekt': 'ArcA', 'predikat': 'repressor', 'objekt': 'glcA'}, {'subjekt': 'ArcA', 'predikat': 'repressor', 'objekt': 'cadA'}, {'subjekt': 'ArcA', 'predikat': 'repressor', 'objekt': 'cadB'}, {'subjekt': 'ArcA', 'predikat': 'activator', 'objekt': 'ackA'}, {'subjekt': 'ArcA', 'predikat': 'repressor', 'objekt': 'rpsJ'}, {'subjekt': 'ArcA', 'predikat': 'repressor', 'objekt': 'rplW'}, {'subjekt': 'ArcA', 'predikat': 'repressor', 'objekt': 'rplP'}, {'subjekt': 'ArcA', 'predikat': 'repressor', 'objekt': 'rplD'}, {'subjekt': 'ArcA', 'predikat': 'repressor', 'objekt': 'rpsC'}, {'subjekt': 'ArcA', 'predikat': 'repressor', 'objekt': 'rpsS'}, {'subjekt': 'ArcA', 'predikat': 'repressor', 'objekt': 'rplC'}, {'subjekt': 'ArcA', 'predikat': 'repressor', 'objekt': 'rplV'}, {'subjekt': 'ArcA', 'predikat': 'repressor', 'objekt': 'rpsQ'}, {'subjekt': 'ArcA', 'predikat': 'repressor', 'objekt': 'rplB'}, {'subjekt': 'ArcA', 'predikat': 'repressor', 'objekt': 'rpmC'}, {'subjekt': 'ArcA', 'predikat': 'repressor', 'objekt': 'ubiC'}, {'subjekt': 'ArcA', 'predikat': 'repressor', 'objekt': 'ubiA'}, {'subjekt': 'ArcA', 'predikat': 'repressor', 'objekt': 'fadJ'}, {'subjekt': 'ArcA', 'predikat': 'repressor', 'objekt': 'fadI'}, {'subjekt': 'ArcA', 'predikat': 'activator', 'objekt': 'rutC'}, {'subjekt': 'ArcA', 'predikat': 'activator', 'objekt': 'rutF'}, {'subjekt': 'ArcA', 'predikat': 'activator', 'objekt': 'rutA'}, {'subjekt': 'ArcA', 'predikat': 'activator', 'objekt': 'rutE'}, {'subjekt': 'ArcA', 'predikat': 'activator', 'objekt': 'rutB'}, {'subjekt': 'ArcA', 'predikat': 'activator', 'objekt': 'rutD'}, {'subjekt': 'ArcA', 'predikat': 'activator', 'objekt': 'rutG'}, {'subjekt': 'ArcA', 'predikat': 'activator', 'objekt': 'dcuC'}, {'subjekt': 'ArcA', 'predikat': 'repressor', 'objekt': 'ydeA'}, {'subjekt': 'ArcA', 'predikat': 'repressor', 'objekt': 'ptsG'}, {'subjekt': 'ArcA', 'predikat': 'activator', 'objekt': 'grcA'}]\n",
      "---------------------------\n",
      "144 286\n"
     ]
    },
    {
     "name": "stderr",
     "output_type": "stream",
     "text": [
      "C:\\Anaconda\\lib\\site-packages\\urllib3\\connectionpool.py:1061: InsecureRequestWarning: Unverified HTTPS request is being made to host 'regulondb.ccg.unam.mx'. Adding certificate verification is strongly advised. See: https://urllib3.readthedocs.io/en/1.26.x/advanced-usage.html#ssl-warnings\n",
      "  warnings.warn(\n"
     ]
    },
    {
     "name": "stdout",
     "output_type": "stream",
     "text": [
      "success:\n",
      "[{'subjekt': 'NfeR', 'predikat': 'repressor', 'objekt': 'nfeR'}, {'subjekt': 'NfeR', 'predikat': 'repressor', 'objekt': 'nfeF'}]\n",
      "---------------------------\n",
      "145 286\n"
     ]
    },
    {
     "name": "stderr",
     "output_type": "stream",
     "text": [
      "C:\\Anaconda\\lib\\site-packages\\urllib3\\connectionpool.py:1061: InsecureRequestWarning: Unverified HTTPS request is being made to host 'regulondb.ccg.unam.mx'. Adding certificate verification is strongly advised. See: https://urllib3.readthedocs.io/en/1.26.x/advanced-usage.html#ssl-warnings\n",
      "  warnings.warn(\n"
     ]
    },
    {
     "name": "stdout",
     "output_type": "stream",
     "text": [
      "success:\n",
      "[{'subjekt': 'UvrY', 'predikat': 'activator', 'objekt': 'ydeP'}, {'subjekt': 'UvrY', 'predikat': 'activator', 'objekt': 'uhpU'}, {'subjekt': 'UvrY', 'predikat': 'activator', 'objekt': 'uhpT'}, {'subjekt': 'UvrY', 'predikat': 'activator', 'objekt': 'csrB'}, {'subjekt': 'UvrY', 'predikat': 'activator', 'objekt': 'csrC'}, {'subjekt': 'UvrY', 'predikat': 'activator', 'objekt': 'luxS'}]\n",
      "---------------------------\n",
      "146 286\n"
     ]
    },
    {
     "name": "stderr",
     "output_type": "stream",
     "text": [
      "C:\\Anaconda\\lib\\site-packages\\urllib3\\connectionpool.py:1061: InsecureRequestWarning: Unverified HTTPS request is being made to host 'regulondb.ccg.unam.mx'. Adding certificate verification is strongly advised. See: https://urllib3.readthedocs.io/en/1.26.x/advanced-usage.html#ssl-warnings\n",
      "  warnings.warn(\n"
     ]
    },
    {
     "name": "stdout",
     "output_type": "stream",
     "text": [
      "success:\n",
      "[{'subjekt': 'YjjQ', 'predikat': 'repressor', 'objekt': 'ybhL'}, {'subjekt': 'YjjQ', 'predikat': 'repressor', 'objekt': 'dgcN'}, {'subjekt': 'YjjQ', 'predikat': 'repressor', 'objekt': 'yfiR'}, {'subjekt': 'YjjQ', 'predikat': 'repressor', 'objekt': 'yfiB'}, {'subjekt': 'YjjQ', 'predikat': 'repressor', 'objekt': 'yciX'}, {'subjekt': 'YjjQ', 'predikat': 'repressor', 'objekt': 'ymiA'}, {'subjekt': 'YjjQ', 'predikat': 'repressor', 'objekt': 'gfcA'}, {'subjekt': 'YjjQ', 'predikat': 'repressor', 'objekt': 'flhD'}, {'subjekt': 'YjjQ', 'predikat': 'repressor', 'objekt': 'flhC'}, {'subjekt': 'YjjQ', 'predikat': 'repressor', 'objekt': 'ompC'}]\n",
      "---------------------------\n",
      "147 286\n"
     ]
    },
    {
     "name": "stderr",
     "output_type": "stream",
     "text": [
      "C:\\Anaconda\\lib\\site-packages\\urllib3\\connectionpool.py:1061: InsecureRequestWarning: Unverified HTTPS request is being made to host 'regulondb.ccg.unam.mx'. Adding certificate verification is strongly advised. See: https://urllib3.readthedocs.io/en/1.26.x/advanced-usage.html#ssl-warnings\n",
      "  warnings.warn(\n",
      "C:\\Anaconda\\lib\\site-packages\\urllib3\\connectionpool.py:1061: InsecureRequestWarning: Unverified HTTPS request is being made to host 'regulondb.ccg.unam.mx'. Adding certificate verification is strongly advised. See: https://urllib3.readthedocs.io/en/1.26.x/advanced-usage.html#ssl-warnings\n",
      "  warnings.warn(\n"
     ]
    },
    {
     "name": "stdout",
     "output_type": "stream",
     "text": [
      "success:\n",
      "[{'subjekt': 'GlpR', 'predikat': 'repressor', 'objekt': 'glpA'}, {'subjekt': 'GlpR', 'predikat': 'repressor', 'objekt': 'glpB'}, {'subjekt': 'GlpR', 'predikat': 'repressor', 'objekt': 'glpC'}, {'subjekt': 'GlpR', 'predikat': 'repressor', 'objekt': 'glpD'}, {'subjekt': 'GlpR', 'predikat': 'repressor', 'objekt': 'glpQ'}, {'subjekt': 'GlpR', 'predikat': 'repressor', 'objekt': 'glpT'}, {'subjekt': 'GlpR', 'predikat': 'repressor', 'objekt': 'glpK'}, {'subjekt': 'GlpR', 'predikat': 'repressor', 'objekt': 'glpX'}, {'subjekt': 'GlpR', 'predikat': 'repressor', 'objekt': 'glpF'}]\n",
      "---------------------------\n",
      "148 286\n"
     ]
    },
    {
     "name": "stderr",
     "output_type": "stream",
     "text": [
      "C:\\Anaconda\\lib\\site-packages\\urllib3\\connectionpool.py:1061: InsecureRequestWarning: Unverified HTTPS request is being made to host 'regulondb.ccg.unam.mx'. Adding certificate verification is strongly advised. See: https://urllib3.readthedocs.io/en/1.26.x/advanced-usage.html#ssl-warnings\n",
      "  warnings.warn(\n"
     ]
    },
    {
     "name": "stdout",
     "output_type": "stream",
     "text": [
      "success:\n",
      "[{'subjekt': 'SutR', 'predikat': 'dual', 'objekt': 'sutR'}, {'subjekt': 'SutR', 'predikat': 'repressor', 'objekt': 'ydcO'}, {'subjekt': 'SutR', 'predikat': 'repressor', 'objekt': 'tcyJ'}, {'subjekt': 'SutR', 'predikat': 'repressor', 'objekt': 'fliA'}, {'subjekt': 'SutR', 'predikat': 'repressor', 'objekt': 'fliZ'}, {'subjekt': 'SutR', 'predikat': 'repressor', 'objekt': 'cysE'}, {'subjekt': 'SutR', 'predikat': 'repressor', 'objekt': 'pfkB'}, {'subjekt': 'SutR', 'predikat': 'activator', 'objekt': 'ypfN'}]\n",
      "---------------------------\n",
      "149 286\n"
     ]
    },
    {
     "name": "stderr",
     "output_type": "stream",
     "text": [
      "C:\\Anaconda\\lib\\site-packages\\urllib3\\connectionpool.py:1061: InsecureRequestWarning: Unverified HTTPS request is being made to host 'regulondb.ccg.unam.mx'. Adding certificate verification is strongly advised. See: https://urllib3.readthedocs.io/en/1.26.x/advanced-usage.html#ssl-warnings\n",
      "  warnings.warn(\n"
     ]
    },
    {
     "name": "stdout",
     "output_type": "stream",
     "text": [
      "success:\n",
      "[{'subjekt': 'RhaR', 'predikat': 'activator', 'objekt': 'rhaR'}, {'subjekt': 'RhaR', 'predikat': 'activator', 'objekt': 'rhaS'}]\n",
      "---------------------------\n",
      "150 286\n"
     ]
    },
    {
     "name": "stderr",
     "output_type": "stream",
     "text": [
      "C:\\Anaconda\\lib\\site-packages\\urllib3\\connectionpool.py:1061: InsecureRequestWarning: Unverified HTTPS request is being made to host 'regulondb.ccg.unam.mx'. Adding certificate verification is strongly advised. See: https://urllib3.readthedocs.io/en/1.26.x/advanced-usage.html#ssl-warnings\n",
      "  warnings.warn(\n"
     ]
    },
    {
     "name": "stdout",
     "output_type": "stream",
     "text": [
      "success:\n",
      "[{'subjekt': 'CueR', 'predikat': 'activator', 'objekt': 'copA'}, {'subjekt': 'CueR', 'predikat': 'activator', 'objekt': 'cueO'}, {'subjekt': 'CueR', 'predikat': 'repressor', 'objekt': 'moaE'}, {'subjekt': 'CueR', 'predikat': 'repressor', 'objekt': 'moaB'}, {'subjekt': 'CueR', 'predikat': 'repressor', 'objekt': 'moaD'}, {'subjekt': 'CueR', 'predikat': 'repressor', 'objekt': 'moaC'}, {'subjekt': 'CueR', 'predikat': 'repressor', 'objekt': 'moaA'}, {'subjekt': 'CueR', 'predikat': 'repressor', 'objekt': 'rsd'}, {'subjekt': 'CueR', 'predikat': 'repressor', 'objekt': 'rmf'}]\n",
      "---------------------------\n",
      "151 286\n"
     ]
    },
    {
     "name": "stderr",
     "output_type": "stream",
     "text": [
      "C:\\Anaconda\\lib\\site-packages\\urllib3\\connectionpool.py:1061: InsecureRequestWarning: Unverified HTTPS request is being made to host 'regulondb.ccg.unam.mx'. Adding certificate verification is strongly advised. See: https://urllib3.readthedocs.io/en/1.26.x/advanced-usage.html#ssl-warnings\n",
      "  warnings.warn(\n"
     ]
    },
    {
     "name": "stdout",
     "output_type": "stream",
     "text": [
      "success:\n",
      "[{'subjekt': 'KdpE', 'predikat': 'repressor', 'objekt': 'rmf'}, {'subjekt': 'KdpE', 'predikat': 'repressor', 'objekt': 'rsd'}, {'subjekt': 'KdpE', 'predikat': 'activator', 'objekt': 'kdpC'}, {'subjekt': 'KdpE', 'predikat': 'activator', 'objekt': 'kdpB'}, {'subjekt': 'KdpE', 'predikat': 'activator', 'objekt': 'kdpF'}, {'subjekt': 'KdpE', 'predikat': 'activator', 'objekt': 'kdpA'}]\n",
      "---------------------------\n",
      "152 286\n"
     ]
    },
    {
     "name": "stderr",
     "output_type": "stream",
     "text": [
      "C:\\Anaconda\\lib\\site-packages\\urllib3\\connectionpool.py:1061: InsecureRequestWarning: Unverified HTTPS request is being made to host 'regulondb.ccg.unam.mx'. Adding certificate verification is strongly advised. See: https://urllib3.readthedocs.io/en/1.26.x/advanced-usage.html#ssl-warnings\n",
      "  warnings.warn(\n"
     ]
    },
    {
     "name": "stdout",
     "output_type": "stream",
     "text": [
      "success:\n",
      "[{'subjekt': 'SgrR', 'predikat': 'activator', 'objekt': 'setA'}, {'subjekt': 'SgrR', 'predikat': 'activator', 'objekt': 'sgrT'}, {'subjekt': 'SgrR', 'predikat': 'activator', 'objekt': 'sgrS'}, {'subjekt': 'SgrR', 'predikat': 'repressor', 'objekt': 'sroA'}, {'subjekt': 'SgrR', 'predikat': 'repressor', 'objekt': 'sgrR'}, {'subjekt': 'SgrR', 'predikat': 'repressor', 'objekt': 'thiB'}, {'subjekt': 'SgrR', 'predikat': 'repressor', 'objekt': 'thiQ'}, {'subjekt': 'SgrR', 'predikat': 'repressor', 'objekt': 'thiP'}, {'subjekt': 'SgrR', 'predikat': 'activator', 'objekt': 'alaC'}]\n",
      "---------------------------\n",
      "153 286\n"
     ]
    },
    {
     "name": "stderr",
     "output_type": "stream",
     "text": [
      "C:\\Anaconda\\lib\\site-packages\\urllib3\\connectionpool.py:1061: InsecureRequestWarning: Unverified HTTPS request is being made to host 'regulondb.ccg.unam.mx'. Adding certificate verification is strongly advised. See: https://urllib3.readthedocs.io/en/1.26.x/advanced-usage.html#ssl-warnings\n",
      "  warnings.warn(\n"
     ]
    },
    {
     "name": "stdout",
     "output_type": "stream",
     "text": [
      "success:\n",
      "[{'subjekt': 'MetR', 'predikat': 'activator', 'objekt': 'metH'}, {'subjekt': 'MetR', 'predikat': 'activator', 'objekt': 'hmp'}, {'subjekt': 'MetR', 'predikat': 'activator', 'objekt': 'metE'}, {'subjekt': 'MetR', 'predikat': 'repressor', 'objekt': 'metR'}, {'subjekt': 'MetR', 'predikat': 'dual', 'objekt': 'glyA'}]\n",
      "---------------------------\n",
      "154 286\n"
     ]
    },
    {
     "name": "stderr",
     "output_type": "stream",
     "text": [
      "C:\\Anaconda\\lib\\site-packages\\urllib3\\connectionpool.py:1061: InsecureRequestWarning: Unverified HTTPS request is being made to host 'regulondb.ccg.unam.mx'. Adding certificate verification is strongly advised. See: https://urllib3.readthedocs.io/en/1.26.x/advanced-usage.html#ssl-warnings\n",
      "  warnings.warn(\n"
     ]
    },
    {
     "name": "stdout",
     "output_type": "stream",
     "text": [
      "success:\n",
      "[{'subjekt': 'ArgR', 'predikat': 'repressor', 'objekt': 'artQ'}, {'subjekt': 'ArgR', 'predikat': 'repressor', 'objekt': 'artM'}, {'subjekt': 'ArgR', 'predikat': 'repressor', 'objekt': 'artI'}, {'subjekt': 'ArgR', 'predikat': 'repressor', 'objekt': 'artP'}, {'subjekt': 'ArgR', 'predikat': 'repressor', 'objekt': 'argA'}, {'subjekt': 'ArgR', 'predikat': 'repressor', 'objekt': 'lysO'}, {'subjekt': 'ArgR', 'predikat': 'repressor', 'objekt': 'yhcC'}, {'subjekt': 'ArgR', 'predikat': 'repressor', 'objekt': 'aroK'}, {'subjekt': 'ArgR', 'predikat': 'activator', 'objekt': 'aroP'}, {'subjekt': 'ArgR', 'predikat': 'repressor', 'objekt': 'cvpA'}, {'subjekt': 'ArgR', 'predikat': 'repressor', 'objekt': 'dacC'}, {'subjekt': 'ArgR', 'predikat': 'repressor', 'objekt': 'dps'}, {'subjekt': 'ArgR', 'predikat': 'activator', 'objekt': 'eutS'}, {'subjekt': 'ArgR', 'predikat': 'repressor', 'objekt': 'ftsZ'}, {'subjekt': 'ArgR', 'predikat': 'repressor', 'objekt': 'gltB'}, {'subjekt': 'ArgR', 'predikat': 'activator', 'objekt': 'gltP'}, {'subjekt': 'ArgR', 'predikat': 'repressor', 'objekt': 'hchA'}, {'subjekt': 'ArgR', 'predikat': 'repressor', 'objekt': 'hisL'}, {'subjekt': 'ArgR', 'predikat': 'repressor', 'objekt': 'mcaS'}, {'subjekt': 'ArgR', 'predikat': 'repressor', 'objekt': 'lrp'}, {'subjekt': 'ArgR', 'predikat': 'repressor', 'objekt': 'mukE'}, {'subjekt': 'ArgR', 'predikat': 'repressor', 'objekt': 'pfkB'}, {'subjekt': 'ArgR', 'predikat': 'repressor', 'objekt': 'potF'}, {'subjekt': 'ArgR', 'predikat': 'activator', 'objekt': 'puuB'}, {'subjekt': 'ArgR', 'predikat': 'repressor', 'objekt': 'pyrL'}, {'subjekt': 'ArgR', 'predikat': 'repressor', 'objekt': 'stpA'}, {'subjekt': 'ArgR', 'predikat': 'repressor', 'objekt': 'waaA'}, {'subjekt': 'ArgR', 'predikat': 'activator', 'objekt': 'yaaU'}, {'subjekt': 'ArgR', 'predikat': 'repressor', 'objekt': 'ydgI'}, {'subjekt': 'ArgR', 'predikat': 'repressor', 'objekt': 'yfcC'}, {'subjekt': 'ArgR', 'predikat': 'activator', 'objekt': 'yffB'}, {'subjekt': 'ArgR', 'predikat': 'activator', 'objekt': 'ykgA'}, {'subjekt': 'ArgR', 'predikat': 'activator', 'objekt': 'yraQ'}, {'subjekt': 'ArgR', 'predikat': 'repressor', 'objekt': 'gltD'}, {'subjekt': 'ArgR', 'predikat': 'repressor', 'objekt': 'gltF'}, {'subjekt': 'ArgR', 'predikat': 'repressor', 'objekt': 'argH'}, {'subjekt': 'ArgR', 'predikat': 'repressor', 'objekt': 'argC'}, {'subjekt': 'ArgR', 'predikat': 'repressor', 'objekt': 'argB'}, {'subjekt': 'ArgR', 'predikat': 'repressor', 'objekt': 'argE'}, {'subjekt': 'ArgR', 'predikat': 'repressor', 'objekt': 'argF'}, {'subjekt': 'ArgR', 'predikat': 'repressor', 'objekt': 'argI'}, {'subjekt': 'ArgR', 'predikat': 'repressor', 'objekt': 'argR'}, {'subjekt': 'ArgR', 'predikat': 'repressor', 'objekt': 'carB'}, {'subjekt': 'ArgR', 'predikat': 'repressor', 'objekt': 'carA'}, {'subjekt': 'ArgR', 'predikat': 'repressor', 'objekt': 'pnp'}, {'subjekt': 'ArgR', 'predikat': 'repressor', 'objekt': 'infB'}, {'subjekt': 'ArgR', 'predikat': 'repressor', 'objekt': 'nusA'}, {'subjekt': 'ArgR', 'predikat': 'repressor', 'objekt': 'metY'}, {'subjekt': 'ArgR', 'predikat': 'repressor', 'objekt': 'rpsO'}, {'subjekt': 'ArgR', 'predikat': 'repressor', 'objekt': 'rimP'}, {'subjekt': 'ArgR', 'predikat': 'repressor', 'objekt': 'rbfA'}, {'subjekt': 'ArgR', 'predikat': 'repressor', 'objekt': 'truB'}, {'subjekt': 'ArgR', 'predikat': 'repressor', 'objekt': 'argD'}, {'subjekt': 'ArgR', 'predikat': 'repressor', 'objekt': 'hisJ'}, {'subjekt': 'ArgR', 'predikat': 'repressor', 'objekt': 'hisQ'}, {'subjekt': 'ArgR', 'predikat': 'repressor', 'objekt': 'hisM'}, {'subjekt': 'ArgR', 'predikat': 'repressor', 'objekt': 'hisP'}, {'subjekt': 'ArgR', 'predikat': 'repressor', 'objekt': 'artJ'}, {'subjekt': 'ArgR', 'predikat': 'repressor', 'objekt': 'argG'}, {'subjekt': 'ArgR', 'predikat': 'activator', 'objekt': 'astD'}, {'subjekt': 'ArgR', 'predikat': 'activator', 'objekt': 'astE'}, {'subjekt': 'ArgR', 'predikat': 'activator', 'objekt': 'astB'}, {'subjekt': 'ArgR', 'predikat': 'activator', 'objekt': 'astA'}, {'subjekt': 'ArgR', 'predikat': 'activator', 'objekt': 'astC'}]\n",
      "---------------------------\n",
      "155 286\n"
     ]
    },
    {
     "name": "stderr",
     "output_type": "stream",
     "text": [
      "C:\\Anaconda\\lib\\site-packages\\urllib3\\connectionpool.py:1061: InsecureRequestWarning: Unverified HTTPS request is being made to host 'regulondb.ccg.unam.mx'. Adding certificate verification is strongly advised. See: https://urllib3.readthedocs.io/en/1.26.x/advanced-usage.html#ssl-warnings\n",
      "  warnings.warn(\n"
     ]
    },
    {
     "name": "stdout",
     "output_type": "stream",
     "text": [
      "success:\n",
      "[{'subjekt': 'PspF', 'predikat': 'activator', 'objekt': 'pspA'}, {'subjekt': 'PspF', 'predikat': 'activator', 'objekt': 'pspC'}, {'subjekt': 'PspF', 'predikat': 'activator', 'objekt': 'pspB'}, {'subjekt': 'PspF', 'predikat': 'activator', 'objekt': 'pspE'}, {'subjekt': 'PspF', 'predikat': 'activator', 'objekt': 'pspD'}, {'subjekt': 'PspF', 'predikat': 'activator', 'objekt': 'pspH'}, {'subjekt': 'PspF', 'predikat': 'activator', 'objekt': 'pspG'}, {'subjekt': 'PspF', 'predikat': 'repressor', 'objekt': 'pspF'}]\n",
      "---------------------------\n",
      "156 286\n"
     ]
    },
    {
     "name": "stderr",
     "output_type": "stream",
     "text": [
      "C:\\Anaconda\\lib\\site-packages\\urllib3\\connectionpool.py:1061: InsecureRequestWarning: Unverified HTTPS request is being made to host 'regulondb.ccg.unam.mx'. Adding certificate verification is strongly advised. See: https://urllib3.readthedocs.io/en/1.26.x/advanced-usage.html#ssl-warnings\n",
      "  warnings.warn(\n"
     ]
    },
    {
     "name": "stdout",
     "output_type": "stream",
     "text": [
      "success:\n",
      "[{'subjekt': 'NorR', 'predikat': 'activator', 'objekt': 'norV'}, {'subjekt': 'NorR', 'predikat': 'activator', 'objekt': 'norW'}, {'subjekt': 'NorR', 'predikat': 'repressor', 'objekt': 'norR'}]\n",
      "---------------------------\n",
      "157 286\n"
     ]
    },
    {
     "name": "stderr",
     "output_type": "stream",
     "text": [
      "C:\\Anaconda\\lib\\site-packages\\urllib3\\connectionpool.py:1061: InsecureRequestWarning: Unverified HTTPS request is being made to host 'regulondb.ccg.unam.mx'. Adding certificate verification is strongly advised. See: https://urllib3.readthedocs.io/en/1.26.x/advanced-usage.html#ssl-warnings\n",
      "  warnings.warn(\n"
     ]
    },
    {
     "name": "stdout",
     "output_type": "stream",
     "text": [
      "success:\n",
      "[{'subjekt': 'CreB', 'predikat': 'repressor', 'objekt': 'malH'}, {'subjekt': 'CreB', 'predikat': 'repressor', 'objekt': 'malG'}, {'subjekt': 'CreB', 'predikat': 'repressor', 'objekt': 'malE'}, {'subjekt': 'CreB', 'predikat': 'repressor', 'objekt': 'malF'}, {'subjekt': 'CreB', 'predikat': 'activator', 'objekt': 'talA'}, {'subjekt': 'CreB', 'predikat': 'activator', 'objekt': 'pta'}, {'subjekt': 'CreB', 'predikat': 'activator', 'objekt': 'ackA'}, {'subjekt': 'CreB', 'predikat': 'activator', 'objekt': 'nudF'}, {'subjekt': 'CreB', 'predikat': 'activator', 'objekt': 'yqiB'}, {'subjekt': 'CreB', 'predikat': 'activator', 'objekt': 'parE'}, {'subjekt': 'CreB', 'predikat': 'activator', 'objekt': 'yqiA'}, {'subjekt': 'CreB', 'predikat': 'activator', 'objekt': 'cpdA'}, {'subjekt': 'CreB', 'predikat': 'activator', 'objekt': 'cbrA'}, {'subjekt': 'CreB', 'predikat': 'activator', 'objekt': 'cbrB'}, {'subjekt': 'CreB', 'predikat': 'activator', 'objekt': 'recG'}, {'subjekt': 'CreB', 'predikat': 'activator', 'objekt': 'creD'}]\n",
      "---------------------------\n",
      "158 286\n"
     ]
    },
    {
     "name": "stderr",
     "output_type": "stream",
     "text": [
      "C:\\Anaconda\\lib\\site-packages\\urllib3\\connectionpool.py:1061: InsecureRequestWarning: Unverified HTTPS request is being made to host 'regulondb.ccg.unam.mx'. Adding certificate verification is strongly advised. See: https://urllib3.readthedocs.io/en/1.26.x/advanced-usage.html#ssl-warnings\n",
      "  warnings.warn(\n"
     ]
    },
    {
     "name": "stdout",
     "output_type": "stream",
     "text": [
      "success:\n",
      "[{'subjekt': 'PaaX', 'predikat': 'repressor', 'objekt': 'paaY'}, {'subjekt': 'PaaX', 'predikat': 'repressor', 'objekt': 'paaX'}, {'subjekt': 'PaaX', 'predikat': 'repressor', 'objekt': 'paaI'}, {'subjekt': 'PaaX', 'predikat': 'repressor', 'objekt': 'paaB'}, {'subjekt': 'PaaX', 'predikat': 'repressor', 'objekt': 'paaA'}, {'subjekt': 'PaaX', 'predikat': 'repressor', 'objekt': 'paaK'}, {'subjekt': 'PaaX', 'predikat': 'repressor', 'objekt': 'paaC'}, {'subjekt': 'PaaX', 'predikat': 'repressor', 'objekt': 'paaH'}, {'subjekt': 'PaaX', 'predikat': 'repressor', 'objekt': 'paaF'}, {'subjekt': 'PaaX', 'predikat': 'repressor', 'objekt': 'paaG'}, {'subjekt': 'PaaX', 'predikat': 'repressor', 'objekt': 'paaJ'}, {'subjekt': 'PaaX', 'predikat': 'repressor', 'objekt': 'paaE'}, {'subjekt': 'PaaX', 'predikat': 'repressor', 'objekt': 'paaD'}, {'subjekt': 'PaaX', 'predikat': 'repressor', 'objekt': 'paaZ'}]\n",
      "---------------------------\n",
      "159 286\n"
     ]
    },
    {
     "name": "stderr",
     "output_type": "stream",
     "text": [
      "C:\\Anaconda\\lib\\site-packages\\urllib3\\connectionpool.py:1061: InsecureRequestWarning: Unverified HTTPS request is being made to host 'regulondb.ccg.unam.mx'. Adding certificate verification is strongly advised. See: https://urllib3.readthedocs.io/en/1.26.x/advanced-usage.html#ssl-warnings\n",
      "  warnings.warn(\n"
     ]
    },
    {
     "name": "stdout",
     "output_type": "stream",
     "text": [
      "success:\n",
      "[{'subjekt': 'CytR', 'predikat': 'repressor', 'objekt': 'udp'}, {'subjekt': 'CytR', 'predikat': 'repressor', 'objekt': 'cdd'}, {'subjekt': 'CytR', 'predikat': 'repressor', 'objekt': 'tsx'}, {'subjekt': 'CytR', 'predikat': 'repressor', 'objekt': 'ppiA'}, {'subjekt': 'CytR', 'predikat': 'repressor', 'objekt': 'cytR'}, {'subjekt': 'CytR', 'predikat': 'repressor', 'objekt': 'rpoH'}, {'subjekt': 'CytR', 'predikat': 'repressor', 'objekt': 'deoC'}, {'subjekt': 'CytR', 'predikat': 'repressor', 'objekt': 'deoD'}, {'subjekt': 'CytR', 'predikat': 'repressor', 'objekt': 'deoA'}, {'subjekt': 'CytR', 'predikat': 'repressor', 'objekt': 'deoB'}, {'subjekt': 'CytR', 'predikat': 'repressor', 'objekt': 'nupG'}, {'subjekt': 'CytR', 'predikat': 'repressor', 'objekt': 'ycdZ'}, {'subjekt': 'CytR', 'predikat': 'repressor', 'objekt': 'nupC'}]\n",
      "---------------------------\n",
      "160 286\n"
     ]
    },
    {
     "name": "stderr",
     "output_type": "stream",
     "text": [
      "C:\\Anaconda\\lib\\site-packages\\urllib3\\connectionpool.py:1061: InsecureRequestWarning: Unverified HTTPS request is being made to host 'regulondb.ccg.unam.mx'. Adding certificate verification is strongly advised. See: https://urllib3.readthedocs.io/en/1.26.x/advanced-usage.html#ssl-warnings\n",
      "  warnings.warn(\n"
     ]
    },
    {
     "name": "stdout",
     "output_type": "stream",
     "text": [
      "success:\n",
      "[{'subjekt': 'MatA', 'predikat': 'repressor', 'objekt': 'flhD'}, {'subjekt': 'MatA', 'predikat': 'repressor', 'objekt': 'flhC'}, {'subjekt': 'MatA', 'predikat': 'activator', 'objekt': 'ecpA'}, {'subjekt': 'MatA', 'predikat': 'activator', 'objekt': 'matA'}, {'subjekt': 'MatA', 'predikat': 'repressor', 'objekt': 'tcyJ'}, {'subjekt': 'MatA', 'predikat': 'repressor', 'objekt': 'fliA'}, {'subjekt': 'MatA', 'predikat': 'repressor', 'objekt': 'fliZ'}, {'subjekt': 'MatA', 'predikat': 'repressor', 'objekt': 'fliC'}, {'subjekt': 'MatA', 'predikat': 'repressor', 'objekt': 'fliX'}]\n",
      "---------------------------\n",
      "161 286\n"
     ]
    },
    {
     "name": "stderr",
     "output_type": "stream",
     "text": [
      "C:\\Anaconda\\lib\\site-packages\\urllib3\\connectionpool.py:1061: InsecureRequestWarning: Unverified HTTPS request is being made to host 'regulondb.ccg.unam.mx'. Adding certificate verification is strongly advised. See: https://urllib3.readthedocs.io/en/1.26.x/advanced-usage.html#ssl-warnings\n",
      "  warnings.warn(\n",
      "C:\\Anaconda\\lib\\site-packages\\urllib3\\connectionpool.py:1061: InsecureRequestWarning: Unverified HTTPS request is being made to host 'regulondb.ccg.unam.mx'. Adding certificate verification is strongly advised. See: https://urllib3.readthedocs.io/en/1.26.x/advanced-usage.html#ssl-warnings\n",
      "  warnings.warn(\n"
     ]
    },
    {
     "name": "stdout",
     "output_type": "stream",
     "text": [
      "success:\n",
      "[{'subjekt': 'BolA', 'predikat': 'repressor', 'objekt': 'mreB'}, {'subjekt': 'BolA', 'predikat': 'repressor', 'objekt': 'mreC'}, {'subjekt': 'BolA', 'predikat': 'repressor', 'objekt': 'mreD'}, {'subjekt': 'BolA', 'predikat': 'activator', 'objekt': 'csgA'}, {'subjekt': 'BolA', 'predikat': 'activator', 'objekt': 'csgG'}, {'subjekt': 'BolA', 'predikat': 'activator', 'objekt': 'csgF'}, {'subjekt': 'BolA', 'predikat': 'activator', 'objekt': 'csgD'}, {'subjekt': 'BolA', 'predikat': 'activator', 'objekt': 'csgE'}, {'subjekt': 'BolA', 'predikat': 'activator', 'objekt': 'fimH'}, {'subjekt': 'BolA', 'predikat': 'dual', 'objekt': 'ampC'}, {'subjekt': 'BolA', 'predikat': 'dual', 'objekt': 'dacC'}]\n",
      "---------------------------\n",
      "162 286\n"
     ]
    },
    {
     "name": "stderr",
     "output_type": "stream",
     "text": [
      "C:\\Anaconda\\lib\\site-packages\\urllib3\\connectionpool.py:1061: InsecureRequestWarning: Unverified HTTPS request is being made to host 'regulondb.ccg.unam.mx'. Adding certificate verification is strongly advised. See: https://urllib3.readthedocs.io/en/1.26.x/advanced-usage.html#ssl-warnings\n",
      "  warnings.warn(\n"
     ]
    },
    {
     "name": "stdout",
     "output_type": "stream",
     "text": [
      "success:\n",
      "[{'subjekt': 'RcsAB', 'predikat': 'repressor', 'objekt': 'csgG'}, {'subjekt': 'RcsAB', 'predikat': 'repressor', 'objekt': 'csgF'}, {'subjekt': 'RcsAB', 'predikat': 'repressor', 'objekt': 'csgD'}, {'subjekt': 'RcsAB', 'predikat': 'repressor', 'objekt': 'csgE'}, {'subjekt': 'RcsAB', 'predikat': 'activator', 'objekt': 'yjbH'}, {'subjekt': 'RcsAB', 'predikat': 'activator', 'objekt': 'yjbG'}, {'subjekt': 'RcsAB', 'predikat': 'activator', 'objekt': 'yjbE'}, {'subjekt': 'RcsAB', 'predikat': 'activator', 'objekt': 'yjbF'}, {'subjekt': 'RcsAB', 'predikat': 'repressor', 'objekt': 'flhD'}, {'subjekt': 'RcsAB', 'predikat': 'repressor', 'objekt': 'flhC'}, {'subjekt': 'RcsAB', 'predikat': 'activator', 'objekt': 'rcsA'}, {'subjekt': 'RcsAB', 'predikat': 'activator', 'objekt': 'wzb'}, {'subjekt': 'RcsAB', 'predikat': 'activator', 'objekt': 'wzc'}, {'subjekt': 'RcsAB', 'predikat': 'activator', 'objekt': 'wza'}, {'subjekt': 'RcsAB', 'predikat': 'activator', 'objekt': 'wcaB'}, {'subjekt': 'RcsAB', 'predikat': 'activator', 'objekt': 'wcaA'}]\n",
      "---------------------------\n",
      "163 286\n"
     ]
    },
    {
     "name": "stderr",
     "output_type": "stream",
     "text": [
      "C:\\Anaconda\\lib\\site-packages\\urllib3\\connectionpool.py:1061: InsecureRequestWarning: Unverified HTTPS request is being made to host 'regulondb.ccg.unam.mx'. Adding certificate verification is strongly advised. See: https://urllib3.readthedocs.io/en/1.26.x/advanced-usage.html#ssl-warnings\n",
      "  warnings.warn(\n"
     ]
    },
    {
     "name": "stdout",
     "output_type": "stream",
     "text": [
      "success:\n",
      "[{'subjekt': 'YgiV', 'predikat': 'repressor', 'objekt': 'mcbR'}]\n",
      "---------------------------\n",
      "164 286\n"
     ]
    },
    {
     "name": "stderr",
     "output_type": "stream",
     "text": [
      "C:\\Anaconda\\lib\\site-packages\\urllib3\\connectionpool.py:1061: InsecureRequestWarning: Unverified HTTPS request is being made to host 'regulondb.ccg.unam.mx'. Adding certificate verification is strongly advised. See: https://urllib3.readthedocs.io/en/1.26.x/advanced-usage.html#ssl-warnings\n",
      "  warnings.warn(\n"
     ]
    },
    {
     "name": "stdout",
     "output_type": "stream",
     "text": [
      "success:\n",
      "[{'subjekt': 'CaiF', 'predikat': 'activator', 'objekt': 'fixC'}, {'subjekt': 'CaiF', 'predikat': 'activator', 'objekt': 'fixB'}, {'subjekt': 'CaiF', 'predikat': 'activator', 'objekt': 'fixA'}, {'subjekt': 'CaiF', 'predikat': 'activator', 'objekt': 'fixX'}, {'subjekt': 'CaiF', 'predikat': 'activator', 'objekt': 'caiB'}, {'subjekt': 'CaiF', 'predikat': 'activator', 'objekt': 'caiA'}, {'subjekt': 'CaiF', 'predikat': 'activator', 'objekt': 'caiE'}, {'subjekt': 'CaiF', 'predikat': 'activator', 'objekt': 'caiT'}, {'subjekt': 'CaiF', 'predikat': 'activator', 'objekt': 'caiC'}, {'subjekt': 'CaiF', 'predikat': 'activator', 'objekt': 'caiD'}]\n",
      "---------------------------\n",
      "165 286\n"
     ]
    },
    {
     "name": "stderr",
     "output_type": "stream",
     "text": [
      "C:\\Anaconda\\lib\\site-packages\\urllib3\\connectionpool.py:1061: InsecureRequestWarning: Unverified HTTPS request is being made to host 'regulondb.ccg.unam.mx'. Adding certificate verification is strongly advised. See: https://urllib3.readthedocs.io/en/1.26.x/advanced-usage.html#ssl-warnings\n",
      "  warnings.warn(\n"
     ]
    },
    {
     "name": "stdout",
     "output_type": "stream",
     "text": [
      "success:\n",
      "[{'subjekt': 'CusR', 'predikat': 'activator', 'objekt': 'msrQ'}, {'subjekt': 'CusR', 'predikat': 'activator', 'objekt': 'msrP'}, {'subjekt': 'CusR', 'predikat': 'activator', 'objekt': 'hiuH'}, {'subjekt': 'CusR', 'predikat': 'activator', 'objekt': 'cyoB'}, {'subjekt': 'CusR', 'predikat': 'activator', 'objekt': 'cyoD'}, {'subjekt': 'CusR', 'predikat': 'activator', 'objekt': 'cyoC'}, {'subjekt': 'CusR', 'predikat': 'activator', 'objekt': 'cyoA'}, {'subjekt': 'CusR', 'predikat': 'activator', 'objekt': 'cyoE'}, {'subjekt': 'CusR', 'predikat': 'activator', 'objekt': 'cusB'}, {'subjekt': 'CusR', 'predikat': 'activator', 'objekt': 'cusA'}, {'subjekt': 'CusR', 'predikat': 'activator', 'objekt': 'cusC'}, {'subjekt': 'CusR', 'predikat': 'activator', 'objekt': 'cusF'}, {'subjekt': 'CusR', 'predikat': 'activator', 'objekt': 'cusS'}, {'subjekt': 'CusR', 'predikat': 'activator', 'objekt': 'cusR'}]\n",
      "---------------------------\n",
      "166 286\n"
     ]
    },
    {
     "name": "stderr",
     "output_type": "stream",
     "text": [
      "C:\\Anaconda\\lib\\site-packages\\urllib3\\connectionpool.py:1061: InsecureRequestWarning: Unverified HTTPS request is being made to host 'regulondb.ccg.unam.mx'. Adding certificate verification is strongly advised. See: https://urllib3.readthedocs.io/en/1.26.x/advanced-usage.html#ssl-warnings\n",
      "  warnings.warn(\n"
     ]
    },
    {
     "name": "stdout",
     "output_type": "stream",
     "text": [
      "success:\n",
      "[{'subjekt': 'PurR', 'predikat': 'repressor', 'objekt': 'purT'}, {'subjekt': 'PurR', 'predikat': 'repressor', 'objekt': 'purC'}, {'subjekt': 'PurR', 'predikat': 'repressor', 'objekt': 'purD'}, {'subjekt': 'PurR', 'predikat': 'repressor', 'objekt': 'purH'}, {'subjekt': 'PurR', 'predikat': 'repressor', 'objekt': 'purL'}, {'subjekt': 'PurR', 'predikat': 'repressor', 'objekt': 'pyrC'}, {'subjekt': 'PurR', 'predikat': 'repressor', 'objekt': 'purB'}, {'subjekt': 'PurR', 'predikat': 'repressor', 'objekt': 'hflD'}, {'subjekt': 'PurR', 'predikat': 'repressor', 'objekt': 'cvpA'}, {'subjekt': 'PurR', 'predikat': 'repressor', 'objekt': 'ubiX'}, {'subjekt': 'PurR', 'predikat': 'repressor', 'objekt': 'purF'}, {'subjekt': 'PurR', 'predikat': 'repressor', 'objekt': 'pyrD'}, {'subjekt': 'PurR', 'predikat': 'repressor', 'objekt': 'purE'}, {'subjekt': 'PurR', 'predikat': 'repressor', 'objekt': 'purK'}, {'subjekt': 'PurR', 'predikat': 'repressor', 'objekt': 'glnB'}, {'subjekt': 'PurR', 'predikat': 'repressor', 'objekt': 'purR'}, {'subjekt': 'PurR', 'predikat': 'repressor', 'objekt': 'codA'}, {'subjekt': 'PurR', 'predikat': 'repressor', 'objekt': 'codB'}, {'subjekt': 'PurR', 'predikat': 'repressor', 'objekt': 'gcvT'}, {'subjekt': 'PurR', 'predikat': 'repressor', 'objekt': 'gcvH'}, {'subjekt': 'PurR', 'predikat': 'repressor', 'objekt': 'gcvP'}, {'subjekt': 'PurR', 'predikat': 'repressor', 'objekt': 'purN'}, {'subjekt': 'PurR', 'predikat': 'repressor', 'objekt': 'purM'}, {'subjekt': 'PurR', 'predikat': 'repressor', 'objekt': 'carB'}, {'subjekt': 'PurR', 'predikat': 'repressor', 'objekt': 'carA'}, {'subjekt': 'PurR', 'predikat': 'repressor', 'objekt': 'glyA'}, {'subjekt': 'PurR', 'predikat': 'repressor', 'objekt': 'prs'}, {'subjekt': 'PurR', 'predikat': 'repressor', 'objekt': 'speB'}, {'subjekt': 'PurR', 'predikat': 'repressor', 'objekt': 'speA'}, {'subjekt': 'PurR', 'predikat': 'repressor', 'objekt': 'guaB'}, {'subjekt': 'PurR', 'predikat': 'repressor', 'objekt': 'guaA'}, {'subjekt': 'PurR', 'predikat': 'repressor', 'objekt': 'purA'}]\n",
      "---------------------------\n",
      "167 286\n"
     ]
    },
    {
     "name": "stderr",
     "output_type": "stream",
     "text": [
      "C:\\Anaconda\\lib\\site-packages\\urllib3\\connectionpool.py:1061: InsecureRequestWarning: Unverified HTTPS request is being made to host 'regulondb.ccg.unam.mx'. Adding certificate verification is strongly advised. See: https://urllib3.readthedocs.io/en/1.26.x/advanced-usage.html#ssl-warnings\n",
      "  warnings.warn(\n"
     ]
    },
    {
     "name": "stdout",
     "output_type": "stream",
     "text": [
      "success:\n",
      "[{'subjekt': 'HigBA', 'predikat': 'repressor', 'objekt': 'higB'}, {'subjekt': 'HigBA', 'predikat': 'repressor', 'objekt': 'higA'}]\n",
      "---------------------------\n",
      "168 286\n"
     ]
    },
    {
     "name": "stderr",
     "output_type": "stream",
     "text": [
      "C:\\Anaconda\\lib\\site-packages\\urllib3\\connectionpool.py:1061: InsecureRequestWarning: Unverified HTTPS request is being made to host 'regulondb.ccg.unam.mx'. Adding certificate verification is strongly advised. See: https://urllib3.readthedocs.io/en/1.26.x/advanced-usage.html#ssl-warnings\n",
      "  warnings.warn(\n"
     ]
    },
    {
     "name": "stdout",
     "output_type": "stream",
     "text": [
      "success:\n",
      "[{'subjekt': 'GadRcs', 'predikat': 'activator', 'objekt': 'adiC'}, {'subjekt': 'GadRcs', 'predikat': 'activator', 'objekt': 'dctR'}, {'subjekt': 'GadRcs', 'predikat': 'activator', 'objekt': 'slp'}, {'subjekt': 'GadRcs', 'predikat': 'activator', 'objekt': 'aslB'}, {'subjekt': 'GadRcs', 'predikat': 'activator', 'objekt': 'yhiM'}, {'subjekt': 'GadRcs', 'predikat': 'activator', 'objekt': 'gadA'}, {'subjekt': 'GadRcs', 'predikat': 'activator', 'objekt': 'gadX'}, {'subjekt': 'GadRcs', 'predikat': 'activator', 'objekt': 'cadA'}, {'subjekt': 'GadRcs', 'predikat': 'activator', 'objekt': 'cadB'}, {'subjekt': 'GadRcs', 'predikat': 'activator', 'objekt': 'yhiD'}, {'subjekt': 'GadRcs', 'predikat': 'activator', 'objekt': 'hdeA'}, {'subjekt': 'GadRcs', 'predikat': 'activator', 'objekt': 'hdeB'}, {'subjekt': 'GadRcs', 'predikat': 'activator', 'objekt': 'gadE'}, {'subjekt': 'GadRcs', 'predikat': 'activator', 'objekt': 'gadF'}, {'subjekt': 'GadRcs', 'predikat': 'activator', 'objekt': 'yjbR'}, {'subjekt': 'GadRcs', 'predikat': 'activator', 'objekt': 'yjbQ'}, {'subjekt': 'GadRcs', 'predikat': 'activator', 'objekt': 'gltB'}, {'subjekt': 'GadRcs', 'predikat': 'activator', 'objekt': 'gltD'}, {'subjekt': 'GadRcs', 'predikat': 'activator', 'objekt': 'gltF'}, {'subjekt': 'GadRcs', 'predikat': 'activator', 'objekt': 'gadC'}, {'subjekt': 'GadRcs', 'predikat': 'activator', 'objekt': 'gadB'}, {'subjekt': 'GadRcs', 'predikat': 'activator', 'objekt': 'hdeD'}, {'subjekt': 'GadRcs', 'predikat': 'activator', 'objekt': 'lrp'}, {'subjekt': 'GadRcs', 'predikat': 'activator', 'objekt': 'rcsA'}, {'subjekt': 'GadRcs', 'predikat': 'activator', 'objekt': 'cyoB'}, {'subjekt': 'GadRcs', 'predikat': 'activator', 'objekt': 'cyoD'}, {'subjekt': 'GadRcs', 'predikat': 'activator', 'objekt': 'cyoC'}, {'subjekt': 'GadRcs', 'predikat': 'activator', 'objekt': 'cyoA'}, {'subjekt': 'GadRcs', 'predikat': 'activator', 'objekt': 'cyoE'}, {'subjekt': 'GadRcs', 'predikat': 'activator', 'objekt': 'mdtE'}, {'subjekt': 'GadRcs', 'predikat': 'activator', 'objekt': 'mdtF'}, {'subjekt': 'GadRcs', 'predikat': 'activator', 'objekt': 'gndA'}, {'subjekt': 'GadRcs', 'predikat': 'activator', 'objekt': 'gnd'}, {'subjekt': 'GadRcs', 'predikat': 'activator', 'objekt': 'purA'}, {'subjekt': 'GadRcs', 'predikat': 'activator', 'objekt': 'lpxD'}, {'subjekt': 'GadRcs', 'predikat': 'activator', 'objekt': 'skp'}, {'subjekt': 'GadRcs', 'predikat': 'activator', 'objekt': 'lpxA'}, {'subjekt': 'GadRcs', 'predikat': 'activator', 'objekt': 'fabZ'}, {'subjekt': 'GadRcs', 'predikat': 'activator', 'objekt': 'gadW'}, {'subjekt': 'GadRcs', 'predikat': 'activator', 'objekt': 'fliC'}, {'subjekt': 'GadRcs', 'predikat': 'activator', 'objekt': 'fliX'}]\n",
      "---------------------------\n",
      "169 286\n"
     ]
    },
    {
     "name": "stderr",
     "output_type": "stream",
     "text": [
      "C:\\Anaconda\\lib\\site-packages\\urllib3\\connectionpool.py:1061: InsecureRequestWarning: Unverified HTTPS request is being made to host 'regulondb.ccg.unam.mx'. Adding certificate verification is strongly advised. See: https://urllib3.readthedocs.io/en/1.26.x/advanced-usage.html#ssl-warnings\n",
      "  warnings.warn(\n"
     ]
    },
    {
     "name": "stdout",
     "output_type": "stream",
     "text": [
      "success:\n",
      "[{'subjekt': 'RcnR', 'predikat': 'repressor', 'objekt': 'rcnR'}, {'subjekt': 'RcnR', 'predikat': 'repressor', 'objekt': 'rcnB'}, {'subjekt': 'RcnR', 'predikat': 'repressor', 'objekt': 'rcnA'}]\n",
      "---------------------------\n",
      "170 286\n"
     ]
    },
    {
     "name": "stderr",
     "output_type": "stream",
     "text": [
      "C:\\Anaconda\\lib\\site-packages\\urllib3\\connectionpool.py:1061: InsecureRequestWarning: Unverified HTTPS request is being made to host 'regulondb.ccg.unam.mx'. Adding certificate verification is strongly advised. See: https://urllib3.readthedocs.io/en/1.26.x/advanced-usage.html#ssl-warnings\n",
      "  warnings.warn(\n"
     ]
    },
    {
     "name": "stdout",
     "output_type": "stream",
     "text": [
      "success:\n",
      "[{'subjekt': 'MarR', 'predikat': 'repressor', 'objekt': 'marR'}, {'subjekt': 'MarR', 'predikat': 'repressor', 'objekt': 'marA'}, {'subjekt': 'MarR', 'predikat': 'repressor', 'objekt': 'marB'}]\n",
      "---------------------------\n",
      "171 286\n"
     ]
    },
    {
     "name": "stderr",
     "output_type": "stream",
     "text": [
      "C:\\Anaconda\\lib\\site-packages\\urllib3\\connectionpool.py:1061: InsecureRequestWarning: Unverified HTTPS request is being made to host 'regulondb.ccg.unam.mx'. Adding certificate verification is strongly advised. See: https://urllib3.readthedocs.io/en/1.26.x/advanced-usage.html#ssl-warnings\n",
      "  warnings.warn(\n"
     ]
    },
    {
     "name": "stdout",
     "output_type": "stream",
     "text": [
      "success:\n",
      "[{'subjekt': 'FadR', 'predikat': 'activator', 'objekt': 'fadR'}, {'subjekt': 'FadR', 'predikat': 'repressor', 'objekt': 'fadH'}, {'subjekt': 'FadR', 'predikat': 'repressor', 'objekt': 'fadM'}, {'subjekt': 'FadR', 'predikat': 'activator', 'objekt': 'fabH'}, {'subjekt': 'FadR', 'predikat': 'activator', 'objekt': 'fabG'}, {'subjekt': 'FadR', 'predikat': 'activator', 'objekt': 'fabD'}, {'subjekt': 'FadR', 'predikat': 'activator', 'objekt': 'fabI'}, {'subjekt': 'FadR', 'predikat': 'activator', 'objekt': 'accA'}, {'subjekt': 'FadR', 'predikat': 'activator', 'objekt': 'accC'}, {'subjekt': 'FadR', 'predikat': 'activator', 'objekt': 'accB'}, {'subjekt': 'FadR', 'predikat': 'activator', 'objekt': 'accD'}, {'subjekt': 'FadR', 'predikat': 'repressor', 'objekt': 'fadA'}, {'subjekt': 'FadR', 'predikat': 'repressor', 'objekt': 'fadB'}, {'subjekt': 'FadR', 'predikat': 'repressor', 'objekt': 'fadL'}, {'subjekt': 'FadR', 'predikat': 'repressor', 'objekt': 'uspA'}, {'subjekt': 'FadR', 'predikat': 'repressor', 'objekt': 'fadE'}, {'subjekt': 'FadR', 'predikat': 'activator', 'objekt': 'fabA'}, {'subjekt': 'FadR', 'predikat': 'repressor', 'objekt': 'fadD'}, {'subjekt': 'FadR', 'predikat': 'repressor', 'objekt': 'sroD'}, {'subjekt': 'FadR', 'predikat': 'repressor', 'objekt': 'fadJ'}, {'subjekt': 'FadR', 'predikat': 'repressor', 'objekt': 'fadI'}, {'subjekt': 'FadR', 'predikat': 'activator', 'objekt': 'iclR'}, {'subjekt': 'FadR', 'predikat': 'activator', 'objekt': 'fabB'}]\n",
      "---------------------------\n",
      "172 286\n"
     ]
    },
    {
     "name": "stderr",
     "output_type": "stream",
     "text": [
      "C:\\Anaconda\\lib\\site-packages\\urllib3\\connectionpool.py:1061: InsecureRequestWarning: Unverified HTTPS request is being made to host 'regulondb.ccg.unam.mx'. Adding certificate verification is strongly advised. See: https://urllib3.readthedocs.io/en/1.26.x/advanced-usage.html#ssl-warnings\n",
      "  warnings.warn(\n"
     ]
    },
    {
     "name": "stdout",
     "output_type": "stream",
     "text": [
      "success:\n",
      "[{'subjekt': 'FeaR', 'predikat': 'activator', 'objekt': 'tynA'}, {'subjekt': 'FeaR', 'predikat': 'activator', 'objekt': 'feaB'}]\n",
      "---------------------------\n",
      "173 286\n"
     ]
    },
    {
     "name": "stderr",
     "output_type": "stream",
     "text": [
      "C:\\Anaconda\\lib\\site-packages\\urllib3\\connectionpool.py:1061: InsecureRequestWarning: Unverified HTTPS request is being made to host 'regulondb.ccg.unam.mx'. Adding certificate verification is strongly advised. See: https://urllib3.readthedocs.io/en/1.26.x/advanced-usage.html#ssl-warnings\n",
      "  warnings.warn(\n"
     ]
    },
    {
     "name": "stdout",
     "output_type": "stream",
     "text": [
      "success:\n",
      "[{'subjekt': 'FNR', 'predikat': 'repressor', 'objekt': 'puuP'}, {'subjekt': 'FNR', 'predikat': 'repressor', 'objekt': 'ymjE'}, {'subjekt': 'FNR', 'predikat': 'repressor', 'objekt': 'puuA'}, {'subjekt': 'FNR', 'predikat': 'activator', 'objekt': 'ydeJ'}, {'subjekt': 'FNR', 'predikat': 'activator', 'objekt': 'ybdN'}, {'subjekt': 'FNR', 'predikat': 'activator', 'objekt': 'iraM'}, {'subjekt': 'FNR', 'predikat': 'activator', 'objekt': 'fnrS'}, {'subjekt': 'FNR', 'predikat': 'activator', 'objekt': 'pdeF'}, {'subjekt': 'FNR', 'predikat': 'repressor', 'objekt': 'gndA'}, {'subjekt': 'FNR', 'predikat': 'repressor', 'objekt': 'gnd'}, {'subjekt': 'FNR', 'predikat': 'repressor', 'objekt': 'fumC'}, {'subjekt': 'FNR', 'predikat': 'repressor', 'objekt': 'soxR'}, {'subjekt': 'FNR', 'predikat': 'repressor', 'objekt': 'soxS'}, {'subjekt': 'FNR', 'predikat': 'repressor', 'objekt': 'nac'}, {'subjekt': 'FNR', 'predikat': 'dual', 'objekt': 'glnK'}, {'subjekt': 'FNR', 'predikat': 'dual', 'objekt': 'amtB'}, {'subjekt': 'FNR', 'predikat': 'dual', 'objekt': 'aspC'}, {'subjekt': 'FNR', 'predikat': 'dual', 'objekt': 'glnD'}, {'subjekt': 'FNR', 'predikat': 'repressor', 'objekt': 'zwf'}, {'subjekt': 'FNR', 'predikat': 'activator', 'objekt': 'gdhA'}, {'subjekt': 'FNR', 'predikat': 'dual', 'objekt': 'lpd'}, {'subjekt': 'FNR', 'predikat': 'activator', 'objekt': 'scpA'}, {'subjekt': 'FNR', 'predikat': 'activator', 'objekt': 'scpC'}, {'subjekt': 'FNR', 'predikat': 'activator', 'objekt': 'argK'}, {'subjekt': 'FNR', 'predikat': 'activator', 'objekt': 'scpB'}, {'subjekt': 'FNR', 'predikat': 'repressor', 'objekt': 'ycaC'}, {'subjekt': 'FNR', 'predikat': 'repressor', 'objekt': 'gapC'}, {'subjekt': 'FNR', 'predikat': 'repressor', 'objekt': 'dpiB'}, {'subjekt': 'FNR', 'predikat': 'repressor', 'objekt': 'dpiA'}, {'subjekt': 'FNR', 'predikat': 'repressor', 'objekt': 'citC'}, {'subjekt': 'FNR', 'predikat': 'repressor', 'objekt': 'citE'}, {'subjekt': 'FNR', 'predikat': 'repressor', 'objekt': 'citF'}, {'subjekt': 'FNR', 'predikat': 'repressor', 'objekt': 'citD'}, {'subjekt': 'FNR', 'predikat': 'repressor', 'objekt': 'citG'}, {'subjekt': 'FNR', 'predikat': 'repressor', 'objekt': 'citX'}, {'subjekt': 'FNR', 'predikat': 'activator', 'objekt': 'ydfZ'}, {'subjekt': 'FNR', 'predikat': 'dual', 'objekt': 'ompW'}, {'subjekt': 'FNR', 'predikat': 'activator', 'objekt': 'viaA'}, {'subjekt': 'FNR', 'predikat': 'activator', 'objekt': 'ravA'}, {'subjekt': 'FNR', 'predikat': 'activator', 'objekt': 'adhE'}, {'subjekt': 'FNR', 'predikat': 'dual', 'objekt': 'arcA'}, {'subjekt': 'FNR', 'predikat': 'activator', 'objekt': 'aroP'}, {'subjekt': 'FNR', 'predikat': 'dual', 'objekt': 'cydA'}, {'subjekt': 'FNR', 'predikat': 'dual', 'objekt': 'fdnG'}, {'subjekt': 'FNR', 'predikat': 'dual', 'objekt': 'fnr'}, {'subjekt': 'FNR', 'predikat': 'activator', 'objekt': 'focA'}, {'subjekt': 'FNR', 'predikat': 'activator', 'objekt': 'garD'}, {'subjekt': 'FNR', 'predikat': 'activator', 'objekt': 'katG'}, {'subjekt': 'FNR', 'predikat': 'activator', 'objekt': 'metV'}, {'subjekt': 'FNR', 'predikat': 'activator', 'objekt': 'mltA'}, {'subjekt': 'FNR', 'predikat': 'repressor', 'objekt': 'msrB'}, {'subjekt': 'FNR', 'predikat': 'activator', 'objekt': 'narG'}, {'subjekt': 'FNR', 'predikat': 'activator', 'objekt': 'narK'}, {'subjekt': 'FNR', 'predikat': 'activator', 'objekt': 'pykA'}, {'subjekt': 'FNR', 'predikat': 'activator', 'objekt': 'thrA'}, {'subjekt': 'FNR', 'predikat': 'activator', 'objekt': 'ung'}, {'subjekt': 'FNR', 'predikat': 'activator', 'objekt': 'ortT'}, {'subjekt': 'FNR', 'predikat': 'activator', 'objekt': 'ydfO'}, {'subjekt': 'FNR', 'predikat': 'activator', 'objekt': 'yfcZ'}, {'subjekt': 'FNR', 'predikat': 'activator', 'objekt': 'yffS'}, {'subjekt': 'FNR', 'predikat': 'dual', 'objekt': 'grcA'}, {'subjekt': 'FNR', 'predikat': 'activator', 'objekt': 'yibN'}, {'subjekt': 'FNR', 'predikat': 'activator', 'objekt': 'bidA'}, {'subjekt': 'FNR', 'predikat': 'repressor', 'objekt': 'gltB'}, {'subjekt': 'FNR', 'predikat': 'repressor', 'objekt': 'gltD'}, {'subjekt': 'FNR', 'predikat': 'repressor', 'objekt': 'gltF'}, {'subjekt': 'FNR', 'predikat': 'activator', 'objekt': 'pstA'}, {'subjekt': 'FNR', 'predikat': 'activator', 'objekt': 'pstB'}, {'subjekt': 'FNR', 'predikat': 'activator', 'objekt': 'phoU'}, {'subjekt': 'FNR', 'predikat': 'activator', 'objekt': 'pstS'}, {'subjekt': 'FNR', 'predikat': 'activator', 'objekt': 'pstC'}, {'subjekt': 'FNR', 'predikat': 'activator', 'objekt': 'idlP'}, {'subjekt': 'FNR', 'predikat': 'activator', 'objekt': 'iraD'}, {'subjekt': 'FNR', 'predikat': 'dual', 'objekt': 'pdhR'}, {'subjekt': 'FNR', 'predikat': 'dual', 'objekt': 'aceF'}, {'subjekt': 'FNR', 'predikat': 'dual', 'objekt': 'aceE'}, {'subjekt': 'FNR', 'predikat': 'activator', 'objekt': 'frdD'}, {'subjekt': 'FNR', 'predikat': 'activator', 'objekt': 'frdC'}, {'subjekt': 'FNR', 'predikat': 'activator', 'objekt': 'frdA'}, {'subjekt': 'FNR', 'predikat': 'activator', 'objekt': 'frdB'}, {'subjekt': 'FNR', 'predikat': 'activator', 'objekt': 'ynfE'}, {'subjekt': 'FNR', 'predikat': 'activator', 'objekt': 'ynfG'}, {'subjekt': 'FNR', 'predikat': 'activator', 'objekt': 'dmsD'}, {'subjekt': 'FNR', 'predikat': 'activator', 'objekt': 'ynfF'}, {'subjekt': 'FNR', 'predikat': 'activator', 'objekt': 'ynfH'}, {'subjekt': 'FNR', 'predikat': 'repressor', 'objekt': 'gadA'}, {'subjekt': 'FNR', 'predikat': 'repressor', 'objekt': 'gadX'}, {'subjekt': 'FNR', 'predikat': 'activator', 'objekt': 'malQ'}, {'subjekt': 'FNR', 'predikat': 'activator', 'objekt': 'malP'}, {'subjekt': 'FNR', 'predikat': 'activator', 'objekt': 'narI'}, {'subjekt': 'FNR', 'predikat': 'activator', 'objekt': 'narH'}, {'subjekt': 'FNR', 'predikat': 'activator', 'objekt': 'narJ'}, {'subjekt': 'FNR', 'predikat': 'activator', 'objekt': 'narS'}, {'subjekt': 'FNR', 'predikat': 'activator', 'objekt': 'nirC'}, {'subjekt': 'FNR', 'predikat': 'activator', 'objekt': 'nirB'}, {'subjekt': 'FNR', 'predikat': 'activator', 'objekt': 'nirD'}, {'subjekt': 'FNR', 'predikat': 'activator', 'objekt': 'cysG'}, {'subjekt': 'FNR', 'predikat': 'activator', 'objekt': 'glpA'}, {'subjekt': 'FNR', 'predikat': 'activator', 'objekt': 'glpB'}, {'subjekt': 'FNR', 'predikat': 'activator', 'objekt': 'glpC'}, {'subjekt': 'FNR', 'predikat': 'activator', 'objekt': 'glpQ'}, {'subjekt': 'FNR', 'predikat': 'activator', 'objekt': 'glpT'}, {'subjekt': 'FNR', 'predikat': 'activator', 'objekt': 'dmsB'}, {'subjekt': 'FNR', 'predikat': 'activator', 'objekt': 'dmsC'}, {'subjekt': 'FNR', 'predikat': 'activator', 'objekt': 'dmsA'}, {'subjekt': 'FNR', 'predikat': 'activator', 'objekt': 'nikD'}, {'subjekt': 'FNR', 'predikat': 'activator', 'objekt': 'nikB'}, {'subjekt': 'FNR', 'predikat': 'activator', 'objekt': 'nikR'}, {'subjekt': 'FNR', 'predikat': 'activator', 'objekt': 'nikA'}, {'subjekt': 'FNR', 'predikat': 'activator', 'objekt': 'nikC'}, {'subjekt': 'FNR', 'predikat': 'activator', 'objekt': 'nikE'}, {'subjekt': 'FNR', 'predikat': 'repressor', 'objekt': 'hmp'}, {'subjekt': 'FNR', 'predikat': 'repressor', 'objekt': 'hyfD'}, {'subjekt': 'FNR', 'predikat': 'repressor', 'objekt': 'hyfR'}, {'subjekt': 'FNR', 'predikat': 'repressor', 'objekt': 'hyfE'}, {'subjekt': 'FNR', 'predikat': 'repressor', 'objekt': 'focB'}, {'subjekt': 'FNR', 'predikat': 'repressor', 'objekt': 'hyfB'}, {'subjekt': 'FNR', 'predikat': 'repressor', 'objekt': 'hyfI'}, {'subjekt': 'FNR', 'predikat': 'repressor', 'objekt': 'hyfJ'}, {'subjekt': 'FNR', 'predikat': 'repressor', 'objekt': 'hyfC'}, {'subjekt': 'FNR', 'predikat': 'repressor', 'objekt': 'hyfF'}, {'subjekt': 'FNR', 'predikat': 'repressor', 'objekt': 'hyfH'}, {'subjekt': 'FNR', 'predikat': 'repressor', 'objekt': 'hyfG'}, {'subjekt': 'FNR', 'predikat': 'repressor', 'objekt': 'hyfA'}, {'subjekt': 'FNR', 'predikat': 'activator', 'objekt': 'ccmG'}, {'subjekt': 'FNR', 'predikat': 'activator', 'objekt': 'napH'}, {'subjekt': 'FNR', 'predikat': 'activator', 'objekt': 'napA'}, {'subjekt': 'FNR', 'predikat': 'activator', 'objekt': 'napB'}, {'subjekt': 'FNR', 'predikat': 'activator', 'objekt': 'ccmH'}, {'subjekt': 'FNR', 'predikat': 'activator', 'objekt': 'napF'}, {'subjekt': 'FNR', 'predikat': 'activator', 'objekt': 'ccmA'}, {'subjekt': 'FNR', 'predikat': 'activator', 'objekt': 'napC'}, {'subjekt': 'FNR', 'predikat': 'activator', 'objekt': 'napG'}, {'subjekt': 'FNR', 'predikat': 'activator', 'objekt': 'ccmF'}, {'subjekt': 'FNR', 'predikat': 'activator', 'objekt': 'ccmC'}, {'subjekt': 'FNR', 'predikat': 'activator', 'objekt': 'ccmD'}, {'subjekt': 'FNR', 'predikat': 'activator', 'objekt': 'ccmE'}, {'subjekt': 'FNR', 'predikat': 'activator', 'objekt': 'napD'}, {'subjekt': 'FNR', 'predikat': 'activator', 'objekt': 'ccmB'}, {'subjekt': 'FNR', 'predikat': 'activator', 'objekt': 'dcuB'}, {'subjekt': 'FNR', 'predikat': 'activator', 'objekt': 'fumB'}, {'subjekt': 'FNR', 'predikat': 'repressor', 'objekt': 'acnA'}, {'subjekt': 'FNR', 'predikat': 'activator', 'objekt': 'hlyE'}, {'subjekt': 'FNR', 'predikat': 'activator', 'objekt': 'garK'}, {'subjekt': 'FNR', 'predikat': 'activator', 'objekt': 'rnpB'}, {'subjekt': 'FNR', 'predikat': 'activator', 'objekt': 'garR'}, {'subjekt': 'FNR', 'predikat': 'activator', 'objekt': 'garP'}, {'subjekt': 'FNR', 'predikat': 'activator', 'objekt': 'garL'}, {'subjekt': 'FNR', 'predikat': 'repressor', 'objekt': 'rpsI'}, {'subjekt': 'FNR', 'predikat': 'repressor', 'objekt': 'rplM'}, {'subjekt': 'FNR', 'predikat': 'dual', 'objekt': 'cydB'}, {'subjekt': 'FNR', 'predikat': 'activator', 'objekt': 'hypB'}, {'subjekt': 'FNR', 'predikat': 'activator', 'objekt': 'fhlA'}, {'subjekt': 'FNR', 'predikat': 'activator', 'objekt': 'hypC'}, {'subjekt': 'FNR', 'predikat': 'activator', 'objekt': 'hypE'}, {'subjekt': 'FNR', 'predikat': 'activator', 'objekt': 'hypD'}, {'subjekt': 'FNR', 'predikat': 'repressor', 'objekt': 'tpx'}, {'subjekt': 'FNR', 'predikat': 'activator', 'objekt': 'caiF'}, {'subjekt': 'FNR', 'predikat': 'activator', 'objekt': 'fixC'}, {'subjekt': 'FNR', 'predikat': 'activator', 'objekt': 'fixB'}, {'subjekt': 'FNR', 'predikat': 'activator', 'objekt': 'fixA'}, {'subjekt': 'FNR', 'predikat': 'activator', 'objekt': 'fixX'}, {'subjekt': 'FNR', 'predikat': 'activator', 'objekt': 'pflB'}, {'subjekt': 'FNR', 'predikat': 'repressor', 'objekt': 'moeB'}, {'subjekt': 'FNR', 'predikat': 'repressor', 'objekt': 'moeA'}, {'subjekt': 'FNR', 'predikat': 'repressor', 'objekt': 'narL'}, {'subjekt': 'FNR', 'predikat': 'repressor', 'objekt': 'narX'}, {'subjekt': 'FNR', 'predikat': 'activator', 'objekt': 'ccp'}, {'subjekt': 'FNR', 'predikat': 'activator', 'objekt': 'cadC'}, {'subjekt': 'FNR', 'predikat': 'repressor', 'objekt': 'sodA'}, {'subjekt': 'FNR', 'predikat': 'activator', 'objekt': 'ansB'}, {'subjekt': 'FNR', 'predikat': 'repressor', 'objekt': 'dppD'}, {'subjekt': 'FNR', 'predikat': 'repressor', 'objekt': 'dppA'}, {'subjekt': 'FNR', 'predikat': 'repressor', 'objekt': 'dppF'}, {'subjekt': 'FNR', 'predikat': 'repressor', 'objekt': 'dppC'}, {'subjekt': 'FNR', 'predikat': 'repressor', 'objekt': 'dppB'}, {'subjekt': 'FNR', 'predikat': 'repressor', 'objekt': 'nuoN'}, {'subjekt': 'FNR', 'predikat': 'repressor', 'objekt': 'nuoF'}, {'subjekt': 'FNR', 'predikat': 'repressor', 'objekt': 'nuoA'}, {'subjekt': 'FNR', 'predikat': 'repressor', 'objekt': 'nuoG'}, {'subjekt': 'FNR', 'predikat': 'repressor', 'objekt': 'nuoI'}, {'subjekt': 'FNR', 'predikat': 'repressor', 'objekt': 'nuoE'}, {'subjekt': 'FNR', 'predikat': 'repressor', 'objekt': 'nuoB'}, {'subjekt': 'FNR', 'predikat': 'repressor', 'objekt': 'nuoC'}, {'subjekt': 'FNR', 'predikat': 'repressor', 'objekt': 'nuoK'}, {'subjekt': 'FNR', 'predikat': 'repressor', 'objekt': 'nuoL'}, {'subjekt': 'FNR', 'predikat': 'repressor', 'objekt': 'nuoH'}, {'subjekt': 'FNR', 'predikat': 'repressor', 'objekt': 'nuoJ'}, {'subjekt': 'FNR', 'predikat': 'repressor', 'objekt': 'nuoM'}, {'subjekt': 'FNR', 'predikat': 'activator', 'objekt': 'caiB'}, {'subjekt': 'FNR', 'predikat': 'activator', 'objekt': 'caiA'}, {'subjekt': 'FNR', 'predikat': 'activator', 'objekt': 'caiE'}, {'subjekt': 'FNR', 'predikat': 'activator', 'objekt': 'caiT'}, {'subjekt': 'FNR', 'predikat': 'activator', 'objekt': 'caiC'}, {'subjekt': 'FNR', 'predikat': 'activator', 'objekt': 'caiD'}, {'subjekt': 'FNR', 'predikat': 'activator', 'objekt': 'tdcC'}, {'subjekt': 'FNR', 'predikat': 'activator', 'objekt': 'tdcE'}, {'subjekt': 'FNR', 'predikat': 'activator', 'objekt': 'tdcF'}, {'subjekt': 'FNR', 'predikat': 'activator', 'objekt': 'tdcA'}, {'subjekt': 'FNR', 'predikat': 'activator', 'objekt': 'tdcD'}, {'subjekt': 'FNR', 'predikat': 'activator', 'objekt': 'tdcG'}, {'subjekt': 'FNR', 'predikat': 'activator', 'objekt': 'tdcB'}, {'subjekt': 'FNR', 'predikat': 'activator', 'objekt': 'gcvT'}, {'subjekt': 'FNR', 'predikat': 'activator', 'objekt': 'gcvH'}, {'subjekt': 'FNR', 'predikat': 'activator', 'objekt': 'gcvP'}, {'subjekt': 'FNR', 'predikat': 'activator', 'objekt': 'fdhF'}, {'subjekt': 'FNR', 'predikat': 'dual', 'objekt': 'fdnH'}, {'subjekt': 'FNR', 'predikat': 'dual', 'objekt': 'fdnI'}, {'subjekt': 'FNR', 'predikat': 'repressor', 'objekt': 'ndh'}, {'subjekt': 'FNR', 'predikat': 'activator', 'objekt': 'dcuA'}, {'subjekt': 'FNR', 'predikat': 'activator', 'objekt': 'aspA'}, {'subjekt': 'FNR', 'predikat': 'repressor', 'objekt': 'purN'}, {'subjekt': 'FNR', 'predikat': 'repressor', 'objekt': 'purM'}, {'subjekt': 'FNR', 'predikat': 'repressor', 'objekt': 'hemA'}, {'subjekt': 'FNR', 'predikat': 'repressor', 'objekt': 'prfA'}, {'subjekt': 'FNR', 'predikat': 'repressor', 'objekt': 'prmC'}, {'subjekt': 'FNR', 'predikat': 'repressor', 'objekt': 'cyoB'}, {'subjekt': 'FNR', 'predikat': 'repressor', 'objekt': 'cyoD'}, {'subjekt': 'FNR', 'predikat': 'repressor', 'objekt': 'cyoC'}, {'subjekt': 'FNR', 'predikat': 'repressor', 'objekt': 'cyoA'}, {'subjekt': 'FNR', 'predikat': 'repressor', 'objekt': 'cyoE'}, {'subjekt': 'FNR', 'predikat': 'repressor', 'objekt': 'sdhA'}, {'subjekt': 'FNR', 'predikat': 'repressor', 'objekt': 'sdhX'}, {'subjekt': 'FNR', 'predikat': 'repressor', 'objekt': 'sucB'}, {'subjekt': 'FNR', 'predikat': 'repressor', 'objekt': 'sucA'}, {'subjekt': 'FNR', 'predikat': 'repressor', 'objekt': 'sdhB'}, {'subjekt': 'FNR', 'predikat': 'repressor', 'objekt': 'sdhD'}, {'subjekt': 'FNR', 'predikat': 'repressor', 'objekt': 'sucD'}, {'subjekt': 'FNR', 'predikat': 'repressor', 'objekt': 'sdhC'}, {'subjekt': 'FNR', 'predikat': 'repressor', 'objekt': 'sucC'}, {'subjekt': 'FNR', 'predikat': 'repressor', 'objekt': 'fumA'}, {'subjekt': 'FNR', 'predikat': 'activator', 'objekt': 'nrfA'}, {'subjekt': 'FNR', 'predikat': 'activator', 'objekt': 'nrfD'}, {'subjekt': 'FNR', 'predikat': 'activator', 'objekt': 'nrfC'}, {'subjekt': 'FNR', 'predikat': 'activator', 'objekt': 'nrfG'}, {'subjekt': 'FNR', 'predikat': 'activator', 'objekt': 'nrfE'}, {'subjekt': 'FNR', 'predikat': 'activator', 'objekt': 'nrfB'}, {'subjekt': 'FNR', 'predikat': 'activator', 'objekt': 'nrfF'}, {'subjekt': 'FNR', 'predikat': 'repressor', 'objekt': 'aldA'}, {'subjekt': 'FNR', 'predikat': 'activator', 'objekt': 'ssuC'}, {'subjekt': 'FNR', 'predikat': 'activator', 'objekt': 'ssuA'}, {'subjekt': 'FNR', 'predikat': 'activator', 'objekt': 'ssuE'}, {'subjekt': 'FNR', 'predikat': 'activator', 'objekt': 'ssuB'}, {'subjekt': 'FNR', 'predikat': 'activator', 'objekt': 'ssuD'}, {'subjekt': 'FNR', 'predikat': 'repressor', 'objekt': 'yeiL'}, {'subjekt': 'FNR', 'predikat': 'activator', 'objekt': 'cydD'}, {'subjekt': 'FNR', 'predikat': 'activator', 'objekt': 'cydC'}, {'subjekt': 'FNR', 'predikat': 'repressor', 'objekt': 'rimM'}, {'subjekt': 'FNR', 'predikat': 'repressor', 'objekt': 'rplS'}, {'subjekt': 'FNR', 'predikat': 'repressor', 'objekt': 'rpsP'}, {'subjekt': 'FNR', 'predikat': 'repressor', 'objekt': 'trmD'}, {'subjekt': 'FNR', 'predikat': 'activator', 'objekt': 'ackA'}, {'subjekt': 'FNR', 'predikat': 'activator', 'objekt': 'rpsJ'}, {'subjekt': 'FNR', 'predikat': 'activator', 'objekt': 'rplW'}, {'subjekt': 'FNR', 'predikat': 'activator', 'objekt': 'rplP'}, {'subjekt': 'FNR', 'predikat': 'activator', 'objekt': 'rplD'}, {'subjekt': 'FNR', 'predikat': 'activator', 'objekt': 'rpsC'}, {'subjekt': 'FNR', 'predikat': 'activator', 'objekt': 'rpsS'}, {'subjekt': 'FNR', 'predikat': 'activator', 'objekt': 'rplC'}, {'subjekt': 'FNR', 'predikat': 'activator', 'objekt': 'rplV'}, {'subjekt': 'FNR', 'predikat': 'activator', 'objekt': 'rpsQ'}, {'subjekt': 'FNR', 'predikat': 'activator', 'objekt': 'rplB'}, {'subjekt': 'FNR', 'predikat': 'activator', 'objekt': 'rpmC'}, {'subjekt': 'FNR', 'predikat': 'activator', 'objekt': 'poxB'}, {'subjekt': 'FNR', 'predikat': 'activator', 'objekt': 'hcp'}, {'subjekt': 'FNR', 'predikat': 'activator', 'objekt': 'hcr'}, {'subjekt': 'FNR', 'predikat': 'repressor', 'objekt': 'pheM'}, {'subjekt': 'FNR', 'predikat': 'repressor', 'objekt': 'rplT'}, {'subjekt': 'FNR', 'predikat': 'repressor', 'objekt': 'ubiC'}, {'subjekt': 'FNR', 'predikat': 'repressor', 'objekt': 'ubiA'}, {'subjekt': 'FNR', 'predikat': 'activator', 'objekt': 'uxaA'}, {'subjekt': 'FNR', 'predikat': 'activator', 'objekt': 'uxaC'}, {'subjekt': 'FNR', 'predikat': 'activator', 'objekt': 'nrdD'}, {'subjekt': 'FNR', 'predikat': 'activator', 'objekt': 'nrdG'}, {'subjekt': 'FNR', 'predikat': 'repressor', 'objekt': 'norV'}, {'subjekt': 'FNR', 'predikat': 'repressor', 'objekt': 'norW'}, {'subjekt': 'FNR', 'predikat': 'activator', 'objekt': 'upp'}, {'subjekt': 'FNR', 'predikat': 'activator', 'objekt': 'uraA'}, {'subjekt': 'FNR', 'predikat': 'activator', 'objekt': 'xdhC'}, {'subjekt': 'FNR', 'predikat': 'activator', 'objekt': 'xdhA'}, {'subjekt': 'FNR', 'predikat': 'activator', 'objekt': 'xdhB'}, {'subjekt': 'FNR', 'predikat': 'activator', 'objekt': 'emrY'}, {'subjekt': 'FNR', 'predikat': 'activator', 'objekt': 'emrK'}, {'subjekt': 'FNR', 'predikat': 'repressor', 'objekt': 'gadW'}, {'subjekt': 'FNR', 'predikat': 'activator', 'objekt': 'aer'}, {'subjekt': 'FNR', 'predikat': 'activator', 'objekt': 'tap'}, {'subjekt': 'FNR', 'predikat': 'activator', 'objekt': 'cheZ'}, {'subjekt': 'FNR', 'predikat': 'activator', 'objekt': 'cheB'}, {'subjekt': 'FNR', 'predikat': 'activator', 'objekt': 'cheY'}, {'subjekt': 'FNR', 'predikat': 'activator', 'objekt': 'tar'}, {'subjekt': 'FNR', 'predikat': 'activator', 'objekt': 'cheR'}, {'subjekt': 'FNR', 'predikat': 'activator', 'objekt': 'dcuC'}, {'subjekt': 'FNR', 'predikat': 'activator', 'objekt': 'moaE'}, {'subjekt': 'FNR', 'predikat': 'activator', 'objekt': 'moaB'}, {'subjekt': 'FNR', 'predikat': 'activator', 'objekt': 'moaD'}, {'subjekt': 'FNR', 'predikat': 'activator', 'objekt': 'moaC'}, {'subjekt': 'FNR', 'predikat': 'activator', 'objekt': 'moaA'}, {'subjekt': 'FNR', 'predikat': 'activator', 'objekt': 'fes'}, {'subjekt': 'FNR', 'predikat': 'activator', 'objekt': 'ybdZ'}, {'subjekt': 'FNR', 'predikat': 'activator', 'objekt': 'fepE'}, {'subjekt': 'FNR', 'predikat': 'activator', 'objekt': 'entF'}, {'subjekt': 'FNR', 'predikat': 'activator', 'objekt': 'pitA'}, {'subjekt': 'FNR', 'predikat': 'activator', 'objekt': 'pepT'}, {'subjekt': 'FNR', 'predikat': 'activator', 'objekt': 'yecR'}, {'subjekt': 'FNR', 'predikat': 'activator', 'objekt': 'bcsZ'}, {'subjekt': 'FNR', 'predikat': 'activator', 'objekt': 'bcsB'}, {'subjekt': 'FNR', 'predikat': 'activator', 'objekt': 'acrF'}, {'subjekt': 'FNR', 'predikat': 'activator', 'objekt': 'acrE'}, {'subjekt': 'FNR', 'predikat': 'activator', 'objekt': 'dcuS'}, {'subjekt': 'FNR', 'predikat': 'activator', 'objekt': 'dcuR'}, {'subjekt': 'FNR', 'predikat': 'activator', 'objekt': 'feoA'}, {'subjekt': 'FNR', 'predikat': 'activator', 'objekt': 'feoB'}, {'subjekt': 'FNR', 'predikat': 'activator', 'objekt': 'feoC'}, {'subjekt': 'FNR', 'predikat': 'repressor', 'objekt': 'ygbA'}, {'subjekt': 'FNR', 'predikat': 'repressor', 'objekt': 'ysgA'}, {'subjekt': 'FNR', 'predikat': 'activator', 'objekt': 'nfeR'}, {'subjekt': 'FNR', 'predikat': 'repressor', 'objekt': 'ychO'}, {'subjekt': 'FNR', 'predikat': 'repressor', 'objekt': 'ompX'}, {'subjekt': 'FNR', 'predikat': 'repressor', 'objekt': 'ytfE'}, {'subjekt': 'FNR', 'predikat': 'activator', 'objekt': 'ydhY'}, {'subjekt': 'FNR', 'predikat': 'activator', 'objekt': 'ydhU'}, {'subjekt': 'FNR', 'predikat': 'activator', 'objekt': 'ydhW'}, {'subjekt': 'FNR', 'predikat': 'activator', 'objekt': 'ydhT'}, {'subjekt': 'FNR', 'predikat': 'activator', 'objekt': 'ydhV'}, {'subjekt': 'FNR', 'predikat': 'activator', 'objekt': 'ydhX'}]\n",
      "---------------------------\n",
      "174 286\n"
     ]
    },
    {
     "name": "stderr",
     "output_type": "stream",
     "text": [
      "C:\\Anaconda\\lib\\site-packages\\urllib3\\connectionpool.py:1061: InsecureRequestWarning: Unverified HTTPS request is being made to host 'regulondb.ccg.unam.mx'. Adding certificate verification is strongly advised. See: https://urllib3.readthedocs.io/en/1.26.x/advanced-usage.html#ssl-warnings\n",
      "  warnings.warn(\n",
      "C:\\Anaconda\\lib\\site-packages\\urllib3\\connectionpool.py:1061: InsecureRequestWarning: Unverified HTTPS request is being made to host 'regulondb.ccg.unam.mx'. Adding certificate verification is strongly advised. See: https://urllib3.readthedocs.io/en/1.26.x/advanced-usage.html#ssl-warnings\n",
      "  warnings.warn(\n"
     ]
    },
    {
     "name": "stdout",
     "output_type": "stream",
     "text": [
      "success:\n",
      "[{'subjekt': 'YefM', 'predikat': 'repressor', 'objekt': 'yoeB'}, {'subjekt': 'YefM', 'predikat': 'repressor', 'objekt': 'yefM'}]\n",
      "---------------------------\n",
      "175 286\n"
     ]
    },
    {
     "name": "stderr",
     "output_type": "stream",
     "text": [
      "C:\\Anaconda\\lib\\site-packages\\urllib3\\connectionpool.py:1061: InsecureRequestWarning: Unverified HTTPS request is being made to host 'regulondb.ccg.unam.mx'. Adding certificate verification is strongly advised. See: https://urllib3.readthedocs.io/en/1.26.x/advanced-usage.html#ssl-warnings\n",
      "  warnings.warn(\n"
     ]
    },
    {
     "name": "stdout",
     "output_type": "stream",
     "text": [
      "success:\n",
      "[{'subjekt': 'NadR', 'predikat': 'repressor', 'objekt': 'nadB'}, {'subjekt': 'NadR', 'predikat': 'repressor', 'objekt': 'pncB'}, {'subjekt': 'NadR', 'predikat': 'repressor', 'objekt': 'pnuC'}, {'subjekt': 'NadR', 'predikat': 'repressor', 'objekt': 'nadA'}]\n",
      "---------------------------\n",
      "176 286\n"
     ]
    },
    {
     "name": "stderr",
     "output_type": "stream",
     "text": [
      "C:\\Anaconda\\lib\\site-packages\\urllib3\\connectionpool.py:1061: InsecureRequestWarning: Unverified HTTPS request is being made to host 'regulondb.ccg.unam.mx'. Adding certificate verification is strongly advised. See: https://urllib3.readthedocs.io/en/1.26.x/advanced-usage.html#ssl-warnings\n",
      "  warnings.warn(\n"
     ]
    },
    {
     "name": "stdout",
     "output_type": "stream",
     "text": [
      "success:\n",
      "[{'subjekt': 'YdfH', 'predikat': 'repressor', 'objekt': 'rspB'}, {'subjekt': 'YdfH', 'predikat': 'repressor', 'objekt': 'rspA'}]\n",
      "---------------------------\n",
      "177 286\n"
     ]
    },
    {
     "name": "stderr",
     "output_type": "stream",
     "text": [
      "C:\\Anaconda\\lib\\site-packages\\urllib3\\connectionpool.py:1061: InsecureRequestWarning: Unverified HTTPS request is being made to host 'regulondb.ccg.unam.mx'. Adding certificate verification is strongly advised. See: https://urllib3.readthedocs.io/en/1.26.x/advanced-usage.html#ssl-warnings\n",
      "  warnings.warn(\n"
     ]
    },
    {
     "name": "stdout",
     "output_type": "stream",
     "text": [
      "success:\n",
      "[{'subjekt': 'AlpA', 'predikat': 'activator', 'objekt': 'intA'}, {'subjekt': 'AlpA', 'predikat': 'repressor', 'objekt': 'phoR'}, {'subjekt': 'AlpA', 'predikat': 'repressor', 'objekt': 'phoB'}]\n",
      "---------------------------\n",
      "178 286\n"
     ]
    },
    {
     "name": "stderr",
     "output_type": "stream",
     "text": [
      "C:\\Anaconda\\lib\\site-packages\\urllib3\\connectionpool.py:1061: InsecureRequestWarning: Unverified HTTPS request is being made to host 'regulondb.ccg.unam.mx'. Adding certificate verification is strongly advised. See: https://urllib3.readthedocs.io/en/1.26.x/advanced-usage.html#ssl-warnings\n",
      "  warnings.warn(\n"
     ]
    },
    {
     "name": "stdout",
     "output_type": "stream",
     "text": [
      "success:\n",
      "[{'subjekt': 'CdaR', 'predikat': 'activator', 'objekt': 'garK'}, {'subjekt': 'CdaR', 'predikat': 'activator', 'objekt': 'rnpB'}, {'subjekt': 'CdaR', 'predikat': 'activator', 'objekt': 'garR'}, {'subjekt': 'CdaR', 'predikat': 'activator', 'objekt': 'garP'}, {'subjekt': 'CdaR', 'predikat': 'activator', 'objekt': 'garL'}, {'subjekt': 'CdaR', 'predikat': 'activator', 'objekt': 'garD'}, {'subjekt': 'CdaR', 'predikat': 'activator', 'objekt': 'gudX'}, {'subjekt': 'CdaR', 'predikat': 'activator', 'objekt': 'gudP'}, {'subjekt': 'CdaR', 'predikat': 'activator', 'objekt': 'gudD'}, {'subjekt': 'CdaR', 'predikat': 'activator', 'objekt': 'cdaR'}]\n",
      "---------------------------\n",
      "179 286\n"
     ]
    },
    {
     "name": "stderr",
     "output_type": "stream",
     "text": [
      "C:\\Anaconda\\lib\\site-packages\\urllib3\\connectionpool.py:1061: InsecureRequestWarning: Unverified HTTPS request is being made to host 'regulondb.ccg.unam.mx'. Adding certificate verification is strongly advised. See: https://urllib3.readthedocs.io/en/1.26.x/advanced-usage.html#ssl-warnings\n",
      "  warnings.warn(\n"
     ]
    },
    {
     "name": "stdout",
     "output_type": "stream",
     "text": [
      "success:\n",
      "[{'subjekt': 'IlvY', 'predikat': 'activator', 'objekt': 'ilvC'}, {'subjekt': 'IlvY', 'predikat': 'repressor', 'objekt': 'ilvY'}]\n",
      "---------------------------\n",
      "180 286\n"
     ]
    },
    {
     "name": "stderr",
     "output_type": "stream",
     "text": [
      "C:\\Anaconda\\lib\\site-packages\\urllib3\\connectionpool.py:1061: InsecureRequestWarning: Unverified HTTPS request is being made to host 'regulondb.ccg.unam.mx'. Adding certificate verification is strongly advised. See: https://urllib3.readthedocs.io/en/1.26.x/advanced-usage.html#ssl-warnings\n",
      "  warnings.warn(\n"
     ]
    },
    {
     "name": "stdout",
     "output_type": "stream",
     "text": [
      "success:\n",
      "[{'subjekt': 'Nac', 'predikat': 'activator', 'objekt': 'ydcS'}, {'subjekt': 'Nac', 'predikat': 'activator', 'objekt': 'patD'}, {'subjekt': 'Nac', 'predikat': 'activator', 'objekt': 'ydcT'}, {'subjekt': 'Nac', 'predikat': 'activator', 'objekt': 'ydcV'}, {'subjekt': 'Nac', 'predikat': 'activator', 'objekt': 'ydcU'}, {'subjekt': 'Nac', 'predikat': 'dual', 'objekt': 'feaR'}, {'subjekt': 'Nac', 'predikat': 'repressor', 'objekt': 'abgR'}, {'subjekt': 'Nac', 'predikat': 'activator', 'objekt': 'ackA'}, {'subjekt': 'Nac', 'predikat': 'repressor', 'objekt': 'cbrC'}, {'subjekt': 'Nac', 'predikat': 'repressor', 'objekt': 'curA'}, {'subjekt': 'Nac', 'predikat': 'activator', 'objekt': 'cysQ'}, {'subjekt': 'Nac', 'predikat': 'activator', 'objekt': 'dcp'}, {'subjekt': 'Nac', 'predikat': 'repressor', 'objekt': 'ddlA'}, {'subjekt': 'Nac', 'predikat': 'repressor', 'objekt': 'dld'}, {'subjekt': 'Nac', 'predikat': 'repressor', 'objekt': 'eamA'}, {'subjekt': 'Nac', 'predikat': 'activator', 'objekt': 'elfA'}, {'subjekt': 'Nac', 'predikat': 'repressor', 'objekt': 'eptA'}, {'subjekt': 'Nac', 'predikat': 'repressor', 'objekt': 'fdhD'}, {'subjekt': 'Nac', 'predikat': 'repressor', 'objekt': 'fklB'}, {'subjekt': 'Nac', 'predikat': 'repressor', 'objekt': 'gltP'}, {'subjekt': 'Nac', 'predikat': 'repressor', 'objekt': 'greB'}, {'subjekt': 'Nac', 'predikat': 'repressor', 'objekt': 'ispB'}, {'subjekt': 'Nac', 'predikat': 'activator', 'objekt': 'ivy'}, {'subjekt': 'Nac', 'predikat': 'repressor', 'objekt': 'kdgR'}, {'subjekt': 'Nac', 'predikat': 'repressor', 'objekt': 'kduI'}, {'subjekt': 'Nac', 'predikat': 'repressor', 'objekt': 'ligB'}, {'subjekt': 'Nac', 'predikat': 'repressor', 'objekt': 'mdtG'}, {'subjekt': 'Nac', 'predikat': 'repressor', 'objekt': 'mltD'}, {'subjekt': 'Nac', 'predikat': 'repressor', 'objekt': 'mtfA'}, {'subjekt': 'Nac', 'predikat': 'repressor', 'objekt': 'nudG'}, {'subjekt': 'Nac', 'predikat': 'repressor', 'objekt': 'pinQ'}, {'subjekt': 'Nac', 'predikat': 'repressor', 'objekt': 'pinR'}, {'subjekt': 'Nac', 'predikat': 'repressor', 'objekt': 'pphB'}, {'subjekt': 'Nac', 'predikat': 'repressor', 'objekt': 'prfC'}, {'subjekt': 'Nac', 'predikat': 'repressor', 'objekt': 'queD'}, {'subjekt': 'Nac', 'predikat': 'activator', 'objekt': 'rfaH'}, {'subjekt': 'Nac', 'predikat': 'repressor', 'objekt': 'rhtA'}, {'subjekt': 'Nac', 'predikat': 'activator', 'objekt': 'rlmF'}, {'subjekt': 'Nac', 'predikat': 'activator', 'objekt': 'rlmM'}, {'subjekt': 'Nac', 'predikat': 'repressor', 'objekt': 'rsmF'}, {'subjekt': 'Nac', 'predikat': 'repressor', 'objekt': 'sdiA'}, {'subjekt': 'Nac', 'predikat': 'repressor', 'objekt': 'tdcR'}, {'subjekt': 'Nac', 'predikat': 'activator', 'objekt': 'torI'}, {'subjekt': 'Nac', 'predikat': 'repressor', 'objekt': 'ugd'}, {'subjekt': 'Nac', 'predikat': 'activator', 'objekt': 'uspC'}, {'subjekt': 'Nac', 'predikat': 'activator', 'objekt': 'wecH'}, {'subjekt': 'Nac', 'predikat': 'repressor', 'objekt': 'yaeF'}, {'subjekt': 'Nac', 'predikat': 'repressor', 'objekt': 'yafC'}, {'subjekt': 'Nac', 'predikat': 'activator', 'objekt': 'dpaA'}, {'subjekt': 'Nac', 'predikat': 'activator', 'objekt': 'yagU'}, {'subjekt': 'Nac', 'predikat': 'activator', 'objekt': 'yaiS'}, {'subjekt': 'Nac', 'predikat': 'repressor', 'objekt': 'yaiY'}, {'subjekt': 'Nac', 'predikat': 'repressor', 'objekt': 'yajD'}, {'subjekt': 'Nac', 'predikat': 'activator', 'objekt': 'ybcK'}, {'subjekt': 'Nac', 'predikat': 'activator', 'objekt': 'ybdK'}, {'subjekt': 'Nac', 'predikat': 'repressor', 'objekt': 'ybdR'}, {'subjekt': 'Nac', 'predikat': 'activator', 'objekt': 'ybeQ'}, {'subjekt': 'Nac', 'predikat': 'activator', 'objekt': 'ybeT'}, {'subjekt': 'Nac', 'predikat': 'activator', 'objekt': 'ybhD'}, {'subjekt': 'Nac', 'predikat': 'repressor', 'objekt': 'ybhH'}, {'subjekt': 'Nac', 'predikat': 'repressor', 'objekt': 'ybhI'}, {'subjekt': 'Nac', 'predikat': 'activator', 'objekt': 'ybhM'}, {'subjekt': 'Nac', 'predikat': 'repressor', 'objekt': 'ycaC'}, {'subjekt': 'Nac', 'predikat': 'repressor', 'objekt': 'ycaD'}, {'subjekt': 'Nac', 'predikat': 'activator', 'objekt': 'ycaN'}, {'subjekt': 'Nac', 'predikat': 'repressor', 'objekt': 'yccM'}, {'subjekt': 'Nac', 'predikat': 'repressor', 'objekt': 'ycgJ'}, {'subjekt': 'Nac', 'predikat': 'activator', 'objekt': 'ycgV'}, {'subjekt': 'Nac', 'predikat': 'activator', 'objekt': 'ycgX'}, {'subjekt': 'Nac', 'predikat': 'repressor', 'objekt': 'ydcY'}, {'subjekt': 'Nac', 'predikat': 'activator', 'objekt': 'ydeE'}, {'subjekt': 'Nac', 'predikat': 'repressor', 'objekt': 'ydgH'}, {'subjekt': 'Nac', 'predikat': 'repressor', 'objekt': 'fumD'}, {'subjekt': 'Nac', 'predikat': 'repressor', 'objekt': 'ydiM'}, {'subjekt': 'Nac', 'predikat': 'repressor', 'objekt': 'ydiY'}, {'subjekt': 'Nac', 'predikat': 'repressor', 'objekt': 'yebQ'}, {'subjekt': 'Nac', 'predikat': 'repressor', 'objekt': 'yedL'}, {'subjekt': 'Nac', 'predikat': 'repressor', 'objekt': 'yeeZ'}, {'subjekt': 'Nac', 'predikat': 'repressor', 'objekt': 'yehE'}, {'subjekt': 'Nac', 'predikat': 'repressor', 'objekt': 'yeiE'}, {'subjekt': 'Nac', 'predikat': 'activator', 'objekt': 'yeiH'}, {'subjekt': 'Nac', 'predikat': 'repressor', 'objekt': 'yfbK'}, {'subjekt': 'Nac', 'predikat': 'activator', 'objekt': 'yfbL'}, {'subjekt': 'Nac', 'predikat': 'repressor', 'objekt': 'yfbV'}, {'subjekt': 'Nac', 'predikat': 'repressor', 'objekt': 'yfdE'}, {'subjekt': 'Nac', 'predikat': 'activator', 'objekt': 'yfdV'}, {'subjekt': 'Nac', 'predikat': 'repressor', 'objekt': 'yfjI'}, {'subjekt': 'Nac', 'predikat': 'repressor', 'objekt': 'ygcS'}, {'subjekt': 'Nac', 'predikat': 'repressor', 'objekt': 'ppnN'}, {'subjekt': 'Nac', 'predikat': 'repressor', 'objekt': 'ygdR'}, {'subjekt': 'Nac', 'predikat': 'repressor', 'objekt': 'ygeG'}, {'subjekt': 'Nac', 'predikat': 'repressor', 'objekt': 'srsR'}, {'subjekt': 'Nac', 'predikat': 'activator', 'objekt': 'yghG'}, {'subjekt': 'Nac', 'predikat': 'repressor', 'objekt': 'yghT'}, {'subjekt': 'Nac', 'predikat': 'repressor', 'objekt': 'ygiN'}, {'subjekt': 'Nac', 'predikat': 'activator', 'objekt': 'ygjH'}, {'subjekt': 'Nac', 'predikat': 'repressor', 'objekt': 'ygjI'}, {'subjekt': 'Nac', 'predikat': 'repressor', 'objekt': 'yhaI'}, {'subjekt': 'Nac', 'predikat': 'activator', 'objekt': 'yhbX'}, {'subjekt': 'Nac', 'predikat': 'activator', 'objekt': 'yhcC'}, {'subjekt': 'Nac', 'predikat': 'repressor', 'objekt': 'yhdV'}, {'subjekt': 'Nac', 'predikat': 'repressor', 'objekt': 'yhfL'}, {'subjekt': 'Nac', 'predikat': 'activator', 'objekt': 'yhhQ'}, {'subjekt': 'Nac', 'predikat': 'repressor', 'objekt': 'yhiJ'}, {'subjekt': 'Nac', 'predikat': 'repressor', 'objekt': 'yhjD'}, {'subjekt': 'Nac', 'predikat': 'activator', 'objekt': 'yhjE'}, {'subjekt': 'Nac', 'predikat': 'repressor', 'objekt': 'yiaD'}, {'subjekt': 'Nac', 'predikat': 'repressor', 'objekt': 'yieH'}, {'subjekt': 'Nac', 'predikat': 'repressor', 'objekt': 'yijO'}, {'subjekt': 'Nac', 'predikat': 'activator', 'objekt': 'yjaH'}, {'subjekt': 'Nac', 'predikat': 'activator', 'objekt': 'yjcF'}, {'subjekt': 'Nac', 'predikat': 'repressor', 'objekt': 'yjcO'}, {'subjekt': 'Nac', 'predikat': 'repressor', 'objekt': 'yjeH'}, {'subjekt': 'Nac', 'predikat': 'repressor', 'objekt': 'yjeJ'}, {'subjekt': 'Nac', 'predikat': 'activator', 'objekt': 'yjgM'}, {'subjekt': 'Nac', 'predikat': 'repressor', 'objekt': 'yjgN'}, {'subjekt': 'Nac', 'predikat': 'repressor', 'objekt': 'ykgL'}, {'subjekt': 'Nac', 'predikat': 'repressor', 'objekt': 'ymjA'}, {'subjekt': 'Nac', 'predikat': 'repressor', 'objekt': 'ynfA'}, {'subjekt': 'Nac', 'predikat': 'repressor', 'objekt': 'yohO'}, {'subjekt': 'Nac', 'predikat': 'activator', 'objekt': 'yqeK'}, {'subjekt': 'Nac', 'predikat': 'repressor', 'objekt': 'yraH'}, {'subjekt': 'Nac', 'predikat': 'activator', 'objekt': 'yrhB'}, {'subjekt': 'Nac', 'predikat': 'repressor', 'objekt': 'abgA'}, {'subjekt': 'Nac', 'predikat': 'repressor', 'objekt': 'aceB'}, {'subjekt': 'Nac', 'predikat': 'repressor', 'objekt': 'acrE'}, {'subjekt': 'Nac', 'predikat': 'activator', 'objekt': 'ahpC'}, {'subjekt': 'Nac', 'predikat': 'repressor', 'objekt': 'alaC'}, {'subjekt': 'Nac', 'predikat': 'activator', 'objekt': 'allR'}, {'subjekt': 'Nac', 'predikat': 'repressor', 'objekt': 'amiB'}, {'subjekt': 'Nac', 'predikat': 'repressor', 'objekt': 'amn'}, {'subjekt': 'Nac', 'predikat': 'repressor', 'objekt': 'ampD'}, {'subjekt': 'Nac', 'predikat': 'repressor', 'objekt': 'ansB'}, {'subjekt': 'Nac', 'predikat': 'repressor', 'objekt': 'ansP'}, {'subjekt': 'Nac', 'predikat': 'repressor', 'objekt': 'araE'}, {'subjekt': 'Nac', 'predikat': 'repressor', 'objekt': 'araF'}, {'subjekt': 'Nac', 'predikat': 'activator', 'objekt': 'argO'}, {'subjekt': 'Nac', 'predikat': 'activator', 'objekt': 'argU'}, {'subjekt': 'Nac', 'predikat': 'repressor', 'objekt': 'aroD'}, {'subjekt': 'Nac', 'predikat': 'repressor', 'objekt': 'aroE'}, {'subjekt': 'Nac', 'predikat': 'repressor', 'objekt': 'aroF'}, {'subjekt': 'Nac', 'predikat': 'repressor', 'objekt': 'asnA'}, {'subjekt': 'Nac', 'predikat': 'repressor', 'objekt': 'asnT'}, {'subjekt': 'Nac', 'predikat': 'repressor', 'objekt': 'asnV'}, {'subjekt': 'Nac', 'predikat': 'repressor', 'objekt': 'bfd'}, {'subjekt': 'Nac', 'predikat': 'activator', 'objekt': 'bfr'}, {'subjekt': 'Nac', 'predikat': 'repressor', 'objekt': 'bglB'}, {'subjekt': 'Nac', 'predikat': 'repressor', 'objekt': 'bglH'}, {'subjekt': 'Nac', 'predikat': 'activator', 'objekt': 'bglX'}, {'subjekt': 'Nac', 'predikat': 'activator', 'objekt': 'bisC'}, {'subjekt': 'Nac', 'predikat': 'repressor', 'objekt': 'blc'}, {'subjekt': 'Nac', 'predikat': 'repressor', 'objekt': 'borD'}, {'subjekt': 'Nac', 'predikat': 'activator', 'objekt': 'bssS'}, {'subjekt': 'Nac', 'predikat': 'repressor', 'objekt': 'caiF'}, {'subjekt': 'Nac', 'predikat': 'repressor', 'objekt': 'cbrB'}, {'subjekt': 'Nac', 'predikat': 'repressor', 'objekt': 'ccmA'}, {'subjekt': 'Nac', 'predikat': 'repressor', 'objekt': 'ccmB'}, {'subjekt': 'Nac', 'predikat': 'repressor', 'objekt': 'ccmH'}, {'subjekt': 'Nac', 'predikat': 'repressor', 'objekt': 'cdaR'}, {'subjekt': 'Nac', 'predikat': 'repressor', 'objekt': 'cfa'}, {'subjekt': 'Nac', 'predikat': 'activator', 'objekt': 'cheA'}, {'subjekt': 'Nac', 'predikat': 'repressor', 'objekt': 'cho'}, {'subjekt': 'Nac', 'predikat': 'repressor', 'objekt': 'chpS'}, {'subjekt': 'Nac', 'predikat': 'activator', 'objekt': 'cmtA'}, {'subjekt': 'Nac', 'predikat': 'activator', 'objekt': 'cmtB'}, {'subjekt': 'Nac', 'predikat': 'repressor', 'objekt': 'cobT'}, {'subjekt': 'Nac', 'predikat': 'repressor', 'objekt': 'cobU'}, {'subjekt': 'Nac', 'predikat': 'repressor', 'objekt': 'cpdB'}, {'subjekt': 'Nac', 'predikat': 'repressor', 'objekt': 'glaH'}, {'subjekt': 'Nac', 'predikat': 'repressor', 'objekt': 'csiE'}, {'subjekt': 'Nac', 'predikat': 'activator', 'objekt': 'cycA'}, {'subjekt': 'Nac', 'predikat': 'activator', 'objekt': 'cydA'}, {'subjekt': 'Nac', 'predikat': 'repressor', 'objekt': 'cynR'}, {'subjekt': 'Nac', 'predikat': 'repressor', 'objekt': 'cynT'}, {'subjekt': 'Nac', 'predikat': 'repressor', 'objekt': 'cysJ'}, {'subjekt': 'Nac', 'predikat': 'repressor', 'objekt': 'cysS'}, {'subjekt': 'Nac', 'predikat': 'activator', 'objekt': 'dadA'}, {'subjekt': 'Nac', 'predikat': 'repressor', 'objekt': 'dapB'}, {'subjekt': 'Nac', 'predikat': 'repressor', 'objekt': 'dcm'}, {'subjekt': 'Nac', 'predikat': 'activator', 'objekt': 'dcyD'}, {'subjekt': 'Nac', 'predikat': 'repressor', 'objekt': 'ddpC'}, {'subjekt': 'Nac', 'predikat': 'repressor', 'objekt': 'dhaK'}, {'subjekt': 'Nac', 'predikat': 'activator', 'objekt': 'dhaR'}, {'subjekt': 'Nac', 'predikat': 'repressor', 'objekt': 'dinJ'}, {'subjekt': 'Nac', 'predikat': 'repressor', 'objekt': 'dkgA'}, {'subjekt': 'Nac', 'predikat': 'repressor', 'objekt': 'dnaA'}, {'subjekt': 'Nac', 'predikat': 'repressor', 'objekt': 'dppA'}, {'subjekt': 'Nac', 'predikat': 'repressor', 'objekt': 'dsbA'}, {'subjekt': 'Nac', 'predikat': 'activator', 'objekt': 'dsbG'}, {'subjekt': 'Nac', 'predikat': 'repressor', 'objekt': 'ecnA'}, {'subjekt': 'Nac', 'predikat': 'repressor', 'objekt': 'ecnB'}, {'subjekt': 'Nac', 'predikat': 'repressor', 'objekt': 'elfG'}, {'subjekt': 'Nac', 'predikat': 'repressor', 'objekt': 'emrK'}, {'subjekt': 'Nac', 'predikat': 'activator', 'objekt': 'eutS'}, {'subjekt': 'Nac', 'predikat': 'repressor', 'objekt': 'evgA'}, {'subjekt': 'Nac', 'predikat': 'repressor', 'objekt': 'exuT'}, {'subjekt': 'Nac', 'predikat': 'repressor', 'objekt': 'fdoG'}, {'subjekt': 'Nac', 'predikat': 'repressor', 'objekt': 'feaB'}, {'subjekt': 'Nac', 'predikat': 'repressor', 'objekt': 'fepE'}, {'subjekt': 'Nac', 'predikat': 'repressor', 'objekt': 'fhuF'}, {'subjekt': 'Nac', 'predikat': 'repressor', 'objekt': 'fliC'}, {'subjekt': 'Nac', 'predikat': 'repressor', 'objekt': 'fliD'}, {'subjekt': 'Nac', 'predikat': 'activator', 'objekt': 'ftnB'}, {'subjekt': 'Nac', 'predikat': 'repressor', 'objekt': 'fucA'}, {'subjekt': 'Nac', 'predikat': 'activator', 'objekt': 'gadE'}, {'subjekt': 'Nac', 'predikat': 'repressor', 'objekt': 'gadX'}, {'subjekt': 'Nac', 'predikat': 'repressor', 'objekt': 'gatA'}, {'subjekt': 'Nac', 'predikat': 'repressor', 'objekt': 'gcvT'}, {'subjekt': 'Nac', 'predikat': 'activator', 'objekt': 'glcA'}, {'subjekt': 'Nac', 'predikat': 'repressor', 'objekt': 'glpK'}, {'subjekt': 'Nac', 'predikat': 'repressor', 'objekt': 'gltA'}, {'subjekt': 'Nac', 'predikat': 'dual', 'objekt': 'gltF'}, {'subjekt': 'Nac', 'predikat': 'repressor', 'objekt': 'glxK'}, {'subjekt': 'Nac', 'predikat': 'activator', 'objekt': 'gmk'}, {'subjekt': 'Nac', 'predikat': 'repressor', 'objekt': 'gor'}, {'subjekt': 'Nac', 'predikat': 'activator', 'objekt': 'groS'}, {'subjekt': 'Nac', 'predikat': 'repressor', 'objekt': 'gspG'}, {'subjekt': 'Nac', 'predikat': 'repressor', 'objekt': 'gspH'}, {'subjekt': 'Nac', 'predikat': 'activator', 'objekt': 'gspM'}, {'subjekt': 'Nac', 'predikat': 'activator', 'objekt': 'gspO'}, {'subjekt': 'Nac', 'predikat': 'repressor', 'objekt': 'gudX'}, {'subjekt': 'Nac', 'predikat': 'activator', 'objekt': 'hcaE'}, {'subjekt': 'Nac', 'predikat': 'activator', 'objekt': 'hcaR'}, {'subjekt': 'Nac', 'predikat': 'repressor', 'objekt': 'hchA'}, {'subjekt': 'Nac', 'predikat': 'repressor', 'objekt': 'hemB'}, {'subjekt': 'Nac', 'predikat': 'repressor', 'objekt': 'hemH'}, {'subjekt': 'Nac', 'predikat': 'repressor', 'objekt': 'hemN'}, {'subjekt': 'Nac', 'predikat': 'repressor', 'objekt': 'hfq'}, {'subjekt': 'Nac', 'predikat': 'repressor', 'objekt': 'hofC'}, {'subjekt': 'Nac', 'predikat': 'repressor', 'objekt': 'holE'}, {'subjekt': 'Nac', 'predikat': 'repressor', 'objekt': 'htpG'}, {'subjekt': 'Nac', 'predikat': 'repressor', 'objekt': 'htpX'}, {'subjekt': 'Nac', 'predikat': 'repressor', 'objekt': 'htrE'}, {'subjekt': 'Nac', 'predikat': 'activator', 'objekt': 'hupA'}, {'subjekt': 'Nac', 'predikat': 'activator', 'objekt': 'iaaA'}, {'subjekt': 'Nac', 'predikat': 'activator', 'objekt': 'ibpA'}, {'subjekt': 'Nac', 'predikat': 'activator', 'objekt': 'icd'}, {'subjekt': 'Nac', 'predikat': 'activator', 'objekt': 'ileY'}, {'subjekt': 'Nac', 'predikat': 'activator', 'objekt': 'ilvL'}, {'subjekt': 'Nac', 'predikat': 'repressor', 'objekt': 'ilvN'}, {'subjekt': 'Nac', 'predikat': 'activator', 'objekt': 'insK'}, {'subjekt': 'Nac', 'predikat': 'repressor', 'objekt': 'intD'}, {'subjekt': 'Nac', 'predikat': 'repressor', 'objekt': 'iraP'}, {'subjekt': 'Nac', 'predikat': 'repressor', 'objekt': 'ispD'}, {'subjekt': 'Nac', 'predikat': 'repressor', 'objekt': 'katG'}, {'subjekt': 'Nac', 'predikat': 'activator', 'objekt': 'kbaY'}, {'subjekt': 'Nac', 'predikat': 'repressor', 'objekt': 'kbl'}, {'subjekt': 'Nac', 'predikat': 'repressor', 'objekt': 'kdsA'}, {'subjekt': 'Nac', 'predikat': 'activator', 'objekt': 'lepA'}, {'subjekt': 'Nac', 'predikat': 'repressor', 'objekt': 'lepB'}, {'subjekt': 'Nac', 'predikat': 'activator', 'objekt': 'leuL'}, {'subjekt': 'Nac', 'predikat': 'repressor', 'objekt': 'leuO'}, {'subjekt': 'Nac', 'predikat': 'repressor', 'objekt': 'leuU'}, {'subjekt': 'Nac', 'predikat': 'activator', 'objekt': 'livH'}, {'subjekt': 'Nac', 'predikat': 'repressor', 'objekt': 'livK'}, {'subjekt': 'Nac', 'predikat': 'repressor', 'objekt': 'livM'}, {'subjekt': 'Nac', 'predikat': 'repressor', 'objekt': 'lpxH'}, {'subjekt': 'Nac', 'predikat': 'repressor', 'objekt': 'lrp'}, {'subjekt': 'Nac', 'predikat': 'activator', 'objekt': 'lysA'}, {'subjekt': 'Nac', 'predikat': 'repressor', 'objekt': 'lysP'}, {'subjekt': 'Nac', 'predikat': 'repressor', 'objekt': 'lysR'}, {'subjekt': 'Nac', 'predikat': 'repressor', 'objekt': 'lysU'}, {'subjekt': 'Nac', 'predikat': 'repressor', 'objekt': 'macA'}, {'subjekt': 'Nac', 'predikat': 'repressor', 'objekt': 'malI'}, {'subjekt': 'Nac', 'predikat': 'repressor', 'objekt': 'malY'}, {'subjekt': 'Nac', 'predikat': 'activator', 'objekt': 'map'}, {'subjekt': 'Nac', 'predikat': 'activator', 'objekt': 'marR'}, {'subjekt': 'Nac', 'predikat': 'repressor', 'objekt': 'mcbA'}, {'subjekt': 'Nac', 'predikat': 'repressor', 'objekt': 'mcrB'}, {'subjekt': 'Nac', 'predikat': 'activator', 'objekt': 'mdtE'}, {'subjekt': 'Nac', 'predikat': 'activator', 'objekt': 'metE'}, {'subjekt': 'Nac', 'predikat': 'repressor', 'objekt': 'metR'}, {'subjekt': 'Nac', 'predikat': 'repressor', 'objekt': 'metY'}, {'subjekt': 'Nac', 'predikat': 'repressor', 'objekt': 'mglA'}, {'subjekt': 'Nac', 'predikat': 'repressor', 'objekt': 'mglB'}, {'subjekt': 'Nac', 'predikat': 'activator', 'objekt': 'micC'}, {'subjekt': 'Nac', 'predikat': 'repressor', 'objekt': 'mntH'}, {'subjekt': 'Nac', 'predikat': 'repressor', 'objekt': 'mobA'}, {'subjekt': 'Nac', 'predikat': 'activator', 'objekt': 'moeA'}, {'subjekt': 'Nac', 'predikat': 'repressor', 'objekt': 'mreC'}, {'subjekt': 'Nac', 'predikat': 'repressor', 'objekt': 'mscL'}, {'subjekt': 'Nac', 'predikat': 'activator', 'objekt': 'msrA'}, {'subjekt': 'Nac', 'predikat': 'repressor', 'objekt': 'nadC'}, {'subjekt': 'Nac', 'predikat': 'repressor', 'objekt': 'nadD'}, {'subjekt': 'Nac', 'predikat': 'repressor', 'objekt': 'nanA'}, {'subjekt': 'Nac', 'predikat': 'activator', 'objekt': 'nanK'}, {'subjekt': 'Nac', 'predikat': 'repressor', 'objekt': 'napB'}, {'subjekt': 'Nac', 'predikat': 'repressor', 'objekt': 'napC'}, {'subjekt': 'Nac', 'predikat': 'repressor', 'objekt': 'narK'}, {'subjekt': 'Nac', 'predikat': 'repressor', 'objekt': 'narX'}, {'subjekt': 'Nac', 'predikat': 'repressor', 'objekt': 'nfrB'}, {'subjekt': 'Nac', 'predikat': 'repressor', 'objekt': 'nlpE'}, {'subjekt': 'Nac', 'predikat': 'repressor', 'objekt': 'nrdG'}, {'subjekt': 'Nac', 'predikat': 'activator', 'objekt': 'nrfF'}, {'subjekt': 'Nac', 'predikat': 'activator', 'objekt': 'nrfG'}, {'subjekt': 'Nac', 'predikat': 'repressor', 'objekt': 'nudC'}, {'subjekt': 'Nac', 'predikat': 'dual', 'objekt': 'nupC'}, {'subjekt': 'Nac', 'predikat': 'repressor', 'objekt': 'nusA'}, {'subjekt': 'Nac', 'predikat': 'repressor', 'objekt': 'nusB'}, {'subjekt': 'Nac', 'predikat': 'repressor', 'objekt': 'ompA'}, {'subjekt': 'Nac', 'predikat': 'repressor', 'objekt': 'ompF'}, {'subjekt': 'Nac', 'predikat': 'repressor', 'objekt': 'ompN'}, {'subjekt': 'Nac', 'predikat': 'repressor', 'objekt': 'ompR'}, {'subjekt': 'Nac', 'predikat': 'repressor', 'objekt': 'ompT'}, {'subjekt': 'Nac', 'predikat': 'activator', 'objekt': 'oppA'}, {'subjekt': 'Nac', 'predikat': 'repressor', 'objekt': 'oppC'}, {'subjekt': 'Nac', 'predikat': 'activator', 'objekt': 'osmB'}, {'subjekt': 'Nac', 'predikat': 'repressor', 'objekt': 'osmY'}, {'subjekt': 'Nac', 'predikat': 'repressor', 'objekt': 'pabC'}, {'subjekt': 'Nac', 'predikat': 'repressor', 'objekt': 'pdxK'}, {'subjekt': 'Nac', 'predikat': 'activator', 'objekt': 'pfkB'}, {'subjekt': 'Nac', 'predikat': 'activator', 'objekt': 'pgaA'}, {'subjekt': 'Nac', 'predikat': 'repressor', 'objekt': 'phoB'}, {'subjekt': 'Nac', 'predikat': 'repressor', 'objekt': 'phoH'}, {'subjekt': 'Nac', 'predikat': 'activator', 'objekt': 'pitB'}, {'subjekt': 'Nac', 'predikat': 'repressor', 'objekt': 'pldA'}, {'subjekt': 'Nac', 'predikat': 'repressor', 'objekt': 'pntA'}, {'subjekt': 'Nac', 'predikat': 'repressor', 'objekt': 'polA'}, {'subjekt': 'Nac', 'predikat': 'repressor', 'objekt': 'ppc'}, {'subjekt': 'Nac', 'predikat': 'activator', 'objekt': 'ppdC'}, {'subjekt': 'Nac', 'predikat': 'repressor', 'objekt': 'ppiB'}, {'subjekt': 'Nac', 'predikat': 'repressor', 'objekt': 'prmB'}, {'subjekt': 'Nac', 'predikat': 'repressor', 'objekt': 'pstC'}, {'subjekt': 'Nac', 'predikat': 'repressor', 'objekt': 'pstS'}, {'subjekt': 'Nac', 'predikat': 'repressor', 'objekt': 'ptrA'}, {'subjekt': 'Nac', 'predikat': 'repressor', 'objekt': 'pyrB'}, {'subjekt': 'Nac', 'predikat': 'activator', 'objekt': 'pyrL'}, {'subjekt': 'Nac', 'predikat': 'repressor', 'objekt': 'queF'}, {'subjekt': 'Nac', 'predikat': 'repressor', 'objekt': 'rcsA'}, {'subjekt': 'Nac', 'predikat': 'repressor', 'objekt': 'rep'}, {'subjekt': 'Nac', 'predikat': 'repressor', 'objekt': 'rfbB'}, {'subjekt': 'Nac', 'predikat': 'activator', 'objekt': 'rfbC'}, {'subjekt': 'Nac', 'predikat': 'repressor', 'objekt': 'rimP'}, {'subjekt': 'Nac', 'predikat': 'activator', 'objekt': 'rluE'}, {'subjekt': 'Nac', 'predikat': 'repressor', 'objekt': 'rnlB'}, {'subjekt': 'Nac', 'predikat': 'repressor', 'objekt': 'rplU'}, {'subjekt': 'Nac', 'predikat': 'activator', 'objekt': 'rpmH'}, {'subjekt': 'Nac', 'predikat': 'repressor', 'objekt': 'rpoZ'}, {'subjekt': 'Nac', 'predikat': 'repressor', 'objekt': 'rsd'}, {'subjekt': 'Nac', 'predikat': 'activator', 'objekt': 'rutB'}, {'subjekt': 'Nac', 'predikat': 'repressor', 'objekt': 'sbcD'}, {'subjekt': 'Nac', 'predikat': 'repressor', 'objekt': 'scpB'}, {'subjekt': 'Nac', 'predikat': 'repressor', 'objekt': 'sdaA'}, {'subjekt': 'Nac', 'predikat': 'activator', 'objekt': 'sdhC'}, {'subjekt': 'Nac', 'predikat': 'repressor', 'objekt': 'secG'}, {'subjekt': 'Nac', 'predikat': 'activator', 'objekt': 'selC'}, {'subjekt': 'Nac', 'predikat': 'repressor', 'objekt': 'shiA'}, {'subjekt': 'Nac', 'predikat': 'activator', 'objekt': 'shoB'}, {'subjekt': 'Nac', 'predikat': 'activator', 'objekt': 'sibA'}, {'subjekt': 'Nac', 'predikat': 'repressor', 'objekt': 'sibE'}, {'subjekt': 'Nac', 'predikat': 'repressor', 'objekt': 'spf'}, {'subjekt': 'Nac', 'predikat': 'repressor', 'objekt': 'srlR'}, {'subjekt': 'Nac', 'predikat': 'repressor', 'objekt': 'ssuE'}, {'subjekt': 'Nac', 'predikat': 'repressor', 'objekt': 'stfR'}, {'subjekt': 'Nac', 'predikat': 'repressor', 'objekt': 'sucA'}, {'subjekt': 'Nac', 'predikat': 'repressor', 'objekt': 'tauA'}, {'subjekt': 'Nac', 'predikat': 'repressor', 'objekt': 'tdcA'}, {'subjekt': 'Nac', 'predikat': 'repressor', 'objekt': 'tfaQ'}, {'subjekt': 'Nac', 'predikat': 'repressor', 'objekt': 'tfaR'}, {'subjekt': 'Nac', 'predikat': 'repressor', 'objekt': 'tff'}, {'subjekt': 'Nac', 'predikat': 'repressor', 'objekt': 'thiL'}, {'subjekt': 'Nac', 'predikat': 'repressor', 'objekt': 'thrS'}, {'subjekt': 'Nac', 'predikat': 'repressor', 'objekt': 'tnaA'}, {'subjekt': 'Nac', 'predikat': 'repressor', 'objekt': 'tnaB'}, {'subjekt': 'Nac', 'predikat': 'activator', 'objekt': 'tnaC'}, {'subjekt': 'Nac', 'predikat': 'repressor', 'objekt': 'tolB'}, {'subjekt': 'Nac', 'predikat': 'activator', 'objekt': 'tomB'}, {'subjekt': 'Nac', 'predikat': 'repressor', 'objekt': 'torA'}, {'subjekt': 'Nac', 'predikat': 'repressor', 'objekt': 'trxB'}, {'subjekt': 'Nac', 'predikat': 'repressor', 'objekt': 'ubiA'}, {'subjekt': 'Nac', 'predikat': 'repressor', 'objekt': 'uhpA'}, {'subjekt': 'Nac', 'predikat': 'repressor', 'objekt': 'uspA'}, {'subjekt': 'Nac', 'predikat': 'repressor', 'objekt': 'uspG'}, {'subjekt': 'Nac', 'predikat': 'repressor', 'objekt': 'uvrY'}, {'subjekt': 'Nac', 'predikat': 'repressor', 'objekt': 'uxaC'}, {'subjekt': 'Nac', 'predikat': 'repressor', 'objekt': 'waaF'}, {'subjekt': 'Nac', 'predikat': 'repressor', 'objekt': 'waaG'}, {'subjekt': 'Nac', 'predikat': 'activator', 'objekt': 'wcaE'}, {'subjekt': 'Nac', 'predikat': 'activator', 'objekt': 'wcaF'}, {'subjekt': 'Nac', 'predikat': 'activator', 'objekt': 'wrbA'}, {'subjekt': 'Nac', 'predikat': 'repressor', 'objekt': 'wza'}, {'subjekt': 'Nac', 'predikat': 'repressor', 'objekt': 'wzb'}, {'subjekt': 'Nac', 'predikat': 'repressor', 'objekt': 'wzc'}, {'subjekt': 'Nac', 'predikat': 'activator', 'objekt': 'wzzE'}, {'subjekt': 'Nac', 'predikat': 'repressor', 'objekt': 'xapR'}, {'subjekt': 'Nac', 'predikat': 'repressor', 'objekt': 'xdhA'}, {'subjekt': 'Nac', 'predikat': 'repressor', 'objekt': 'yadC'}, {'subjekt': 'Nac', 'predikat': 'repressor', 'objekt': 'yadM'}, {'subjekt': 'Nac', 'predikat': 'activator', 'objekt': 'yafD'}, {'subjekt': 'Nac', 'predikat': 'repressor', 'objekt': 'yafN'}, {'subjekt': 'Nac', 'predikat': 'repressor', 'objekt': 'yafO'}, {'subjekt': 'Nac', 'predikat': 'repressor', 'objekt': 'yafQ'}, {'subjekt': 'Nac', 'predikat': 'activator', 'objekt': 'yafV'}, {'subjekt': 'Nac', 'predikat': 'repressor', 'objekt': 'pdeL'}, {'subjekt': 'Nac', 'predikat': 'activator', 'objekt': 'yaiZ'}, {'subjekt': 'Nac', 'predikat': 'repressor', 'objekt': 'yajO'}, {'subjekt': 'Nac', 'predikat': 'repressor', 'objekt': 'ybaL'}, {'subjekt': 'Nac', 'predikat': 'repressor', 'objekt': 'ybbC'}, {'subjekt': 'Nac', 'predikat': 'activator', 'objekt': 'allW'}, {'subjekt': 'Nac', 'predikat': 'repressor', 'objekt': 'ybcV'}, {'subjekt': 'Nac', 'predikat': 'activator', 'objekt': 'ybeR'}, {'subjekt': 'Nac', 'predikat': 'repressor', 'objekt': 'ybeU'}, {'subjekt': 'Nac', 'predikat': 'repressor', 'objekt': 'ybfC'}, {'subjekt': 'Nac', 'predikat': 'repressor', 'objekt': 'ybgC'}, {'subjekt': 'Nac', 'predikat': 'activator', 'objekt': 'ybgE'}, {'subjekt': 'Nac', 'predikat': 'activator', 'objekt': 'ybjP'}, {'subjekt': 'Nac', 'predikat': 'activator', 'objekt': 'ybjQ'}, {'subjekt': 'Nac', 'predikat': 'repressor', 'objekt': 'ybjX'}, {'subjekt': 'Nac', 'predikat': 'activator', 'objekt': 'ycaK'}, {'subjekt': 'Nac', 'predikat': 'repressor', 'objekt': 'dgcT'}, {'subjekt': 'Nac', 'predikat': 'repressor', 'objekt': 'ycgB'}, {'subjekt': 'Nac', 'predikat': 'repressor', 'objekt': 'ychA'}, {'subjekt': 'Nac', 'predikat': 'repressor', 'objekt': 'yciZ'}, {'subjekt': 'Nac', 'predikat': 'repressor', 'objekt': 'ydaT'}, {'subjekt': 'Nac', 'predikat': 'activator', 'objekt': 'ydaU'}, {'subjekt': 'Nac', 'predikat': 'activator', 'objekt': 'ydcI'}, {'subjekt': 'Nac', 'predikat': 'repressor', 'objekt': 'ortT'}, {'subjekt': 'Nac', 'predikat': 'repressor', 'objekt': 'ydcZ'}, {'subjekt': 'Nac', 'predikat': 'repressor', 'objekt': 'ydeP'}, {'subjekt': 'Nac', 'predikat': 'repressor', 'objekt': 'ydeQ'}, {'subjekt': 'Nac', 'predikat': 'repressor', 'objekt': 'ydfK'}, {'subjekt': 'Nac', 'predikat': 'repressor', 'objekt': 'ydfR'}, {'subjekt': 'Nac', 'predikat': 'repressor', 'objekt': 'ydiB'}, {'subjekt': 'Nac', 'predikat': 'activator', 'objekt': 'ydiL'}, {'subjekt': 'Nac', 'predikat': 'repressor', 'objekt': 'ydiO'}, {'subjekt': 'Nac', 'predikat': 'repressor', 'objekt': 'ydiP'}, {'subjekt': 'Nac', 'predikat': 'activator', 'objekt': 'rflP'}, {'subjekt': 'Nac', 'predikat': 'activator', 'objekt': 'yecD'}, {'subjekt': 'Nac', 'predikat': 'activator', 'objekt': 'yecE'}, {'subjekt': 'Nac', 'predikat': 'repressor', 'objekt': 'yecF'}, {'subjekt': 'Nac', 'predikat': 'repressor', 'objekt': 'hprR'}, {'subjekt': 'Nac', 'predikat': 'activator', 'objekt': 'yegH'}, {'subjekt': 'Nac', 'predikat': 'repressor', 'objekt': 'yegL'}, {'subjekt': 'Nac', 'predikat': 'repressor', 'objekt': 'yegR'}, {'subjekt': 'Nac', 'predikat': 'repressor', 'objekt': 'yejB'}, {'subjekt': 'Nac', 'predikat': 'repressor', 'objekt': 'yejG'}, {'subjekt': 'Nac', 'predikat': 'repressor', 'objekt': 'lapC'}, {'subjekt': 'Nac', 'predikat': 'repressor', 'objekt': 'yfaE'}, {'subjekt': 'Nac', 'predikat': 'repressor', 'objekt': 'yfcO'}, {'subjekt': 'Nac', 'predikat': 'repressor', 'objekt': 'yfcP'}, {'subjekt': 'Nac', 'predikat': 'activator', 'objekt': 'yfeK'}, {'subjekt': 'Nac', 'predikat': 'repressor', 'objekt': 'yfeS'}, {'subjekt': 'Nac', 'predikat': 'repressor', 'objekt': 'pdeF'}, {'subjekt': 'Nac', 'predikat': 'activator', 'objekt': 'yfgG'}, {'subjekt': 'Nac', 'predikat': 'repressor', 'objekt': 'yfgH'}, {'subjekt': 'Nac', 'predikat': 'repressor', 'objekt': 'yfhL'}, {'subjekt': 'Nac', 'predikat': 'activator', 'objekt': 'yfiL'}, {'subjekt': 'Nac', 'predikat': 'repressor', 'objekt': 'yfiR'}, {'subjekt': 'Nac', 'predikat': 'repressor', 'objekt': 'abpA'}, {'subjekt': 'Nac', 'predikat': 'repressor', 'objekt': 'ygaC'}, {'subjekt': 'Nac', 'predikat': 'repressor', 'objekt': 'ygaM'}, {'subjekt': 'Nac', 'predikat': 'repressor', 'objekt': 'ygaP'}, {'subjekt': 'Nac', 'predikat': 'repressor', 'objekt': 'ygaV'}, {'subjekt': 'Nac', 'predikat': 'repressor', 'objekt': 'ygaZ'}, {'subjekt': 'Nac', 'predikat': 'repressor', 'objekt': 'ygcE'}, {'subjekt': 'Nac', 'predikat': 'repressor', 'objekt': 'ygcO'}, {'subjekt': 'Nac', 'predikat': 'repressor', 'objekt': 'ygcP'}, {'subjekt': 'Nac', 'predikat': 'repressor', 'objekt': 'ygdB'}, {'subjekt': 'Nac', 'predikat': 'repressor', 'objekt': 'yggP'}, {'subjekt': 'Nac', 'predikat': 'repressor', 'objekt': 'yghS'}, {'subjekt': 'Nac', 'predikat': 'repressor', 'objekt': 'ygiF'}, {'subjekt': 'Nac', 'predikat': 'activator', 'objekt': 'ygiL'}, {'subjekt': 'Nac', 'predikat': 'repressor', 'objekt': 'ygiM'}, {'subjekt': 'Nac', 'predikat': 'repressor', 'objekt': 'ygiZ'}, {'subjekt': 'Nac', 'predikat': 'activator', 'objekt': 'yhaB'}, {'subjekt': 'Nac', 'predikat': 'repressor', 'objekt': 'ubiT'}, {'subjekt': 'Nac', 'predikat': 'repressor', 'objekt': 'ubiU'}, {'subjekt': 'Nac', 'predikat': 'repressor', 'objekt': 'yhcA'}, {'subjekt': 'Nac', 'predikat': 'repressor', 'objekt': 'yhcD'}, {'subjekt': 'Nac', 'predikat': 'repressor', 'objekt': 'yhfZ'}, {'subjekt': 'Nac', 'predikat': 'repressor', 'objekt': 'yhhZ'}, {'subjekt': 'Nac', 'predikat': 'activator', 'objekt': 'yicJ'}, {'subjekt': 'Nac', 'predikat': 'activator', 'objekt': 'yidQ'}, {'subjekt': 'Nac', 'predikat': 'repressor', 'objekt': 'yieE'}, {'subjekt': 'Nac', 'predikat': 'repressor', 'objekt': 'yieP'}, {'subjekt': 'Nac', 'predikat': 'repressor', 'objekt': 'yifB'}, {'subjekt': 'Nac', 'predikat': 'activator', 'objekt': 'yigI'}, {'subjekt': 'Nac', 'predikat': 'activator', 'objekt': 'yigL'}, {'subjekt': 'Nac', 'predikat': 'activator', 'objekt': 'yihD'}, {'subjekt': 'Nac', 'predikat': 'repressor', 'objekt': 'yihL'}, {'subjekt': 'Nac', 'predikat': 'repressor', 'objekt': 'yihO'}, {'subjekt': 'Nac', 'predikat': 'repressor', 'objekt': 'yihQ'}, {'subjekt': 'Nac', 'predikat': 'repressor', 'objekt': 'yiiE'}, {'subjekt': 'Nac', 'predikat': 'repressor', 'objekt': 'yiiF'}, {'subjekt': 'Nac', 'predikat': 'repressor', 'objekt': 'yjbB'}, {'subjekt': 'Nac', 'predikat': 'repressor', 'objekt': 'yjbQ'}, {'subjekt': 'Nac', 'predikat': 'activator', 'objekt': 'yjcB'}, {'subjekt': 'Nac', 'predikat': 'activator', 'objekt': 'pdeC'}, {'subjekt': 'Nac', 'predikat': 'repressor', 'objekt': 'yjeM'}, {'subjekt': 'Nac', 'predikat': 'repressor', 'objekt': 'yjfZ'}, {'subjekt': 'Nac', 'predikat': 'repressor', 'objekt': 'yjgH'}, {'subjekt': 'Nac', 'predikat': 'repressor', 'objekt': 'yjhI'}, {'subjekt': 'Nac', 'predikat': 'repressor', 'objekt': 'ykgE'}, {'subjekt': 'Nac', 'predikat': 'repressor', 'objekt': 'ykgH'}, {'subjekt': 'Nac', 'predikat': 'activator', 'objekt': 'ynaK'}, {'subjekt': 'Nac', 'predikat': 'activator', 'objekt': 'yneK'}, {'subjekt': 'Nac', 'predikat': 'activator', 'objekt': 'mgtS'}, {'subjekt': 'Nac', 'predikat': 'activator', 'objekt': 'ynfB'}, {'subjekt': 'Nac', 'predikat': 'repressor', 'objekt': 'ynfD'}, {'subjekt': 'Nac', 'predikat': 'repressor', 'objekt': 'ynfE'}, {'subjekt': 'Nac', 'predikat': 'repressor', 'objekt': 'ynfF'}, {'subjekt': 'Nac', 'predikat': 'activator', 'objekt': 'ynfG'}, {'subjekt': 'Nac', 'predikat': 'repressor', 'objekt': 'bidA'}, {'subjekt': 'Nac', 'predikat': 'repressor', 'objekt': 'yniB'}, {'subjekt': 'Nac', 'predikat': 'repressor', 'objekt': 'hxpB'}, {'subjekt': 'Nac', 'predikat': 'activator', 'objekt': 'ynjF'}, {'subjekt': 'Nac', 'predikat': 'repressor', 'objekt': 'ynjH'}, {'subjekt': 'Nac', 'predikat': 'activator', 'objekt': 'yobA'}, {'subjekt': 'Nac', 'predikat': 'repressor', 'objekt': 'yobB'}, {'subjekt': 'Nac', 'predikat': 'activator', 'objekt': 'yobF'}, {'subjekt': 'Nac', 'predikat': 'repressor', 'objekt': 'yoeB'}, {'subjekt': 'Nac', 'predikat': 'repressor', 'objekt': 'yqeB'}, {'subjekt': 'Nac', 'predikat': 'activator', 'objekt': 'yqeH'}, {'subjekt': 'Nac', 'predikat': 'activator', 'objekt': 'yqeJ'}, {'subjekt': 'Nac', 'predikat': 'activator', 'objekt': 'ytfB'}, {'subjekt': 'Nac', 'predikat': 'activator', 'objekt': 'ytfJ'}, {'subjekt': 'Nac', 'predikat': 'repressor', 'objekt': 'ytfK'}, {'subjekt': 'Nac', 'predikat': 'repressor', 'objekt': 'ytfP'}, {'subjekt': 'Nac', 'predikat': 'repressor', 'objekt': 'znuA'}, {'subjekt': 'Nac', 'predikat': 'repressor', 'objekt': 'gltB'}, {'subjekt': 'Nac', 'predikat': 'repressor', 'objekt': 'gltD'}, {'subjekt': 'Nac', 'predikat': 'activator', 'objekt': 'gabD'}, {'subjekt': 'Nac', 'predikat': 'activator', 'objekt': 'gabT'}, {'subjekt': 'Nac', 'predikat': 'activator', 'objekt': 'gabP'}, {'subjekt': 'Nac', 'predikat': 'repressor', 'objekt': 'nac'}, {'subjekt': 'Nac', 'predikat': 'repressor', 'objekt': 'serA'}, {'subjekt': 'Nac', 'predikat': 'activator', 'objekt': 'codA'}, {'subjekt': 'Nac', 'predikat': 'activator', 'objekt': 'codB'}, {'subjekt': 'Nac', 'predikat': 'repressor', 'objekt': 'asnC'}, {'subjekt': 'Nac', 'predikat': 'repressor', 'objekt': 'mnmG'}, {'subjekt': 'Nac', 'predikat': 'repressor', 'objekt': 'mioC'}, {'subjekt': 'Nac', 'predikat': 'repressor', 'objekt': 'gdhA'}]\n",
      "---------------------------\n",
      "181 286\n"
     ]
    },
    {
     "name": "stderr",
     "output_type": "stream",
     "text": [
      "C:\\Anaconda\\lib\\site-packages\\urllib3\\connectionpool.py:1061: InsecureRequestWarning: Unverified HTTPS request is being made to host 'regulondb.ccg.unam.mx'. Adding certificate verification is strongly advised. See: https://urllib3.readthedocs.io/en/1.26.x/advanced-usage.html#ssl-warnings\n",
      "  warnings.warn(\n"
     ]
    },
    {
     "name": "stdout",
     "output_type": "stream",
     "text": [
      "success:\n",
      "[{'subjekt': 'SlyA', 'predikat': 'repressor', 'objekt': 'fecR'}, {'subjekt': 'SlyA', 'predikat': 'repressor', 'objekt': 'fecI'}, {'subjekt': 'SlyA', 'predikat': 'activator', 'objekt': 'casD'}, {'subjekt': 'SlyA', 'predikat': 'activator', 'objekt': 'casB'}, {'subjekt': 'SlyA', 'predikat': 'activator', 'objekt': 'cas2'}, {'subjekt': 'SlyA', 'predikat': 'activator', 'objekt': 'casC'}, {'subjekt': 'SlyA', 'predikat': 'activator', 'objekt': 'casA'}, {'subjekt': 'SlyA', 'predikat': 'activator', 'objekt': 'cas1'}, {'subjekt': 'SlyA', 'predikat': 'activator', 'objekt': 'casE'}, {'subjekt': 'SlyA', 'predikat': 'activator', 'objekt': 'elfA'}, {'subjekt': 'SlyA', 'predikat': 'activator', 'objekt': 'paaI'}, {'subjekt': 'SlyA', 'predikat': 'activator', 'objekt': 'paaB'}, {'subjekt': 'SlyA', 'predikat': 'activator', 'objekt': 'paaA'}, {'subjekt': 'SlyA', 'predikat': 'activator', 'objekt': 'paaK'}, {'subjekt': 'SlyA', 'predikat': 'activator', 'objekt': 'paaC'}, {'subjekt': 'SlyA', 'predikat': 'activator', 'objekt': 'paaH'}, {'subjekt': 'SlyA', 'predikat': 'activator', 'objekt': 'paaF'}, {'subjekt': 'SlyA', 'predikat': 'activator', 'objekt': 'paaG'}, {'subjekt': 'SlyA', 'predikat': 'activator', 'objekt': 'paaJ'}, {'subjekt': 'SlyA', 'predikat': 'activator', 'objekt': 'paaE'}, {'subjekt': 'SlyA', 'predikat': 'activator', 'objekt': 'paaD'}, {'subjekt': 'SlyA', 'predikat': 'repressor', 'objekt': 'sgcC'}, {'subjekt': 'SlyA', 'predikat': 'repressor', 'objekt': 'sgcE'}, {'subjekt': 'SlyA', 'predikat': 'repressor', 'objekt': 'sgcQ'}, {'subjekt': 'SlyA', 'predikat': 'repressor', 'objekt': 'sgcR'}, {'subjekt': 'SlyA', 'predikat': 'repressor', 'objekt': 'sgcB'}, {'subjekt': 'SlyA', 'predikat': 'repressor', 'objekt': 'sgcX'}, {'subjekt': 'SlyA', 'predikat': 'repressor', 'objekt': 'sgcA'}, {'subjekt': 'SlyA', 'predikat': 'activator', 'objekt': 'yjiN'}, {'subjekt': 'SlyA', 'predikat': 'activator', 'objekt': 'mdtM'}, {'subjekt': 'SlyA', 'predikat': 'activator', 'objekt': 'slyA'}, {'subjekt': 'SlyA', 'predikat': 'activator', 'objekt': 'gspC'}, {'subjekt': 'SlyA', 'predikat': 'activator', 'objekt': 'gspM'}, {'subjekt': 'SlyA', 'predikat': 'activator', 'objekt': 'gspO'}, {'subjekt': 'SlyA', 'predikat': 'activator', 'objekt': 'gspG'}, {'subjekt': 'SlyA', 'predikat': 'activator', 'objekt': 'gspE'}, {'subjekt': 'SlyA', 'predikat': 'activator', 'objekt': 'gspK'}, {'subjekt': 'SlyA', 'predikat': 'activator', 'objekt': 'gspD'}, {'subjekt': 'SlyA', 'predikat': 'activator', 'objekt': 'gspF'}, {'subjekt': 'SlyA', 'predikat': 'activator', 'objekt': 'gspJ'}, {'subjekt': 'SlyA', 'predikat': 'activator', 'objekt': 'gspL'}, {'subjekt': 'SlyA', 'predikat': 'activator', 'objekt': 'gspI'}, {'subjekt': 'SlyA', 'predikat': 'activator', 'objekt': 'gspH'}, {'subjekt': 'SlyA', 'predikat': 'activator', 'objekt': 'leuO'}, {'subjekt': 'SlyA', 'predikat': 'activator', 'objekt': 'pagP'}, {'subjekt': 'SlyA', 'predikat': 'activator', 'objekt': 'rsd'}, {'subjekt': 'SlyA', 'predikat': 'activator', 'objekt': 'rmf'}, {'subjekt': 'SlyA', 'predikat': 'activator', 'objekt': 'hlyE'}]\n",
      "---------------------------\n",
      "182 286\n"
     ]
    },
    {
     "name": "stderr",
     "output_type": "stream",
     "text": [
      "C:\\Anaconda\\lib\\site-packages\\urllib3\\connectionpool.py:1061: InsecureRequestWarning: Unverified HTTPS request is being made to host 'regulondb.ccg.unam.mx'. Adding certificate verification is strongly advised. See: https://urllib3.readthedocs.io/en/1.26.x/advanced-usage.html#ssl-warnings\n",
      "  warnings.warn(\n"
     ]
    },
    {
     "name": "stdout",
     "output_type": "stream",
     "text": [
      "success:\n",
      "[{'subjekt': 'HipAB', 'predikat': 'repressor', 'objekt': 'mazE'}, {'subjekt': 'HipAB', 'predikat': 'repressor', 'objekt': 'mazF'}, {'subjekt': 'HipAB', 'predikat': 'repressor', 'objekt': 'relA'}, {'subjekt': 'HipAB', 'predikat': 'repressor', 'objekt': 'hipA'}, {'subjekt': 'HipAB', 'predikat': 'repressor', 'objekt': 'hipB'}, {'subjekt': 'HipAB', 'predikat': 'repressor', 'objekt': 'eutA'}, {'subjekt': 'HipAB', 'predikat': 'repressor', 'objekt': 'eutH'}, {'subjekt': 'HipAB', 'predikat': 'repressor', 'objekt': 'fadH'}]\n",
      "---------------------------\n",
      "183 286\n"
     ]
    },
    {
     "name": "stderr",
     "output_type": "stream",
     "text": [
      "C:\\Anaconda\\lib\\site-packages\\urllib3\\connectionpool.py:1061: InsecureRequestWarning: Unverified HTTPS request is being made to host 'regulondb.ccg.unam.mx'. Adding certificate verification is strongly advised. See: https://urllib3.readthedocs.io/en/1.26.x/advanced-usage.html#ssl-warnings\n",
      "  warnings.warn(\n"
     ]
    },
    {
     "name": "stdout",
     "output_type": "stream",
     "text": [
      "success:\n",
      "[{'subjekt': 'CsqR', 'predikat': 'repressor', 'objekt': 'csqR'}, {'subjekt': 'CsqR', 'predikat': 'repressor', 'objekt': 'yihV'}, {'subjekt': 'CsqR', 'predikat': 'repressor', 'objekt': 'yihT'}, {'subjekt': 'CsqR', 'predikat': 'repressor', 'objekt': 'yihU'}, {'subjekt': 'CsqR', 'predikat': 'repressor', 'objekt': 'yihS'}]\n",
      "---------------------------\n",
      "184 286\n"
     ]
    },
    {
     "name": "stderr",
     "output_type": "stream",
     "text": [
      "C:\\Anaconda\\lib\\site-packages\\urllib3\\connectionpool.py:1061: InsecureRequestWarning: Unverified HTTPS request is being made to host 'regulondb.ccg.unam.mx'. Adding certificate verification is strongly advised. See: https://urllib3.readthedocs.io/en/1.26.x/advanced-usage.html#ssl-warnings\n",
      "  warnings.warn(\n"
     ]
    },
    {
     "name": "stdout",
     "output_type": "stream",
     "text": [
      "success:\n",
      "[{'subjekt': 'YcjW', 'predikat': 'repressor', 'objekt': 'ompG'}, {'subjekt': 'YcjW', 'predikat': 'repressor', 'objekt': 'ycjU'}, {'subjekt': 'YcjW', 'predikat': 'repressor', 'objekt': 'ymjB'}, {'subjekt': 'YcjW', 'predikat': 'repressor', 'objekt': 'ycjT'}, {'subjekt': 'YcjW', 'predikat': 'repressor', 'objekt': 'ycjV'}, {'subjekt': 'YcjW', 'predikat': 'repressor', 'objekt': 'ycjP'}, {'subjekt': 'YcjW', 'predikat': 'repressor', 'objekt': 'ycjQ'}, {'subjekt': 'YcjW', 'predikat': 'repressor', 'objekt': 'ycjM'}, {'subjekt': 'YcjW', 'predikat': 'repressor', 'objekt': 'ycjN'}, {'subjekt': 'YcjW', 'predikat': 'repressor', 'objekt': 'ycjR'}, {'subjekt': 'YcjW', 'predikat': 'repressor', 'objekt': 'ycjO'}, {'subjekt': 'YcjW', 'predikat': 'repressor', 'objekt': 'ycjS'}]\n",
      "---------------------------\n",
      "185 286\n"
     ]
    },
    {
     "name": "stderr",
     "output_type": "stream",
     "text": [
      "C:\\Anaconda\\lib\\site-packages\\urllib3\\connectionpool.py:1061: InsecureRequestWarning: Unverified HTTPS request is being made to host 'regulondb.ccg.unam.mx'. Adding certificate verification is strongly advised. See: https://urllib3.readthedocs.io/en/1.26.x/advanced-usage.html#ssl-warnings\n",
      "  warnings.warn(\n"
     ]
    },
    {
     "name": "stdout",
     "output_type": "stream",
     "text": [
      "success:\n",
      "[{'subjekt': 'HicB', 'predikat': 'repressor', 'objekt': 'hicA'}, {'subjekt': 'HicB', 'predikat': 'repressor', 'objekt': 'hicB'}]\n",
      "---------------------------\n",
      "186 286\n"
     ]
    },
    {
     "name": "stderr",
     "output_type": "stream",
     "text": [
      "C:\\Anaconda\\lib\\site-packages\\urllib3\\connectionpool.py:1061: InsecureRequestWarning: Unverified HTTPS request is being made to host 'regulondb.ccg.unam.mx'. Adding certificate verification is strongly advised. See: https://urllib3.readthedocs.io/en/1.26.x/advanced-usage.html#ssl-warnings\n",
      "  warnings.warn(\n"
     ]
    },
    {
     "name": "stdout",
     "output_type": "stream",
     "text": [
      "success:\n",
      "[{'subjekt': 'YdeO', 'predikat': 'activator', 'objekt': 'gadE'}, {'subjekt': 'YdeO', 'predikat': 'activator', 'objekt': 'gadF'}, {'subjekt': 'YdeO', 'predikat': 'repressor', 'objekt': 'safA'}, {'subjekt': 'YdeO', 'predikat': 'repressor', 'objekt': 'ydeO'}, {'subjekt': 'YdeO', 'predikat': 'activator', 'objekt': 'gadW'}, {'subjekt': 'YdeO', 'predikat': 'activator', 'objekt': 'hyaD'}, {'subjekt': 'YdeO', 'predikat': 'activator', 'objekt': 'hyaA'}, {'subjekt': 'YdeO', 'predikat': 'activator', 'objekt': 'hyaC'}, {'subjekt': 'YdeO', 'predikat': 'activator', 'objekt': 'hyaB'}, {'subjekt': 'YdeO', 'predikat': 'activator', 'objekt': 'hyaF'}, {'subjekt': 'YdeO', 'predikat': 'activator', 'objekt': 'hyaE'}, {'subjekt': 'YdeO', 'predikat': 'activator', 'objekt': 'appC'}, {'subjekt': 'YdeO', 'predikat': 'activator', 'objekt': 'appX'}, {'subjekt': 'YdeO', 'predikat': 'activator', 'objekt': 'appB'}, {'subjekt': 'YdeO', 'predikat': 'activator', 'objekt': 'appA'}, {'subjekt': 'YdeO', 'predikat': 'activator', 'objekt': 'uspD'}, {'subjekt': 'YdeO', 'predikat': 'activator', 'objekt': 'yiiS'}, {'subjekt': 'YdeO', 'predikat': 'activator', 'objekt': 'dctR'}, {'subjekt': 'YdeO', 'predikat': 'activator', 'objekt': 'slp'}, {'subjekt': 'YdeO', 'predikat': 'activator', 'objekt': 'nhaR'}, {'subjekt': 'YdeO', 'predikat': 'activator', 'objekt': 'mdtE'}, {'subjekt': 'YdeO', 'predikat': 'activator', 'objekt': 'mdtF'}]\n",
      "---------------------------\n",
      "187 286\n"
     ]
    },
    {
     "name": "stderr",
     "output_type": "stream",
     "text": [
      "C:\\Anaconda\\lib\\site-packages\\urllib3\\connectionpool.py:1061: InsecureRequestWarning: Unverified HTTPS request is being made to host 'regulondb.ccg.unam.mx'. Adding certificate verification is strongly advised. See: https://urllib3.readthedocs.io/en/1.26.x/advanced-usage.html#ssl-warnings\n",
      "  warnings.warn(\n"
     ]
    },
    {
     "name": "stdout",
     "output_type": "stream",
     "text": [
      "success:\n",
      "[{'subjekt': 'UxuR', 'predikat': 'repressor', 'objekt': 'lgoR'}, {'subjekt': 'UxuR', 'predikat': 'repressor', 'objekt': 'lgoD'}, {'subjekt': 'UxuR', 'predikat': 'repressor', 'objekt': 'uxuR'}, {'subjekt': 'UxuR', 'predikat': 'repressor', 'objekt': 'exuR'}, {'subjekt': 'UxuR', 'predikat': 'repressor', 'objekt': 'fliC'}, {'subjekt': 'UxuR', 'predikat': 'repressor', 'objekt': 'uxuA'}, {'subjekt': 'UxuR', 'predikat': 'repressor', 'objekt': 'uxuB'}, {'subjekt': 'UxuR', 'predikat': 'repressor', 'objekt': 'uidA'}, {'subjekt': 'UxuR', 'predikat': 'repressor', 'objekt': 'uidC'}, {'subjekt': 'UxuR', 'predikat': 'repressor', 'objekt': 'uidB'}, {'subjekt': 'UxuR', 'predikat': 'repressor', 'objekt': 'gntP'}]\n",
      "---------------------------\n",
      "188 286\n"
     ]
    },
    {
     "name": "stderr",
     "output_type": "stream",
     "text": [
      "C:\\Anaconda\\lib\\site-packages\\urllib3\\connectionpool.py:1061: InsecureRequestWarning: Unverified HTTPS request is being made to host 'regulondb.ccg.unam.mx'. Adding certificate verification is strongly advised. See: https://urllib3.readthedocs.io/en/1.26.x/advanced-usage.html#ssl-warnings\n",
      "  warnings.warn(\n"
     ]
    },
    {
     "name": "stdout",
     "output_type": "stream",
     "text": [
      "success:\n",
      "[{'subjekt': 'MntR', 'predikat': 'repressor', 'objekt': 'dps'}, {'subjekt': 'MntR', 'predikat': 'activator', 'objekt': 'mntP'}, {'subjekt': 'MntR', 'predikat': 'repressor', 'objekt': 'mntS'}, {'subjekt': 'MntR', 'predikat': 'repressor', 'objekt': 'rybA'}, {'subjekt': 'MntR', 'predikat': 'repressor', 'objekt': 'mntH'}]\n",
      "---------------------------\n",
      "189 286\n"
     ]
    },
    {
     "name": "stderr",
     "output_type": "stream",
     "text": [
      "C:\\Anaconda\\lib\\site-packages\\urllib3\\connectionpool.py:1061: InsecureRequestWarning: Unverified HTTPS request is being made to host 'regulondb.ccg.unam.mx'. Adding certificate verification is strongly advised. See: https://urllib3.readthedocs.io/en/1.26.x/advanced-usage.html#ssl-warnings\n",
      "  warnings.warn(\n"
     ]
    },
    {
     "name": "stdout",
     "output_type": "stream",
     "text": [
      "success:\n",
      "[{'subjekt': 'FrlR', 'predikat': 'repressor', 'objekt': 'frlR'}, {'subjekt': 'FrlR', 'predikat': 'repressor', 'objekt': 'frlD'}, {'subjekt': 'FrlR', 'predikat': 'repressor', 'objekt': 'frlC'}, {'subjekt': 'FrlR', 'predikat': 'repressor', 'objekt': 'frlB'}, {'subjekt': 'FrlR', 'predikat': 'repressor', 'objekt': 'frlA'}]\n",
      "---------------------------\n",
      "190 286\n"
     ]
    },
    {
     "name": "stderr",
     "output_type": "stream",
     "text": [
      "C:\\Anaconda\\lib\\site-packages\\urllib3\\connectionpool.py:1061: InsecureRequestWarning: Unverified HTTPS request is being made to host 'regulondb.ccg.unam.mx'. Adding certificate verification is strongly advised. See: https://urllib3.readthedocs.io/en/1.26.x/advanced-usage.html#ssl-warnings\n",
      "  warnings.warn(\n"
     ]
    },
    {
     "name": "stdout",
     "output_type": "stream",
     "text": [
      "success:\n",
      "[{'subjekt': 'BirA', 'predikat': 'repressor', 'objekt': 'bioF'}, {'subjekt': 'BirA', 'predikat': 'repressor', 'objekt': 'bioD'}, {'subjekt': 'BirA', 'predikat': 'repressor', 'objekt': 'bioB'}, {'subjekt': 'BirA', 'predikat': 'repressor', 'objekt': 'bioC'}, {'subjekt': 'BirA', 'predikat': 'repressor', 'objekt': 'bioA'}]\n",
      "---------------------------\n",
      "191 286\n"
     ]
    },
    {
     "name": "stderr",
     "output_type": "stream",
     "text": [
      "C:\\Anaconda\\lib\\site-packages\\urllib3\\connectionpool.py:1061: InsecureRequestWarning: Unverified HTTPS request is being made to host 'regulondb.ccg.unam.mx'. Adding certificate verification is strongly advised. See: https://urllib3.readthedocs.io/en/1.26.x/advanced-usage.html#ssl-warnings\n",
      "  warnings.warn(\n"
     ]
    },
    {
     "name": "stdout",
     "output_type": "stream",
     "text": [
      "success:\n",
      "[{'subjekt': 'GcvA', 'predikat': 'activator', 'objekt': 'gcvB'}, {'subjekt': 'GcvA', 'predikat': 'repressor', 'objekt': 'gcvA'}, {'subjekt': 'GcvA', 'predikat': 'dual', 'objekt': 'gcvT'}, {'subjekt': 'GcvA', 'predikat': 'dual', 'objekt': 'gcvH'}, {'subjekt': 'GcvA', 'predikat': 'dual', 'objekt': 'gcvP'}]\n",
      "---------------------------\n",
      "192 286\n"
     ]
    },
    {
     "name": "stderr",
     "output_type": "stream",
     "text": [
      "C:\\Anaconda\\lib\\site-packages\\urllib3\\connectionpool.py:1061: InsecureRequestWarning: Unverified HTTPS request is being made to host 'regulondb.ccg.unam.mx'. Adding certificate verification is strongly advised. See: https://urllib3.readthedocs.io/en/1.26.x/advanced-usage.html#ssl-warnings\n",
      "  warnings.warn(\n"
     ]
    },
    {
     "name": "stdout",
     "output_type": "stream",
     "text": [
      "success:\n",
      "[{'subjekt': 'DeoR', 'predikat': 'repressor', 'objekt': 'deoC'}, {'subjekt': 'DeoR', 'predikat': 'repressor', 'objekt': 'deoD'}, {'subjekt': 'DeoR', 'predikat': 'repressor', 'objekt': 'deoA'}, {'subjekt': 'DeoR', 'predikat': 'repressor', 'objekt': 'deoB'}, {'subjekt': 'DeoR', 'predikat': 'repressor', 'objekt': 'nupG'}, {'subjekt': 'DeoR', 'predikat': 'repressor', 'objekt': 'tsx'}]\n",
      "---------------------------\n",
      "193 286\n"
     ]
    },
    {
     "name": "stderr",
     "output_type": "stream",
     "text": [
      "C:\\Anaconda\\lib\\site-packages\\urllib3\\connectionpool.py:1061: InsecureRequestWarning: Unverified HTTPS request is being made to host 'regulondb.ccg.unam.mx'. Adding certificate verification is strongly advised. See: https://urllib3.readthedocs.io/en/1.26.x/advanced-usage.html#ssl-warnings\n",
      "  warnings.warn(\n"
     ]
    },
    {
     "name": "stdout",
     "output_type": "stream",
     "text": [
      "success:\n",
      "[{'subjekt': 'NrdR', 'predikat': 'repressor', 'objekt': 'nrdA'}, {'subjekt': 'NrdR', 'predikat': 'repressor', 'objekt': 'yfaE'}, {'subjekt': 'NrdR', 'predikat': 'repressor', 'objekt': 'nrdB'}, {'subjekt': 'NrdR', 'predikat': 'repressor', 'objekt': 'nrdH'}, {'subjekt': 'NrdR', 'predikat': 'repressor', 'objekt': 'nrdE'}, {'subjekt': 'NrdR', 'predikat': 'repressor', 'objekt': 'nrdI'}, {'subjekt': 'NrdR', 'predikat': 'repressor', 'objekt': 'nrdF'}, {'subjekt': 'NrdR', 'predikat': 'repressor', 'objekt': 'nrdD'}, {'subjekt': 'NrdR', 'predikat': 'repressor', 'objekt': 'nrdG'}]\n",
      "---------------------------\n",
      "194 286\n"
     ]
    },
    {
     "name": "stderr",
     "output_type": "stream",
     "text": [
      "C:\\Anaconda\\lib\\site-packages\\urllib3\\connectionpool.py:1061: InsecureRequestWarning: Unverified HTTPS request is being made to host 'regulondb.ccg.unam.mx'. Adding certificate verification is strongly advised. See: https://urllib3.readthedocs.io/en/1.26.x/advanced-usage.html#ssl-warnings\n",
      "  warnings.warn(\n"
     ]
    },
    {
     "name": "stdout",
     "output_type": "stream",
     "text": [
      "success:\n",
      "[{'subjekt': 'SrlR', 'predikat': 'repressor', 'objekt': 'gutM'}, {'subjekt': 'SrlR', 'predikat': 'repressor', 'objekt': 'srlE'}, {'subjekt': 'SrlR', 'predikat': 'repressor', 'objekt': 'srlB'}, {'subjekt': 'SrlR', 'predikat': 'repressor', 'objekt': 'srlR'}, {'subjekt': 'SrlR', 'predikat': 'repressor', 'objekt': 'srlD'}, {'subjekt': 'SrlR', 'predikat': 'repressor', 'objekt': 'gutQ'}, {'subjekt': 'SrlR', 'predikat': 'repressor', 'objekt': 'srlA'}]\n",
      "---------------------------\n",
      "195 286\n"
     ]
    },
    {
     "name": "stderr",
     "output_type": "stream",
     "text": [
      "C:\\Anaconda\\lib\\site-packages\\urllib3\\connectionpool.py:1061: InsecureRequestWarning: Unverified HTTPS request is being made to host 'regulondb.ccg.unam.mx'. Adding certificate verification is strongly advised. See: https://urllib3.readthedocs.io/en/1.26.x/advanced-usage.html#ssl-warnings\n",
      "  warnings.warn(\n"
     ]
    },
    {
     "name": "stdout",
     "output_type": "stream",
     "text": [
      "success:\n",
      "[{'subjekt': 'GatR', 'predikat': 'repressor', 'objekt': 'gatB'}, {'subjekt': 'GatR', 'predikat': 'repressor', 'objekt': 'gatA'}, {'subjekt': 'GatR', 'predikat': 'repressor', 'objekt': 'gatY'}, {'subjekt': 'GatR', 'predikat': 'repressor', 'objekt': 'gatZ'}, {'subjekt': 'GatR', 'predikat': 'repressor', 'objekt': 'gatC'}, {'subjekt': 'GatR', 'predikat': 'repressor', 'objekt': 'gatD'}]\n",
      "---------------------------\n",
      "196 286\n"
     ]
    },
    {
     "name": "stderr",
     "output_type": "stream",
     "text": [
      "C:\\Anaconda\\lib\\site-packages\\urllib3\\connectionpool.py:1061: InsecureRequestWarning: Unverified HTTPS request is being made to host 'regulondb.ccg.unam.mx'. Adding certificate verification is strongly advised. See: https://urllib3.readthedocs.io/en/1.26.x/advanced-usage.html#ssl-warnings\n",
      "  warnings.warn(\n"
     ]
    },
    {
     "name": "stdout",
     "output_type": "stream",
     "text": [
      "success:\n",
      "[{'subjekt': 'DinJ-YafQ', 'predikat': 'repressor', 'objekt': 'cspE'}, {'subjekt': 'DinJ-YafQ', 'predikat': 'repressor', 'objekt': 'yafQ'}, {'subjekt': 'DinJ-YafQ', 'predikat': 'repressor', 'objekt': 'dinJ'}]\n",
      "---------------------------\n",
      "197 286\n"
     ]
    },
    {
     "name": "stderr",
     "output_type": "stream",
     "text": [
      "C:\\Anaconda\\lib\\site-packages\\urllib3\\connectionpool.py:1061: InsecureRequestWarning: Unverified HTTPS request is being made to host 'regulondb.ccg.unam.mx'. Adding certificate verification is strongly advised. See: https://urllib3.readthedocs.io/en/1.26.x/advanced-usage.html#ssl-warnings\n",
      "  warnings.warn(\n"
     ]
    },
    {
     "name": "stdout",
     "output_type": "stream",
     "text": [
      "success:\n",
      "[{'subjekt': 'CysB', 'predikat': 'activator', 'objekt': 'yciW'}, {'subjekt': 'CysB', 'predikat': 'activator', 'objekt': 'tcyP'}, {'subjekt': 'CysB', 'predikat': 'activator', 'objekt': 'tcyJ'}, {'subjekt': 'CysB', 'predikat': 'repressor', 'objekt': 'cysB'}, {'subjekt': 'CysB', 'predikat': 'activator', 'objekt': 'cysK'}, {'subjekt': 'CysB', 'predikat': 'activator', 'objekt': 'ygeH'}, {'subjekt': 'CysB', 'predikat': 'activator', 'objekt': 'ybdN'}, {'subjekt': 'CysB', 'predikat': 'activator', 'objekt': 'dgcZ'}, {'subjekt': 'CysB', 'predikat': 'activator', 'objekt': 'yfbR'}, {'subjekt': 'CysB', 'predikat': 'activator', 'objekt': 'yoaC'}, {'subjekt': 'CysB', 'predikat': 'activator', 'objekt': 'ariR'}, {'subjekt': 'CysB', 'predikat': 'activator', 'objekt': 'tauD'}, {'subjekt': 'CysB', 'predikat': 'activator', 'objekt': 'tauB'}, {'subjekt': 'CysB', 'predikat': 'activator', 'objekt': 'tauC'}, {'subjekt': 'CysB', 'predikat': 'activator', 'objekt': 'tauA'}, {'subjekt': 'CysB', 'predikat': 'activator', 'objekt': 'cysC'}, {'subjekt': 'CysB', 'predikat': 'activator', 'objekt': 'cysN'}, {'subjekt': 'CysB', 'predikat': 'activator', 'objekt': 'cysD'}, {'subjekt': 'CysB', 'predikat': 'activator', 'objekt': 'cysI'}, {'subjekt': 'CysB', 'predikat': 'activator', 'objekt': 'cysJ'}, {'subjekt': 'CysB', 'predikat': 'activator', 'objekt': 'cysH'}, {'subjekt': 'CysB', 'predikat': 'activator', 'objekt': 'cysA'}, {'subjekt': 'CysB', 'predikat': 'activator', 'objekt': 'cysU'}, {'subjekt': 'CysB', 'predikat': 'activator', 'objekt': 'cysW'}, {'subjekt': 'CysB', 'predikat': 'activator', 'objekt': 'cysP'}, {'subjekt': 'CysB', 'predikat': 'activator', 'objekt': 'cysM'}, {'subjekt': 'CysB', 'predikat': 'repressor', 'objekt': 'ssuC'}, {'subjekt': 'CysB', 'predikat': 'repressor', 'objekt': 'ssuA'}, {'subjekt': 'CysB', 'predikat': 'repressor', 'objekt': 'ssuE'}, {'subjekt': 'CysB', 'predikat': 'repressor', 'objekt': 'ssuB'}, {'subjekt': 'CysB', 'predikat': 'repressor', 'objekt': 'ssuD'}, {'subjekt': 'CysB', 'predikat': 'activator', 'objekt': 'cbl'}, {'subjekt': 'CysB', 'predikat': 'repressor', 'objekt': 'hslJ'}]\n",
      "---------------------------\n",
      "198 286\n"
     ]
    },
    {
     "name": "stderr",
     "output_type": "stream",
     "text": [
      "C:\\Anaconda\\lib\\site-packages\\urllib3\\connectionpool.py:1061: InsecureRequestWarning: Unverified HTTPS request is being made to host 'regulondb.ccg.unam.mx'. Adding certificate verification is strongly advised. See: https://urllib3.readthedocs.io/en/1.26.x/advanced-usage.html#ssl-warnings\n",
      "  warnings.warn(\n"
     ]
    },
    {
     "name": "stdout",
     "output_type": "stream",
     "text": [
      "success:\n",
      "[{'subjekt': 'NtrC', 'predikat': 'activator', 'objekt': 'hisJ'}, {'subjekt': 'NtrC', 'predikat': 'activator', 'objekt': 'hisQ'}, {'subjekt': 'NtrC', 'predikat': 'activator', 'objekt': 'hisP'}, {'subjekt': 'NtrC', 'predikat': 'activator', 'objekt': 'hisM'}, {'subjekt': 'NtrC', 'predikat': 'activator', 'objekt': 'argT'}, {'subjekt': 'NtrC', 'predikat': 'activator', 'objekt': 'rutC'}, {'subjekt': 'NtrC', 'predikat': 'activator', 'objekt': 'rutF'}, {'subjekt': 'NtrC', 'predikat': 'activator', 'objekt': 'rutA'}, {'subjekt': 'NtrC', 'predikat': 'activator', 'objekt': 'rutE'}, {'subjekt': 'NtrC', 'predikat': 'activator', 'objekt': 'rutB'}, {'subjekt': 'NtrC', 'predikat': 'activator', 'objekt': 'rutD'}, {'subjekt': 'NtrC', 'predikat': 'activator', 'objekt': 'rutG'}, {'subjekt': 'NtrC', 'predikat': 'dual', 'objekt': 'glnG'}, {'subjekt': 'NtrC', 'predikat': 'dual', 'objekt': 'glnL'}, {'subjekt': 'NtrC', 'predikat': 'activator', 'objekt': 'glnK'}, {'subjekt': 'NtrC', 'predikat': 'activator', 'objekt': 'amtB'}, {'subjekt': 'NtrC', 'predikat': 'dual', 'objekt': 'glnQ'}, {'subjekt': 'NtrC', 'predikat': 'dual', 'objekt': 'glnP'}, {'subjekt': 'NtrC', 'predikat': 'dual', 'objekt': 'glnH'}, {'subjekt': 'NtrC', 'predikat': 'activator', 'objekt': 'ddpC'}, {'subjekt': 'NtrC', 'predikat': 'activator', 'objekt': 'ddpA'}, {'subjekt': 'NtrC', 'predikat': 'activator', 'objekt': 'ddpF'}, {'subjekt': 'NtrC', 'predikat': 'activator', 'objekt': 'ddpD'}, {'subjekt': 'NtrC', 'predikat': 'activator', 'objekt': 'ddpB'}, {'subjekt': 'NtrC', 'predikat': 'activator', 'objekt': 'ddpX'}, {'subjekt': 'NtrC', 'predikat': 'activator', 'objekt': 'yhdX'}, {'subjekt': 'NtrC', 'predikat': 'activator', 'objekt': 'yhdZ'}, {'subjekt': 'NtrC', 'predikat': 'activator', 'objekt': 'yhdY'}, {'subjekt': 'NtrC', 'predikat': 'activator', 'objekt': 'yhdW'}, {'subjekt': 'NtrC', 'predikat': 'activator', 'objekt': 'patA'}, {'subjekt': 'NtrC', 'predikat': 'activator', 'objekt': 'relA'}, {'subjekt': 'NtrC', 'predikat': 'activator', 'objekt': 'rseB'}, {'subjekt': 'NtrC', 'predikat': 'activator', 'objekt': 'rseA'}, {'subjekt': 'NtrC', 'predikat': 'activator', 'objekt': 'rseC'}, {'subjekt': 'NtrC', 'predikat': 'activator', 'objekt': 'rseD'}, {'subjekt': 'NtrC', 'predikat': 'activator', 'objekt': 'rpoE'}, {'subjekt': 'NtrC', 'predikat': 'dual', 'objekt': 'glnZ'}, {'subjekt': 'NtrC', 'predikat': 'dual', 'objekt': 'glnA'}, {'subjekt': 'NtrC', 'predikat': 'activator', 'objekt': 'nac'}, {'subjekt': 'NtrC', 'predikat': 'activator', 'objekt': 'cbl'}, {'subjekt': 'NtrC', 'predikat': 'activator', 'objekt': 'yeaG'}, {'subjekt': 'NtrC', 'predikat': 'activator', 'objekt': 'yeaH'}, {'subjekt': 'NtrC', 'predikat': 'activator', 'objekt': 'potF'}, {'subjekt': 'NtrC', 'predikat': 'activator', 'objekt': 'potH'}, {'subjekt': 'NtrC', 'predikat': 'activator', 'objekt': 'potI'}, {'subjekt': 'NtrC', 'predikat': 'activator', 'objekt': 'potG'}, {'subjekt': 'NtrC', 'predikat': 'activator', 'objekt': 'astD'}, {'subjekt': 'NtrC', 'predikat': 'activator', 'objekt': 'astE'}, {'subjekt': 'NtrC', 'predikat': 'activator', 'objekt': 'astB'}, {'subjekt': 'NtrC', 'predikat': 'activator', 'objekt': 'astA'}, {'subjekt': 'NtrC', 'predikat': 'activator', 'objekt': 'astC'}]\n",
      "---------------------------\n",
      "199 286\n"
     ]
    },
    {
     "name": "stderr",
     "output_type": "stream",
     "text": [
      "C:\\Anaconda\\lib\\site-packages\\urllib3\\connectionpool.py:1061: InsecureRequestWarning: Unverified HTTPS request is being made to host 'regulondb.ccg.unam.mx'. Adding certificate verification is strongly advised. See: https://urllib3.readthedocs.io/en/1.26.x/advanced-usage.html#ssl-warnings\n",
      "  warnings.warn(\n"
     ]
    },
    {
     "name": "stdout",
     "output_type": "stream",
     "text": [
      "success:\n",
      "[{'subjekt': 'NanR', 'predikat': 'repressor', 'objekt': 'nanX'}, {'subjekt': 'NanR', 'predikat': 'repressor', 'objekt': 'nanY'}, {'subjekt': 'NanR', 'predikat': 'repressor', 'objekt': 'nanS'}, {'subjekt': 'NanR', 'predikat': 'repressor', 'objekt': 'nanM'}, {'subjekt': 'NanR', 'predikat': 'repressor', 'objekt': 'nanC'}, {'subjekt': 'NanR', 'predikat': 'repressor', 'objekt': 'nanK'}, {'subjekt': 'NanR', 'predikat': 'repressor', 'objekt': 'nanQ'}, {'subjekt': 'NanR', 'predikat': 'repressor', 'objekt': 'nanT'}, {'subjekt': 'NanR', 'predikat': 'repressor', 'objekt': 'nanA'}, {'subjekt': 'NanR', 'predikat': 'repressor', 'objekt': 'nanE'}, {'subjekt': 'NanR', 'predikat': 'activator', 'objekt': 'fimB'}]\n",
      "---------------------------\n",
      "200 286\n"
     ]
    },
    {
     "name": "stderr",
     "output_type": "stream",
     "text": [
      "C:\\Anaconda\\lib\\site-packages\\urllib3\\connectionpool.py:1061: InsecureRequestWarning: Unverified HTTPS request is being made to host 'regulondb.ccg.unam.mx'. Adding certificate verification is strongly advised. See: https://urllib3.readthedocs.io/en/1.26.x/advanced-usage.html#ssl-warnings\n",
      "  warnings.warn(\n"
     ]
    },
    {
     "name": "stdout",
     "output_type": "stream",
     "text": [
      "success:\n",
      "[{'subjekt': 'AlaS', 'predikat': 'repressor', 'objekt': 'alaS'}]\n",
      "---------------------------\n",
      "201 286\n"
     ]
    },
    {
     "name": "stderr",
     "output_type": "stream",
     "text": [
      "C:\\Anaconda\\lib\\site-packages\\urllib3\\connectionpool.py:1061: InsecureRequestWarning: Unverified HTTPS request is being made to host 'regulondb.ccg.unam.mx'. Adding certificate verification is strongly advised. See: https://urllib3.readthedocs.io/en/1.26.x/advanced-usage.html#ssl-warnings\n",
      "  warnings.warn(\n"
     ]
    },
    {
     "name": "stdout",
     "output_type": "stream",
     "text": [
      "success:\n",
      "[{'subjekt': 'MhpR', 'predikat': 'activator', 'objekt': 'mhpE'}, {'subjekt': 'MhpR', 'predikat': 'activator', 'objekt': 'mhpC'}, {'subjekt': 'MhpR', 'predikat': 'activator', 'objekt': 'mhpD'}, {'subjekt': 'MhpR', 'predikat': 'activator', 'objekt': 'mhpA'}, {'subjekt': 'MhpR', 'predikat': 'activator', 'objekt': 'mhpB'}, {'subjekt': 'MhpR', 'predikat': 'activator', 'objekt': 'mhpF'}]\n",
      "---------------------------\n",
      "202 286\n"
     ]
    },
    {
     "name": "stderr",
     "output_type": "stream",
     "text": [
      "C:\\Anaconda\\lib\\site-packages\\urllib3\\connectionpool.py:1061: InsecureRequestWarning: Unverified HTTPS request is being made to host 'regulondb.ccg.unam.mx'. Adding certificate verification is strongly advised. See: https://urllib3.readthedocs.io/en/1.26.x/advanced-usage.html#ssl-warnings\n",
      "  warnings.warn(\n"
     ]
    },
    {
     "name": "stdout",
     "output_type": "stream",
     "text": [
      "success:\n",
      "[{'subjekt': 'BluR', 'predikat': 'repressor', 'objekt': 'ymgC'}, {'subjekt': 'BluR', 'predikat': 'repressor', 'objekt': 'ariR'}, {'subjekt': 'BluR', 'predikat': 'repressor', 'objekt': 'ymgA'}, {'subjekt': 'BluR', 'predikat': 'repressor', 'objekt': 'ycgZ'}]\n",
      "---------------------------\n",
      "203 286\n"
     ]
    },
    {
     "name": "stderr",
     "output_type": "stream",
     "text": [
      "C:\\Anaconda\\lib\\site-packages\\urllib3\\connectionpool.py:1061: InsecureRequestWarning: Unverified HTTPS request is being made to host 'regulondb.ccg.unam.mx'. Adding certificate verification is strongly advised. See: https://urllib3.readthedocs.io/en/1.26.x/advanced-usage.html#ssl-warnings\n",
      "  warnings.warn(\n"
     ]
    },
    {
     "name": "stdout",
     "output_type": "stream",
     "text": [
      "success:\n",
      "[{'subjekt': 'PdhR', 'predikat': 'repressor', 'objekt': 'glcG'}, {'subjekt': 'PdhR', 'predikat': 'repressor', 'objekt': 'glcF'}, {'subjekt': 'PdhR', 'predikat': 'repressor', 'objekt': 'glcD'}, {'subjekt': 'PdhR', 'predikat': 'repressor', 'objekt': 'glcB'}, {'subjekt': 'PdhR', 'predikat': 'repressor', 'objekt': 'glcE'}, {'subjekt': 'PdhR', 'predikat': 'repressor', 'objekt': 'glcA'}, {'subjekt': 'PdhR', 'predikat': 'repressor', 'objekt': 'ddlB'}, {'subjekt': 'PdhR', 'predikat': 'repressor', 'objekt': 'mraY'}, {'subjekt': 'PdhR', 'predikat': 'repressor', 'objekt': 'murE'}, {'subjekt': 'PdhR', 'predikat': 'repressor', 'objekt': 'ftsQ'}, {'subjekt': 'PdhR', 'predikat': 'repressor', 'objekt': 'ftsZ'}, {'subjekt': 'PdhR', 'predikat': 'repressor', 'objekt': 'murG'}, {'subjekt': 'PdhR', 'predikat': 'repressor', 'objekt': 'rsmH'}, {'subjekt': 'PdhR', 'predikat': 'repressor', 'objekt': 'ftsL'}, {'subjekt': 'PdhR', 'predikat': 'repressor', 'objekt': 'ftsW'}, {'subjekt': 'PdhR', 'predikat': 'repressor', 'objekt': 'ftsA'}, {'subjekt': 'PdhR', 'predikat': 'repressor', 'objekt': 'mraZ'}, {'subjekt': 'PdhR', 'predikat': 'repressor', 'objekt': 'ftsI'}, {'subjekt': 'PdhR', 'predikat': 'repressor', 'objekt': 'lpxC'}, {'subjekt': 'PdhR', 'predikat': 'repressor', 'objekt': 'murD'}, {'subjekt': 'PdhR', 'predikat': 'repressor', 'objekt': 'murF'}, {'subjekt': 'PdhR', 'predikat': 'repressor', 'objekt': 'murC'}, {'subjekt': 'PdhR', 'predikat': 'repressor', 'objekt': 'ftsO'}, {'subjekt': 'PdhR', 'predikat': 'repressor', 'objekt': 'pdhR'}, {'subjekt': 'PdhR', 'predikat': 'repressor', 'objekt': 'aceF'}, {'subjekt': 'PdhR', 'predikat': 'repressor', 'objekt': 'aceE'}, {'subjekt': 'PdhR', 'predikat': 'repressor', 'objekt': 'lpd'}, {'subjekt': 'PdhR', 'predikat': 'activator', 'objekt': 'ppsA'}, {'subjekt': 'PdhR', 'predikat': 'activator', 'objekt': 'ppsR'}, {'subjekt': 'PdhR', 'predikat': 'activator', 'objekt': 'fumD'}, {'subjekt': 'PdhR', 'predikat': 'repressor', 'objekt': 'lldP'}, {'subjekt': 'PdhR', 'predikat': 'activator', 'objekt': 'acpP'}, {'subjekt': 'PdhR', 'predikat': 'activator', 'objekt': 'gmhA'}, {'subjekt': 'PdhR', 'predikat': 'activator', 'objekt': 'fadE'}, {'subjekt': 'PdhR', 'predikat': 'activator', 'objekt': 'ybcV'}, {'subjekt': 'PdhR', 'predikat': 'activator', 'objekt': 'ybcW'}, {'subjekt': 'PdhR', 'predikat': 'activator', 'objekt': 'fadL'}, {'subjekt': 'PdhR', 'predikat': 'activator', 'objekt': 'fadM'}, {'subjekt': 'PdhR', 'predikat': 'activator', 'objekt': 'fadH'}, {'subjekt': 'PdhR', 'predikat': 'activator', 'objekt': 'fecA'}, {'subjekt': 'PdhR', 'predikat': 'activator', 'objekt': 'fecB'}, {'subjekt': 'PdhR', 'predikat': 'activator', 'objekt': 'fecD'}, {'subjekt': 'PdhR', 'predikat': 'activator', 'objekt': 'fecC'}, {'subjekt': 'PdhR', 'predikat': 'activator', 'objekt': 'fecE'}, {'subjekt': 'PdhR', 'predikat': 'repressor', 'objekt': 'grcA'}, {'subjekt': 'PdhR', 'predikat': 'repressor', 'objekt': 'ndh'}, {'subjekt': 'PdhR', 'predikat': 'repressor', 'objekt': 'cyoB'}, {'subjekt': 'PdhR', 'predikat': 'repressor', 'objekt': 'cyoD'}, {'subjekt': 'PdhR', 'predikat': 'repressor', 'objekt': 'cyoC'}, {'subjekt': 'PdhR', 'predikat': 'repressor', 'objekt': 'cyoA'}, {'subjekt': 'PdhR', 'predikat': 'repressor', 'objekt': 'cyoE'}, {'subjekt': 'PdhR', 'predikat': 'repressor', 'objekt': 'hha'}, {'subjekt': 'PdhR', 'predikat': 'repressor', 'objekt': 'tomB'}, {'subjekt': 'PdhR', 'predikat': 'repressor', 'objekt': 'hemL'}]\n",
      "---------------------------\n",
      "204 286\n"
     ]
    },
    {
     "name": "stderr",
     "output_type": "stream",
     "text": [
      "C:\\Anaconda\\lib\\site-packages\\urllib3\\connectionpool.py:1061: InsecureRequestWarning: Unverified HTTPS request is being made to host 'regulondb.ccg.unam.mx'. Adding certificate verification is strongly advised. See: https://urllib3.readthedocs.io/en/1.26.x/advanced-usage.html#ssl-warnings\n",
      "  warnings.warn(\n"
     ]
    },
    {
     "name": "stdout",
     "output_type": "stream",
     "text": [
      "success:\n",
      "[{'subjekt': 'MurR', 'predikat': 'repressor', 'objekt': 'murQ'}, {'subjekt': 'MurR', 'predikat': 'repressor', 'objekt': 'murP'}, {'subjekt': 'MurR', 'predikat': 'dual', 'objekt': 'murR'}]\n",
      "---------------------------\n",
      "205 286\n"
     ]
    },
    {
     "name": "stderr",
     "output_type": "stream",
     "text": [
      "C:\\Anaconda\\lib\\site-packages\\urllib3\\connectionpool.py:1061: InsecureRequestWarning: Unverified HTTPS request is being made to host 'regulondb.ccg.unam.mx'. Adding certificate verification is strongly advised. See: https://urllib3.readthedocs.io/en/1.26.x/advanced-usage.html#ssl-warnings\n",
      "  warnings.warn(\n"
     ]
    },
    {
     "name": "stdout",
     "output_type": "stream",
     "text": [
      "success:\n",
      "[{'subjekt': 'RhaS', 'predikat': 'dual', 'objekt': 'rhaR'}, {'subjekt': 'RhaS', 'predikat': 'dual', 'objekt': 'rhaS'}, {'subjekt': 'RhaS', 'predikat': 'dual', 'objekt': 'rhaT'}, {'subjekt': 'RhaS', 'predikat': 'activator', 'objekt': 'rhaA'}, {'subjekt': 'RhaS', 'predikat': 'activator', 'objekt': 'rhaB'}, {'subjekt': 'RhaS', 'predikat': 'activator', 'objekt': 'rhaD'}]\n",
      "---------------------------\n",
      "206 286\n"
     ]
    },
    {
     "name": "stderr",
     "output_type": "stream",
     "text": [
      "C:\\Anaconda\\lib\\site-packages\\urllib3\\connectionpool.py:1061: InsecureRequestWarning: Unverified HTTPS request is being made to host 'regulondb.ccg.unam.mx'. Adding certificate verification is strongly advised. See: https://urllib3.readthedocs.io/en/1.26.x/advanced-usage.html#ssl-warnings\n",
      "  warnings.warn(\n"
     ]
    },
    {
     "name": "stdout",
     "output_type": "stream",
     "text": [
      "success:\n",
      "[{'subjekt': 'RutR', 'predikat': 'repressor', 'objekt': 'pdeR'}, {'subjekt': 'RutR', 'predikat': 'activator', 'objekt': 'carB'}, {'subjekt': 'RutR', 'predikat': 'activator', 'objekt': 'carA'}, {'subjekt': 'RutR', 'predikat': 'repressor', 'objekt': 'gadW'}, {'subjekt': 'RutR', 'predikat': 'repressor', 'objekt': 'gadX'}, {'subjekt': 'RutR', 'predikat': 'repressor', 'objekt': 'rutR'}, {'subjekt': 'RutR', 'predikat': 'repressor', 'objekt': 'rutC'}, {'subjekt': 'RutR', 'predikat': 'repressor', 'objekt': 'rutF'}, {'subjekt': 'RutR', 'predikat': 'repressor', 'objekt': 'rutA'}, {'subjekt': 'RutR', 'predikat': 'repressor', 'objekt': 'rutE'}, {'subjekt': 'RutR', 'predikat': 'repressor', 'objekt': 'rutB'}, {'subjekt': 'RutR', 'predikat': 'repressor', 'objekt': 'rutD'}, {'subjekt': 'RutR', 'predikat': 'repressor', 'objekt': 'rutG'}, {'subjekt': 'RutR', 'predikat': 'repressor', 'objekt': 'gloA'}, {'subjekt': 'RutR', 'predikat': 'repressor', 'objekt': 'nemR'}, {'subjekt': 'RutR', 'predikat': 'repressor', 'objekt': 'nemA'}, {'subjekt': 'RutR', 'predikat': 'repressor', 'objekt': 'fepB'}]\n",
      "---------------------------\n",
      "207 286\n"
     ]
    },
    {
     "name": "stderr",
     "output_type": "stream",
     "text": [
      "C:\\Anaconda\\lib\\site-packages\\urllib3\\connectionpool.py:1061: InsecureRequestWarning: Unverified HTTPS request is being made to host 'regulondb.ccg.unam.mx'. Adding certificate verification is strongly advised. See: https://urllib3.readthedocs.io/en/1.26.x/advanced-usage.html#ssl-warnings\n",
      "  warnings.warn(\n"
     ]
    },
    {
     "name": "stdout",
     "output_type": "stream",
     "text": [
      "success:\n",
      "[{'subjekt': 'GlrR', 'predikat': 'activator', 'objekt': 'glmY'}, {'subjekt': 'GlrR', 'predikat': 'activator', 'objekt': 'rseB'}, {'subjekt': 'GlrR', 'predikat': 'activator', 'objekt': 'rseA'}, {'subjekt': 'GlrR', 'predikat': 'activator', 'objekt': 'rseC'}, {'subjekt': 'GlrR', 'predikat': 'activator', 'objekt': 'rseD'}, {'subjekt': 'GlrR', 'predikat': 'activator', 'objekt': 'rpoE'}]\n",
      "---------------------------\n",
      "208 286\n"
     ]
    },
    {
     "name": "stderr",
     "output_type": "stream",
     "text": [
      "C:\\Anaconda\\lib\\site-packages\\urllib3\\connectionpool.py:1061: InsecureRequestWarning: Unverified HTTPS request is being made to host 'regulondb.ccg.unam.mx'. Adding certificate verification is strongly advised. See: https://urllib3.readthedocs.io/en/1.26.x/advanced-usage.html#ssl-warnings\n",
      "  warnings.warn(\n"
     ]
    },
    {
     "name": "stdout",
     "output_type": "stream",
     "text": [
      "success:\n",
      "[{'subjekt': 'MalT', 'predikat': 'activator', 'objekt': 'malQ'}, {'subjekt': 'MalT', 'predikat': 'activator', 'objekt': 'malP'}, {'subjekt': 'MalT', 'predikat': 'activator', 'objekt': 'malH'}, {'subjekt': 'MalT', 'predikat': 'activator', 'objekt': 'malG'}, {'subjekt': 'MalT', 'predikat': 'activator', 'objekt': 'malE'}, {'subjekt': 'MalT', 'predikat': 'activator', 'objekt': 'malF'}, {'subjekt': 'MalT', 'predikat': 'activator', 'objekt': 'malK'}, {'subjekt': 'MalT', 'predikat': 'activator', 'objekt': 'lamB'}, {'subjekt': 'MalT', 'predikat': 'activator', 'objekt': 'malM'}, {'subjekt': 'MalT', 'predikat': 'activator', 'objekt': 'malS'}, {'subjekt': 'MalT', 'predikat': 'activator', 'objekt': 'malZ'}]\n",
      "---------------------------\n",
      "209 286\n"
     ]
    },
    {
     "name": "stderr",
     "output_type": "stream",
     "text": [
      "C:\\Anaconda\\lib\\site-packages\\urllib3\\connectionpool.py:1061: InsecureRequestWarning: Unverified HTTPS request is being made to host 'regulondb.ccg.unam.mx'. Adding certificate verification is strongly advised. See: https://urllib3.readthedocs.io/en/1.26.x/advanced-usage.html#ssl-warnings\n",
      "  warnings.warn(\n"
     ]
    },
    {
     "name": "stdout",
     "output_type": "stream",
     "text": [
      "success:\n",
      "[{'subjekt': 'ArsR', 'predikat': 'repressor', 'objekt': 'arsB'}, {'subjekt': 'ArsR', 'predikat': 'repressor', 'objekt': 'arsR'}, {'subjekt': 'ArsR', 'predikat': 'repressor', 'objekt': 'arsC'}]\n",
      "---------------------------\n",
      "210 286\n"
     ]
    },
    {
     "name": "stderr",
     "output_type": "stream",
     "text": [
      "C:\\Anaconda\\lib\\site-packages\\urllib3\\connectionpool.py:1061: InsecureRequestWarning: Unverified HTTPS request is being made to host 'regulondb.ccg.unam.mx'. Adding certificate verification is strongly advised. See: https://urllib3.readthedocs.io/en/1.26.x/advanced-usage.html#ssl-warnings\n",
      "  warnings.warn(\n"
     ]
    },
    {
     "name": "stdout",
     "output_type": "stream",
     "text": [
      "success:\n",
      "[{'subjekt': 'LsrR', 'predikat': 'repressor', 'objekt': 'lsrA'}, {'subjekt': 'LsrR', 'predikat': 'repressor', 'objekt': 'lsrD'}, {'subjekt': 'LsrR', 'predikat': 'repressor', 'objekt': 'lsrB'}, {'subjekt': 'LsrR', 'predikat': 'repressor', 'objekt': 'lsrF'}, {'subjekt': 'LsrR', 'predikat': 'repressor', 'objekt': 'tam'}, {'subjekt': 'LsrR', 'predikat': 'repressor', 'objekt': 'lsrC'}, {'subjekt': 'LsrR', 'predikat': 'repressor', 'objekt': 'lsrG'}, {'subjekt': 'LsrR', 'predikat': 'repressor', 'objekt': 'lsrK'}, {'subjekt': 'LsrR', 'predikat': 'repressor', 'objekt': 'lsrR'}]\n",
      "---------------------------\n",
      "211 286\n"
     ]
    },
    {
     "name": "stderr",
     "output_type": "stream",
     "text": [
      "C:\\Anaconda\\lib\\site-packages\\urllib3\\connectionpool.py:1061: InsecureRequestWarning: Unverified HTTPS request is being made to host 'regulondb.ccg.unam.mx'. Adding certificate verification is strongly advised. See: https://urllib3.readthedocs.io/en/1.26.x/advanced-usage.html#ssl-warnings\n",
      "  warnings.warn(\n"
     ]
    },
    {
     "name": "stdout",
     "output_type": "stream",
     "text": [
      "success:\n",
      "[{'subjekt': 'PhoP', 'predikat': 'activator', 'objekt': 'mgrR'}, {'subjekt': 'PhoP', 'predikat': 'activator', 'objekt': 'mgtS'}, {'subjekt': 'PhoP', 'predikat': 'activator', 'objekt': 'ompT'}, {'subjekt': 'PhoP', 'predikat': 'activator', 'objekt': 'yhiD'}, {'subjekt': 'PhoP', 'predikat': 'activator', 'objekt': 'hdeA'}, {'subjekt': 'PhoP', 'predikat': 'activator', 'objekt': 'hdeB'}, {'subjekt': 'PhoP', 'predikat': 'activator', 'objekt': 'gadW'}, {'subjekt': 'PhoP', 'predikat': 'activator', 'objekt': 'hdeD'}, {'subjekt': 'PhoP', 'predikat': 'activator', 'objekt': 'gadE'}, {'subjekt': 'PhoP', 'predikat': 'activator', 'objekt': 'gadF'}, {'subjekt': 'PhoP', 'predikat': 'activator', 'objekt': 'iraM'}, {'subjekt': 'PhoP', 'predikat': 'repressor', 'objekt': 'safA'}, {'subjekt': 'PhoP', 'predikat': 'repressor', 'objekt': 'ydeO'}, {'subjekt': 'PhoP', 'predikat': 'repressor', 'objekt': 'ydeP'}, {'subjekt': 'PhoP', 'predikat': 'activator', 'objekt': 'cysB'}, {'subjekt': 'PhoP', 'predikat': 'activator', 'objekt': 'glgP'}, {'subjekt': 'PhoP', 'predikat': 'activator', 'objekt': 'glgC'}, {'subjekt': 'PhoP', 'predikat': 'activator', 'objekt': 'glgA'}, {'subjekt': 'PhoP', 'predikat': 'activator', 'objekt': 'glgX'}, {'subjekt': 'PhoP', 'predikat': 'activator', 'objekt': 'glgB'}, {'subjekt': 'PhoP', 'predikat': 'activator', 'objekt': 'queE'}, {'subjekt': 'PhoP', 'predikat': 'repressor', 'objekt': 'clpS'}, {'subjekt': 'PhoP', 'predikat': 'activator', 'objekt': 'ryjB'}, {'subjekt': 'PhoP', 'predikat': 'repressor', 'objekt': 'rmf'}, {'subjekt': 'PhoP', 'predikat': 'repressor', 'objekt': 'rsd'}, {'subjekt': 'PhoP', 'predikat': 'activator', 'objekt': 'fadL'}, {'subjekt': 'PhoP', 'predikat': 'activator', 'objekt': 'purD'}, {'subjekt': 'PhoP', 'predikat': 'activator', 'objekt': 'purH'}, {'subjekt': 'PhoP', 'predikat': 'repressor', 'objekt': 'acrA'}, {'subjekt': 'PhoP', 'predikat': 'repressor', 'objekt': 'acrB'}, {'subjekt': 'PhoP', 'predikat': 'dual', 'objekt': 'phoQ'}, {'subjekt': 'PhoP', 'predikat': 'dual', 'objekt': 'phoP'}, {'subjekt': 'PhoP', 'predikat': 'activator', 'objekt': 'malS'}, {'subjekt': 'PhoP', 'predikat': 'repressor', 'objekt': 'argD'}, {'subjekt': 'PhoP', 'predikat': 'activator', 'objekt': 'nagA'}, {'subjekt': 'PhoP', 'predikat': 'activator', 'objekt': 'hemL'}, {'subjekt': 'PhoP', 'predikat': 'activator', 'objekt': 'pagP'}, {'subjekt': 'PhoP', 'predikat': 'activator', 'objekt': 'ybjG'}, {'subjekt': 'PhoP', 'predikat': 'activator', 'objekt': 'yrbL'}, {'subjekt': 'PhoP', 'predikat': 'activator', 'objekt': 'borD'}, {'subjekt': 'PhoP', 'predikat': 'activator', 'objekt': 'rstB'}, {'subjekt': 'PhoP', 'predikat': 'activator', 'objekt': 'rstA'}, {'subjekt': 'PhoP', 'predikat': 'dual', 'objekt': 'slyB'}, {'subjekt': 'PhoP', 'predikat': 'activator', 'objekt': 'rutC'}, {'subjekt': 'PhoP', 'predikat': 'activator', 'objekt': 'rutF'}, {'subjekt': 'PhoP', 'predikat': 'activator', 'objekt': 'rutA'}, {'subjekt': 'PhoP', 'predikat': 'activator', 'objekt': 'rutE'}, {'subjekt': 'PhoP', 'predikat': 'activator', 'objekt': 'rutB'}, {'subjekt': 'PhoP', 'predikat': 'activator', 'objekt': 'rutD'}, {'subjekt': 'PhoP', 'predikat': 'activator', 'objekt': 'rutG'}, {'subjekt': 'PhoP', 'predikat': 'activator', 'objekt': 'metL'}, {'subjekt': 'PhoP', 'predikat': 'activator', 'objekt': 'metB'}, {'subjekt': 'PhoP', 'predikat': 'activator', 'objekt': 'mgtL'}, {'subjekt': 'PhoP', 'predikat': 'activator', 'objekt': 'mgtA'}, {'subjekt': 'PhoP', 'predikat': 'repressor', 'objekt': 'treR'}, {'subjekt': 'PhoP', 'predikat': 'activator', 'objekt': 'mgrB'}, {'subjekt': 'PhoP', 'predikat': 'repressor', 'objekt': 'dcuD'}, {'subjekt': 'PhoP', 'predikat': 'activator', 'objekt': 'ygiC'}, {'subjekt': 'PhoP', 'predikat': 'activator', 'objekt': 'tolC'}, {'subjekt': 'PhoP', 'predikat': 'activator', 'objekt': 'ygiB'}]\n",
      "---------------------------\n",
      "212 286\n"
     ]
    },
    {
     "name": "stderr",
     "output_type": "stream",
     "text": [
      "C:\\Anaconda\\lib\\site-packages\\urllib3\\connectionpool.py:1061: InsecureRequestWarning: Unverified HTTPS request is being made to host 'regulondb.ccg.unam.mx'. Adding certificate verification is strongly advised. See: https://urllib3.readthedocs.io/en/1.26.x/advanced-usage.html#ssl-warnings\n",
      "  warnings.warn(\n"
     ]
    },
    {
     "name": "stdout",
     "output_type": "stream",
     "text": [
      "success:\n",
      "[{'subjekt': 'RstA', 'predikat': 'repressor', 'objekt': 'csgG'}, {'subjekt': 'RstA', 'predikat': 'repressor', 'objekt': 'csgF'}, {'subjekt': 'RstA', 'predikat': 'repressor', 'objekt': 'csgD'}, {'subjekt': 'RstA', 'predikat': 'repressor', 'objekt': 'csgE'}, {'subjekt': 'RstA', 'predikat': 'repressor', 'objekt': 'ompF'}, {'subjekt': 'RstA', 'predikat': 'activator', 'objekt': 'asr'}, {'subjekt': 'RstA', 'predikat': 'activator', 'objekt': 'narI'}, {'subjekt': 'RstA', 'predikat': 'activator', 'objekt': 'narH'}, {'subjekt': 'RstA', 'predikat': 'activator', 'objekt': 'narJ'}, {'subjekt': 'RstA', 'predikat': 'activator', 'objekt': 'narG'}]\n",
      "---------------------------\n",
      "213 286\n"
     ]
    },
    {
     "name": "stderr",
     "output_type": "stream",
     "text": [
      "C:\\Anaconda\\lib\\site-packages\\urllib3\\connectionpool.py:1061: InsecureRequestWarning: Unverified HTTPS request is being made to host 'regulondb.ccg.unam.mx'. Adding certificate verification is strongly advised. See: https://urllib3.readthedocs.io/en/1.26.x/advanced-usage.html#ssl-warnings\n",
      "  warnings.warn(\n"
     ]
    },
    {
     "name": "stdout",
     "output_type": "stream",
     "text": [
      "success:\n",
      "[{'subjekt': 'YefMB', 'predikat': 'repressor', 'objekt': 'yoeB'}, {'subjekt': 'YefMB', 'predikat': 'repressor', 'objekt': 'yefM'}]\n",
      "---------------------------\n",
      "214 286\n"
     ]
    },
    {
     "name": "stderr",
     "output_type": "stream",
     "text": [
      "C:\\Anaconda\\lib\\site-packages\\urllib3\\connectionpool.py:1061: InsecureRequestWarning: Unverified HTTPS request is being made to host 'regulondb.ccg.unam.mx'. Adding certificate verification is strongly advised. See: https://urllib3.readthedocs.io/en/1.26.x/advanced-usage.html#ssl-warnings\n",
      "  warnings.warn(\n"
     ]
    },
    {
     "name": "stdout",
     "output_type": "stream",
     "text": [
      "success:\n",
      "[{'subjekt': 'BtsR', 'predikat': 'activator', 'objekt': 'btsT'}, {'subjekt': 'BtsR', 'predikat': 'repressor', 'objekt': 'csgA'}, {'subjekt': 'BtsR', 'predikat': 'repressor', 'objekt': 'csgB'}, {'subjekt': 'BtsR', 'predikat': 'repressor', 'objekt': 'csgC'}, {'subjekt': 'BtsR', 'predikat': 'repressor', 'objekt': 'csgG'}, {'subjekt': 'BtsR', 'predikat': 'repressor', 'objekt': 'csgF'}, {'subjekt': 'BtsR', 'predikat': 'repressor', 'objekt': 'csgD'}, {'subjekt': 'BtsR', 'predikat': 'repressor', 'objekt': 'csgE'}, {'subjekt': 'BtsR', 'predikat': 'repressor', 'objekt': 'pdhR'}, {'subjekt': 'BtsR', 'predikat': 'repressor', 'objekt': 'aceF'}, {'subjekt': 'BtsR', 'predikat': 'repressor', 'objekt': 'aceE'}, {'subjekt': 'BtsR', 'predikat': 'repressor', 'objekt': 'lpd'}, {'subjekt': 'BtsR', 'predikat': 'repressor', 'objekt': 'mdh'}, {'subjekt': 'BtsR', 'predikat': 'repressor', 'objekt': 'cspC'}, {'subjekt': 'BtsR', 'predikat': 'repressor', 'objekt': 'yobF'}]\n",
      "---------------------------\n",
      "215 286\n"
     ]
    },
    {
     "name": "stderr",
     "output_type": "stream",
     "text": [
      "C:\\Anaconda\\lib\\site-packages\\urllib3\\connectionpool.py:1061: InsecureRequestWarning: Unverified HTTPS request is being made to host 'regulondb.ccg.unam.mx'. Adding certificate verification is strongly advised. See: https://urllib3.readthedocs.io/en/1.26.x/advanced-usage.html#ssl-warnings\n",
      "  warnings.warn(\n"
     ]
    },
    {
     "name": "stdout",
     "output_type": "stream",
     "text": [
      "success:\n",
      "[{'subjekt': 'CpxR', 'predikat': 'repressor', 'objekt': 'csgG'}, {'subjekt': 'CpxR', 'predikat': 'repressor', 'objekt': 'csgF'}, {'subjekt': 'CpxR', 'predikat': 'repressor', 'objekt': 'csgD'}, {'subjekt': 'CpxR', 'predikat': 'repressor', 'objekt': 'csgE'}, {'subjekt': 'CpxR', 'predikat': 'repressor', 'objekt': 'csgA'}, {'subjekt': 'CpxR', 'predikat': 'repressor', 'objekt': 'csgB'}, {'subjekt': 'CpxR', 'predikat': 'repressor', 'objekt': 'csgC'}, {'subjekt': 'CpxR', 'predikat': 'activator', 'objekt': 'acrD'}, {'subjekt': 'CpxR', 'predikat': 'activator', 'objekt': 'mdtD'}, {'subjekt': 'CpxR', 'predikat': 'activator', 'objekt': 'mdtA'}, {'subjekt': 'CpxR', 'predikat': 'activator', 'objekt': 'mdtB'}, {'subjekt': 'CpxR', 'predikat': 'activator', 'objekt': 'baeR'}, {'subjekt': 'CpxR', 'predikat': 'activator', 'objekt': 'baeS'}, {'subjekt': 'CpxR', 'predikat': 'activator', 'objekt': 'mdtC'}, {'subjekt': 'CpxR', 'predikat': 'activator', 'objekt': 'dsbC'}, {'subjekt': 'CpxR', 'predikat': 'activator', 'objekt': 'yidQ'}, {'subjekt': 'CpxR', 'predikat': 'activator', 'objekt': 'yaiW'}, {'subjekt': 'CpxR', 'predikat': 'activator', 'objekt': 'sbmA'}, {'subjekt': 'CpxR', 'predikat': 'activator', 'objekt': 'yjfN'}, {'subjekt': 'CpxR', 'predikat': 'activator', 'objekt': 'kbp'}, {'subjekt': 'CpxR', 'predikat': 'activator', 'objekt': 'yqaE'}, {'subjekt': 'CpxR', 'predikat': 'activator', 'objekt': 'slt'}, {'subjekt': 'CpxR', 'predikat': 'activator', 'objekt': 'marR'}, {'subjekt': 'CpxR', 'predikat': 'activator', 'objekt': 'marA'}, {'subjekt': 'CpxR', 'predikat': 'activator', 'objekt': 'marB'}, {'subjekt': 'CpxR', 'predikat': 'repressor', 'objekt': 'cyaR'}, {'subjekt': 'CpxR', 'predikat': 'activator', 'objekt': 'rprA'}, {'subjekt': 'CpxR', 'predikat': 'activator', 'objekt': 'ldtD'}, {'subjekt': 'CpxR', 'predikat': 'activator', 'objekt': 'rpoH'}, {'subjekt': 'CpxR', 'predikat': 'repressor', 'objekt': 'ompF'}, {'subjekt': 'CpxR', 'predikat': 'activator', 'objekt': 'cpxR'}, {'subjekt': 'CpxR', 'predikat': 'activator', 'objekt': 'cpxA'}, {'subjekt': 'CpxR', 'predikat': 'repressor', 'objekt': 'sdhC'}, {'subjekt': 'CpxR', 'predikat': 'repressor', 'objekt': 'nuoA'}, {'subjekt': 'CpxR', 'predikat': 'activator', 'objekt': 'carB'}, {'subjekt': 'CpxR', 'predikat': 'activator', 'objekt': 'carA'}, {'subjekt': 'CpxR', 'predikat': 'repressor', 'objekt': 'glsA'}, {'subjekt': 'CpxR', 'predikat': 'activator', 'objekt': 'metC'}, {'subjekt': 'CpxR', 'predikat': 'activator', 'objekt': 'edd'}, {'subjekt': 'CpxR', 'predikat': 'activator', 'objekt': 'epmB'}, {'subjekt': 'CpxR', 'predikat': 'repressor', 'objekt': 'yhdW'}, {'subjekt': 'CpxR', 'predikat': 'activator', 'objekt': 'fdnG'}, {'subjekt': 'CpxR', 'predikat': 'activator', 'objekt': 'yddG'}, {'subjekt': 'CpxR', 'predikat': 'activator', 'objekt': 'hcp'}, {'subjekt': 'CpxR', 'predikat': 'repressor', 'objekt': 'appC'}, {'subjekt': 'CpxR', 'predikat': 'activator', 'objekt': 'atpI'}, {'subjekt': 'CpxR', 'predikat': 'activator', 'objekt': 'frc'}, {'subjekt': 'CpxR', 'predikat': 'activator', 'objekt': 'atpB'}, {'subjekt': 'CpxR', 'predikat': 'repressor', 'objekt': 'acs'}, {'subjekt': 'CpxR', 'predikat': 'activator', 'objekt': 'chaA'}, {'subjekt': 'CpxR', 'predikat': 'repressor', 'objekt': 'chaB'}, {'subjekt': 'CpxR', 'predikat': 'repressor', 'objekt': 'xylE'}, {'subjekt': 'CpxR', 'predikat': 'activator', 'objekt': 'focA'}, {'subjekt': 'CpxR', 'predikat': 'activator', 'objekt': 'pflB'}, {'subjekt': 'CpxR', 'predikat': 'repressor', 'objekt': 'ydeE'}, {'subjekt': 'CpxR', 'predikat': 'repressor', 'objekt': 'eamA'}, {'subjekt': 'CpxR', 'predikat': 'activator', 'objekt': 'gpmM'}, {'subjekt': 'CpxR', 'predikat': 'activator', 'objekt': 'yibN'}, {'subjekt': 'CpxR', 'predikat': 'repressor', 'objekt': 'frmB'}, {'subjekt': 'CpxR', 'predikat': 'activator', 'objekt': 'gapC'}, {'subjekt': 'CpxR', 'predikat': 'repressor', 'objekt': 'gmhA'}, {'subjekt': 'CpxR', 'predikat': 'repressor', 'objekt': 'fadE'}, {'subjekt': 'CpxR', 'predikat': 'repressor', 'objekt': 'galP'}, {'subjekt': 'CpxR', 'predikat': 'repressor', 'objekt': 'ascF'}, {'subjekt': 'CpxR', 'predikat': 'repressor', 'objekt': 'btsT'}, {'subjekt': 'CpxR', 'predikat': 'repressor', 'objekt': 'pdeB'}, {'subjekt': 'CpxR', 'predikat': 'activator', 'objekt': 'cspA'}, {'subjekt': 'CpxR', 'predikat': 'repressor', 'objekt': 'cbl'}, {'subjekt': 'CpxR', 'predikat': 'repressor', 'objekt': 'matA'}, {'subjekt': 'CpxR', 'predikat': 'repressor', 'objekt': 'feaR'}, {'subjekt': 'CpxR', 'predikat': 'activator', 'objekt': 'exbB'}, {'subjekt': 'CpxR', 'predikat': 'activator', 'objekt': 'ampH'}, {'subjekt': 'CpxR', 'predikat': 'activator', 'objekt': 'casA'}, {'subjekt': 'CpxR', 'predikat': 'repressor', 'objekt': 'shoB'}, {'subjekt': 'CpxR', 'predikat': 'activator', 'objekt': 'inaA'}, {'subjekt': 'CpxR', 'predikat': 'repressor', 'objekt': 'yfaH'}, {'subjekt': 'CpxR', 'predikat': 'repressor', 'objekt': 'qmcA'}, {'subjekt': 'CpxR', 'predikat': 'repressor', 'objekt': 'fadI'}, {'subjekt': 'CpxR', 'predikat': 'repressor', 'objekt': 'plsB'}, {'subjekt': 'CpxR', 'predikat': 'activator', 'objekt': 'gstA'}, {'subjekt': 'CpxR', 'predikat': 'activator', 'objekt': 'dsbG'}, {'subjekt': 'CpxR', 'predikat': 'repressor', 'objekt': 'fimB'}, {'subjekt': 'CpxR', 'predikat': 'activator', 'objekt': 'mtn'}, {'subjekt': 'CpxR', 'predikat': 'activator', 'objekt': 'dgt'}, {'subjekt': 'CpxR', 'predikat': 'activator', 'objekt': 'yncE'}, {'subjekt': 'CpxR', 'predikat': 'repressor', 'objekt': 'yhdJ'}, {'subjekt': 'CpxR', 'predikat': 'activator', 'objekt': 'ygjR'}, {'subjekt': 'CpxR', 'predikat': 'activator', 'objekt': 'yacH'}, {'subjekt': 'CpxR', 'predikat': 'repressor', 'objekt': 'astC'}, {'subjekt': 'CpxR', 'predikat': 'activator', 'objekt': 'ompC'}, {'subjekt': 'CpxR', 'predikat': 'activator', 'objekt': 'mzrA'}, {'subjekt': 'CpxR', 'predikat': 'activator', 'objekt': 'yqjA'}, {'subjekt': 'CpxR', 'predikat': 'activator', 'objekt': 'yccA'}, {'subjekt': 'CpxR', 'predikat': 'activator', 'objekt': 'ftnB'}, {'subjekt': 'CpxR', 'predikat': 'activator', 'objekt': 'hha'}, {'subjekt': 'CpxR', 'predikat': 'activator', 'objekt': 'tomB'}, {'subjekt': 'CpxR', 'predikat': 'activator', 'objekt': 'dgcZ'}, {'subjekt': 'CpxR', 'predikat': 'activator', 'objekt': 'yebE'}, {'subjekt': 'CpxR', 'predikat': 'repressor', 'objekt': 'efeU'}, {'subjekt': 'CpxR', 'predikat': 'activator', 'objekt': 'ldtC'}, {'subjekt': 'CpxR', 'predikat': 'activator', 'objekt': 'aroG'}, {'subjekt': 'CpxR', 'predikat': 'activator', 'objekt': 'degP'}, {'subjekt': 'CpxR', 'predikat': 'repressor', 'objekt': 'rseB'}, {'subjekt': 'CpxR', 'predikat': 'repressor', 'objekt': 'rseA'}, {'subjekt': 'CpxR', 'predikat': 'repressor', 'objekt': 'rseC'}, {'subjekt': 'CpxR', 'predikat': 'repressor', 'objekt': 'rseD'}, {'subjekt': 'CpxR', 'predikat': 'repressor', 'objekt': 'rpoE'}, {'subjekt': 'CpxR', 'predikat': 'activator', 'objekt': 'ppiA'}, {'subjekt': 'CpxR', 'predikat': 'repressor', 'objekt': 'ung'}, {'subjekt': 'CpxR', 'predikat': 'activator', 'objekt': 'ppiD'}, {'subjekt': 'CpxR', 'predikat': 'activator', 'objekt': 'lpxD'}, {'subjekt': 'CpxR', 'predikat': 'activator', 'objekt': 'skp'}, {'subjekt': 'CpxR', 'predikat': 'activator', 'objekt': 'lpxA'}, {'subjekt': 'CpxR', 'predikat': 'activator', 'objekt': 'fabZ'}, {'subjekt': 'CpxR', 'predikat': 'repressor', 'objekt': 'bamE'}, {'subjekt': 'CpxR', 'predikat': 'repressor', 'objekt': 'psd'}, {'subjekt': 'CpxR', 'predikat': 'repressor', 'objekt': 'mscM'}, {'subjekt': 'CpxR', 'predikat': 'activator', 'objekt': 'bacA'}, {'subjekt': 'CpxR', 'predikat': 'repressor', 'objekt': 'motA'}, {'subjekt': 'CpxR', 'predikat': 'repressor', 'objekt': 'cheA'}, {'subjekt': 'CpxR', 'predikat': 'repressor', 'objekt': 'motR'}, {'subjekt': 'CpxR', 'predikat': 'repressor', 'objekt': 'motB'}, {'subjekt': 'CpxR', 'predikat': 'repressor', 'objekt': 'cheW'}, {'subjekt': 'CpxR', 'predikat': 'activator', 'objekt': 'cpxP'}, {'subjekt': 'CpxR', 'predikat': 'activator', 'objekt': 'cpxQ'}, {'subjekt': 'CpxR', 'predikat': 'activator', 'objekt': 'srkA'}, {'subjekt': 'CpxR', 'predikat': 'activator', 'objekt': 'dsbA'}, {'subjekt': 'CpxR', 'predikat': 'activator', 'objekt': 'spy'}, {'subjekt': 'CpxR', 'predikat': 'repressor', 'objekt': 'tsr'}, {'subjekt': 'CpxR', 'predikat': 'activator', 'objekt': 'ettA'}]\n",
      "---------------------------\n",
      "216 286\n"
     ]
    },
    {
     "name": "stderr",
     "output_type": "stream",
     "text": [
      "C:\\Anaconda\\lib\\site-packages\\urllib3\\connectionpool.py:1061: InsecureRequestWarning: Unverified HTTPS request is being made to host 'regulondb.ccg.unam.mx'. Adding certificate verification is strongly advised. See: https://urllib3.readthedocs.io/en/1.26.x/advanced-usage.html#ssl-warnings\n",
      "  warnings.warn(\n"
     ]
    },
    {
     "name": "stdout",
     "output_type": "stream",
     "text": [
      "success:\n",
      "[{'subjekt': 'YqhC', 'predikat': 'activator', 'objekt': 'yqhD'}, {'subjekt': 'YqhC', 'predikat': 'activator', 'objekt': 'dkgA'}]\n",
      "---------------------------\n",
      "217 286\n"
     ]
    },
    {
     "name": "stderr",
     "output_type": "stream",
     "text": [
      "C:\\Anaconda\\lib\\site-packages\\urllib3\\connectionpool.py:1061: InsecureRequestWarning: Unverified HTTPS request is being made to host 'regulondb.ccg.unam.mx'. Adding certificate verification is strongly advised. See: https://urllib3.readthedocs.io/en/1.26.x/advanced-usage.html#ssl-warnings\n",
      "  warnings.warn(\n"
     ]
    },
    {
     "name": "stdout",
     "output_type": "stream",
     "text": [
      "success:\n",
      "[{'subjekt': 'PepA', 'predikat': 'repressor', 'objekt': 'pepA'}, {'subjekt': 'PepA', 'predikat': 'repressor', 'objekt': 'carB'}, {'subjekt': 'PepA', 'predikat': 'repressor', 'objekt': 'carA'}]\n",
      "---------------------------\n",
      "218 286\n"
     ]
    },
    {
     "name": "stderr",
     "output_type": "stream",
     "text": [
      "C:\\Anaconda\\lib\\site-packages\\urllib3\\connectionpool.py:1061: InsecureRequestWarning: Unverified HTTPS request is being made to host 'regulondb.ccg.unam.mx'. Adding certificate verification is strongly advised. See: https://urllib3.readthedocs.io/en/1.26.x/advanced-usage.html#ssl-warnings\n",
      "  warnings.warn(\n"
     ]
    },
    {
     "name": "stdout",
     "output_type": "stream",
     "text": [
      "success:\n",
      "[{'subjekt': 'DpiA', 'predikat': 'activator', 'objekt': 'dpiB'}, {'subjekt': 'DpiA', 'predikat': 'activator', 'objekt': 'dpiA'}, {'subjekt': 'DpiA', 'predikat': 'activator', 'objekt': 'citC'}, {'subjekt': 'DpiA', 'predikat': 'activator', 'objekt': 'citE'}, {'subjekt': 'DpiA', 'predikat': 'activator', 'objekt': 'citF'}, {'subjekt': 'DpiA', 'predikat': 'activator', 'objekt': 'citD'}, {'subjekt': 'DpiA', 'predikat': 'activator', 'objekt': 'citG'}, {'subjekt': 'DpiA', 'predikat': 'activator', 'objekt': 'citX'}, {'subjekt': 'DpiA', 'predikat': 'activator', 'objekt': 'mdh'}, {'subjekt': 'DpiA', 'predikat': 'activator', 'objekt': 'exuT'}, {'subjekt': 'DpiA', 'predikat': 'repressor', 'objekt': 'appY'}]\n",
      "---------------------------\n",
      "219 286\n"
     ]
    },
    {
     "name": "stderr",
     "output_type": "stream",
     "text": [
      "C:\\Anaconda\\lib\\site-packages\\urllib3\\connectionpool.py:1061: InsecureRequestWarning: Unverified HTTPS request is being made to host 'regulondb.ccg.unam.mx'. Adding certificate verification is strongly advised. See: https://urllib3.readthedocs.io/en/1.26.x/advanced-usage.html#ssl-warnings\n",
      "  warnings.warn(\n"
     ]
    },
    {
     "name": "stdout",
     "output_type": "stream",
     "text": [
      "success:\n",
      "[{'subjekt': 'NemR', 'predikat': 'repressor', 'objekt': 'gloA'}, {'subjekt': 'NemR', 'predikat': 'repressor', 'objekt': 'nemR'}, {'subjekt': 'NemR', 'predikat': 'repressor', 'objekt': 'nemA'}]\n",
      "---------------------------\n",
      "220 286\n"
     ]
    },
    {
     "name": "stderr",
     "output_type": "stream",
     "text": [
      "C:\\Anaconda\\lib\\site-packages\\urllib3\\connectionpool.py:1061: InsecureRequestWarning: Unverified HTTPS request is being made to host 'regulondb.ccg.unam.mx'. Adding certificate verification is strongly advised. See: https://urllib3.readthedocs.io/en/1.26.x/advanced-usage.html#ssl-warnings\n",
      "  warnings.warn(\n"
     ]
    },
    {
     "name": "stdout",
     "output_type": "stream",
     "text": [
      "success:\n",
      "[{'subjekt': 'MraZ', 'predikat': 'repressor', 'objekt': 'ddlB'}, {'subjekt': 'MraZ', 'predikat': 'repressor', 'objekt': 'mraY'}, {'subjekt': 'MraZ', 'predikat': 'repressor', 'objekt': 'murE'}, {'subjekt': 'MraZ', 'predikat': 'repressor', 'objekt': 'ftsQ'}, {'subjekt': 'MraZ', 'predikat': 'repressor', 'objekt': 'ftsZ'}, {'subjekt': 'MraZ', 'predikat': 'repressor', 'objekt': 'murG'}, {'subjekt': 'MraZ', 'predikat': 'repressor', 'objekt': 'rsmH'}, {'subjekt': 'MraZ', 'predikat': 'repressor', 'objekt': 'ftsL'}, {'subjekt': 'MraZ', 'predikat': 'repressor', 'objekt': 'ftsW'}, {'subjekt': 'MraZ', 'predikat': 'repressor', 'objekt': 'ftsA'}, {'subjekt': 'MraZ', 'predikat': 'repressor', 'objekt': 'mraZ'}, {'subjekt': 'MraZ', 'predikat': 'repressor', 'objekt': 'ftsI'}, {'subjekt': 'MraZ', 'predikat': 'repressor', 'objekt': 'lpxC'}, {'subjekt': 'MraZ', 'predikat': 'repressor', 'objekt': 'murD'}, {'subjekt': 'MraZ', 'predikat': 'repressor', 'objekt': 'murF'}, {'subjekt': 'MraZ', 'predikat': 'repressor', 'objekt': 'murC'}, {'subjekt': 'MraZ', 'predikat': 'repressor', 'objekt': 'ftsO'}, {'subjekt': 'MraZ', 'predikat': 'repressor', 'objekt': 'mioC'}]\n",
      "---------------------------\n",
      "221 286\n"
     ]
    },
    {
     "name": "stderr",
     "output_type": "stream",
     "text": [
      "C:\\Anaconda\\lib\\site-packages\\urllib3\\connectionpool.py:1061: InsecureRequestWarning: Unverified HTTPS request is being made to host 'regulondb.ccg.unam.mx'. Adding certificate verification is strongly advised. See: https://urllib3.readthedocs.io/en/1.26.x/advanced-usage.html#ssl-warnings\n",
      "  warnings.warn(\n"
     ]
    },
    {
     "name": "stdout",
     "output_type": "stream",
     "text": [
      "success:\n",
      "[{'subjekt': 'AdiY', 'predikat': 'activator', 'objekt': 'gadA'}, {'subjekt': 'AdiY', 'predikat': 'activator', 'objekt': 'gadX'}, {'subjekt': 'AdiY', 'predikat': 'activator', 'objekt': 'gadC'}, {'subjekt': 'AdiY', 'predikat': 'activator', 'objekt': 'gadB'}, {'subjekt': 'AdiY', 'predikat': 'activator', 'objekt': 'gltB'}, {'subjekt': 'AdiY', 'predikat': 'activator', 'objekt': 'gltD'}, {'subjekt': 'AdiY', 'predikat': 'activator', 'objekt': 'gltF'}, {'subjekt': 'AdiY', 'predikat': 'activator', 'objekt': 'adiA'}]\n",
      "---------------------------\n",
      "222 286\n"
     ]
    },
    {
     "name": "stderr",
     "output_type": "stream",
     "text": [
      "C:\\Anaconda\\lib\\site-packages\\urllib3\\connectionpool.py:1061: InsecureRequestWarning: Unverified HTTPS request is being made to host 'regulondb.ccg.unam.mx'. Adding certificate verification is strongly advised. See: https://urllib3.readthedocs.io/en/1.26.x/advanced-usage.html#ssl-warnings\n",
      "  warnings.warn(\n"
     ]
    },
    {
     "name": "stdout",
     "output_type": "stream",
     "text": [
      "success:\n",
      "[{'subjekt': 'GntR', 'predikat': 'repressor', 'objekt': 'gntU'}, {'subjekt': 'GntR', 'predikat': 'repressor', 'objekt': 'gntK'}, {'subjekt': 'GntR', 'predikat': 'repressor', 'objekt': 'gntT'}, {'subjekt': 'GntR', 'predikat': 'repressor', 'objekt': 'eda'}, {'subjekt': 'GntR', 'predikat': 'repressor', 'objekt': 'edd'}, {'subjekt': 'GntR', 'predikat': 'repressor', 'objekt': 'yhgH'}, {'subjekt': 'GntR', 'predikat': 'repressor', 'objekt': 'nfuA'}, {'subjekt': 'GntR', 'predikat': 'repressor', 'objekt': 'idnK'}, {'subjekt': 'GntR', 'predikat': 'repressor', 'objekt': 'idnO'}, {'subjekt': 'GntR', 'predikat': 'repressor', 'objekt': 'idnD'}, {'subjekt': 'GntR', 'predikat': 'repressor', 'objekt': 'idnR'}, {'subjekt': 'GntR', 'predikat': 'repressor', 'objekt': 'idnT'}]\n",
      "---------------------------\n",
      "223 286\n"
     ]
    },
    {
     "name": "stderr",
     "output_type": "stream",
     "text": [
      "C:\\Anaconda\\lib\\site-packages\\urllib3\\connectionpool.py:1061: InsecureRequestWarning: Unverified HTTPS request is being made to host 'regulondb.ccg.unam.mx'. Adding certificate verification is strongly advised. See: https://urllib3.readthedocs.io/en/1.26.x/advanced-usage.html#ssl-warnings\n",
      "  warnings.warn(\n"
     ]
    },
    {
     "name": "stdout",
     "output_type": "stream",
     "text": [
      "success:\n",
      "[{'subjekt': 'MazEF', 'predikat': 'repressor', 'objekt': 'mazE'}, {'subjekt': 'MazEF', 'predikat': 'repressor', 'objekt': 'mazG'}, {'subjekt': 'MazEF', 'predikat': 'repressor', 'objekt': 'mazF'}]\n",
      "---------------------------\n",
      "224 286\n"
     ]
    },
    {
     "name": "stderr",
     "output_type": "stream",
     "text": [
      "C:\\Anaconda\\lib\\site-packages\\urllib3\\connectionpool.py:1061: InsecureRequestWarning: Unverified HTTPS request is being made to host 'regulondb.ccg.unam.mx'. Adding certificate verification is strongly advised. See: https://urllib3.readthedocs.io/en/1.26.x/advanced-usage.html#ssl-warnings\n",
      "  warnings.warn(\n"
     ]
    },
    {
     "name": "stdout",
     "output_type": "stream",
     "text": [
      "success:\n",
      "[{'subjekt': 'PdeL', 'predikat': 'activator', 'objekt': 'pdeL'}, {'subjekt': 'PdeL', 'predikat': 'activator', 'objekt': 'yghJ'}, {'subjekt': 'PdeL', 'predikat': 'repressor', 'objekt': 'fliI'}, {'subjekt': 'PdeL', 'predikat': 'repressor', 'objekt': 'fliF'}, {'subjekt': 'PdeL', 'predikat': 'repressor', 'objekt': 'fliK'}, {'subjekt': 'PdeL', 'predikat': 'repressor', 'objekt': 'fliH'}, {'subjekt': 'PdeL', 'predikat': 'repressor', 'objekt': 'fliJ'}, {'subjekt': 'PdeL', 'predikat': 'repressor', 'objekt': 'fliG'}, {'subjekt': 'PdeL', 'predikat': 'repressor', 'objekt': 'rfe'}]\n",
      "---------------------------\n",
      "225 286\n"
     ]
    },
    {
     "name": "stderr",
     "output_type": "stream",
     "text": [
      "C:\\Anaconda\\lib\\site-packages\\urllib3\\connectionpool.py:1061: InsecureRequestWarning: Unverified HTTPS request is being made to host 'regulondb.ccg.unam.mx'. Adding certificate verification is strongly advised. See: https://urllib3.readthedocs.io/en/1.26.x/advanced-usage.html#ssl-warnings\n",
      "  warnings.warn(\n"
     ]
    },
    {
     "name": "stdout",
     "output_type": "stream",
     "text": [
      "success:\n",
      "[{'subjekt': 'AscG', 'predikat': 'repressor', 'objekt': 'ascB'}, {'subjekt': 'AscG', 'predikat': 'repressor', 'objekt': 'ascF'}, {'subjekt': 'AscG', 'predikat': 'repressor', 'objekt': 'prpR'}, {'subjekt': 'AscG', 'predikat': 'repressor', 'objekt': 'ybiT'}, {'subjekt': 'AscG', 'predikat': 'repressor', 'objekt': 'htpG'}]\n",
      "---------------------------\n",
      "226 286\n"
     ]
    },
    {
     "name": "stderr",
     "output_type": "stream",
     "text": [
      "C:\\Anaconda\\lib\\site-packages\\urllib3\\connectionpool.py:1061: InsecureRequestWarning: Unverified HTTPS request is being made to host 'regulondb.ccg.unam.mx'. Adding certificate verification is strongly advised. See: https://urllib3.readthedocs.io/en/1.26.x/advanced-usage.html#ssl-warnings\n",
      "  warnings.warn(\n"
     ]
    },
    {
     "name": "stdout",
     "output_type": "stream",
     "text": [
      "success:\n",
      "[{'subjekt': 'EvgA', 'predikat': 'activator', 'objekt': 'yegR'}, {'subjekt': 'EvgA', 'predikat': 'activator', 'objekt': 'yegZ'}, {'subjekt': 'EvgA', 'predikat': 'activator', 'objekt': 'oxc'}, {'subjekt': 'EvgA', 'predikat': 'activator', 'objekt': 'yfdV'}, {'subjekt': 'EvgA', 'predikat': 'activator', 'objekt': 'frc'}, {'subjekt': 'EvgA', 'predikat': 'activator', 'objekt': 'yfdE'}, {'subjekt': 'EvgA', 'predikat': 'activator', 'objekt': 'yfdX'}, {'subjekt': 'EvgA', 'predikat': 'activator', 'objekt': 'acrD'}, {'subjekt': 'EvgA', 'predikat': 'activator', 'objekt': 'evgS'}, {'subjekt': 'EvgA', 'predikat': 'activator', 'objekt': 'evgA'}, {'subjekt': 'EvgA', 'predikat': 'activator', 'objekt': 'evgL'}, {'subjekt': 'EvgA', 'predikat': 'activator', 'objekt': 'gadE'}, {'subjekt': 'EvgA', 'predikat': 'activator', 'objekt': 'mdtE'}, {'subjekt': 'EvgA', 'predikat': 'activator', 'objekt': 'gadF'}, {'subjekt': 'EvgA', 'predikat': 'activator', 'objekt': 'mdtF'}, {'subjekt': 'EvgA', 'predikat': 'activator', 'objekt': 'emrY'}, {'subjekt': 'EvgA', 'predikat': 'activator', 'objekt': 'emrK'}, {'subjekt': 'EvgA', 'predikat': 'activator', 'objekt': 'safA'}, {'subjekt': 'EvgA', 'predikat': 'activator', 'objekt': 'ydeO'}, {'subjekt': 'EvgA', 'predikat': 'activator', 'objekt': 'ydeP'}]\n",
      "---------------------------\n",
      "227 286\n"
     ]
    },
    {
     "name": "stderr",
     "output_type": "stream",
     "text": [
      "C:\\Anaconda\\lib\\site-packages\\urllib3\\connectionpool.py:1061: InsecureRequestWarning: Unverified HTTPS request is being made to host 'regulondb.ccg.unam.mx'. Adding certificate verification is strongly advised. See: https://urllib3.readthedocs.io/en/1.26.x/advanced-usage.html#ssl-warnings\n",
      "  warnings.warn(\n"
     ]
    },
    {
     "name": "stdout",
     "output_type": "stream",
     "text": [
      "success:\n",
      "[{'subjekt': 'BaeR', 'predikat': 'activator', 'objekt': 'ycaC'}, {'subjekt': 'BaeR', 'predikat': 'activator', 'objekt': 'acrD'}, {'subjekt': 'BaeR', 'predikat': 'activator', 'objekt': 'mdtD'}, {'subjekt': 'BaeR', 'predikat': 'activator', 'objekt': 'mdtA'}, {'subjekt': 'BaeR', 'predikat': 'activator', 'objekt': 'mdtB'}, {'subjekt': 'BaeR', 'predikat': 'activator', 'objekt': 'baeR'}, {'subjekt': 'BaeR', 'predikat': 'activator', 'objekt': 'baeS'}, {'subjekt': 'BaeR', 'predikat': 'activator', 'objekt': 'mdtC'}, {'subjekt': 'BaeR', 'predikat': 'activator', 'objekt': 'spy'}]\n",
      "---------------------------\n",
      "228 286\n"
     ]
    },
    {
     "name": "stderr",
     "output_type": "stream",
     "text": [
      "C:\\Anaconda\\lib\\site-packages\\urllib3\\connectionpool.py:1061: InsecureRequestWarning: Unverified HTTPS request is being made to host 'regulondb.ccg.unam.mx'. Adding certificate verification is strongly advised. See: https://urllib3.readthedocs.io/en/1.26.x/advanced-usage.html#ssl-warnings\n",
      "  warnings.warn(\n"
     ]
    },
    {
     "name": "stdout",
     "output_type": "stream",
     "text": [
      "success:\n",
      "[{'subjekt': 'MalI', 'predikat': 'repressor', 'objekt': 'malI'}, {'subjekt': 'MalI', 'predikat': 'repressor', 'objekt': 'malY'}, {'subjekt': 'MalI', 'predikat': 'repressor', 'objekt': 'malX'}]\n",
      "---------------------------\n",
      "229 286\n"
     ]
    },
    {
     "name": "stderr",
     "output_type": "stream",
     "text": [
      "C:\\Anaconda\\lib\\site-packages\\urllib3\\connectionpool.py:1061: InsecureRequestWarning: Unverified HTTPS request is being made to host 'regulondb.ccg.unam.mx'. Adding certificate verification is strongly advised. See: https://urllib3.readthedocs.io/en/1.26.x/advanced-usage.html#ssl-warnings\n",
      "  warnings.warn(\n"
     ]
    },
    {
     "name": "stdout",
     "output_type": "stream",
     "text": [
      "success:\n",
      "[{'subjekt': 'AllR', 'predikat': 'repressor', 'objekt': 'allA'}, {'subjekt': 'AllR', 'predikat': 'repressor', 'objekt': 'allS'}, {'subjekt': 'AllR', 'predikat': 'repressor', 'objekt': 'ybbY'}, {'subjekt': 'AllR', 'predikat': 'repressor', 'objekt': 'glxR'}, {'subjekt': 'AllR', 'predikat': 'repressor', 'objekt': 'hyi'}, {'subjekt': 'AllR', 'predikat': 'repressor', 'objekt': 'gcl'}, {'subjekt': 'AllR', 'predikat': 'repressor', 'objekt': 'glxK'}, {'subjekt': 'AllR', 'predikat': 'repressor', 'objekt': 'allB'}, {'subjekt': 'AllR', 'predikat': 'repressor', 'objekt': 'allW'}]\n",
      "---------------------------\n",
      "230 286\n"
     ]
    },
    {
     "name": "stderr",
     "output_type": "stream",
     "text": [
      "C:\\Anaconda\\lib\\site-packages\\urllib3\\connectionpool.py:1061: InsecureRequestWarning: Unverified HTTPS request is being made to host 'regulondb.ccg.unam.mx'. Adding certificate verification is strongly advised. See: https://urllib3.readthedocs.io/en/1.26.x/advanced-usage.html#ssl-warnings\n",
      "  warnings.warn(\n"
     ]
    },
    {
     "name": "stdout",
     "output_type": "stream",
     "text": [
      "success:\n",
      "[{'subjekt': 'YhaJ', 'predikat': 'activator', 'objekt': 'yhaK'}, {'subjekt': 'YhaJ', 'predikat': 'activator', 'objekt': 'yhaL'}, {'subjekt': 'YhaJ', 'predikat': 'activator', 'objekt': 'bssS'}, {'subjekt': 'YhaJ', 'predikat': 'activator', 'objekt': 'ybiJ'}, {'subjekt': 'YhaJ', 'predikat': 'activator', 'objekt': 'yhhW'}, {'subjekt': 'YhaJ', 'predikat': 'activator', 'objekt': 'yqjF'}, {'subjekt': 'YhaJ', 'predikat': 'activator', 'objekt': 'ygiD'}, {'subjekt': 'YhaJ', 'predikat': 'activator', 'objekt': 'yhaJ'}]\n",
      "---------------------------\n",
      "231 286\n"
     ]
    },
    {
     "name": "stderr",
     "output_type": "stream",
     "text": [
      "C:\\Anaconda\\lib\\site-packages\\urllib3\\connectionpool.py:1061: InsecureRequestWarning: Unverified HTTPS request is being made to host 'regulondb.ccg.unam.mx'. Adding certificate verification is strongly advised. See: https://urllib3.readthedocs.io/en/1.26.x/advanced-usage.html#ssl-warnings\n",
      "  warnings.warn(\n",
      "C:\\Anaconda\\lib\\site-packages\\urllib3\\connectionpool.py:1061: InsecureRequestWarning: Unverified HTTPS request is being made to host 'regulondb.ccg.unam.mx'. Adding certificate verification is strongly advised. See: https://urllib3.readthedocs.io/en/1.26.x/advanced-usage.html#ssl-warnings\n",
      "  warnings.warn(\n"
     ]
    },
    {
     "name": "stdout",
     "output_type": "stream",
     "text": [
      "success:\n",
      "[{'subjekt': 'AlsR', 'predikat': 'repressor', 'objekt': 'rpiB'}, {'subjekt': 'AlsR', 'predikat': 'repressor', 'objekt': 'alsA'}, {'subjekt': 'AlsR', 'predikat': 'repressor', 'objekt': 'alsR'}, {'subjekt': 'AlsR', 'predikat': 'repressor', 'objekt': 'alsE'}, {'subjekt': 'AlsR', 'predikat': 'repressor', 'objekt': 'alsB'}, {'subjekt': 'AlsR', 'predikat': 'repressor', 'objekt': 'alsC'}]\n",
      "---------------------------\n",
      "232 286\n"
     ]
    },
    {
     "name": "stderr",
     "output_type": "stream",
     "text": [
      "C:\\Anaconda\\lib\\site-packages\\urllib3\\connectionpool.py:1061: InsecureRequestWarning: Unverified HTTPS request is being made to host 'regulondb.ccg.unam.mx'. Adding certificate verification is strongly advised. See: https://urllib3.readthedocs.io/en/1.26.x/advanced-usage.html#ssl-warnings\n",
      "  warnings.warn(\n"
     ]
    },
    {
     "name": "stdout",
     "output_type": "stream",
     "text": [
      "success:\n",
      "[{'subjekt': 'GadX', 'predikat': 'dual', 'objekt': 'yhiD'}, {'subjekt': 'GadX', 'predikat': 'dual', 'objekt': 'hdeA'}, {'subjekt': 'GadX', 'predikat': 'dual', 'objekt': 'hdeB'}, {'subjekt': 'GadX', 'predikat': 'activator', 'objekt': 'gadE'}, {'subjekt': 'GadX', 'predikat': 'activator', 'objekt': 'gadF'}, {'subjekt': 'GadX', 'predikat': 'activator', 'objekt': 'uspE'}, {'subjekt': 'GadX', 'predikat': 'activator', 'objekt': 'gadC'}, {'subjekt': 'GadX', 'predikat': 'activator', 'objekt': 'gadB'}, {'subjekt': 'GadX', 'predikat': 'activator', 'objekt': 'dctR'}, {'subjekt': 'GadX', 'predikat': 'activator', 'objekt': 'slp'}, {'subjekt': 'GadX', 'predikat': 'activator', 'objekt': 'mdtE'}, {'subjekt': 'GadX', 'predikat': 'activator', 'objekt': 'mdtF'}, {'subjekt': 'GadX', 'predikat': 'activator', 'objekt': 'gadY'}, {'subjekt': 'GadX', 'predikat': 'activator', 'objekt': 'gadA'}, {'subjekt': 'GadX', 'predikat': 'activator', 'objekt': 'gadX'}, {'subjekt': 'GadX', 'predikat': 'dual', 'objekt': 'gadW'}, {'subjekt': 'GadX', 'predikat': 'repressor', 'objekt': 'btuB'}, {'subjekt': 'GadX', 'predikat': 'repressor', 'objekt': 'murI'}, {'subjekt': 'GadX', 'predikat': 'activator', 'objekt': 'hdeD'}, {'subjekt': 'GadX', 'predikat': 'repressor', 'objekt': 'ydeN'}, {'subjekt': 'GadX', 'predikat': 'repressor', 'objekt': 'ydeM'}, {'subjekt': 'GadX', 'predikat': 'repressor', 'objekt': 'ynfB'}, {'subjekt': 'GadX', 'predikat': 'repressor', 'objekt': 'speG'}, {'subjekt': 'GadX', 'predikat': 'repressor', 'objekt': 'dtpA'}, {'subjekt': 'GadX', 'predikat': 'activator', 'objekt': 'lon'}, {'subjekt': 'GadX', 'predikat': 'activator', 'objekt': 'glnK'}, {'subjekt': 'GadX', 'predikat': 'activator', 'objekt': 'amtB'}, {'subjekt': 'GadX', 'predikat': 'activator', 'objekt': 'rpoS'}, {'subjekt': 'GadX', 'predikat': 'activator', 'objekt': 'hns'}, {'subjekt': 'GadX', 'predikat': 'activator', 'objekt': 'cadA'}, {'subjekt': 'GadX', 'predikat': 'activator', 'objekt': 'cadB'}, {'subjekt': 'GadX', 'predikat': 'activator', 'objekt': 'asnB'}, {'subjekt': 'GadX', 'predikat': 'activator', 'objekt': 'glsA'}, {'subjekt': 'GadX', 'predikat': 'activator', 'objekt': 'ybaT'}]\n",
      "---------------------------\n",
      "233 286\n"
     ]
    },
    {
     "name": "stderr",
     "output_type": "stream",
     "text": [
      "C:\\Anaconda\\lib\\site-packages\\urllib3\\connectionpool.py:1061: InsecureRequestWarning: Unverified HTTPS request is being made to host 'regulondb.ccg.unam.mx'. Adding certificate verification is strongly advised. See: https://urllib3.readthedocs.io/en/1.26.x/advanced-usage.html#ssl-warnings\n",
      "  warnings.warn(\n"
     ]
    },
    {
     "name": "stdout",
     "output_type": "stream",
     "text": [
      "success:\n",
      "[{'subjekt': 'UlaR', 'predikat': 'repressor', 'objekt': 'ulaA'}, {'subjekt': 'UlaR', 'predikat': 'repressor', 'objekt': 'ulaF'}, {'subjekt': 'UlaR', 'predikat': 'repressor', 'objekt': 'ulaD'}, {'subjekt': 'UlaR', 'predikat': 'repressor', 'objekt': 'ulaC'}, {'subjekt': 'UlaR', 'predikat': 'repressor', 'objekt': 'ulaB'}, {'subjekt': 'UlaR', 'predikat': 'repressor', 'objekt': 'ulaE'}, {'subjekt': 'UlaR', 'predikat': 'repressor', 'objekt': 'ulaG'}]\n",
      "---------------------------\n",
      "234 286\n"
     ]
    },
    {
     "name": "stderr",
     "output_type": "stream",
     "text": [
      "C:\\Anaconda\\lib\\site-packages\\urllib3\\connectionpool.py:1061: InsecureRequestWarning: Unverified HTTPS request is being made to host 'regulondb.ccg.unam.mx'. Adding certificate verification is strongly advised. See: https://urllib3.readthedocs.io/en/1.26.x/advanced-usage.html#ssl-warnings\n",
      "  warnings.warn(\n"
     ]
    },
    {
     "name": "stdout",
     "output_type": "stream",
     "text": [
      "success:\n",
      "[{'subjekt': 'CRP', 'predikat': 'dual', 'objekt': 'malI'}, {'subjekt': 'CRP', 'predikat': 'activator', 'objekt': 'exuT'}, {'subjekt': 'CRP', 'predikat': 'activator', 'objekt': 'ppdD'}, {'subjekt': 'CRP', 'predikat': 'activator', 'objekt': 'hofB'}, {'subjekt': 'CRP', 'predikat': 'activator', 'objekt': 'hofC'}, {'subjekt': 'CRP', 'predikat': 'activator', 'objekt': 'hofM'}, {'subjekt': 'CRP', 'predikat': 'activator', 'objekt': 'hofN'}, {'subjekt': 'CRP', 'predikat': 'activator', 'objekt': 'hofP'}, {'subjekt': 'CRP', 'predikat': 'activator', 'objekt': 'hofO'}, {'subjekt': 'CRP', 'predikat': 'activator', 'objekt': 'ascB'}, {'subjekt': 'CRP', 'predikat': 'activator', 'objekt': 'ascF'}, {'subjekt': 'CRP', 'predikat': 'dual', 'objekt': 'udp'}, {'subjekt': 'CRP', 'predikat': 'activator', 'objekt': 'trg'}, {'subjekt': 'CRP', 'predikat': 'repressor', 'objekt': 'azuC'}, {'subjekt': 'CRP', 'predikat': 'repressor', 'objekt': 'azuR'}, {'subjekt': 'CRP', 'predikat': 'activator', 'objekt': 'ykgR'}, {'subjekt': 'CRP', 'predikat': 'activator', 'objekt': 'lsrA'}, {'subjekt': 'CRP', 'predikat': 'activator', 'objekt': 'lsrD'}, {'subjekt': 'CRP', 'predikat': 'activator', 'objekt': 'lsrB'}, {'subjekt': 'CRP', 'predikat': 'activator', 'objekt': 'lsrF'}, {'subjekt': 'CRP', 'predikat': 'activator', 'objekt': 'tam'}, {'subjekt': 'CRP', 'predikat': 'activator', 'objekt': 'lsrC'}, {'subjekt': 'CRP', 'predikat': 'activator', 'objekt': 'lsrG'}, {'subjekt': 'CRP', 'predikat': 'activator', 'objekt': 'lsrK'}, {'subjekt': 'CRP', 'predikat': 'activator', 'objekt': 'lsrR'}, {'subjekt': 'CRP', 'predikat': 'activator', 'objekt': 'fadH'}, {'subjekt': 'CRP', 'predikat': 'activator', 'objekt': 'uxaB'}, {'subjekt': 'CRP', 'predikat': 'activator', 'objekt': 'lacI'}, {'subjekt': 'CRP', 'predikat': 'activator', 'objekt': 'mhpR'}, {'subjekt': 'CRP', 'predikat': 'activator', 'objekt': 'nadC'}, {'subjekt': 'CRP', 'predikat': 'repressor', 'objekt': 'arfB'}, {'subjekt': 'CRP', 'predikat': 'repressor', 'objekt': 'yaeQ'}, {'subjekt': 'CRP', 'predikat': 'repressor', 'objekt': 'nlpE'}, {'subjekt': 'CRP', 'predikat': 'repressor', 'objekt': 'comR'}, {'subjekt': 'CRP', 'predikat': 'activator', 'objekt': 'yeiP'}, {'subjekt': 'CRP', 'predikat': 'activator', 'objekt': 'aaeX'}, {'subjekt': 'CRP', 'predikat': 'activator', 'objekt': 'aaeB'}, {'subjekt': 'CRP', 'predikat': 'activator', 'objekt': 'aaeA'}, {'subjekt': 'CRP', 'predikat': 'repressor', 'objekt': 'aaeR'}, {'subjekt': 'CRP', 'predikat': 'dual', 'objekt': 'ldtB'}, {'subjekt': 'CRP', 'predikat': 'activator', 'objekt': 'yeiW'}, {'subjekt': 'CRP', 'predikat': 'repressor', 'objekt': 'rof'}, {'subjekt': 'CRP', 'predikat': 'repressor', 'objekt': 'yaeP'}, {'subjekt': 'CRP', 'predikat': 'dual', 'objekt': 'ybiT'}, {'subjekt': 'CRP', 'predikat': 'repressor', 'objekt': 'bhsA'}, {'subjekt': 'CRP', 'predikat': 'repressor', 'objekt': 'ampE'}, {'subjekt': 'CRP', 'predikat': 'repressor', 'objekt': 'ampD'}, {'subjekt': 'CRP', 'predikat': 'repressor', 'objekt': 'narQ'}, {'subjekt': 'CRP', 'predikat': 'repressor', 'objekt': 'aegA'}, {'subjekt': 'CRP', 'predikat': 'repressor', 'objekt': 'hflC'}, {'subjekt': 'CRP', 'predikat': 'repressor', 'objekt': 'hflX'}, {'subjekt': 'CRP', 'predikat': 'repressor', 'objekt': 'hflK'}, {'subjekt': 'CRP', 'predikat': 'repressor', 'objekt': 'hfq'}, {'subjekt': 'CRP', 'predikat': 'activator', 'objekt': 'cspE'}, {'subjekt': 'CRP', 'predikat': 'activator', 'objekt': 'patZ'}, {'subjekt': 'CRP', 'predikat': 'repressor', 'objekt': 'dpiB'}, {'subjekt': 'CRP', 'predikat': 'repressor', 'objekt': 'dpiA'}, {'subjekt': 'CRP', 'predikat': 'repressor', 'objekt': 'citC'}, {'subjekt': 'CRP', 'predikat': 'repressor', 'objekt': 'citE'}, {'subjekt': 'CRP', 'predikat': 'repressor', 'objekt': 'citF'}, {'subjekt': 'CRP', 'predikat': 'repressor', 'objekt': 'citD'}, {'subjekt': 'CRP', 'predikat': 'repressor', 'objekt': 'citG'}, {'subjekt': 'CRP', 'predikat': 'repressor', 'objekt': 'citX'}, {'subjekt': 'CRP', 'predikat': 'activator', 'objekt': 'gcvT'}, {'subjekt': 'CRP', 'predikat': 'activator', 'objekt': 'gcvH'}, {'subjekt': 'CRP', 'predikat': 'activator', 'objekt': 'gcvP'}, {'subjekt': 'CRP', 'predikat': 'activator', 'objekt': 'mcaS'}, {'subjekt': 'CRP', 'predikat': 'activator', 'objekt': 'btsT'}, {'subjekt': 'CRP', 'predikat': 'activator', 'objekt': 'fumA'}, {'subjekt': 'CRP', 'predikat': 'dual', 'objekt': 'fumC'}, {'subjekt': 'CRP', 'predikat': 'dual', 'objekt': 'manA'}, {'subjekt': 'CRP', 'predikat': 'dual', 'objekt': 'ycdZ'}, {'subjekt': 'CRP', 'predikat': 'repressor', 'objekt': 'puuC'}, {'subjekt': 'CRP', 'predikat': 'repressor', 'objekt': 'puuD'}, {'subjekt': 'CRP', 'predikat': 'repressor', 'objekt': 'puuB'}, {'subjekt': 'CRP', 'predikat': 'repressor', 'objekt': 'puuE'}, {'subjekt': 'CRP', 'predikat': 'repressor', 'objekt': 'puuR'}, {'subjekt': 'CRP', 'predikat': 'activator', 'objekt': 'rmf'}, {'subjekt': 'CRP', 'predikat': 'activator', 'objekt': 'raiA'}, {'subjekt': 'CRP', 'predikat': 'activator', 'objekt': 'raiZ'}, {'subjekt': 'CRP', 'predikat': 'repressor', 'objekt': 'rpsI'}, {'subjekt': 'CRP', 'predikat': 'repressor', 'objekt': 'rplM'}, {'subjekt': 'CRP', 'predikat': 'activator', 'objekt': 'rplI'}, {'subjekt': 'CRP', 'predikat': 'activator', 'objekt': 'rpsF'}, {'subjekt': 'CRP', 'predikat': 'activator', 'objekt': 'priB'}, {'subjekt': 'CRP', 'predikat': 'activator', 'objekt': 'rpsR'}, {'subjekt': 'CRP', 'predikat': 'activator', 'objekt': 'feaB'}, {'subjekt': 'CRP', 'predikat': 'activator', 'objekt': 'cspD'}, {'subjekt': 'CRP', 'predikat': 'activator', 'objekt': 'bglG'}, {'subjekt': 'CRP', 'predikat': 'repressor', 'objekt': 'casD'}, {'subjekt': 'CRP', 'predikat': 'repressor', 'objekt': 'casB'}, {'subjekt': 'CRP', 'predikat': 'repressor', 'objekt': 'cas2'}, {'subjekt': 'CRP', 'predikat': 'repressor', 'objekt': 'casC'}, {'subjekt': 'CRP', 'predikat': 'repressor', 'objekt': 'casA'}, {'subjekt': 'CRP', 'predikat': 'repressor', 'objekt': 'cas1'}, {'subjekt': 'CRP', 'predikat': 'repressor', 'objekt': 'casE'}, {'subjekt': 'CRP', 'predikat': 'activator', 'objekt': 'chiZ'}, {'subjekt': 'CRP', 'predikat': 'activator', 'objekt': 'chiQ'}, {'subjekt': 'CRP', 'predikat': 'activator', 'objekt': 'chiP'}, {'subjekt': 'CRP', 'predikat': 'dual', 'objekt': 'pck'}, {'subjekt': 'CRP', 'predikat': 'activator', 'objekt': 'secB'}, {'subjekt': 'CRP', 'predikat': 'activator', 'objekt': 'gpsA'}, {'subjekt': 'CRP', 'predikat': 'repressor', 'objekt': 'ompW'}, {'subjekt': 'CRP', 'predikat': 'repressor', 'objekt': 'csrC'}, {'subjekt': 'CRP', 'predikat': 'activator', 'objekt': 'rseB'}, {'subjekt': 'CRP', 'predikat': 'activator', 'objekt': 'rseA'}, {'subjekt': 'CRP', 'predikat': 'activator', 'objekt': 'rseC'}, {'subjekt': 'CRP', 'predikat': 'activator', 'objekt': 'rseD'}, {'subjekt': 'CRP', 'predikat': 'activator', 'objekt': 'rpoE'}, {'subjekt': 'CRP', 'predikat': 'repressor', 'objekt': 'exuR'}, {'subjekt': 'CRP', 'predikat': 'activator', 'objekt': 'lgoR'}, {'subjekt': 'CRP', 'predikat': 'activator', 'objekt': 'lgoD'}, {'subjekt': 'CRP', 'predikat': 'dual', 'objekt': 'csqR'}, {'subjekt': 'CRP', 'predikat': 'activator', 'objekt': 'xylE'}, {'subjekt': 'CRP', 'predikat': 'activator', 'objekt': 'dgoK'}, {'subjekt': 'CRP', 'predikat': 'activator', 'objekt': 'dgoR'}, {'subjekt': 'CRP', 'predikat': 'activator', 'objekt': 'dgoT'}, {'subjekt': 'CRP', 'predikat': 'activator', 'objekt': 'dgoD'}, {'subjekt': 'CRP', 'predikat': 'activator', 'objekt': 'dgoA'}, {'subjekt': 'CRP', 'predikat': 'activator', 'objekt': 'rspB'}, {'subjekt': 'CRP', 'predikat': 'activator', 'objekt': 'rspA'}, {'subjekt': 'CRP', 'predikat': 'activator', 'objekt': 'yqeF'}, {'subjekt': 'CRP', 'predikat': 'activator', 'objekt': 'yahN'}, {'subjekt': 'CRP', 'predikat': 'activator', 'objekt': 'psuK'}, {'subjekt': 'CRP', 'predikat': 'activator', 'objekt': 'psuG'}, {'subjekt': 'CRP', 'predikat': 'activator', 'objekt': 'rihA'}, {'subjekt': 'CRP', 'predikat': 'activator', 'objekt': 'mokB'}, {'subjekt': 'CRP', 'predikat': 'activator', 'objekt': 'ygeW'}, {'subjekt': 'CRP', 'predikat': 'activator', 'objekt': 'ygcW'}, {'subjekt': 'CRP', 'predikat': 'repressor', 'objekt': 'ortT'}, {'subjekt': 'CRP', 'predikat': 'activator', 'objekt': 'sgcC'}, {'subjekt': 'CRP', 'predikat': 'activator', 'objekt': 'sgcE'}, {'subjekt': 'CRP', 'predikat': 'activator', 'objekt': 'sgcQ'}, {'subjekt': 'CRP', 'predikat': 'activator', 'objekt': 'sgcR'}, {'subjekt': 'CRP', 'predikat': 'activator', 'objekt': 'sgcB'}, {'subjekt': 'CRP', 'predikat': 'activator', 'objekt': 'sgcX'}, {'subjekt': 'CRP', 'predikat': 'activator', 'objekt': 'sgcA'}, {'subjekt': 'CRP', 'predikat': 'activator', 'objekt': 'abgR'}, {'subjekt': 'CRP', 'predikat': 'activator', 'objekt': 'hicA'}, {'subjekt': 'CRP', 'predikat': 'activator', 'objekt': 'hicB'}, {'subjekt': 'CRP', 'predikat': 'activator', 'objekt': 'yjhG'}, {'subjekt': 'CRP', 'predikat': 'activator', 'objekt': 'yjhH'}, {'subjekt': 'CRP', 'predikat': 'activator', 'objekt': 'yjhI'}, {'subjekt': 'CRP', 'predikat': 'activator', 'objekt': 'cas3'}, {'subjekt': 'CRP', 'predikat': 'dual', 'objekt': 'galK'}, {'subjekt': 'CRP', 'predikat': 'dual', 'objekt': 'galE'}, {'subjekt': 'CRP', 'predikat': 'dual', 'objekt': 'galM'}, {'subjekt': 'CRP', 'predikat': 'dual', 'objekt': 'galT'}, {'subjekt': 'CRP', 'predikat': 'repressor', 'objekt': 'gltB'}, {'subjekt': 'CRP', 'predikat': 'repressor', 'objekt': 'gltD'}, {'subjekt': 'CRP', 'predikat': 'repressor', 'objekt': 'gltF'}, {'subjekt': 'CRP', 'predikat': 'activator', 'objekt': 'araF'}, {'subjekt': 'CRP', 'predikat': 'activator', 'objekt': 'araH'}, {'subjekt': 'CRP', 'predikat': 'activator', 'objekt': 'araG'}, {'subjekt': 'CRP', 'predikat': 'activator', 'objekt': 'cyaR'}, {'subjekt': 'CRP', 'predikat': 'repressor', 'objekt': 'metK'}, {'subjekt': 'CRP', 'predikat': 'activator', 'objekt': 'bidA'}, {'subjekt': 'CRP', 'predikat': 'dual', 'objekt': 'mlc'}, {'subjekt': 'CRP', 'predikat': 'activator', 'objekt': 'csiE'}, {'subjekt': 'CRP', 'predikat': 'activator', 'objekt': 'rhaR'}, {'subjekt': 'CRP', 'predikat': 'activator', 'objekt': 'rhaS'}, {'subjekt': 'CRP', 'predikat': 'activator', 'objekt': 'murQ'}, {'subjekt': 'CRP', 'predikat': 'activator', 'objekt': 'murP'}, {'subjekt': 'CRP', 'predikat': 'activator', 'objekt': 'mpl'}, {'subjekt': 'CRP', 'predikat': 'activator', 'objekt': 'pdhR'}, {'subjekt': 'CRP', 'predikat': 'activator', 'objekt': 'aceF'}, {'subjekt': 'CRP', 'predikat': 'activator', 'objekt': 'aceE'}, {'subjekt': 'CRP', 'predikat': 'dual', 'objekt': 'lpd'}, {'subjekt': 'CRP', 'predikat': 'activator', 'objekt': 'ompF'}, {'subjekt': 'CRP', 'predikat': 'repressor', 'objekt': 'gadC'}, {'subjekt': 'CRP', 'predikat': 'repressor', 'objekt': 'gadB'}, {'subjekt': 'CRP', 'predikat': 'dual', 'objekt': 'crr'}, {'subjekt': 'CRP', 'predikat': 'dual', 'objekt': 'ptsI'}, {'subjekt': 'CRP', 'predikat': 'dual', 'objekt': 'ptsH'}, {'subjekt': 'CRP', 'predikat': 'repressor', 'objekt': 'osmY'}, {'subjekt': 'CRP', 'predikat': 'activator', 'objekt': 'acs'}, {'subjekt': 'CRP', 'predikat': 'activator', 'objekt': 'actP'}, {'subjekt': 'CRP', 'predikat': 'activator', 'objekt': 'yjcH'}, {'subjekt': 'CRP', 'predikat': 'repressor', 'objekt': 'sohB'}, {'subjekt': 'CRP', 'predikat': 'activator', 'objekt': 'mglB'}, {'subjekt': 'CRP', 'predikat': 'activator', 'objekt': 'mglA'}, {'subjekt': 'CRP', 'predikat': 'activator', 'objekt': 'mglC'}, {'subjekt': 'CRP', 'predikat': 'activator', 'objekt': 'csgG'}, {'subjekt': 'CRP', 'predikat': 'activator', 'objekt': 'csgF'}, {'subjekt': 'CRP', 'predikat': 'activator', 'objekt': 'csgD'}, {'subjekt': 'CRP', 'predikat': 'activator', 'objekt': 'csgE'}, {'subjekt': 'CRP', 'predikat': 'activator', 'objekt': 'oxyR'}, {'subjekt': 'CRP', 'predikat': 'repressor', 'objekt': 'gadA'}, {'subjekt': 'CRP', 'predikat': 'repressor', 'objekt': 'gadX'}, {'subjekt': 'CRP', 'predikat': 'activator', 'objekt': 'epd'}, {'subjekt': 'CRP', 'predikat': 'activator', 'objekt': 'fbaA'}, {'subjekt': 'CRP', 'predikat': 'activator', 'objekt': 'pgk'}, {'subjekt': 'CRP', 'predikat': 'activator', 'objekt': 'frlR'}, {'subjekt': 'CRP', 'predikat': 'activator', 'objekt': 'frlD'}, {'subjekt': 'CRP', 'predikat': 'activator', 'objekt': 'frlC'}, {'subjekt': 'CRP', 'predikat': 'activator', 'objekt': 'frlB'}, {'subjekt': 'CRP', 'predikat': 'activator', 'objekt': 'frlA'}, {'subjekt': 'CRP', 'predikat': 'activator', 'objekt': 'ytfK'}, {'subjekt': 'CRP', 'predikat': 'activator', 'objekt': 'cycA'}, {'subjekt': 'CRP', 'predikat': 'repressor', 'objekt': 'htpG'}, {'subjekt': 'CRP', 'predikat': 'repressor', 'objekt': 'entF'}, {'subjekt': 'CRP', 'predikat': 'repressor', 'objekt': 'purH'}, {'subjekt': 'CRP', 'predikat': 'activator', 'objekt': 'fadL'}, {'subjekt': 'CRP', 'predikat': 'activator', 'objekt': 'melR'}, {'subjekt': 'CRP', 'predikat': 'dual', 'objekt': 'umpH'}, {'subjekt': 'CRP', 'predikat': 'dual', 'objekt': 'nagC'}, {'subjekt': 'CRP', 'predikat': 'dual', 'objekt': 'nagA'}, {'subjekt': 'CRP', 'predikat': 'dual', 'objekt': 'nagB'}, {'subjekt': 'CRP', 'predikat': 'repressor', 'objekt': 'nirC'}, {'subjekt': 'CRP', 'predikat': 'repressor', 'objekt': 'nirB'}, {'subjekt': 'CRP', 'predikat': 'repressor', 'objekt': 'nirD'}, {'subjekt': 'CRP', 'predikat': 'repressor', 'objekt': 'cysG'}, {'subjekt': 'CRP', 'predikat': 'activator', 'objekt': 'nrdA'}, {'subjekt': 'CRP', 'predikat': 'activator', 'objekt': 'yfaE'}, {'subjekt': 'CRP', 'predikat': 'activator', 'objekt': 'nrdB'}, {'subjekt': 'CRP', 'predikat': 'activator', 'objekt': 'ompA'}, {'subjekt': 'CRP', 'predikat': 'activator', 'objekt': 'mazE'}, {'subjekt': 'CRP', 'predikat': 'activator', 'objekt': 'mazF'}, {'subjekt': 'CRP', 'predikat': 'activator', 'objekt': 'relA'}, {'subjekt': 'CRP', 'predikat': 'dual', 'objekt': 'fis'}, {'subjekt': 'CRP', 'predikat': 'dual', 'objekt': 'dusB'}, {'subjekt': 'CRP', 'predikat': 'activator', 'objekt': 'galS'}, {'subjekt': 'CRP', 'predikat': 'dual', 'objekt': 'glnG'}, {'subjekt': 'CRP', 'predikat': 'dual', 'objekt': 'glnZ'}, {'subjekt': 'CRP', 'predikat': 'dual', 'objekt': 'glnL'}, {'subjekt': 'CRP', 'predikat': 'dual', 'objekt': 'glnA'}, {'subjekt': 'CRP', 'predikat': 'activator', 'objekt': 'glpA'}, {'subjekt': 'CRP', 'predikat': 'activator', 'objekt': 'glpB'}, {'subjekt': 'CRP', 'predikat': 'activator', 'objekt': 'glpC'}, {'subjekt': 'CRP', 'predikat': 'activator', 'objekt': 'glpD'}, {'subjekt': 'CRP', 'predikat': 'activator', 'objekt': 'glpQ'}, {'subjekt': 'CRP', 'predikat': 'activator', 'objekt': 'glpT'}, {'subjekt': 'CRP', 'predikat': 'activator', 'objekt': 'ilvN'}, {'subjekt': 'CRP', 'predikat': 'activator', 'objekt': 'ivbL'}, {'subjekt': 'CRP', 'predikat': 'activator', 'objekt': 'ilvB'}, {'subjekt': 'CRP', 'predikat': 'dual', 'objekt': 'lacA'}, {'subjekt': 'CRP', 'predikat': 'dual', 'objekt': 'lacY'}, {'subjekt': 'CRP', 'predikat': 'dual', 'objekt': 'lacZ'}, {'subjekt': 'CRP', 'predikat': 'activator', 'objekt': 'malH'}, {'subjekt': 'CRP', 'predikat': 'activator', 'objekt': 'malG'}, {'subjekt': 'CRP', 'predikat': 'activator', 'objekt': 'malE'}, {'subjekt': 'CRP', 'predikat': 'activator', 'objekt': 'malF'}, {'subjekt': 'CRP', 'predikat': 'activator', 'objekt': 'malK'}, {'subjekt': 'CRP', 'predikat': 'activator', 'objekt': 'lamB'}, {'subjekt': 'CRP', 'predikat': 'activator', 'objekt': 'malM'}, {'subjekt': 'CRP', 'predikat': 'repressor', 'objekt': 'aceK'}, {'subjekt': 'CRP', 'predikat': 'repressor', 'objekt': 'aceA'}, {'subjekt': 'CRP', 'predikat': 'repressor', 'objekt': 'aceB'}, {'subjekt': 'CRP', 'predikat': 'activator', 'objekt': 'araA'}, {'subjekt': 'CRP', 'predikat': 'activator', 'objekt': 'araD'}, {'subjekt': 'CRP', 'predikat': 'activator', 'objekt': 'araB'}, {'subjekt': 'CRP', 'predikat': 'activator', 'objekt': 'araC'}, {'subjekt': 'CRP', 'predikat': 'activator', 'objekt': 'cirA'}, {'subjekt': 'CRP', 'predikat': 'repressor', 'objekt': 'cyaA'}, {'subjekt': 'CRP', 'predikat': 'dual', 'objekt': 'deoC'}, {'subjekt': 'CRP', 'predikat': 'dual', 'objekt': 'deoD'}, {'subjekt': 'CRP', 'predikat': 'dual', 'objekt': 'deoA'}, {'subjekt': 'CRP', 'predikat': 'dual', 'objekt': 'deoB'}, {'subjekt': 'CRP', 'predikat': 'repressor', 'objekt': 'aroA'}, {'subjekt': 'CRP', 'predikat': 'repressor', 'objekt': 'serC'}, {'subjekt': 'CRP', 'predikat': 'activator', 'objekt': 'zraS'}, {'subjekt': 'CRP', 'predikat': 'activator', 'objekt': 'zraR'}, {'subjekt': 'CRP', 'predikat': 'repressor', 'objekt': 'pnp'}, {'subjekt': 'CRP', 'predikat': 'repressor', 'objekt': 'infB'}, {'subjekt': 'CRP', 'predikat': 'repressor', 'objekt': 'nusA'}, {'subjekt': 'CRP', 'predikat': 'repressor', 'objekt': 'metY'}, {'subjekt': 'CRP', 'predikat': 'repressor', 'objekt': 'rpsO'}, {'subjekt': 'CRP', 'predikat': 'repressor', 'objekt': 'rimP'}, {'subjekt': 'CRP', 'predikat': 'repressor', 'objekt': 'rbfA'}, {'subjekt': 'CRP', 'predikat': 'repressor', 'objekt': 'truB'}, {'subjekt': 'CRP', 'predikat': 'repressor', 'objekt': 'spfP'}, {'subjekt': 'CRP', 'predikat': 'repressor', 'objekt': 'spf'}, {'subjekt': 'CRP', 'predikat': 'activator', 'objekt': 'hyfD'}, {'subjekt': 'CRP', 'predikat': 'activator', 'objekt': 'hyfR'}, {'subjekt': 'CRP', 'predikat': 'activator', 'objekt': 'hyfE'}, {'subjekt': 'CRP', 'predikat': 'activator', 'objekt': 'focB'}, {'subjekt': 'CRP', 'predikat': 'activator', 'objekt': 'hyfB'}, {'subjekt': 'CRP', 'predikat': 'activator', 'objekt': 'hyfI'}, {'subjekt': 'CRP', 'predikat': 'activator', 'objekt': 'hyfJ'}, {'subjekt': 'CRP', 'predikat': 'activator', 'objekt': 'hyfC'}, {'subjekt': 'CRP', 'predikat': 'activator', 'objekt': 'hyfF'}, {'subjekt': 'CRP', 'predikat': 'activator', 'objekt': 'hyfH'}, {'subjekt': 'CRP', 'predikat': 'activator', 'objekt': 'hyfG'}, {'subjekt': 'CRP', 'predikat': 'activator', 'objekt': 'hyfA'}, {'subjekt': 'CRP', 'predikat': 'repressor', 'objekt': 'putP'}, {'subjekt': 'CRP', 'predikat': 'dual', 'objekt': 'yiaO'}, {'subjekt': 'CRP', 'predikat': 'dual', 'objekt': 'yiaN'}, {'subjekt': 'CRP', 'predikat': 'dual', 'objekt': 'lyxK'}, {'subjekt': 'CRP', 'predikat': 'dual', 'objekt': 'yiaL'}, {'subjekt': 'CRP', 'predikat': 'dual', 'objekt': 'sgbH'}, {'subjekt': 'CRP', 'predikat': 'dual', 'objekt': 'yiaK'}, {'subjekt': 'CRP', 'predikat': 'dual', 'objekt': 'yiaM'}, {'subjekt': 'CRP', 'predikat': 'dual', 'objekt': 'sgbU'}, {'subjekt': 'CRP', 'predikat': 'dual', 'objekt': 'sgbE'}, {'subjekt': 'CRP', 'predikat': 'activator', 'objekt': 'dcuB'}, {'subjekt': 'CRP', 'predikat': 'activator', 'objekt': 'fumB'}, {'subjekt': 'CRP', 'predikat': 'activator', 'objekt': 'acnA'}, {'subjekt': 'CRP', 'predikat': 'activator', 'objekt': 'acnB'}, {'subjekt': 'CRP', 'predikat': 'activator', 'objekt': 'hlyE'}, {'subjekt': 'CRP', 'predikat': 'activator', 'objekt': 'hupB'}, {'subjekt': 'CRP', 'predikat': 'repressor', 'objekt': 'xseA'}, {'subjekt': 'CRP', 'predikat': 'activator', 'objekt': 'feaR'}, {'subjekt': 'CRP', 'predikat': 'activator', 'objekt': 'uxuA'}, {'subjekt': 'CRP', 'predikat': 'activator', 'objekt': 'uxuB'}, {'subjekt': 'CRP', 'predikat': 'repressor', 'objekt': 'plaR'}, {'subjekt': 'CRP', 'predikat': 'activator', 'objekt': 'glpG'}, {'subjekt': 'CRP', 'predikat': 'activator', 'objekt': 'glpR'}, {'subjekt': 'CRP', 'predikat': 'activator', 'objekt': 'glpE'}, {'subjekt': 'CRP', 'predikat': 'dual', 'objekt': 'dadA'}, {'subjekt': 'CRP', 'predikat': 'dual', 'objekt': 'dadX'}, {'subjekt': 'CRP', 'predikat': 'activator', 'objekt': 'hupA'}, {'subjekt': 'CRP', 'predikat': 'activator', 'objekt': 'xylA'}, {'subjekt': 'CRP', 'predikat': 'activator', 'objekt': 'xylB'}, {'subjekt': 'CRP', 'predikat': 'activator', 'objekt': 'xylF'}, {'subjekt': 'CRP', 'predikat': 'activator', 'objekt': 'xylH'}, {'subjekt': 'CRP', 'predikat': 'activator', 'objekt': 'xylG'}, {'subjekt': 'CRP', 'predikat': 'activator', 'objekt': 'xylR'}, {'subjekt': 'CRP', 'predikat': 'activator', 'objekt': 'nmpC'}, {'subjekt': 'CRP', 'predikat': 'activator', 'objekt': 'grpE'}, {'subjekt': 'CRP', 'predikat': 'activator', 'objekt': 'paaI'}, {'subjekt': 'CRP', 'predikat': 'activator', 'objekt': 'paaB'}, {'subjekt': 'CRP', 'predikat': 'activator', 'objekt': 'paaA'}, {'subjekt': 'CRP', 'predikat': 'activator', 'objekt': 'paaK'}, {'subjekt': 'CRP', 'predikat': 'activator', 'objekt': 'paaC'}, {'subjekt': 'CRP', 'predikat': 'activator', 'objekt': 'paaH'}, {'subjekt': 'CRP', 'predikat': 'activator', 'objekt': 'paaF'}, {'subjekt': 'CRP', 'predikat': 'activator', 'objekt': 'paaG'}, {'subjekt': 'CRP', 'predikat': 'activator', 'objekt': 'paaJ'}, {'subjekt': 'CRP', 'predikat': 'activator', 'objekt': 'paaE'}, {'subjekt': 'CRP', 'predikat': 'activator', 'objekt': 'paaD'}, {'subjekt': 'CRP', 'predikat': 'activator', 'objekt': 'paaZ'}, {'subjekt': 'CRP', 'predikat': 'dual', 'objekt': 'ompR'}, {'subjekt': 'CRP', 'predikat': 'dual', 'objekt': 'envZ'}, {'subjekt': 'CRP', 'predikat': 'activator', 'objekt': 'chbR'}, {'subjekt': 'CRP', 'predikat': 'activator', 'objekt': 'chbG'}, {'subjekt': 'CRP', 'predikat': 'activator', 'objekt': 'chbF'}, {'subjekt': 'CRP', 'predikat': 'activator', 'objekt': 'chbB'}, {'subjekt': 'CRP', 'predikat': 'activator', 'objekt': 'chbA'}, {'subjekt': 'CRP', 'predikat': 'activator', 'objekt': 'chbC'}, {'subjekt': 'CRP', 'predikat': 'activator', 'objekt': 'modB'}, {'subjekt': 'CRP', 'predikat': 'activator', 'objekt': 'modC'}, {'subjekt': 'CRP', 'predikat': 'activator', 'objekt': 'modA'}, {'subjekt': 'CRP', 'predikat': 'activator', 'objekt': 'caiF'}, {'subjekt': 'CRP', 'predikat': 'activator', 'objekt': 'fixC'}, {'subjekt': 'CRP', 'predikat': 'activator', 'objekt': 'fixB'}, {'subjekt': 'CRP', 'predikat': 'activator', 'objekt': 'fixA'}, {'subjekt': 'CRP', 'predikat': 'activator', 'objekt': 'fixX'}, {'subjekt': 'CRP', 'predikat': 'activator', 'objekt': 'sdhB'}, {'subjekt': 'CRP', 'predikat': 'activator', 'objekt': 'sdhD'}, {'subjekt': 'CRP', 'predikat': 'activator', 'objekt': 'sdhA'}, {'subjekt': 'CRP', 'predikat': 'activator', 'objekt': 'pflB'}, {'subjekt': 'CRP', 'predikat': 'activator', 'objekt': 'focA'}, {'subjekt': 'CRP', 'predikat': 'activator', 'objekt': 'ugpB'}, {'subjekt': 'CRP', 'predikat': 'activator', 'objekt': 'ugpC'}, {'subjekt': 'CRP', 'predikat': 'activator', 'objekt': 'ugpQ'}, {'subjekt': 'CRP', 'predikat': 'activator', 'objekt': 'ugpA'}, {'subjekt': 'CRP', 'predikat': 'activator', 'objekt': 'ugpE'}, {'subjekt': 'CRP', 'predikat': 'dual', 'objekt': 'cytR'}, {'subjekt': 'CRP', 'predikat': 'activator', 'objekt': 'fur'}, {'subjekt': 'CRP', 'predikat': 'activator', 'objekt': 'glgS'}, {'subjekt': 'CRP', 'predikat': 'activator', 'objekt': 'gntU'}, {'subjekt': 'CRP', 'predikat': 'activator', 'objekt': 'gntK'}, {'subjekt': 'CRP', 'predikat': 'dual', 'objekt': 'yhfA'}, {'subjekt': 'CRP', 'predikat': 'activator', 'objekt': 'dsdA'}, {'subjekt': 'CRP', 'predikat': 'activator', 'objekt': 'dsdX'}, {'subjekt': 'CRP', 'predikat': 'activator', 'objekt': 'fecA'}, {'subjekt': 'CRP', 'predikat': 'activator', 'objekt': 'fecB'}, {'subjekt': 'CRP', 'predikat': 'activator', 'objekt': 'fecD'}, {'subjekt': 'CRP', 'predikat': 'activator', 'objekt': 'fecC'}, {'subjekt': 'CRP', 'predikat': 'activator', 'objekt': 'fecE'}, {'subjekt': 'CRP', 'predikat': 'dual', 'objekt': 'proP'}, {'subjekt': 'CRP', 'predikat': 'dual', 'objekt': 'ppiA'}, {'subjekt': 'CRP', 'predikat': 'activator', 'objekt': 'dctA'}, {'subjekt': 'CRP', 'predikat': 'activator', 'objekt': 'rbsZ'}, {'subjekt': 'CRP', 'predikat': 'activator', 'objekt': 'rbsB'}, {'subjekt': 'CRP', 'predikat': 'activator', 'objekt': 'rbsK'}, {'subjekt': 'CRP', 'predikat': 'activator', 'objekt': 'rbsD'}, {'subjekt': 'CRP', 'predikat': 'activator', 'objekt': 'rbsC'}, {'subjekt': 'CRP', 'predikat': 'activator', 'objekt': 'rbsR'}, {'subjekt': 'CRP', 'predikat': 'activator', 'objekt': 'rbsA'}, {'subjekt': 'CRP', 'predikat': 'activator', 'objekt': 'rhaT'}, {'subjekt': 'CRP', 'predikat': 'activator', 'objekt': 'entC'}, {'subjekt': 'CRP', 'predikat': 'activator', 'objekt': 'entE'}, {'subjekt': 'CRP', 'predikat': 'activator', 'objekt': 'entA'}, {'subjekt': 'CRP', 'predikat': 'activator', 'objekt': 'entB'}, {'subjekt': 'CRP', 'predikat': 'activator', 'objekt': 'entH'}, {'subjekt': 'CRP', 'predikat': 'repressor', 'objekt': 'psiE'}, {'subjekt': 'CRP', 'predikat': 'dual', 'objekt': 'crp'}, {'subjekt': 'CRP', 'predikat': 'activator', 'objekt': 'cpdB'}, {'subjekt': 'CRP', 'predikat': 'activator', 'objekt': 'glgP'}, {'subjekt': 'CRP', 'predikat': 'activator', 'objekt': 'glgC'}, {'subjekt': 'CRP', 'predikat': 'activator', 'objekt': 'glgA'}, {'subjekt': 'CRP', 'predikat': 'dual', 'objekt': 'rpoH'}, {'subjekt': 'CRP', 'predikat': 'activator', 'objekt': 'tnaC'}, {'subjekt': 'CRP', 'predikat': 'activator', 'objekt': 'tnaA'}, {'subjekt': 'CRP', 'predikat': 'activator', 'objekt': 'tnaB'}, {'subjekt': 'CRP', 'predikat': 'activator', 'objekt': 'malT'}, {'subjekt': 'CRP', 'predikat': 'dual', 'objekt': 'araJ'}, {'subjekt': 'CRP', 'predikat': 'activator', 'objekt': 'sodA'}, {'subjekt': 'CRP', 'predikat': 'activator', 'objekt': 'ansB'}, {'subjekt': 'CRP', 'predikat': 'activator', 'objekt': 'araE'}, {'subjekt': 'CRP', 'predikat': 'activator', 'objekt': 'ygeA'}, {'subjekt': 'CRP', 'predikat': 'activator', 'objekt': 'gutM'}, {'subjekt': 'CRP', 'predikat': 'activator', 'objekt': 'srlE'}, {'subjekt': 'CRP', 'predikat': 'activator', 'objekt': 'srlB'}, {'subjekt': 'CRP', 'predikat': 'activator', 'objekt': 'srlR'}, {'subjekt': 'CRP', 'predikat': 'activator', 'objekt': 'srlD'}, {'subjekt': 'CRP', 'predikat': 'activator', 'objekt': 'gutQ'}, {'subjekt': 'CRP', 'predikat': 'activator', 'objekt': 'srlA'}, {'subjekt': 'CRP', 'predikat': 'activator', 'objekt': 'fucO'}, {'subjekt': 'CRP', 'predikat': 'activator', 'objekt': 'fucA'}, {'subjekt': 'CRP', 'predikat': 'activator', 'objekt': 'flhD'}, {'subjekt': 'CRP', 'predikat': 'activator', 'objekt': 'flhC'}, {'subjekt': 'CRP', 'predikat': 'activator', 'objekt': 'malS'}, {'subjekt': 'CRP', 'predikat': 'activator', 'objekt': 'fucR'}, {'subjekt': 'CRP', 'predikat': 'activator', 'objekt': 'fucK'}, {'subjekt': 'CRP', 'predikat': 'activator', 'objekt': 'fucI'}, {'subjekt': 'CRP', 'predikat': 'activator', 'objekt': 'fucU'}, {'subjekt': 'CRP', 'predikat': 'activator', 'objekt': 'fucP'}, {'subjekt': 'CRP', 'predikat': 'activator', 'objekt': 'malY'}, {'subjekt': 'CRP', 'predikat': 'activator', 'objekt': 'malX'}, {'subjekt': 'CRP', 'predikat': 'repressor', 'objekt': 'speC'}, {'subjekt': 'CRP', 'predikat': 'repressor', 'objekt': 'rpoS'}, {'subjekt': 'CRP', 'predikat': 'activator', 'objekt': 'caiB'}, {'subjekt': 'CRP', 'predikat': 'activator', 'objekt': 'caiA'}, {'subjekt': 'CRP', 'predikat': 'activator', 'objekt': 'caiE'}, {'subjekt': 'CRP', 'predikat': 'activator', 'objekt': 'caiT'}, {'subjekt': 'CRP', 'predikat': 'activator', 'objekt': 'caiC'}, {'subjekt': 'CRP', 'predikat': 'activator', 'objekt': 'caiD'}, {'subjekt': 'CRP', 'predikat': 'dual', 'objekt': 'nupG'}, {'subjekt': 'CRP', 'predikat': 'activator', 'objekt': 'tdcC'}, {'subjekt': 'CRP', 'predikat': 'activator', 'objekt': 'tdcE'}, {'subjekt': 'CRP', 'predikat': 'activator', 'objekt': 'tdcF'}, {'subjekt': 'CRP', 'predikat': 'activator', 'objekt': 'tdcA'}, {'subjekt': 'CRP', 'predikat': 'activator', 'objekt': 'tdcD'}, {'subjekt': 'CRP', 'predikat': 'activator', 'objekt': 'tdcG'}, {'subjekt': 'CRP', 'predikat': 'activator', 'objekt': 'tdcB'}, {'subjekt': 'CRP', 'predikat': 'activator', 'objekt': 'ubiG'}, {'subjekt': 'CRP', 'predikat': 'activator', 'objekt': 'melA'}, {'subjekt': 'CRP', 'predikat': 'activator', 'objekt': 'melB'}, {'subjekt': 'CRP', 'predikat': 'activator', 'objekt': 'gyrA'}, {'subjekt': 'CRP', 'predikat': 'activator', 'objekt': 'mtlA'}, {'subjekt': 'CRP', 'predikat': 'activator', 'objekt': 'mtlD'}, {'subjekt': 'CRP', 'predikat': 'activator', 'objekt': 'mtlR'}, {'subjekt': 'CRP', 'predikat': 'repressor', 'objekt': 'pncB'}, {'subjekt': 'CRP', 'predikat': 'activator', 'objekt': 'manZ'}, {'subjekt': 'CRP', 'predikat': 'activator', 'objekt': 'manY'}, {'subjekt': 'CRP', 'predikat': 'activator', 'objekt': 'manX'}, {'subjekt': 'CRP', 'predikat': 'activator', 'objekt': 'gatB'}, {'subjekt': 'CRP', 'predikat': 'activator', 'objekt': 'gatA'}, {'subjekt': 'CRP', 'predikat': 'activator', 'objekt': 'gatY'}, {'subjekt': 'CRP', 'predikat': 'activator', 'objekt': 'gatZ'}, {'subjekt': 'CRP', 'predikat': 'activator', 'objekt': 'gatC'}, {'subjekt': 'CRP', 'predikat': 'activator', 'objekt': 'gatD'}, {'subjekt': 'CRP', 'predikat': 'activator', 'objekt': 'glpK'}, {'subjekt': 'CRP', 'predikat': 'activator', 'objekt': 'glpX'}, {'subjekt': 'CRP', 'predikat': 'activator', 'objekt': 'glpF'}, {'subjekt': 'CRP', 'predikat': 'activator', 'objekt': 'dcuA'}, {'subjekt': 'CRP', 'predikat': 'activator', 'objekt': 'aspA'}, {'subjekt': 'CRP', 'predikat': 'activator', 'objekt': 'ebgA'}, {'subjekt': 'CRP', 'predikat': 'activator', 'objekt': 'ebgC'}, {'subjekt': 'CRP', 'predikat': 'activator', 'objekt': 'nupC'}, {'subjekt': 'CRP', 'predikat': 'activator', 'objekt': 'fepA'}, {'subjekt': 'CRP', 'predikat': 'activator', 'objekt': 'entD'}, {'subjekt': 'CRP', 'predikat': 'activator', 'objekt': 'cyoB'}, {'subjekt': 'CRP', 'predikat': 'activator', 'objekt': 'cyoD'}, {'subjekt': 'CRP', 'predikat': 'activator', 'objekt': 'cyoC'}, {'subjekt': 'CRP', 'predikat': 'activator', 'objekt': 'cyoA'}, {'subjekt': 'CRP', 'predikat': 'activator', 'objekt': 'cyoE'}, {'subjekt': 'CRP', 'predikat': 'activator', 'objekt': 'sdhX'}, {'subjekt': 'CRP', 'predikat': 'activator', 'objekt': 'sucB'}, {'subjekt': 'CRP', 'predikat': 'activator', 'objekt': 'sucA'}, {'subjekt': 'CRP', 'predikat': 'activator', 'objekt': 'sucD'}, {'subjekt': 'CRP', 'predikat': 'activator', 'objekt': 'sdhC'}, {'subjekt': 'CRP', 'predikat': 'activator', 'objekt': 'sucC'}, {'subjekt': 'CRP', 'predikat': 'activator', 'objekt': 'gltA'}, {'subjekt': 'CRP', 'predikat': 'activator', 'objekt': 'mdh'}, {'subjekt': 'CRP', 'predikat': 'activator', 'objekt': 'agaA'}, {'subjekt': 'CRP', 'predikat': 'activator', 'objekt': 'kbaZ'}, {'subjekt': 'CRP', 'predikat': 'activator', 'objekt': 'agaW'}, {'subjekt': 'CRP', 'predikat': 'activator', 'objekt': 'agaV'}, {'subjekt': 'CRP', 'predikat': 'activator', 'objekt': 'fadD'}, {'subjekt': 'CRP', 'predikat': 'activator', 'objekt': 'sroD'}, {'subjekt': 'CRP', 'predikat': 'activator', 'objekt': 'uhpU'}, {'subjekt': 'CRP', 'predikat': 'activator', 'objekt': 'uhpT'}, {'subjekt': 'CRP', 'predikat': 'activator', 'objekt': 'aldB'}, {'subjekt': 'CRP', 'predikat': 'dual', 'objekt': 'tsx'}, {'subjekt': 'CRP', 'predikat': 'activator', 'objekt': 'gntT'}, {'subjekt': 'CRP', 'predikat': 'activator', 'objekt': 'marR'}, {'subjekt': 'CRP', 'predikat': 'activator', 'objekt': 'marA'}, {'subjekt': 'CRP', 'predikat': 'activator', 'objekt': 'marB'}, {'subjekt': 'CRP', 'predikat': 'activator', 'objekt': 'guaB'}, {'subjekt': 'CRP', 'predikat': 'activator', 'objekt': 'guaA'}, {'subjekt': 'CRP', 'predikat': 'activator', 'objekt': 'treC'}, {'subjekt': 'CRP', 'predikat': 'activator', 'objekt': 'treB'}, {'subjekt': 'CRP', 'predikat': 'activator', 'objekt': 'rhaA'}, {'subjekt': 'CRP', 'predikat': 'activator', 'objekt': 'rhaB'}, {'subjekt': 'CRP', 'predikat': 'activator', 'objekt': 'rhaD'}, {'subjekt': 'CRP', 'predikat': 'activator', 'objekt': 'aldA'}, {'subjekt': 'CRP', 'predikat': 'dual', 'objekt': 'cdd'}, {'subjekt': 'CRP', 'predikat': 'activator', 'objekt': 'glcC'}, {'subjekt': 'CRP', 'predikat': 'activator', 'objekt': 'agp'}, {'subjekt': 'CRP', 'predikat': 'activator', 'objekt': 'prpR'}, {'subjekt': 'CRP', 'predikat': 'activator', 'objekt': 'galP'}, {'subjekt': 'CRP', 'predikat': 'activator', 'objekt': 'cstA'}, {'subjekt': 'CRP', 'predikat': 'activator', 'objekt': 'nanS'}, {'subjekt': 'CRP', 'predikat': 'activator', 'objekt': 'nanM'}, {'subjekt': 'CRP', 'predikat': 'activator', 'objekt': 'nanC'}, {'subjekt': 'CRP', 'predikat': 'activator', 'objekt': 'argG'}, {'subjekt': 'CRP', 'predikat': 'repressor', 'objekt': 'gadE'}, {'subjekt': 'CRP', 'predikat': 'repressor', 'objekt': 'mdtE'}, {'subjekt': 'CRP', 'predikat': 'repressor', 'objekt': 'gadF'}, {'subjekt': 'CRP', 'predikat': 'repressor', 'objekt': 'mdtF'}, {'subjekt': 'CRP', 'predikat': 'activator', 'objekt': 'uxuR'}, {'subjekt': 'CRP', 'predikat': 'activator', 'objekt': 'uidA'}, {'subjekt': 'CRP', 'predikat': 'activator', 'objekt': 'uidC'}, {'subjekt': 'CRP', 'predikat': 'activator', 'objekt': 'uidB'}, {'subjekt': 'CRP', 'predikat': 'activator', 'objekt': 'ulaA'}, {'subjekt': 'CRP', 'predikat': 'activator', 'objekt': 'ulaF'}, {'subjekt': 'CRP', 'predikat': 'activator', 'objekt': 'ulaD'}, {'subjekt': 'CRP', 'predikat': 'activator', 'objekt': 'ulaC'}, {'subjekt': 'CRP', 'predikat': 'activator', 'objekt': 'ulaB'}, {'subjekt': 'CRP', 'predikat': 'activator', 'objekt': 'ulaE'}, {'subjekt': 'CRP', 'predikat': 'activator', 'objekt': 'gapA'}, {'subjekt': 'CRP', 'predikat': 'activator', 'objekt': 'gntP'}, {'subjekt': 'CRP', 'predikat': 'activator', 'objekt': 'yhgH'}, {'subjekt': 'CRP', 'predikat': 'activator', 'objekt': 'nfuA'}, {'subjekt': 'CRP', 'predikat': 'activator', 'objekt': 'uxaA'}, {'subjekt': 'CRP', 'predikat': 'activator', 'objekt': 'uxaC'}, {'subjekt': 'CRP', 'predikat': 'activator', 'objekt': 'idnK'}, {'subjekt': 'CRP', 'predikat': 'activator', 'objekt': 'idnO'}, {'subjekt': 'CRP', 'predikat': 'activator', 'objekt': 'idnD'}, {'subjekt': 'CRP', 'predikat': 'activator', 'objekt': 'idnR'}, {'subjekt': 'CRP', 'predikat': 'activator', 'objekt': 'idnT'}, {'subjekt': 'CRP', 'predikat': 'activator', 'objekt': 'bglB'}, {'subjekt': 'CRP', 'predikat': 'activator', 'objekt': 'bglF'}, {'subjekt': 'CRP', 'predikat': 'dual', 'objekt': 'nagE'}, {'subjekt': 'CRP', 'predikat': 'activator', 'objekt': 'gabP'}, {'subjekt': 'CRP', 'predikat': 'activator', 'objekt': 'gabT'}, {'subjekt': 'CRP', 'predikat': 'activator', 'objekt': 'glaH'}, {'subjekt': 'CRP', 'predikat': 'activator', 'objekt': 'lhgD'}, {'subjekt': 'CRP', 'predikat': 'activator', 'objekt': 'gabD'}, {'subjekt': 'CRP', 'predikat': 'activator', 'objekt': 'prpB'}, {'subjekt': 'CRP', 'predikat': 'activator', 'objekt': 'prpD'}, {'subjekt': 'CRP', 'predikat': 'activator', 'objekt': 'prpC'}, {'subjekt': 'CRP', 'predikat': 'activator', 'objekt': 'prpE'}, {'subjekt': 'CRP', 'predikat': 'repressor', 'objekt': 'trxA'}, {'subjekt': 'CRP', 'predikat': 'activator', 'objekt': 'serA'}, {'subjekt': 'CRP', 'predikat': 'activator', 'objekt': 'mhpE'}, {'subjekt': 'CRP', 'predikat': 'activator', 'objekt': 'mhpC'}, {'subjekt': 'CRP', 'predikat': 'activator', 'objekt': 'mhpD'}, {'subjekt': 'CRP', 'predikat': 'activator', 'objekt': 'mhpA'}, {'subjekt': 'CRP', 'predikat': 'activator', 'objekt': 'mhpB'}, {'subjekt': 'CRP', 'predikat': 'activator', 'objekt': 'mhpF'}, {'subjekt': 'CRP', 'predikat': 'activator', 'objekt': 'fiu'}, {'subjekt': 'CRP', 'predikat': 'activator', 'objekt': 'hpt'}, {'subjekt': 'CRP', 'predikat': 'repressor', 'objekt': 'gcd'}, {'subjekt': 'CRP', 'predikat': 'activator', 'objekt': 'nanK'}, {'subjekt': 'CRP', 'predikat': 'activator', 'objekt': 'nanQ'}, {'subjekt': 'CRP', 'predikat': 'activator', 'objekt': 'nanT'}, {'subjekt': 'CRP', 'predikat': 'activator', 'objekt': 'nanA'}, {'subjekt': 'CRP', 'predikat': 'activator', 'objekt': 'nanE'}, {'subjekt': 'CRP', 'predikat': 'repressor', 'objekt': 'sodB'}, {'subjekt': 'CRP', 'predikat': 'repressor', 'objekt': 'gdhA'}, {'subjekt': 'CRP', 'predikat': 'activator', 'objekt': 'ptsG'}, {'subjekt': 'CRP', 'predikat': 'activator', 'objekt': 'grcA'}, {'subjekt': 'CRP', 'predikat': 'activator', 'objekt': 'aer'}, {'subjekt': 'CRP', 'predikat': 'activator', 'objekt': 'ychH'}, {'subjekt': 'CRP', 'predikat': 'activator', 'objekt': 'dcuR'}, {'subjekt': 'CRP', 'predikat': 'activator', 'objekt': 'sfsA'}, {'subjekt': 'CRP', 'predikat': 'activator', 'objekt': 'dksA'}, {'subjekt': 'CRP', 'predikat': 'activator', 'objekt': 'preA'}, {'subjekt': 'CRP', 'predikat': 'activator', 'objekt': 'preT'}, {'subjekt': 'CRP', 'predikat': 'activator', 'objekt': 'sbmC'}]\n",
      "---------------------------\n",
      "235 286\n"
     ]
    },
    {
     "name": "stderr",
     "output_type": "stream",
     "text": [
      "C:\\Anaconda\\lib\\site-packages\\urllib3\\connectionpool.py:1061: InsecureRequestWarning: Unverified HTTPS request is being made to host 'regulondb.ccg.unam.mx'. Adding certificate verification is strongly advised. See: https://urllib3.readthedocs.io/en/1.26.x/advanced-usage.html#ssl-warnings\n",
      "  warnings.warn(\n"
     ]
    },
    {
     "name": "stdout",
     "output_type": "stream",
     "text": [
      "success:\n",
      "[{'subjekt': 'LrhA', 'predikat': 'activator', 'objekt': 'leuO'}, {'subjekt': 'LrhA', 'predikat': 'activator', 'objekt': 'fimE'}, {'subjekt': 'LrhA', 'predikat': 'repressor', 'objekt': 'flhD'}, {'subjekt': 'LrhA', 'predikat': 'repressor', 'objekt': 'flhC'}, {'subjekt': 'LrhA', 'predikat': 'activator', 'objekt': 'lrhA'}]\n",
      "---------------------------\n",
      "236 286\n"
     ]
    },
    {
     "name": "stderr",
     "output_type": "stream",
     "text": [
      "C:\\Anaconda\\lib\\site-packages\\urllib3\\connectionpool.py:1061: InsecureRequestWarning: Unverified HTTPS request is being made to host 'regulondb.ccg.unam.mx'. Adding certificate verification is strongly advised. See: https://urllib3.readthedocs.io/en/1.26.x/advanced-usage.html#ssl-warnings\n",
      "  warnings.warn(\n"
     ]
    },
    {
     "name": "stdout",
     "output_type": "stream",
     "text": [
      "success:\n",
      "[{'subjekt': 'IclR', 'predikat': 'repressor', 'objekt': 'aceK'}, {'subjekt': 'IclR', 'predikat': 'repressor', 'objekt': 'aceA'}, {'subjekt': 'IclR', 'predikat': 'repressor', 'objekt': 'aceB'}, {'subjekt': 'IclR', 'predikat': 'repressor', 'objekt': 'iclR'}]\n",
      "---------------------------\n",
      "237 286\n"
     ]
    },
    {
     "name": "stderr",
     "output_type": "stream",
     "text": [
      "C:\\Anaconda\\lib\\site-packages\\urllib3\\connectionpool.py:1061: InsecureRequestWarning: Unverified HTTPS request is being made to host 'regulondb.ccg.unam.mx'. Adding certificate verification is strongly advised. See: https://urllib3.readthedocs.io/en/1.26.x/advanced-usage.html#ssl-warnings\n",
      "  warnings.warn(\n"
     ]
    },
    {
     "name": "stdout",
     "output_type": "stream",
     "text": [
      "success:\n",
      "[{'subjekt': 'YebK', 'predikat': 'repressor', 'objekt': 'yebK'}]\n",
      "---------------------------\n",
      "238 286\n"
     ]
    },
    {
     "name": "stderr",
     "output_type": "stream",
     "text": [
      "C:\\Anaconda\\lib\\site-packages\\urllib3\\connectionpool.py:1061: InsecureRequestWarning: Unverified HTTPS request is being made to host 'regulondb.ccg.unam.mx'. Adding certificate verification is strongly advised. See: https://urllib3.readthedocs.io/en/1.26.x/advanced-usage.html#ssl-warnings\n",
      "  warnings.warn(\n"
     ]
    },
    {
     "name": "stdout",
     "output_type": "stream",
     "text": [
      "success:\n",
      "[{'subjekt': 'RclR', 'predikat': 'activator', 'objekt': 'rclB'}, {'subjekt': 'RclR', 'predikat': 'activator', 'objekt': 'rclC'}, {'subjekt': 'RclR', 'predikat': 'activator', 'objekt': 'rclA'}]\n",
      "---------------------------\n",
      "239 286\n"
     ]
    },
    {
     "name": "stderr",
     "output_type": "stream",
     "text": [
      "C:\\Anaconda\\lib\\site-packages\\urllib3\\connectionpool.py:1061: InsecureRequestWarning: Unverified HTTPS request is being made to host 'regulondb.ccg.unam.mx'. Adding certificate verification is strongly advised. See: https://urllib3.readthedocs.io/en/1.26.x/advanced-usage.html#ssl-warnings\n",
      "  warnings.warn(\n"
     ]
    },
    {
     "name": "stdout",
     "output_type": "stream",
     "text": [
      "success:\n",
      "[{'subjekt': 'HigA', 'predikat': 'repressor', 'objekt': 'higB'}, {'subjekt': 'HigA', 'predikat': 'repressor', 'objekt': 'higA'}]\n",
      "---------------------------\n",
      "240 286\n"
     ]
    },
    {
     "name": "stderr",
     "output_type": "stream",
     "text": [
      "C:\\Anaconda\\lib\\site-packages\\urllib3\\connectionpool.py:1061: InsecureRequestWarning: Unverified HTTPS request is being made to host 'regulondb.ccg.unam.mx'. Adding certificate verification is strongly advised. See: https://urllib3.readthedocs.io/en/1.26.x/advanced-usage.html#ssl-warnings\n",
      "  warnings.warn(\n"
     ]
    },
    {
     "name": "stdout",
     "output_type": "stream",
     "text": [
      "success:\n",
      "[{'subjekt': 'PutA', 'predikat': 'repressor', 'objekt': 'putA'}, {'subjekt': 'PutA', 'predikat': 'repressor', 'objekt': 'putP'}]\n",
      "---------------------------\n",
      "241 286\n"
     ]
    },
    {
     "name": "stderr",
     "output_type": "stream",
     "text": [
      "C:\\Anaconda\\lib\\site-packages\\urllib3\\connectionpool.py:1061: InsecureRequestWarning: Unverified HTTPS request is being made to host 'regulondb.ccg.unam.mx'. Adding certificate verification is strongly advised. See: https://urllib3.readthedocs.io/en/1.26.x/advanced-usage.html#ssl-warnings\n",
      "  warnings.warn(\n"
     ]
    },
    {
     "name": "stdout",
     "output_type": "stream",
     "text": [
      "success:\n",
      "[{'subjekt': 'BasR', 'predikat': 'repressor', 'objekt': 'yrbL'}, {'subjekt': 'BasR', 'predikat': 'activator', 'objekt': 'csgG'}, {'subjekt': 'BasR', 'predikat': 'activator', 'objekt': 'csgF'}, {'subjekt': 'BasR', 'predikat': 'activator', 'objekt': 'csgD'}, {'subjekt': 'BasR', 'predikat': 'activator', 'objekt': 'csgE'}, {'subjekt': 'BasR', 'predikat': 'activator', 'objekt': 'eptA'}, {'subjekt': 'BasR', 'predikat': 'activator', 'objekt': 'arnT'}, {'subjekt': 'BasR', 'predikat': 'activator', 'objekt': 'arnE'}, {'subjekt': 'BasR', 'predikat': 'activator', 'objekt': 'arnC'}, {'subjekt': 'BasR', 'predikat': 'activator', 'objekt': 'arnF'}, {'subjekt': 'BasR', 'predikat': 'activator', 'objekt': 'arnD'}, {'subjekt': 'BasR', 'predikat': 'activator', 'objekt': 'arnB'}, {'subjekt': 'BasR', 'predikat': 'activator', 'objekt': 'arnA'}, {'subjekt': 'BasR', 'predikat': 'activator', 'objekt': 'waaH'}, {'subjekt': 'BasR', 'predikat': 'activator', 'objekt': 'dgkA'}, {'subjekt': 'BasR', 'predikat': 'activator', 'objekt': 'hha'}, {'subjekt': 'BasR', 'predikat': 'activator', 'objekt': 'tomB'}, {'subjekt': 'BasR', 'predikat': 'repressor', 'objekt': 'putA'}, {'subjekt': 'BasR', 'predikat': 'activator', 'objekt': 'cspI'}, {'subjekt': 'BasR', 'predikat': 'activator', 'objekt': 'fimB'}, {'subjekt': 'BasR', 'predikat': 'activator', 'objekt': 'qseB'}, {'subjekt': 'BasR', 'predikat': 'activator', 'objekt': 'qseC'}, {'subjekt': 'BasR', 'predikat': 'activator', 'objekt': 'emrD'}, {'subjekt': 'BasR', 'predikat': 'activator', 'objekt': 'glpA'}, {'subjekt': 'BasR', 'predikat': 'activator', 'objekt': 'glpB'}, {'subjekt': 'BasR', 'predikat': 'activator', 'objekt': 'glpC'}]\n",
      "---------------------------\n",
      "242 286\n"
     ]
    },
    {
     "name": "stderr",
     "output_type": "stream",
     "text": [
      "C:\\Anaconda\\lib\\site-packages\\urllib3\\connectionpool.py:1061: InsecureRequestWarning: Unverified HTTPS request is being made to host 'regulondb.ccg.unam.mx'. Adding certificate verification is strongly advised. See: https://urllib3.readthedocs.io/en/1.26.x/advanced-usage.html#ssl-warnings\n",
      "  warnings.warn(\n"
     ]
    },
    {
     "name": "stdout",
     "output_type": "stream",
     "text": [
      "success:\n",
      "[{'subjekt': 'CRP-Sxy', 'predikat': 'activator', 'objekt': 'sxy'}]\n",
      "---------------------------\n",
      "243 286\n"
     ]
    },
    {
     "name": "stderr",
     "output_type": "stream",
     "text": [
      "C:\\Anaconda\\lib\\site-packages\\urllib3\\connectionpool.py:1061: InsecureRequestWarning: Unverified HTTPS request is being made to host 'regulondb.ccg.unam.mx'. Adding certificate verification is strongly advised. See: https://urllib3.readthedocs.io/en/1.26.x/advanced-usage.html#ssl-warnings\n",
      "  warnings.warn(\n"
     ]
    },
    {
     "name": "stdout",
     "output_type": "stream",
     "text": [
      "success:\n",
      "[{'subjekt': 'DhaR', 'predikat': 'repressor', 'objekt': 'dhaR'}, {'subjekt': 'DhaR', 'predikat': 'activator', 'objekt': 'dhaL'}, {'subjekt': 'DhaR', 'predikat': 'activator', 'objekt': 'dhaM'}, {'subjekt': 'DhaR', 'predikat': 'activator', 'objekt': 'dhaK'}]\n",
      "---------------------------\n",
      "244 286\n"
     ]
    },
    {
     "name": "stderr",
     "output_type": "stream",
     "text": [
      "C:\\Anaconda\\lib\\site-packages\\urllib3\\connectionpool.py:1061: InsecureRequestWarning: Unverified HTTPS request is being made to host 'regulondb.ccg.unam.mx'. Adding certificate verification is strongly advised. See: https://urllib3.readthedocs.io/en/1.26.x/advanced-usage.html#ssl-warnings\n",
      "  warnings.warn(\n"
     ]
    },
    {
     "name": "stdout",
     "output_type": "stream",
     "text": [
      "success:\n",
      "[{'subjekt': 'UidR', 'predikat': 'repressor', 'objekt': 'uidA'}, {'subjekt': 'UidR', 'predikat': 'repressor', 'objekt': 'uidC'}, {'subjekt': 'UidR', 'predikat': 'repressor', 'objekt': 'uidB'}, {'subjekt': 'UidR', 'predikat': 'repressor', 'objekt': 'uidR'}]\n",
      "---------------------------\n",
      "245 286\n"
     ]
    },
    {
     "name": "stderr",
     "output_type": "stream",
     "text": [
      "C:\\Anaconda\\lib\\site-packages\\urllib3\\connectionpool.py:1061: InsecureRequestWarning: Unverified HTTPS request is being made to host 'regulondb.ccg.unam.mx'. Adding certificate verification is strongly advised. See: https://urllib3.readthedocs.io/en/1.26.x/advanced-usage.html#ssl-warnings\n",
      "  warnings.warn(\n",
      "C:\\Anaconda\\lib\\site-packages\\urllib3\\connectionpool.py:1061: InsecureRequestWarning: Unverified HTTPS request is being made to host 'regulondb.ccg.unam.mx'. Adding certificate verification is strongly advised. See: https://urllib3.readthedocs.io/en/1.26.x/advanced-usage.html#ssl-warnings\n",
      "  warnings.warn(\n"
     ]
    },
    {
     "name": "stdout",
     "output_type": "stream",
     "text": [
      "success:\n",
      "[{'subjekt': 'GlcC', 'predikat': 'repressor', 'objekt': 'glcC'}, {'subjekt': 'GlcC', 'predikat': 'activator', 'objekt': 'glcG'}, {'subjekt': 'GlcC', 'predikat': 'activator', 'objekt': 'glcF'}, {'subjekt': 'GlcC', 'predikat': 'activator', 'objekt': 'glcD'}, {'subjekt': 'GlcC', 'predikat': 'activator', 'objekt': 'glcB'}, {'subjekt': 'GlcC', 'predikat': 'activator', 'objekt': 'glcE'}, {'subjekt': 'GlcC', 'predikat': 'activator', 'objekt': 'glcA'}]\n",
      "---------------------------\n",
      "246 286\n"
     ]
    },
    {
     "name": "stderr",
     "output_type": "stream",
     "text": [
      "C:\\Anaconda\\lib\\site-packages\\urllib3\\connectionpool.py:1061: InsecureRequestWarning: Unverified HTTPS request is being made to host 'regulondb.ccg.unam.mx'. Adding certificate verification is strongly advised. See: https://urllib3.readthedocs.io/en/1.26.x/advanced-usage.html#ssl-warnings\n",
      "  warnings.warn(\n"
     ]
    },
    {
     "name": "stdout",
     "output_type": "stream",
     "text": [
      "success:\n",
      "[{'subjekt': 'SoxS', 'predikat': 'activator', 'objekt': 'waaY'}, {'subjekt': 'SoxS', 'predikat': 'activator', 'objekt': 'waaZ'}, {'subjekt': 'SoxS', 'predikat': 'activator', 'objekt': 'rimK'}, {'subjekt': 'SoxS', 'predikat': 'activator', 'objekt': 'ybjC'}, {'subjekt': 'SoxS', 'predikat': 'activator', 'objekt': 'ybjN'}, {'subjekt': 'SoxS', 'predikat': 'activator', 'objekt': 'nfsA'}, {'subjekt': 'SoxS', 'predikat': 'activator', 'objekt': 'acnA'}, {'subjekt': 'SoxS', 'predikat': 'activator', 'objekt': 'nfsB'}, {'subjekt': 'SoxS', 'predikat': 'repressor', 'objekt': 'rob'}, {'subjekt': 'SoxS', 'predikat': 'activator', 'objekt': 'acrZ'}, {'subjekt': 'SoxS', 'predikat': 'activator', 'objekt': 'ydbK'}, {'subjekt': 'SoxS', 'predikat': 'activator', 'objekt': 'ompN'}, {'subjekt': 'SoxS', 'predikat': 'activator', 'objekt': 'dapD'}, {'subjekt': 'SoxS', 'predikat': 'activator', 'objekt': 'map'}, {'subjekt': 'SoxS', 'predikat': 'activator', 'objekt': 'glnD'}, {'subjekt': 'SoxS', 'predikat': 'activator', 'objekt': 'mdaB'}, {'subjekt': 'SoxS', 'predikat': 'activator', 'objekt': 'yhbW'}, {'subjekt': 'SoxS', 'predikat': 'activator', 'objekt': 'aldA'}, {'subjekt': 'SoxS', 'predikat': 'activator', 'objekt': 'decR'}, {'subjekt': 'SoxS', 'predikat': 'activator', 'objekt': 'nfo'}, {'subjekt': 'SoxS', 'predikat': 'activator', 'objekt': 'yrbL'}, {'subjekt': 'SoxS', 'predikat': 'activator', 'objekt': 'nepI'}, {'subjekt': 'SoxS', 'predikat': 'repressor', 'objekt': 'ompW'}, {'subjekt': 'SoxS', 'predikat': 'activator', 'objekt': 'micF'}, {'subjekt': 'SoxS', 'predikat': 'activator', 'objekt': 'poxB'}, {'subjekt': 'SoxS', 'predikat': 'activator', 'objekt': 'pqiC'}, {'subjekt': 'SoxS', 'predikat': 'activator', 'objekt': 'pqiB'}, {'subjekt': 'SoxS', 'predikat': 'activator', 'objekt': 'pqiA'}, {'subjekt': 'SoxS', 'predikat': 'activator', 'objekt': 'pgi'}, {'subjekt': 'SoxS', 'predikat': 'activator', 'objekt': 'cadA'}, {'subjekt': 'SoxS', 'predikat': 'activator', 'objekt': 'acrA'}, {'subjekt': 'SoxS', 'predikat': 'activator', 'objekt': 'acrB'}, {'subjekt': 'SoxS', 'predikat': 'activator', 'objekt': 'fpr'}, {'subjekt': 'SoxS', 'predikat': 'activator', 'objekt': 'sodA'}, {'subjekt': 'SoxS', 'predikat': 'activator', 'objekt': 'fumC'}, {'subjekt': 'SoxS', 'predikat': 'activator', 'objekt': 'marR'}, {'subjekt': 'SoxS', 'predikat': 'activator', 'objekt': 'marA'}, {'subjekt': 'SoxS', 'predikat': 'activator', 'objekt': 'marB'}, {'subjekt': 'SoxS', 'predikat': 'repressor', 'objekt': 'soxS'}, {'subjekt': 'SoxS', 'predikat': 'activator', 'objekt': 'zwf'}, {'subjekt': 'SoxS', 'predikat': 'activator', 'objekt': 'ribA'}, {'subjekt': 'SoxS', 'predikat': 'activator', 'objekt': 'fldB'}, {'subjekt': 'SoxS', 'predikat': 'activator', 'objekt': 'inaA'}, {'subjekt': 'SoxS', 'predikat': 'activator', 'objekt': 'uof'}, {'subjekt': 'SoxS', 'predikat': 'activator', 'objekt': 'fur'}, {'subjekt': 'SoxS', 'predikat': 'activator', 'objekt': 'fldA'}, {'subjekt': 'SoxS', 'predikat': 'activator', 'objekt': 'zinT'}, {'subjekt': 'SoxS', 'predikat': 'activator', 'objekt': 'ptsG'}, {'subjekt': 'SoxS', 'predikat': 'activator', 'objekt': 'ygiC'}, {'subjekt': 'SoxS', 'predikat': 'activator', 'objekt': 'tolC'}, {'subjekt': 'SoxS', 'predikat': 'activator', 'objekt': 'ygiB'}]\n",
      "---------------------------\n",
      "247 286\n"
     ]
    },
    {
     "name": "stderr",
     "output_type": "stream",
     "text": [
      "C:\\Anaconda\\lib\\site-packages\\urllib3\\connectionpool.py:1061: InsecureRequestWarning: Unverified HTTPS request is being made to host 'regulondb.ccg.unam.mx'. Adding certificate verification is strongly advised. See: https://urllib3.readthedocs.io/en/1.26.x/advanced-usage.html#ssl-warnings\n",
      "  warnings.warn(\n"
     ]
    },
    {
     "name": "stdout",
     "output_type": "stream",
     "text": [
      "success:\n",
      "[{'subjekt': 'PhoB', 'predikat': 'activator', 'objekt': 'mipA'}, {'subjekt': 'PhoB', 'predikat': 'activator', 'objekt': 'msrQ'}, {'subjekt': 'PhoB', 'predikat': 'activator', 'objekt': 'msrP'}, {'subjekt': 'PhoB', 'predikat': 'activator', 'objekt': 'hiuH'}, {'subjekt': 'PhoB', 'predikat': 'activator', 'objekt': 'rspR'}, {'subjekt': 'PhoB', 'predikat': 'activator', 'objekt': 'cusB'}, {'subjekt': 'PhoB', 'predikat': 'activator', 'objekt': 'cusA'}, {'subjekt': 'PhoB', 'predikat': 'activator', 'objekt': 'cusC'}, {'subjekt': 'PhoB', 'predikat': 'activator', 'objekt': 'cusF'}, {'subjekt': 'PhoB', 'predikat': 'activator', 'objekt': 'cusS'}, {'subjekt': 'PhoB', 'predikat': 'activator', 'objekt': 'cusR'}, {'subjekt': 'PhoB', 'predikat': 'repressor', 'objekt': 'sbcC'}, {'subjekt': 'PhoB', 'predikat': 'repressor', 'objekt': 'sbcD'}, {'subjekt': 'PhoB', 'predikat': 'activator', 'objekt': 'rcdB'}, {'subjekt': 'PhoB', 'predikat': 'activator', 'objekt': 'yegH'}, {'subjekt': 'PhoB', 'predikat': 'repressor', 'objekt': 'feaR'}, {'subjekt': 'PhoB', 'predikat': 'repressor', 'objekt': 'prpR'}, {'subjekt': 'PhoB', 'predikat': 'activator', 'objekt': 'phoQ'}, {'subjekt': 'PhoB', 'predikat': 'activator', 'objekt': 'phoU'}, {'subjekt': 'PhoB', 'predikat': 'activator', 'objekt': 'ompF'}, {'subjekt': 'PhoB', 'predikat': 'activator', 'objekt': 'gadW'}, {'subjekt': 'PhoB', 'predikat': 'activator', 'objekt': 'gadX'}, {'subjekt': 'PhoB', 'predikat': 'activator', 'objekt': 'tktB'}, {'subjekt': 'PhoB', 'predikat': 'activator', 'objekt': 'adiC'}, {'subjekt': 'PhoB', 'predikat': 'repressor', 'objekt': 'cra'}, {'subjekt': 'PhoB', 'predikat': 'activator', 'objekt': 'ytfK'}, {'subjekt': 'PhoB', 'predikat': 'activator', 'objekt': 'pstA'}, {'subjekt': 'PhoB', 'predikat': 'activator', 'objekt': 'pstB'}, {'subjekt': 'PhoB', 'predikat': 'activator', 'objekt': 'pstS'}, {'subjekt': 'PhoB', 'predikat': 'activator', 'objekt': 'pstC'}, {'subjekt': 'PhoB', 'predikat': 'activator', 'objekt': 'asr'}, {'subjekt': 'PhoB', 'predikat': 'repressor', 'objekt': 'pitB'}, {'subjekt': 'PhoB', 'predikat': 'activator', 'objekt': 'psiF'}, {'subjekt': 'PhoB', 'predikat': 'activator', 'objekt': 'phoA'}, {'subjekt': 'PhoB', 'predikat': 'activator', 'objekt': 'phoR'}, {'subjekt': 'PhoB', 'predikat': 'activator', 'objekt': 'phoB'}, {'subjekt': 'PhoB', 'predikat': 'dual', 'objekt': 'ugpB'}, {'subjekt': 'PhoB', 'predikat': 'dual', 'objekt': 'ugpC'}, {'subjekt': 'PhoB', 'predikat': 'dual', 'objekt': 'ugpQ'}, {'subjekt': 'PhoB', 'predikat': 'dual', 'objekt': 'ugpA'}, {'subjekt': 'PhoB', 'predikat': 'dual', 'objekt': 'ugpE'}, {'subjekt': 'PhoB', 'predikat': 'activator', 'objekt': 'psiE'}, {'subjekt': 'PhoB', 'predikat': 'activator', 'objekt': 'phoE'}, {'subjekt': 'PhoB', 'predikat': 'activator', 'objekt': 'phnL'}, {'subjekt': 'PhoB', 'predikat': 'activator', 'objekt': 'phnF'}, {'subjekt': 'PhoB', 'predikat': 'activator', 'objekt': 'phnJ'}, {'subjekt': 'PhoB', 'predikat': 'activator', 'objekt': 'phnN'}, {'subjekt': 'PhoB', 'predikat': 'activator', 'objekt': 'phnK'}, {'subjekt': 'PhoB', 'predikat': 'activator', 'objekt': 'phnH'}, {'subjekt': 'PhoB', 'predikat': 'activator', 'objekt': 'phnM'}, {'subjekt': 'PhoB', 'predikat': 'activator', 'objekt': 'phnC'}, {'subjekt': 'PhoB', 'predikat': 'activator', 'objekt': 'phnP'}, {'subjekt': 'PhoB', 'predikat': 'activator', 'objekt': 'phnO'}, {'subjekt': 'PhoB', 'predikat': 'activator', 'objekt': 'phnE'}, {'subjekt': 'PhoB', 'predikat': 'activator', 'objekt': 'phnD'}, {'subjekt': 'PhoB', 'predikat': 'activator', 'objekt': 'phnI'}, {'subjekt': 'PhoB', 'predikat': 'activator', 'objekt': 'phnG'}, {'subjekt': 'PhoB', 'predikat': 'activator', 'objekt': 'phoH'}, {'subjekt': 'PhoB', 'predikat': 'repressor', 'objekt': 'eda'}, {'subjekt': 'PhoB', 'predikat': 'activator', 'objekt': 'argP'}, {'subjekt': 'PhoB', 'predikat': 'activator', 'objekt': 'amn'}, {'subjekt': 'PhoB', 'predikat': 'activator', 'objekt': 'waaH'}]\n",
      "---------------------------\n",
      "248 286\n"
     ]
    },
    {
     "name": "stderr",
     "output_type": "stream",
     "text": [
      "C:\\Anaconda\\lib\\site-packages\\urllib3\\connectionpool.py:1061: InsecureRequestWarning: Unverified HTTPS request is being made to host 'regulondb.ccg.unam.mx'. Adding certificate verification is strongly advised. See: https://urllib3.readthedocs.io/en/1.26.x/advanced-usage.html#ssl-warnings\n",
      "  warnings.warn(\n"
     ]
    },
    {
     "name": "stdout",
     "output_type": "stream",
     "text": [
      "success:\n",
      "[{'subjekt': 'XynR', 'predikat': 'repressor', 'objekt': 'yagB'}, {'subjekt': 'XynR', 'predikat': 'repressor', 'objekt': 'insX'}, {'subjekt': 'XynR', 'predikat': 'repressor', 'objekt': 'yagA'}, {'subjekt': 'XynR', 'predikat': 'repressor', 'objekt': 'yagF'}, {'subjekt': 'XynR', 'predikat': 'repressor', 'objekt': 'yagE'}]\n",
      "---------------------------\n",
      "249 286\n"
     ]
    },
    {
     "name": "stderr",
     "output_type": "stream",
     "text": [
      "C:\\Anaconda\\lib\\site-packages\\urllib3\\connectionpool.py:1061: InsecureRequestWarning: Unverified HTTPS request is being made to host 'regulondb.ccg.unam.mx'. Adding certificate verification is strongly advised. See: https://urllib3.readthedocs.io/en/1.26.x/advanced-usage.html#ssl-warnings\n",
      "  warnings.warn(\n"
     ]
    },
    {
     "name": "stdout",
     "output_type": "stream",
     "text": [
      "success:\n",
      "[{'subjekt': 'CadC', 'predikat': 'activator', 'objekt': 'cadA'}, {'subjekt': 'CadC', 'predikat': 'activator', 'objekt': 'cadB'}, {'subjekt': 'CadC', 'predikat': 'activator', 'objekt': 'cadC'}]\n",
      "---------------------------\n",
      "250 286\n"
     ]
    },
    {
     "name": "stderr",
     "output_type": "stream",
     "text": [
      "C:\\Anaconda\\lib\\site-packages\\urllib3\\connectionpool.py:1061: InsecureRequestWarning: Unverified HTTPS request is being made to host 'regulondb.ccg.unam.mx'. Adding certificate verification is strongly advised. See: https://urllib3.readthedocs.io/en/1.26.x/advanced-usage.html#ssl-warnings\n",
      "  warnings.warn(\n"
     ]
    },
    {
     "name": "stdout",
     "output_type": "stream",
     "text": [
      "success:\n",
      "[{'subjekt': 'AllS', 'predikat': 'activator', 'objekt': 'allD'}, {'subjekt': 'AllS', 'predikat': 'activator', 'objekt': 'allE'}, {'subjekt': 'AllS', 'predikat': 'activator', 'objekt': 'allC'}]\n",
      "---------------------------\n",
      "251 286\n"
     ]
    },
    {
     "name": "stderr",
     "output_type": "stream",
     "text": [
      "C:\\Anaconda\\lib\\site-packages\\urllib3\\connectionpool.py:1061: InsecureRequestWarning: Unverified HTTPS request is being made to host 'regulondb.ccg.unam.mx'. Adding certificate verification is strongly advised. See: https://urllib3.readthedocs.io/en/1.26.x/advanced-usage.html#ssl-warnings\n",
      "  warnings.warn(\n"
     ]
    },
    {
     "name": "stdout",
     "output_type": "stream",
     "text": [
      "success:\n",
      "[{'subjekt': 'PuuR', 'predikat': 'repressor', 'objekt': 'puuC'}, {'subjekt': 'PuuR', 'predikat': 'repressor', 'objekt': 'puuD'}, {'subjekt': 'PuuR', 'predikat': 'repressor', 'objekt': 'puuB'}, {'subjekt': 'PuuR', 'predikat': 'repressor', 'objekt': 'puuE'}, {'subjekt': 'PuuR', 'predikat': 'repressor', 'objekt': 'puuR'}, {'subjekt': 'PuuR', 'predikat': 'repressor', 'objekt': 'puuP'}, {'subjekt': 'PuuR', 'predikat': 'repressor', 'objekt': 'ymjE'}, {'subjekt': 'PuuR', 'predikat': 'repressor', 'objekt': 'puuA'}]\n",
      "---------------------------\n",
      "252 286\n"
     ]
    },
    {
     "name": "stderr",
     "output_type": "stream",
     "text": [
      "C:\\Anaconda\\lib\\site-packages\\urllib3\\connectionpool.py:1061: InsecureRequestWarning: Unverified HTTPS request is being made to host 'regulondb.ccg.unam.mx'. Adding certificate verification is strongly advised. See: https://urllib3.readthedocs.io/en/1.26.x/advanced-usage.html#ssl-warnings\n",
      "  warnings.warn(\n"
     ]
    },
    {
     "name": "stdout",
     "output_type": "stream",
     "text": [
      "success:\n",
      "[{'subjekt': 'RelBE', 'predikat': 'repressor', 'objekt': 'relE'}, {'subjekt': 'RelBE', 'predikat': 'repressor', 'objekt': 'hokD'}, {'subjekt': 'RelBE', 'predikat': 'repressor', 'objekt': 'relB'}]\n",
      "---------------------------\n",
      "253 286\n"
     ]
    },
    {
     "name": "stderr",
     "output_type": "stream",
     "text": [
      "C:\\Anaconda\\lib\\site-packages\\urllib3\\connectionpool.py:1061: InsecureRequestWarning: Unverified HTTPS request is being made to host 'regulondb.ccg.unam.mx'. Adding certificate verification is strongly advised. See: https://urllib3.readthedocs.io/en/1.26.x/advanced-usage.html#ssl-warnings\n",
      "  warnings.warn(\n"
     ]
    },
    {
     "name": "stdout",
     "output_type": "stream",
     "text": [
      "success:\n",
      "[{'subjekt': 'RacR', 'predikat': 'repressor', 'objekt': 'ydaV'}, {'subjekt': 'RacR', 'predikat': 'repressor', 'objekt': 'rzpR'}, {'subjekt': 'RacR', 'predikat': 'repressor', 'objekt': 'ydaW'}, {'subjekt': 'RacR', 'predikat': 'repressor', 'objekt': 'ydaS'}, {'subjekt': 'RacR', 'predikat': 'repressor', 'objekt': 'ydaT'}, {'subjekt': 'RacR', 'predikat': 'repressor', 'objekt': 'ydaU'}]\n",
      "---------------------------\n",
      "254 286\n"
     ]
    },
    {
     "name": "stderr",
     "output_type": "stream",
     "text": [
      "C:\\Anaconda\\lib\\site-packages\\urllib3\\connectionpool.py:1061: InsecureRequestWarning: Unverified HTTPS request is being made to host 'regulondb.ccg.unam.mx'. Adding certificate verification is strongly advised. See: https://urllib3.readthedocs.io/en/1.26.x/advanced-usage.html#ssl-warnings\n",
      "  warnings.warn(\n"
     ]
    },
    {
     "name": "stdout",
     "output_type": "stream",
     "text": [
      "success:\n",
      "[{'subjekt': 'HyfR', 'predikat': 'activator', 'objekt': 'hyfD'}, {'subjekt': 'HyfR', 'predikat': 'activator', 'objekt': 'hyfR'}, {'subjekt': 'HyfR', 'predikat': 'activator', 'objekt': 'hyfE'}, {'subjekt': 'HyfR', 'predikat': 'activator', 'objekt': 'focB'}, {'subjekt': 'HyfR', 'predikat': 'activator', 'objekt': 'hyfB'}, {'subjekt': 'HyfR', 'predikat': 'activator', 'objekt': 'hyfI'}, {'subjekt': 'HyfR', 'predikat': 'activator', 'objekt': 'hyfJ'}, {'subjekt': 'HyfR', 'predikat': 'activator', 'objekt': 'hyfC'}, {'subjekt': 'HyfR', 'predikat': 'activator', 'objekt': 'hyfF'}, {'subjekt': 'HyfR', 'predikat': 'activator', 'objekt': 'hyfH'}, {'subjekt': 'HyfR', 'predikat': 'activator', 'objekt': 'hyfG'}, {'subjekt': 'HyfR', 'predikat': 'activator', 'objekt': 'hyfA'}]\n",
      "---------------------------\n",
      "255 286\n"
     ]
    },
    {
     "name": "stderr",
     "output_type": "stream",
     "text": [
      "C:\\Anaconda\\lib\\site-packages\\urllib3\\connectionpool.py:1061: InsecureRequestWarning: Unverified HTTPS request is being made to host 'regulondb.ccg.unam.mx'. Adding certificate verification is strongly advised. See: https://urllib3.readthedocs.io/en/1.26.x/advanced-usage.html#ssl-warnings\n",
      "  warnings.warn(\n"
     ]
    },
    {
     "name": "stdout",
     "output_type": "stream",
     "text": [
      "success:\n",
      "[{'subjekt': 'LacI', 'predikat': 'repressor', 'objekt': 'lacA'}, {'subjekt': 'LacI', 'predikat': 'repressor', 'objekt': 'lacY'}, {'subjekt': 'LacI', 'predikat': 'repressor', 'objekt': 'lacZ'}]\n",
      "---------------------------\n",
      "256 286\n"
     ]
    },
    {
     "name": "stderr",
     "output_type": "stream",
     "text": [
      "C:\\Anaconda\\lib\\site-packages\\urllib3\\connectionpool.py:1061: InsecureRequestWarning: Unverified HTTPS request is being made to host 'regulondb.ccg.unam.mx'. Adding certificate verification is strongly advised. See: https://urllib3.readthedocs.io/en/1.26.x/advanced-usage.html#ssl-warnings\n",
      "  warnings.warn(\n"
     ]
    },
    {
     "name": "stdout",
     "output_type": "stream",
     "text": [
      "success:\n",
      "[{'subjekt': 'IHF', 'predikat': 'activator', 'objekt': 'glmY'}, {'subjekt': 'IHF', 'predikat': 'activator', 'objekt': 'csgG'}, {'subjekt': 'IHF', 'predikat': 'activator', 'objekt': 'csgF'}, {'subjekt': 'IHF', 'predikat': 'activator', 'objekt': 'csgD'}, {'subjekt': 'IHF', 'predikat': 'activator', 'objekt': 'csgE'}, {'subjekt': 'IHF', 'predikat': 'activator', 'objekt': 'proW'}, {'subjekt': 'IHF', 'predikat': 'activator', 'objekt': 'proX'}, {'subjekt': 'IHF', 'predikat': 'activator', 'objekt': 'proV'}, {'subjekt': 'IHF', 'predikat': 'repressor', 'objekt': 'rseB'}, {'subjekt': 'IHF', 'predikat': 'repressor', 'objekt': 'rseA'}, {'subjekt': 'IHF', 'predikat': 'repressor', 'objekt': 'rseC'}, {'subjekt': 'IHF', 'predikat': 'repressor', 'objekt': 'rseD'}, {'subjekt': 'IHF', 'predikat': 'repressor', 'objekt': 'rpoE'}, {'subjekt': 'IHF', 'predikat': 'activator', 'objekt': 'csrB'}, {'subjekt': 'IHF', 'predikat': 'repressor', 'objekt': 'tcyJ'}, {'subjekt': 'IHF', 'predikat': 'repressor', 'objekt': 'fliA'}, {'subjekt': 'IHF', 'predikat': 'repressor', 'objekt': 'fliZ'}, {'subjekt': 'IHF', 'predikat': 'repressor', 'objekt': 'micF'}, {'subjekt': 'IHF', 'predikat': 'activator', 'objekt': 'gltB'}, {'subjekt': 'IHF', 'predikat': 'activator', 'objekt': 'gltD'}, {'subjekt': 'IHF', 'predikat': 'activator', 'objekt': 'gltF'}, {'subjekt': 'IHF', 'predikat': 'activator', 'objekt': 'dps'}, {'subjekt': 'IHF', 'predikat': 'activator', 'objekt': 'pstA'}, {'subjekt': 'IHF', 'predikat': 'activator', 'objekt': 'pstB'}, {'subjekt': 'IHF', 'predikat': 'activator', 'objekt': 'phoU'}, {'subjekt': 'IHF', 'predikat': 'activator', 'objekt': 'pstS'}, {'subjekt': 'IHF', 'predikat': 'activator', 'objekt': 'pstC'}, {'subjekt': 'IHF', 'predikat': 'dual', 'objekt': 'ompF'}, {'subjekt': 'IHF', 'predikat': 'repressor', 'objekt': 'osmY'}, {'subjekt': 'IHF', 'predikat': 'repressor', 'objekt': 'acs'}, {'subjekt': 'IHF', 'predikat': 'repressor', 'objekt': 'actP'}, {'subjekt': 'IHF', 'predikat': 'repressor', 'objekt': 'yjcH'}, {'subjekt': 'IHF', 'predikat': None, 'objekt': 'patA'}, {'subjekt': 'IHF', 'predikat': 'repressor', 'objekt': 'ihfB'}, {'subjekt': 'IHF', 'predikat': 'repressor', 'objekt': 'osmE'}, {'subjekt': 'IHF', 'predikat': 'repressor', 'objekt': 'icd'}, {'subjekt': 'IHF', 'predikat': 'activator', 'objekt': 'cycA'}, {'subjekt': 'IHF', 'predikat': 'activator', 'objekt': 'yjbH'}, {'subjekt': 'IHF', 'predikat': 'activator', 'objekt': 'yjbG'}, {'subjekt': 'IHF', 'predikat': 'activator', 'objekt': 'yjbE'}, {'subjekt': 'IHF', 'predikat': 'activator', 'objekt': 'yjbF'}, {'subjekt': 'IHF', 'predikat': 'activator', 'objekt': 'narI'}, {'subjekt': 'IHF', 'predikat': 'activator', 'objekt': 'narH'}, {'subjekt': 'IHF', 'predikat': 'activator', 'objekt': 'narJ'}, {'subjekt': 'IHF', 'predikat': 'activator', 'objekt': 'narG'}, {'subjekt': 'IHF', 'predikat': 'activator', 'objekt': 'narK'}, {'subjekt': 'IHF', 'predikat': 'activator', 'objekt': 'narS'}, {'subjekt': 'IHF', 'predikat': 'dual', 'objekt': 'nirC'}, {'subjekt': 'IHF', 'predikat': 'dual', 'objekt': 'nirB'}, {'subjekt': 'IHF', 'predikat': 'dual', 'objekt': 'nirD'}, {'subjekt': 'IHF', 'predikat': 'dual', 'objekt': 'cysG'}, {'subjekt': 'IHF', 'predikat': 'repressor', 'objekt': 'ompC'}, {'subjekt': 'IHF', 'predikat': 'activator', 'objekt': 'fis'}, {'subjekt': 'IHF', 'predikat': 'activator', 'objekt': 'dusB'}, {'subjekt': 'IHF', 'predikat': 'activator', 'objekt': 'fnr'}, {'subjekt': 'IHF', 'predikat': 'repressor', 'objekt': 'glpQ'}, {'subjekt': 'IHF', 'predikat': 'repressor', 'objekt': 'glpT'}, {'subjekt': 'IHF', 'predikat': 'activator', 'objekt': 'aceK'}, {'subjekt': 'IHF', 'predikat': 'activator', 'objekt': 'aceA'}, {'subjekt': 'IHF', 'predikat': 'activator', 'objekt': 'aceB'}, {'subjekt': 'IHF', 'predikat': 'repressor', 'objekt': 'ihfA'}, {'subjekt': 'IHF', 'predikat': 'activator', 'objekt': 'yiaO'}, {'subjekt': 'IHF', 'predikat': 'activator', 'objekt': 'yiaN'}, {'subjekt': 'IHF', 'predikat': 'activator', 'objekt': 'lyxK'}, {'subjekt': 'IHF', 'predikat': 'activator', 'objekt': 'yiaL'}, {'subjekt': 'IHF', 'predikat': 'activator', 'objekt': 'sgbH'}, {'subjekt': 'IHF', 'predikat': 'activator', 'objekt': 'yiaK'}, {'subjekt': 'IHF', 'predikat': 'activator', 'objekt': 'yiaM'}, {'subjekt': 'IHF', 'predikat': 'activator', 'objekt': 'sgbU'}, {'subjekt': 'IHF', 'predikat': 'activator', 'objekt': 'sgbE'}, {'subjekt': 'IHF', 'predikat': 'dual', 'objekt': 'ilvX'}, {'subjekt': 'IHF', 'predikat': 'dual', 'objekt': 'ilvL'}, {'subjekt': 'IHF', 'predikat': 'dual', 'objekt': 'ilvA'}, {'subjekt': 'IHF', 'predikat': 'dual', 'objekt': 'ilvG'}, {'subjekt': 'IHF', 'predikat': 'dual', 'objekt': 'ilvD'}, {'subjekt': 'IHF', 'predikat': 'dual', 'objekt': 'ilvE'}, {'subjekt': 'IHF', 'predikat': 'dual', 'objekt': 'ilvM'}, {'subjekt': 'IHF', 'predikat': 'repressor', 'objekt': 'plaR'}, {'subjekt': 'IHF', 'predikat': 'repressor', 'objekt': 'nmpC'}, {'subjekt': 'IHF', 'predikat': 'activator', 'objekt': 'paaI'}, {'subjekt': 'IHF', 'predikat': 'activator', 'objekt': 'paaB'}, {'subjekt': 'IHF', 'predikat': 'activator', 'objekt': 'paaA'}, {'subjekt': 'IHF', 'predikat': 'activator', 'objekt': 'paaK'}, {'subjekt': 'IHF', 'predikat': 'activator', 'objekt': 'paaC'}, {'subjekt': 'IHF', 'predikat': 'activator', 'objekt': 'paaH'}, {'subjekt': 'IHF', 'predikat': 'activator', 'objekt': 'paaF'}, {'subjekt': 'IHF', 'predikat': 'activator', 'objekt': 'paaG'}, {'subjekt': 'IHF', 'predikat': 'activator', 'objekt': 'paaJ'}, {'subjekt': 'IHF', 'predikat': 'activator', 'objekt': 'paaE'}, {'subjekt': 'IHF', 'predikat': 'activator', 'objekt': 'paaD'}, {'subjekt': 'IHF', 'predikat': 'activator', 'objekt': 'paaZ'}, {'subjekt': 'IHF', 'predikat': 'repressor', 'objekt': 'ompR'}, {'subjekt': 'IHF', 'predikat': 'repressor', 'objekt': 'envZ'}, {'subjekt': 'IHF', 'predikat': 'activator', 'objekt': 'fimA'}, {'subjekt': 'IHF', 'predikat': 'activator', 'objekt': 'fimD'}, {'subjekt': 'IHF', 'predikat': 'activator', 'objekt': 'fimG'}, {'subjekt': 'IHF', 'predikat': 'activator', 'objekt': 'fimC'}, {'subjekt': 'IHF', 'predikat': 'activator', 'objekt': 'fimR2'}, {'subjekt': 'IHF', 'predikat': 'activator', 'objekt': 'fimI'}, {'subjekt': 'IHF', 'predikat': 'activator', 'objekt': 'fimF'}, {'subjekt': 'IHF', 'predikat': 'activator', 'objekt': 'fimH'}, {'subjekt': 'IHF', 'predikat': 'activator', 'objekt': 'rtcB'}, {'subjekt': 'IHF', 'predikat': 'activator', 'objekt': 'rtcA'}, {'subjekt': 'IHF', 'predikat': 'activator', 'objekt': 'rpoH'}, {'subjekt': 'IHF', 'predikat': 'activator', 'objekt': 'pflB'}, {'subjekt': 'IHF', 'predikat': 'activator', 'objekt': 'focA'}, {'subjekt': 'IHF', 'predikat': 'activator', 'objekt': 'yadV'}, {'subjekt': 'IHF', 'predikat': 'activator', 'objekt': 'htrE'}, {'subjekt': 'IHF', 'predikat': 'activator', 'objekt': 'adiA'}, {'subjekt': 'IHF', 'predikat': 'repressor', 'objekt': 'tyrP'}, {'subjekt': 'IHF', 'predikat': 'repressor', 'objekt': 'mtr'}, {'subjekt': 'IHF', 'predikat': 'repressor', 'objekt': 'sodA'}, {'subjekt': 'IHF', 'predikat': 'repressor', 'objekt': 'flhD'}, {'subjekt': 'IHF', 'predikat': 'repressor', 'objekt': 'flhC'}, {'subjekt': 'IHF', 'predikat': 'activator', 'objekt': 'dppD'}, {'subjekt': 'IHF', 'predikat': 'activator', 'objekt': 'dppA'}, {'subjekt': 'IHF', 'predikat': 'activator', 'objekt': 'dppF'}, {'subjekt': 'IHF', 'predikat': 'activator', 'objekt': 'dppC'}, {'subjekt': 'IHF', 'predikat': 'activator', 'objekt': 'dppB'}, {'subjekt': 'IHF', 'predikat': 'repressor', 'objekt': 'nuoN'}, {'subjekt': 'IHF', 'predikat': 'repressor', 'objekt': 'nuoF'}, {'subjekt': 'IHF', 'predikat': 'repressor', 'objekt': 'nuoA'}, {'subjekt': 'IHF', 'predikat': 'repressor', 'objekt': 'nuoG'}, {'subjekt': 'IHF', 'predikat': 'repressor', 'objekt': 'nuoI'}, {'subjekt': 'IHF', 'predikat': 'repressor', 'objekt': 'nuoE'}, {'subjekt': 'IHF', 'predikat': 'repressor', 'objekt': 'nuoB'}, {'subjekt': 'IHF', 'predikat': 'repressor', 'objekt': 'nuoC'}, {'subjekt': 'IHF', 'predikat': 'repressor', 'objekt': 'nuoK'}, {'subjekt': 'IHF', 'predikat': 'repressor', 'objekt': 'nuoL'}, {'subjekt': 'IHF', 'predikat': 'repressor', 'objekt': 'nuoH'}, {'subjekt': 'IHF', 'predikat': 'repressor', 'objekt': 'nuoJ'}, {'subjekt': 'IHF', 'predikat': 'repressor', 'objekt': 'nuoM'}, {'subjekt': 'IHF', 'predikat': 'activator', 'objekt': 'tdcC'}, {'subjekt': 'IHF', 'predikat': 'activator', 'objekt': 'tdcE'}, {'subjekt': 'IHF', 'predikat': 'activator', 'objekt': 'tdcF'}, {'subjekt': 'IHF', 'predikat': 'activator', 'objekt': 'tdcA'}, {'subjekt': 'IHF', 'predikat': 'activator', 'objekt': 'tdcD'}, {'subjekt': 'IHF', 'predikat': 'activator', 'objekt': 'tdcG'}, {'subjekt': 'IHF', 'predikat': 'activator', 'objekt': 'tdcB'}, {'subjekt': 'IHF', 'predikat': 'activator', 'objekt': 'glnQ'}, {'subjekt': 'IHF', 'predikat': 'activator', 'objekt': 'glnP'}, {'subjekt': 'IHF', 'predikat': 'activator', 'objekt': 'glnH'}, {'subjekt': 'IHF', 'predikat': 'activator', 'objekt': 'hycE'}, {'subjekt': 'IHF', 'predikat': 'activator', 'objekt': 'hycG'}, {'subjekt': 'IHF', 'predikat': 'activator', 'objekt': 'hycF'}, {'subjekt': 'IHF', 'predikat': 'activator', 'objekt': 'hycB'}, {'subjekt': 'IHF', 'predikat': 'activator', 'objekt': 'hycD'}, {'subjekt': 'IHF', 'predikat': 'activator', 'objekt': 'hycA'}, {'subjekt': 'IHF', 'predikat': 'activator', 'objekt': 'hycC'}, {'subjekt': 'IHF', 'predikat': 'activator', 'objekt': 'hycI'}, {'subjekt': 'IHF', 'predikat': 'activator', 'objekt': 'hycH'}, {'subjekt': 'IHF', 'predikat': 'activator', 'objekt': 'hypB'}, {'subjekt': 'IHF', 'predikat': 'activator', 'objekt': 'hypA'}, {'subjekt': 'IHF', 'predikat': 'activator', 'objekt': 'fhlA'}, {'subjekt': 'IHF', 'predikat': 'activator', 'objekt': 'hypC'}, {'subjekt': 'IHF', 'predikat': 'activator', 'objekt': 'hypE'}, {'subjekt': 'IHF', 'predikat': 'activator', 'objekt': 'hypD'}, {'subjekt': 'IHF', 'predikat': 'repressor', 'objekt': 'ndh'}, {'subjekt': 'IHF', 'predikat': 'activator', 'objekt': 'cysI'}, {'subjekt': 'IHF', 'predikat': 'activator', 'objekt': 'cysJ'}, {'subjekt': 'IHF', 'predikat': 'activator', 'objekt': 'cysH'}, {'subjekt': 'IHF', 'predikat': 'activator', 'objekt': 'hemA'}, {'subjekt': 'IHF', 'predikat': 'activator', 'objekt': 'prfA'}, {'subjekt': 'IHF', 'predikat': 'activator', 'objekt': 'prmC'}, {'subjekt': 'IHF', 'predikat': 'repressor', 'objekt': 'sdhX'}, {'subjekt': 'IHF', 'predikat': 'repressor', 'objekt': 'sucB'}, {'subjekt': 'IHF', 'predikat': 'repressor', 'objekt': 'sucA'}, {'subjekt': 'IHF', 'predikat': 'repressor', 'objekt': 'sucD'}, {'subjekt': 'IHF', 'predikat': 'repressor', 'objekt': 'sucC'}, {'subjekt': 'IHF', 'predikat': 'activator', 'objekt': 'gltA'}, {'subjekt': 'IHF', 'predikat': 'dual', 'objekt': 'carB'}, {'subjekt': 'IHF', 'predikat': 'dual', 'objekt': 'carA'}, {'subjekt': 'IHF', 'predikat': 'dual', 'objekt': 'nrfA'}, {'subjekt': 'IHF', 'predikat': 'dual', 'objekt': 'nrfD'}, {'subjekt': 'IHF', 'predikat': 'dual', 'objekt': 'nrfC'}, {'subjekt': 'IHF', 'predikat': 'dual', 'objekt': 'nrfG'}, {'subjekt': 'IHF', 'predikat': 'dual', 'objekt': 'nrfE'}, {'subjekt': 'IHF', 'predikat': 'dual', 'objekt': 'nrfB'}, {'subjekt': 'IHF', 'predikat': 'dual', 'objekt': 'nrfF'}, {'subjekt': 'IHF', 'predikat': 'dual', 'objekt': 'ssuC'}, {'subjekt': 'IHF', 'predikat': 'dual', 'objekt': 'ssuA'}, {'subjekt': 'IHF', 'predikat': 'dual', 'objekt': 'ssuE'}, {'subjekt': 'IHF', 'predikat': 'dual', 'objekt': 'ssuB'}, {'subjekt': 'IHF', 'predikat': 'dual', 'objekt': 'ssuD'}, {'subjekt': 'IHF', 'predikat': 'activator', 'objekt': 'yeiL'}, {'subjekt': 'IHF', 'predikat': 'activator', 'objekt': 'glcG'}, {'subjekt': 'IHF', 'predikat': 'activator', 'objekt': 'glcF'}, {'subjekt': 'IHF', 'predikat': 'activator', 'objekt': 'glcD'}, {'subjekt': 'IHF', 'predikat': 'activator', 'objekt': 'glcB'}, {'subjekt': 'IHF', 'predikat': 'activator', 'objekt': 'glcE'}, {'subjekt': 'IHF', 'predikat': 'activator', 'objekt': 'glcA'}, {'subjekt': 'IHF', 'predikat': 'repressor', 'objekt': 'ubiC'}, {'subjekt': 'IHF', 'predikat': 'repressor', 'objekt': 'ubiA'}, {'subjekt': 'IHF', 'predikat': 'activator', 'objekt': 'pspH'}, {'subjekt': 'IHF', 'predikat': 'activator', 'objekt': 'pspG'}, {'subjekt': 'IHF', 'predikat': 'repressor', 'objekt': 'ulaA'}, {'subjekt': 'IHF', 'predikat': 'repressor', 'objekt': 'ulaF'}, {'subjekt': 'IHF', 'predikat': 'repressor', 'objekt': 'ulaD'}, {'subjekt': 'IHF', 'predikat': 'repressor', 'objekt': 'ulaC'}, {'subjekt': 'IHF', 'predikat': 'repressor', 'objekt': 'ulaB'}, {'subjekt': 'IHF', 'predikat': 'repressor', 'objekt': 'ulaE'}, {'subjekt': 'IHF', 'predikat': 'repressor', 'objekt': 'ulaG'}, {'subjekt': 'IHF', 'predikat': 'activator', 'objekt': 'ibpB'}, {'subjekt': 'IHF', 'predikat': 'dual', 'objekt': 'norV'}, {'subjekt': 'IHF', 'predikat': 'dual', 'objekt': 'norW'}, {'subjekt': 'IHF', 'predikat': 'activator', 'objekt': 'sra'}, {'subjekt': 'IHF', 'predikat': 'activator', 'objekt': 'sufB'}, {'subjekt': 'IHF', 'predikat': 'activator', 'objekt': 'sufE'}, {'subjekt': 'IHF', 'predikat': 'activator', 'objekt': 'sufS'}, {'subjekt': 'IHF', 'predikat': 'activator', 'objekt': 'sufD'}, {'subjekt': 'IHF', 'predikat': 'activator', 'objekt': 'sufA'}, {'subjekt': 'IHF', 'predikat': 'activator', 'objekt': 'sufC'}, {'subjekt': 'IHF', 'predikat': 'repressor', 'objekt': 'hemF'}, {'subjekt': 'IHF', 'predikat': 'repressor', 'objekt': 'amiA'}, {'subjekt': 'IHF', 'predikat': 'activator', 'objekt': 'pspA'}, {'subjekt': 'IHF', 'predikat': 'activator', 'objekt': 'pspC'}, {'subjekt': 'IHF', 'predikat': 'activator', 'objekt': 'pspB'}, {'subjekt': 'IHF', 'predikat': 'activator', 'objekt': 'pspE'}, {'subjekt': 'IHF', 'predikat': 'activator', 'objekt': 'pspD'}, {'subjekt': 'IHF', 'predikat': 'repressor', 'objekt': 'hpt'}, {'subjekt': 'IHF', 'predikat': 'activator', 'objekt': 'gcd'}, {'subjekt': 'IHF', 'predikat': 'repressor', 'objekt': 'sodB'}, {'subjekt': 'IHF', 'predikat': 'repressor', 'objekt': 'dmsB'}, {'subjekt': 'IHF', 'predikat': 'repressor', 'objekt': 'dmsC'}, {'subjekt': 'IHF', 'predikat': 'repressor', 'objekt': 'dmsA'}, {'subjekt': 'IHF', 'predikat': 'activator', 'objekt': 'hipA'}, {'subjekt': 'IHF', 'predikat': 'activator', 'objekt': 'hipB'}, {'subjekt': 'IHF', 'predikat': 'activator', 'objekt': 'dcuD'}, {'subjekt': 'IHF', 'predikat': 'activator', 'objekt': 'folA'}, {'subjekt': 'IHF', 'predikat': 'activator', 'objekt': 'atoD'}, {'subjekt': 'IHF', 'predikat': 'activator', 'objekt': 'atoB'}, {'subjekt': 'IHF', 'predikat': 'activator', 'objekt': 'atoE'}, {'subjekt': 'IHF', 'predikat': 'activator', 'objekt': 'atoA'}, {'subjekt': 'IHF', 'predikat': 'activator', 'objekt': 'fimB'}, {'subjekt': 'IHF', 'predikat': 'activator', 'objekt': 'uspA'}, {'subjekt': 'IHF', 'predikat': 'repressor', 'objekt': 'uspB'}]\n",
      "---------------------------\n",
      "257 286\n"
     ]
    },
    {
     "name": "stderr",
     "output_type": "stream",
     "text": [
      "C:\\Anaconda\\lib\\site-packages\\urllib3\\connectionpool.py:1061: InsecureRequestWarning: Unverified HTTPS request is being made to host 'regulondb.ccg.unam.mx'. Adding certificate verification is strongly advised. See: https://urllib3.readthedocs.io/en/1.26.x/advanced-usage.html#ssl-warnings\n",
      "  warnings.warn(\n"
     ]
    },
    {
     "name": "stdout",
     "output_type": "stream",
     "text": [
      "success:\n",
      "[{'subjekt': 'LeuO', 'predikat': 'repressor', 'objekt': 'dsrA'}, {'subjekt': 'LeuO', 'predikat': 'activator', 'objekt': 'casD'}, {'subjekt': 'LeuO', 'predikat': 'activator', 'objekt': 'casB'}, {'subjekt': 'LeuO', 'predikat': 'activator', 'objekt': 'cas2'}, {'subjekt': 'LeuO', 'predikat': 'activator', 'objekt': 'casC'}, {'subjekt': 'LeuO', 'predikat': 'activator', 'objekt': 'casA'}, {'subjekt': 'LeuO', 'predikat': 'activator', 'objekt': 'cas1'}, {'subjekt': 'LeuO', 'predikat': 'activator', 'objekt': 'casE'}, {'subjekt': 'LeuO', 'predikat': 'dual', 'objekt': 'leuO'}, {'subjekt': 'LeuO', 'predikat': 'activator', 'objekt': 'bglB'}, {'subjekt': 'LeuO', 'predikat': 'activator', 'objekt': 'bglG'}, {'subjekt': 'LeuO', 'predikat': 'activator', 'objekt': 'bglF'}, {'subjekt': 'LeuO', 'predikat': 'repressor', 'objekt': 'yghS'}, {'subjekt': 'LeuO', 'predikat': 'repressor', 'objekt': 'yghR'}, {'subjekt': 'LeuO', 'predikat': 'repressor', 'objekt': 'gltF'}, {'subjekt': 'LeuO', 'predikat': 'repressor', 'objekt': 'ybeQ'}, {'subjekt': 'LeuO', 'predikat': 'activator', 'objekt': 'leuL'}, {'subjekt': 'LeuO', 'predikat': 'activator', 'objekt': 'leuB'}, {'subjekt': 'LeuO', 'predikat': 'activator', 'objekt': 'leuD'}, {'subjekt': 'LeuO', 'predikat': 'activator', 'objekt': 'leuC'}, {'subjekt': 'LeuO', 'predikat': 'activator', 'objekt': 'leuA'}, {'subjekt': 'LeuO', 'predikat': 'repressor', 'objekt': 'cadC'}, {'subjekt': 'LeuO', 'predikat': 'activator', 'objekt': 'yjjQ'}, {'subjekt': 'LeuO', 'predikat': 'activator', 'objekt': 'bglJ'}]\n",
      "---------------------------\n",
      "258 286\n"
     ]
    },
    {
     "name": "stderr",
     "output_type": "stream",
     "text": [
      "C:\\Anaconda\\lib\\site-packages\\urllib3\\connectionpool.py:1061: InsecureRequestWarning: Unverified HTTPS request is being made to host 'regulondb.ccg.unam.mx'. Adding certificate verification is strongly advised. See: https://urllib3.readthedocs.io/en/1.26.x/advanced-usage.html#ssl-warnings\n",
      "  warnings.warn(\n"
     ]
    },
    {
     "name": "stdout",
     "output_type": "stream",
     "text": [
      "success:\n",
      "[{'subjekt': 'NikR', 'predikat': 'repressor', 'objekt': 'nikD'}, {'subjekt': 'NikR', 'predikat': 'repressor', 'objekt': 'nikB'}, {'subjekt': 'NikR', 'predikat': 'repressor', 'objekt': 'nikR'}, {'subjekt': 'NikR', 'predikat': 'repressor', 'objekt': 'nikA'}, {'subjekt': 'NikR', 'predikat': 'repressor', 'objekt': 'nikC'}, {'subjekt': 'NikR', 'predikat': 'repressor', 'objekt': 'nikE'}]\n",
      "---------------------------\n",
      "259 286\n"
     ]
    },
    {
     "name": "stderr",
     "output_type": "stream",
     "text": [
      "C:\\Anaconda\\lib\\site-packages\\urllib3\\connectionpool.py:1061: InsecureRequestWarning: Unverified HTTPS request is being made to host 'regulondb.ccg.unam.mx'. Adding certificate verification is strongly advised. See: https://urllib3.readthedocs.io/en/1.26.x/advanced-usage.html#ssl-warnings\n",
      "  warnings.warn(\n"
     ]
    },
    {
     "name": "stdout",
     "output_type": "stream",
     "text": [
      "success:\n",
      "[{'subjekt': 'LexA', 'predikat': 'repressor', 'objekt': 'yafQ'}, {'subjekt': 'LexA', 'predikat': 'repressor', 'objekt': 'dinJ'}, {'subjekt': 'LexA', 'predikat': 'repressor', 'objekt': 'dinB'}, {'subjekt': 'LexA', 'predikat': 'repressor', 'objekt': 'yafO'}, {'subjekt': 'LexA', 'predikat': 'repressor', 'objekt': 'yafP'}, {'subjekt': 'LexA', 'predikat': 'repressor', 'objekt': 'yafN'}, {'subjekt': 'LexA', 'predikat': 'repressor', 'objekt': 'dinQ'}, {'subjekt': 'LexA', 'predikat': 'repressor', 'objekt': 'recD'}, {'subjekt': 'LexA', 'predikat': 'repressor', 'objekt': 'ptrA'}, {'subjekt': 'LexA', 'predikat': 'repressor', 'objekt': 'recB'}, {'subjekt': 'LexA', 'predikat': 'repressor', 'objekt': 'recQ'}, {'subjekt': 'LexA', 'predikat': 'repressor', 'objekt': 'uvrB'}, {'subjekt': 'LexA', 'predikat': 'repressor', 'objekt': 'yoaA'}, {'subjekt': 'LexA', 'predikat': 'repressor', 'objekt': 'dinF'}, {'subjekt': 'LexA', 'predikat': 'repressor', 'objekt': 'lexA'}, {'subjekt': 'LexA', 'predikat': 'repressor', 'objekt': 'phr'}, {'subjekt': 'LexA', 'predikat': 'repressor', 'objekt': 'rpsU'}, {'subjekt': 'LexA', 'predikat': 'repressor', 'objekt': 'rpoD'}, {'subjekt': 'LexA', 'predikat': 'repressor', 'objekt': 'dnaG'}, {'subjekt': 'LexA', 'predikat': 'repressor', 'objekt': 'recA'}, {'subjekt': 'LexA', 'predikat': 'repressor', 'objekt': 'recX'}, {'subjekt': 'LexA', 'predikat': 'repressor', 'objekt': 'ssb'}, {'subjekt': 'LexA', 'predikat': 'repressor', 'objekt': 'sulA'}, {'subjekt': 'LexA', 'predikat': 'repressor', 'objekt': 'uvrA'}, {'subjekt': 'LexA', 'predikat': 'repressor', 'objekt': 'uvrD'}, {'subjekt': 'LexA', 'predikat': 'repressor', 'objekt': 'umuC'}, {'subjekt': 'LexA', 'predikat': 'repressor', 'objekt': 'umuD'}, {'subjekt': 'LexA', 'predikat': 'repressor', 'objekt': 'ydjM'}, {'subjekt': 'LexA', 'predikat': 'repressor', 'objekt': 'insK'}, {'subjekt': 'LexA', 'predikat': 'repressor', 'objekt': 'polB'}, {'subjekt': 'LexA', 'predikat': 'repressor', 'objekt': 'ruvA'}, {'subjekt': 'LexA', 'predikat': 'repressor', 'objekt': 'ruvB'}, {'subjekt': 'LexA', 'predikat': 'repressor', 'objekt': 'uvrY'}, {'subjekt': 'LexA', 'predikat': 'repressor', 'objekt': 'uvrC'}, {'subjekt': 'LexA', 'predikat': 'repressor', 'objekt': 'ybiB'}, {'subjekt': 'LexA', 'predikat': 'repressor', 'objekt': 'dinG'}, {'subjekt': 'LexA', 'predikat': 'repressor', 'objekt': 'tisB'}, {'subjekt': 'LexA', 'predikat': 'repressor', 'objekt': 'recN'}, {'subjekt': 'LexA', 'predikat': 'repressor', 'objekt': 'yehF'}, {'subjekt': 'LexA', 'predikat': 'repressor', 'objekt': 'symE'}, {'subjekt': 'LexA', 'predikat': 'repressor', 'objekt': 'ddlB'}, {'subjekt': 'LexA', 'predikat': 'repressor', 'objekt': 'mraY'}, {'subjekt': 'LexA', 'predikat': 'repressor', 'objekt': 'murE'}, {'subjekt': 'LexA', 'predikat': 'repressor', 'objekt': 'ftsQ'}, {'subjekt': 'LexA', 'predikat': 'repressor', 'objekt': 'ftsZ'}, {'subjekt': 'LexA', 'predikat': 'repressor', 'objekt': 'murG'}, {'subjekt': 'LexA', 'predikat': 'repressor', 'objekt': 'ftsL'}, {'subjekt': 'LexA', 'predikat': 'repressor', 'objekt': 'ftsW'}, {'subjekt': 'LexA', 'predikat': 'repressor', 'objekt': 'ftsA'}, {'subjekt': 'LexA', 'predikat': 'repressor', 'objekt': 'ftsI'}, {'subjekt': 'LexA', 'predikat': 'repressor', 'objekt': 'lpxC'}, {'subjekt': 'LexA', 'predikat': 'repressor', 'objekt': 'murD'}, {'subjekt': 'LexA', 'predikat': 'repressor', 'objekt': 'murF'}, {'subjekt': 'LexA', 'predikat': 'repressor', 'objekt': 'murC'}, {'subjekt': 'LexA', 'predikat': 'repressor', 'objekt': 'ftsO'}, {'subjekt': 'LexA', 'predikat': 'repressor', 'objekt': 'ftsK'}, {'subjekt': 'LexA', 'predikat': 'repressor', 'objekt': 'dinD'}, {'subjekt': 'LexA', 'predikat': 'repressor', 'objekt': 'yebG'}, {'subjekt': 'LexA', 'predikat': 'repressor', 'objekt': 'dinI'}, {'subjekt': 'LexA', 'predikat': 'repressor', 'objekt': 'sbmC'}, {'subjekt': 'LexA', 'predikat': 'repressor', 'objekt': 'hokE'}, {'subjekt': 'LexA', 'predikat': 'repressor', 'objekt': 'cho'}, {'subjekt': 'LexA', 'predikat': 'repressor', 'objekt': 'ybfE'}]\n",
      "---------------------------\n",
      "260 286\n"
     ]
    },
    {
     "name": "stderr",
     "output_type": "stream",
     "text": [
      "C:\\Anaconda\\lib\\site-packages\\urllib3\\connectionpool.py:1061: InsecureRequestWarning: Unverified HTTPS request is being made to host 'regulondb.ccg.unam.mx'. Adding certificate verification is strongly advised. See: https://urllib3.readthedocs.io/en/1.26.x/advanced-usage.html#ssl-warnings\n",
      "  warnings.warn(\n"
     ]
    },
    {
     "name": "stdout",
     "output_type": "stream",
     "text": [
      "success:\n",
      "[{'subjekt': 'MazE', 'predikat': 'repressor', 'objekt': 'mazE'}, {'subjekt': 'MazE', 'predikat': 'repressor', 'objekt': 'mazG'}, {'subjekt': 'MazE', 'predikat': 'repressor', 'objekt': 'mazF'}]\n",
      "---------------------------\n",
      "261 286\n"
     ]
    },
    {
     "name": "stderr",
     "output_type": "stream",
     "text": [
      "C:\\Anaconda\\lib\\site-packages\\urllib3\\connectionpool.py:1061: InsecureRequestWarning: Unverified HTTPS request is being made to host 'regulondb.ccg.unam.mx'. Adding certificate verification is strongly advised. See: https://urllib3.readthedocs.io/en/1.26.x/advanced-usage.html#ssl-warnings\n",
      "  warnings.warn(\n"
     ]
    },
    {
     "name": "stdout",
     "output_type": "stream",
     "text": [
      "success:\n",
      "[{'subjekt': 'OxyR', 'predikat': 'repressor', 'objekt': 'fhuF'}, {'subjekt': 'OxyR', 'predikat': 'activator', 'objekt': 'mntH'}, {'subjekt': 'OxyR', 'predikat': 'activator', 'objekt': 'dsbG'}, {'subjekt': 'OxyR', 'predikat': 'activator', 'objekt': 'ahpF'}, {'subjekt': 'OxyR', 'predikat': 'activator', 'objekt': 'ahpC'}, {'subjekt': 'OxyR', 'predikat': 'activator', 'objekt': 'hemH'}, {'subjekt': 'OxyR', 'predikat': 'activator', 'objekt': 'sufB'}, {'subjekt': 'OxyR', 'predikat': 'activator', 'objekt': 'sufE'}, {'subjekt': 'OxyR', 'predikat': 'activator', 'objekt': 'sufS'}, {'subjekt': 'OxyR', 'predikat': 'activator', 'objekt': 'sufD'}, {'subjekt': 'OxyR', 'predikat': 'activator', 'objekt': 'sufA'}, {'subjekt': 'OxyR', 'predikat': 'activator', 'objekt': 'sufC'}, {'subjekt': 'OxyR', 'predikat': 'repressor', 'objekt': 'uxuA'}, {'subjekt': 'OxyR', 'predikat': 'repressor', 'objekt': 'uxuB'}, {'subjekt': 'OxyR', 'predikat': 'repressor', 'objekt': 'gntP'}, {'subjekt': 'OxyR', 'predikat': 'activator', 'objekt': 'grxA'}, {'subjekt': 'OxyR', 'predikat': 'repressor', 'objekt': 'rimK'}, {'subjekt': 'OxyR', 'predikat': 'repressor', 'objekt': 'ybjC'}, {'subjekt': 'OxyR', 'predikat': 'repressor', 'objekt': 'ybjN'}, {'subjekt': 'OxyR', 'predikat': 'repressor', 'objekt': 'nfsA'}, {'subjekt': 'OxyR', 'predikat': 'activator', 'objekt': 'uof'}, {'subjekt': 'OxyR', 'predikat': 'activator', 'objekt': 'fur'}, {'subjekt': 'OxyR', 'predikat': 'activator', 'objekt': 'dps'}, {'subjekt': 'OxyR', 'predikat': 'repressor', 'objekt': 'isrC'}, {'subjekt': 'OxyR', 'predikat': 'repressor', 'objekt': 'flu'}, {'subjekt': 'OxyR', 'predikat': 'activator', 'objekt': 'trxC'}, {'subjekt': 'OxyR', 'predikat': 'activator', 'objekt': 'ccp'}, {'subjekt': 'OxyR', 'predikat': 'activator', 'objekt': 'katG'}, {'subjekt': 'OxyR', 'predikat': 'repressor', 'objekt': 'oxyR'}, {'subjekt': 'OxyR', 'predikat': 'activator', 'objekt': 'oxyS'}, {'subjekt': 'OxyR', 'predikat': 'activator', 'objekt': 'poxB'}, {'subjekt': 'OxyR', 'predikat': 'activator', 'objekt': 'hcp'}, {'subjekt': 'OxyR', 'predikat': 'activator', 'objekt': 'hcr'}, {'subjekt': 'OxyR', 'predikat': 'repressor', 'objekt': 'ychF'}, {'subjekt': 'OxyR', 'predikat': 'activator', 'objekt': 'znuC'}, {'subjekt': 'OxyR', 'predikat': 'activator', 'objekt': 'znuB'}, {'subjekt': 'OxyR', 'predikat': 'activator', 'objekt': 'znuA'}, {'subjekt': 'OxyR', 'predikat': 'activator', 'objekt': 'zinT'}, {'subjekt': 'OxyR', 'predikat': 'activator', 'objekt': 'metR'}, {'subjekt': 'OxyR', 'predikat': 'activator', 'objekt': 'metE'}, {'subjekt': 'OxyR', 'predikat': 'activator', 'objekt': 'yjjZ'}, {'subjekt': 'OxyR', 'predikat': 'dual', 'objekt': 'elaB'}, {'subjekt': 'OxyR', 'predikat': 'activator', 'objekt': 'gor'}, {'subjekt': 'OxyR', 'predikat': 'activator', 'objekt': 'hemF'}, {'subjekt': 'OxyR', 'predikat': 'activator', 'objekt': 'xthA'}]\n",
      "---------------------------\n",
      "262 286\n"
     ]
    },
    {
     "name": "stderr",
     "output_type": "stream",
     "text": [
      "C:\\Anaconda\\lib\\site-packages\\urllib3\\connectionpool.py:1061: InsecureRequestWarning: Unverified HTTPS request is being made to host 'regulondb.ccg.unam.mx'. Adding certificate verification is strongly advised. See: https://urllib3.readthedocs.io/en/1.26.x/advanced-usage.html#ssl-warnings\n",
      "  warnings.warn(\n"
     ]
    },
    {
     "name": "stdout",
     "output_type": "stream",
     "text": [
      "success:\n",
      "[{'subjekt': 'DicA', 'predikat': 'repressor', 'objekt': 'ydfW'}, {'subjekt': 'DicA', 'predikat': 'repressor', 'objekt': 'ydfX'}, {'subjekt': 'DicA', 'predikat': 'repressor', 'objekt': 'dicC'}, {'subjekt': 'DicA', 'predikat': 'activator', 'objekt': 'dicA'}, {'subjekt': 'DicA', 'predikat': 'repressor', 'objekt': 'intQ'}, {'subjekt': 'DicA', 'predikat': 'repressor', 'objekt': 'insD7'}, {'subjekt': 'DicA', 'predikat': 'repressor', 'objekt': 'ydfD'}, {'subjekt': 'DicA', 'predikat': 'repressor', 'objekt': 'ydfE'}, {'subjekt': 'DicA', 'predikat': 'repressor', 'objekt': 'dicB'}]\n",
      "---------------------------\n",
      "263 286\n"
     ]
    },
    {
     "name": "stderr",
     "output_type": "stream",
     "text": [
      "C:\\Anaconda\\lib\\site-packages\\urllib3\\connectionpool.py:1061: InsecureRequestWarning: Unverified HTTPS request is being made to host 'regulondb.ccg.unam.mx'. Adding certificate verification is strongly advised. See: https://urllib3.readthedocs.io/en/1.26.x/advanced-usage.html#ssl-warnings\n",
      "  warnings.warn(\n"
     ]
    },
    {
     "name": "stdout",
     "output_type": "stream",
     "text": [
      "success:\n",
      "[{'subjekt': 'MetJ', 'predikat': 'repressor', 'objekt': 'metK'}, {'subjekt': 'MetJ', 'predikat': 'repressor', 'objekt': 'metA'}, {'subjekt': 'MetJ', 'predikat': 'repressor', 'objekt': 'metF'}, {'subjekt': 'MetJ', 'predikat': 'repressor', 'objekt': 'ahpF'}, {'subjekt': 'MetJ', 'predikat': 'repressor', 'objekt': 'ahpC'}, {'subjekt': 'MetJ', 'predikat': 'repressor', 'objekt': 'metC'}, {'subjekt': 'MetJ', 'predikat': 'repressor', 'objekt': 'metE'}, {'subjekt': 'MetJ', 'predikat': 'repressor', 'objekt': 'metR'}, {'subjekt': 'MetJ', 'predikat': 'repressor', 'objekt': 'metL'}, {'subjekt': 'MetJ', 'predikat': 'repressor', 'objekt': 'metB'}, {'subjekt': 'MetJ', 'predikat': 'repressor', 'objekt': 'metI'}, {'subjekt': 'MetJ', 'predikat': 'repressor', 'objekt': 'metN'}, {'subjekt': 'MetJ', 'predikat': 'repressor', 'objekt': 'metQ'}, {'subjekt': 'MetJ', 'predikat': 'repressor', 'objekt': 'folE'}, {'subjekt': 'MetJ', 'predikat': 'repressor', 'objekt': 'yeiB'}]\n",
      "---------------------------\n",
      "264 286\n"
     ]
    },
    {
     "name": "stderr",
     "output_type": "stream",
     "text": [
      "C:\\Anaconda\\lib\\site-packages\\urllib3\\connectionpool.py:1061: InsecureRequestWarning: Unverified HTTPS request is being made to host 'regulondb.ccg.unam.mx'. Adding certificate verification is strongly advised. See: https://urllib3.readthedocs.io/en/1.26.x/advanced-usage.html#ssl-warnings\n",
      "  warnings.warn(\n"
     ]
    },
    {
     "name": "stdout",
     "output_type": "stream",
     "text": [
      "success:\n",
      "[{'subjekt': 'Mlc', 'predikat': 'repressor', 'objekt': 'bidA'}, {'subjekt': 'Mlc', 'predikat': 'repressor', 'objekt': 'mlc'}, {'subjekt': 'Mlc', 'predikat': 'repressor', 'objekt': 'crr'}, {'subjekt': 'Mlc', 'predikat': 'repressor', 'objekt': 'ptsI'}, {'subjekt': 'Mlc', 'predikat': 'repressor', 'objekt': 'ptsH'}, {'subjekt': 'Mlc', 'predikat': 'repressor', 'objekt': 'malT'}, {'subjekt': 'Mlc', 'predikat': 'repressor', 'objekt': 'manZ'}, {'subjekt': 'Mlc', 'predikat': 'repressor', 'objekt': 'manY'}, {'subjekt': 'Mlc', 'predikat': 'repressor', 'objekt': 'manX'}, {'subjekt': 'Mlc', 'predikat': 'repressor', 'objekt': 'ptsG'}]\n",
      "---------------------------\n",
      "265 286\n"
     ]
    },
    {
     "name": "stderr",
     "output_type": "stream",
     "text": [
      "C:\\Anaconda\\lib\\site-packages\\urllib3\\connectionpool.py:1061: InsecureRequestWarning: Unverified HTTPS request is being made to host 'regulondb.ccg.unam.mx'. Adding certificate verification is strongly advised. See: https://urllib3.readthedocs.io/en/1.26.x/advanced-usage.html#ssl-warnings\n",
      "  warnings.warn(\n"
     ]
    },
    {
     "name": "stdout",
     "output_type": "stream",
     "text": [
      "success:\n",
      "[{'subjekt': 'HipB', 'predikat': 'repressor', 'objekt': 'hipA'}, {'subjekt': 'HipB', 'predikat': 'repressor', 'objekt': 'hipB'}, {'subjekt': 'HipB', 'predikat': 'repressor', 'objekt': 'mazE'}, {'subjekt': 'HipB', 'predikat': 'repressor', 'objekt': 'mazF'}, {'subjekt': 'HipB', 'predikat': 'repressor', 'objekt': 'relA'}, {'subjekt': 'HipB', 'predikat': 'repressor', 'objekt': 'eutA'}, {'subjekt': 'HipB', 'predikat': 'repressor', 'objekt': 'eutH'}, {'subjekt': 'HipB', 'predikat': 'repressor', 'objekt': 'fadH'}]\n",
      "---------------------------\n",
      "266 286\n"
     ]
    },
    {
     "name": "stderr",
     "output_type": "stream",
     "text": [
      "C:\\Anaconda\\lib\\site-packages\\urllib3\\connectionpool.py:1061: InsecureRequestWarning: Unverified HTTPS request is being made to host 'regulondb.ccg.unam.mx'. Adding certificate verification is strongly advised. See: https://urllib3.readthedocs.io/en/1.26.x/advanced-usage.html#ssl-warnings\n",
      "  warnings.warn(\n"
     ]
    },
    {
     "name": "stdout",
     "output_type": "stream",
     "text": [
      "success:\n",
      "[{'subjekt': 'LysR', 'predikat': 'activator', 'objekt': 'lysA'}, {'subjekt': 'LysR', 'predikat': 'repressor', 'objekt': 'lysR'}]\n",
      "---------------------------\n",
      "267 286\n"
     ]
    },
    {
     "name": "stderr",
     "output_type": "stream",
     "text": [
      "C:\\Anaconda\\lib\\site-packages\\urllib3\\connectionpool.py:1061: InsecureRequestWarning: Unverified HTTPS request is being made to host 'regulondb.ccg.unam.mx'. Adding certificate verification is strongly advised. See: https://urllib3.readthedocs.io/en/1.26.x/advanced-usage.html#ssl-warnings\n",
      "  warnings.warn(\n"
     ]
    },
    {
     "name": "stdout",
     "output_type": "stream",
     "text": [
      "success:\n",
      "[{'subjekt': 'DsdC', 'predikat': 'activator', 'objekt': 'dsdA'}, {'subjekt': 'DsdC', 'predikat': 'activator', 'objekt': 'dsdX'}, {'subjekt': 'DsdC', 'predikat': 'repressor', 'objekt': 'dsdC'}]\n",
      "---------------------------\n",
      "268 286\n"
     ]
    },
    {
     "name": "stderr",
     "output_type": "stream",
     "text": [
      "C:\\Anaconda\\lib\\site-packages\\urllib3\\connectionpool.py:1061: InsecureRequestWarning: Unverified HTTPS request is being made to host 'regulondb.ccg.unam.mx'. Adding certificate verification is strongly advised. See: https://urllib3.readthedocs.io/en/1.26.x/advanced-usage.html#ssl-warnings\n",
      "  warnings.warn(\n"
     ]
    },
    {
     "name": "stdout",
     "output_type": "stream",
     "text": [
      "success:\n",
      "[{'subjekt': 'EnvY', 'predikat': 'activator', 'objekt': 'ompF'}, {'subjekt': 'EnvY', 'predikat': 'activator', 'objekt': 'ompC'}]\n",
      "---------------------------\n",
      "269 286\n"
     ]
    },
    {
     "name": "stderr",
     "output_type": "stream",
     "text": [
      "C:\\Anaconda\\lib\\site-packages\\urllib3\\connectionpool.py:1061: InsecureRequestWarning: Unverified HTTPS request is being made to host 'regulondb.ccg.unam.mx'. Adding certificate verification is strongly advised. See: https://urllib3.readthedocs.io/en/1.26.x/advanced-usage.html#ssl-warnings\n",
      "  warnings.warn(\n"
     ]
    },
    {
     "name": "stdout",
     "output_type": "stream",
     "text": [
      "success:\n",
      "[{'subjekt': 'PunR', 'predikat': 'activator', 'objekt': 'punC'}]\n",
      "---------------------------\n",
      "270 286\n"
     ]
    },
    {
     "name": "stderr",
     "output_type": "stream",
     "text": [
      "C:\\Anaconda\\lib\\site-packages\\urllib3\\connectionpool.py:1061: InsecureRequestWarning: Unverified HTTPS request is being made to host 'regulondb.ccg.unam.mx'. Adding certificate verification is strongly advised. See: https://urllib3.readthedocs.io/en/1.26.x/advanced-usage.html#ssl-warnings\n",
      "  warnings.warn(\n"
     ]
    },
    {
     "name": "stdout",
     "output_type": "stream",
     "text": [
      "success:\n",
      "[{'subjekt': 'RpoN', 'predikat': 'repressor', 'objekt': 'mutM'}, {'subjekt': 'RpoN', 'predikat': 'repressor', 'objekt': 'nth'}, {'subjekt': 'RpoN', 'predikat': 'repressor', 'objekt': 'yobF'}, {'subjekt': 'RpoN', 'predikat': 'repressor', 'objekt': 'cspC'}, {'subjekt': 'RpoN', 'predikat': 'repressor', 'objekt': 'yfcZ'}, {'subjekt': 'RpoN', 'predikat': 'repressor', 'objekt': 'fadL'}]\n",
      "---------------------------\n",
      "271 286\n"
     ]
    },
    {
     "name": "stderr",
     "output_type": "stream",
     "text": [
      "C:\\Anaconda\\lib\\site-packages\\urllib3\\connectionpool.py:1061: InsecureRequestWarning: Unverified HTTPS request is being made to host 'regulondb.ccg.unam.mx'. Adding certificate verification is strongly advised. See: https://urllib3.readthedocs.io/en/1.26.x/advanced-usage.html#ssl-warnings\n",
      "  warnings.warn(\n"
     ]
    },
    {
     "name": "stdout",
     "output_type": "stream",
     "text": [
      "success:\n",
      "[{'subjekt': 'YidZ', 'predikat': 'repressor', 'objekt': 'rof'}, {'subjekt': 'YidZ', 'predikat': 'repressor', 'objekt': 'rbsD'}, {'subjekt': 'YidZ', 'predikat': 'repressor', 'objekt': 'ppiC'}, {'subjekt': 'YidZ', 'predikat': 'repressor', 'objekt': 'malE'}]\n",
      "---------------------------\n",
      "272 286\n"
     ]
    },
    {
     "name": "stderr",
     "output_type": "stream",
     "text": [
      "C:\\Anaconda\\lib\\site-packages\\urllib3\\connectionpool.py:1061: InsecureRequestWarning: Unverified HTTPS request is being made to host 'regulondb.ccg.unam.mx'. Adding certificate verification is strongly advised. See: https://urllib3.readthedocs.io/en/1.26.x/advanced-usage.html#ssl-warnings\n",
      "  warnings.warn(\n"
     ]
    },
    {
     "name": "stdout",
     "output_type": "stream",
     "text": [
      "success:\n",
      "[{'subjekt': 'YciT', 'predikat': 'repressor', 'objekt': 'cusF'}, {'subjekt': 'YciT', 'predikat': 'repressor', 'objekt': 'rdcA'}, {'subjekt': 'YciT', 'predikat': 'activator', 'objekt': 'bsmA'}, {'subjekt': 'YciT', 'predikat': 'activator', 'objekt': 'ybiY'}]\n",
      "---------------------------\n",
      "273 286\n"
     ]
    },
    {
     "name": "stderr",
     "output_type": "stream",
     "text": [
      "C:\\Anaconda\\lib\\site-packages\\urllib3\\connectionpool.py:1061: InsecureRequestWarning: Unverified HTTPS request is being made to host 'regulondb.ccg.unam.mx'. Adding certificate verification is strongly advised. See: https://urllib3.readthedocs.io/en/1.26.x/advanced-usage.html#ssl-warnings\n",
      "  warnings.warn(\n"
     ]
    },
    {
     "name": "stdout",
     "output_type": "stream",
     "text": [
      "success:\n",
      "[{'subjekt': 'AaeR', 'predikat': 'activator', 'objekt': 'aaeX'}, {'subjekt': 'AaeR', 'predikat': 'activator', 'objekt': 'aaeB'}, {'subjekt': 'AaeR', 'predikat': 'activator', 'objekt': 'aaeA'}]\n",
      "---------------------------\n",
      "274 286\n"
     ]
    },
    {
     "name": "stderr",
     "output_type": "stream",
     "text": [
      "C:\\Anaconda\\lib\\site-packages\\urllib3\\connectionpool.py:1061: InsecureRequestWarning: Unverified HTTPS request is being made to host 'regulondb.ccg.unam.mx'. Adding certificate verification is strongly advised. See: https://urllib3.readthedocs.io/en/1.26.x/advanced-usage.html#ssl-warnings\n",
      "  warnings.warn(\n"
     ]
    },
    {
     "name": "stdout",
     "output_type": "stream",
     "text": [
      "success:\n",
      "[{'subjekt': 'YfeC', 'predikat': 'activator', 'objekt': 'yfeC'}, {'subjekt': 'YfeC', 'predikat': 'repressor', 'objekt': 'ygdR'}, {'subjekt': 'YfeC', 'predikat': 'repressor', 'objekt': 'hybE'}, {'subjekt': 'YfeC', 'predikat': 'repressor', 'objekt': 'rpsU'}, {'subjekt': 'YfeC', 'predikat': 'repressor', 'objekt': 'rpmB'}, {'subjekt': 'YfeC', 'predikat': 'repressor', 'objekt': 'rpmH'}]\n",
      "---------------------------\n",
      "275 286\n"
     ]
    },
    {
     "name": "stderr",
     "output_type": "stream",
     "text": [
      "C:\\Anaconda\\lib\\site-packages\\urllib3\\connectionpool.py:1061: InsecureRequestWarning: Unverified HTTPS request is being made to host 'regulondb.ccg.unam.mx'. Adding certificate verification is strongly advised. See: https://urllib3.readthedocs.io/en/1.26.x/advanced-usage.html#ssl-warnings\n",
      "  warnings.warn(\n"
     ]
    },
    {
     "name": "stdout",
     "output_type": "stream",
     "text": [
      "success:\n",
      "[{'subjekt': 'YgbI', 'predikat': 'repressor', 'objekt': 'ygbJ'}, {'subjekt': 'YgbI', 'predikat': 'repressor', 'objekt': 'ygbK'}]\n",
      "---------------------------\n",
      "276 286\n"
     ]
    },
    {
     "name": "stderr",
     "output_type": "stream",
     "text": [
      "C:\\Anaconda\\lib\\site-packages\\urllib3\\connectionpool.py:1061: InsecureRequestWarning: Unverified HTTPS request is being made to host 'regulondb.ccg.unam.mx'. Adding certificate verification is strongly advised. See: https://urllib3.readthedocs.io/en/1.26.x/advanced-usage.html#ssl-warnings\n",
      "  warnings.warn(\n"
     ]
    },
    {
     "name": "stdout",
     "output_type": "stream",
     "text": [
      "success:\n",
      "[{'subjekt': 'YieP', 'predikat': 'repressor', 'objekt': 'ykgE'}, {'subjekt': 'YieP', 'predikat': 'repressor', 'objekt': 'cusA'}, {'subjekt': 'YieP', 'predikat': 'activator', 'objekt': 'ybiX'}, {'subjekt': 'YieP', 'predikat': 'repressor', 'objekt': 'dauA'}, {'subjekt': 'YieP', 'predikat': 'repressor', 'objekt': 'yohJ'}]\n",
      "---------------------------\n",
      "277 286\n"
     ]
    },
    {
     "name": "stderr",
     "output_type": "stream",
     "text": [
      "C:\\Anaconda\\lib\\site-packages\\urllib3\\connectionpool.py:1061: InsecureRequestWarning: Unverified HTTPS request is being made to host 'regulondb.ccg.unam.mx'. Adding certificate verification is strongly advised. See: https://urllib3.readthedocs.io/en/1.26.x/advanced-usage.html#ssl-warnings\n",
      "  warnings.warn(\n"
     ]
    },
    {
     "name": "stdout",
     "output_type": "stream",
     "text": [
      "success:\n",
      "[{'subjekt': 'YeiE', 'predikat': 'repressor', 'objekt': 'dcuC'}, {'subjekt': 'YeiE', 'predikat': 'repressor', 'objekt': 'infA'}, {'subjekt': 'YeiE', 'predikat': 'repressor', 'objekt': 'pflB'}, {'subjekt': 'YeiE', 'predikat': 'repressor', 'objekt': 'ssuA'}, {'subjekt': 'YeiE', 'predikat': 'repressor', 'objekt': 'putA'}, {'subjekt': 'YeiE', 'predikat': 'activator', 'objekt': 'uspF'}, {'subjekt': 'YeiE', 'predikat': 'repressor', 'objekt': 'ydcT'}, {'subjekt': 'YeiE', 'predikat': 'activator', 'objekt': 'sodC'}, {'subjekt': 'YeiE', 'predikat': 'activator', 'objekt': 'yoaC'}, {'subjekt': 'YeiE', 'predikat': 'repressor', 'objekt': 'ftp'}, {'subjekt': 'YeiE', 'predikat': 'repressor', 'objekt': 'cysJ'}, {'subjekt': 'YeiE', 'predikat': 'repressor', 'objekt': 'argO'}, {'subjekt': 'YeiE', 'predikat': 'activator', 'objekt': 'gltF'}, {'subjekt': 'YeiE', 'predikat': 'repressor', 'objekt': 'mdtF'}, {'subjekt': 'YeiE', 'predikat': 'repressor', 'objekt': 'yibQ'}]\n",
      "---------------------------\n",
      "278 286\n"
     ]
    },
    {
     "name": "stderr",
     "output_type": "stream",
     "text": [
      "C:\\Anaconda\\lib\\site-packages\\urllib3\\connectionpool.py:1061: InsecureRequestWarning: Unverified HTTPS request is being made to host 'regulondb.ccg.unam.mx'. Adding certificate verification is strongly advised. See: https://urllib3.readthedocs.io/en/1.26.x/advanced-usage.html#ssl-warnings\n",
      "  warnings.warn(\n"
     ]
    },
    {
     "name": "stdout",
     "output_type": "stream",
     "text": [
      "success:\n",
      "[{'subjekt': 'YafC', 'predikat': 'activator', 'objekt': 'cysJ'}]\n",
      "---------------------------\n",
      "279 286\n"
     ]
    },
    {
     "name": "stderr",
     "output_type": "stream",
     "text": [
      "C:\\Anaconda\\lib\\site-packages\\urllib3\\connectionpool.py:1061: InsecureRequestWarning: Unverified HTTPS request is being made to host 'regulondb.ccg.unam.mx'. Adding certificate verification is strongly advised. See: https://urllib3.readthedocs.io/en/1.26.x/advanced-usage.html#ssl-warnings\n",
      "  warnings.warn(\n"
     ]
    },
    {
     "name": "stdout",
     "output_type": "stream",
     "text": [
      "success:\n",
      "[{'subjekt': 'SrsR', 'predikat': 'activator', 'objekt': 'yafQ'}, {'subjekt': 'SrsR', 'predikat': 'activator', 'objekt': 'dinJ'}, {'subjekt': 'SrsR', 'predikat': 'activator', 'objekt': 'yafL'}, {'subjekt': 'SrsR', 'predikat': 'activator', 'objekt': 'bluR'}, {'subjekt': 'SrsR', 'predikat': 'activator', 'objekt': 'paaZ'}, {'subjekt': 'SrsR', 'predikat': 'activator', 'objekt': 'paaI'}, {'subjekt': 'SrsR', 'predikat': 'activator', 'objekt': 'paaB'}, {'subjekt': 'SrsR', 'predikat': 'activator', 'objekt': 'paaA'}, {'subjekt': 'SrsR', 'predikat': 'activator', 'objekt': 'paaK'}, {'subjekt': 'SrsR', 'predikat': 'activator', 'objekt': 'paaC'}, {'subjekt': 'SrsR', 'predikat': 'activator', 'objekt': 'paaH'}, {'subjekt': 'SrsR', 'predikat': 'activator', 'objekt': 'paaF'}, {'subjekt': 'SrsR', 'predikat': 'activator', 'objekt': 'paaG'}, {'subjekt': 'SrsR', 'predikat': 'activator', 'objekt': 'paaJ'}, {'subjekt': 'SrsR', 'predikat': 'activator', 'objekt': 'paaE'}, {'subjekt': 'SrsR', 'predikat': 'activator', 'objekt': 'paaD'}, {'subjekt': 'SrsR', 'predikat': 'activator', 'objekt': 'cdgI'}, {'subjekt': 'SrsR', 'predikat': 'activator', 'objekt': 'yfdN'}, {'subjekt': 'SrsR', 'predikat': 'activator', 'objekt': 'yfdO'}, {'subjekt': 'SrsR', 'predikat': 'activator', 'objekt': 'yfdM'}, {'subjekt': 'SrsR', 'predikat': 'activator', 'objekt': 'yfdL'}, {'subjekt': 'SrsR', 'predikat': 'activator', 'objekt': 'yfdK'}, {'subjekt': 'SrsR', 'predikat': 'activator', 'objekt': 'yfdQ'}, {'subjekt': 'SrsR', 'predikat': 'activator', 'objekt': 'yfdP'}, {'subjekt': 'SrsR', 'predikat': 'activator', 'objekt': 'fucR'}, {'subjekt': 'SrsR', 'predikat': 'activator', 'objekt': 'fucK'}, {'subjekt': 'SrsR', 'predikat': 'activator', 'objekt': 'fucI'}, {'subjekt': 'SrsR', 'predikat': 'activator', 'objekt': 'fucU'}, {'subjekt': 'SrsR', 'predikat': 'activator', 'objekt': 'fucP'}, {'subjekt': 'SrsR', 'predikat': 'activator', 'objekt': 'fucO'}, {'subjekt': 'SrsR', 'predikat': 'activator', 'objekt': 'fucA'}, {'subjekt': 'SrsR', 'predikat': 'activator', 'objekt': 'hycB'}, {'subjekt': 'SrsR', 'predikat': 'activator', 'objekt': 'pflB'}, {'subjekt': 'SrsR', 'predikat': 'activator', 'objekt': 'dhaL'}, {'subjekt': 'SrsR', 'predikat': 'activator', 'objekt': 'dhaM'}, {'subjekt': 'SrsR', 'predikat': 'activator', 'objekt': 'dhaK'}, {'subjekt': 'SrsR', 'predikat': 'activator', 'objekt': 'adhE'}, {'subjekt': 'SrsR', 'predikat': 'activator', 'objekt': 'narZ'}]\n",
      "---------------------------\n",
      "280 286\n"
     ]
    },
    {
     "name": "stderr",
     "output_type": "stream",
     "text": [
      "C:\\Anaconda\\lib\\site-packages\\urllib3\\connectionpool.py:1061: InsecureRequestWarning: Unverified HTTPS request is being made to host 'regulondb.ccg.unam.mx'. Adding certificate verification is strongly advised. See: https://urllib3.readthedocs.io/en/1.26.x/advanced-usage.html#ssl-warnings\n",
      "  warnings.warn(\n"
     ]
    },
    {
     "name": "stdout",
     "output_type": "stream",
     "text": [
      "success:\n",
      "[{'subjekt': 'YiaU', 'predikat': 'activator', 'objekt': 'yiaT'}, {'subjekt': 'YiaU', 'predikat': 'activator', 'objekt': 'yiaW'}, {'subjekt': 'YiaU', 'predikat': 'activator', 'objekt': 'yiaV'}, {'subjekt': 'YiaU', 'predikat': 'activator', 'objekt': 'waaP'}, {'subjekt': 'YiaU', 'predikat': 'activator', 'objekt': 'adeP'}, {'subjekt': 'YiaU', 'predikat': 'activator', 'objekt': 'gltD'}]\n",
      "---------------------------\n",
      "281 286\n"
     ]
    },
    {
     "name": "stderr",
     "output_type": "stream",
     "text": [
      "C:\\Anaconda\\lib\\site-packages\\urllib3\\connectionpool.py:1061: InsecureRequestWarning: Unverified HTTPS request is being made to host 'regulondb.ccg.unam.mx'. Adding certificate verification is strongly advised. See: https://urllib3.readthedocs.io/en/1.26.x/advanced-usage.html#ssl-warnings\n",
      "  warnings.warn(\n"
     ]
    },
    {
     "name": "stdout",
     "output_type": "stream",
     "text": [
      "success:\n",
      "[{'subjekt': 'CitR', 'predikat': 'repressor', 'objekt': 'ybdM'}, {'subjekt': 'CitR', 'predikat': 'repressor', 'objekt': 'ybdN'}, {'subjekt': 'CitR', 'predikat': 'repressor', 'objekt': 'citR'}]\n",
      "---------------------------\n",
      "282 286\n"
     ]
    },
    {
     "name": "stderr",
     "output_type": "stream",
     "text": [
      "C:\\Anaconda\\lib\\site-packages\\urllib3\\connectionpool.py:1061: InsecureRequestWarning: Unverified HTTPS request is being made to host 'regulondb.ccg.unam.mx'. Adding certificate verification is strongly advised. See: https://urllib3.readthedocs.io/en/1.26.x/advanced-usage.html#ssl-warnings\n",
      "  warnings.warn(\n"
     ]
    },
    {
     "name": "stdout",
     "output_type": "stream",
     "text": [
      "success:\n",
      "[{'subjekt': 'PtrR', 'predikat': 'activator', 'objekt': 'glsB'}, {'subjekt': 'PtrR', 'predikat': 'activator', 'objekt': 'sad'}, {'subjekt': 'PtrR', 'predikat': 'activator', 'objekt': 'yneG'}, {'subjekt': 'PtrR', 'predikat': 'activator', 'objekt': 'gabD'}, {'subjekt': 'PtrR', 'predikat': 'repressor', 'objekt': 'gadA'}, {'subjekt': 'PtrR', 'predikat': 'repressor', 'objekt': 'gadB'}, {'subjekt': 'PtrR', 'predikat': 'activator', 'objekt': 'acrA'}, {'subjekt': 'PtrR', 'predikat': 'activator', 'objekt': 'acrB'}, {'subjekt': 'PtrR', 'predikat': 'repressor', 'objekt': 'puuE'}, {'subjekt': 'PtrR', 'predikat': 'repressor', 'objekt': 'puuC'}, {'subjekt': 'PtrR', 'predikat': 'repressor', 'objekt': 'puuB'}, {'subjekt': 'PtrR', 'predikat': 'repressor', 'objekt': 'puuA'}, {'subjekt': 'PtrR', 'predikat': 'repressor', 'objekt': 'acrR'}]\n",
      "---------------------------\n",
      "283 286\n"
     ]
    },
    {
     "name": "stderr",
     "output_type": "stream",
     "text": [
      "C:\\Anaconda\\lib\\site-packages\\urllib3\\connectionpool.py:1061: InsecureRequestWarning: Unverified HTTPS request is being made to host 'regulondb.ccg.unam.mx'. Adding certificate verification is strongly advised. See: https://urllib3.readthedocs.io/en/1.26.x/advanced-usage.html#ssl-warnings\n",
      "  warnings.warn(\n"
     ]
    },
    {
     "name": "stdout",
     "output_type": "stream",
     "text": [
      "success:\n",
      "[{'subjekt': 'FimZ', 'predikat': 'activator', 'objekt': 'sfmC'}, {'subjekt': 'FimZ', 'predikat': 'activator', 'objekt': 'sfmA'}, {'subjekt': 'FimZ', 'predikat': 'activator', 'objekt': 'puuD'}, {'subjekt': 'FimZ', 'predikat': 'activator', 'objekt': 'puuC'}, {'subjekt': 'FimZ', 'predikat': 'activator', 'objekt': 'puuB'}]\n",
      "---------------------------\n",
      "284 286\n"
     ]
    },
    {
     "name": "stderr",
     "output_type": "stream",
     "text": [
      "C:\\Anaconda\\lib\\site-packages\\urllib3\\connectionpool.py:1061: InsecureRequestWarning: Unverified HTTPS request is being made to host 'regulondb.ccg.unam.mx'. Adding certificate verification is strongly advised. See: https://urllib3.readthedocs.io/en/1.26.x/advanced-usage.html#ssl-warnings\n",
      "  warnings.warn(\n"
     ]
    },
    {
     "name": "stdout",
     "output_type": "stream",
     "text": [
      "success:\n",
      "[{'subjekt': 'DicD', 'predikat': 'repressor', 'objekt': 'dicA'}, {'subjekt': 'DicD', 'predikat': 'repressor', 'objekt': 'dicB'}, {'subjekt': 'DicD', 'predikat': 'repressor', 'objekt': 'dicC'}]\n",
      "---------------------------\n",
      "285 286\n"
     ]
    },
    {
     "name": "stderr",
     "output_type": "stream",
     "text": [
      "C:\\Anaconda\\lib\\site-packages\\urllib3\\connectionpool.py:1061: InsecureRequestWarning: Unverified HTTPS request is being made to host 'regulondb.ccg.unam.mx'. Adding certificate verification is strongly advised. See: https://urllib3.readthedocs.io/en/1.26.x/advanced-usage.html#ssl-warnings\n",
      "  warnings.warn(\n",
      "C:\\Anaconda\\lib\\site-packages\\urllib3\\connectionpool.py:1061: InsecureRequestWarning: Unverified HTTPS request is being made to host 'regulondb.ccg.unam.mx'. Adding certificate verification is strongly advised. See: https://urllib3.readthedocs.io/en/1.26.x/advanced-usage.html#ssl-warnings\n",
      "  warnings.warn(\n"
     ]
    },
    {
     "name": "stdout",
     "output_type": "stream",
     "text": [
      "success:\n",
      "[{'subjekt': 'YdiP', 'predikat': 'activator', 'objekt': 'cspE'}, {'subjekt': 'YdiP', 'predikat': 'activator', 'objekt': 'cspA'}]\n",
      "---------------------------\n"
     ]
    }
   ],
   "source": [
    "triplets = {}\n",
    "for i, key in enumerate(regulon_links.keys()):\n",
    "    print(i, len(regulon_links.keys()))\n",
    "    triplets[key] = get_triplet_description(key, regulon_links[key].split(\"/\")[-1])\n",
    "    print(\"success:\")\n",
    "    print(triplets[key])\n",
    "    print(\"---------------------------\")"
   ]
  },
  {
   "cell_type": "code",
   "execution_count": 9,
   "id": "03f83840",
   "metadata": {},
   "outputs": [],
   "source": [
    "with open('all_triplets.pickle', 'rb') as handle:\n",
    "    triplets = pickle.load(handle)"
   ]
  },
  {
   "cell_type": "markdown",
   "id": "891ce761",
   "metadata": {},
   "source": [
    "## 2. daten sammeln pro regulon"
   ]
  },
  {
   "cell_type": "markdown",
   "id": "92897f2c",
   "metadata": {},
   "source": [
    "1. kurze beschreibung / label\n",
    "2. instance of[P31] (RNA[Q11053] / non-coding RNA[Q427087])\n",
    "### 3. alle seiten die es noch nicht gibt erstellen für die unterdinger\n",
    "4. inhibitor / repressor / dual\n",
    "5. found in taxon[P703] (Escherichia coli str. K-12 substr. MG1655[Q21102938])\n",
    "6. strand orientation[P2548] (reverse[Q22809711] / forward[Q22809680])\n",
    "7. genomic start[P644] / genomic end[P645]"
   ]
  },
  {
   "cell_type": "code",
   "execution_count": null,
   "id": "4971a49d",
   "metadata": {},
   "outputs": [],
   "source": []
  },
  {
   "cell_type": "code",
   "execution_count": null,
   "id": "34ac27f5",
   "metadata": {
    "scrolled": true
   },
   "outputs": [
    {
     "name": "stderr",
     "output_type": "stream",
     "text": [
      "C:\\Anaconda\\lib\\site-packages\\urllib3\\connectionpool.py:1061: InsecureRequestWarning: Unverified HTTPS request is being made to host 'regulondb.ccg.unam.mx'. Adding certificate verification is strongly advised. See: https://urllib3.readthedocs.io/en/1.26.x/advanced-usage.html#ssl-warnings\n",
      "  warnings.warn(\n"
     ]
    },
    {
     "name": "stdout",
     "output_type": "stream",
     "text": [
      "1 286\n"
     ]
    },
    {
     "name": "stderr",
     "output_type": "stream",
     "text": [
      "C:\\Anaconda\\lib\\site-packages\\urllib3\\connectionpool.py:1061: InsecureRequestWarning: Unverified HTTPS request is being made to host 'regulondb.ccg.unam.mx'. Adding certificate verification is strongly advised. See: https://urllib3.readthedocs.io/en/1.26.x/advanced-usage.html#ssl-warnings\n",
      "  warnings.warn(\n"
     ]
    },
    {
     "name": "stdout",
     "output_type": "stream",
     "text": [
      "2 286\n"
     ]
    },
    {
     "name": "stderr",
     "output_type": "stream",
     "text": [
      "C:\\Anaconda\\lib\\site-packages\\urllib3\\connectionpool.py:1061: InsecureRequestWarning: Unverified HTTPS request is being made to host 'regulondb.ccg.unam.mx'. Adding certificate verification is strongly advised. See: https://urllib3.readthedocs.io/en/1.26.x/advanced-usage.html#ssl-warnings\n",
      "  warnings.warn(\n",
      "C:\\Anaconda\\lib\\site-packages\\urllib3\\connectionpool.py:1061: InsecureRequestWarning: Unverified HTTPS request is being made to host 'regulondb.ccg.unam.mx'. Adding certificate verification is strongly advised. See: https://urllib3.readthedocs.io/en/1.26.x/advanced-usage.html#ssl-warnings\n",
      "  warnings.warn(\n"
     ]
    },
    {
     "name": "stdout",
     "output_type": "stream",
     "text": [
      "3 286\n"
     ]
    },
    {
     "name": "stderr",
     "output_type": "stream",
     "text": [
      "C:\\Anaconda\\lib\\site-packages\\urllib3\\connectionpool.py:1061: InsecureRequestWarning: Unverified HTTPS request is being made to host 'regulondb.ccg.unam.mx'. Adding certificate verification is strongly advised. See: https://urllib3.readthedocs.io/en/1.26.x/advanced-usage.html#ssl-warnings\n",
      "  warnings.warn(\n"
     ]
    },
    {
     "name": "stdout",
     "output_type": "stream",
     "text": [
      "4 286\n"
     ]
    },
    {
     "name": "stderr",
     "output_type": "stream",
     "text": [
      "C:\\Anaconda\\lib\\site-packages\\urllib3\\connectionpool.py:1061: InsecureRequestWarning: Unverified HTTPS request is being made to host 'regulondb.ccg.unam.mx'. Adding certificate verification is strongly advised. See: https://urllib3.readthedocs.io/en/1.26.x/advanced-usage.html#ssl-warnings\n",
      "  warnings.warn(\n"
     ]
    },
    {
     "name": "stdout",
     "output_type": "stream",
     "text": [
      "5 286\n"
     ]
    },
    {
     "name": "stderr",
     "output_type": "stream",
     "text": [
      "C:\\Anaconda\\lib\\site-packages\\urllib3\\connectionpool.py:1061: InsecureRequestWarning: Unverified HTTPS request is being made to host 'regulondb.ccg.unam.mx'. Adding certificate verification is strongly advised. See: https://urllib3.readthedocs.io/en/1.26.x/advanced-usage.html#ssl-warnings\n",
      "  warnings.warn(\n"
     ]
    },
    {
     "name": "stdout",
     "output_type": "stream",
     "text": [
      "6 286\n"
     ]
    },
    {
     "name": "stderr",
     "output_type": "stream",
     "text": [
      "C:\\Anaconda\\lib\\site-packages\\urllib3\\connectionpool.py:1061: InsecureRequestWarning: Unverified HTTPS request is being made to host 'regulondb.ccg.unam.mx'. Adding certificate verification is strongly advised. See: https://urllib3.readthedocs.io/en/1.26.x/advanced-usage.html#ssl-warnings\n",
      "  warnings.warn(\n"
     ]
    },
    {
     "name": "stdout",
     "output_type": "stream",
     "text": [
      "7 286\n"
     ]
    },
    {
     "name": "stderr",
     "output_type": "stream",
     "text": [
      "C:\\Anaconda\\lib\\site-packages\\urllib3\\connectionpool.py:1061: InsecureRequestWarning: Unverified HTTPS request is being made to host 'regulondb.ccg.unam.mx'. Adding certificate verification is strongly advised. See: https://urllib3.readthedocs.io/en/1.26.x/advanced-usage.html#ssl-warnings\n",
      "  warnings.warn(\n"
     ]
    },
    {
     "name": "stdout",
     "output_type": "stream",
     "text": [
      "8 286\n"
     ]
    },
    {
     "name": "stderr",
     "output_type": "stream",
     "text": [
      "C:\\Anaconda\\lib\\site-packages\\urllib3\\connectionpool.py:1061: InsecureRequestWarning: Unverified HTTPS request is being made to host 'regulondb.ccg.unam.mx'. Adding certificate verification is strongly advised. See: https://urllib3.readthedocs.io/en/1.26.x/advanced-usage.html#ssl-warnings\n",
      "  warnings.warn(\n"
     ]
    },
    {
     "name": "stdout",
     "output_type": "stream",
     "text": [
      "9 286\n"
     ]
    },
    {
     "name": "stderr",
     "output_type": "stream",
     "text": [
      "C:\\Anaconda\\lib\\site-packages\\urllib3\\connectionpool.py:1061: InsecureRequestWarning: Unverified HTTPS request is being made to host 'regulondb.ccg.unam.mx'. Adding certificate verification is strongly advised. See: https://urllib3.readthedocs.io/en/1.26.x/advanced-usage.html#ssl-warnings\n",
      "  warnings.warn(\n"
     ]
    },
    {
     "name": "stdout",
     "output_type": "stream",
     "text": [
      "10 286\n"
     ]
    },
    {
     "name": "stderr",
     "output_type": "stream",
     "text": [
      "C:\\Anaconda\\lib\\site-packages\\urllib3\\connectionpool.py:1061: InsecureRequestWarning: Unverified HTTPS request is being made to host 'regulondb.ccg.unam.mx'. Adding certificate verification is strongly advised. See: https://urllib3.readthedocs.io/en/1.26.x/advanced-usage.html#ssl-warnings\n",
      "  warnings.warn(\n"
     ]
    },
    {
     "name": "stdout",
     "output_type": "stream",
     "text": [
      "11 286\n"
     ]
    },
    {
     "name": "stderr",
     "output_type": "stream",
     "text": [
      "C:\\Anaconda\\lib\\site-packages\\urllib3\\connectionpool.py:1061: InsecureRequestWarning: Unverified HTTPS request is being made to host 'regulondb.ccg.unam.mx'. Adding certificate verification is strongly advised. See: https://urllib3.readthedocs.io/en/1.26.x/advanced-usage.html#ssl-warnings\n",
      "  warnings.warn(\n"
     ]
    },
    {
     "name": "stdout",
     "output_type": "stream",
     "text": [
      "12 286\n"
     ]
    },
    {
     "name": "stderr",
     "output_type": "stream",
     "text": [
      "C:\\Anaconda\\lib\\site-packages\\urllib3\\connectionpool.py:1061: InsecureRequestWarning: Unverified HTTPS request is being made to host 'regulondb.ccg.unam.mx'. Adding certificate verification is strongly advised. See: https://urllib3.readthedocs.io/en/1.26.x/advanced-usage.html#ssl-warnings\n",
      "  warnings.warn(\n"
     ]
    },
    {
     "name": "stdout",
     "output_type": "stream",
     "text": [
      "13 286\n"
     ]
    },
    {
     "name": "stderr",
     "output_type": "stream",
     "text": [
      "C:\\Anaconda\\lib\\site-packages\\urllib3\\connectionpool.py:1061: InsecureRequestWarning: Unverified HTTPS request is being made to host 'regulondb.ccg.unam.mx'. Adding certificate verification is strongly advised. See: https://urllib3.readthedocs.io/en/1.26.x/advanced-usage.html#ssl-warnings\n",
      "  warnings.warn(\n"
     ]
    },
    {
     "name": "stdout",
     "output_type": "stream",
     "text": [
      "14 286\n"
     ]
    },
    {
     "name": "stderr",
     "output_type": "stream",
     "text": [
      "C:\\Anaconda\\lib\\site-packages\\urllib3\\connectionpool.py:1061: InsecureRequestWarning: Unverified HTTPS request is being made to host 'regulondb.ccg.unam.mx'. Adding certificate verification is strongly advised. See: https://urllib3.readthedocs.io/en/1.26.x/advanced-usage.html#ssl-warnings\n",
      "  warnings.warn(\n"
     ]
    },
    {
     "name": "stdout",
     "output_type": "stream",
     "text": [
      "15 286\n"
     ]
    },
    {
     "name": "stderr",
     "output_type": "stream",
     "text": [
      "C:\\Anaconda\\lib\\site-packages\\urllib3\\connectionpool.py:1061: InsecureRequestWarning: Unverified HTTPS request is being made to host 'regulondb.ccg.unam.mx'. Adding certificate verification is strongly advised. See: https://urllib3.readthedocs.io/en/1.26.x/advanced-usage.html#ssl-warnings\n",
      "  warnings.warn(\n"
     ]
    },
    {
     "name": "stdout",
     "output_type": "stream",
     "text": [
      "16 286\n"
     ]
    },
    {
     "name": "stderr",
     "output_type": "stream",
     "text": [
      "C:\\Anaconda\\lib\\site-packages\\urllib3\\connectionpool.py:1061: InsecureRequestWarning: Unverified HTTPS request is being made to host 'regulondb.ccg.unam.mx'. Adding certificate verification is strongly advised. See: https://urllib3.readthedocs.io/en/1.26.x/advanced-usage.html#ssl-warnings\n",
      "  warnings.warn(\n"
     ]
    },
    {
     "name": "stdout",
     "output_type": "stream",
     "text": [
      "17 286\n"
     ]
    },
    {
     "name": "stderr",
     "output_type": "stream",
     "text": [
      "C:\\Anaconda\\lib\\site-packages\\urllib3\\connectionpool.py:1061: InsecureRequestWarning: Unverified HTTPS request is being made to host 'regulondb.ccg.unam.mx'. Adding certificate verification is strongly advised. See: https://urllib3.readthedocs.io/en/1.26.x/advanced-usage.html#ssl-warnings\n",
      "  warnings.warn(\n"
     ]
    },
    {
     "name": "stdout",
     "output_type": "stream",
     "text": [
      "18 286\n"
     ]
    },
    {
     "name": "stderr",
     "output_type": "stream",
     "text": [
      "C:\\Anaconda\\lib\\site-packages\\urllib3\\connectionpool.py:1061: InsecureRequestWarning: Unverified HTTPS request is being made to host 'regulondb.ccg.unam.mx'. Adding certificate verification is strongly advised. See: https://urllib3.readthedocs.io/en/1.26.x/advanced-usage.html#ssl-warnings\n",
      "  warnings.warn(\n"
     ]
    },
    {
     "name": "stdout",
     "output_type": "stream",
     "text": [
      "19 286\n"
     ]
    },
    {
     "name": "stderr",
     "output_type": "stream",
     "text": [
      "C:\\Anaconda\\lib\\site-packages\\urllib3\\connectionpool.py:1061: InsecureRequestWarning: Unverified HTTPS request is being made to host 'regulondb.ccg.unam.mx'. Adding certificate verification is strongly advised. See: https://urllib3.readthedocs.io/en/1.26.x/advanced-usage.html#ssl-warnings\n",
      "  warnings.warn(\n"
     ]
    },
    {
     "name": "stdout",
     "output_type": "stream",
     "text": [
      "20 286\n"
     ]
    },
    {
     "name": "stderr",
     "output_type": "stream",
     "text": [
      "C:\\Anaconda\\lib\\site-packages\\urllib3\\connectionpool.py:1061: InsecureRequestWarning: Unverified HTTPS request is being made to host 'regulondb.ccg.unam.mx'. Adding certificate verification is strongly advised. See: https://urllib3.readthedocs.io/en/1.26.x/advanced-usage.html#ssl-warnings\n",
      "  warnings.warn(\n"
     ]
    },
    {
     "name": "stdout",
     "output_type": "stream",
     "text": [
      "21 286\n"
     ]
    },
    {
     "name": "stderr",
     "output_type": "stream",
     "text": [
      "C:\\Anaconda\\lib\\site-packages\\urllib3\\connectionpool.py:1061: InsecureRequestWarning: Unverified HTTPS request is being made to host 'regulondb.ccg.unam.mx'. Adding certificate verification is strongly advised. See: https://urllib3.readthedocs.io/en/1.26.x/advanced-usage.html#ssl-warnings\n",
      "  warnings.warn(\n"
     ]
    },
    {
     "name": "stdout",
     "output_type": "stream",
     "text": [
      "22 286\n"
     ]
    },
    {
     "name": "stderr",
     "output_type": "stream",
     "text": [
      "C:\\Anaconda\\lib\\site-packages\\urllib3\\connectionpool.py:1061: InsecureRequestWarning: Unverified HTTPS request is being made to host 'regulondb.ccg.unam.mx'. Adding certificate verification is strongly advised. See: https://urllib3.readthedocs.io/en/1.26.x/advanced-usage.html#ssl-warnings\n",
      "  warnings.warn(\n"
     ]
    },
    {
     "name": "stdout",
     "output_type": "stream",
     "text": [
      "23 286\n"
     ]
    },
    {
     "name": "stderr",
     "output_type": "stream",
     "text": [
      "C:\\Anaconda\\lib\\site-packages\\urllib3\\connectionpool.py:1061: InsecureRequestWarning: Unverified HTTPS request is being made to host 'regulondb.ccg.unam.mx'. Adding certificate verification is strongly advised. See: https://urllib3.readthedocs.io/en/1.26.x/advanced-usage.html#ssl-warnings\n",
      "  warnings.warn(\n"
     ]
    },
    {
     "name": "stdout",
     "output_type": "stream",
     "text": [
      "24 286\n"
     ]
    },
    {
     "name": "stderr",
     "output_type": "stream",
     "text": [
      "C:\\Anaconda\\lib\\site-packages\\urllib3\\connectionpool.py:1061: InsecureRequestWarning: Unverified HTTPS request is being made to host 'regulondb.ccg.unam.mx'. Adding certificate verification is strongly advised. See: https://urllib3.readthedocs.io/en/1.26.x/advanced-usage.html#ssl-warnings\n",
      "  warnings.warn(\n"
     ]
    },
    {
     "name": "stdout",
     "output_type": "stream",
     "text": [
      "25 286\n"
     ]
    },
    {
     "name": "stderr",
     "output_type": "stream",
     "text": [
      "C:\\Anaconda\\lib\\site-packages\\urllib3\\connectionpool.py:1061: InsecureRequestWarning: Unverified HTTPS request is being made to host 'regulondb.ccg.unam.mx'. Adding certificate verification is strongly advised. See: https://urllib3.readthedocs.io/en/1.26.x/advanced-usage.html#ssl-warnings\n",
      "  warnings.warn(\n"
     ]
    },
    {
     "name": "stdout",
     "output_type": "stream",
     "text": [
      "26 286\n"
     ]
    },
    {
     "name": "stderr",
     "output_type": "stream",
     "text": [
      "C:\\Anaconda\\lib\\site-packages\\urllib3\\connectionpool.py:1061: InsecureRequestWarning: Unverified HTTPS request is being made to host 'regulondb.ccg.unam.mx'. Adding certificate verification is strongly advised. See: https://urllib3.readthedocs.io/en/1.26.x/advanced-usage.html#ssl-warnings\n",
      "  warnings.warn(\n"
     ]
    },
    {
     "name": "stdout",
     "output_type": "stream",
     "text": [
      "27 286\n"
     ]
    },
    {
     "name": "stderr",
     "output_type": "stream",
     "text": [
      "C:\\Anaconda\\lib\\site-packages\\urllib3\\connectionpool.py:1061: InsecureRequestWarning: Unverified HTTPS request is being made to host 'regulondb.ccg.unam.mx'. Adding certificate verification is strongly advised. See: https://urllib3.readthedocs.io/en/1.26.x/advanced-usage.html#ssl-warnings\n",
      "  warnings.warn(\n"
     ]
    },
    {
     "name": "stdout",
     "output_type": "stream",
     "text": [
      "28 286\n"
     ]
    },
    {
     "name": "stderr",
     "output_type": "stream",
     "text": [
      "C:\\Anaconda\\lib\\site-packages\\urllib3\\connectionpool.py:1061: InsecureRequestWarning: Unverified HTTPS request is being made to host 'regulondb.ccg.unam.mx'. Adding certificate verification is strongly advised. See: https://urllib3.readthedocs.io/en/1.26.x/advanced-usage.html#ssl-warnings\n",
      "  warnings.warn(\n"
     ]
    },
    {
     "name": "stdout",
     "output_type": "stream",
     "text": [
      "29 286\n"
     ]
    },
    {
     "name": "stderr",
     "output_type": "stream",
     "text": [
      "C:\\Anaconda\\lib\\site-packages\\urllib3\\connectionpool.py:1061: InsecureRequestWarning: Unverified HTTPS request is being made to host 'regulondb.ccg.unam.mx'. Adding certificate verification is strongly advised. See: https://urllib3.readthedocs.io/en/1.26.x/advanced-usage.html#ssl-warnings\n",
      "  warnings.warn(\n"
     ]
    },
    {
     "name": "stdout",
     "output_type": "stream",
     "text": [
      "30 286\n"
     ]
    },
    {
     "name": "stderr",
     "output_type": "stream",
     "text": [
      "C:\\Anaconda\\lib\\site-packages\\urllib3\\connectionpool.py:1061: InsecureRequestWarning: Unverified HTTPS request is being made to host 'regulondb.ccg.unam.mx'. Adding certificate verification is strongly advised. See: https://urllib3.readthedocs.io/en/1.26.x/advanced-usage.html#ssl-warnings\n",
      "  warnings.warn(\n"
     ]
    },
    {
     "name": "stdout",
     "output_type": "stream",
     "text": [
      "31 286\n"
     ]
    },
    {
     "name": "stderr",
     "output_type": "stream",
     "text": [
      "C:\\Anaconda\\lib\\site-packages\\urllib3\\connectionpool.py:1061: InsecureRequestWarning: Unverified HTTPS request is being made to host 'regulondb.ccg.unam.mx'. Adding certificate verification is strongly advised. See: https://urllib3.readthedocs.io/en/1.26.x/advanced-usage.html#ssl-warnings\n",
      "  warnings.warn(\n"
     ]
    },
    {
     "name": "stdout",
     "output_type": "stream",
     "text": [
      "32 286\n"
     ]
    },
    {
     "name": "stderr",
     "output_type": "stream",
     "text": [
      "C:\\Anaconda\\lib\\site-packages\\urllib3\\connectionpool.py:1061: InsecureRequestWarning: Unverified HTTPS request is being made to host 'regulondb.ccg.unam.mx'. Adding certificate verification is strongly advised. See: https://urllib3.readthedocs.io/en/1.26.x/advanced-usage.html#ssl-warnings\n",
      "  warnings.warn(\n"
     ]
    },
    {
     "name": "stdout",
     "output_type": "stream",
     "text": [
      "33 286\n"
     ]
    },
    {
     "name": "stderr",
     "output_type": "stream",
     "text": [
      "C:\\Anaconda\\lib\\site-packages\\urllib3\\connectionpool.py:1061: InsecureRequestWarning: Unverified HTTPS request is being made to host 'regulondb.ccg.unam.mx'. Adding certificate verification is strongly advised. See: https://urllib3.readthedocs.io/en/1.26.x/advanced-usage.html#ssl-warnings\n",
      "  warnings.warn(\n"
     ]
    },
    {
     "name": "stdout",
     "output_type": "stream",
     "text": [
      "34 286\n"
     ]
    },
    {
     "name": "stderr",
     "output_type": "stream",
     "text": [
      "C:\\Anaconda\\lib\\site-packages\\urllib3\\connectionpool.py:1061: InsecureRequestWarning: Unverified HTTPS request is being made to host 'regulondb.ccg.unam.mx'. Adding certificate verification is strongly advised. See: https://urllib3.readthedocs.io/en/1.26.x/advanced-usage.html#ssl-warnings\n",
      "  warnings.warn(\n"
     ]
    },
    {
     "name": "stdout",
     "output_type": "stream",
     "text": [
      "35 286\n"
     ]
    },
    {
     "name": "stderr",
     "output_type": "stream",
     "text": [
      "C:\\Anaconda\\lib\\site-packages\\urllib3\\connectionpool.py:1061: InsecureRequestWarning: Unverified HTTPS request is being made to host 'regulondb.ccg.unam.mx'. Adding certificate verification is strongly advised. See: https://urllib3.readthedocs.io/en/1.26.x/advanced-usage.html#ssl-warnings\n",
      "  warnings.warn(\n"
     ]
    },
    {
     "name": "stdout",
     "output_type": "stream",
     "text": [
      "36 286\n"
     ]
    },
    {
     "name": "stderr",
     "output_type": "stream",
     "text": [
      "C:\\Anaconda\\lib\\site-packages\\urllib3\\connectionpool.py:1061: InsecureRequestWarning: Unverified HTTPS request is being made to host 'regulondb.ccg.unam.mx'. Adding certificate verification is strongly advised. See: https://urllib3.readthedocs.io/en/1.26.x/advanced-usage.html#ssl-warnings\n",
      "  warnings.warn(\n"
     ]
    },
    {
     "name": "stdout",
     "output_type": "stream",
     "text": [
      "37 286\n"
     ]
    },
    {
     "name": "stderr",
     "output_type": "stream",
     "text": [
      "C:\\Anaconda\\lib\\site-packages\\urllib3\\connectionpool.py:1061: InsecureRequestWarning: Unverified HTTPS request is being made to host 'regulondb.ccg.unam.mx'. Adding certificate verification is strongly advised. See: https://urllib3.readthedocs.io/en/1.26.x/advanced-usage.html#ssl-warnings\n",
      "  warnings.warn(\n"
     ]
    },
    {
     "name": "stdout",
     "output_type": "stream",
     "text": [
      "38 286\n"
     ]
    },
    {
     "name": "stderr",
     "output_type": "stream",
     "text": [
      "C:\\Anaconda\\lib\\site-packages\\urllib3\\connectionpool.py:1061: InsecureRequestWarning: Unverified HTTPS request is being made to host 'regulondb.ccg.unam.mx'. Adding certificate verification is strongly advised. See: https://urllib3.readthedocs.io/en/1.26.x/advanced-usage.html#ssl-warnings\n",
      "  warnings.warn(\n"
     ]
    },
    {
     "name": "stdout",
     "output_type": "stream",
     "text": [
      "39 286\n"
     ]
    },
    {
     "name": "stderr",
     "output_type": "stream",
     "text": [
      "C:\\Anaconda\\lib\\site-packages\\urllib3\\connectionpool.py:1061: InsecureRequestWarning: Unverified HTTPS request is being made to host 'regulondb.ccg.unam.mx'. Adding certificate verification is strongly advised. See: https://urllib3.readthedocs.io/en/1.26.x/advanced-usage.html#ssl-warnings\n",
      "  warnings.warn(\n"
     ]
    },
    {
     "name": "stdout",
     "output_type": "stream",
     "text": [
      "40 286\n"
     ]
    },
    {
     "name": "stderr",
     "output_type": "stream",
     "text": [
      "C:\\Anaconda\\lib\\site-packages\\urllib3\\connectionpool.py:1061: InsecureRequestWarning: Unverified HTTPS request is being made to host 'regulondb.ccg.unam.mx'. Adding certificate verification is strongly advised. See: https://urllib3.readthedocs.io/en/1.26.x/advanced-usage.html#ssl-warnings\n",
      "  warnings.warn(\n"
     ]
    },
    {
     "name": "stdout",
     "output_type": "stream",
     "text": [
      "41 286\n"
     ]
    },
    {
     "name": "stderr",
     "output_type": "stream",
     "text": [
      "C:\\Anaconda\\lib\\site-packages\\urllib3\\connectionpool.py:1061: InsecureRequestWarning: Unverified HTTPS request is being made to host 'regulondb.ccg.unam.mx'. Adding certificate verification is strongly advised. See: https://urllib3.readthedocs.io/en/1.26.x/advanced-usage.html#ssl-warnings\n",
      "  warnings.warn(\n"
     ]
    },
    {
     "name": "stdout",
     "output_type": "stream",
     "text": [
      "42 286\n"
     ]
    },
    {
     "name": "stderr",
     "output_type": "stream",
     "text": [
      "C:\\Anaconda\\lib\\site-packages\\urllib3\\connectionpool.py:1061: InsecureRequestWarning: Unverified HTTPS request is being made to host 'regulondb.ccg.unam.mx'. Adding certificate verification is strongly advised. See: https://urllib3.readthedocs.io/en/1.26.x/advanced-usage.html#ssl-warnings\n",
      "  warnings.warn(\n"
     ]
    },
    {
     "name": "stdout",
     "output_type": "stream",
     "text": [
      "43 286\n"
     ]
    },
    {
     "name": "stderr",
     "output_type": "stream",
     "text": [
      "C:\\Anaconda\\lib\\site-packages\\urllib3\\connectionpool.py:1061: InsecureRequestWarning: Unverified HTTPS request is being made to host 'regulondb.ccg.unam.mx'. Adding certificate verification is strongly advised. See: https://urllib3.readthedocs.io/en/1.26.x/advanced-usage.html#ssl-warnings\n",
      "  warnings.warn(\n",
      "C:\\Anaconda\\lib\\site-packages\\urllib3\\connectionpool.py:1061: InsecureRequestWarning: Unverified HTTPS request is being made to host 'regulondb.ccg.unam.mx'. Adding certificate verification is strongly advised. See: https://urllib3.readthedocs.io/en/1.26.x/advanced-usage.html#ssl-warnings\n",
      "  warnings.warn(\n"
     ]
    },
    {
     "name": "stdout",
     "output_type": "stream",
     "text": [
      "44 286\n"
     ]
    },
    {
     "name": "stderr",
     "output_type": "stream",
     "text": [
      "C:\\Anaconda\\lib\\site-packages\\urllib3\\connectionpool.py:1061: InsecureRequestWarning: Unverified HTTPS request is being made to host 'regulondb.ccg.unam.mx'. Adding certificate verification is strongly advised. See: https://urllib3.readthedocs.io/en/1.26.x/advanced-usage.html#ssl-warnings\n",
      "  warnings.warn(\n"
     ]
    },
    {
     "name": "stdout",
     "output_type": "stream",
     "text": [
      "45 286\n"
     ]
    },
    {
     "name": "stderr",
     "output_type": "stream",
     "text": [
      "C:\\Anaconda\\lib\\site-packages\\urllib3\\connectionpool.py:1061: InsecureRequestWarning: Unverified HTTPS request is being made to host 'regulondb.ccg.unam.mx'. Adding certificate verification is strongly advised. See: https://urllib3.readthedocs.io/en/1.26.x/advanced-usage.html#ssl-warnings\n",
      "  warnings.warn(\n"
     ]
    },
    {
     "name": "stdout",
     "output_type": "stream",
     "text": [
      "46 286\n"
     ]
    },
    {
     "name": "stderr",
     "output_type": "stream",
     "text": [
      "C:\\Anaconda\\lib\\site-packages\\urllib3\\connectionpool.py:1061: InsecureRequestWarning: Unverified HTTPS request is being made to host 'regulondb.ccg.unam.mx'. Adding certificate verification is strongly advised. See: https://urllib3.readthedocs.io/en/1.26.x/advanced-usage.html#ssl-warnings\n",
      "  warnings.warn(\n"
     ]
    },
    {
     "name": "stdout",
     "output_type": "stream",
     "text": [
      "47 286\n"
     ]
    },
    {
     "name": "stderr",
     "output_type": "stream",
     "text": [
      "C:\\Anaconda\\lib\\site-packages\\urllib3\\connectionpool.py:1061: InsecureRequestWarning: Unverified HTTPS request is being made to host 'regulondb.ccg.unam.mx'. Adding certificate verification is strongly advised. See: https://urllib3.readthedocs.io/en/1.26.x/advanced-usage.html#ssl-warnings\n",
      "  warnings.warn(\n"
     ]
    },
    {
     "name": "stdout",
     "output_type": "stream",
     "text": [
      "48 286\n"
     ]
    },
    {
     "name": "stderr",
     "output_type": "stream",
     "text": [
      "C:\\Anaconda\\lib\\site-packages\\urllib3\\connectionpool.py:1061: InsecureRequestWarning: Unverified HTTPS request is being made to host 'regulondb.ccg.unam.mx'. Adding certificate verification is strongly advised. See: https://urllib3.readthedocs.io/en/1.26.x/advanced-usage.html#ssl-warnings\n",
      "  warnings.warn(\n"
     ]
    },
    {
     "name": "stdout",
     "output_type": "stream",
     "text": [
      "49 286\n"
     ]
    },
    {
     "name": "stderr",
     "output_type": "stream",
     "text": [
      "C:\\Anaconda\\lib\\site-packages\\urllib3\\connectionpool.py:1061: InsecureRequestWarning: Unverified HTTPS request is being made to host 'regulondb.ccg.unam.mx'. Adding certificate verification is strongly advised. See: https://urllib3.readthedocs.io/en/1.26.x/advanced-usage.html#ssl-warnings\n",
      "  warnings.warn(\n"
     ]
    },
    {
     "name": "stdout",
     "output_type": "stream",
     "text": [
      "50 286\n"
     ]
    },
    {
     "name": "stderr",
     "output_type": "stream",
     "text": [
      "C:\\Anaconda\\lib\\site-packages\\urllib3\\connectionpool.py:1061: InsecureRequestWarning: Unverified HTTPS request is being made to host 'regulondb.ccg.unam.mx'. Adding certificate verification is strongly advised. See: https://urllib3.readthedocs.io/en/1.26.x/advanced-usage.html#ssl-warnings\n",
      "  warnings.warn(\n"
     ]
    },
    {
     "name": "stdout",
     "output_type": "stream",
     "text": [
      "51 286\n"
     ]
    },
    {
     "name": "stderr",
     "output_type": "stream",
     "text": [
      "C:\\Anaconda\\lib\\site-packages\\urllib3\\connectionpool.py:1061: InsecureRequestWarning: Unverified HTTPS request is being made to host 'regulondb.ccg.unam.mx'. Adding certificate verification is strongly advised. See: https://urllib3.readthedocs.io/en/1.26.x/advanced-usage.html#ssl-warnings\n",
      "  warnings.warn(\n"
     ]
    },
    {
     "name": "stdout",
     "output_type": "stream",
     "text": [
      "52 286\n"
     ]
    },
    {
     "name": "stderr",
     "output_type": "stream",
     "text": [
      "C:\\Anaconda\\lib\\site-packages\\urllib3\\connectionpool.py:1061: InsecureRequestWarning: Unverified HTTPS request is being made to host 'regulondb.ccg.unam.mx'. Adding certificate verification is strongly advised. See: https://urllib3.readthedocs.io/en/1.26.x/advanced-usage.html#ssl-warnings\n",
      "  warnings.warn(\n",
      "C:\\Anaconda\\lib\\site-packages\\urllib3\\connectionpool.py:1061: InsecureRequestWarning: Unverified HTTPS request is being made to host 'regulondb.ccg.unam.mx'. Adding certificate verification is strongly advised. See: https://urllib3.readthedocs.io/en/1.26.x/advanced-usage.html#ssl-warnings\n",
      "  warnings.warn(\n"
     ]
    },
    {
     "name": "stdout",
     "output_type": "stream",
     "text": [
      "53 286\n"
     ]
    },
    {
     "name": "stderr",
     "output_type": "stream",
     "text": [
      "C:\\Anaconda\\lib\\site-packages\\urllib3\\connectionpool.py:1061: InsecureRequestWarning: Unverified HTTPS request is being made to host 'regulondb.ccg.unam.mx'. Adding certificate verification is strongly advised. See: https://urllib3.readthedocs.io/en/1.26.x/advanced-usage.html#ssl-warnings\n",
      "  warnings.warn(\n"
     ]
    },
    {
     "name": "stdout",
     "output_type": "stream",
     "text": [
      "54 286\n"
     ]
    },
    {
     "name": "stderr",
     "output_type": "stream",
     "text": [
      "C:\\Anaconda\\lib\\site-packages\\urllib3\\connectionpool.py:1061: InsecureRequestWarning: Unverified HTTPS request is being made to host 'regulondb.ccg.unam.mx'. Adding certificate verification is strongly advised. See: https://urllib3.readthedocs.io/en/1.26.x/advanced-usage.html#ssl-warnings\n",
      "  warnings.warn(\n"
     ]
    },
    {
     "name": "stdout",
     "output_type": "stream",
     "text": [
      "55 286\n"
     ]
    },
    {
     "name": "stderr",
     "output_type": "stream",
     "text": [
      "C:\\Anaconda\\lib\\site-packages\\urllib3\\connectionpool.py:1061: InsecureRequestWarning: Unverified HTTPS request is being made to host 'regulondb.ccg.unam.mx'. Adding certificate verification is strongly advised. See: https://urllib3.readthedocs.io/en/1.26.x/advanced-usage.html#ssl-warnings\n",
      "  warnings.warn(\n"
     ]
    },
    {
     "name": "stdout",
     "output_type": "stream",
     "text": [
      "56 286\n"
     ]
    },
    {
     "name": "stderr",
     "output_type": "stream",
     "text": [
      "C:\\Anaconda\\lib\\site-packages\\urllib3\\connectionpool.py:1061: InsecureRequestWarning: Unverified HTTPS request is being made to host 'regulondb.ccg.unam.mx'. Adding certificate verification is strongly advised. See: https://urllib3.readthedocs.io/en/1.26.x/advanced-usage.html#ssl-warnings\n",
      "  warnings.warn(\n"
     ]
    },
    {
     "name": "stdout",
     "output_type": "stream",
     "text": [
      "57 286\n"
     ]
    },
    {
     "name": "stderr",
     "output_type": "stream",
     "text": [
      "C:\\Anaconda\\lib\\site-packages\\urllib3\\connectionpool.py:1061: InsecureRequestWarning: Unverified HTTPS request is being made to host 'regulondb.ccg.unam.mx'. Adding certificate verification is strongly advised. See: https://urllib3.readthedocs.io/en/1.26.x/advanced-usage.html#ssl-warnings\n",
      "  warnings.warn(\n"
     ]
    },
    {
     "name": "stdout",
     "output_type": "stream",
     "text": [
      "58 286\n"
     ]
    },
    {
     "name": "stderr",
     "output_type": "stream",
     "text": [
      "C:\\Anaconda\\lib\\site-packages\\urllib3\\connectionpool.py:1061: InsecureRequestWarning: Unverified HTTPS request is being made to host 'regulondb.ccg.unam.mx'. Adding certificate verification is strongly advised. See: https://urllib3.readthedocs.io/en/1.26.x/advanced-usage.html#ssl-warnings\n",
      "  warnings.warn(\n"
     ]
    },
    {
     "name": "stdout",
     "output_type": "stream",
     "text": [
      "59 286\n"
     ]
    },
    {
     "name": "stderr",
     "output_type": "stream",
     "text": [
      "C:\\Anaconda\\lib\\site-packages\\urllib3\\connectionpool.py:1061: InsecureRequestWarning: Unverified HTTPS request is being made to host 'regulondb.ccg.unam.mx'. Adding certificate verification is strongly advised. See: https://urllib3.readthedocs.io/en/1.26.x/advanced-usage.html#ssl-warnings\n",
      "  warnings.warn(\n"
     ]
    }
   ],
   "source": [
    "### beschreibung / label\n",
    "regulon_data = {}\n",
    "i = 0\n",
    "for key, value in regulon_links.items():\n",
    "    regulon_data[key] = {\"beschreibung\" : None, \"left_position\" : None, \"right_position\" : None, \"strand_orientation\" : None}\n",
    "    data = get_regulon_data(value.split(\"/\")[-1])\n",
    "\n",
    "    beschreibung = data[\"data\"][\"getRegulonBy\"][\"data\"][0][\"regulator\"][\"note\"]\n",
    "    beschreibung_clean = \"\".join(\".\".join(beschreibung.split(\". \")[:2]).split(\"|\")[::2]).replace(\" . \", \". \")[:-1]\n",
    "    beschreibung_clean += \".\"\n",
    "    regulon_data[key][\"beschreibung\"] = beschreibung_clean\n",
    "    \n",
    "    regulon_data[key][\"left_position\"] = data[\"data\"]['getRegulonBy']['data'][0][\"regulator\"][\"encodedBy\"][\"genes\"][0][\"leftEndPosition\"]\n",
    "    regulon_data[key][\"right_position\"] = data[\"data\"]['getRegulonBy']['data'][0][\"regulator\"][\"encodedBy\"][\"genes\"][0][\"rightEndPosition\"]\n",
    "    if left_position > right_position:\n",
    "        regulon_data[key][\"strand_orientation\"] = \"Q22809680\" # forward strand\n",
    "    else:\n",
    "        regulon_data[key][\"strand_orientation\"] = \"Q22809711\" # reverse strand\n",
    "    i += 1\n",
    "    print(i, len(regulon_links.values()))"
   ]
  },
  {
   "cell_type": "code",
   "execution_count": null,
   "id": "08ba565a",
   "metadata": {},
   "outputs": [],
   "source": [
    "with open('regulon_beschreibung_etc.pickle', 'wb') as handle:\n",
    "    pickle.dump(regulon_data, handle, protocol=pickle.HIGHEST_PROTOCOL)"
   ]
  },
  {
   "cell_type": "code",
   "execution_count": null,
   "id": "baf5e411",
   "metadata": {},
   "outputs": [],
   "source": [
    "with open('regulon_beschreibung_etc.pickle', 'rb') as handle:\n",
    "    regulon_data = pickle.load(handle)"
   ]
  },
  {
   "cell_type": "code",
   "execution_count": null,
   "id": "7db4399f",
   "metadata": {},
   "outputs": [],
   "source": []
  },
  {
   "cell_type": "code",
   "execution_count": null,
   "id": "926ffb01",
   "metadata": {},
   "outputs": [],
   "source": []
  },
  {
   "cell_type": "code",
   "execution_count": null,
   "id": "0dd7f758",
   "metadata": {},
   "outputs": [],
   "source": []
  },
  {
   "cell_type": "code",
   "execution_count": null,
   "id": "587d2087",
   "metadata": {},
   "outputs": [],
   "source": []
  },
  {
   "cell_type": "code",
   "execution_count": null,
   "id": "35249711",
   "metadata": {},
   "outputs": [],
   "source": []
  },
  {
   "cell_type": "code",
   "execution_count": null,
   "id": "bc6ac068",
   "metadata": {},
   "outputs": [],
   "source": []
  },
  {
   "cell_type": "code",
   "execution_count": null,
   "id": "36bf2c61",
   "metadata": {},
   "outputs": [],
   "source": []
  },
  {
   "cell_type": "code",
   "execution_count": null,
   "id": "40eb87d5",
   "metadata": {},
   "outputs": [],
   "source": []
  },
  {
   "cell_type": "code",
   "execution_count": null,
   "id": "20e65eb6",
   "metadata": {},
   "outputs": [],
   "source": []
  }
 ],
 "metadata": {
  "kernelspec": {
   "display_name": "Python 3 (ipykernel)",
   "language": "python",
   "name": "python3"
  },
  "language_info": {
   "codemirror_mode": {
    "name": "ipython",
    "version": 3
   },
   "file_extension": ".py",
   "mimetype": "text/x-python",
   "name": "python",
   "nbconvert_exporter": "python",
   "pygments_lexer": "ipython3",
   "version": "3.10.9"
  }
 },
 "nbformat": 4,
 "nbformat_minor": 5
}
