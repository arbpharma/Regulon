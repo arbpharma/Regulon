{
 "cells": [
  {
   "cell_type": "code",
   "execution_count": 1,
   "id": "156cb445",
   "metadata": {},
   "outputs": [
    {
     "data": {
      "text/html": [
       "<style>.container { width:100% !important; }</style>"
      ],
      "text/plain": [
       "<IPython.core.display.HTML object>"
      ]
     },
     "metadata": {},
     "output_type": "display_data"
    }
   ],
   "source": [
    "import pandas as pd\n",
    "import numpy as np\n",
    "import requests as re\n",
    "import json\n",
    "from IPython.display import display, HTML\n",
    "display(HTML(\"<style>.container { width:100% !important; }</style>\"))"
   ]
  },
  {
   "cell_type": "code",
   "execution_count": 2,
   "id": "1873af98",
   "metadata": {},
   "outputs": [],
   "source": [
    "df = pd.read_csv(\"regulons+identifiers.csv\")"
   ]
  },
  {
   "cell_type": "code",
   "execution_count": 12,
   "id": "e7aa23a9",
   "metadata": {},
   "outputs": [],
   "source": [
    "base_url = \"https://www.wikidata.org/w/rest.php/wikibase/v0\"\n",
    "request_item_by_id = \"/entities/items/\""
   ]
  },
  {
   "cell_type": "code",
   "execution_count": 13,
   "id": "6a22d97c",
   "metadata": {},
   "outputs": [],
   "source": [
    "dumpy = re.get(base_url + request_item_by_id + \"Q6776585\").json()"
   ]
  },
  {
   "cell_type": "code",
   "execution_count": 14,
   "id": "fc216c3d",
   "metadata": {},
   "outputs": [],
   "source": [
    "label = \"ExuR\"\n",
    "data = re.get(f\"https://www.wikidata.org/w/api.php?action=wbsearchentities&search={label}&language=en&format=json\").json()"
   ]
  },
  {
   "cell_type": "code",
   "execution_count": 24,
   "id": "cc17a566",
   "metadata": {},
   "outputs": [
    {
     "data": {
      "text/plain": [
       "{'id': 'Q23152600',\n",
       " 'title': 'Q23152600',\n",
       " 'pageid': 25163236,\n",
       " 'display': {'label': {'value': 'DNA-binding transcriptional repressor ECUMN_3578',\n",
       "   'language': 'en'},\n",
       "  'description': {'value': 'microbial gene found in Escherichia coli UMN026',\n",
       "   'language': 'en'}},\n",
       " 'repository': 'wikidata',\n",
       " 'url': '//www.wikidata.org/wiki/Q23152600',\n",
       " 'concepturi': 'http://www.wikidata.org/entity/Q23152600',\n",
       " 'label': 'DNA-binding transcriptional repressor ECUMN_3578',\n",
       " 'description': 'microbial gene found in Escherichia coli UMN026',\n",
       " 'match': {'type': 'alias', 'language': 'en', 'text': 'exuR'},\n",
       " 'aliases': ['exuR']}"
      ]
     },
     "execution_count": 24,
     "metadata": {},
     "output_type": "execute_result"
    }
   ],
   "source": [
    "data[\"search\"][0]"
   ]
  },
  {
   "cell_type": "code",
   "execution_count": null,
   "id": "17165418",
   "metadata": {},
   "outputs": [],
   "source": [
    "# nach der wikidata id suchen anhand der namen der regulons und der otherdbsgeneids"
   ]
  },
  {
   "cell_type": "code",
   "execution_count": 6,
   "id": "c493c610",
   "metadata": {},
   "outputs": [],
   "source": [
    "def get_regulon_id_by_label_geneid(label, otherDbsGeneIds):\n",
    "    otherDbsGeneIds = pd.Series(otherDbsGeneIds.split(\"]\")).str[1:][:-1].str.split(\":\").str[1]\n",
    "    responses = re.get(f\"https://www.wikidata.org/w/api.php?action=wbsearchentities&search={label.lower()}&language=en&format=json\").json()\n",
    "    for response in responses[\"search\"]:\n",
    "        for otherDbsGeneId in otherDbsGeneIds:\n",
    "            if response[\"label\"].split(\" \")[-1].lower() == otherDbsGeneId.lower():\n",
    "                return response[\"id\"].lower()"
   ]
  },
  {
   "cell_type": "code",
   "execution_count": 7,
   "id": "05afd883",
   "metadata": {},
   "outputs": [],
   "source": [
    "df[\"wikidata_ids\"] = np.nan"
   ]
  },
  {
   "cell_type": "code",
   "execution_count": 8,
   "id": "e8c02e14",
   "metadata": {},
   "outputs": [],
   "source": [
    "for i in range(0, len(df.index)):\n",
    "    df.loc[i, \"wikidata_ids\"] = get_regulon_id_by_label_geneid(df.iloc[i][\"regulon_name\"], df.iloc[i][\"otherDbsGeneIds\"])"
   ]
  },
  {
   "cell_type": "code",
   "execution_count": 9,
   "id": "22115950",
   "metadata": {},
   "outputs": [
    {
     "data": {
      "text/plain": [
       "151"
      ]
     },
     "execution_count": 9,
     "metadata": {},
     "output_type": "execute_result"
    }
   ],
   "source": [
    "len(df[\"wikidata_ids\"].unique())"
   ]
  },
  {
   "cell_type": "code",
   "execution_count": 10,
   "id": "9abda5a5",
   "metadata": {},
   "outputs": [
    {
     "data": {
      "text/plain": [
       "265"
      ]
     },
     "execution_count": 10,
     "metadata": {},
     "output_type": "execute_result"
    }
   ],
   "source": [
    "len(df.index)"
   ]
  },
  {
   "cell_type": "code",
   "execution_count": 11,
   "id": "31d653e9",
   "metadata": {},
   "outputs": [],
   "source": [
    "not_in_wikidata = df[df[\"wikidata_ids\"] != df[\"wikidata_ids\"]].reset_index(drop = True)"
   ]
  },
  {
   "cell_type": "code",
   "execution_count": 12,
   "id": "5a29b4b4",
   "metadata": {},
   "outputs": [
    {
     "data": {
      "text/html": [
       "<div>\n",
       "<style scoped>\n",
       "    .dataframe tbody tr th:only-of-type {\n",
       "        vertical-align: middle;\n",
       "    }\n",
       "\n",
       "    .dataframe tbody tr th {\n",
       "        vertical-align: top;\n",
       "    }\n",
       "\n",
       "    .dataframe thead th {\n",
       "        text-align: right;\n",
       "    }\n",
       "</style>\n",
       "<table border=\"1\" class=\"dataframe\">\n",
       "  <thead>\n",
       "    <tr style=\"text-align: right;\">\n",
       "      <th></th>\n",
       "      <th>regulon_name</th>\n",
       "      <th>regulated_genes</th>\n",
       "      <th>regulated_operon</th>\n",
       "      <th>regulated_tu</th>\n",
       "      <th>total_of_regulatory_interaction</th>\n",
       "      <th>total_of_binding_sites</th>\n",
       "      <th>geneId</th>\n",
       "      <th>leftEndPos</th>\n",
       "      <th>rightEndPos</th>\n",
       "      <th>strand</th>\n",
       "      <th>geneSynonyms</th>\n",
       "      <th>otherDbsGeneIds</th>\n",
       "      <th>productId</th>\n",
       "      <th>productName</th>\n",
       "      <th>productSynonyms</th>\n",
       "      <th>otherDbsProductsIds</th>\n",
       "      <th>wikidata_ids</th>\n",
       "    </tr>\n",
       "  </thead>\n",
       "  <tbody>\n",
       "    <tr>\n",
       "      <th>0</th>\n",
       "      <td>asnc</td>\n",
       "      <td>4</td>\n",
       "      <td>2</td>\n",
       "      <td>4</td>\n",
       "      <td>8</td>\n",
       "      <td>8</td>\n",
       "      <td>RDBECOLIGNC00089</td>\n",
       "      <td>3926545.0</td>\n",
       "      <td>3927003.0</td>\n",
       "      <td>reverse</td>\n",
       "      <td>EG10093</td>\n",
       "      <td>[STRING:511145.b3743][ASAP:ABE-0012237][ECHOBA...</td>\n",
       "      <td>RDBECOLIPDC03932</td>\n",
       "      <td>DNA-binding transcriptional dual regulator AsnC</td>\n",
       "      <td>AsnC</td>\n",
       "      <td>[ALPHAFOLD:P0ACI6][PFAM:PF01037][INTERPRO:IPR0...</td>\n",
       "      <td>None</td>\n",
       "    </tr>\n",
       "    <tr>\n",
       "      <th>1</th>\n",
       "      <td>agar</td>\n",
       "      <td>11</td>\n",
       "      <td>3</td>\n",
       "      <td>3</td>\n",
       "      <td>11</td>\n",
       "      <td>11</td>\n",
       "      <td>RDBECOLIGNC04427</td>\n",
       "      <td>3277856.0</td>\n",
       "      <td>3278665.0</td>\n",
       "      <td>reverse</td>\n",
       "      <td>yhaW,G7630</td>\n",
       "      <td>[STRING:511145.b3131][ASAP:ABE-0010291][ECHOBA...</td>\n",
       "      <td>RDBECOLIPDC03014</td>\n",
       "      <td>DNA-binding transcriptional repressor AgaR</td>\n",
       "      <td>YhaW,AgaR</td>\n",
       "      <td>[ALPHAFOLD:P0ACK2][INTERPRO:IPR014036][PFAM:PF...</td>\n",
       "      <td>None</td>\n",
       "    </tr>\n",
       "    <tr>\n",
       "      <th>2</th>\n",
       "      <td>atoc</td>\n",
       "      <td>4</td>\n",
       "      <td>1</td>\n",
       "      <td>1</td>\n",
       "      <td>2</td>\n",
       "      <td>2</td>\n",
       "      <td>RDBECOLIGNC01609</td>\n",
       "      <td>2321866.0</td>\n",
       "      <td>2323251.0</td>\n",
       "      <td>forward</td>\n",
       "      <td>EG11668</td>\n",
       "      <td>[STRING:511145.b2220][ASAP:ABE-0007343][ECHOBA...</td>\n",
       "      <td>RDBECOLIPDC00142</td>\n",
       "      <td>DNA-binding transcriptional activator/ornithin...</td>\n",
       "      <td>AtoC,AtoC response regulator,AtoC transcriptio...</td>\n",
       "      <td>[ALPHAFOLD:Q06065][REFSEQ:NP_416724][PFAM:PF02...</td>\n",
       "      <td>None</td>\n",
       "    </tr>\n",
       "    <tr>\n",
       "      <th>3</th>\n",
       "      <td>narl</td>\n",
       "      <td>125</td>\n",
       "      <td>34</td>\n",
       "      <td>44</td>\n",
       "      <td>127</td>\n",
       "      <td>97</td>\n",
       "      <td>RDBECOLIGNC00635</td>\n",
       "      <td>1275179.0</td>\n",
       "      <td>1275829.0</td>\n",
       "      <td>reverse</td>\n",
       "      <td>frdR,narR,EG10643</td>\n",
       "      <td>[STRING:511145.b1221][ASAP:ABE-0004097][ECHOBA...</td>\n",
       "      <td>RDBECOLIPDC03848</td>\n",
       "      <td>DNA-binding transcriptional dual regulator NarL</td>\n",
       "      <td>NarR,NarL,nitrate/nitrite response regulator N...</td>\n",
       "      <td>[ALPHAFOLD:P0AF28][REFSEQ:NP_415739][INTERPRO:...</td>\n",
       "      <td>None</td>\n",
       "    </tr>\n",
       "    <tr>\n",
       "      <th>4</th>\n",
       "      <td>fliz</td>\n",
       "      <td>22</td>\n",
       "      <td>9</td>\n",
       "      <td>17</td>\n",
       "      <td>18</td>\n",
       "      <td>10</td>\n",
       "      <td>RDBECOLIGNC01324</td>\n",
       "      <td>2000473.0</td>\n",
       "      <td>2001024.0</td>\n",
       "      <td>reverse</td>\n",
       "      <td>yedH,EG11356</td>\n",
       "      <td>[STRING:511145.b1921][ASAP:ABE-0006394][ECHOBA...</td>\n",
       "      <td>RDBECOLIPDC00981</td>\n",
       "      <td>DNA-binding transcriptional regulator FliZ</td>\n",
       "      <td>YedH,FliZ</td>\n",
       "      <td>[ALPHAFOLD:P52627][PFAM:PF02899][INTERPRO:IPR0...</td>\n",
       "      <td>None</td>\n",
       "    </tr>\n",
       "    <tr>\n",
       "      <th>...</th>\n",
       "      <td>...</td>\n",
       "      <td>...</td>\n",
       "      <td>...</td>\n",
       "      <td>...</td>\n",
       "      <td>...</td>\n",
       "      <td>...</td>\n",
       "      <td>...</td>\n",
       "      <td>...</td>\n",
       "      <td>...</td>\n",
       "      <td>...</td>\n",
       "      <td>...</td>\n",
       "      <td>...</td>\n",
       "      <td>...</td>\n",
       "      <td>...</td>\n",
       "      <td>...</td>\n",
       "      <td>...</td>\n",
       "      <td>...</td>\n",
       "    </tr>\n",
       "    <tr>\n",
       "      <th>110</th>\n",
       "      <td>fimr2</td>\n",
       "      <td>5</td>\n",
       "      <td>0</td>\n",
       "      <td>0</td>\n",
       "      <td>5</td>\n",
       "      <td>5</td>\n",
       "      <td>RDBECOLIGNC04739</td>\n",
       "      <td>4543674.0</td>\n",
       "      <td>4543708.0</td>\n",
       "      <td>forward</td>\n",
       "      <td>G0-17115</td>\n",
       "      <td>[ECOCYC:G0-17115][REFSEQ:b4838]</td>\n",
       "      <td>RDBECOLIPDC04657</td>\n",
       "      <td>small regulatory RNA FimR2</td>\n",
       "      <td>FimR2,sRNA_35</td>\n",
       "      <td>[ECOCYC:RNA0-432]</td>\n",
       "      <td>None</td>\n",
       "    </tr>\n",
       "    <tr>\n",
       "      <th>111</th>\n",
       "      <td>glnz</td>\n",
       "      <td>2</td>\n",
       "      <td>0</td>\n",
       "      <td>0</td>\n",
       "      <td>2</td>\n",
       "      <td>2</td>\n",
       "      <td>RDBECOLIGNC04740</td>\n",
       "      <td>4056428.0</td>\n",
       "      <td>4056621.0</td>\n",
       "      <td>reverse</td>\n",
       "      <td>G0-17117</td>\n",
       "      <td>[ECOCYC:G0-17117][REFSEQ:b4836]</td>\n",
       "      <td>RDBECOLIPDC04658</td>\n",
       "      <td>small regulatory RNA GlnZ</td>\n",
       "      <td>glnA 3&lt;sup&gt;A&lt;/sup&gt; UTR,GlnZ</td>\n",
       "      <td>[ECOCYC:RNA0-434]</td>\n",
       "      <td>None</td>\n",
       "    </tr>\n",
       "    <tr>\n",
       "      <th>112</th>\n",
       "      <td>asflhd</td>\n",
       "      <td>1</td>\n",
       "      <td>0</td>\n",
       "      <td>0</td>\n",
       "      <td>1</td>\n",
       "      <td>1</td>\n",
       "      <td>RDBECOLIGNC04741</td>\n",
       "      <td>1978176.0</td>\n",
       "      <td>1978395.0</td>\n",
       "      <td>forward</td>\n",
       "      <td>G0-17119</td>\n",
       "      <td>[ECOCYC:G0-17119][REFSEQ:b4839]</td>\n",
       "      <td>RDBECOLIPDC04659</td>\n",
       "      <td>small antisense RNA AsflhD</td>\n",
       "      <td>AsflhD</td>\n",
       "      <td>[ECOCYC:RNA0-435]</td>\n",
       "      <td>None</td>\n",
       "    </tr>\n",
       "    <tr>\n",
       "      <th>113</th>\n",
       "      <td>stfz</td>\n",
       "      <td>1</td>\n",
       "      <td>0</td>\n",
       "      <td>0</td>\n",
       "      <td>1</td>\n",
       "      <td>1</td>\n",
       "      <td>RDBECOLIGNC04742</td>\n",
       "      <td>104948.0</td>\n",
       "      <td>105499.0</td>\n",
       "      <td>reverse</td>\n",
       "      <td>G0-17120</td>\n",
       "      <td>[ECOCYC:G0-17120][REFSEQ:b4840]</td>\n",
       "      <td>RDBECOLIPDC04660</td>\n",
       "      <td>small antisense RNA StfZ</td>\n",
       "      <td>StfZ</td>\n",
       "      <td>[ECOCYC:RNA0-436]</td>\n",
       "      <td>None</td>\n",
       "    </tr>\n",
       "    <tr>\n",
       "      <th>114</th>\n",
       "      <td>amef</td>\n",
       "      <td>2</td>\n",
       "      <td>0</td>\n",
       "      <td>0</td>\n",
       "      <td>1</td>\n",
       "      <td>1</td>\n",
       "      <td>RDBECOLIGNC04746</td>\n",
       "      <td>2911051.0</td>\n",
       "      <td>2911450.0</td>\n",
       "      <td>forward</td>\n",
       "      <td>G0-17125</td>\n",
       "      <td>[ECOCYC:G0-17125][REFSEQ:b4844]</td>\n",
       "      <td>RDBECOLIPDC04664</td>\n",
       "      <td>small antisense RNA aMEF</td>\n",
       "      <td>aMEF</td>\n",
       "      <td>[ECOCYC:RNA0-440]</td>\n",
       "      <td>None</td>\n",
       "    </tr>\n",
       "  </tbody>\n",
       "</table>\n",
       "<p>115 rows × 17 columns</p>\n",
       "</div>"
      ],
      "text/plain": [
       "    regulon_name  regulated_genes  regulated_operon  regulated_tu  \\\n",
       "0           asnc                4                 2             4   \n",
       "1           agar               11                 3             3   \n",
       "2           atoc                4                 1             1   \n",
       "3           narl              125                34            44   \n",
       "4           fliz               22                 9            17   \n",
       "..           ...              ...               ...           ...   \n",
       "110        fimr2                5                 0             0   \n",
       "111         glnz                2                 0             0   \n",
       "112       asflhd                1                 0             0   \n",
       "113         stfz                1                 0             0   \n",
       "114         amef                2                 0             0   \n",
       "\n",
       "     total_of_regulatory_interaction  total_of_binding_sites  \\\n",
       "0                                  8                       8   \n",
       "1                                 11                      11   \n",
       "2                                  2                       2   \n",
       "3                                127                      97   \n",
       "4                                 18                      10   \n",
       "..                               ...                     ...   \n",
       "110                                5                       5   \n",
       "111                                2                       2   \n",
       "112                                1                       1   \n",
       "113                                1                       1   \n",
       "114                                1                       1   \n",
       "\n",
       "               geneId  leftEndPos  rightEndPos   strand       geneSynonyms  \\\n",
       "0    RDBECOLIGNC00089   3926545.0    3927003.0  reverse            EG10093   \n",
       "1    RDBECOLIGNC04427   3277856.0    3278665.0  reverse         yhaW,G7630   \n",
       "2    RDBECOLIGNC01609   2321866.0    2323251.0  forward            EG11668   \n",
       "3    RDBECOLIGNC00635   1275179.0    1275829.0  reverse  frdR,narR,EG10643   \n",
       "4    RDBECOLIGNC01324   2000473.0    2001024.0  reverse       yedH,EG11356   \n",
       "..                ...         ...          ...      ...                ...   \n",
       "110  RDBECOLIGNC04739   4543674.0    4543708.0  forward           G0-17115   \n",
       "111  RDBECOLIGNC04740   4056428.0    4056621.0  reverse           G0-17117   \n",
       "112  RDBECOLIGNC04741   1978176.0    1978395.0  forward           G0-17119   \n",
       "113  RDBECOLIGNC04742    104948.0     105499.0  reverse           G0-17120   \n",
       "114  RDBECOLIGNC04746   2911051.0    2911450.0  forward           G0-17125   \n",
       "\n",
       "                                       otherDbsGeneIds         productId  \\\n",
       "0    [STRING:511145.b3743][ASAP:ABE-0012237][ECHOBA...  RDBECOLIPDC03932   \n",
       "1    [STRING:511145.b3131][ASAP:ABE-0010291][ECHOBA...  RDBECOLIPDC03014   \n",
       "2    [STRING:511145.b2220][ASAP:ABE-0007343][ECHOBA...  RDBECOLIPDC00142   \n",
       "3    [STRING:511145.b1221][ASAP:ABE-0004097][ECHOBA...  RDBECOLIPDC03848   \n",
       "4    [STRING:511145.b1921][ASAP:ABE-0006394][ECHOBA...  RDBECOLIPDC00981   \n",
       "..                                                 ...               ...   \n",
       "110                    [ECOCYC:G0-17115][REFSEQ:b4838]  RDBECOLIPDC04657   \n",
       "111                    [ECOCYC:G0-17117][REFSEQ:b4836]  RDBECOLIPDC04658   \n",
       "112                    [ECOCYC:G0-17119][REFSEQ:b4839]  RDBECOLIPDC04659   \n",
       "113                    [ECOCYC:G0-17120][REFSEQ:b4840]  RDBECOLIPDC04660   \n",
       "114                    [ECOCYC:G0-17125][REFSEQ:b4844]  RDBECOLIPDC04664   \n",
       "\n",
       "                                           productName  \\\n",
       "0      DNA-binding transcriptional dual regulator AsnC   \n",
       "1           DNA-binding transcriptional repressor AgaR   \n",
       "2    DNA-binding transcriptional activator/ornithin...   \n",
       "3      DNA-binding transcriptional dual regulator NarL   \n",
       "4           DNA-binding transcriptional regulator FliZ   \n",
       "..                                                 ...   \n",
       "110                         small regulatory RNA FimR2   \n",
       "111                          small regulatory RNA GlnZ   \n",
       "112                         small antisense RNA AsflhD   \n",
       "113                           small antisense RNA StfZ   \n",
       "114                           small antisense RNA aMEF   \n",
       "\n",
       "                                       productSynonyms  \\\n",
       "0                                                 AsnC   \n",
       "1                                            YhaW,AgaR   \n",
       "2    AtoC,AtoC response regulator,AtoC transcriptio...   \n",
       "3    NarR,NarL,nitrate/nitrite response regulator N...   \n",
       "4                                            YedH,FliZ   \n",
       "..                                                 ...   \n",
       "110                                      FimR2,sRNA_35   \n",
       "111                        glnA 3<sup>A</sup> UTR,GlnZ   \n",
       "112                                             AsflhD   \n",
       "113                                               StfZ   \n",
       "114                                               aMEF   \n",
       "\n",
       "                                  otherDbsProductsIds  wikidata_ids  \n",
       "0    [ALPHAFOLD:P0ACI6][PFAM:PF01037][INTERPRO:IPR0...         None  \n",
       "1    [ALPHAFOLD:P0ACK2][INTERPRO:IPR014036][PFAM:PF...         None  \n",
       "2    [ALPHAFOLD:Q06065][REFSEQ:NP_416724][PFAM:PF02...         None  \n",
       "3    [ALPHAFOLD:P0AF28][REFSEQ:NP_415739][INTERPRO:...         None  \n",
       "4    [ALPHAFOLD:P52627][PFAM:PF02899][INTERPRO:IPR0...         None  \n",
       "..                                                 ...          ...  \n",
       "110                                 [ECOCYC:RNA0-432]          None  \n",
       "111                                 [ECOCYC:RNA0-434]          None  \n",
       "112                                 [ECOCYC:RNA0-435]          None  \n",
       "113                                 [ECOCYC:RNA0-436]          None  \n",
       "114                                 [ECOCYC:RNA0-440]          None  \n",
       "\n",
       "[115 rows x 17 columns]"
      ]
     },
     "execution_count": 12,
     "metadata": {},
     "output_type": "execute_result"
    }
   ],
   "source": [
    "not_in_wikidata"
   ]
  },
  {
   "cell_type": "code",
   "execution_count": 145,
   "id": "2ed7a953",
   "metadata": {},
   "outputs": [],
   "source": [
    "def transform_json(jsonn):\n",
    "    jsonn_str = str(jsonn)\n",
    "    return jsonn_str.replace(\"'\", \"\\\"\")"
   ]
  },
  {
   "cell_type": "code",
   "execution_count": 154,
   "id": "0edb210f",
   "metadata": {},
   "outputs": [
    {
     "name": "stdout",
     "output_type": "stream",
     "text": [
      "Created item ID: Q124267477\n"
     ]
    }
   ],
   "source": [
    "import requests\n",
    "# Set up your OAuth credentials\n",
    "self.username = \"\"\n",
    "self.password = \"\"\n",
    "wikidata_api_url = \"https://www.wikidata.org/w/api.php\"\n",
    "\n",
    "# Step 1: Get an OAuth token\n",
    "session = requests.Session()\n",
    "login_token_request = session.get(\n",
    "    wikidata_api_url,\n",
    "    params={\n",
    "        \"action\": \"query\",\n",
    "        \"meta\": \"tokens\",\n",
    "        \"type\": \"login\",\n",
    "        \"format\": \"json\",\n",
    "    },\n",
    ")\n",
    "login_token = login_token_request.json()[\"query\"][\"tokens\"][\"logintoken\"]\n",
    "\n",
    "# Step 2: Log in to get a session token\n",
    "login_request = session.post(\n",
    "    wikidata_api_url,\n",
    "    data={\n",
    "        \"action\": \"login\",\n",
    "        \"lgname\": username,\n",
    "        \"lgpassword\": password,\n",
    "        \"lgtoken\": login_token,\n",
    "        \"format\": \"json\",\n",
    "    },\n",
    ")\n",
    "assert login_request.json()[\"login\"][\"result\"] == \"Success\"\n",
    "\n",
    "# Step 3: Get an edit token\n",
    "edit_token_request = session.get(\n",
    "    wikidata_api_url,\n",
    "    params={\n",
    "        \"action\": \"query\",\n",
    "        \"meta\": \"tokens\",\n",
    "        \"format\": \"json\",\n",
    "    },\n",
    ")\n",
    "edit_token = edit_token_request.json()[\"query\"][\"tokens\"][\"csrftoken\"]\n",
    "\n",
    "# Step 4: Create a new item\n",
    "new_item_data = {\n",
    "    \"labels\": {\"en\": {\"language\" : \"en\", \"value\" : \"minz pracus\"}},\n",
    "    \"descriptions\": {\"en\": {\"language\" : \"en\", \"value\" : \"gambling king\"}},\n",
    "}\n",
    "\n",
    "\n",
    "\n",
    "create_item_request = session.post(\n",
    "    wikidata_api_url,\n",
    "    data={\n",
    "    \"action\": \"wbeditentity\",\n",
    "    \"format\": \"json\",\n",
    "    \"new\": \"item\",\n",
    "    \"token\": edit_token,\n",
    "    \"data\": transform_json(new_item_data),\n",
    "    \"formatversion\": \"2\"\n",
    "},\n",
    ")\n",
    "created_item_id = create_item_request.json().get(\"entity\", {}).get(\"id\")\n",
    "\n",
    "# Display the created item ID\n",
    "print(\"Created item ID:\", created_item_id)"
   ]
  },
  {
   "cell_type": "code",
   "execution_count": null,
   "id": "5c80043c",
   "metadata": {},
   "outputs": [],
   "source": []
  },
  {
   "cell_type": "code",
   "execution_count": 3,
   "id": "e225913c",
   "metadata": {},
   "outputs": [
    {
     "data": {
      "text/html": [
       "<style>.container { width:100% !important; }</style>"
      ],
      "text/plain": [
       "<IPython.core.display.HTML object>"
      ]
     },
     "metadata": {},
     "output_type": "display_data"
    }
   ],
   "source": [
    "from IPython.display import display, HTML\n",
    "display(HTML(\"<style>.container { width:100% !important; }</style>\"))\n",
    "import pandas as pd\n",
    "import numpy as np\n",
    "import requests\n",
    "import json\n",
    "\n",
    "class WikidataClient:\n",
    "    \n",
    "    def __init__(self, username, password):\n",
    "        self.username = username\n",
    "        self.password = password\n",
    "        self.wikidata_api_url = \"https://www.wikidata.org/w/api.php\"\n",
    "        self.session = requests.Session()\n",
    "        self.login_token = self.authenticate()\n",
    "        self.edit_token = self.get_edit_token()\n",
    "    \n",
    "    def transform_json(self, jsonn):\n",
    "        jsonn_str = str(jsonn)\n",
    "        return jsonn_str.replace(\"'\", \"\\\"\")\n",
    "\n",
    "    def authenticate(self):\n",
    "        login_token_response = self.session.get(\n",
    "            self.wikidata_api_url,\n",
    "            params={\n",
    "                \"action\": \"query\",\n",
    "                \"meta\": \"tokens\",\n",
    "                \"type\": \"login\",\n",
    "                \"format\": \"json\",\n",
    "            },\n",
    "        )\n",
    "        login_token = login_token_response.json()[\"query\"][\"tokens\"][\"logintoken\"]\n",
    "        return login_token\n",
    "        \n",
    "    def get_session_token(self):\n",
    "        login_response = self.session.post(\n",
    "            self.wikidata_api_url,\n",
    "            data={\n",
    "                \"action\": \"login\",\n",
    "                \"lgname\": self.username,\n",
    "                \"lgpassword\": self.password,\n",
    "                \"lgtoken\": self.login_token,\n",
    "                \"format\": \"json\",\n",
    "            },\n",
    "        )\n",
    "        assert login_response.json()[\"login\"][\"result\"] == \"Success\"\n",
    "    \n",
    "    def get_edit_token(self):\n",
    "        edit_token_response = self.session.get(\n",
    "            self.wikidata_api_url,\n",
    "            params={\n",
    "                \"action\": \"query\",\n",
    "                \"meta\": \"tokens\",\n",
    "                \"format\": \"json\",\n",
    "            },\n",
    "        )\n",
    "        edit_token = edit_token_response.json()[\"query\"][\"tokens\"][\"csrftoken\"]\n",
    "        return edit_token\n",
    "\n",
    "    def create_new_item(self, language, label, description):\n",
    "        new_item_data = {\n",
    "            \"labels\": {language: {\"language\" : language, \"value\" : label}},\n",
    "            \"descriptions\": {language: {\"language\" : language, \"value\" : description}},\n",
    "        }\n",
    "        create_item_response = self.session.post(\n",
    "            self.wikidata_api_url,\n",
    "            data={\n",
    "                \"action\": \"wbeditentity\",\n",
    "                \"format\": \"json\",\n",
    "                \"new\": \"item\",\n",
    "                \"token\": self.edit_token,\n",
    "                \"data\": self.transform_json(new_item_data),\n",
    "                \"formatversion\": \"2\"\n",
    "            },\n",
    "        )\n",
    "        created_item_id = create_item_response.json().get(\"entity\", {}).get(\"id\")\n",
    "        return created_item_id\n",
    "    \n",
    "    def get_entity_by_id(self, ID, language):\n",
    "        get_entity_response = self.session.get(\n",
    "            self.wikidata_api_url,\n",
    "            params={\n",
    "                \"action\": \"wbgetentities\",\n",
    "                \"format\": \"json\",\n",
    "                \"ids\": ID,\n",
    "                \"languages\": language,\n",
    "                \"formatversion\": \"2\"\n",
    "            },\n",
    "        )\n",
    "        return get_entity_response.json()\n",
    "    "
   ]
  },
  {
   "cell_type": "code",
   "execution_count": 4,
   "id": "8ea73572",
   "metadata": {},
   "outputs": [],
   "source": [
    "client = WikidataClient()"
   ]
  },
  {
   "cell_type": "code",
   "execution_count": null,
   "id": "335c2380",
   "metadata": {},
   "outputs": [],
   "source": []
  },
  {
   "cell_type": "code",
   "execution_count": null,
   "id": "5fdb4bfe",
   "metadata": {},
   "outputs": [],
   "source": []
  },
  {
   "cell_type": "code",
   "execution_count": null,
   "id": "9e7cf296",
   "metadata": {},
   "outputs": [],
   "source": []
  },
  {
   "cell_type": "code",
   "execution_count": null,
   "id": "f34f1ddd",
   "metadata": {},
   "outputs": [],
   "source": []
  },
  {
   "cell_type": "code",
   "execution_count": null,
   "id": "58feb1e7",
   "metadata": {},
   "outputs": [],
   "source": []
  },
  {
   "cell_type": "code",
   "execution_count": null,
   "id": "971e2439",
   "metadata": {},
   "outputs": [],
   "source": []
  },
  {
   "cell_type": "code",
   "execution_count": null,
   "id": "84541343",
   "metadata": {},
   "outputs": [],
   "source": []
  },
  {
   "cell_type": "code",
   "execution_count": null,
   "id": "a89a76cc",
   "metadata": {},
   "outputs": [],
   "source": []
  },
  {
   "cell_type": "code",
   "execution_count": null,
   "id": "ecb9fa96",
   "metadata": {},
   "outputs": [],
   "source": []
  },
  {
   "cell_type": "code",
   "execution_count": 72,
   "id": "1b184acc",
   "metadata": {},
   "outputs": [
    {
     "data": {
      "text/plain": [
       "<Response [200]>"
      ]
     },
     "execution_count": 72,
     "metadata": {},
     "output_type": "execute_result"
    }
   ],
   "source": [
    "create_item_request"
   ]
  },
  {
   "cell_type": "code",
   "execution_count": 16,
   "id": "12c7122a",
   "metadata": {},
   "outputs": [
    {
     "data": {
      "text/plain": [
       "'d7fa3286ce9067c5320eb9c187627fa265a2b4de+\\\\'"
      ]
     },
     "execution_count": 16,
     "metadata": {},
     "output_type": "execute_result"
    }
   ],
   "source": [
    "login_token"
   ]
  },
  {
   "cell_type": "code",
   "execution_count": 17,
   "id": "a847089f",
   "metadata": {},
   "outputs": [
    {
     "data": {
      "text/plain": [
       "'6a0c01deaf429734df710b4533ebc64e65a2b4df+\\\\'"
      ]
     },
     "execution_count": 17,
     "metadata": {},
     "output_type": "execute_result"
    }
   ],
   "source": [
    "edit_token"
   ]
  },
  {
   "cell_type": "code",
   "execution_count": 94,
   "id": "03bd7e84",
   "metadata": {},
   "outputs": [
    {
     "data": {
      "text/plain": [
       "{'entity': {'type': 'item',\n",
       "  'id': 'Q124262825',\n",
       "  'labels': {'de': {'language': 'de', 'value': 'de-value'},\n",
       "   'en': {'language': 'en', 'value': 'en-value'}},\n",
       "  'descriptions': {},\n",
       "  'aliases': {},\n",
       "  'claims': {},\n",
       "  'sitelinks': {},\n",
       "  'lastrevid': 2052878251},\n",
       " 'success': 1}"
      ]
     },
     "execution_count": 94,
     "metadata": {},
     "output_type": "execute_result"
    }
   ],
   "source": [
    "create_item_request.json()"
   ]
  },
  {
   "cell_type": "code",
   "execution_count": 28,
   "id": "da398e14",
   "metadata": {},
   "outputs": [],
   "source": [
    "created_item_id"
   ]
  },
  {
   "cell_type": "code",
   "execution_count": null,
   "id": "cfa941b1",
   "metadata": {},
   "outputs": [],
   "source": []
  },
  {
   "cell_type": "code",
   "execution_count": null,
   "id": "417532d0",
   "metadata": {},
   "outputs": [],
   "source": []
  },
  {
   "cell_type": "code",
   "execution_count": null,
   "id": "2bf5091d",
   "metadata": {},
   "outputs": [],
   "source": []
  },
  {
   "cell_type": "code",
   "execution_count": null,
   "id": "e1fbe1ee",
   "metadata": {},
   "outputs": [],
   "source": []
  },
  {
   "cell_type": "code",
   "execution_count": null,
   "id": "014111c8",
   "metadata": {},
   "outputs": [],
   "source": []
  },
  {
   "cell_type": "code",
   "execution_count": null,
   "id": "9016e75a",
   "metadata": {},
   "outputs": [],
   "source": []
  },
  {
   "cell_type": "code",
   "execution_count": null,
   "id": "574c8329",
   "metadata": {},
   "outputs": [],
   "source": []
  },
  {
   "cell_type": "code",
   "execution_count": null,
   "id": "379d994a",
   "metadata": {},
   "outputs": [],
   "source": []
  }
 ],
 "metadata": {
  "kernelspec": {
   "display_name": "Python 3",
   "language": "python",
   "name": "python3"
  },
  "language_info": {
   "codemirror_mode": {
    "name": "ipython",
    "version": 3
   },
   "file_extension": ".py",
   "mimetype": "text/x-python",
   "name": "python",
   "nbconvert_exporter": "python",
   "pygments_lexer": "ipython3",
   "version": "3.8.5"
  }
 },
 "nbformat": 4,
 "nbformat_minor": 5
}
