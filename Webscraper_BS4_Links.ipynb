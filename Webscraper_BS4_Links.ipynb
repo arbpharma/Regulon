{
 "cells": [
  {
   "cell_type": "code",
   "execution_count": 7,
   "id": "84004ac8",
   "metadata": {},
   "outputs": [],
   "source": [
    "import requests as re\n",
    "from bs4 import BeautifulSoup as bs4\n",
    "import pandas as pd\n",
    "import json"
   ]
  },
  {
   "cell_type": "code",
   "execution_count": null,
   "id": "687bca2e",
   "metadata": {},
   "outputs": [],
   "source": [
    "https://regulondb.ccg.unam.mx/regulon"
   ]
  },
  {
   "cell_type": "code",
   "execution_count": 8,
   "id": "fa47c5e9",
   "metadata": {},
   "outputs": [],
   "source": [
    "with open(\"regulon_web_name.json\", \"r\") as f:\n",
    "    data = json.load(f)    "
   ]
  },
  {
   "cell_type": "code",
   "execution_count": 31,
   "id": "682c3c25",
   "metadata": {},
   "outputs": [
    {
     "data": {
      "text/plain": [
       "284"
      ]
     },
     "execution_count": 31,
     "metadata": {},
     "output_type": "execute_result"
    }
   ],
   "source": [
    "len(data[\"data\"][\"getAllRegulon\"][\"data\"])"
   ]
  },
  {
   "cell_type": "code",
   "execution_count": 28,
   "id": "fffc6497",
   "metadata": {},
   "outputs": [
    {
     "data": {
      "text/plain": [
       "{'_id': 'RDBECOLITFC00001',\n",
       " 'regulator': {'name': 'DNA-binding transcriptional repressor ExuR',\n",
       "  'abbreviatedName': 'ExuR',\n",
       "  '__typename': 'Regulator'},\n",
       " 'summary': {'bindingSites': {'total': 14, '__typename': 'SummaryObject'},\n",
       "  'genes': {'total': 10, '__typename': 'SummaryObject'},\n",
       "  'operons': {'total': 7, '__typename': 'SummaryObject'},\n",
       "  'regulatoryInteractions': {'total': 14, '__typename': 'SummaryObject'},\n",
       "  'sigmaFactors': {'total': 2, '__typename': 'SummaryObject'},\n",
       "  'transcriptionFactors': {'total': 1, '__typename': 'SummaryObject'},\n",
       "  'transcriptionUnits': {'total': 7, '__typename': 'SummaryObject'},\n",
       "  '__typename': 'Summary'},\n",
       " '__typename': 'RegulonDatamart'}"
      ]
     },
     "execution_count": 28,
     "metadata": {},
     "output_type": "execute_result"
    }
   ],
   "source": [
    "data[\"data\"][\"getAllRegulon\"][\"data\"][i][\"_id\"]\n",
    "data[\"data\"][\"getAllRegulon\"][\"data\"][i][\"regulator\"][\"abbreviatedName\"]"
   ]
  },
  {
   "cell_type": "code",
   "execution_count": 40,
   "id": "4cbcc753",
   "metadata": {},
   "outputs": [],
   "source": [
    "link = []\n",
    "name = []\n",
    "for i in range(0,len(data[\"data\"][\"getAllRegulon\"][\"data\"])):\n",
    "    link.append(data[\"data\"][\"getAllRegulon\"][\"data\"][i][\"_id\"])\n",
    "    name.append(data[\"data\"][\"getAllRegulon\"][\"data\"][i][\"regulator\"][\"abbreviatedName\"])               "
   ]
  },
  {
   "cell_type": "code",
   "execution_count": 44,
   "id": "c8af09fa",
   "metadata": {},
   "outputs": [],
   "source": [
    "df = pd.DataFrame({\"name\": name, \"link\" : link})"
   ]
  },
  {
   "cell_type": "code",
   "execution_count": 55,
   "id": "b027e0f1",
   "metadata": {},
   "outputs": [
    {
     "data": {
      "text/html": [
       "<div>\n",
       "<style scoped>\n",
       "    .dataframe tbody tr th:only-of-type {\n",
       "        vertical-align: middle;\n",
       "    }\n",
       "\n",
       "    .dataframe tbody tr th {\n",
       "        vertical-align: top;\n",
       "    }\n",
       "\n",
       "    .dataframe thead th {\n",
       "        text-align: right;\n",
       "    }\n",
       "</style>\n",
       "<table border=\"1\" class=\"dataframe\">\n",
       "  <thead>\n",
       "    <tr style=\"text-align: right;\">\n",
       "      <th></th>\n",
       "      <th>name</th>\n",
       "      <th>link</th>\n",
       "    </tr>\n",
       "  </thead>\n",
       "  <tbody>\n",
       "    <tr>\n",
       "      <th>0</th>\n",
       "      <td>ExuR</td>\n",
       "      <td>RDBECOLITFC00001</td>\n",
       "    </tr>\n",
       "    <tr>\n",
       "      <th>1</th>\n",
       "      <td>AsnC</td>\n",
       "      <td>RDBECOLITFC00002</td>\n",
       "    </tr>\n",
       "    <tr>\n",
       "      <th>2</th>\n",
       "      <td>Dan</td>\n",
       "      <td>RDBECOLITFC00003</td>\n",
       "    </tr>\n",
       "    <tr>\n",
       "      <th>3</th>\n",
       "      <td>EbgR</td>\n",
       "      <td>RDBECOLITFC00004</td>\n",
       "    </tr>\n",
       "    <tr>\n",
       "      <th>4</th>\n",
       "      <td>AgaR</td>\n",
       "      <td>RDBECOLITFC00005</td>\n",
       "    </tr>\n",
       "    <tr>\n",
       "      <th>...</th>\n",
       "      <td>...</td>\n",
       "      <td>...</td>\n",
       "    </tr>\n",
       "    <tr>\n",
       "      <th>279</th>\n",
       "      <td>FimR2</td>\n",
       "      <td>RDBECOLIPDC04657</td>\n",
       "    </tr>\n",
       "    <tr>\n",
       "      <th>280</th>\n",
       "      <td>GlnZ</td>\n",
       "      <td>RDBECOLIPDC04658</td>\n",
       "    </tr>\n",
       "    <tr>\n",
       "      <th>281</th>\n",
       "      <td>AsflhD</td>\n",
       "      <td>RDBECOLIPDC04659</td>\n",
       "    </tr>\n",
       "    <tr>\n",
       "      <th>282</th>\n",
       "      <td>StfZ</td>\n",
       "      <td>RDBECOLIPDC04660</td>\n",
       "    </tr>\n",
       "    <tr>\n",
       "      <th>283</th>\n",
       "      <td>AmeF</td>\n",
       "      <td>RDBECOLIPDC04664</td>\n",
       "    </tr>\n",
       "  </tbody>\n",
       "</table>\n",
       "<p>284 rows × 2 columns</p>\n",
       "</div>"
      ],
      "text/plain": [
       "       name              link\n",
       "0      ExuR  RDBECOLITFC00001\n",
       "1      AsnC  RDBECOLITFC00002\n",
       "2       Dan  RDBECOLITFC00003\n",
       "3      EbgR  RDBECOLITFC00004\n",
       "4      AgaR  RDBECOLITFC00005\n",
       "..      ...               ...\n",
       "279   FimR2  RDBECOLIPDC04657\n",
       "280    GlnZ  RDBECOLIPDC04658\n",
       "281  AsflhD  RDBECOLIPDC04659\n",
       "282    StfZ  RDBECOLIPDC04660\n",
       "283    AmeF  RDBECOLIPDC04664\n",
       "\n",
       "[284 rows x 2 columns]"
      ]
     },
     "execution_count": 55,
     "metadata": {},
     "output_type": "execute_result"
    }
   ],
   "source": [
    "df"
   ]
  },
  {
   "cell_type": "code",
   "execution_count": null,
   "id": "18941195",
   "metadata": {},
   "outputs": [],
   "source": []
  },
  {
   "cell_type": "code",
   "execution_count": null,
   "id": "f23af044",
   "metadata": {},
   "outputs": [],
   "source": []
  },
  {
   "cell_type": "code",
   "execution_count": null,
   "id": "62da90c0",
   "metadata": {},
   "outputs": [],
   "source": []
  },
  {
   "cell_type": "code",
   "execution_count": null,
   "id": "873e222d",
   "metadata": {},
   "outputs": [],
   "source": []
  },
  {
   "cell_type": "code",
   "execution_count": null,
   "id": "629ca17b",
   "metadata": {},
   "outputs": [],
   "source": []
  }
 ],
 "metadata": {
  "kernelspec": {
   "display_name": "Python 3 (ipykernel)",
   "language": "python",
   "name": "python3"
  },
  "language_info": {
   "codemirror_mode": {
    "name": "ipython",
    "version": 3
   },
   "file_extension": ".py",
   "mimetype": "text/x-python",
   "name": "python",
   "nbconvert_exporter": "python",
   "pygments_lexer": "ipython3",
   "version": "3.10.9"
  }
 },
 "nbformat": 4,
 "nbformat_minor": 5
}
