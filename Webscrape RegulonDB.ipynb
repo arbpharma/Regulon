{
 "cells": [
  {
   "cell_type": "code",
   "execution_count": 1,
   "id": "990e5e1f",
   "metadata": {},
   "outputs": [],
   "source": [
    "from selenium import webdriver\n",
    "from selenium.webdriver.common.by import By\n",
    "from selenium.webdriver.support import expected_conditions as EC\n",
    "from selenium.webdriver.common.action_chains import ActionChains\n",
    "from selenium.webdriver.support.ui import WebDriverWait\n",
    "import pandas as pd\n",
    "import json\n",
    "import time\n",
    "import os\n"
   ]
  },
  {
   "cell_type": "code",
   "execution_count": 45,
   "id": "2c38cdb5",
   "metadata": {},
   "outputs": [],
   "source": [
    "chrome_options = webdriver.ChromeOptions()\n",
    "#chrome_options.add_argument(\"--headless\")\n",
    "chrome_options.add_argument(\"--no-sandbox\")\n",
    "chrome_options.add_argument('--window-size=1920,1080')\n",
    "chrome_options.add_experimental_option(\"prefs\", {\n",
    "    \"download.prompt_for_download\": False,\n",
    "    \"download.directory_upgrade\": True,\n",
    "    \"safebrowsing.enabled\": True\n",
    "})\n",
    "driver = webdriver.Chrome(options=chrome_options)\n",
    "actions = ActionChains(driver)\n",
    "\n",
    "driver.get(\"https://regulondb.ccg.unam.mx/regulon\")\n",
    "\n",
    "\n",
    "# Cookies Rejecten\n",
    "WebDriverWait(driver, 5).until(EC.element_to_be_clickable((By.XPATH,'/html/body/div[1]/div/div[4]/div/div[3]/button[2]'))).click()\n",
    "\n",
    "\n",
    "# Get Table Body\n",
    "table_body = WebDriverWait(driver, 5).until(EC.visibility_of_element_located((By.XPATH,'/html/body/div[1]/div/div[2]/div/div[2]/div/div[3]/div/table/tbody')))    "
   ]
  },
  {
   "cell_type": "code",
   "execution_count": 66,
   "id": "84d4b03f",
   "metadata": {},
   "outputs": [],
   "source": [
    "elements = table_body.find_elements(By.XPATH,\".//*[contains(@id, 'tr')]\")"
   ]
  },
  {
   "cell_type": "code",
   "execution_count": 67,
   "id": "f3063fcd",
   "metadata": {},
   "outputs": [
    {
     "data": {
      "text/plain": [
       "18"
      ]
     },
     "execution_count": 67,
     "metadata": {},
     "output_type": "execute_result"
    }
   ],
   "source": [
    "len(elements)"
   ]
  },
  {
   "cell_type": "code",
   "execution_count": 85,
   "id": "8880747c",
   "metadata": {},
   "outputs": [
    {
     "data": {
      "text/plain": [
       "'https://regulondb.ccg.unam.mx/regulon/RDBECOLIPDC00328'"
      ]
     },
     "execution_count": 85,
     "metadata": {},
     "output_type": "execute_result"
    }
   ],
   "source": [
    "elements[1].find_elements(By.XPATH,\".//*\")[0].find_element(By.XPATH,\"div/div/a\").get_attribute(\"href\")"
   ]
  },
  {
   "cell_type": "code",
   "execution_count": null,
   "id": "50abfca8",
   "metadata": {},
   "outputs": [],
   "source": []
  },
  {
   "cell_type": "code",
   "execution_count": null,
   "id": "0ba9940b",
   "metadata": {},
   "outputs": [],
   "source": []
  },
  {
   "cell_type": "code",
   "execution_count": null,
   "id": "a1d1febf",
   "metadata": {},
   "outputs": [],
   "source": []
  },
  {
   "cell_type": "code",
   "execution_count": null,
   "id": "a8bfef0e",
   "metadata": {},
   "outputs": [],
   "source": []
  },
  {
   "cell_type": "code",
   "execution_count": null,
   "id": "efaf0e71",
   "metadata": {},
   "outputs": [],
   "source": []
  },
  {
   "cell_type": "code",
   "execution_count": null,
   "id": "f2718a72",
   "metadata": {},
   "outputs": [],
   "source": []
  },
  {
   "cell_type": "code",
   "execution_count": null,
   "id": "b9d76a70",
   "metadata": {},
   "outputs": [],
   "source": []
  },
  {
   "cell_type": "code",
   "execution_count": null,
   "id": "44eccfbf",
   "metadata": {},
   "outputs": [],
   "source": []
  }
 ],
 "metadata": {
  "kernelspec": {
   "display_name": "Python 3 (ipykernel)",
   "language": "python",
   "name": "python3"
  },
  "language_info": {
   "codemirror_mode": {
    "name": "ipython",
    "version": 3
   },
   "file_extension": ".py",
   "mimetype": "text/x-python",
   "name": "python",
   "nbconvert_exporter": "python",
   "pygments_lexer": "ipython3",
   "version": "3.10.9"
  }
 },
 "nbformat": 4,
 "nbformat_minor": 5
}
